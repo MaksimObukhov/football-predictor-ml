{
 "cells": [
  {
   "cell_type": "code",
   "metadata": {
    "source_hash": null,
    "execution_start": 1702769826447,
    "execution_millis": 9,
    "deepnote_to_be_reexecuted": false,
    "cell_id": "c7e2536f378b47c68e73312e32860ac7",
    "deepnote_cell_type": "code"
   },
   "source": [
    "import pandas as pd\n",
    "from sklearn.ensemble import RandomForestClassifier\n",
    "from sklearn.linear_model import LogisticRegression\n",
    "from sklearn.model_selection import train_test_split\n",
    "from sklearn import metrics\n",
    "from sklearn.metrics import f1_score\n",
    "from sklearn.metrics import confusion_matrix, classification_report\n",
    "from sklearn.svm import SVC\n",
    "from sklearn.tree import DecisionTreeClassifier"
   ],
   "block_group": "c8453162cd6b4f95809d9c75503e3c09",
   "execution_count": null,
   "outputs": []
  },
  {
   "cell_type": "code",
   "metadata": {
    "source_hash": null,
    "execution_start": 1702775185506,
    "execution_millis": 1557,
    "deepnote_to_be_reexecuted": false,
    "cell_id": "12867a571f834f04b5e14727b97e3410",
    "deepnote_cell_type": "code"
   },
   "source": [
    "data_train = pd.read_csv(\"train_df.csv\")\n",
    "data_train.head()"
   ],
   "block_group": "3ce14596776342339a37e65671a9a840",
   "execution_count": null,
   "outputs": [
    {
     "output_type": "execute_result",
     "execution_count": 109,
     "data": {
      "application/vnd.deepnote.dataframe.v3+json": {
       "column_count": 36,
       "row_count": 5,
       "columns": [
        {
         "name": "Country",
         "dtype": "object",
         "stats": {
          "unique_count": 1,
          "nan_count": 0,
          "categories": [
           {
            "name": "belgium",
            "count": 5
           }
          ]
         }
        },
        {
         "name": "League",
         "dtype": "int64",
         "stats": {
          "unique_count": 1,
          "nan_count": 0,
          "min": "1",
          "max": "1",
          "histogram": [
           {
            "bin_start": 0.5,
            "bin_end": 0.6,
            "count": 0
           },
           {
            "bin_start": 0.6,
            "bin_end": 0.7,
            "count": 0
           },
           {
            "bin_start": 0.7,
            "bin_end": 0.8,
            "count": 0
           },
           {
            "bin_start": 0.8,
            "bin_end": 0.9,
            "count": 0
           },
           {
            "bin_start": 0.9,
            "bin_end": 1,
            "count": 0
           },
           {
            "bin_start": 1,
            "bin_end": 1.1,
            "count": 5
           },
           {
            "bin_start": 1.1,
            "bin_end": 1.2000000000000002,
            "count": 0
           },
           {
            "bin_start": 1.2000000000000002,
            "bin_end": 1.3,
            "count": 0
           },
           {
            "bin_start": 1.3,
            "bin_end": 1.4,
            "count": 0
           },
           {
            "bin_start": 1.4,
            "bin_end": 1.5,
            "count": 0
           }
          ]
         }
        },
        {
         "name": "Season",
         "dtype": "int64",
         "stats": {
          "unique_count": 1,
          "nan_count": 0,
          "min": "1920",
          "max": "1920",
          "histogram": [
           {
            "bin_start": 1919.5,
            "bin_end": 1919.6,
            "count": 0
           },
           {
            "bin_start": 1919.6,
            "bin_end": 1919.7,
            "count": 0
           },
           {
            "bin_start": 1919.7,
            "bin_end": 1919.8,
            "count": 0
           },
           {
            "bin_start": 1919.8,
            "bin_end": 1919.9,
            "count": 0
           },
           {
            "bin_start": 1919.9,
            "bin_end": 1920,
            "count": 0
           },
           {
            "bin_start": 1920,
            "bin_end": 1920.1,
            "count": 5
           },
           {
            "bin_start": 1920.1,
            "bin_end": 1920.2,
            "count": 0
           },
           {
            "bin_start": 1920.2,
            "bin_end": 1920.3,
            "count": 0
           },
           {
            "bin_start": 1920.3,
            "bin_end": 1920.4,
            "count": 0
           },
           {
            "bin_start": 1920.4,
            "bin_end": 1920.5,
            "count": 0
           }
          ]
         }
        },
        {
         "name": "Match_Date",
         "dtype": "object",
         "stats": {
          "unique_count": 2,
          "nan_count": 0,
          "categories": [
           {
            "name": "2019-07-27",
            "count": 4
           },
           {
            "name": "2019-07-26",
            "count": 1
           }
          ]
         }
        },
        {
         "name": "Home_Team",
         "dtype": "object",
         "stats": {
          "unique_count": 5,
          "nan_count": 0,
          "categories": [
           {
            "name": "Genk",
            "count": 1
           },
           {
            "name": "Waasland-Beveren",
            "count": 1
           },
           {
            "name": "3 others",
            "count": 3
           }
          ]
         }
        },
        {
         "name": "Away_Team",
         "dtype": "object",
         "stats": {
          "unique_count": 5,
          "nan_count": 0,
          "categories": [
           {
            "name": "Kortrijk",
            "count": 1
           },
           {
            "name": "Club Brugge",
            "count": 1
           },
           {
            "name": "3 others",
            "count": 3
           }
          ]
         }
        },
        {
         "name": "Full_Time_Home_Team_Goals",
         "dtype": "float64",
         "stats": {
          "unique_count": 3,
          "nan_count": 0,
          "min": "0.0",
          "max": "2.0",
          "histogram": [
           {
            "bin_start": 0,
            "bin_end": 0.2,
            "count": 3
           },
           {
            "bin_start": 0.2,
            "bin_end": 0.4,
            "count": 0
           },
           {
            "bin_start": 0.4,
            "bin_end": 0.6000000000000001,
            "count": 0
           },
           {
            "bin_start": 0.6000000000000001,
            "bin_end": 0.8,
            "count": 0
           },
           {
            "bin_start": 0.8,
            "bin_end": 1,
            "count": 0
           },
           {
            "bin_start": 1,
            "bin_end": 1.2000000000000002,
            "count": 1
           },
           {
            "bin_start": 1.2000000000000002,
            "bin_end": 1.4000000000000001,
            "count": 0
           },
           {
            "bin_start": 1.4000000000000001,
            "bin_end": 1.6,
            "count": 0
           },
           {
            "bin_start": 1.6,
            "bin_end": 1.8,
            "count": 0
           },
           {
            "bin_start": 1.8,
            "bin_end": 2,
            "count": 1
           }
          ]
         }
        },
        {
         "name": "Full_Time_Away_Team_Goals",
         "dtype": "float64",
         "stats": {
          "unique_count": 3,
          "nan_count": 0,
          "min": "1.0",
          "max": "3.0",
          "histogram": [
           {
            "bin_start": 1,
            "bin_end": 1.2,
            "count": 2
           },
           {
            "bin_start": 1.2,
            "bin_end": 1.4,
            "count": 0
           },
           {
            "bin_start": 1.4,
            "bin_end": 1.6,
            "count": 0
           },
           {
            "bin_start": 1.6,
            "bin_end": 1.8,
            "count": 0
           },
           {
            "bin_start": 1.8,
            "bin_end": 2,
            "count": 0
           },
           {
            "bin_start": 2,
            "bin_end": 2.2,
            "count": 2
           },
           {
            "bin_start": 2.2,
            "bin_end": 2.4000000000000004,
            "count": 0
           },
           {
            "bin_start": 2.4000000000000004,
            "bin_end": 2.6,
            "count": 0
           },
           {
            "bin_start": 2.6,
            "bin_end": 2.8,
            "count": 0
           },
           {
            "bin_start": 2.8,
            "bin_end": 3,
            "count": 1
           }
          ]
         }
        },
        {
         "name": "Full_Time_Result",
         "dtype": "object",
         "stats": {
          "unique_count": 2,
          "nan_count": 0,
          "categories": [
           {
            "name": "A",
            "count": 4
           },
           {
            "name": "H",
            "count": 1
           }
          ]
         }
        },
        {
         "name": "Home_Team_Shots",
         "dtype": "float64",
         "stats": {
          "unique_count": 3,
          "nan_count": 0,
          "min": "7.0",
          "max": "13.0",
          "histogram": [
           {
            "bin_start": 7,
            "bin_end": 7.6,
            "count": 2
           },
           {
            "bin_start": 7.6,
            "bin_end": 8.2,
            "count": 0
           },
           {
            "bin_start": 8.2,
            "bin_end": 8.8,
            "count": 0
           },
           {
            "bin_start": 8.8,
            "bin_end": 9.4,
            "count": 0
           },
           {
            "bin_start": 9.4,
            "bin_end": 10,
            "count": 0
           },
           {
            "bin_start": 10,
            "bin_end": 10.6,
            "count": 2
           },
           {
            "bin_start": 10.6,
            "bin_end": 11.2,
            "count": 0
           },
           {
            "bin_start": 11.2,
            "bin_end": 11.8,
            "count": 0
           },
           {
            "bin_start": 11.8,
            "bin_end": 12.399999999999999,
            "count": 0
           },
           {
            "bin_start": 12.399999999999999,
            "bin_end": 13,
            "count": 1
           }
          ]
         }
        },
        {
         "name": "Away_Team_Shots",
         "dtype": "float64",
         "stats": {
          "unique_count": 4,
          "nan_count": 0,
          "min": "8.0",
          "max": "25.0",
          "histogram": [
           {
            "bin_start": 8,
            "bin_end": 9.7,
            "count": 1
           },
           {
            "bin_start": 9.7,
            "bin_end": 11.4,
            "count": 2
           },
           {
            "bin_start": 11.4,
            "bin_end": 13.1,
            "count": 0
           },
           {
            "bin_start": 13.1,
            "bin_end": 14.8,
            "count": 1
           },
           {
            "bin_start": 14.8,
            "bin_end": 16.5,
            "count": 0
           },
           {
            "bin_start": 16.5,
            "bin_end": 18.2,
            "count": 0
           },
           {
            "bin_start": 18.2,
            "bin_end": 19.9,
            "count": 0
           },
           {
            "bin_start": 19.9,
            "bin_end": 21.6,
            "count": 0
           },
           {
            "bin_start": 21.6,
            "bin_end": 23.299999999999997,
            "count": 0
           },
           {
            "bin_start": 23.299999999999997,
            "bin_end": 25,
            "count": 1
           }
          ]
         }
        },
        {
         "name": "Home_Team_Shots_on_Target",
         "dtype": "float64",
         "stats": {
          "unique_count": 3,
          "nan_count": 0,
          "min": "2.0",
          "max": "5.0",
          "histogram": [
           {
            "bin_start": 2,
            "bin_end": 2.3,
            "count": 3
           },
           {
            "bin_start": 2.3,
            "bin_end": 2.6,
            "count": 0
           },
           {
            "bin_start": 2.6,
            "bin_end": 2.9,
            "count": 0
           },
           {
            "bin_start": 2.9,
            "bin_end": 3.2,
            "count": 0
           },
           {
            "bin_start": 3.2,
            "bin_end": 3.5,
            "count": 0
           },
           {
            "bin_start": 3.5,
            "bin_end": 3.8,
            "count": 0
           },
           {
            "bin_start": 3.8,
            "bin_end": 4.1,
            "count": 1
           },
           {
            "bin_start": 4.1,
            "bin_end": 4.4,
            "count": 0
           },
           {
            "bin_start": 4.4,
            "bin_end": 4.699999999999999,
            "count": 0
           },
           {
            "bin_start": 4.699999999999999,
            "bin_end": 5,
            "count": 1
           }
          ]
         }
        },
        {
         "name": "Away_Team_Shots_on_Target",
         "dtype": "float64",
         "stats": {
          "unique_count": 5,
          "nan_count": 0,
          "min": "4.0",
          "max": "22.0",
          "histogram": [
           {
            "bin_start": 4,
            "bin_end": 5.8,
            "count": 2
           },
           {
            "bin_start": 5.8,
            "bin_end": 7.6,
            "count": 1
           },
           {
            "bin_start": 7.6,
            "bin_end": 9.4,
            "count": 1
           },
           {
            "bin_start": 9.4,
            "bin_end": 11.2,
            "count": 0
           },
           {
            "bin_start": 11.2,
            "bin_end": 13,
            "count": 0
           },
           {
            "bin_start": 13,
            "bin_end": 14.8,
            "count": 0
           },
           {
            "bin_start": 14.8,
            "bin_end": 16.6,
            "count": 0
           },
           {
            "bin_start": 16.6,
            "bin_end": 18.4,
            "count": 0
           },
           {
            "bin_start": 18.4,
            "bin_end": 20.2,
            "count": 0
           },
           {
            "bin_start": 20.2,
            "bin_end": 22,
            "count": 1
           }
          ]
         }
        },
        {
         "name": "Home_Team_Corners",
         "dtype": "float64",
         "stats": {
          "unique_count": 5,
          "nan_count": 0,
          "min": "1.0",
          "max": "6.0",
          "histogram": [
           {
            "bin_start": 1,
            "bin_end": 1.5,
            "count": 1
           },
           {
            "bin_start": 1.5,
            "bin_end": 2,
            "count": 0
           },
           {
            "bin_start": 2,
            "bin_end": 2.5,
            "count": 0
           },
           {
            "bin_start": 2.5,
            "bin_end": 3,
            "count": 0
           },
           {
            "bin_start": 3,
            "bin_end": 3.5,
            "count": 1
           },
           {
            "bin_start": 3.5,
            "bin_end": 4,
            "count": 0
           },
           {
            "bin_start": 4,
            "bin_end": 4.5,
            "count": 1
           },
           {
            "bin_start": 4.5,
            "bin_end": 5,
            "count": 0
           },
           {
            "bin_start": 5,
            "bin_end": 5.5,
            "count": 1
           },
           {
            "bin_start": 5.5,
            "bin_end": 6,
            "count": 1
           }
          ]
         }
        },
        {
         "name": "Away_Team_Corners",
         "dtype": "float64",
         "stats": {
          "unique_count": 4,
          "nan_count": 0,
          "min": "2.0",
          "max": "14.0",
          "histogram": [
           {
            "bin_start": 2,
            "bin_end": 3.2,
            "count": 2
           },
           {
            "bin_start": 3.2,
            "bin_end": 4.4,
            "count": 0
           },
           {
            "bin_start": 4.4,
            "bin_end": 5.6,
            "count": 1
           },
           {
            "bin_start": 5.6,
            "bin_end": 6.8,
            "count": 0
           },
           {
            "bin_start": 6.8,
            "bin_end": 8,
            "count": 1
           },
           {
            "bin_start": 8,
            "bin_end": 9.2,
            "count": 0
           },
           {
            "bin_start": 9.2,
            "bin_end": 10.4,
            "count": 0
           },
           {
            "bin_start": 10.4,
            "bin_end": 11.6,
            "count": 0
           },
           {
            "bin_start": 11.6,
            "bin_end": 12.799999999999999,
            "count": 0
           },
           {
            "bin_start": 12.799999999999999,
            "bin_end": 14,
            "count": 1
           }
          ]
         }
        },
        {
         "name": "Home_Team_Yellow_Cards",
         "dtype": "float64",
         "stats": {
          "unique_count": 3,
          "nan_count": 0,
          "min": "0.0",
          "max": "3.0",
          "histogram": [
           {
            "bin_start": 0,
            "bin_end": 0.3,
            "count": 1
           },
           {
            "bin_start": 0.3,
            "bin_end": 0.6,
            "count": 0
           },
           {
            "bin_start": 0.6,
            "bin_end": 0.8999999999999999,
            "count": 0
           },
           {
            "bin_start": 0.8999999999999999,
            "bin_end": 1.2,
            "count": 0
           },
           {
            "bin_start": 1.2,
            "bin_end": 1.5,
            "count": 0
           },
           {
            "bin_start": 1.5,
            "bin_end": 1.7999999999999998,
            "count": 0
           },
           {
            "bin_start": 1.7999999999999998,
            "bin_end": 2.1,
            "count": 2
           },
           {
            "bin_start": 2.1,
            "bin_end": 2.4,
            "count": 0
           },
           {
            "bin_start": 2.4,
            "bin_end": 2.6999999999999997,
            "count": 0
           },
           {
            "bin_start": 2.6999999999999997,
            "bin_end": 3,
            "count": 2
           }
          ]
         }
        },
        {
         "name": "Away_Team_Yellow_Cards",
         "dtype": "float64",
         "stats": {
          "unique_count": 3,
          "nan_count": 0,
          "min": "1.0",
          "max": "4.0",
          "histogram": [
           {
            "bin_start": 1,
            "bin_end": 1.3,
            "count": 3
           },
           {
            "bin_start": 1.3,
            "bin_end": 1.6,
            "count": 0
           },
           {
            "bin_start": 1.6,
            "bin_end": 1.9,
            "count": 0
           },
           {
            "bin_start": 1.9,
            "bin_end": 2.2,
            "count": 1
           },
           {
            "bin_start": 2.2,
            "bin_end": 2.5,
            "count": 0
           },
           {
            "bin_start": 2.5,
            "bin_end": 2.8,
            "count": 0
           },
           {
            "bin_start": 2.8,
            "bin_end": 3.1,
            "count": 0
           },
           {
            "bin_start": 3.1,
            "bin_end": 3.4,
            "count": 0
           },
           {
            "bin_start": 3.4,
            "bin_end": 3.6999999999999997,
            "count": 0
           },
           {
            "bin_start": 3.6999999999999997,
            "bin_end": 4,
            "count": 1
           }
          ]
         }
        },
        {
         "name": "Home_Team_Red_Cards",
         "dtype": "float64",
         "stats": {
          "unique_count": 2,
          "nan_count": 0,
          "min": "0.0",
          "max": "1.0",
          "histogram": [
           {
            "bin_start": 0,
            "bin_end": 0.1,
            "count": 4
           },
           {
            "bin_start": 0.1,
            "bin_end": 0.2,
            "count": 0
           },
           {
            "bin_start": 0.2,
            "bin_end": 0.30000000000000004,
            "count": 0
           },
           {
            "bin_start": 0.30000000000000004,
            "bin_end": 0.4,
            "count": 0
           },
           {
            "bin_start": 0.4,
            "bin_end": 0.5,
            "count": 0
           },
           {
            "bin_start": 0.5,
            "bin_end": 0.6000000000000001,
            "count": 0
           },
           {
            "bin_start": 0.6000000000000001,
            "bin_end": 0.7000000000000001,
            "count": 0
           },
           {
            "bin_start": 0.7000000000000001,
            "bin_end": 0.8,
            "count": 0
           },
           {
            "bin_start": 0.8,
            "bin_end": 0.9,
            "count": 0
           },
           {
            "bin_start": 0.9,
            "bin_end": 1,
            "count": 1
           }
          ]
         }
        },
        {
         "name": "Away_Team_Red_Cards",
         "dtype": "float64",
         "stats": {
          "unique_count": 1,
          "nan_count": 0,
          "min": "0.0",
          "max": "0.0",
          "histogram": [
           {
            "bin_start": -0.5,
            "bin_end": -0.4,
            "count": 0
           },
           {
            "bin_start": -0.4,
            "bin_end": -0.3,
            "count": 0
           },
           {
            "bin_start": -0.3,
            "bin_end": -0.19999999999999996,
            "count": 0
           },
           {
            "bin_start": -0.19999999999999996,
            "bin_end": -0.09999999999999998,
            "count": 0
           },
           {
            "bin_start": -0.09999999999999998,
            "bin_end": 0,
            "count": 0
           },
           {
            "bin_start": 0,
            "bin_end": 0.10000000000000009,
            "count": 5
           },
           {
            "bin_start": 0.10000000000000009,
            "bin_end": 0.20000000000000007,
            "count": 0
           },
           {
            "bin_start": 0.20000000000000007,
            "bin_end": 0.30000000000000004,
            "count": 0
           },
           {
            "bin_start": 0.30000000000000004,
            "bin_end": 0.4,
            "count": 0
           },
           {
            "bin_start": 0.4,
            "bin_end": 0.5,
            "count": 0
           }
          ]
         }
        },
        {
         "name": "DayOfWeek",
         "dtype": "float64",
         "stats": {
          "unique_count": 2,
          "nan_count": 0,
          "min": "4.0",
          "max": "5.0",
          "histogram": [
           {
            "bin_start": 4,
            "bin_end": 4.1,
            "count": 1
           },
           {
            "bin_start": 4.1,
            "bin_end": 4.2,
            "count": 0
           },
           {
            "bin_start": 4.2,
            "bin_end": 4.3,
            "count": 0
           },
           {
            "bin_start": 4.3,
            "bin_end": 4.4,
            "count": 0
           },
           {
            "bin_start": 4.4,
            "bin_end": 4.5,
            "count": 0
           },
           {
            "bin_start": 4.5,
            "bin_end": 4.6,
            "count": 0
           },
           {
            "bin_start": 4.6,
            "bin_end": 4.7,
            "count": 0
           },
           {
            "bin_start": 4.7,
            "bin_end": 4.8,
            "count": 0
           },
           {
            "bin_start": 4.8,
            "bin_end": 4.9,
            "count": 0
           },
           {
            "bin_start": 4.9,
            "bin_end": 5,
            "count": 4
           }
          ]
         }
        },
        {
         "name": "is_Weekend",
         "dtype": "int64",
         "stats": {
          "unique_count": 2,
          "nan_count": 0,
          "min": "0",
          "max": "1",
          "histogram": [
           {
            "bin_start": 0,
            "bin_end": 0.1,
            "count": 1
           },
           {
            "bin_start": 0.1,
            "bin_end": 0.2,
            "count": 0
           },
           {
            "bin_start": 0.2,
            "bin_end": 0.30000000000000004,
            "count": 0
           },
           {
            "bin_start": 0.30000000000000004,
            "bin_end": 0.4,
            "count": 0
           },
           {
            "bin_start": 0.4,
            "bin_end": 0.5,
            "count": 0
           },
           {
            "bin_start": 0.5,
            "bin_end": 0.6000000000000001,
            "count": 0
           },
           {
            "bin_start": 0.6000000000000001,
            "bin_end": 0.7000000000000001,
            "count": 0
           },
           {
            "bin_start": 0.7000000000000001,
            "bin_end": 0.8,
            "count": 0
           },
           {
            "bin_start": 0.8,
            "bin_end": 0.9,
            "count": 0
           },
           {
            "bin_start": 0.9,
            "bin_end": 1,
            "count": 4
           }
          ]
         }
        },
        {
         "name": "Home_Team_Fouls_Committed",
         "dtype": "float64",
         "stats": {
          "unique_count": 5,
          "nan_count": 0,
          "min": "7.0",
          "max": "18.0",
          "histogram": [
           {
            "bin_start": 7,
            "bin_end": 8.1,
            "count": 1
           },
           {
            "bin_start": 8.1,
            "bin_end": 9.2,
            "count": 0
           },
           {
            "bin_start": 9.2,
            "bin_end": 10.3,
            "count": 1
           },
           {
            "bin_start": 10.3,
            "bin_end": 11.4,
            "count": 0
           },
           {
            "bin_start": 11.4,
            "bin_end": 12.5,
            "count": 0
           },
           {
            "bin_start": 12.5,
            "bin_end": 13.600000000000001,
            "count": 0
           },
           {
            "bin_start": 13.600000000000001,
            "bin_end": 14.700000000000001,
            "count": 1
           },
           {
            "bin_start": 14.700000000000001,
            "bin_end": 15.8,
            "count": 0
           },
           {
            "bin_start": 15.8,
            "bin_end": 16.9,
            "count": 1
           },
           {
            "bin_start": 16.9,
            "bin_end": 18,
            "count": 1
           }
          ]
         }
        },
        {
         "name": "Away_Team_Fouls_Committed",
         "dtype": "float64",
         "stats": {
          "unique_count": 4,
          "nan_count": 0,
          "min": "12.0",
          "max": "22.0",
          "histogram": [
           {
            "bin_start": 12,
            "bin_end": 13,
            "count": 1
           },
           {
            "bin_start": 13,
            "bin_end": 14,
            "count": 0
           },
           {
            "bin_start": 14,
            "bin_end": 15,
            "count": 0
           },
           {
            "bin_start": 15,
            "bin_end": 16,
            "count": 1
           },
           {
            "bin_start": 16,
            "bin_end": 17,
            "count": 0
           },
           {
            "bin_start": 17,
            "bin_end": 18,
            "count": 0
           },
           {
            "bin_start": 18,
            "bin_end": 19,
            "count": 0
           },
           {
            "bin_start": 19,
            "bin_end": 20,
            "count": 0
           },
           {
            "bin_start": 20,
            "bin_end": 21,
            "count": 0
           },
           {
            "bin_start": 21,
            "bin_end": 22,
            "count": 3
           }
          ]
         }
        },
        {
         "name": "over_2.5",
         "dtype": "int64",
         "stats": {
          "unique_count": 2,
          "nan_count": 0,
          "min": "0",
          "max": "1",
          "histogram": [
           {
            "bin_start": 0,
            "bin_end": 0.1,
            "count": 3
           },
           {
            "bin_start": 0.1,
            "bin_end": 0.2,
            "count": 0
           },
           {
            "bin_start": 0.2,
            "bin_end": 0.30000000000000004,
            "count": 0
           },
           {
            "bin_start": 0.30000000000000004,
            "bin_end": 0.4,
            "count": 0
           },
           {
            "bin_start": 0.4,
            "bin_end": 0.5,
            "count": 0
           },
           {
            "bin_start": 0.5,
            "bin_end": 0.6000000000000001,
            "count": 0
           },
           {
            "bin_start": 0.6000000000000001,
            "bin_end": 0.7000000000000001,
            "count": 0
           },
           {
            "bin_start": 0.7000000000000001,
            "bin_end": 0.8,
            "count": 0
           },
           {
            "bin_start": 0.8,
            "bin_end": 0.9,
            "count": 0
           },
           {
            "bin_start": 0.9,
            "bin_end": 1,
            "count": 2
           }
          ]
         }
        },
        {
         "name": "Average_home_win_odds",
         "dtype": "float64",
         "stats": {
          "unique_count": 5,
          "nan_count": 0,
          "min": "1.375",
          "max": "5.761666666666667",
          "histogram": [
           {
            "bin_start": 1.375,
            "bin_end": 1.8136666666666668,
            "count": 1
           },
           {
            "bin_start": 1.8136666666666668,
            "bin_end": 2.2523333333333335,
            "count": 2
           },
           {
            "bin_start": 2.2523333333333335,
            "bin_end": 2.691,
            "count": 0
           },
           {
            "bin_start": 2.691,
            "bin_end": 3.1296666666666666,
            "count": 0
           },
           {
            "bin_start": 3.1296666666666666,
            "bin_end": 3.5683333333333334,
            "count": 0
           },
           {
            "bin_start": 3.5683333333333334,
            "bin_end": 4.007,
            "count": 1
           },
           {
            "bin_start": 4.007,
            "bin_end": 4.445666666666666,
            "count": 0
           },
           {
            "bin_start": 4.445666666666666,
            "bin_end": 4.884333333333333,
            "count": 0
           },
           {
            "bin_start": 4.884333333333333,
            "bin_end": 5.323,
            "count": 0
           },
           {
            "bin_start": 5.323,
            "bin_end": 5.761666666666667,
            "count": 1
           }
          ]
         }
        },
        {
         "name": "Average_away_win_odds",
         "dtype": "float64",
         "stats": {
          "unique_count": 5,
          "nan_count": 0,
          "min": "1.518333333333333",
          "max": "7.8066666666666675",
          "histogram": [
           {
            "bin_start": 1.518333333333333,
            "bin_end": 2.1471666666666662,
            "count": 2
           },
           {
            "bin_start": 2.1471666666666662,
            "bin_end": 2.776,
            "count": 0
           },
           {
            "bin_start": 2.776,
            "bin_end": 3.4048333333333334,
            "count": 1
           },
           {
            "bin_start": 3.4048333333333334,
            "bin_end": 4.033666666666667,
            "count": 1
           },
           {
            "bin_start": 4.033666666666667,
            "bin_end": 4.6625,
            "count": 0
           },
           {
            "bin_start": 4.6625,
            "bin_end": 5.291333333333333,
            "count": 0
           },
           {
            "bin_start": 5.291333333333333,
            "bin_end": 5.920166666666667,
            "count": 0
           },
           {
            "bin_start": 5.920166666666667,
            "bin_end": 6.5489999999999995,
            "count": 0
           },
           {
            "bin_start": 6.5489999999999995,
            "bin_end": 7.177833333333334,
            "count": 0
           },
           {
            "bin_start": 7.177833333333334,
            "bin_end": 7.8066666666666675,
            "count": 1
           }
          ]
         }
        },
        {
         "name": "Average_draw_odds",
         "dtype": "float64",
         "stats": {
          "unique_count": 5,
          "nan_count": 0,
          "min": "3.5700000000000003",
          "max": "4.928333333333334",
          "histogram": [
           {
            "bin_start": 3.5700000000000003,
            "bin_end": 3.7058333333333335,
            "count": 3
           },
           {
            "bin_start": 3.7058333333333335,
            "bin_end": 3.841666666666667,
            "count": 0
           },
           {
            "bin_start": 3.841666666666667,
            "bin_end": 3.9775,
            "count": 0
           },
           {
            "bin_start": 3.9775,
            "bin_end": 4.113333333333333,
            "count": 0
           },
           {
            "bin_start": 4.113333333333333,
            "bin_end": 4.249166666666667,
            "count": 0
           },
           {
            "bin_start": 4.249166666666667,
            "bin_end": 4.385,
            "count": 1
           },
           {
            "bin_start": 4.385,
            "bin_end": 4.520833333333334,
            "count": 0
           },
           {
            "bin_start": 4.520833333333334,
            "bin_end": 4.656666666666667,
            "count": 0
           },
           {
            "bin_start": 4.656666666666667,
            "bin_end": 4.7925,
            "count": 0
           },
           {
            "bin_start": 4.7925,
            "bin_end": 4.928333333333334,
            "count": 1
           }
          ]
         }
        },
        {
         "name": "Average_over_2.5_goals_odds",
         "dtype": "float64",
         "stats": {
          "unique_count": 5,
          "nan_count": 0,
          "min": "1.5199999999999998",
          "max": "1.8333333333333333",
          "histogram": [
           {
            "bin_start": 1.5199999999999998,
            "bin_end": 1.5513333333333332,
            "count": 1
           },
           {
            "bin_start": 1.5513333333333332,
            "bin_end": 1.5826666666666664,
            "count": 1
           },
           {
            "bin_start": 1.5826666666666664,
            "bin_end": 1.6139999999999999,
            "count": 0
           },
           {
            "bin_start": 1.6139999999999999,
            "bin_end": 1.645333333333333,
            "count": 0
           },
           {
            "bin_start": 1.645333333333333,
            "bin_end": 1.6766666666666665,
            "count": 1
           },
           {
            "bin_start": 1.6766666666666665,
            "bin_end": 1.7079999999999997,
            "count": 0
           },
           {
            "bin_start": 1.7079999999999997,
            "bin_end": 1.7393333333333332,
            "count": 0
           },
           {
            "bin_start": 1.7393333333333332,
            "bin_end": 1.7706666666666666,
            "count": 1
           },
           {
            "bin_start": 1.7706666666666666,
            "bin_end": 1.8019999999999998,
            "count": 0
           },
           {
            "bin_start": 1.8019999999999998,
            "bin_end": 1.8333333333333333,
            "count": 1
           }
          ]
         }
        },
        {
         "name": "Average_under_2.5_goals_odds",
         "dtype": "float64",
         "stats": {
          "unique_count": 5,
          "nan_count": 0,
          "min": "1.9866666666666664",
          "max": "2.5066666666666664",
          "histogram": [
           {
            "bin_start": 1.9866666666666664,
            "bin_end": 2.0386666666666664,
            "count": 1
           },
           {
            "bin_start": 2.0386666666666664,
            "bin_end": 2.0906666666666665,
            "count": 1
           },
           {
            "bin_start": 2.0906666666666665,
            "bin_end": 2.1426666666666665,
            "count": 0
           },
           {
            "bin_start": 2.1426666666666665,
            "bin_end": 2.1946666666666665,
            "count": 0
           },
           {
            "bin_start": 2.1946666666666665,
            "bin_end": 2.246666666666666,
            "count": 1
           },
           {
            "bin_start": 2.246666666666666,
            "bin_end": 2.2986666666666666,
            "count": 0
           },
           {
            "bin_start": 2.2986666666666666,
            "bin_end": 2.3506666666666662,
            "count": 0
           },
           {
            "bin_start": 2.3506666666666662,
            "bin_end": 2.4026666666666663,
            "count": 0
           },
           {
            "bin_start": 2.4026666666666663,
            "bin_end": 2.4546666666666663,
            "count": 1
           },
           {
            "bin_start": 2.4546666666666663,
            "bin_end": 2.5066666666666664,
            "count": 1
           }
          ]
         }
        },
        {
         "name": "Average_Asian_Handicap_Home_odds",
         "dtype": "float64",
         "stats": {
          "unique_count": 5,
          "nan_count": 0,
          "min": "1.165",
          "max": "1.725",
          "histogram": [
           {
            "bin_start": 1.165,
            "bin_end": 1.221,
            "count": 1
           },
           {
            "bin_start": 1.221,
            "bin_end": 1.2770000000000001,
            "count": 0
           },
           {
            "bin_start": 1.2770000000000001,
            "bin_end": 1.3330000000000002,
            "count": 0
           },
           {
            "bin_start": 1.3330000000000002,
            "bin_end": 1.389,
            "count": 2
           },
           {
            "bin_start": 1.389,
            "bin_end": 1.445,
            "count": 0
           },
           {
            "bin_start": 1.445,
            "bin_end": 1.5010000000000001,
            "count": 0
           },
           {
            "bin_start": 1.5010000000000001,
            "bin_end": 1.5570000000000002,
            "count": 0
           },
           {
            "bin_start": 1.5570000000000002,
            "bin_end": 1.613,
            "count": 1
           },
           {
            "bin_start": 1.613,
            "bin_end": 1.669,
            "count": 0
           },
           {
            "bin_start": 1.669,
            "bin_end": 1.725,
            "count": 1
           }
          ]
         }
        },
        {
         "name": "Average_Asian_Handicap_Away_odds",
         "dtype": "float64",
         "stats": {
          "unique_count": 5,
          "nan_count": 0,
          "min": "1.7866666666666668",
          "max": "1.9466666666666663",
          "histogram": [
           {
            "bin_start": 1.7866666666666668,
            "bin_end": 1.8026666666666669,
            "count": 1
           },
           {
            "bin_start": 1.8026666666666669,
            "bin_end": 1.8186666666666667,
            "count": 0
           },
           {
            "bin_start": 1.8186666666666667,
            "bin_end": 1.8346666666666667,
            "count": 0
           },
           {
            "bin_start": 1.8346666666666667,
            "bin_end": 1.8506666666666667,
            "count": 0
           },
           {
            "bin_start": 1.8506666666666667,
            "bin_end": 1.8666666666666667,
            "count": 0
           },
           {
            "bin_start": 1.8666666666666667,
            "bin_end": 1.8826666666666665,
            "count": 0
           },
           {
            "bin_start": 1.8826666666666665,
            "bin_end": 1.8986666666666665,
            "count": 2
           },
           {
            "bin_start": 1.8986666666666665,
            "bin_end": 1.9146666666666665,
            "count": 0
           },
           {
            "bin_start": 1.9146666666666665,
            "bin_end": 1.9306666666666663,
            "count": 1
           },
           {
            "bin_start": 1.9306666666666663,
            "bin_end": 1.9466666666666663,
            "count": 1
           }
          ]
         }
        },
        {
         "name": "Close_home_win_odds",
         "dtype": "float64",
         "stats": {
          "unique_count": 5,
          "nan_count": 0,
          "min": "1.45",
          "max": "8.99",
          "histogram": [
           {
            "bin_start": 1.45,
            "bin_end": 2.2039999999999997,
            "count": 2
           },
           {
            "bin_start": 2.2039999999999997,
            "bin_end": 2.958,
            "count": 1
           },
           {
            "bin_start": 2.958,
            "bin_end": 3.7119999999999997,
            "count": 0
           },
           {
            "bin_start": 3.7119999999999997,
            "bin_end": 4.466,
            "count": 1
           },
           {
            "bin_start": 4.466,
            "bin_end": 5.22,
            "count": 0
           },
           {
            "bin_start": 5.22,
            "bin_end": 5.974,
            "count": 0
           },
           {
            "bin_start": 5.974,
            "bin_end": 6.728000000000001,
            "count": 0
           },
           {
            "bin_start": 6.728000000000001,
            "bin_end": 7.482,
            "count": 0
           },
           {
            "bin_start": 7.482,
            "bin_end": 8.235999999999999,
            "count": 0
           },
           {
            "bin_start": 8.235999999999999,
            "bin_end": 8.99,
            "count": 1
           }
          ]
         }
        },
        {
         "name": "Close_draw_odds",
         "dtype": "float64",
         "stats": {
          "unique_count": 5,
          "nan_count": 0,
          "min": "3.55",
          "max": "6.52",
          "histogram": [
           {
            "bin_start": 3.55,
            "bin_end": 3.847,
            "count": 3
           },
           {
            "bin_start": 3.847,
            "bin_end": 4.144,
            "count": 0
           },
           {
            "bin_start": 4.144,
            "bin_end": 4.441,
            "count": 0
           },
           {
            "bin_start": 4.441,
            "bin_end": 4.7379999999999995,
            "count": 0
           },
           {
            "bin_start": 4.7379999999999995,
            "bin_end": 5.035,
            "count": 1
           },
           {
            "bin_start": 5.035,
            "bin_end": 5.332,
            "count": 0
           },
           {
            "bin_start": 5.332,
            "bin_end": 5.629,
            "count": 0
           },
           {
            "bin_start": 5.629,
            "bin_end": 5.926,
            "count": 0
           },
           {
            "bin_start": 5.926,
            "bin_end": 6.223,
            "count": 0
           },
           {
            "bin_start": 6.223,
            "bin_end": 6.52,
            "count": 1
           }
          ]
         }
        },
        {
         "name": "Close_away_win_odds",
         "dtype": "float64",
         "stats": {
          "unique_count": 5,
          "nan_count": 0,
          "min": "1.29",
          "max": "6.79",
          "histogram": [
           {
            "bin_start": 1.29,
            "bin_end": 1.84,
            "count": 1
           },
           {
            "bin_start": 1.84,
            "bin_end": 2.39,
            "count": 1
           },
           {
            "bin_start": 2.39,
            "bin_end": 2.9400000000000004,
            "count": 1
           },
           {
            "bin_start": 2.9400000000000004,
            "bin_end": 3.49,
            "count": 1
           },
           {
            "bin_start": 3.49,
            "bin_end": 4.04,
            "count": 0
           },
           {
            "bin_start": 4.04,
            "bin_end": 4.59,
            "count": 0
           },
           {
            "bin_start": 4.59,
            "bin_end": 5.140000000000001,
            "count": 0
           },
           {
            "bin_start": 5.140000000000001,
            "bin_end": 5.69,
            "count": 0
           },
           {
            "bin_start": 5.69,
            "bin_end": 6.24,
            "count": 0
           },
           {
            "bin_start": 6.24,
            "bin_end": 6.79,
            "count": 1
           }
          ]
         }
        },
        {
         "name": "has_favorite",
         "dtype": "int64",
         "stats": {
          "unique_count": 2,
          "nan_count": 0,
          "min": "0",
          "max": "1",
          "histogram": [
           {
            "bin_start": 0,
            "bin_end": 0.1,
            "count": 3
           },
           {
            "bin_start": 0.1,
            "bin_end": 0.2,
            "count": 0
           },
           {
            "bin_start": 0.2,
            "bin_end": 0.30000000000000004,
            "count": 0
           },
           {
            "bin_start": 0.30000000000000004,
            "bin_end": 0.4,
            "count": 0
           },
           {
            "bin_start": 0.4,
            "bin_end": 0.5,
            "count": 0
           },
           {
            "bin_start": 0.5,
            "bin_end": 0.6000000000000001,
            "count": 0
           },
           {
            "bin_start": 0.6000000000000001,
            "bin_end": 0.7000000000000001,
            "count": 0
           },
           {
            "bin_start": 0.7000000000000001,
            "bin_end": 0.8,
            "count": 0
           },
           {
            "bin_start": 0.8,
            "bin_end": 0.9,
            "count": 0
           },
           {
            "bin_start": 0.9,
            "bin_end": 1,
            "count": 2
           }
          ]
         }
        },
        {
         "name": "Time_kick_off_bin",
         "dtype": "object",
         "stats": {
          "unique_count": 2,
          "nan_count": 0,
          "categories": [
           {
            "name": "Late Evening",
            "count": 4
           },
           {
            "name": "Evening",
            "count": 1
           }
          ]
         }
        },
        {
         "name": "_deepnote_index_column",
         "dtype": "int64"
        }
       ],
       "rows": [
        {
         "Country": "belgium",
         "League": 1,
         "Season": 1920,
         "Match_Date": "2019-07-26",
         "Home_Team": "Genk",
         "Away_Team": "Kortrijk",
         "Full_Time_Home_Team_Goals": 2,
         "Full_Time_Away_Team_Goals": 1,
         "Full_Time_Result": "H",
         "Home_Team_Shots": 10,
         "Away_Team_Shots": 8,
         "Home_Team_Shots_on_Target": 2,
         "Away_Team_Shots_on_Target": 4,
         "Home_Team_Corners": 6,
         "Away_Team_Corners": 2,
         "Home_Team_Yellow_Cards": 0,
         "Away_Team_Yellow_Cards": 1,
         "Home_Team_Red_Cards": 0,
         "Away_Team_Red_Cards": 0,
         "DayOfWeek": 4,
         "is_Weekend": 0,
         "Home_Team_Fouls_Committed": 7,
         "Away_Team_Fouls_Committed": 22,
         "over_2.5": 1,
         "Average_home_win_odds": 1.375,
         "Average_away_win_odds": 7.8066666666666675,
         "Average_draw_odds": 4.928333333333334,
         "Average_over_2.5_goals_odds": 1.5199999999999998,
         "Average_under_2.5_goals_odds": 2.5066666666666664,
         "Average_Asian_Handicap_Home_odds": 1.165,
         "Average_Asian_Handicap_Away_odds": 1.7866666666666668,
         "Close_home_win_odds": 1.45,
         "Close_draw_odds": 4.94,
         "Close_away_win_odds": 6.79,
         "has_favorite": 1,
         "Time_kick_off_bin": "Late Evening",
         "_deepnote_index_column": 0
        },
        {
         "Country": "belgium",
         "League": 1,
         "Season": 1920,
         "Match_Date": "2019-07-27",
         "Home_Team": "Waasland-Beveren",
         "Away_Team": "Club Brugge",
         "Full_Time_Home_Team_Goals": 1,
         "Full_Time_Away_Team_Goals": 3,
         "Full_Time_Result": "A",
         "Home_Team_Shots": 7,
         "Away_Team_Shots": 25,
         "Home_Team_Shots_on_Target": 2,
         "Away_Team_Shots_on_Target": 22,
         "Home_Team_Corners": 1,
         "Away_Team_Corners": 14,
         "Home_Team_Yellow_Cards": 3,
         "Away_Team_Yellow_Cards": 1,
         "Home_Team_Red_Cards": 0,
         "Away_Team_Red_Cards": 0,
         "DayOfWeek": 5,
         "is_Weekend": 1,
         "Home_Team_Fouls_Committed": 18,
         "Away_Team_Fouls_Committed": 12,
         "over_2.5": 1,
         "Average_home_win_odds": 5.761666666666667,
         "Average_away_win_odds": 1.518333333333333,
         "Average_draw_odds": 4.37,
         "Average_over_2.5_goals_odds": 1.5566666666666666,
         "Average_under_2.5_goals_odds": 2.41,
         "Average_Asian_Handicap_Home_odds": 1.725,
         "Average_Asian_Handicap_Away_odds": 1.893333333333333,
         "Close_home_win_odds": 8.99,
         "Close_draw_odds": 6.52,
         "Close_away_win_odds": 1.29,
         "has_favorite": 1,
         "Time_kick_off_bin": "Late Evening",
         "_deepnote_index_column": 1
        },
        {
         "Country": "belgium",
         "League": 1,
         "Season": 1920,
         "Match_Date": "2019-07-27",
         "Home_Team": "Cercle Brugge",
         "Away_Team": "Standard",
         "Full_Time_Home_Team_Goals": 0,
         "Full_Time_Away_Team_Goals": 2,
         "Full_Time_Result": "A",
         "Home_Team_Shots": 13,
         "Away_Team_Shots": 14,
         "Home_Team_Shots_on_Target": 5,
         "Away_Team_Shots_on_Target": 9,
         "Home_Team_Corners": 3,
         "Away_Team_Corners": 7,
         "Home_Team_Yellow_Cards": 2,
         "Away_Team_Yellow_Cards": 2,
         "Home_Team_Red_Cards": 1,
         "Away_Team_Red_Cards": 0,
         "DayOfWeek": 5,
         "is_Weekend": 1,
         "Home_Team_Fouls_Committed": 16,
         "Away_Team_Fouls_Committed": 15,
         "over_2.5": 0,
         "Average_home_win_odds": 3.768333333333333,
         "Average_away_win_odds": 1.9166666666666667,
         "Average_draw_odds": 3.671666666666667,
         "Average_over_2.5_goals_odds": 1.7666666666666666,
         "Average_under_2.5_goals_odds": 2.053333333333333,
         "Average_Asian_Handicap_Home_odds": 1.5575,
         "Average_Asian_Handicap_Away_odds": 1.9466666666666663,
         "Close_home_win_odds": 3.79,
         "Close_draw_odds": 3.74,
         "Close_away_win_odds": 1.99,
         "has_favorite": 0,
         "Time_kick_off_bin": "Evening",
         "_deepnote_index_column": 2
        },
        {
         "Country": "belgium",
         "League": 1,
         "Season": 1920,
         "Match_Date": "2019-07-27",
         "Home_Team": "Waregem",
         "Away_Team": "Mechelen",
         "Full_Time_Home_Team_Goals": 0,
         "Full_Time_Away_Team_Goals": 2,
         "Full_Time_Result": "A",
         "Home_Team_Shots": 7,
         "Away_Team_Shots": 10,
         "Home_Team_Shots_on_Target": 2,
         "Away_Team_Shots_on_Target": 5,
         "Home_Team_Corners": 4,
         "Away_Team_Corners": 2,
         "Home_Team_Yellow_Cards": 3,
         "Away_Team_Yellow_Cards": 1,
         "Home_Team_Red_Cards": 0,
         "Away_Team_Red_Cards": 0,
         "DayOfWeek": 5,
         "is_Weekend": 1,
         "Home_Team_Fouls_Committed": 14,
         "Away_Team_Fouls_Committed": 21,
         "over_2.5": 0,
         "Average_home_win_odds": 2.188333333333333,
         "Average_away_win_odds": 3.0700000000000003,
         "Average_draw_odds": 3.6183333333333336,
         "Average_over_2.5_goals_odds": 1.653333333333333,
         "Average_under_2.5_goals_odds": 2.2099999999999995,
         "Average_Asian_Handicap_Home_odds": 1.3875,
         "Average_Asian_Handicap_Away_odds": 1.923333333333333,
         "Close_home_win_odds": 2.8,
         "Close_draw_odds": 3.59,
         "Close_away_win_odds": 2.51,
         "has_favorite": 0,
         "Time_kick_off_bin": "Late Evening",
         "_deepnote_index_column": 3
        },
        {
         "Country": "belgium",
         "League": 1,
         "Season": 1920,
         "Match_Date": "2019-07-27",
         "Home_Team": "St Truiden",
         "Away_Team": "Mouscron",
         "Full_Time_Home_Team_Goals": 0,
         "Full_Time_Away_Team_Goals": 1,
         "Full_Time_Result": "A",
         "Home_Team_Shots": 10,
         "Away_Team_Shots": 10,
         "Home_Team_Shots_on_Target": 4,
         "Away_Team_Shots_on_Target": 6,
         "Home_Team_Corners": 5,
         "Away_Team_Corners": 5,
         "Home_Team_Yellow_Cards": 2,
         "Away_Team_Yellow_Cards": 4,
         "Home_Team_Red_Cards": 0,
         "Away_Team_Red_Cards": 0,
         "DayOfWeek": 5,
         "is_Weekend": 1,
         "Home_Team_Fouls_Committed": 10,
         "Away_Team_Fouls_Committed": 21,
         "over_2.5": 0,
         "Average_home_win_odds": 1.935,
         "Average_away_win_odds": 3.848333333333333,
         "Average_draw_odds": 3.5700000000000003,
         "Average_over_2.5_goals_odds": 1.8333333333333333,
         "Average_under_2.5_goals_odds": 1.9866666666666664,
         "Average_Asian_Handicap_Home_odds": 1.3525,
         "Average_Asian_Handicap_Away_odds": 1.8866666666666667,
         "Close_home_win_odds": 2.16,
         "Close_draw_odds": 3.55,
         "Close_away_win_odds": 3.46,
         "has_favorite": 0,
         "Time_kick_off_bin": "Late Evening",
         "_deepnote_index_column": 4
        }
       ]
      },
      "text/plain": "   Country  League  Season  Match_Date         Home_Team    Away_Team  \\\n0  belgium       1    1920  2019-07-26              Genk     Kortrijk   \n1  belgium       1    1920  2019-07-27  Waasland-Beveren  Club Brugge   \n2  belgium       1    1920  2019-07-27     Cercle Brugge     Standard   \n3  belgium       1    1920  2019-07-27           Waregem     Mechelen   \n4  belgium       1    1920  2019-07-27        St Truiden     Mouscron   \n\n   Full_Time_Home_Team_Goals  Full_Time_Away_Team_Goals Full_Time_Result  \\\n0                        2.0                        1.0                H   \n1                        1.0                        3.0                A   \n2                        0.0                        2.0                A   \n3                        0.0                        2.0                A   \n4                        0.0                        1.0                A   \n\n   Home_Team_Shots  ...  Average_draw_odds  Average_over_2.5_goals_odds  \\\n0             10.0  ...           4.928333                     1.520000   \n1              7.0  ...           4.370000                     1.556667   \n2             13.0  ...           3.671667                     1.766667   \n3              7.0  ...           3.618333                     1.653333   \n4             10.0  ...           3.570000                     1.833333   \n\n   Average_under_2.5_goals_odds  Average_Asian_Handicap_Home_odds  \\\n0                      2.506667                            1.1650   \n1                      2.410000                            1.7250   \n2                      2.053333                            1.5575   \n3                      2.210000                            1.3875   \n4                      1.986667                            1.3525   \n\n   Average_Asian_Handicap_Away_odds  Close_home_win_odds  Close_draw_odds  \\\n0                          1.786667                 1.45             4.94   \n1                          1.893333                 8.99             6.52   \n2                          1.946667                 3.79             3.74   \n3                          1.923333                 2.80             3.59   \n4                          1.886667                 2.16             3.55   \n\n   Close_away_win_odds  has_favorite  Time_kick_off_bin  \n0                 6.79             1       Late Evening  \n1                 1.29             1       Late Evening  \n2                 1.99             0            Evening  \n3                 2.51             0       Late Evening  \n4                 3.46             0       Late Evening  \n\n[5 rows x 36 columns]",
      "text/html": "<div>\n<style scoped>\n    .dataframe tbody tr th:only-of-type {\n        vertical-align: middle;\n    }\n\n    .dataframe tbody tr th {\n        vertical-align: top;\n    }\n\n    .dataframe thead th {\n        text-align: right;\n    }\n</style>\n<table border=\"1\" class=\"dataframe\">\n  <thead>\n    <tr style=\"text-align: right;\">\n      <th></th>\n      <th>Country</th>\n      <th>League</th>\n      <th>Season</th>\n      <th>Match_Date</th>\n      <th>Home_Team</th>\n      <th>Away_Team</th>\n      <th>Full_Time_Home_Team_Goals</th>\n      <th>Full_Time_Away_Team_Goals</th>\n      <th>Full_Time_Result</th>\n      <th>Home_Team_Shots</th>\n      <th>...</th>\n      <th>Average_draw_odds</th>\n      <th>Average_over_2.5_goals_odds</th>\n      <th>Average_under_2.5_goals_odds</th>\n      <th>Average_Asian_Handicap_Home_odds</th>\n      <th>Average_Asian_Handicap_Away_odds</th>\n      <th>Close_home_win_odds</th>\n      <th>Close_draw_odds</th>\n      <th>Close_away_win_odds</th>\n      <th>has_favorite</th>\n      <th>Time_kick_off_bin</th>\n    </tr>\n  </thead>\n  <tbody>\n    <tr>\n      <th>0</th>\n      <td>belgium</td>\n      <td>1</td>\n      <td>1920</td>\n      <td>2019-07-26</td>\n      <td>Genk</td>\n      <td>Kortrijk</td>\n      <td>2.0</td>\n      <td>1.0</td>\n      <td>H</td>\n      <td>10.0</td>\n      <td>...</td>\n      <td>4.928333</td>\n      <td>1.520000</td>\n      <td>2.506667</td>\n      <td>1.1650</td>\n      <td>1.786667</td>\n      <td>1.45</td>\n      <td>4.94</td>\n      <td>6.79</td>\n      <td>1</td>\n      <td>Late Evening</td>\n    </tr>\n    <tr>\n      <th>1</th>\n      <td>belgium</td>\n      <td>1</td>\n      <td>1920</td>\n      <td>2019-07-27</td>\n      <td>Waasland-Beveren</td>\n      <td>Club Brugge</td>\n      <td>1.0</td>\n      <td>3.0</td>\n      <td>A</td>\n      <td>7.0</td>\n      <td>...</td>\n      <td>4.370000</td>\n      <td>1.556667</td>\n      <td>2.410000</td>\n      <td>1.7250</td>\n      <td>1.893333</td>\n      <td>8.99</td>\n      <td>6.52</td>\n      <td>1.29</td>\n      <td>1</td>\n      <td>Late Evening</td>\n    </tr>\n    <tr>\n      <th>2</th>\n      <td>belgium</td>\n      <td>1</td>\n      <td>1920</td>\n      <td>2019-07-27</td>\n      <td>Cercle Brugge</td>\n      <td>Standard</td>\n      <td>0.0</td>\n      <td>2.0</td>\n      <td>A</td>\n      <td>13.0</td>\n      <td>...</td>\n      <td>3.671667</td>\n      <td>1.766667</td>\n      <td>2.053333</td>\n      <td>1.5575</td>\n      <td>1.946667</td>\n      <td>3.79</td>\n      <td>3.74</td>\n      <td>1.99</td>\n      <td>0</td>\n      <td>Evening</td>\n    </tr>\n    <tr>\n      <th>3</th>\n      <td>belgium</td>\n      <td>1</td>\n      <td>1920</td>\n      <td>2019-07-27</td>\n      <td>Waregem</td>\n      <td>Mechelen</td>\n      <td>0.0</td>\n      <td>2.0</td>\n      <td>A</td>\n      <td>7.0</td>\n      <td>...</td>\n      <td>3.618333</td>\n      <td>1.653333</td>\n      <td>2.210000</td>\n      <td>1.3875</td>\n      <td>1.923333</td>\n      <td>2.80</td>\n      <td>3.59</td>\n      <td>2.51</td>\n      <td>0</td>\n      <td>Late Evening</td>\n    </tr>\n    <tr>\n      <th>4</th>\n      <td>belgium</td>\n      <td>1</td>\n      <td>1920</td>\n      <td>2019-07-27</td>\n      <td>St Truiden</td>\n      <td>Mouscron</td>\n      <td>0.0</td>\n      <td>1.0</td>\n      <td>A</td>\n      <td>10.0</td>\n      <td>...</td>\n      <td>3.570000</td>\n      <td>1.833333</td>\n      <td>1.986667</td>\n      <td>1.3525</td>\n      <td>1.886667</td>\n      <td>2.16</td>\n      <td>3.55</td>\n      <td>3.46</td>\n      <td>0</td>\n      <td>Late Evening</td>\n    </tr>\n  </tbody>\n</table>\n<p>5 rows × 36 columns</p>\n</div>"
     },
     "metadata": {}
    }
   ]
  },
  {
   "cell_type": "code",
   "metadata": {
    "source_hash": null,
    "execution_start": 1702775176584,
    "execution_millis": 4805,
    "deepnote_to_be_reexecuted": false,
    "cell_id": "9e29a6420db748dd909da34eff0ba1af",
    "deepnote_cell_type": "code"
   },
   "source": [
    "dl0 = pd.read_csv(\"df_league_0.csv\")\n",
    "dl1 = pd.read_csv(\"df_league_1.csv\")\n",
    "dl2 = pd.read_csv(\"df_league_2.csv\")\n",
    "dl3 = pd.read_csv(\"df_league_3.csv\")"
   ],
   "block_group": "13c8d578d1434d2480750ecff524897c",
   "execution_count": null,
   "outputs": []
  },
  {
   "cell_type": "code",
   "metadata": {
    "source_hash": null,
    "execution_start": 1702775190396,
    "execution_millis": 81,
    "deepnote_to_be_reexecuted": false,
    "cell_id": "9109e46034334f45b36d419b8062e793",
    "deepnote_cell_type": "code"
   },
   "source": [
    "unique_team_names = set()\n",
    "\n",
    "unique_team_names = unique_team_names.union(set(data_train['Home_Team'].unique()))\n",
    "unique_team_names = unique_team_names.union(set(data_train['Away_Team'].unique()))"
   ],
   "block_group": "ccd5f948b80040ad8bb677b4934771fa",
   "execution_count": null,
   "outputs": []
  },
  {
   "cell_type": "code",
   "metadata": {
    "source_hash": null,
    "execution_start": 1702775194267,
    "execution_millis": 27452,
    "deepnote_to_be_reexecuted": false,
    "cell_id": "8f0b2ef8599547ada1a80ab91e046272",
    "deepnote_cell_type": "code"
   },
   "source": [
    "def team_dummy_variables(df, team_names):\n",
    "    home_team_columns = [f'HomeTeam_{team}' for team in team_names]\n",
    "    away_team_columns = [f'AwayTeam_{team}' for team in team_names]\n",
    "\n",
    "    home_team_dummies = pd.DataFrame({col: (df['Home_Team'] == team) for team, col in zip(team_names, home_team_columns)})\n",
    "    away_team_dummies = pd.DataFrame({col: (df['Away_Team'] == team) for team, col in zip(team_names, away_team_columns)})\n",
    "    \n",
    "    df = pd.concat([df, home_team_dummies, away_team_dummies], axis=1)\n",
    "    return df\n",
    "\n",
    "dummy_train_df = team_dummy_variables(data_train, unique_team_names)\n",
    "dummy_df_league_0 = team_dummy_variables(dl0, unique_team_names)\n",
    "dummy_df_league_1 = team_dummy_variables(dl1, unique_team_names)\n",
    "dummy_df_league_2 = team_dummy_variables(dl2, unique_team_names)\n",
    "dummy_df_league_3 = team_dummy_variables(dl3, unique_team_names)"
   ],
   "block_group": "c96442d694cb4846b04572f2700dfa9d",
   "execution_count": null,
   "outputs": []
  },
  {
   "cell_type": "code",
   "metadata": {
    "allow_embed": false,
    "source_hash": null,
    "execution_start": 1702775251071,
    "execution_millis": 262,
    "deepnote_to_be_reexecuted": false,
    "cell_id": "b15007f90991452d8e56749202e442d7",
    "deepnote_cell_type": "code"
   },
   "source": [
    "dummy_train_df = dummy_train_df.drop(['Home_Team', 'Away_Team'], axis=1)"
   ],
   "block_group": "1e84a080c2164cb1937588b3322b31f0",
   "execution_count": null,
   "outputs": []
  },
  {
   "cell_type": "code",
   "metadata": {
    "source_hash": null,
    "execution_start": 1702772526194,
    "execution_millis": 4382,
    "deepnote_to_be_reexecuted": false,
    "cell_id": "803a446bcf4d4a3aa81870f8946168b4",
    "deepnote_cell_type": "code"
   },
   "source": [
    "dummy_df_league_0.head()"
   ],
   "block_group": "10c9b68763e34798aa0a1cdfab0c7d2a",
   "execution_count": null,
   "outputs": [
    {
     "output_type": "execute_result",
     "execution_count": 85,
     "data": {
      "application/vnd.deepnote.dataframe.v3+json": {
       "column_count": 964,
       "row_count": 5,
       "columns": [
        {
         "name": "Country",
         "dtype": "object",
         "stats": {
          "unique_count": 1,
          "nan_count": 0,
          "categories": [
           {
            "name": "england",
            "count": 5
           }
          ]
         }
        },
        {
         "name": "League",
         "dtype": "int64",
         "stats": {
          "unique_count": 1,
          "nan_count": 0,
          "min": "0",
          "max": "0",
          "histogram": [
           {
            "bin_start": -0.5,
            "bin_end": -0.4,
            "count": 0
           },
           {
            "bin_start": -0.4,
            "bin_end": -0.3,
            "count": 0
           },
           {
            "bin_start": -0.3,
            "bin_end": -0.19999999999999996,
            "count": 0
           },
           {
            "bin_start": -0.19999999999999996,
            "bin_end": -0.09999999999999998,
            "count": 0
           },
           {
            "bin_start": -0.09999999999999998,
            "bin_end": 0,
            "count": 0
           },
           {
            "bin_start": 0,
            "bin_end": 0.10000000000000009,
            "count": 5
           },
           {
            "bin_start": 0.10000000000000009,
            "bin_end": 0.20000000000000007,
            "count": 0
           },
           {
            "bin_start": 0.20000000000000007,
            "bin_end": 0.30000000000000004,
            "count": 0
           },
           {
            "bin_start": 0.30000000000000004,
            "bin_end": 0.4,
            "count": 0
           },
           {
            "bin_start": 0.4,
            "bin_end": 0.5,
            "count": 0
           }
          ]
         }
        },
        {
         "name": "Season",
         "dtype": "int64",
         "stats": {
          "unique_count": 1,
          "nan_count": 0,
          "min": "1718",
          "max": "1718",
          "histogram": [
           {
            "bin_start": 1717.5,
            "bin_end": 1717.6,
            "count": 0
           },
           {
            "bin_start": 1717.6,
            "bin_end": 1717.7,
            "count": 0
           },
           {
            "bin_start": 1717.7,
            "bin_end": 1717.8,
            "count": 0
           },
           {
            "bin_start": 1717.8,
            "bin_end": 1717.9,
            "count": 0
           },
           {
            "bin_start": 1717.9,
            "bin_end": 1718,
            "count": 0
           },
           {
            "bin_start": 1718,
            "bin_end": 1718.1,
            "count": 5
           },
           {
            "bin_start": 1718.1,
            "bin_end": 1718.2,
            "count": 0
           },
           {
            "bin_start": 1718.2,
            "bin_end": 1718.3,
            "count": 0
           },
           {
            "bin_start": 1718.3,
            "bin_end": 1718.4,
            "count": 0
           },
           {
            "bin_start": 1718.4,
            "bin_end": 1718.5,
            "count": 0
           }
          ]
         }
        },
        {
         "name": "Match_Date",
         "dtype": "object",
         "stats": {
          "unique_count": 2,
          "nan_count": 0,
          "categories": [
           {
            "name": "2017-08-12",
            "count": 4
           },
           {
            "name": "2017-08-11",
            "count": 1
           }
          ]
         }
        },
        {
         "name": "Home_Team",
         "dtype": "object",
         "stats": {
          "unique_count": 5,
          "nan_count": 0,
          "categories": [
           {
            "name": "Arsenal",
            "count": 1
           },
           {
            "name": "Brighton",
            "count": 1
           },
           {
            "name": "3 others",
            "count": 3
           }
          ]
         }
        },
        {
         "name": "Away_Team",
         "dtype": "object",
         "stats": {
          "unique_count": 5,
          "nan_count": 0,
          "categories": [
           {
            "name": "Leicester",
            "count": 1
           },
           {
            "name": "Man City",
            "count": 1
           },
           {
            "name": "3 others",
            "count": 3
           }
          ]
         }
        },
        {
         "name": "Full_Time_Home_Team_Goals",
         "dtype": "float64",
         "stats": {
          "unique_count": 4,
          "nan_count": 0,
          "min": "0.0",
          "max": "4.0",
          "histogram": [
           {
            "bin_start": 0,
            "bin_end": 0.4,
            "count": 2
           },
           {
            "bin_start": 0.4,
            "bin_end": 0.8,
            "count": 0
           },
           {
            "bin_start": 0.8,
            "bin_end": 1.2000000000000002,
            "count": 1
           },
           {
            "bin_start": 1.2000000000000002,
            "bin_end": 1.6,
            "count": 0
           },
           {
            "bin_start": 1.6,
            "bin_end": 2,
            "count": 0
           },
           {
            "bin_start": 2,
            "bin_end": 2.4000000000000004,
            "count": 1
           },
           {
            "bin_start": 2.4000000000000004,
            "bin_end": 2.8000000000000003,
            "count": 0
           },
           {
            "bin_start": 2.8000000000000003,
            "bin_end": 3.2,
            "count": 0
           },
           {
            "bin_start": 3.2,
            "bin_end": 3.6,
            "count": 0
           },
           {
            "bin_start": 3.6,
            "bin_end": 4,
            "count": 1
           }
          ]
         }
        },
        {
         "name": "Full_Time_Away_Team_Goals",
         "dtype": "float64",
         "stats": {
          "unique_count": 3,
          "nan_count": 0,
          "min": "0.0",
          "max": "3.0",
          "histogram": [
           {
            "bin_start": 0,
            "bin_end": 0.3,
            "count": 1
           },
           {
            "bin_start": 0.3,
            "bin_end": 0.6,
            "count": 0
           },
           {
            "bin_start": 0.6,
            "bin_end": 0.8999999999999999,
            "count": 0
           },
           {
            "bin_start": 0.8999999999999999,
            "bin_end": 1.2,
            "count": 0
           },
           {
            "bin_start": 1.2,
            "bin_end": 1.5,
            "count": 0
           },
           {
            "bin_start": 1.5,
            "bin_end": 1.7999999999999998,
            "count": 0
           },
           {
            "bin_start": 1.7999999999999998,
            "bin_end": 2.1,
            "count": 1
           },
           {
            "bin_start": 2.1,
            "bin_end": 2.4,
            "count": 0
           },
           {
            "bin_start": 2.4,
            "bin_end": 2.6999999999999997,
            "count": 0
           },
           {
            "bin_start": 2.6999999999999997,
            "bin_end": 3,
            "count": 3
           }
          ]
         }
        },
        {
         "name": "Full_Time_Result",
         "dtype": "object",
         "stats": {
          "unique_count": 2,
          "nan_count": 0,
          "categories": [
           {
            "name": "A",
            "count": 3
           },
           {
            "name": "H",
            "count": 2
           }
          ]
         }
        },
        {
         "name": "Home_Team_Shots",
         "dtype": "float64",
         "stats": {
          "unique_count": 5,
          "nan_count": 0,
          "min": "6.0",
          "max": "27.0",
          "histogram": [
           {
            "bin_start": 6,
            "bin_end": 8.1,
            "count": 1
           },
           {
            "bin_start": 8.1,
            "bin_end": 10.2,
            "count": 1
           },
           {
            "bin_start": 10.2,
            "bin_end": 12.3,
            "count": 0
           },
           {
            "bin_start": 12.3,
            "bin_end": 14.4,
            "count": 1
           },
           {
            "bin_start": 14.4,
            "bin_end": 16.5,
            "count": 0
           },
           {
            "bin_start": 16.5,
            "bin_end": 18.6,
            "count": 0
           },
           {
            "bin_start": 18.6,
            "bin_end": 20.700000000000003,
            "count": 1
           },
           {
            "bin_start": 20.700000000000003,
            "bin_end": 22.8,
            "count": 0
           },
           {
            "bin_start": 22.8,
            "bin_end": 24.900000000000002,
            "count": 0
           },
           {
            "bin_start": 24.900000000000002,
            "bin_end": 27,
            "count": 1
           }
          ]
         }
        },
        {
         "name": "Away_Team_Shots",
         "dtype": "float64",
         "stats": {
          "unique_count": 5,
          "nan_count": 0,
          "min": "6.0",
          "max": "14.0",
          "histogram": [
           {
            "bin_start": 6,
            "bin_end": 6.8,
            "count": 1
           },
           {
            "bin_start": 6.8,
            "bin_end": 7.6,
            "count": 0
           },
           {
            "bin_start": 7.6,
            "bin_end": 8.4,
            "count": 1
           },
           {
            "bin_start": 8.4,
            "bin_end": 9.2,
            "count": 1
           },
           {
            "bin_start": 9.2,
            "bin_end": 10,
            "count": 0
           },
           {
            "bin_start": 10,
            "bin_end": 10.8,
            "count": 1
           },
           {
            "bin_start": 10.8,
            "bin_end": 11.600000000000001,
            "count": 0
           },
           {
            "bin_start": 11.600000000000001,
            "bin_end": 12.4,
            "count": 0
           },
           {
            "bin_start": 12.4,
            "bin_end": 13.2,
            "count": 0
           },
           {
            "bin_start": 13.2,
            "bin_end": 14,
            "count": 1
           }
          ]
         }
        },
        {
         "name": "Home_Team_Shots_on_Target",
         "dtype": "float64",
         "stats": {
          "unique_count": 4,
          "nan_count": 0,
          "min": "2.0",
          "max": "10.0",
          "histogram": [
           {
            "bin_start": 2,
            "bin_end": 2.8,
            "count": 1
           },
           {
            "bin_start": 2.8,
            "bin_end": 3.6,
            "count": 0
           },
           {
            "bin_start": 3.6,
            "bin_end": 4.4,
            "count": 2
           },
           {
            "bin_start": 4.4,
            "bin_end": 5.2,
            "count": 0
           },
           {
            "bin_start": 5.2,
            "bin_end": 6,
            "count": 0
           },
           {
            "bin_start": 6,
            "bin_end": 6.800000000000001,
            "count": 1
           },
           {
            "bin_start": 6.800000000000001,
            "bin_end": 7.6000000000000005,
            "count": 0
           },
           {
            "bin_start": 7.6000000000000005,
            "bin_end": 8.4,
            "count": 0
           },
           {
            "bin_start": 8.4,
            "bin_end": 9.2,
            "count": 0
           },
           {
            "bin_start": 9.2,
            "bin_end": 10,
            "count": 1
           }
          ]
         }
        },
        {
         "name": "Away_Team_Shots_on_Target",
         "dtype": "float64",
         "stats": {
          "unique_count": 5,
          "nan_count": 0,
          "min": "1.0",
          "max": "6.0",
          "histogram": [
           {
            "bin_start": 1,
            "bin_end": 1.5,
            "count": 1
           },
           {
            "bin_start": 1.5,
            "bin_end": 2,
            "count": 0
           },
           {
            "bin_start": 2,
            "bin_end": 2.5,
            "count": 0
           },
           {
            "bin_start": 2.5,
            "bin_end": 3,
            "count": 0
           },
           {
            "bin_start": 3,
            "bin_end": 3.5,
            "count": 1
           },
           {
            "bin_start": 3.5,
            "bin_end": 4,
            "count": 0
           },
           {
            "bin_start": 4,
            "bin_end": 4.5,
            "count": 1
           },
           {
            "bin_start": 4.5,
            "bin_end": 5,
            "count": 0
           },
           {
            "bin_start": 5,
            "bin_end": 5.5,
            "count": 1
           },
           {
            "bin_start": 5.5,
            "bin_end": 6,
            "count": 1
           }
          ]
         }
        },
        {
         "name": "Home_Team_Corners",
         "dtype": "float64",
         "stats": {
          "unique_count": 5,
          "nan_count": 0,
          "min": "3.0",
          "max": "12.0",
          "histogram": [
           {
            "bin_start": 3,
            "bin_end": 3.9,
            "count": 1
           },
           {
            "bin_start": 3.9,
            "bin_end": 4.8,
            "count": 0
           },
           {
            "bin_start": 4.8,
            "bin_end": 5.7,
            "count": 0
           },
           {
            "bin_start": 5.7,
            "bin_end": 6.6,
            "count": 1
           },
           {
            "bin_start": 6.6,
            "bin_end": 7.5,
            "count": 0
           },
           {
            "bin_start": 7.5,
            "bin_end": 8.4,
            "count": 1
           },
           {
            "bin_start": 8.4,
            "bin_end": 9.3,
            "count": 1
           },
           {
            "bin_start": 9.3,
            "bin_end": 10.2,
            "count": 0
           },
           {
            "bin_start": 10.2,
            "bin_end": 11.1,
            "count": 0
           },
           {
            "bin_start": 11.1,
            "bin_end": 12,
            "count": 1
           }
          ]
         }
        },
        {
         "name": "Away_Team_Corners",
         "dtype": "float64",
         "stats": {
          "unique_count": 5,
          "nan_count": 0,
          "min": "4.0",
          "max": "10.0",
          "histogram": [
           {
            "bin_start": 4,
            "bin_end": 4.6,
            "count": 1
           },
           {
            "bin_start": 4.6,
            "bin_end": 5.2,
            "count": 1
           },
           {
            "bin_start": 5.2,
            "bin_end": 5.8,
            "count": 0
           },
           {
            "bin_start": 5.8,
            "bin_end": 6.4,
            "count": 0
           },
           {
            "bin_start": 6.4,
            "bin_end": 7,
            "count": 0
           },
           {
            "bin_start": 7,
            "bin_end": 7.6,
            "count": 1
           },
           {
            "bin_start": 7.6,
            "bin_end": 8.2,
            "count": 0
           },
           {
            "bin_start": 8.2,
            "bin_end": 8.8,
            "count": 0
           },
           {
            "bin_start": 8.8,
            "bin_end": 9.399999999999999,
            "count": 1
           },
           {
            "bin_start": 9.399999999999999,
            "bin_end": 10,
            "count": 1
           }
          ]
         }
        },
        {
         "name": "Home_Team_Yellow_Cards",
         "dtype": "float64",
         "stats": {
          "unique_count": 3,
          "nan_count": 0,
          "min": "0.0",
          "max": "3.0",
          "histogram": [
           {
            "bin_start": 0,
            "bin_end": 0.3,
            "count": 2
           },
           {
            "bin_start": 0.3,
            "bin_end": 0.6,
            "count": 0
           },
           {
            "bin_start": 0.6,
            "bin_end": 0.8999999999999999,
            "count": 0
           },
           {
            "bin_start": 0.8999999999999999,
            "bin_end": 1.2,
            "count": 2
           },
           {
            "bin_start": 1.2,
            "bin_end": 1.5,
            "count": 0
           },
           {
            "bin_start": 1.5,
            "bin_end": 1.7999999999999998,
            "count": 0
           },
           {
            "bin_start": 1.7999999999999998,
            "bin_end": 2.1,
            "count": 0
           },
           {
            "bin_start": 2.1,
            "bin_end": 2.4,
            "count": 0
           },
           {
            "bin_start": 2.4,
            "bin_end": 2.6999999999999997,
            "count": 0
           },
           {
            "bin_start": 2.6999999999999997,
            "bin_end": 3,
            "count": 1
           }
          ]
         }
        },
        {
         "name": "Away_Team_Yellow_Cards",
         "dtype": "float64",
         "stats": {
          "unique_count": 3,
          "nan_count": 0,
          "min": "1.0",
          "max": "3.0",
          "histogram": [
           {
            "bin_start": 1,
            "bin_end": 1.2,
            "count": 2
           },
           {
            "bin_start": 1.2,
            "bin_end": 1.4,
            "count": 0
           },
           {
            "bin_start": 1.4,
            "bin_end": 1.6,
            "count": 0
           },
           {
            "bin_start": 1.6,
            "bin_end": 1.8,
            "count": 0
           },
           {
            "bin_start": 1.8,
            "bin_end": 2,
            "count": 0
           },
           {
            "bin_start": 2,
            "bin_end": 2.2,
            "count": 1
           },
           {
            "bin_start": 2.2,
            "bin_end": 2.4000000000000004,
            "count": 0
           },
           {
            "bin_start": 2.4000000000000004,
            "bin_end": 2.6,
            "count": 0
           },
           {
            "bin_start": 2.6,
            "bin_end": 2.8,
            "count": 0
           },
           {
            "bin_start": 2.8,
            "bin_end": 3,
            "count": 2
           }
          ]
         }
        },
        {
         "name": "Home_Team_Red_Cards",
         "dtype": "float64",
         "stats": {
          "unique_count": 2,
          "nan_count": 0,
          "min": "0.0",
          "max": "2.0",
          "histogram": [
           {
            "bin_start": 0,
            "bin_end": 0.2,
            "count": 4
           },
           {
            "bin_start": 0.2,
            "bin_end": 0.4,
            "count": 0
           },
           {
            "bin_start": 0.4,
            "bin_end": 0.6000000000000001,
            "count": 0
           },
           {
            "bin_start": 0.6000000000000001,
            "bin_end": 0.8,
            "count": 0
           },
           {
            "bin_start": 0.8,
            "bin_end": 1,
            "count": 0
           },
           {
            "bin_start": 1,
            "bin_end": 1.2000000000000002,
            "count": 0
           },
           {
            "bin_start": 1.2000000000000002,
            "bin_end": 1.4000000000000001,
            "count": 0
           },
           {
            "bin_start": 1.4000000000000001,
            "bin_end": 1.6,
            "count": 0
           },
           {
            "bin_start": 1.6,
            "bin_end": 1.8,
            "count": 0
           },
           {
            "bin_start": 1.8,
            "bin_end": 2,
            "count": 1
           }
          ]
         }
        },
        {
         "name": "Away_Team_Red_Cards",
         "dtype": "float64",
         "stats": {
          "unique_count": 1,
          "nan_count": 0,
          "min": "0.0",
          "max": "0.0",
          "histogram": [
           {
            "bin_start": -0.5,
            "bin_end": -0.4,
            "count": 0
           },
           {
            "bin_start": -0.4,
            "bin_end": -0.3,
            "count": 0
           },
           {
            "bin_start": -0.3,
            "bin_end": -0.19999999999999996,
            "count": 0
           },
           {
            "bin_start": -0.19999999999999996,
            "bin_end": -0.09999999999999998,
            "count": 0
           },
           {
            "bin_start": -0.09999999999999998,
            "bin_end": 0,
            "count": 0
           },
           {
            "bin_start": 0,
            "bin_end": 0.10000000000000009,
            "count": 5
           },
           {
            "bin_start": 0.10000000000000009,
            "bin_end": 0.20000000000000007,
            "count": 0
           },
           {
            "bin_start": 0.20000000000000007,
            "bin_end": 0.30000000000000004,
            "count": 0
           },
           {
            "bin_start": 0.30000000000000004,
            "bin_end": 0.4,
            "count": 0
           },
           {
            "bin_start": 0.4,
            "bin_end": 0.5,
            "count": 0
           }
          ]
         }
        },
        {
         "name": "DayOfWeek",
         "dtype": "float64",
         "stats": {
          "unique_count": 2,
          "nan_count": 0,
          "min": "4.0",
          "max": "5.0",
          "histogram": [
           {
            "bin_start": 4,
            "bin_end": 4.1,
            "count": 1
           },
           {
            "bin_start": 4.1,
            "bin_end": 4.2,
            "count": 0
           },
           {
            "bin_start": 4.2,
            "bin_end": 4.3,
            "count": 0
           },
           {
            "bin_start": 4.3,
            "bin_end": 4.4,
            "count": 0
           },
           {
            "bin_start": 4.4,
            "bin_end": 4.5,
            "count": 0
           },
           {
            "bin_start": 4.5,
            "bin_end": 4.6,
            "count": 0
           },
           {
            "bin_start": 4.6,
            "bin_end": 4.7,
            "count": 0
           },
           {
            "bin_start": 4.7,
            "bin_end": 4.8,
            "count": 0
           },
           {
            "bin_start": 4.8,
            "bin_end": 4.9,
            "count": 0
           },
           {
            "bin_start": 4.9,
            "bin_end": 5,
            "count": 4
           }
          ]
         }
        },
        {
         "name": "is_Weekend",
         "dtype": "int64",
         "stats": {
          "unique_count": 2,
          "nan_count": 0,
          "min": "0",
          "max": "1",
          "histogram": [
           {
            "bin_start": 0,
            "bin_end": 0.1,
            "count": 1
           },
           {
            "bin_start": 0.1,
            "bin_end": 0.2,
            "count": 0
           },
           {
            "bin_start": 0.2,
            "bin_end": 0.30000000000000004,
            "count": 0
           },
           {
            "bin_start": 0.30000000000000004,
            "bin_end": 0.4,
            "count": 0
           },
           {
            "bin_start": 0.4,
            "bin_end": 0.5,
            "count": 0
           },
           {
            "bin_start": 0.5,
            "bin_end": 0.6000000000000001,
            "count": 0
           },
           {
            "bin_start": 0.6000000000000001,
            "bin_end": 0.7000000000000001,
            "count": 0
           },
           {
            "bin_start": 0.7000000000000001,
            "bin_end": 0.8,
            "count": 0
           },
           {
            "bin_start": 0.8,
            "bin_end": 0.9,
            "count": 0
           },
           {
            "bin_start": 0.9,
            "bin_end": 1,
            "count": 4
           }
          ]
         }
        },
        {
         "name": "Home_Team_Fouls_Committed",
         "dtype": "float64",
         "stats": {
          "unique_count": 5,
          "nan_count": 0,
          "min": "6.0",
          "max": "16.0",
          "histogram": [
           {
            "bin_start": 6,
            "bin_end": 7,
            "count": 1
           },
           {
            "bin_start": 7,
            "bin_end": 8,
            "count": 1
           },
           {
            "bin_start": 8,
            "bin_end": 9,
            "count": 0
           },
           {
            "bin_start": 9,
            "bin_end": 10,
            "count": 1
           },
           {
            "bin_start": 10,
            "bin_end": 11,
            "count": 0
           },
           {
            "bin_start": 11,
            "bin_end": 12,
            "count": 0
           },
           {
            "bin_start": 12,
            "bin_end": 13,
            "count": 0
           },
           {
            "bin_start": 13,
            "bin_end": 14,
            "count": 1
           },
           {
            "bin_start": 14,
            "bin_end": 15,
            "count": 0
           },
           {
            "bin_start": 15,
            "bin_end": 16,
            "count": 1
           }
          ]
         }
        },
        {
         "name": "Away_Team_Fouls_Committed",
         "dtype": "float64",
         "stats": {
          "unique_count": 5,
          "nan_count": 0,
          "min": "9.0",
          "max": "19.0",
          "histogram": [
           {
            "bin_start": 9,
            "bin_end": 10,
            "count": 1
           },
           {
            "bin_start": 10,
            "bin_end": 11,
            "count": 1
           },
           {
            "bin_start": 11,
            "bin_end": 12,
            "count": 1
           },
           {
            "bin_start": 12,
            "bin_end": 13,
            "count": 1
           },
           {
            "bin_start": 13,
            "bin_end": 14,
            "count": 0
           },
           {
            "bin_start": 14,
            "bin_end": 15,
            "count": 0
           },
           {
            "bin_start": 15,
            "bin_end": 16,
            "count": 0
           },
           {
            "bin_start": 16,
            "bin_end": 17,
            "count": 0
           },
           {
            "bin_start": 17,
            "bin_end": 18,
            "count": 0
           },
           {
            "bin_start": 18,
            "bin_end": 19,
            "count": 1
           }
          ]
         }
        },
        {
         "name": "over_2.5",
         "dtype": "int64",
         "stats": {
          "unique_count": 2,
          "nan_count": 0,
          "min": "0",
          "max": "1",
          "histogram": [
           {
            "bin_start": 0,
            "bin_end": 0.1,
            "count": 2
           },
           {
            "bin_start": 0.1,
            "bin_end": 0.2,
            "count": 0
           },
           {
            "bin_start": 0.2,
            "bin_end": 0.30000000000000004,
            "count": 0
           },
           {
            "bin_start": 0.30000000000000004,
            "bin_end": 0.4,
            "count": 0
           },
           {
            "bin_start": 0.4,
            "bin_end": 0.5,
            "count": 0
           },
           {
            "bin_start": 0.5,
            "bin_end": 0.6000000000000001,
            "count": 0
           },
           {
            "bin_start": 0.6000000000000001,
            "bin_end": 0.7000000000000001,
            "count": 0
           },
           {
            "bin_start": 0.7000000000000001,
            "bin_end": 0.8,
            "count": 0
           },
           {
            "bin_start": 0.8,
            "bin_end": 0.9,
            "count": 0
           },
           {
            "bin_start": 0.9,
            "bin_end": 1,
            "count": 3
           }
          ]
         }
        },
        {
         "name": "Average_home_win_odds",
         "dtype": "float64",
         "stats": {
          "unique_count": 5,
          "nan_count": 0,
          "min": "1.2425",
          "max": "10.13125",
          "histogram": [
           {
            "bin_start": 1.2425,
            "bin_end": 2.131375,
            "count": 4
           },
           {
            "bin_start": 2.131375,
            "bin_end": 3.02025,
            "count": 0
           },
           {
            "bin_start": 3.02025,
            "bin_end": 3.9091249999999995,
            "count": 0
           },
           {
            "bin_start": 3.9091249999999995,
            "bin_end": 4.798,
            "count": 0
           },
           {
            "bin_start": 4.798,
            "bin_end": 5.686875,
            "count": 0
           },
           {
            "bin_start": 5.686875,
            "bin_end": 6.575749999999999,
            "count": 0
           },
           {
            "bin_start": 6.575749999999999,
            "bin_end": 7.464625,
            "count": 0
           },
           {
            "bin_start": 7.464625,
            "bin_end": 8.3535,
            "count": 0
           },
           {
            "bin_start": 8.3535,
            "bin_end": 9.242375,
            "count": 0
           },
           {
            "bin_start": 9.242375,
            "bin_end": 10.13125,
            "count": 1
           }
          ]
         }
        },
        {
         "name": "Average_away_win_odds",
         "dtype": "float64",
         "stats": {
          "unique_count": 5,
          "nan_count": 0,
          "min": "1.3250000000000002",
          "max": "14.115",
          "histogram": [
           {
            "bin_start": 1.3250000000000002,
            "bin_end": 2.604,
            "count": 1
           },
           {
            "bin_start": 2.604,
            "bin_end": 3.883,
            "count": 0
           },
           {
            "bin_start": 3.883,
            "bin_end": 5.162,
            "count": 1
           },
           {
            "bin_start": 5.162,
            "bin_end": 6.441,
            "count": 1
           },
           {
            "bin_start": 6.441,
            "bin_end": 7.72,
            "count": 1
           },
           {
            "bin_start": 7.72,
            "bin_end": 8.998999999999999,
            "count": 0
           },
           {
            "bin_start": 8.998999999999999,
            "bin_end": 10.277999999999999,
            "count": 0
           },
           {
            "bin_start": 10.277999999999999,
            "bin_end": 11.556999999999999,
            "count": 0
           },
           {
            "bin_start": 11.556999999999999,
            "bin_end": 12.835999999999999,
            "count": 0
           },
           {
            "bin_start": 12.835999999999999,
            "bin_end": 14.115,
            "count": 1
           }
          ]
         }
        },
        {
         "name": "Average_draw_odds",
         "dtype": "float64",
         "stats": {
          "unique_count": 5,
          "nan_count": 0,
          "min": "3.4975",
          "max": "6.1325",
          "histogram": [
           {
            "bin_start": 3.4975,
            "bin_end": 3.761,
            "count": 2
           },
           {
            "bin_start": 3.761,
            "bin_end": 4.0245,
            "count": 0
           },
           {
            "bin_start": 4.0245,
            "bin_end": 4.288,
            "count": 0
           },
           {
            "bin_start": 4.288,
            "bin_end": 4.5515,
            "count": 1
           },
           {
            "bin_start": 4.5515,
            "bin_end": 4.815,
            "count": 0
           },
           {
            "bin_start": 4.815,
            "bin_end": 5.0785,
            "count": 0
           },
           {
            "bin_start": 5.0785,
            "bin_end": 5.3420000000000005,
            "count": 1
           },
           {
            "bin_start": 5.3420000000000005,
            "bin_end": 5.6055,
            "count": 0
           },
           {
            "bin_start": 5.6055,
            "bin_end": 5.869,
            "count": 0
           },
           {
            "bin_start": 5.869,
            "bin_end": 6.1325,
            "count": 1
           }
          ]
         }
        },
        {
         "name": "Average_over_2.5_goals_odds",
         "dtype": "float64",
         "stats": {
          "unique_count": 5,
          "nan_count": 0,
          "min": "1.61",
          "max": "2.11",
          "histogram": [
           {
            "bin_start": 1.61,
            "bin_end": 1.6600000000000001,
            "count": 3
           },
           {
            "bin_start": 1.6600000000000001,
            "bin_end": 1.71,
            "count": 0
           },
           {
            "bin_start": 1.71,
            "bin_end": 1.76,
            "count": 0
           },
           {
            "bin_start": 1.76,
            "bin_end": 1.81,
            "count": 0
           },
           {
            "bin_start": 1.81,
            "bin_end": 1.8599999999999999,
            "count": 0
           },
           {
            "bin_start": 1.8599999999999999,
            "bin_end": 1.91,
            "count": 0
           },
           {
            "bin_start": 1.91,
            "bin_end": 1.96,
            "count": 0
           },
           {
            "bin_start": 1.96,
            "bin_end": 2.01,
            "count": 0
           },
           {
            "bin_start": 2.01,
            "bin_end": 2.06,
            "count": 0
           },
           {
            "bin_start": 2.06,
            "bin_end": 2.11,
            "count": 2
           }
          ]
         }
        },
        {
         "name": "Average_under_2.5_goals_odds",
         "dtype": "float64",
         "stats": {
          "unique_count": 5,
          "nan_count": 0,
          "min": "1.72",
          "max": "2.32",
          "histogram": [
           {
            "bin_start": 1.72,
            "bin_end": 1.78,
            "count": 2
           },
           {
            "bin_start": 1.78,
            "bin_end": 1.8399999999999999,
            "count": 0
           },
           {
            "bin_start": 1.8399999999999999,
            "bin_end": 1.9,
            "count": 0
           },
           {
            "bin_start": 1.9,
            "bin_end": 1.96,
            "count": 0
           },
           {
            "bin_start": 1.96,
            "bin_end": 2.02,
            "count": 0
           },
           {
            "bin_start": 2.02,
            "bin_end": 2.08,
            "count": 0
           },
           {
            "bin_start": 2.08,
            "bin_end": 2.1399999999999997,
            "count": 0
           },
           {
            "bin_start": 2.1399999999999997,
            "bin_end": 2.1999999999999997,
            "count": 0
           },
           {
            "bin_start": 2.1999999999999997,
            "bin_end": 2.26,
            "count": 1
           },
           {
            "bin_start": 2.26,
            "bin_end": 2.32,
            "count": 2
           }
          ]
         }
        },
        {
         "name": "Average_Asian_Handicap_Home_odds",
         "dtype": "float64",
         "stats": {
          "unique_count": 5,
          "nan_count": 0,
          "min": "0.1099999999999999",
          "max": "1.705",
          "histogram": [
           {
            "bin_start": 0.1099999999999999,
            "bin_end": 0.26949999999999996,
            "count": 1
           },
           {
            "bin_start": 0.26949999999999996,
            "bin_end": 0.42899999999999994,
            "count": 1
           },
           {
            "bin_start": 0.42899999999999994,
            "bin_end": 0.5885,
            "count": 1
           },
           {
            "bin_start": 0.5885,
            "bin_end": 0.748,
            "count": 1
           },
           {
            "bin_start": 0.748,
            "bin_end": 0.9075,
            "count": 0
           },
           {
            "bin_start": 0.9075,
            "bin_end": 1.0670000000000002,
            "count": 0
           },
           {
            "bin_start": 1.0670000000000002,
            "bin_end": 1.2265000000000001,
            "count": 0
           },
           {
            "bin_start": 1.2265000000000001,
            "bin_end": 1.3860000000000001,
            "count": 0
           },
           {
            "bin_start": 1.3860000000000001,
            "bin_end": 1.5455,
            "count": 0
           },
           {
            "bin_start": 1.5455,
            "bin_end": 1.705,
            "count": 1
           }
          ]
         }
        },
        {
         "name": "Average_Asian_Handicap_Away_odds",
         "dtype": "float64",
         "stats": {
          "unique_count": 5,
          "nan_count": 0,
          "min": "1.83",
          "max": "2.02",
          "histogram": [
           {
            "bin_start": 1.83,
            "bin_end": 1.849,
            "count": 1
           },
           {
            "bin_start": 1.849,
            "bin_end": 1.868,
            "count": 0
           },
           {
            "bin_start": 1.868,
            "bin_end": 1.887,
            "count": 0
           },
           {
            "bin_start": 1.887,
            "bin_end": 1.9060000000000001,
            "count": 1
           },
           {
            "bin_start": 1.9060000000000001,
            "bin_end": 1.925,
            "count": 0
           },
           {
            "bin_start": 1.925,
            "bin_end": 1.944,
            "count": 0
           },
           {
            "bin_start": 1.944,
            "bin_end": 1.963,
            "count": 1
           },
           {
            "bin_start": 1.963,
            "bin_end": 1.982,
            "count": 1
           },
           {
            "bin_start": 1.982,
            "bin_end": 2.001,
            "count": 0
           },
           {
            "bin_start": 2.001,
            "bin_end": 2.02,
            "count": 1
           }
          ]
         }
        },
        {
         "name": "Close_home_win_odds",
         "dtype": "float64",
         "stats": {
          "unique_count": 5,
          "nan_count": 0,
          "min": "1.33",
          "max": "11.75",
          "histogram": [
           {
            "bin_start": 1.33,
            "bin_end": 2.372,
            "count": 4
           },
           {
            "bin_start": 2.372,
            "bin_end": 3.414,
            "count": 0
           },
           {
            "bin_start": 3.414,
            "bin_end": 4.456,
            "count": 0
           },
           {
            "bin_start": 4.456,
            "bin_end": 5.498,
            "count": 0
           },
           {
            "bin_start": 5.498,
            "bin_end": 6.54,
            "count": 0
           },
           {
            "bin_start": 6.54,
            "bin_end": 7.582000000000001,
            "count": 0
           },
           {
            "bin_start": 7.582000000000001,
            "bin_end": 8.624,
            "count": 0
           },
           {
            "bin_start": 8.624,
            "bin_end": 9.666,
            "count": 0
           },
           {
            "bin_start": 9.666,
            "bin_end": 10.708,
            "count": 0
           },
           {
            "bin_start": 10.708,
            "bin_end": 11.75,
            "count": 1
           }
          ]
         }
        },
        {
         "name": "Close_draw_odds",
         "dtype": "float64",
         "stats": {
          "unique_count": 5,
          "nan_count": 0,
          "min": "3.49",
          "max": "6.15",
          "histogram": [
           {
            "bin_start": 3.49,
            "bin_end": 3.7560000000000002,
            "count": 2
           },
           {
            "bin_start": 3.7560000000000002,
            "bin_end": 4.022,
            "count": 0
           },
           {
            "bin_start": 4.022,
            "bin_end": 4.288,
            "count": 0
           },
           {
            "bin_start": 4.288,
            "bin_end": 4.554,
            "count": 0
           },
           {
            "bin_start": 4.554,
            "bin_end": 4.82,
            "count": 1
           },
           {
            "bin_start": 4.82,
            "bin_end": 5.086,
            "count": 0
           },
           {
            "bin_start": 5.086,
            "bin_end": 5.352,
            "count": 0
           },
           {
            "bin_start": 5.352,
            "bin_end": 5.618,
            "count": 1
           },
           {
            "bin_start": 5.618,
            "bin_end": 5.884,
            "count": 0
           },
           {
            "bin_start": 5.884,
            "bin_end": 6.15,
            "count": 1
           }
          ]
         }
        },
        {
         "name": "Close_away_win_odds",
         "dtype": "float64",
         "stats": {
          "unique_count": 5,
          "nan_count": 0,
          "min": "1.29",
          "max": "12.25",
          "histogram": [
           {
            "bin_start": 1.29,
            "bin_end": 2.386,
            "count": 1
           },
           {
            "bin_start": 2.386,
            "bin_end": 3.482,
            "count": 0
           },
           {
            "bin_start": 3.482,
            "bin_end": 4.578,
            "count": 0
           },
           {
            "bin_start": 4.578,
            "bin_end": 5.674,
            "count": 2
           },
           {
            "bin_start": 5.674,
            "bin_end": 6.7700000000000005,
            "count": 0
           },
           {
            "bin_start": 6.7700000000000005,
            "bin_end": 7.8660000000000005,
            "count": 1
           },
           {
            "bin_start": 7.8660000000000005,
            "bin_end": 8.962,
            "count": 0
           },
           {
            "bin_start": 8.962,
            "bin_end": 10.058,
            "count": 0
           },
           {
            "bin_start": 10.058,
            "bin_end": 11.154,
            "count": 0
           },
           {
            "bin_start": 11.154,
            "bin_end": 12.25,
            "count": 1
           }
          ]
         }
        },
        {
         "name": "has_favorite",
         "dtype": "int64",
         "stats": {
          "unique_count": 1,
          "nan_count": 0,
          "min": "1",
          "max": "1",
          "histogram": [
           {
            "bin_start": 0.5,
            "bin_end": 0.6,
            "count": 0
           },
           {
            "bin_start": 0.6,
            "bin_end": 0.7,
            "count": 0
           },
           {
            "bin_start": 0.7,
            "bin_end": 0.8,
            "count": 0
           },
           {
            "bin_start": 0.8,
            "bin_end": 0.9,
            "count": 0
           },
           {
            "bin_start": 0.9,
            "bin_end": 1,
            "count": 0
           },
           {
            "bin_start": 1,
            "bin_end": 1.1,
            "count": 5
           },
           {
            "bin_start": 1.1,
            "bin_end": 1.2000000000000002,
            "count": 0
           },
           {
            "bin_start": 1.2000000000000002,
            "bin_end": 1.3,
            "count": 0
           },
           {
            "bin_start": 1.3,
            "bin_end": 1.4,
            "count": 0
           },
           {
            "bin_start": 1.4,
            "bin_end": 1.5,
            "count": 0
           }
          ]
         }
        },
        {
         "name": "Time_kick_off_bin",
         "dtype": "object",
         "stats": {
          "unique_count": 1,
          "nan_count": 0,
          "categories": [
           {
            "name": "Afternoon",
            "count": 5
           }
          ]
         }
        },
        {
         "name": "HomeTeam_Rotherham",
         "dtype": "bool",
         "stats": {
          "unique_count": 1,
          "nan_count": 0,
          "categories": [
           {
            "name": "False",
            "count": 5
           }
          ]
         }
        },
        {
         "name": "HomeTeam_OFI Crete",
         "dtype": "bool",
         "stats": {
          "unique_count": 1,
          "nan_count": 0,
          "categories": [
           {
            "name": "False",
            "count": 5
           }
          ]
         }
        },
        {
         "name": "HomeTeam_Barcelona B",
         "dtype": "bool",
         "stats": {
          "unique_count": 1,
          "nan_count": 0,
          "categories": [
           {
            "name": "False",
            "count": 5
           }
          ]
         }
        },
        {
         "name": "HomeTeam_Queen of Sth",
         "dtype": "bool",
         "stats": {
          "unique_count": 1,
          "nan_count": 0,
          "categories": [
           {
            "name": "False",
            "count": 5
           }
          ]
         }
        },
        {
         "name": "HomeTeam_Charleroi",
         "dtype": "bool",
         "stats": {
          "unique_count": 1,
          "nan_count": 0,
          "categories": [
           {
            "name": "False",
            "count": 5
           }
          ]
         }
        },
        {
         "name": "HomeTeam_Mallorca",
         "dtype": "bool",
         "stats": {
          "unique_count": 1,
          "nan_count": 0,
          "categories": [
           {
            "name": "False",
            "count": 5
           }
          ]
         }
        },
        {
         "name": "HomeTeam_Amiens",
         "dtype": "bool",
         "stats": {
          "unique_count": 1,
          "nan_count": 0,
          "categories": [
           {
            "name": "False",
            "count": 5
           }
          ]
         }
        },
        {
         "name": "HomeTeam_PAOK",
         "dtype": "bool",
         "stats": {
          "unique_count": 1,
          "nan_count": 0,
          "categories": [
           {
            "name": "False",
            "count": 5
           }
          ]
         }
        },
        {
         "name": "HomeTeam_Morecambe",
         "dtype": "bool",
         "stats": {
          "unique_count": 1,
          "nan_count": 0,
          "categories": [
           {
            "name": "False",
            "count": 5
           }
          ]
         }
        },
        {
         "name": "HomeTeam_Arsenal",
         "dtype": "bool",
         "stats": {
          "unique_count": 2,
          "nan_count": 0,
          "categories": [
           {
            "name": "False",
            "count": 4
           },
           {
            "name": "True",
            "count": 1
           }
          ]
         }
        },
        {
         "name": "HomeTeam_Rodez",
         "dtype": "bool",
         "stats": {
          "unique_count": 1,
          "nan_count": 0,
          "categories": [
           {
            "name": "False",
            "count": 5
           }
          ]
         }
        },
        {
         "name": "HomeTeam_Sociedad B",
         "dtype": "bool",
         "stats": {
          "unique_count": 1,
          "nan_count": 0,
          "categories": [
           {
            "name": "False",
            "count": 5
           }
          ]
         }
        },
        {
         "name": "HomeTeam_Fuenlabrada",
         "dtype": "bool",
         "stats": {
          "unique_count": 1,
          "nan_count": 0,
          "categories": [
           {
            "name": "False",
            "count": 5
           }
          ]
         }
        },
        {
         "name": "HomeTeam_Forfar",
         "dtype": "bool",
         "stats": {
          "unique_count": 1,
          "nan_count": 0,
          "categories": [
           {
            "name": "False",
            "count": 5
           }
          ]
         }
        },
        {
         "name": "HomeTeam_Burnley",
         "dtype": "bool",
         "stats": {
          "unique_count": 1,
          "nan_count": 0,
          "categories": [
           {
            "name": "False",
            "count": 5
           }
          ]
         }
        },
        {
         "name": "HomeTeam_Livingston",
         "dtype": "bool",
         "stats": {
          "unique_count": 1,
          "nan_count": 0,
          "categories": [
           {
            "name": "False",
            "count": 5
           }
          ]
         }
        },
        {
         "name": "HomeTeam_Colchester",
         "dtype": "bool",
         "stats": {
          "unique_count": 1,
          "nan_count": 0,
          "categories": [
           {
            "name": "False",
            "count": 5
           }
          ]
         }
        },
        {
         "name": "HomeTeam_Cittadella",
         "dtype": "bool",
         "stats": {
          "unique_count": 1,
          "nan_count": 0,
          "categories": [
           {
            "name": "False",
            "count": 5
           }
          ]
         }
        },
        {
         "name": "HomeTeam_Sociedad",
         "dtype": "bool",
         "stats": {
          "unique_count": 1,
          "nan_count": 0,
          "categories": [
           {
            "name": "False",
            "count": 5
           }
          ]
         }
        },
        {
         "name": "HomeTeam_Hibernian",
         "dtype": "bool",
         "stats": {
          "unique_count": 1,
          "nan_count": 0,
          "categories": [
           {
            "name": "False",
            "count": 5
           }
          ]
         }
        },
        {
         "name": "HomeTeam_Sunderland",
         "dtype": "bool",
         "stats": {
          "unique_count": 1,
          "nan_count": 0,
          "categories": [
           {
            "name": "False",
            "count": 5
           }
          ]
         }
        },
        {
         "name": "HomeTeam_Trapani",
         "dtype": "bool",
         "stats": {
          "unique_count": 1,
          "nan_count": 0,
          "categories": [
           {
            "name": "False",
            "count": 5
           }
          ]
         }
        },
        {
         "name": "HomeTeam_Regensburg",
         "dtype": "bool",
         "stats": {
          "unique_count": 1,
          "nan_count": 0,
          "categories": [
           {
            "name": "False",
            "count": 5
           }
          ]
         }
        },
        {
         "name": "HomeTeam_Reading",
         "dtype": "bool",
         "stats": {
          "unique_count": 1,
          "nan_count": 0,
          "categories": [
           {
            "name": "False",
            "count": 5
           }
          ]
         }
        },
        {
         "name": "HomeTeam_Zaragoza",
         "dtype": "bool",
         "stats": {
          "unique_count": 1,
          "nan_count": 0,
          "categories": [
           {
            "name": "False",
            "count": 5
           }
          ]
         }
        },
        {
         "name": "HomeTeam_Alanyaspor",
         "dtype": "bool",
         "stats": {
          "unique_count": 1,
          "nan_count": 0,
          "categories": [
           {
            "name": "False",
            "count": 5
           }
          ]
         }
        },
        {
         "name": "HomeTeam_Cardiff",
         "dtype": "bool",
         "stats": {
          "unique_count": 1,
          "nan_count": 0,
          "categories": [
           {
            "name": "False",
            "count": 5
           }
          ]
         }
        },
        {
         "name": "HomeTeam_Erzgebirge Aue",
         "dtype": "bool",
         "stats": {
          "unique_count": 1,
          "nan_count": 0,
          "categories": [
           {
            "name": "False",
            "count": 5
           }
          ]
         }
        },
        {
         "name": "HomeTeam_Ankaragucu",
         "dtype": "bool",
         "stats": {
          "unique_count": 1,
          "nan_count": 0,
          "categories": [
           {
            "name": "False",
            "count": 5
           }
          ]
         }
        },
        {
         "name": "HomeTeam_Mainz",
         "dtype": "bool",
         "stats": {
          "unique_count": 1,
          "nan_count": 0,
          "categories": [
           {
            "name": "False",
            "count": 5
           }
          ]
         }
        },
        {
         "name": "HomeTeam_Bayern Munich",
         "dtype": "bool",
         "stats": {
          "unique_count": 1,
          "nan_count": 0,
          "categories": [
           {
            "name": "False",
            "count": 5
           }
          ]
         }
        },
        {
         "name": "HomeTeam_Utrecht",
         "dtype": "bool",
         "stats": {
          "unique_count": 1,
          "nan_count": 0,
          "categories": [
           {
            "name": "False",
            "count": 5
           }
          ]
         }
        },
        {
         "name": "HomeTeam_Estoril",
         "dtype": "bool",
         "stats": {
          "unique_count": 1,
          "nan_count": 0,
          "categories": [
           {
            "name": "False",
            "count": 5
           }
          ]
         }
        },
        {
         "name": "HomeTeam_Paris SG",
         "dtype": "bool",
         "stats": {
          "unique_count": 1,
          "nan_count": 0,
          "categories": [
           {
            "name": "False",
            "count": 5
           }
          ]
         }
        },
        {
         "name": "HomeTeam_St Pauli",
         "dtype": "bool",
         "stats": {
          "unique_count": 1,
          "nan_count": 0,
          "categories": [
           {
            "name": "False",
            "count": 5
           }
          ]
         }
        },
        {
         "name": "HomeTeam_Heracles",
         "dtype": "bool",
         "stats": {
          "unique_count": 1,
          "nan_count": 0,
          "categories": [
           {
            "name": "False",
            "count": 5
           }
          ]
         }
        },
        {
         "name": "HomeTeam_Valencia",
         "dtype": "bool",
         "stats": {
          "unique_count": 1,
          "nan_count": 0,
          "categories": [
           {
            "name": "False",
            "count": 5
           }
          ]
         }
        },
        {
         "name": "HomeTeam_Ibiza",
         "dtype": "bool",
         "stats": {
          "unique_count": 1,
          "nan_count": 0,
          "categories": [
           {
            "name": "False",
            "count": 5
           }
          ]
         }
        },
        {
         "name": "HomeTeam_Hearts",
         "dtype": "bool",
         "stats": {
          "unique_count": 1,
          "nan_count": 0,
          "categories": [
           {
            "name": "False",
            "count": 5
           }
          ]
         }
        },
        {
         "name": "HomeTeam_Grenoble",
         "dtype": "bool",
         "stats": {
          "unique_count": 1,
          "nan_count": 0,
          "categories": [
           {
            "name": "False",
            "count": 5
           }
          ]
         }
        },
        {
         "name": "HomeTeam_Sevilla B",
         "dtype": "bool",
         "stats": {
          "unique_count": 1,
          "nan_count": 0,
          "categories": [
           {
            "name": "False",
            "count": 5
           }
          ]
         }
        },
        {
         "name": "HomeTeam_Denizlispor",
         "dtype": "bool",
         "stats": {
          "unique_count": 1,
          "nan_count": 0,
          "categories": [
           {
            "name": "False",
            "count": 5
           }
          ]
         }
        },
        {
         "name": "HomeTeam_Morton",
         "dtype": "bool",
         "stats": {
          "unique_count": 1,
          "nan_count": 0,
          "categories": [
           {
            "name": "False",
            "count": 5
           }
          ]
         }
        },
        {
         "name": "HomeTeam_Leganes",
         "dtype": "bool",
         "stats": {
          "unique_count": 1,
          "nan_count": 0,
          "categories": [
           {
            "name": "False",
            "count": 5
           }
          ]
         }
        },
        {
         "name": "HomeTeam_Middlesbrough",
         "dtype": "bool",
         "stats": {
          "unique_count": 1,
          "nan_count": 0,
          "categories": [
           {
            "name": "False",
            "count": 5
           }
          ]
         }
        },
        {
         "name": "HomeTeam_Sp Lisbon",
         "dtype": "bool",
         "stats": {
          "unique_count": 1,
          "nan_count": 0,
          "categories": [
           {
            "name": "False",
            "count": 5
           }
          ]
         }
        },
        {
         "name": "HomeTeam_Ionikos",
         "dtype": "bool",
         "stats": {
          "unique_count": 1,
          "nan_count": 0,
          "categories": [
           {
            "name": "False",
            "count": 5
           }
          ]
         }
        },
        {
         "name": "HomeTeam_Kelty Hearts",
         "dtype": "bool",
         "stats": {
          "unique_count": 1,
          "nan_count": 0,
          "categories": [
           {
            "name": "False",
            "count": 5
           }
          ]
         }
        },
        {
         "name": "HomeTeam_Sheffield Weds",
         "dtype": "bool",
         "stats": {
          "unique_count": 1,
          "nan_count": 0,
          "categories": [
           {
            "name": "False",
            "count": 5
           }
          ]
         }
        },
        {
         "name": "HomeTeam_Alaves",
         "dtype": "bool",
         "stats": {
          "unique_count": 1,
          "nan_count": 0,
          "categories": [
           {
            "name": "False",
            "count": 5
           }
          ]
         }
        },
        {
         "name": "HomeTeam_Cremonese",
         "dtype": "bool",
         "stats": {
          "unique_count": 1,
          "nan_count": 0,
          "categories": [
           {
            "name": "False",
            "count": 5
           }
          ]
         }
        },
        {
         "name": "HomeTeam_Liverpool",
         "dtype": "bool",
         "stats": {
          "unique_count": 1,
          "nan_count": 0,
          "categories": [
           {
            "name": "False",
            "count": 5
           }
          ]
         }
        },
        {
         "name": "HomeTeam_Granada",
         "dtype": "bool",
         "stats": {
          "unique_count": 1,
          "nan_count": 0,
          "categories": [
           {
            "name": "False",
            "count": 5
           }
          ]
         }
        },
        {
         "name": "HomeTeam_Aves",
         "dtype": "bool",
         "stats": {
          "unique_count": 1,
          "nan_count": 0,
          "categories": [
           {
            "name": "False",
            "count": 5
           }
          ]
         }
        },
        {
         "name": "HomeTeam_Oviedo",
         "dtype": "bool",
         "stats": {
          "unique_count": 1,
          "nan_count": 0,
          "categories": [
           {
            "name": "False",
            "count": 5
           }
          ]
         }
        },
        {
         "name": "HomeTeam_Bielefeld",
         "dtype": "bool",
         "stats": {
          "unique_count": 1,
          "nan_count": 0,
          "categories": [
           {
            "name": "False",
            "count": 5
           }
          ]
         }
        },
        {
         "name": "HomeTeam_Milan",
         "dtype": "bool",
         "stats": {
          "unique_count": 1,
          "nan_count": 0,
          "categories": [
           {
            "name": "False",
            "count": 5
           }
          ]
         }
        },
        {
         "name": "HomeTeam_Bradford",
         "dtype": "bool",
         "stats": {
          "unique_count": 1,
          "nan_count": 0,
          "categories": [
           {
            "name": "False",
            "count": 5
           }
          ]
         }
        },
        {
         "name": "HomeTeam_Zwolle",
         "dtype": "bool",
         "stats": {
          "unique_count": 1,
          "nan_count": 0,
          "categories": [
           {
            "name": "False",
            "count": 5
           }
          ]
         }
        },
        {
         "name": "HomeTeam_Falkirk",
         "dtype": "bool",
         "stats": {
          "unique_count": 1,
          "nan_count": 0,
          "categories": [
           {
            "name": "False",
            "count": 5
           }
          ]
         }
        },
        {
         "name": "HomeTeam_Airdrie Utd",
         "dtype": "bool",
         "stats": {
          "unique_count": 1,
          "nan_count": 0,
          "categories": [
           {
            "name": "False",
            "count": 5
           }
          ]
         }
        },
        {
         "name": "HomeTeam_Aberdeen",
         "dtype": "bool",
         "stats": {
          "unique_count": 1,
          "nan_count": 0,
          "categories": [
           {
            "name": "False",
            "count": 5
           }
          ]
         }
        },
        {
         "name": "HomeTeam_Sabadell",
         "dtype": "bool",
         "stats": {
          "unique_count": 1,
          "nan_count": 0,
          "categories": [
           {
            "name": "False",
            "count": 5
           }
          ]
         }
        },
        {
         "name": "HomeTeam_Sochaux",
         "dtype": "bool",
         "stats": {
          "unique_count": 1,
          "nan_count": 0,
          "categories": [
           {
            "name": "False",
            "count": 5
           }
          ]
         }
        },
        {
         "name": "HomeTeam_Den Haag",
         "dtype": "bool",
         "stats": {
          "unique_count": 1,
          "nan_count": 0,
          "categories": [
           {
            "name": "False",
            "count": 5
           }
          ]
         }
        },
        {
         "name": "HomeTeam_West Brom",
         "dtype": "bool",
         "stats": {
          "unique_count": 1,
          "nan_count": 0,
          "categories": [
           {
            "name": "False",
            "count": 5
           }
          ]
         }
        },
        {
         "name": "HomeTeam_Tranmere",
         "dtype": "bool",
         "stats": {
          "unique_count": 1,
          "nan_count": 0,
          "categories": [
           {
            "name": "False",
            "count": 5
           }
          ]
         }
        },
        {
         "name": "HomeTeam_Dunkerque",
         "dtype": "bool",
         "stats": {
          "unique_count": 1,
          "nan_count": 0,
          "categories": [
           {
            "name": "False",
            "count": 5
           }
          ]
         }
        },
        {
         "name": "HomeTeam_Sampdoria",
         "dtype": "bool",
         "stats": {
          "unique_count": 1,
          "nan_count": 0,
          "categories": [
           {
            "name": "False",
            "count": 5
           }
          ]
         }
        },
        {
         "name": "HomeTeam_PSV Eindhoven",
         "dtype": "bool",
         "stats": {
          "unique_count": 1,
          "nan_count": 0,
          "categories": [
           {
            "name": "False",
            "count": 5
           }
          ]
         }
        },
        {
         "name": "HomeTeam_Oldham",
         "dtype": "bool",
         "stats": {
          "unique_count": 1,
          "nan_count": 0,
          "categories": [
           {
            "name": "False",
            "count": 5
           }
          ]
         }
        },
        {
         "name": "HomeTeam_Heidenheim",
         "dtype": "bool",
         "stats": {
          "unique_count": 1,
          "nan_count": 0,
          "categories": [
           {
            "name": "False",
            "count": 5
           }
          ]
         }
        },
        {
         "name": "HomeTeam_Brighton",
         "dtype": "bool",
         "stats": {
          "unique_count": 2,
          "nan_count": 0,
          "categories": [
           {
            "name": "False",
            "count": 4
           },
           {
            "name": "True",
            "count": 1
           }
          ]
         }
        },
        {
         "name": "HomeTeam_AFC Wimbledon",
         "dtype": "bool",
         "stats": {
          "unique_count": 1,
          "nan_count": 0,
          "categories": [
           {
            "name": "False",
            "count": 5
           }
          ]
         }
        },
        {
         "name": "HomeTeam_Malaga",
         "dtype": "bool",
         "stats": {
          "unique_count": 1,
          "nan_count": 0,
          "categories": [
           {
            "name": "False",
            "count": 5
           }
          ]
         }
        },
        {
         "name": "HomeTeam_Almeria",
         "dtype": "bool",
         "stats": {
          "unique_count": 1,
          "nan_count": 0,
          "categories": [
           {
            "name": "False",
            "count": 5
           }
          ]
         }
        },
        {
         "name": "HomeTeam_Nantes",
         "dtype": "bool",
         "stats": {
          "unique_count": 1,
          "nan_count": 0,
          "categories": [
           {
            "name": "False",
            "count": 5
           }
          ]
         }
        },
        {
         "name": "HomeTeam_Wehen",
         "dtype": "bool",
         "stats": {
          "unique_count": 1,
          "nan_count": 0,
          "categories": [
           {
            "name": "False",
            "count": 5
           }
          ]
         }
        },
        {
         "name": "HomeTeam_Vitesse",
         "dtype": "bool",
         "stats": {
          "unique_count": 1,
          "nan_count": 0,
          "categories": [
           {
            "name": "False",
            "count": 5
           }
          ]
         }
        },
        {
         "name": "HomeTeam_Levante",
         "dtype": "bool",
         "stats": {
          "unique_count": 1,
          "nan_count": 0,
          "categories": [
           {
            "name": "False",
            "count": 5
           }
          ]
         }
        },
        {
         "name": "HomeTeam_Novara",
         "dtype": "bool",
         "stats": {
          "unique_count": 1,
          "nan_count": 0,
          "categories": [
           {
            "name": "False",
            "count": 5
           }
          ]
         }
        },
        {
         "name": "HomeTeam_Guimaraes",
         "dtype": "bool",
         "stats": {
          "unique_count": 1,
          "nan_count": 0,
          "categories": [
           {
            "name": "False",
            "count": 5
           }
          ]
         }
        },
        {
         "name": "HomeTeam_Norwich",
         "dtype": "bool",
         "stats": {
          "unique_count": 1,
          "nan_count": 0,
          "categories": [
           {
            "name": "False",
            "count": 5
           }
          ]
         }
        },
        {
         "name": "HomeTeam_Pacos Ferreira",
         "dtype": "bool",
         "stats": {
          "unique_count": 1,
          "nan_count": 0,
          "categories": [
           {
            "name": "False",
            "count": 5
           }
          ]
         }
        },
        {
         "name": "HomeTeam_Chesterfield",
         "dtype": "bool",
         "stats": {
          "unique_count": 1,
          "nan_count": 0,
          "categories": [
           {
            "name": "False",
            "count": 5
           }
          ]
         }
        },
        {
         "name": "HomeTeam_Inverness C",
         "dtype": "bool",
         "stats": {
          "unique_count": 1,
          "nan_count": 0,
          "categories": [
           {
            "name": "False",
            "count": 5
           }
          ]
         }
        },
        {
         "name": "HomeTeam_Giannina",
         "dtype": "bool",
         "stats": {
          "unique_count": 1,
          "nan_count": 0,
          "categories": [
           {
            "name": "False",
            "count": 5
           }
          ]
         }
        },
        {
         "name": "HomeTeam_Espanol",
         "dtype": "bool",
         "stats": {
          "unique_count": 1,
          "nan_count": 0,
          "categories": [
           {
            "name": "False",
            "count": 5
           }
          ]
         }
        },
        {
         "name": "HomeTeam_Braunschweig",
         "dtype": "bool",
         "stats": {
          "unique_count": 1,
          "nan_count": 0,
          "categories": [
           {
            "name": "False",
            "count": 5
           }
          ]
         }
        },
        {
         "name": "HomeTeam_Oostende",
         "dtype": "bool",
         "stats": {
          "unique_count": 1,
          "nan_count": 0,
          "categories": [
           {
            "name": "False",
            "count": 5
           }
          ]
         }
        },
        {
         "name": "HomeTeam_Gil Vicente",
         "dtype": "bool",
         "stats": {
          "unique_count": 1,
          "nan_count": 0,
          "categories": [
           {
            "name": "False",
            "count": 5
           }
          ]
         }
        },
        {
         "name": "HomeTeam_Maritimo",
         "dtype": "bool",
         "stats": {
          "unique_count": 1,
          "nan_count": 0,
          "categories": [
           {
            "name": "False",
            "count": 5
           }
          ]
         }
        },
        {
         "name": "HomeTeam_Niort",
         "dtype": "bool",
         "stats": {
          "unique_count": 1,
          "nan_count": 0,
          "categories": [
           {
            "name": "False",
            "count": 5
           }
          ]
         }
        },
        {
         "name": "HomeTeam_Ingolstadt",
         "dtype": "bool",
         "stats": {
          "unique_count": 1,
          "nan_count": 0,
          "categories": [
           {
            "name": "False",
            "count": 5
           }
          ]
         }
        },
        {
         "name": "HomeTeam_Montrose",
         "dtype": "bool",
         "stats": {
          "unique_count": 1,
          "nan_count": 0,
          "categories": [
           {
            "name": "False",
            "count": 5
           }
          ]
         }
        },
        {
         "name": "HomeTeam_Barnet",
         "dtype": "bool",
         "stats": {
          "unique_count": 1,
          "nan_count": 0,
          "categories": [
           {
            "name": "False",
            "count": 5
           }
          ]
         }
        },
        {
         "name": "HomeTeam_Osnabruck",
         "dtype": "bool",
         "stats": {
          "unique_count": 1,
          "nan_count": 0,
          "categories": [
           {
            "name": "False",
            "count": 5
           }
          ]
         }
        },
        {
         "name": "HomeTeam_Troyes",
         "dtype": "bool",
         "stats": {
          "unique_count": 1,
          "nan_count": 0,
          "categories": [
           {
            "name": "False",
            "count": 5
           }
          ]
         }
        },
        {
         "name": "HomeTeam_Dijon",
         "dtype": "bool",
         "stats": {
          "unique_count": 1,
          "nan_count": 0,
          "categories": [
           {
            "name": "False",
            "count": 5
           }
          ]
         }
        },
        {
         "name": "HomeTeam_Ajaccio GFCO",
         "dtype": "bool",
         "stats": {
          "unique_count": 1,
          "nan_count": 0,
          "categories": [
           {
            "name": "False",
            "count": 5
           }
          ]
         }
        },
        {
         "name": "HomeTeam_Dundee",
         "dtype": "bool",
         "stats": {
          "unique_count": 1,
          "nan_count": 0,
          "categories": [
           {
            "name": "False",
            "count": 5
           }
          ]
         }
        },
        {
         "name": "HomeTeam_Larisa",
         "dtype": "bool",
         "stats": {
          "unique_count": 1,
          "nan_count": 0,
          "categories": [
           {
            "name": "False",
            "count": 5
           }
          ]
         }
        },
        {
         "name": "HomeTeam_Southend",
         "dtype": "bool",
         "stats": {
          "unique_count": 1,
          "nan_count": 0,
          "categories": [
           {
            "name": "False",
            "count": 5
           }
          ]
         }
        },
        {
         "name": "HomeTeam_Verona",
         "dtype": "bool",
         "stats": {
          "unique_count": 1,
          "nan_count": 0,
          "categories": [
           {
            "name": "False",
            "count": 5
           }
          ]
         }
        },
        {
         "name": "HomeTeam_Goztep",
         "dtype": "bool",
         "stats": {
          "unique_count": 1,
          "nan_count": 0,
          "categories": [
           {
            "name": "False",
            "count": 5
           }
          ]
         }
        },
        {
         "name": "HomeTeam_Genoa",
         "dtype": "bool",
         "stats": {
          "unique_count": 1,
          "nan_count": 0,
          "categories": [
           {
            "name": "False",
            "count": 5
           }
          ]
         }
        },
        {
         "name": "HomeTeam_Cambridge",
         "dtype": "bool",
         "stats": {
          "unique_count": 1,
          "nan_count": 0,
          "categories": [
           {
            "name": "False",
            "count": 5
           }
          ]
         }
        },
        {
         "name": "HomeTeam_Graafschap",
         "dtype": "bool",
         "stats": {
          "unique_count": 1,
          "nan_count": 0,
          "categories": [
           {
            "name": "False",
            "count": 5
           }
          ]
         }
        },
        {
         "name": "HomeTeam_Angers",
         "dtype": "bool",
         "stats": {
          "unique_count": 1,
          "nan_count": 0,
          "categories": [
           {
            "name": "False",
            "count": 5
           }
          ]
         }
        },
        {
         "name": "HomeTeam_Ath Bilbao",
         "dtype": "bool",
         "stats": {
          "unique_count": 1,
          "nan_count": 0,
          "categories": [
           {
            "name": "False",
            "count": 5
           }
          ]
         }
        },
        {
         "name": "HomeTeam_Charlton",
         "dtype": "bool",
         "stats": {
          "unique_count": 1,
          "nan_count": 0,
          "categories": [
           {
            "name": "False",
            "count": 5
           }
          ]
         }
        },
        {
         "name": "HomeTeam_East Fife",
         "dtype": "bool",
         "stats": {
          "unique_count": 1,
          "nan_count": 0,
          "categories": [
           {
            "name": "False",
            "count": 5
           }
          ]
         }
        },
        {
         "name": "HomeTeam_Club Brugge",
         "dtype": "bool",
         "stats": {
          "unique_count": 1,
          "nan_count": 0,
          "categories": [
           {
            "name": "False",
            "count": 5
           }
          ]
         }
        },
        {
         "name": "HomeTeam_NAC Breda",
         "dtype": "bool",
         "stats": {
          "unique_count": 1,
          "nan_count": 0,
          "categories": [
           {
            "name": "False",
            "count": 5
           }
          ]
         }
        },
        {
         "name": "HomeTeam_Las Palmas",
         "dtype": "bool",
         "stats": {
          "unique_count": 1,
          "nan_count": 0,
          "categories": [
           {
            "name": "False",
            "count": 5
           }
          ]
         }
        },
        {
         "name": "HomeTeam_Lazio",
         "dtype": "bool",
         "stats": {
          "unique_count": 1,
          "nan_count": 0,
          "categories": [
           {
            "name": "False",
            "count": 5
           }
          ]
         }
        },
        {
         "name": "HomeTeam_Seraing",
         "dtype": "bool",
         "stats": {
          "unique_count": 1,
          "nan_count": 0,
          "categories": [
           {
            "name": "False",
            "count": 5
           }
          ]
         }
        },
        {
         "name": "HomeTeam_Reus Deportiu",
         "dtype": "bool",
         "stats": {
          "unique_count": 1,
          "nan_count": 0,
          "categories": [
           {
            "name": "False",
            "count": 5
           }
          ]
         }
        },
        {
         "name": "HomeTeam_Ajax",
         "dtype": "bool",
         "stats": {
          "unique_count": 1,
          "nan_count": 0,
          "categories": [
           {
            "name": "False",
            "count": 5
           }
          ]
         }
        },
        {
         "name": "HomeTeam_Lincoln",
         "dtype": "bool",
         "stats": {
          "unique_count": 1,
          "nan_count": 0,
          "categories": [
           {
            "name": "False",
            "count": 5
           }
          ]
         }
        },
        {
         "name": "HomeTeam_Nancy",
         "dtype": "bool",
         "stats": {
          "unique_count": 1,
          "nan_count": 0,
          "categories": [
           {
            "name": "False",
            "count": 5
           }
          ]
         }
        },
        {
         "name": "HomeTeam_Frosinone",
         "dtype": "bool",
         "stats": {
          "unique_count": 1,
          "nan_count": 0,
          "categories": [
           {
            "name": "False",
            "count": 5
           }
          ]
         }
        },
        {
         "name": "HomeTeam_Hull",
         "dtype": "bool",
         "stats": {
          "unique_count": 1,
          "nan_count": 0,
          "categories": [
           {
            "name": "False",
            "count": 5
           }
          ]
         }
        },
        {
         "name": "HomeTeam_Chaves",
         "dtype": "bool",
         "stats": {
          "unique_count": 1,
          "nan_count": 0,
          "categories": [
           {
            "name": "False",
            "count": 5
           }
          ]
         }
        },
        {
         "name": "HomeTeam_Rio Ave",
         "dtype": "bool",
         "stats": {
          "unique_count": 1,
          "nan_count": 0,
          "categories": [
           {
            "name": "False",
            "count": 5
           }
          ]
         }
        },
        {
         "name": "HomeTeam_Cesena",
         "dtype": "bool",
         "stats": {
          "unique_count": 1,
          "nan_count": 0,
          "categories": [
           {
            "name": "False",
            "count": 5
           }
          ]
         }
        },
        {
         "name": "HomeTeam_Amorebieta",
         "dtype": "bool",
         "stats": {
          "unique_count": 1,
          "nan_count": 0,
          "categories": [
           {
            "name": "False",
            "count": 5
           }
          ]
         }
        },
        {
         "name": "HomeTeam_Rizespor",
         "dtype": "bool",
         "stats": {
          "unique_count": 1,
          "nan_count": 0,
          "categories": [
           {
            "name": "False",
            "count": 5
           }
          ]
         }
        },
        {
         "name": "HomeTeam_Milton Keynes Dons",
         "dtype": "bool",
         "stats": {
          "unique_count": 1,
          "nan_count": 0,
          "categories": [
           {
            "name": "False",
            "count": 5
           }
          ]
         }
        },
        {
         "name": "HomeTeam_Volos NFC",
         "dtype": "bool",
         "stats": {
          "unique_count": 1,
          "nan_count": 0,
          "categories": [
           {
            "name": "False",
            "count": 5
           }
          ]
         }
        },
        {
         "name": "HomeTeam_Nacional",
         "dtype": "bool",
         "stats": {
          "unique_count": 1,
          "nan_count": 0,
          "categories": [
           {
            "name": "False",
            "count": 5
           }
          ]
         }
        },
        {
         "name": "HomeTeam_Kaiserslautern",
         "dtype": "bool",
         "stats": {
          "unique_count": 1,
          "nan_count": 0,
          "categories": [
           {
            "name": "False",
            "count": 5
           }
          ]
         }
        },
        {
         "name": "HomeTeam_Castellon",
         "dtype": "bool",
         "stats": {
          "unique_count": 1,
          "nan_count": 0,
          "categories": [
           {
            "name": "False",
            "count": 5
           }
          ]
         }
        },
        {
         "name": "HomeTeam_Berwick",
         "dtype": "bool",
         "stats": {
          "unique_count": 1,
          "nan_count": 0,
          "categories": [
           {
            "name": "False",
            "count": 5
           }
          ]
         }
        },
        {
         "name": "HomeTeam_Osmanlispor",
         "dtype": "bool",
         "stats": {
          "unique_count": 1,
          "nan_count": 0,
          "categories": [
           {
            "name": "False",
            "count": 5
           }
          ]
         }
        },
        {
         "name": "HomeTeam_Bologna",
         "dtype": "bool",
         "stats": {
          "unique_count": 1,
          "nan_count": 0,
          "categories": [
           {
            "name": "False",
            "count": 5
           }
          ]
         }
        },
        {
         "name": "HomeTeam_Barnsley",
         "dtype": "bool",
         "stats": {
          "unique_count": 1,
          "nan_count": 0,
          "categories": [
           {
            "name": "False",
            "count": 5
           }
          ]
         }
        },
        {
         "name": "HomeTeam_Brentford",
         "dtype": "bool",
         "stats": {
          "unique_count": 1,
          "nan_count": 0,
          "categories": [
           {
            "name": "False",
            "count": 5
           }
          ]
         }
        },
        {
         "name": "HomeTeam_Brescia",
         "dtype": "bool",
         "stats": {
          "unique_count": 1,
          "nan_count": 0,
          "categories": [
           {
            "name": "False",
            "count": 5
           }
          ]
         }
        },
        {
         "name": "HomeTeam_Leeds",
         "dtype": "bool",
         "stats": {
          "unique_count": 1,
          "nan_count": 0,
          "categories": [
           {
            "name": "False",
            "count": 5
           }
          ]
         }
        },
        {
         "name": "HomeTeam_Lorca",
         "dtype": "bool",
         "stats": {
          "unique_count": 1,
          "nan_count": 0,
          "categories": [
           {
            "name": "False",
            "count": 5
           }
          ]
         }
        },
        {
         "name": "HomeTeam_Exeter",
         "dtype": "bool",
         "stats": {
          "unique_count": 1,
          "nan_count": 0,
          "categories": [
           {
            "name": "False",
            "count": 5
           }
          ]
         }
        },
        {
         "name": "HomeTeam_Heerenveen",
         "dtype": "bool",
         "stats": {
          "unique_count": 1,
          "nan_count": 0,
          "categories": [
           {
            "name": "False",
            "count": 5
           }
          ]
         }
        },
        {
         "name": "HomeTeam_Pro Vercelli",
         "dtype": "bool",
         "stats": {
          "unique_count": 1,
          "nan_count": 0,
          "categories": [
           {
            "name": "False",
            "count": 5
           }
          ]
         }
        },
        {
         "name": "HomeTeam_Carpi",
         "dtype": "bool",
         "stats": {
          "unique_count": 1,
          "nan_count": 0,
          "categories": [
           {
            "name": "False",
            "count": 5
           }
          ]
         }
        },
        {
         "name": "HomeTeam_Derby",
         "dtype": "bool",
         "stats": {
          "unique_count": 1,
          "nan_count": 0,
          "categories": [
           {
            "name": "False",
            "count": 5
           }
          ]
         }
        },
        {
         "name": "HomeTeam_Burgos",
         "dtype": "bool",
         "stats": {
          "unique_count": 1,
          "nan_count": 0,
          "categories": [
           {
            "name": "False",
            "count": 5
           }
          ]
         }
        },
        {
         "name": "HomeTeam_Forest Green",
         "dtype": "bool",
         "stats": {
          "unique_count": 1,
          "nan_count": 0,
          "categories": [
           {
            "name": "False",
            "count": 5
           }
          ]
         }
        },
        {
         "name": "HomeTeam_QPR",
         "dtype": "bool",
         "stats": {
          "unique_count": 1,
          "nan_count": 0,
          "categories": [
           {
            "name": "False",
            "count": 5
           }
          ]
         }
        },
        {
         "name": "HomeTeam_Santa Clara",
         "dtype": "bool",
         "stats": {
          "unique_count": 1,
          "nan_count": 0,
          "categories": [
           {
            "name": "False",
            "count": 5
           }
          ]
         }
        },
        {
         "name": "HomeTeam_Bursaspor",
         "dtype": "bool",
         "stats": {
          "unique_count": 1,
          "nan_count": 0,
          "categories": [
           {
            "name": "False",
            "count": 5
           }
          ]
         }
        },
        {
         "name": "HomeTeam_Sp Braga",
         "dtype": "bool",
         "stats": {
          "unique_count": 1,
          "nan_count": 0,
          "categories": [
           {
            "name": "False",
            "count": 5
           }
          ]
         }
        },
        {
         "name": "HomeTeam_Blackburn",
         "dtype": "bool",
         "stats": {
          "unique_count": 1,
          "nan_count": 0,
          "categories": [
           {
            "name": "False",
            "count": 5
           }
          ]
         }
        },
        {
         "name": "HomeTeam_Nijmegen",
         "dtype": "bool",
         "stats": {
          "unique_count": 1,
          "nan_count": 0,
          "categories": [
           {
            "name": "False",
            "count": 5
           }
          ]
         }
        },
        {
         "name": "HomeTeam_Rochdale",
         "dtype": "bool",
         "stats": {
          "unique_count": 1,
          "nan_count": 0,
          "categories": [
           {
            "name": "False",
            "count": 5
           }
          ]
         }
        },
        {
         "name": "HomeTeam_Grimsby",
         "dtype": "bool",
         "stats": {
          "unique_count": 1,
          "nan_count": 0,
          "categories": [
           {
            "name": "False",
            "count": 5
           }
          ]
         }
        },
        {
         "name": "HomeTeam_Newcastle",
         "dtype": "bool",
         "stats": {
          "unique_count": 1,
          "nan_count": 0,
          "categories": [
           {
            "name": "False",
            "count": 5
           }
          ]
         }
        },
        {
         "name": "HomeTeam_Freiburg",
         "dtype": "bool",
         "stats": {
          "unique_count": 1,
          "nan_count": 0,
          "categories": [
           {
            "name": "False",
            "count": 5
           }
          ]
         }
        },
        {
         "name": "HomeTeam_Red Star",
         "dtype": "bool",
         "stats": {
          "unique_count": 1,
          "nan_count": 0,
          "categories": [
           {
            "name": "False",
            "count": 5
           }
          ]
         }
        },
        {
         "name": "HomeTeam_Juventus",
         "dtype": "bool",
         "stats": {
          "unique_count": 1,
          "nan_count": 0,
          "categories": [
           {
            "name": "False",
            "count": 5
           }
          ]
         }
        },
        {
         "name": "HomeTeam_Guingamp",
         "dtype": "bool",
         "stats": {
          "unique_count": 1,
          "nan_count": 0,
          "categories": [
           {
            "name": "False",
            "count": 5
           }
          ]
         }
        },
        {
         "name": "HomeTeam_Salernitana",
         "dtype": "bool",
         "stats": {
          "unique_count": 1,
          "nan_count": 0,
          "categories": [
           {
            "name": "False",
            "count": 5
           }
          ]
         }
        },
        {
         "name": "HomeTeam_St Mirren",
         "dtype": "bool",
         "stats": {
          "unique_count": 1,
          "nan_count": 0,
          "categories": [
           {
            "name": "False",
            "count": 5
           }
          ]
         }
        },
        {
         "name": "HomeTeam_Hertha",
         "dtype": "bool",
         "stats": {
          "unique_count": 1,
          "nan_count": 0,
          "categories": [
           {
            "name": "False",
            "count": 5
           }
          ]
         }
        },
        {
         "name": "HomeTeam_Aston Villa",
         "dtype": "bool",
         "stats": {
          "unique_count": 1,
          "nan_count": 0,
          "categories": [
           {
            "name": "False",
            "count": 5
           }
          ]
         }
        },
        {
         "name": "HomeTeam_Salford",
         "dtype": "bool",
         "stats": {
          "unique_count": 1,
          "nan_count": 0,
          "categories": [
           {
            "name": "False",
            "count": 5
           }
          ]
         }
        },
        {
         "name": "HomeTeam_St Truiden",
         "dtype": "bool",
         "stats": {
          "unique_count": 1,
          "nan_count": 0,
          "categories": [
           {
            "name": "False",
            "count": 5
           }
          ]
         }
        },
        {
         "name": "HomeTeam_Yeni Malatyaspor",
         "dtype": "bool",
         "stats": {
          "unique_count": 1,
          "nan_count": 0,
          "categories": [
           {
            "name": "False",
            "count": 5
           }
          ]
         }
        },
        {
         "name": "HomeTeam_Dresden",
         "dtype": "bool",
         "stats": {
          "unique_count": 1,
          "nan_count": 0,
          "categories": [
           {
            "name": "False",
            "count": 5
           }
          ]
         }
        },
        {
         "name": "HomeTeam_Stenhousemuir",
         "dtype": "bool",
         "stats": {
          "unique_count": 1,
          "nan_count": 0,
          "categories": [
           {
            "name": "False",
            "count": 5
           }
          ]
         }
        },
        {
         "name": "HomeTeam_Spezia",
         "dtype": "bool",
         "stats": {
          "unique_count": 1,
          "nan_count": 0,
          "categories": [
           {
            "name": "False",
            "count": 5
           }
          ]
         }
        },
        {
         "name": "HomeTeam_Ajaccio",
         "dtype": "bool",
         "stats": {
          "unique_count": 1,
          "nan_count": 0,
          "categories": [
           {
            "name": "False",
            "count": 5
           }
          ]
         }
        },
        {
         "name": "HomeTeam_AZ Alkmaar",
         "dtype": "bool",
         "stats": {
          "unique_count": 1,
          "nan_count": 0,
          "categories": [
           {
            "name": "False",
            "count": 5
           }
          ]
         }
        },
        {
         "name": "HomeTeam_Augsburg",
         "dtype": "bool",
         "stats": {
          "unique_count": 1,
          "nan_count": 0,
          "categories": [
           {
            "name": "False",
            "count": 5
           }
          ]
         }
        },
        {
         "name": "HomeTeam_Cove Rangers",
         "dtype": "bool",
         "stats": {
          "unique_count": 1,
          "nan_count": 0,
          "categories": [
           {
            "name": "False",
            "count": 5
           }
          ]
         }
        },
        {
         "name": "HomeTeam_Darmstadt",
         "dtype": "bool",
         "stats": {
          "unique_count": 1,
          "nan_count": 0,
          "categories": [
           {
            "name": "False",
            "count": 5
           }
          ]
         }
        },
        {
         "name": "HomeTeam_Aris",
         "dtype": "bool",
         "stats": {
          "unique_count": 1,
          "nan_count": 0,
          "categories": [
           {
            "name": "False",
            "count": 5
           }
          ]
         }
        },
        {
         "name": "HomeTeam_Cordoba",
         "dtype": "bool",
         "stats": {
          "unique_count": 1,
          "nan_count": 0,
          "categories": [
           {
            "name": "False",
            "count": 5
           }
          ]
         }
        },
        {
         "name": "HomeTeam_Werder Bremen",
         "dtype": "bool",
         "stats": {
          "unique_count": 1,
          "nan_count": 0,
          "categories": [
           {
            "name": "False",
            "count": 5
           }
          ]
         }
        },
        {
         "name": "HomeTeam_Hoffenheim",
         "dtype": "bool",
         "stats": {
          "unique_count": 1,
          "nan_count": 0,
          "categories": [
           {
            "name": "False",
            "count": 5
           }
          ]
         }
        },
        {
         "name": "HomeTeam_Harrogate",
         "dtype": "bool",
         "stats": {
          "unique_count": 1,
          "nan_count": 0,
          "categories": [
           {
            "name": "False",
            "count": 5
           }
          ]
         }
        },
        {
         "name": "HomeTeam_Crewe",
         "dtype": "bool",
         "stats": {
          "unique_count": 1,
          "nan_count": 0,
          "categories": [
           {
            "name": "False",
            "count": 5
           }
          ]
         }
        },
        {
         "name": "HomeTeam_Edinburgh City",
         "dtype": "bool",
         "stats": {
          "unique_count": 1,
          "nan_count": 0,
          "categories": [
           {
            "name": "False",
            "count": 5
           }
          ]
         }
        },
        {
         "name": "HomeTeam_Auxerre",
         "dtype": "bool",
         "stats": {
          "unique_count": 1,
          "nan_count": 0,
          "categories": [
           {
            "name": "False",
            "count": 5
           }
          ]
         }
        },
        {
         "name": "HomeTeam_Crotone",
         "dtype": "bool",
         "stats": {
          "unique_count": 1,
          "nan_count": 0,
          "categories": [
           {
            "name": "False",
            "count": 5
           }
          ]
         }
        },
        {
         "name": "HomeTeam_Genclerbirligi",
         "dtype": "bool",
         "stats": {
          "unique_count": 1,
          "nan_count": 0,
          "categories": [
           {
            "name": "False",
            "count": 5
           }
          ]
         }
        },
        {
         "name": "HomeTeam_Ponferradina",
         "dtype": "bool",
         "stats": {
          "unique_count": 1,
          "nan_count": 0,
          "categories": [
           {
            "name": "False",
            "count": 5
           }
          ]
         }
        },
        {
         "name": "HomeTeam_Akhisar Belediyespor",
         "dtype": "bool",
         "stats": {
          "unique_count": 1,
          "nan_count": 0,
          "categories": [
           {
            "name": "False",
            "count": 5
           }
          ]
         }
        },
        {
         "name": "HomeTeam_Farense",
         "dtype": "bool",
         "stats": {
          "unique_count": 1,
          "nan_count": 0,
          "categories": [
           {
            "name": "False",
            "count": 5
           }
          ]
         }
        },
        {
         "name": "HomeTeam_Galatasaray",
         "dtype": "bool",
         "stats": {
          "unique_count": 1,
          "nan_count": 0,
          "categories": [
           {
            "name": "False",
            "count": 5
           }
          ]
         }
        },
        {
         "name": "HomeTeam_Wurzburger Kickers",
         "dtype": "bool",
         "stats": {
          "unique_count": 1,
          "nan_count": 0,
          "categories": [
           {
            "name": "False",
            "count": 5
           }
          ]
         }
        },
        {
         "name": "HomeTeam_Bari",
         "dtype": "bool",
         "stats": {
          "unique_count": 1,
          "nan_count": 0,
          "categories": [
           {
            "name": "False",
            "count": 5
           }
          ]
         }
        },
        {
         "name": "HomeTeam_Stranraer",
         "dtype": "bool",
         "stats": {
          "unique_count": 1,
          "nan_count": 0,
          "categories": [
           {
            "name": "False",
            "count": 5
           }
          ]
         }
        },
        {
         "name": "HomeTeam_Man United",
         "dtype": "bool",
         "stats": {
          "unique_count": 1,
          "nan_count": 0,
          "categories": [
           {
            "name": "False",
            "count": 5
           }
          ]
         }
        },
        {
         "name": "HomeTeam_Perugia",
         "dtype": "bool",
         "stats": {
          "unique_count": 1,
          "nan_count": 0,
          "categories": [
           {
            "name": "False",
            "count": 5
           }
          ]
         }
        },
        {
         "name": "HomeTeam_Karabukspor",
         "dtype": "bool",
         "stats": {
          "unique_count": 1,
          "nan_count": 0,
          "categories": [
           {
            "name": "False",
            "count": 5
           }
          ]
         }
        },
        {
         "name": "HomeTeam_Caen",
         "dtype": "bool",
         "stats": {
          "unique_count": 1,
          "nan_count": 0,
          "categories": [
           {
            "name": "False",
            "count": 5
           }
          ]
         }
        },
        {
         "name": "HomeTeam_Nott'm Forest",
         "dtype": "bool",
         "stats": {
          "unique_count": 1,
          "nan_count": 0,
          "categories": [
           {
            "name": "False",
            "count": 5
           }
          ]
         }
        },
        {
         "name": "HomeTeam_Bordeaux",
         "dtype": "bool",
         "stats": {
          "unique_count": 1,
          "nan_count": 0,
          "categories": [
           {
            "name": "False",
            "count": 5
           }
          ]
         }
        },
        {
         "name": "HomeTeam_Livorno",
         "dtype": "bool",
         "stats": {
          "unique_count": 1,
          "nan_count": 0,
          "categories": [
           {
            "name": "False",
            "count": 5
           }
          ]
         }
        },
        {
         "name": "HomeTeam_Monza",
         "dtype": "bool",
         "stats": {
          "unique_count": 1,
          "nan_count": 0,
          "categories": [
           {
            "name": "False",
            "count": 5
           }
          ]
         }
        },
        {
         "name": "HomeTeam_Bristol Rvs",
         "dtype": "bool",
         "stats": {
          "unique_count": 1,
          "nan_count": 0,
          "categories": [
           {
            "name": "False",
            "count": 5
           }
          ]
         }
        },
        {
         "name": "HomeTeam_Holstein Kiel",
         "dtype": "bool",
         "stats": {
          "unique_count": 1,
          "nan_count": 0,
          "categories": [
           {
            "name": "False",
            "count": 5
           }
          ]
         }
        },
        {
         "name": "HomeTeam_Fiorentina",
         "dtype": "bool",
         "stats": {
          "unique_count": 1,
          "nan_count": 0,
          "categories": [
           {
            "name": "False",
            "count": 5
           }
          ]
         }
        },
        {
         "name": "HomeTeam_Sivasspor",
         "dtype": "bool",
         "stats": {
          "unique_count": 1,
          "nan_count": 0,
          "categories": [
           {
            "name": "False",
            "count": 5
           }
          ]
         }
        },
        {
         "name": "HomeTeam_Trabzonspor",
         "dtype": "bool",
         "stats": {
          "unique_count": 1,
          "nan_count": 0,
          "categories": [
           {
            "name": "False",
            "count": 5
           }
          ]
         }
        },
        {
         "name": "HomeTeam_Cowdenbeath",
         "dtype": "bool",
         "stats": {
          "unique_count": 1,
          "nan_count": 0,
          "categories": [
           {
            "name": "False",
            "count": 5
           }
          ]
         }
        },
        {
         "name": "HomeTeam_Elche",
         "dtype": "bool",
         "stats": {
          "unique_count": 1,
          "nan_count": 0,
          "categories": [
           {
            "name": "False",
            "count": 5
           }
          ]
         }
        },
        {
         "name": "HomeTeam_Paris FC",
         "dtype": "bool",
         "stats": {
          "unique_count": 1,
          "nan_count": 0,
          "categories": [
           {
            "name": "False",
            "count": 5
           }
          ]
         }
        },
        {
         "name": "HomeTeam_Pau FC",
         "dtype": "bool",
         "stats": {
          "unique_count": 1,
          "nan_count": 0,
          "categories": [
           {
            "name": "False",
            "count": 5
           }
          ]
         }
        },
        {
         "name": "HomeTeam_Portimonense",
         "dtype": "bool",
         "stats": {
          "unique_count": 1,
          "nan_count": 0,
          "categories": [
           {
            "name": "False",
            "count": 5
           }
          ]
         }
        },
        {
         "name": "HomeTeam_Lamia",
         "dtype": "bool",
         "stats": {
          "unique_count": 1,
          "nan_count": 0,
          "categories": [
           {
            "name": "False",
            "count": 5
           }
          ]
         }
        },
        {
         "name": "HomeTeam_Newport County",
         "dtype": "bool",
         "stats": {
          "unique_count": 1,
          "nan_count": 0,
          "categories": [
           {
            "name": "False",
            "count": 5
           }
          ]
         }
        },
        {
         "name": "HomeTeam_Northampton",
         "dtype": "bool",
         "stats": {
          "unique_count": 1,
          "nan_count": 0,
          "categories": [
           {
            "name": "False",
            "count": 5
           }
          ]
         }
        },
        {
         "name": "HomeTeam_Celta",
         "dtype": "bool",
         "stats": {
          "unique_count": 1,
          "nan_count": 0,
          "categories": [
           {
            "name": "False",
            "count": 5
           }
          ]
         }
        },
        {
         "name": "HomeTeam_Hatayspor",
         "dtype": "bool",
         "stats": {
          "unique_count": 1,
          "nan_count": 0,
          "categories": [
           {
            "name": "False",
            "count": 5
           }
          ]
         }
        },
        {
         "name": "HomeTeam_FC Koln",
         "dtype": "bool",
         "stats": {
          "unique_count": 1,
          "nan_count": 0,
          "categories": [
           {
            "name": "False",
            "count": 5
           }
          ]
         }
        },
        {
         "name": "HomeTeam_Sassuolo",
         "dtype": "bool",
         "stats": {
          "unique_count": 1,
          "nan_count": 0,
          "categories": [
           {
            "name": "False",
            "count": 5
           }
          ]
         }
        },
        {
         "name": "HomeTeam_Feirense",
         "dtype": "bool",
         "stats": {
          "unique_count": 1,
          "nan_count": 0,
          "categories": [
           {
            "name": "False",
            "count": 5
           }
          ]
         }
        },
        {
         "name": "HomeTeam_Erzurum BB",
         "dtype": "bool",
         "stats": {
          "unique_count": 1,
          "nan_count": 0,
          "categories": [
           {
            "name": "False",
            "count": 5
           }
          ]
         }
        },
        {
         "name": "HomeTeam_Wolfsburg",
         "dtype": "bool",
         "stats": {
          "unique_count": 1,
          "nan_count": 0,
          "categories": [
           {
            "name": "False",
            "count": 5
           }
          ]
         }
        },
        {
         "name": "HomeTeam_Albion Rvs",
         "dtype": "bool",
         "stats": {
          "unique_count": 1,
          "nan_count": 0,
          "categories": [
           {
            "name": "False",
            "count": 5
           }
          ]
         }
        },
        {
         "name": "HomeTeam_Waalwijk",
         "dtype": "bool",
         "stats": {
          "unique_count": 1,
          "nan_count": 0,
          "categories": [
           {
            "name": "False",
            "count": 5
           }
          ]
         }
        },
        {
         "name": "HomeTeam_Duisburg",
         "dtype": "bool",
         "stats": {
          "unique_count": 1,
          "nan_count": 0,
          "categories": [
           {
            "name": "False",
            "count": 5
           }
          ]
         }
        },
        {
         "name": "HomeTeam_Girona",
         "dtype": "bool",
         "stats": {
          "unique_count": 1,
          "nan_count": 0,
          "categories": [
           {
            "name": "False",
            "count": 5
           }
          ]
         }
        },
        {
         "name": "HomeTeam_Kortrijk",
         "dtype": "bool",
         "stats": {
          "unique_count": 1,
          "nan_count": 0,
          "categories": [
           {
            "name": "False",
            "count": 5
           }
          ]
         }
        },
        {
         "name": "HomeTeam_Beerschot VA",
         "dtype": "bool",
         "stats": {
          "unique_count": 1,
          "nan_count": 0,
          "categories": [
           {
            "name": "False",
            "count": 5
           }
          ]
         }
        },
        {
         "name": "HomeTeam_Hamilton",
         "dtype": "bool",
         "stats": {
          "unique_count": 1,
          "nan_count": 0,
          "categories": [
           {
            "name": "False",
            "count": 5
           }
          ]
         }
        },
        {
         "name": "HomeTeam_Waregem",
         "dtype": "bool",
         "stats": {
          "unique_count": 1,
          "nan_count": 0,
          "categories": [
           {
            "name": "False",
            "count": 5
           }
          ]
         }
        },
        {
         "name": "HomeTeam_Crystal Palace",
         "dtype": "bool",
         "stats": {
          "unique_count": 2,
          "nan_count": 0,
          "categories": [
           {
            "name": "False",
            "count": 4
           },
           {
            "name": "True",
            "count": 1
           }
          ]
         }
        },
        {
         "name": "HomeTeam_Belenenses",
         "dtype": "bool",
         "stats": {
          "unique_count": 1,
          "nan_count": 0,
          "categories": [
           {
            "name": "False",
            "count": 5
           }
          ]
         }
        },
        {
         "name": "HomeTeam_Dortmund",
         "dtype": "bool",
         "stats": {
          "unique_count": 1,
          "nan_count": 0,
          "categories": [
           {
            "name": "False",
            "count": 5
           }
          ]
         }
        },
        {
         "name": "HomeTeam_Logrones",
         "dtype": "bool",
         "stats": {
          "unique_count": 1,
          "nan_count": 0,
          "categories": [
           {
            "name": "False",
            "count": 5
           }
          ]
         }
        },
        {
         "name": "HomeTeam_Plymouth",
         "dtype": "bool",
         "stats": {
          "unique_count": 1,
          "nan_count": 0,
          "categories": [
           {
            "name": "False",
            "count": 5
           }
          ]
         }
        },
        {
         "name": "HomeTeam_Peterboro",
         "dtype": "bool",
         "stats": {
          "unique_count": 1,
          "nan_count": 0,
          "categories": [
           {
            "name": "False",
            "count": 5
           }
          ]
         }
        },
        {
         "name": "HomeTeam_Raith Rvs",
         "dtype": "bool",
         "stats": {
          "unique_count": 1,
          "nan_count": 0,
          "categories": [
           {
            "name": "False",
            "count": 5
           }
          ]
         }
        },
        {
         "name": "HomeTeam_Sparta Rotterdam",
         "dtype": "bool",
         "stats": {
          "unique_count": 1,
          "nan_count": 0,
          "categories": [
           {
            "name": "False",
            "count": 5
           }
          ]
         }
        },
        {
         "name": "HomeTeam_Orleans",
         "dtype": "bool",
         "stats": {
          "unique_count": 1,
          "nan_count": 0,
          "categories": [
           {
            "name": "False",
            "count": 5
           }
          ]
         }
        },
        {
         "name": "HomeTeam_Magdeburg",
         "dtype": "bool",
         "stats": {
          "unique_count": 1,
          "nan_count": 0,
          "categories": [
           {
            "name": "False",
            "count": 5
           }
          ]
         }
        },
        {
         "name": "HomeTeam_Gimnastic",
         "dtype": "bool",
         "stats": {
          "unique_count": 1,
          "nan_count": 0,
          "categories": [
           {
            "name": "False",
            "count": 5
           }
          ]
         }
        },
        {
         "name": "HomeTeam_Paderborn",
         "dtype": "bool",
         "stats": {
          "unique_count": 1,
          "nan_count": 0,
          "categories": [
           {
            "name": "False",
            "count": 5
           }
          ]
         }
        },
        {
         "name": "HomeTeam_Valenciennes",
         "dtype": "bool",
         "stats": {
          "unique_count": 1,
          "nan_count": 0,
          "categories": [
           {
            "name": "False",
            "count": 5
           }
          ]
         }
        },
        {
         "name": "HomeTeam_Dumbarton",
         "dtype": "bool",
         "stats": {
          "unique_count": 1,
          "nan_count": 0,
          "categories": [
           {
            "name": "False",
            "count": 5
           }
          ]
         }
        },
        {
         "name": "HomeTeam_Ayr",
         "dtype": "bool",
         "stats": {
          "unique_count": 1,
          "nan_count": 0,
          "categories": [
           {
            "name": "False",
            "count": 5
           }
          ]
         }
        },
        {
         "name": "HomeTeam_Gillingham",
         "dtype": "bool",
         "stats": {
          "unique_count": 1,
          "nan_count": 0,
          "categories": [
           {
            "name": "False",
            "count": 5
           }
          ]
         }
        },
        {
         "name": "HomeTeam_Avellino",
         "dtype": "bool",
         "stats": {
          "unique_count": 1,
          "nan_count": 0,
          "categories": [
           {
            "name": "False",
            "count": 5
           }
          ]
         }
        },
        {
         "name": "HomeTeam_Ross County",
         "dtype": "bool",
         "stats": {
          "unique_count": 1,
          "nan_count": 0,
          "categories": [
           {
            "name": "False",
            "count": 5
           }
          ]
         }
        },
        {
         "name": "HomeTeam_Inter",
         "dtype": "bool",
         "stats": {
          "unique_count": 1,
          "nan_count": 0,
          "categories": [
           {
            "name": "False",
            "count": 5
           }
          ]
         }
        },
        {
         "name": "HomeTeam_Millwall",
         "dtype": "bool",
         "stats": {
          "unique_count": 1,
          "nan_count": 0,
          "categories": [
           {
            "name": "False",
            "count": 5
           }
          ]
         }
        },
        {
         "name": "HomeTeam_Notts County",
         "dtype": "bool",
         "stats": {
          "unique_count": 1,
          "nan_count": 0,
          "categories": [
           {
            "name": "False",
            "count": 5
           }
          ]
         }
        },
        {
         "name": "HomeTeam_Venezia",
         "dtype": "bool",
         "stats": {
          "unique_count": 1,
          "nan_count": 0,
          "categories": [
           {
            "name": "False",
            "count": 5
           }
          ]
         }
        },
        {
         "name": "HomeTeam_Albacete",
         "dtype": "bool",
         "stats": {
          "unique_count": 1,
          "nan_count": 0,
          "categories": [
           {
            "name": "False",
            "count": 5
           }
          ]
         }
        },
        {
         "name": "HomeTeam_Fulham",
         "dtype": "bool",
         "stats": {
          "unique_count": 1,
          "nan_count": 0,
          "categories": [
           {
            "name": "False",
            "count": 5
           }
          ]
         }
        },
        {
         "name": "HomeTeam_Spal",
         "dtype": "bool",
         "stats": {
          "unique_count": 1,
          "nan_count": 0,
          "categories": [
           {
            "name": "False",
            "count": 5
           }
          ]
         }
        },
        {
         "name": "HomeTeam_Twente",
         "dtype": "bool",
         "stats": {
          "unique_count": 1,
          "nan_count": 0,
          "categories": [
           {
            "name": "False",
            "count": 5
           }
          ]
         }
        },
        {
         "name": "HomeTeam_Numancia",
         "dtype": "bool",
         "stats": {
          "unique_count": 1,
          "nan_count": 0,
          "categories": [
           {
            "name": "False",
            "count": 5
           }
          ]
         }
        },
        {
         "name": "HomeTeam_Pescara",
         "dtype": "bool",
         "stats": {
          "unique_count": 1,
          "nan_count": 0,
          "categories": [
           {
            "name": "False",
            "count": 5
           }
          ]
         }
        },
        {
         "name": "HomeTeam_Montpellier",
         "dtype": "bool",
         "stats": {
          "unique_count": 1,
          "nan_count": 0,
          "categories": [
           {
            "name": "False",
            "count": 5
           }
          ]
         }
        },
        {
         "name": "HomeTeam_Sandhausen",
         "dtype": "bool",
         "stats": {
          "unique_count": 1,
          "nan_count": 0,
          "categories": [
           {
            "name": "False",
            "count": 5
           }
          ]
         }
        },
        {
         "name": "HomeTeam_Vicenza",
         "dtype": "bool",
         "stats": {
          "unique_count": 1,
          "nan_count": 0,
          "categories": [
           {
            "name": "False",
            "count": 5
           }
          ]
         }
        },
        {
         "name": "HomeTeam_Groningen",
         "dtype": "bool",
         "stats": {
          "unique_count": 1,
          "nan_count": 0,
          "categories": [
           {
            "name": "False",
            "count": 5
           }
          ]
         }
        },
        {
         "name": "HomeTeam_Wycombe",
         "dtype": "bool",
         "stats": {
          "unique_count": 1,
          "nan_count": 0,
          "categories": [
           {
            "name": "False",
            "count": 5
           }
          ]
         }
        },
        {
         "name": "HomeTeam_Marseille",
         "dtype": "bool",
         "stats": {
          "unique_count": 1,
          "nan_count": 0,
          "categories": [
           {
            "name": "False",
            "count": 5
           }
          ]
         }
        },
        {
         "name": "HomeTeam_Atromitos",
         "dtype": "bool",
         "stats": {
          "unique_count": 1,
          "nan_count": 0,
          "categories": [
           {
            "name": "False",
            "count": 5
           }
          ]
         }
        },
        {
         "name": "HomeTeam_Reggiana",
         "dtype": "bool",
         "stats": {
          "unique_count": 1,
          "nan_count": 0,
          "categories": [
           {
            "name": "False",
            "count": 5
           }
          ]
         }
        },
        {
         "name": "HomeTeam_Go Ahead Eagles",
         "dtype": "bool",
         "stats": {
          "unique_count": 1,
          "nan_count": 0,
          "categories": [
           {
            "name": "False",
            "count": 5
           }
          ]
         }
        },
        {
         "name": "HomeTeam_Anderlecht",
         "dtype": "bool",
         "stats": {
          "unique_count": 1,
          "nan_count": 0,
          "categories": [
           {
            "name": "False",
            "count": 5
           }
          ]
         }
        },
        {
         "name": "HomeTeam_Carlisle",
         "dtype": "bool",
         "stats": {
          "unique_count": 1,
          "nan_count": 0,
          "categories": [
           {
            "name": "False",
            "count": 5
           }
          ]
         }
        },
        {
         "name": "HomeTeam_Apollon",
         "dtype": "bool",
         "stats": {
          "unique_count": 1,
          "nan_count": 0,
          "categories": [
           {
            "name": "False",
            "count": 5
           }
          ]
         }
        },
        {
         "name": "HomeTeam_Alcorcon",
         "dtype": "bool",
         "stats": {
          "unique_count": 1,
          "nan_count": 0,
          "categories": [
           {
            "name": "False",
            "count": 5
           }
          ]
         }
        },
        {
         "name": "HomeTeam_Oud-Heverlee Leuven",
         "dtype": "bool",
         "stats": {
          "unique_count": 1,
          "nan_count": 0,
          "categories": [
           {
            "name": "False",
            "count": 5
           }
          ]
         }
        },
        {
         "name": "HomeTeam_Hartlepool",
         "dtype": "bool",
         "stats": {
          "unique_count": 1,
          "nan_count": 0,
          "categories": [
           {
            "name": "False",
            "count": 5
           }
          ]
         }
        },
        {
         "name": "HomeTeam_Birmingham",
         "dtype": "bool",
         "stats": {
          "unique_count": 1,
          "nan_count": 0,
          "categories": [
           {
            "name": "False",
            "count": 5
           }
          ]
         }
        },
        {
         "name": "HomeTeam_Antwerp",
         "dtype": "bool",
         "stats": {
          "unique_count": 1,
          "nan_count": 0,
          "categories": [
           {
            "name": "False",
            "count": 5
           }
          ]
         }
        },
        {
         "name": "HomeTeam_St Etienne",
         "dtype": "bool",
         "stats": {
          "unique_count": 1,
          "nan_count": 0,
          "categories": [
           {
            "name": "False",
            "count": 5
           }
          ]
         }
        },
        {
         "name": "HomeTeam_Queens Park",
         "dtype": "bool",
         "stats": {
          "unique_count": 1,
          "nan_count": 0,
          "categories": [
           {
            "name": "False",
            "count": 5
           }
          ]
         }
        },
        {
         "name": "HomeTeam_Ath Madrid",
         "dtype": "bool",
         "stats": {
          "unique_count": 1,
          "nan_count": 0,
          "categories": [
           {
            "name": "False",
            "count": 5
           }
          ]
         }
        },
        {
         "name": "HomeTeam_Metz",
         "dtype": "bool",
         "stats": {
          "unique_count": 1,
          "nan_count": 0,
          "categories": [
           {
            "name": "False",
            "count": 5
           }
          ]
         }
        },
        {
         "name": "HomeTeam_Ipswich",
         "dtype": "bool",
         "stats": {
          "unique_count": 1,
          "nan_count": 0,
          "categories": [
           {
            "name": "False",
            "count": 5
           }
          ]
         }
        },
        {
         "name": "HomeTeam_Reims",
         "dtype": "bool",
         "stats": {
          "unique_count": 1,
          "nan_count": 0,
          "categories": [
           {
            "name": "False",
            "count": 5
           }
          ]
         }
        },
        {
         "name": "HomeTeam_Vizela",
         "dtype": "bool",
         "stats": {
          "unique_count": 1,
          "nan_count": 0,
          "categories": [
           {
            "name": "False",
            "count": 5
           }
          ]
         }
        },
        {
         "name": "HomeTeam_Arbroath",
         "dtype": "bool",
         "stats": {
          "unique_count": 1,
          "nan_count": 0,
          "categories": [
           {
            "name": "False",
            "count": 5
           }
          ]
         }
        },
        {
         "name": "HomeTeam_Sheffield United",
         "dtype": "bool",
         "stats": {
          "unique_count": 1,
          "nan_count": 0,
          "categories": [
           {
            "name": "False",
            "count": 5
           }
          ]
         }
        },
        {
         "name": "HomeTeam_Swindon",
         "dtype": "bool",
         "stats": {
          "unique_count": 1,
          "nan_count": 0,
          "categories": [
           {
            "name": "False",
            "count": 5
           }
          ]
         }
        },
        {
         "name": "HomeTeam_Rennes",
         "dtype": "bool",
         "stats": {
          "unique_count": 1,
          "nan_count": 0,
          "categories": [
           {
            "name": "False",
            "count": 5
           }
          ]
         }
        },
        {
         "name": "HomeTeam_Mechelen",
         "dtype": "bool",
         "stats": {
          "unique_count": 1,
          "nan_count": 0,
          "categories": [
           {
            "name": "False",
            "count": 5
           }
          ]
         }
        },
        {
         "name": "HomeTeam_Elgin",
         "dtype": "bool",
         "stats": {
          "unique_count": 1,
          "nan_count": 0,
          "categories": [
           {
            "name": "False",
            "count": 5
           }
          ]
         }
        },
        {
         "name": "HomeTeam_Napoli",
         "dtype": "bool",
         "stats": {
          "unique_count": 1,
          "nan_count": 0,
          "categories": [
           {
            "name": "False",
            "count": 5
           }
          ]
         }
        },
        {
         "name": "HomeTeam_Bolton",
         "dtype": "bool",
         "stats": {
          "unique_count": 1,
          "nan_count": 0,
          "categories": [
           {
            "name": "False",
            "count": 5
           }
          ]
         }
        },
        {
         "name": "HomeTeam_Man City",
         "dtype": "bool",
         "stats": {
          "unique_count": 1,
          "nan_count": 0,
          "categories": [
           {
            "name": "False",
            "count": 5
           }
          ]
         }
        },
        {
         "name": "HomeTeam_Genk",
         "dtype": "bool",
         "stats": {
          "unique_count": 1,
          "nan_count": 0,
          "categories": [
           {
            "name": "False",
            "count": 5
           }
          ]
         }
        },
        {
         "name": "HomeTeam_Blackpool",
         "dtype": "bool",
         "stats": {
          "unique_count": 1,
          "nan_count": 0,
          "categories": [
           {
            "name": "False",
            "count": 5
           }
          ]
         }
        },
        {
         "name": "HomeTeam_Lecce",
         "dtype": "bool",
         "stats": {
          "unique_count": 1,
          "nan_count": 0,
          "categories": [
           {
            "name": "False",
            "count": 5
           }
          ]
         }
        },
        {
         "name": "HomeTeam_Buyuksehyr",
         "dtype": "bool",
         "stats": {
          "unique_count": 1,
          "nan_count": 0,
          "categories": [
           {
            "name": "False",
            "count": 5
           }
          ]
         }
        },
        {
         "name": "HomeTeam_Eibar",
         "dtype": "bool",
         "stats": {
          "unique_count": 1,
          "nan_count": 0,
          "categories": [
           {
            "name": "False",
            "count": 5
           }
          ]
         }
        },
        {
         "name": "HomeTeam_Torino",
         "dtype": "bool",
         "stats": {
          "unique_count": 1,
          "nan_count": 0,
          "categories": [
           {
            "name": "False",
            "count": 5
           }
          ]
         }
        },
        {
         "name": "HomeTeam_Bournemouth",
         "dtype": "bool",
         "stats": {
          "unique_count": 1,
          "nan_count": 0,
          "categories": [
           {
            "name": "False",
            "count": 5
           }
          ]
         }
        },
        {
         "name": "HomeTeam_Chievo",
         "dtype": "bool",
         "stats": {
          "unique_count": 1,
          "nan_count": 0,
          "categories": [
           {
            "name": "False",
            "count": 5
           }
          ]
         }
        },
        {
         "name": "HomeTeam_Strasbourg",
         "dtype": "bool",
         "stats": {
          "unique_count": 1,
          "nan_count": 0,
          "categories": [
           {
            "name": "False",
            "count": 5
           }
          ]
         }
        },
        {
         "name": "HomeTeam_Pisa",
         "dtype": "bool",
         "stats": {
          "unique_count": 1,
          "nan_count": 0,
          "categories": [
           {
            "name": "False",
            "count": 5
           }
          ]
         }
        },
        {
         "name": "HomeTeam_Olympiakos",
         "dtype": "bool",
         "stats": {
          "unique_count": 1,
          "nan_count": 0,
          "categories": [
           {
            "name": "False",
            "count": 5
           }
          ]
         }
        },
        {
         "name": "HomeTeam_Dunfermline",
         "dtype": "bool",
         "stats": {
          "unique_count": 1,
          "nan_count": 0,
          "categories": [
           {
            "name": "False",
            "count": 5
           }
          ]
         }
        },
        {
         "name": "HomeTeam_Chateauroux",
         "dtype": "bool",
         "stats": {
          "unique_count": 1,
          "nan_count": 0,
          "categories": [
           {
            "name": "False",
            "count": 5
           }
          ]
         }
        },
        {
         "name": "HomeTeam_Arouca",
         "dtype": "bool",
         "stats": {
          "unique_count": 1,
          "nan_count": 0,
          "categories": [
           {
            "name": "False",
            "count": 5
           }
          ]
         }
        },
        {
         "name": "HomeTeam_Excelsior",
         "dtype": "bool",
         "stats": {
          "unique_count": 1,
          "nan_count": 0,
          "categories": [
           {
            "name": "False",
            "count": 5
           }
          ]
         }
        },
        {
         "name": "HomeTeam_Ascoli",
         "dtype": "bool",
         "stats": {
          "unique_count": 1,
          "nan_count": 0,
          "categories": [
           {
            "name": "False",
            "count": 5
           }
          ]
         }
        },
        {
         "name": "HomeTeam_St. Gilloise",
         "dtype": "bool",
         "stats": {
          "unique_count": 1,
          "nan_count": 0,
          "categories": [
           {
            "name": "False",
            "count": 5
           }
          ]
         }
        },
        {
         "name": "HomeTeam_Feyenoord",
         "dtype": "bool",
         "stats": {
          "unique_count": 1,
          "nan_count": 0,
          "categories": [
           {
            "name": "False",
            "count": 5
           }
          ]
         }
        },
        {
         "name": "HomeTeam_Partick",
         "dtype": "bool",
         "stats": {
          "unique_count": 1,
          "nan_count": 0,
          "categories": [
           {
            "name": "False",
            "count": 5
           }
          ]
         }
        },
        {
         "name": "HomeTeam_Scunthorpe",
         "dtype": "bool",
         "stats": {
          "unique_count": 1,
          "nan_count": 0,
          "categories": [
           {
            "name": "False",
            "count": 5
           }
          ]
         }
        },
        {
         "name": "HomeTeam_Stuttgart",
         "dtype": "bool",
         "stats": {
          "unique_count": 1,
          "nan_count": 0,
          "categories": [
           {
            "name": "False",
            "count": 5
           }
          ]
         }
        },
        {
         "name": "HomeTeam_Bastia",
         "dtype": "bool",
         "stats": {
          "unique_count": 1,
          "nan_count": 0,
          "categories": [
           {
            "name": "False",
            "count": 5
           }
          ]
         }
        },
        {
         "name": "HomeTeam_Chambly",
         "dtype": "bool",
         "stats": {
          "unique_count": 1,
          "nan_count": 0,
          "categories": [
           {
            "name": "False",
            "count": 5
           }
          ]
         }
        },
        {
         "name": "HomeTeam_RB Leipzig",
         "dtype": "bool",
         "stats": {
          "unique_count": 1,
          "nan_count": 0,
          "categories": [
           {
            "name": "False",
            "count": 5
           }
          ]
         }
        },
        {
         "name": "HomeTeam_Doncaster",
         "dtype": "bool",
         "stats": {
          "unique_count": 1,
          "nan_count": 0,
          "categories": [
           {
            "name": "False",
            "count": 5
           }
          ]
         }
        },
        {
         "name": "HomeTeam_Lille",
         "dtype": "bool",
         "stats": {
          "unique_count": 1,
          "nan_count": 0,
          "categories": [
           {
            "name": "False",
            "count": 5
           }
          ]
         }
        },
        {
         "name": "HomeTeam_Setubal",
         "dtype": "bool",
         "stats": {
          "unique_count": 1,
          "nan_count": 0,
          "categories": [
           {
            "name": "False",
            "count": 5
           }
          ]
         }
        },
        {
         "name": "HomeTeam_Cheltenham",
         "dtype": "bool",
         "stats": {
          "unique_count": 1,
          "nan_count": 0,
          "categories": [
           {
            "name": "False",
            "count": 5
           }
          ]
         }
        },
        {
         "name": "HomeTeam_Brechin",
         "dtype": "bool",
         "stats": {
          "unique_count": 1,
          "nan_count": 0,
          "categories": [
           {
            "name": "False",
            "count": 5
           }
          ]
         }
        },
        {
         "name": "HomeTeam_Parma",
         "dtype": "bool",
         "stats": {
          "unique_count": 1,
          "nan_count": 0,
          "categories": [
           {
            "name": "False",
            "count": 5
           }
          ]
         }
        },
        {
         "name": "HomeTeam_Swansea",
         "dtype": "bool",
         "stats": {
          "unique_count": 1,
          "nan_count": 0,
          "categories": [
           {
            "name": "False",
            "count": 5
           }
          ]
         }
        },
        {
         "name": "HomeTeam_Famalicao",
         "dtype": "bool",
         "stats": {
          "unique_count": 1,
          "nan_count": 0,
          "categories": [
           {
            "name": "False",
            "count": 5
           }
          ]
         }
        },
        {
         "name": "HomeTeam_Dundee United",
         "dtype": "bool",
         "stats": {
          "unique_count": 1,
          "nan_count": 0,
          "categories": [
           {
            "name": "False",
            "count": 5
           }
          ]
         }
        },
        {
         "name": "HomeTeam_Alessandria",
         "dtype": "bool",
         "stats": {
          "unique_count": 1,
          "nan_count": 0,
          "categories": [
           {
            "name": "False",
            "count": 5
           }
          ]
         }
        },
        {
         "name": "HomeTeam_Atalanta",
         "dtype": "bool",
         "stats": {
          "unique_count": 1,
          "nan_count": 0,
          "categories": [
           {
            "name": "False",
            "count": 5
           }
          ]
         }
        },
        {
         "name": "HomeTeam_Clyde",
         "dtype": "bool",
         "stats": {
          "unique_count": 1,
          "nan_count": 0,
          "categories": [
           {
            "name": "False",
            "count": 5
           }
          ]
         }
        },
        {
         "name": "HomeTeam_Huesca",
         "dtype": "bool",
         "stats": {
          "unique_count": 1,
          "nan_count": 0,
          "categories": [
           {
            "name": "False",
            "count": 5
           }
          ]
         }
        },
        {
         "name": "HomeTeam_Empoli",
         "dtype": "bool",
         "stats": {
          "unique_count": 1,
          "nan_count": 0,
          "categories": [
           {
            "name": "False",
            "count": 5
           }
          ]
         }
        },
        {
         "name": "HomeTeam_Stirling",
         "dtype": "bool",
         "stats": {
          "unique_count": 1,
          "nan_count": 0,
          "categories": [
           {
            "name": "False",
            "count": 5
           }
          ]
         }
        },
        {
         "name": "HomeTeam_Burton",
         "dtype": "bool",
         "stats": {
          "unique_count": 1,
          "nan_count": 0,
          "categories": [
           {
            "name": "False",
            "count": 5
           }
          ]
         }
        },
        {
         "name": "HomeTeam_Sevilla",
         "dtype": "bool",
         "stats": {
          "unique_count": 1,
          "nan_count": 0,
          "categories": [
           {
            "name": "False",
            "count": 5
           }
          ]
         }
        },
        {
         "name": "HomeTeam_Celtic",
         "dtype": "bool",
         "stats": {
          "unique_count": 1,
          "nan_count": 0,
          "categories": [
           {
            "name": "False",
            "count": 5
           }
          ]
         }
        },
        {
         "name": "HomeTeam_Macclesfield",
         "dtype": "bool",
         "stats": {
          "unique_count": 1,
          "nan_count": 0,
          "categories": [
           {
            "name": "False",
            "count": 5
           }
          ]
         }
        },
        {
         "name": "HomeTeam_Virtus Entella",
         "dtype": "bool",
         "stats": {
          "unique_count": 1,
          "nan_count": 0,
          "categories": [
           {
            "name": "False",
            "count": 5
           }
          ]
         }
        },
        {
         "name": "HomeTeam_Sutton",
         "dtype": "bool",
         "stats": {
          "unique_count": 1,
          "nan_count": 0,
          "categories": [
           {
            "name": "False",
            "count": 5
           }
          ]
         }
        },
        {
         "name": "HomeTeam_Preston",
         "dtype": "bool",
         "stats": {
          "unique_count": 1,
          "nan_count": 0,
          "categories": [
           {
            "name": "False",
            "count": 5
           }
          ]
         }
        },
        {
         "name": "HomeTeam_Como",
         "dtype": "bool",
         "stats": {
          "unique_count": 1,
          "nan_count": 0,
          "categories": [
           {
            "name": "False",
            "count": 5
           }
          ]
         }
        },
        {
         "name": "HomeTeam_Greuther Furth",
         "dtype": "bool",
         "stats": {
          "unique_count": 1,
          "nan_count": 0,
          "categories": [
           {
            "name": "False",
            "count": 5
           }
          ]
         }
        },
        {
         "name": "HomeTeam_Chelsea",
         "dtype": "bool",
         "stats": {
          "unique_count": 2,
          "nan_count": 0,
          "categories": [
           {
            "name": "False",
            "count": 4
           },
           {
            "name": "True",
            "count": 1
           }
          ]
         }
        },
        {
         "name": "HomeTeam_Lyon",
         "dtype": "bool",
         "stats": {
          "unique_count": 1,
          "nan_count": 0,
          "categories": [
           {
            "name": "False",
            "count": 5
           }
          ]
         }
        },
        {
         "name": "HomeTeam_Fenerbahce",
         "dtype": "bool",
         "stats": {
          "unique_count": 1,
          "nan_count": 0,
          "categories": [
           {
            "name": "False",
            "count": 5
           }
          ]
         }
        },
        {
         "name": "HomeTeam_Getafe",
         "dtype": "bool",
         "stats": {
          "unique_count": 1,
          "nan_count": 0,
          "categories": [
           {
            "name": "False",
            "count": 5
           }
          ]
         }
        },
        {
         "name": "HomeTeam_Santander",
         "dtype": "bool",
         "stats": {
          "unique_count": 1,
          "nan_count": 0,
          "categories": [
           {
            "name": "False",
            "count": 5
           }
          ]
         }
        },
        {
         "name": "HomeTeam_Walsall",
         "dtype": "bool",
         "stats": {
          "unique_count": 1,
          "nan_count": 0,
          "categories": [
           {
            "name": "False",
            "count": 5
           }
          ]
         }
        },
        {
         "name": "HomeTeam_Udinese",
         "dtype": "bool",
         "stats": {
          "unique_count": 1,
          "nan_count": 0,
          "categories": [
           {
            "name": "False",
            "count": 5
           }
          ]
         }
        },
        {
         "name": "HomeTeam_Tondela",
         "dtype": "bool",
         "stats": {
          "unique_count": 1,
          "nan_count": 0,
          "categories": [
           {
            "name": "False",
            "count": 5
           }
          ]
         }
        },
        {
         "name": "HomeTeam_Nice",
         "dtype": "bool",
         "stats": {
          "unique_count": 1,
          "nan_count": 0,
          "categories": [
           {
            "name": "False",
            "count": 5
           }
          ]
         }
        },
        {
         "name": "HomeTeam_Extremadura UD",
         "dtype": "bool",
         "stats": {
          "unique_count": 1,
          "nan_count": 0,
          "categories": [
           {
            "name": "False",
            "count": 5
           }
          ]
         }
        },
        {
         "name": "HomeTeam_Besiktas",
         "dtype": "bool",
         "stats": {
          "unique_count": 1,
          "nan_count": 0,
          "categories": [
           {
            "name": "False",
            "count": 5
           }
          ]
         }
        },
        {
         "name": "HomeTeam_Reggina",
         "dtype": "bool",
         "stats": {
          "unique_count": 1,
          "nan_count": 0,
          "categories": [
           {
            "name": "False",
            "count": 5
           }
          ]
         }
        },
        {
         "name": "HomeTeam_Monaco",
         "dtype": "bool",
         "stats": {
          "unique_count": 1,
          "nan_count": 0,
          "categories": [
           {
            "name": "False",
            "count": 5
           }
          ]
         }
        },
        {
         "name": "HomeTeam_Lugo",
         "dtype": "bool",
         "stats": {
          "unique_count": 1,
          "nan_count": 0,
          "categories": [
           {
            "name": "False",
            "count": 5
           }
          ]
         }
        },
        {
         "name": "HomeTeam_Valladolid",
         "dtype": "bool",
         "stats": {
          "unique_count": 1,
          "nan_count": 0,
          "categories": [
           {
            "name": "False",
            "count": 5
           }
          ]
         }
        },
        {
         "name": "HomeTeam_West Ham",
         "dtype": "bool",
         "stats": {
          "unique_count": 1,
          "nan_count": 0,
          "categories": [
           {
            "name": "False",
            "count": 5
           }
          ]
         }
        },
        {
         "name": "HomeTeam_Padova",
         "dtype": "bool",
         "stats": {
          "unique_count": 1,
          "nan_count": 0,
          "categories": [
           {
            "name": "False",
            "count": 5
           }
          ]
         }
        },
        {
         "name": "HomeTeam_Oxford",
         "dtype": "bool",
         "stats": {
          "unique_count": 1,
          "nan_count": 0,
          "categories": [
           {
            "name": "False",
            "count": 5
           }
          ]
         }
        },
        {
         "name": "HomeTeam_La Coruna",
         "dtype": "bool",
         "stats": {
          "unique_count": 1,
          "nan_count": 0,
          "categories": [
           {
            "name": "False",
            "count": 5
           }
          ]
         }
        },
        {
         "name": "HomeTeam_Port Vale",
         "dtype": "bool",
         "stats": {
          "unique_count": 1,
          "nan_count": 0,
          "categories": [
           {
            "name": "False",
            "count": 5
           }
          ]
         }
        },
        {
         "name": "HomeTeam_Ein Frankfurt",
         "dtype": "bool",
         "stats": {
          "unique_count": 1,
          "nan_count": 0,
          "categories": [
           {
            "name": "False",
            "count": 5
           }
          ]
         }
        },
        {
         "name": "HomeTeam_Crawley Town",
         "dtype": "bool",
         "stats": {
          "unique_count": 1,
          "nan_count": 0,
          "categories": [
           {
            "name": "False",
            "count": 5
           }
          ]
         }
        },
        {
         "name": "HomeTeam_Antalyaspor",
         "dtype": "bool",
         "stats": {
          "unique_count": 1,
          "nan_count": 0,
          "categories": [
           {
            "name": "False",
            "count": 5
           }
          ]
         }
        },
        {
         "name": "HomeTeam_Clermont",
         "dtype": "bool",
         "stats": {
          "unique_count": 1,
          "nan_count": 0,
          "categories": [
           {
            "name": "False",
            "count": 5
           }
          ]
         }
        },
        {
         "name": "HomeTeam_Willem II",
         "dtype": "bool",
         "stats": {
          "unique_count": 1,
          "nan_count": 0,
          "categories": [
           {
            "name": "False",
            "count": 5
           }
          ]
         }
        },
        {
         "name": "HomeTeam_Leyton Orient",
         "dtype": "bool",
         "stats": {
          "unique_count": 1,
          "nan_count": 0,
          "categories": [
           {
            "name": "False",
            "count": 5
           }
          ]
         }
        },
        {
         "name": "HomeTeam_Alloa",
         "dtype": "bool",
         "stats": {
          "unique_count": 1,
          "nan_count": 0,
          "categories": [
           {
            "name": "False",
            "count": 5
           }
          ]
         }
        },
        {
         "name": "HomeTeam_Betis",
         "dtype": "bool",
         "stats": {
          "unique_count": 1,
          "nan_count": 0,
          "categories": [
           {
            "name": "False",
            "count": 5
           }
          ]
         }
        },
        {
         "name": "HomeTeam_Shrewsbury",
         "dtype": "bool",
         "stats": {
          "unique_count": 1,
          "nan_count": 0,
          "categories": [
           {
            "name": "False",
            "count": 5
           }
          ]
         }
        },
        {
         "name": "HomeTeam_Sp Gijon",
         "dtype": "bool",
         "stats": {
          "unique_count": 1,
          "nan_count": 0,
          "categories": [
           {
            "name": "False",
            "count": 5
           }
          ]
         }
        },
        {
         "name": "HomeTeam_Quevilly Rouen",
         "dtype": "bool",
         "stats": {
          "unique_count": 1,
          "nan_count": 0,
          "categories": [
           {
            "name": "False",
            "count": 5
           }
          ]
         }
        },
        {
         "name": "HomeTeam_Roma",
         "dtype": "bool",
         "stats": {
          "unique_count": 1,
          "nan_count": 0,
          "categories": [
           {
            "name": "False",
            "count": 5
           }
          ]
         }
        },
        {
         "name": "HomeTeam_Hansa Rostock",
         "dtype": "bool",
         "stats": {
          "unique_count": 1,
          "nan_count": 0,
          "categories": [
           {
            "name": "False",
            "count": 5
           }
          ]
         }
        },
        {
         "name": "HomeTeam_Mirandes",
         "dtype": "bool",
         "stats": {
          "unique_count": 1,
          "nan_count": 0,
          "categories": [
           {
            "name": "False",
            "count": 5
           }
          ]
         }
        },
        {
         "name": "HomeTeam_Huddersfield",
         "dtype": "bool",
         "stats": {
          "unique_count": 1,
          "nan_count": 0,
          "categories": [
           {
            "name": "False",
            "count": 5
           }
          ]
         }
        },
        {
         "name": "HomeTeam_VVV Venlo",
         "dtype": "bool",
         "stats": {
          "unique_count": 1,
          "nan_count": 0,
          "categories": [
           {
            "name": "False",
            "count": 5
           }
          ]
         }
        },
        {
         "name": "HomeTeam_Mouscron",
         "dtype": "bool",
         "stats": {
          "unique_count": 1,
          "nan_count": 0,
          "categories": [
           {
            "name": "False",
            "count": 5
           }
          ]
         }
        },
        {
         "name": "HomeTeam_Tottenham",
         "dtype": "bool",
         "stats": {
          "unique_count": 1,
          "nan_count": 0,
          "categories": [
           {
            "name": "False",
            "count": 5
           }
          ]
         }
        },
        {
         "name": "HomeTeam_Real Madrid",
         "dtype": "bool",
         "stats": {
          "unique_count": 1,
          "nan_count": 0,
          "categories": [
           {
            "name": "False",
            "count": 5
           }
          ]
         }
        },
        {
         "name": "HomeTeam_AEK",
         "dtype": "bool",
         "stats": {
          "unique_count": 1,
          "nan_count": 0,
          "categories": [
           {
            "name": "False",
            "count": 5
           }
          ]
         }
        },
        {
         "name": "HomeTeam_Watford",
         "dtype": "bool",
         "stats": {
          "unique_count": 1,
          "nan_count": 0,
          "categories": [
           {
            "name": "False",
            "count": 5
           }
          ]
         }
        },
        {
         "name": "HomeTeam_Southampton",
         "dtype": "bool",
         "stats": {
          "unique_count": 1,
          "nan_count": 0,
          "categories": [
           {
            "name": "False",
            "count": 5
           }
          ]
         }
        },
        {
         "name": "HomeTeam_Waasland-Beveren",
         "dtype": "bool",
         "stats": {
          "unique_count": 1,
          "nan_count": 0,
          "categories": [
           {
            "name": "False",
            "count": 5
           }
          ]
         }
        },
        {
         "name": "HomeTeam_M'gladbach",
         "dtype": "bool",
         "stats": {
          "unique_count": 1,
          "nan_count": 0,
          "categories": [
           {
            "name": "False",
            "count": 5
           }
          ]
         }
        },
        {
         "name": "HomeTeam_Nurnberg",
         "dtype": "bool",
         "stats": {
          "unique_count": 1,
          "nan_count": 0,
          "categories": [
           {
            "name": "False",
            "count": 5
           }
          ]
         }
        },
        {
         "name": "HomeTeam_Tenerife",
         "dtype": "bool",
         "stats": {
          "unique_count": 1,
          "nan_count": 0,
          "categories": [
           {
            "name": "False",
            "count": 5
           }
          ]
         }
        },
        {
         "name": "HomeTeam_Ternana",
         "dtype": "bool",
         "stats": {
          "unique_count": 1,
          "nan_count": 0,
          "categories": [
           {
            "name": "False",
            "count": 5
           }
          ]
         }
        },
        {
         "name": "HomeTeam_Panathinaikos",
         "dtype": "bool",
         "stats": {
          "unique_count": 1,
          "nan_count": 0,
          "categories": [
           {
            "name": "False",
            "count": 5
           }
          ]
         }
        },
        {
         "name": "HomeTeam_Stoke",
         "dtype": "bool",
         "stats": {
          "unique_count": 1,
          "nan_count": 0,
          "categories": [
           {
            "name": "False",
            "count": 5
           }
          ]
         }
        },
        {
         "name": "HomeTeam_Peterhead",
         "dtype": "bool",
         "stats": {
          "unique_count": 1,
          "nan_count": 0,
          "categories": [
           {
            "name": "False",
            "count": 5
           }
          ]
         }
        },
        {
         "name": "HomeTeam_Bury",
         "dtype": "bool",
         "stats": {
          "unique_count": 1,
          "nan_count": 0,
          "categories": [
           {
            "name": "False",
            "count": 5
           }
          ]
         }
        },
        {
         "name": "HomeTeam_Palermo",
         "dtype": "bool",
         "stats": {
          "unique_count": 1,
          "nan_count": 0,
          "categories": [
           {
            "name": "False",
            "count": 5
           }
          ]
         }
        },
        {
         "name": "HomeTeam_For Sittard",
         "dtype": "bool",
         "stats": {
          "unique_count": 1,
          "nan_count": 0,
          "categories": [
           {
            "name": "False",
            "count": 5
           }
          ]
         }
        },
        {
         "name": "HomeTeam_Villarreal",
         "dtype": "bool",
         "stats": {
          "unique_count": 1,
          "nan_count": 0,
          "categories": [
           {
            "name": "False",
            "count": 5
           }
          ]
         }
        },
        {
         "name": "HomeTeam_Cosenza",
         "dtype": "bool",
         "stats": {
          "unique_count": 1,
          "nan_count": 0,
          "categories": [
           {
            "name": "False",
            "count": 5
           }
          ]
         }
        },
        {
         "name": "HomeTeam_Motherwell",
         "dtype": "bool",
         "stats": {
          "unique_count": 1,
          "nan_count": 0,
          "categories": [
           {
            "name": "False",
            "count": 5
           }
          ]
         }
        },
        {
         "name": "HomeTeam_Lens",
         "dtype": "bool",
         "stats": {
          "unique_count": 1,
          "nan_count": 0,
          "categories": [
           {
            "name": "False",
            "count": 5
           }
          ]
         }
        },
        {
         "name": "HomeTeam_Boavista",
         "dtype": "bool",
         "stats": {
          "unique_count": 1,
          "nan_count": 0,
          "categories": [
           {
            "name": "False",
            "count": 5
           }
          ]
         }
        },
        {
         "name": "HomeTeam_Beziers",
         "dtype": "bool",
         "stats": {
          "unique_count": 1,
          "nan_count": 0,
          "categories": [
           {
            "name": "False",
            "count": 5
           }
          ]
         }
        },
        {
         "name": "HomeTeam_Leicester",
         "dtype": "bool",
         "stats": {
          "unique_count": 1,
          "nan_count": 0,
          "categories": [
           {
            "name": "False",
            "count": 5
           }
          ]
         }
        },
        {
         "name": "HomeTeam_Apollon Apollon",
         "dtype": "bool",
         "stats": {
          "unique_count": 1,
          "nan_count": 0,
          "categories": [
           {
            "name": "False",
            "count": 5
           }
          ]
         }
        },
        {
         "name": "HomeTeam_Nimes",
         "dtype": "bool",
         "stats": {
          "unique_count": 1,
          "nan_count": 0,
          "categories": [
           {
            "name": "False",
            "count": 5
           }
          ]
         }
        },
        {
         "name": "HomeTeam_Gaziantep",
         "dtype": "bool",
         "stats": {
          "unique_count": 1,
          "nan_count": 0,
          "categories": [
           {
            "name": "False",
            "count": 5
           }
          ]
         }
        },
        {
         "name": "HomeTeam_Pordenone",
         "dtype": "bool",
         "stats": {
          "unique_count": 1,
          "nan_count": 0,
          "categories": [
           {
            "name": "False",
            "count": 5
           }
          ]
         }
        },
        {
         "name": "HomeTeam_St Johnstone",
         "dtype": "bool",
         "stats": {
          "unique_count": 1,
          "nan_count": 0,
          "categories": [
           {
            "name": "False",
            "count": 5
           }
          ]
         }
        },
        {
         "name": "HomeTeam_Panetolikos",
         "dtype": "bool",
         "stats": {
          "unique_count": 1,
          "nan_count": 0,
          "categories": [
           {
            "name": "False",
            "count": 5
           }
          ]
         }
        },
        {
         "name": "HomeTeam_Roda",
         "dtype": "bool",
         "stats": {
          "unique_count": 1,
          "nan_count": 0,
          "categories": [
           {
            "name": "False",
            "count": 5
           }
          ]
         }
        },
        {
         "name": "HomeTeam_FC Emmen",
         "dtype": "bool",
         "stats": {
          "unique_count": 1,
          "nan_count": 0,
          "categories": [
           {
            "name": "False",
            "count": 5
           }
          ]
         }
        },
        {
         "name": "HomeTeam_Bristol City",
         "dtype": "bool",
         "stats": {
          "unique_count": 1,
          "nan_count": 0,
          "categories": [
           {
            "name": "False",
            "count": 5
           }
          ]
         }
        },
        {
         "name": "HomeTeam_Everton",
         "dtype": "bool",
         "stats": {
          "unique_count": 2,
          "nan_count": 0,
          "categories": [
           {
            "name": "False",
            "count": 4
           },
           {
            "name": "True",
            "count": 1
           }
          ]
         }
        },
        {
         "name": "HomeTeam_Union Berlin",
         "dtype": "bool",
         "stats": {
          "unique_count": 1,
          "nan_count": 0,
          "categories": [
           {
            "name": "False",
            "count": 5
           }
          ]
         }
        },
        {
         "name": "HomeTeam_Wigan",
         "dtype": "bool",
         "stats": {
          "unique_count": 1,
          "nan_count": 0,
          "categories": [
           {
            "name": "False",
            "count": 5
           }
          ]
         }
        },
        {
         "name": "HomeTeam_Karlsruhe",
         "dtype": "bool",
         "stats": {
          "unique_count": 1,
          "nan_count": 0,
          "categories": [
           {
            "name": "False",
            "count": 5
           }
          ]
         }
        },
        {
         "name": "HomeTeam_Brest",
         "dtype": "bool",
         "stats": {
          "unique_count": 1,
          "nan_count": 0,
          "categories": [
           {
            "name": "False",
            "count": 5
           }
          ]
         }
        },
        {
         "name": "HomeTeam_Xanthi",
         "dtype": "bool",
         "stats": {
          "unique_count": 1,
          "nan_count": 0,
          "categories": [
           {
            "name": "False",
            "count": 5
           }
          ]
         }
        },
        {
         "name": "HomeTeam_Fortuna Dusseldorf",
         "dtype": "bool",
         "stats": {
          "unique_count": 1,
          "nan_count": 0,
          "categories": [
           {
            "name": "False",
            "count": 5
           }
          ]
         }
        },
        {
         "name": "HomeTeam_Kayserispor",
         "dtype": "bool",
         "stats": {
          "unique_count": 1,
          "nan_count": 0,
          "categories": [
           {
            "name": "False",
            "count": 5
           }
          ]
         }
        },
        {
         "name": "HomeTeam_Le Havre",
         "dtype": "bool",
         "stats": {
          "unique_count": 1,
          "nan_count": 0,
          "categories": [
           {
            "name": "False",
            "count": 5
           }
          ]
         }
        },
        {
         "name": "HomeTeam_Stevenage",
         "dtype": "bool",
         "stats": {
          "unique_count": 1,
          "nan_count": 0,
          "categories": [
           {
            "name": "False",
            "count": 5
           }
          ]
         }
        },
        {
         "name": "HomeTeam_Schalke 04",
         "dtype": "bool",
         "stats": {
          "unique_count": 1,
          "nan_count": 0,
          "categories": [
           {
            "name": "False",
            "count": 5
           }
          ]
         }
        },
        {
         "name": "HomeTeam_Altay",
         "dtype": "bool",
         "stats": {
          "unique_count": 1,
          "nan_count": 0,
          "categories": [
           {
            "name": "False",
            "count": 5
           }
          ]
         }
        },
        {
         "name": "HomeTeam_Lorient",
         "dtype": "bool",
         "stats": {
          "unique_count": 1,
          "nan_count": 0,
          "categories": [
           {
            "name": "False",
            "count": 5
           }
          ]
         }
        },
        {
         "name": "HomeTeam_Karagumruk",
         "dtype": "bool",
         "stats": {
          "unique_count": 1,
          "nan_count": 0,
          "categories": [
           {
            "name": "False",
            "count": 5
           }
          ]
         }
        },
        {
         "name": "HomeTeam_Portsmouth",
         "dtype": "bool",
         "stats": {
          "unique_count": 1,
          "nan_count": 0,
          "categories": [
           {
            "name": "False",
            "count": 5
           }
          ]
         }
        },
        {
         "name": "HomeTeam_Barcelona",
         "dtype": "bool",
         "stats": {
          "unique_count": 1,
          "nan_count": 0,
          "categories": [
           {
            "name": "False",
            "count": 5
           }
          ]
         }
        },
        {
         "name": "HomeTeam_Vallecano",
         "dtype": "bool",
         "stats": {
          "unique_count": 1,
          "nan_count": 0,
          "categories": [
           {
            "name": "False",
            "count": 5
           }
          ]
         }
        },
        {
         "name": "HomeTeam_Asteras Tripolis",
         "dtype": "bool",
         "stats": {
          "unique_count": 1,
          "nan_count": 0,
          "categories": [
           {
            "name": "False",
            "count": 5
           }
          ]
         }
        },
        {
         "name": "HomeTeam_Hannover",
         "dtype": "bool",
         "stats": {
          "unique_count": 1,
          "nan_count": 0,
          "categories": [
           {
            "name": "False",
            "count": 5
           }
          ]
         }
        },
        {
         "name": "HomeTeam_Konyaspor",
         "dtype": "bool",
         "stats": {
          "unique_count": 1,
          "nan_count": 0,
          "categories": [
           {
            "name": "False",
            "count": 5
           }
          ]
         }
        },
        {
         "name": "HomeTeam_Toulouse",
         "dtype": "bool",
         "stats": {
          "unique_count": 1,
          "nan_count": 0,
          "categories": [
           {
            "name": "False",
            "count": 5
           }
          ]
         }
        },
        {
         "name": "HomeTeam_Kilmarnock",
         "dtype": "bool",
         "stats": {
          "unique_count": 1,
          "nan_count": 0,
          "categories": [
           {
            "name": "False",
            "count": 5
           }
          ]
         }
        },
        {
         "name": "HomeTeam_Osasuna",
         "dtype": "bool",
         "stats": {
          "unique_count": 1,
          "nan_count": 0,
          "categories": [
           {
            "name": "False",
            "count": 5
           }
          ]
         }
        },
        {
         "name": "HomeTeam_Cagliari",
         "dtype": "bool",
         "stats": {
          "unique_count": 1,
          "nan_count": 0,
          "categories": [
           {
            "name": "False",
            "count": 5
           }
          ]
         }
        },
        {
         "name": "HomeTeam_Giresunspor",
         "dtype": "bool",
         "stats": {
          "unique_count": 1,
          "nan_count": 0,
          "categories": [
           {
            "name": "False",
            "count": 5
           }
          ]
         }
        },
        {
         "name": "HomeTeam_Mansfield",
         "dtype": "bool",
         "stats": {
          "unique_count": 1,
          "nan_count": 0,
          "categories": [
           {
            "name": "False",
            "count": 5
           }
          ]
         }
        },
        {
         "name": "HomeTeam_Panionios",
         "dtype": "bool",
         "stats": {
          "unique_count": 1,
          "nan_count": 0,
          "categories": [
           {
            "name": "False",
            "count": 5
           }
          ]
         }
        },
        {
         "name": "HomeTeam_Bochum",
         "dtype": "bool",
         "stats": {
          "unique_count": 1,
          "nan_count": 0,
          "categories": [
           {
            "name": "False",
            "count": 5
           }
          ]
         }
        },
        {
         "name": "HomeTeam_Leonesa",
         "dtype": "bool",
         "stats": {
          "unique_count": 1,
          "nan_count": 0,
          "categories": [
           {
            "name": "False",
            "count": 5
           }
          ]
         }
        },
        {
         "name": "HomeTeam_Ad. Demirspor",
         "dtype": "bool",
         "stats": {
          "unique_count": 1,
          "nan_count": 0,
          "categories": [
           {
            "name": "False",
            "count": 5
           }
          ]
         }
        },
        {
         "name": "HomeTeam_Cercle Brugge",
         "dtype": "bool",
         "stats": {
          "unique_count": 1,
          "nan_count": 0,
          "categories": [
           {
            "name": "False",
            "count": 5
           }
          ]
         }
        },
        {
         "name": "HomeTeam_Kasimpasa",
         "dtype": "bool",
         "stats": {
          "unique_count": 1,
          "nan_count": 0,
          "categories": [
           {
            "name": "False",
            "count": 5
           }
          ]
         }
        },
        {
         "name": "HomeTeam_Le Mans",
         "dtype": "bool",
         "stats": {
          "unique_count": 1,
          "nan_count": 0,
          "categories": [
           {
            "name": "False",
            "count": 5
           }
          ]
         }
        },
        {
         "name": "HomeTeam_Coventry",
         "dtype": "bool",
         "stats": {
          "unique_count": 1,
          "nan_count": 0,
          "categories": [
           {
            "name": "False",
            "count": 5
           }
          ]
         }
        },
        {
         "name": "HomeTeam_Rayo Majadahonda",
         "dtype": "bool",
         "stats": {
          "unique_count": 1,
          "nan_count": 0,
          "categories": [
           {
            "name": "False",
            "count": 5
           }
          ]
         }
        },
        {
         "name": "HomeTeam_Luton",
         "dtype": "bool",
         "stats": {
          "unique_count": 1,
          "nan_count": 0,
          "categories": [
           {
            "name": "False",
            "count": 5
           }
          ]
         }
        },
        {
         "name": "HomeTeam_Yeovil",
         "dtype": "bool",
         "stats": {
          "unique_count": 1,
          "nan_count": 0,
          "categories": [
           {
            "name": "False",
            "count": 5
           }
          ]
         }
        },
        {
         "name": "HomeTeam_Cambuur",
         "dtype": "bool",
         "stats": {
          "unique_count": 1,
          "nan_count": 0,
          "categories": [
           {
            "name": "False",
            "count": 5
           }
          ]
         }
        },
        {
         "name": "HomeTeam_Annan Athletic",
         "dtype": "bool",
         "stats": {
          "unique_count": 1,
          "nan_count": 0,
          "categories": [
           {
            "name": "False",
            "count": 5
           }
          ]
         }
        },
        {
         "name": "HomeTeam_Gent",
         "dtype": "bool",
         "stats": {
          "unique_count": 1,
          "nan_count": 0,
          "categories": [
           {
            "name": "False",
            "count": 5
           }
          ]
         }
        },
        {
         "name": "HomeTeam_Cartagena",
         "dtype": "bool",
         "stats": {
          "unique_count": 1,
          "nan_count": 0,
          "categories": [
           {
            "name": "False",
            "count": 5
           }
          ]
         }
        },
        {
         "name": "HomeTeam_Fleetwood Town",
         "dtype": "bool",
         "stats": {
          "unique_count": 1,
          "nan_count": 0,
          "categories": [
           {
            "name": "False",
            "count": 5
           }
          ]
         }
        },
        {
         "name": "HomeTeam_Wolves",
         "dtype": "bool",
         "stats": {
          "unique_count": 1,
          "nan_count": 0,
          "categories": [
           {
            "name": "False",
            "count": 5
           }
          ]
         }
        },
        {
         "name": "HomeTeam_Cadiz",
         "dtype": "bool",
         "stats": {
          "unique_count": 1,
          "nan_count": 0,
          "categories": [
           {
            "name": "False",
            "count": 5
           }
          ]
         }
        },
        {
         "name": "HomeTeam_Juve Stabia",
         "dtype": "bool",
         "stats": {
          "unique_count": 1,
          "nan_count": 0,
          "categories": [
           {
            "name": "False",
            "count": 5
           }
          ]
         }
        },
        {
         "name": "HomeTeam_Accrington",
         "dtype": "bool",
         "stats": {
          "unique_count": 1,
          "nan_count": 0,
          "categories": [
           {
            "name": "False",
            "count": 5
           }
          ]
         }
        },
        {
         "name": "HomeTeam_Barrow",
         "dtype": "bool",
         "stats": {
          "unique_count": 1,
          "nan_count": 0,
          "categories": [
           {
            "name": "False",
            "count": 5
           }
          ]
         }
        },
        {
         "name": "HomeTeam_Foggia",
         "dtype": "bool",
         "stats": {
          "unique_count": 1,
          "nan_count": 0,
          "categories": [
           {
            "name": "False",
            "count": 5
           }
          ]
         }
        },
        {
         "name": "HomeTeam_Leverkusen",
         "dtype": "bool",
         "stats": {
          "unique_count": 1,
          "nan_count": 0,
          "categories": [
           {
            "name": "False",
            "count": 5
           }
          ]
         }
        },
        {
         "name": "HomeTeam_Benevento",
         "dtype": "bool",
         "stats": {
          "unique_count": 1,
          "nan_count": 0,
          "categories": [
           {
            "name": "False",
            "count": 5
           }
          ]
         }
        },
        {
         "name": "HomeTeam_Benfica",
         "dtype": "bool",
         "stats": {
          "unique_count": 1,
          "nan_count": 0,
          "categories": [
           {
            "name": "False",
            "count": 5
           }
          ]
         }
        },
        {
         "name": "HomeTeam_Eupen",
         "dtype": "bool",
         "stats": {
          "unique_count": 1,
          "nan_count": 0,
          "categories": [
           {
            "name": "False",
            "count": 5
           }
          ]
         }
        },
        {
         "name": "HomeTeam_Porto",
         "dtype": "bool",
         "stats": {
          "unique_count": 1,
          "nan_count": 0,
          "categories": [
           {
            "name": "False",
            "count": 5
           }
          ]
         }
        },
        {
         "name": "HomeTeam_Rangers",
         "dtype": "bool",
         "stats": {
          "unique_count": 1,
          "nan_count": 0,
          "categories": [
           {
            "name": "False",
            "count": 5
           }
          ]
         }
        },
        {
         "name": "HomeTeam_Hamburg",
         "dtype": "bool",
         "stats": {
          "unique_count": 1,
          "nan_count": 0,
          "categories": [
           {
            "name": "False",
            "count": 5
           }
          ]
         }
        },
        {
         "name": "HomeTeam_Moreirense",
         "dtype": "bool",
         "stats": {
          "unique_count": 1,
          "nan_count": 0,
          "categories": [
           {
            "name": "False",
            "count": 5
           }
          ]
         }
        },
        {
         "name": "HomeTeam_Standard",
         "dtype": "bool",
         "stats": {
          "unique_count": 1,
          "nan_count": 0,
          "categories": [
           {
            "name": "False",
            "count": 5
           }
          ]
         }
        },
        {
         "name": "_deepnote_index_column",
         "dtype": "int64"
        }
       ],
       "rows": [
        {
         "Country": "england",
         "League": 0,
         "Season": 1718,
         "Match_Date": "2017-08-11",
         "Home_Team": "Arsenal",
         "Away_Team": "Leicester",
         "Full_Time_Home_Team_Goals": 4,
         "Full_Time_Away_Team_Goals": 3,
         "Full_Time_Result": "H",
         "Home_Team_Shots": 27,
         "Away_Team_Shots": 6,
         "Home_Team_Shots_on_Target": 10,
         "Away_Team_Shots_on_Target": 3,
         "Home_Team_Corners": 9,
         "Away_Team_Corners": 4,
         "Home_Team_Yellow_Cards": 0,
         "Away_Team_Yellow_Cards": 1,
         "Home_Team_Red_Cards": 0,
         "Away_Team_Red_Cards": 0,
         "DayOfWeek": 4,
         "is_Weekend": 0,
         "Home_Team_Fouls_Committed": 9,
         "Away_Team_Fouls_Committed": 12,
         "over_2.5": 1,
         "Average_home_win_odds": 1.505,
         "Average_away_win_odds": 6.505,
         "Average_draw_odds": 4.46,
         "Average_over_2.5_goals_odds": 1.61,
         "Average_under_2.5_goals_odds": 2.32,
         "Average_Asian_Handicap_Home_odds": 0.425,
         "Average_Asian_Handicap_Away_odds": 2.02,
         "Close_home_win_odds": 1.49,
         "Close_draw_odds": 4.73,
         "Close_away_win_odds": 7.25,
         "has_favorite": 1,
         "Time_kick_off_bin": "Afternoon",
         "HomeTeam_Rotherham": "False",
         "HomeTeam_OFI Crete": "False",
         "HomeTeam_Barcelona B": "False",
         "HomeTeam_Queen of Sth": "False",
         "HomeTeam_Charleroi": "False",
         "HomeTeam_Mallorca": "False",
         "HomeTeam_Amiens": "False",
         "HomeTeam_PAOK": "False",
         "HomeTeam_Morecambe": "False",
         "HomeTeam_Arsenal": "True",
         "HomeTeam_Rodez": "False",
         "HomeTeam_Sociedad B": "False",
         "HomeTeam_Fuenlabrada": "False",
         "HomeTeam_Forfar": "False",
         "HomeTeam_Burnley": "False",
         "HomeTeam_Livingston": "False",
         "HomeTeam_Colchester": "False",
         "HomeTeam_Cittadella": "False",
         "HomeTeam_Sociedad": "False",
         "HomeTeam_Hibernian": "False",
         "HomeTeam_Sunderland": "False",
         "HomeTeam_Trapani": "False",
         "HomeTeam_Regensburg": "False",
         "HomeTeam_Reading": "False",
         "HomeTeam_Zaragoza": "False",
         "HomeTeam_Alanyaspor": "False",
         "HomeTeam_Cardiff": "False",
         "HomeTeam_Erzgebirge Aue": "False",
         "HomeTeam_Ankaragucu": "False",
         "HomeTeam_Mainz": "False",
         "HomeTeam_Bayern Munich": "False",
         "HomeTeam_Utrecht": "False",
         "HomeTeam_Estoril": "False",
         "HomeTeam_Paris SG": "False",
         "HomeTeam_St Pauli": "False",
         "HomeTeam_Heracles": "False",
         "HomeTeam_Valencia": "False",
         "HomeTeam_Ibiza": "False",
         "HomeTeam_Hearts": "False",
         "HomeTeam_Grenoble": "False",
         "HomeTeam_Sevilla B": "False",
         "HomeTeam_Denizlispor": "False",
         "HomeTeam_Morton": "False",
         "HomeTeam_Leganes": "False",
         "HomeTeam_Middlesbrough": "False",
         "HomeTeam_Sp Lisbon": "False",
         "HomeTeam_Ionikos": "False",
         "HomeTeam_Kelty Hearts": "False",
         "HomeTeam_Sheffield Weds": "False",
         "HomeTeam_Alaves": "False",
         "HomeTeam_Cremonese": "False",
         "HomeTeam_Liverpool": "False",
         "HomeTeam_Granada": "False",
         "HomeTeam_Aves": "False",
         "HomeTeam_Oviedo": "False",
         "HomeTeam_Bielefeld": "False",
         "HomeTeam_Milan": "False",
         "HomeTeam_Bradford": "False",
         "HomeTeam_Zwolle": "False",
         "HomeTeam_Falkirk": "False",
         "HomeTeam_Airdrie Utd": "False",
         "HomeTeam_Aberdeen": "False",
         "HomeTeam_Sabadell": "False",
         "HomeTeam_Sochaux": "False",
         "HomeTeam_Den Haag": "False",
         "HomeTeam_West Brom": "False",
         "HomeTeam_Tranmere": "False",
         "HomeTeam_Dunkerque": "False",
         "HomeTeam_Sampdoria": "False",
         "HomeTeam_PSV Eindhoven": "False",
         "HomeTeam_Oldham": "False",
         "HomeTeam_Heidenheim": "False",
         "HomeTeam_Brighton": "False",
         "HomeTeam_AFC Wimbledon": "False",
         "HomeTeam_Malaga": "False",
         "HomeTeam_Almeria": "False",
         "HomeTeam_Nantes": "False",
         "HomeTeam_Wehen": "False",
         "HomeTeam_Vitesse": "False",
         "HomeTeam_Levante": "False",
         "HomeTeam_Novara": "False",
         "HomeTeam_Guimaraes": "False",
         "HomeTeam_Norwich": "False",
         "HomeTeam_Pacos Ferreira": "False",
         "HomeTeam_Chesterfield": "False",
         "HomeTeam_Inverness C": "False",
         "HomeTeam_Giannina": "False",
         "HomeTeam_Espanol": "False",
         "HomeTeam_Braunschweig": "False",
         "HomeTeam_Oostende": "False",
         "HomeTeam_Gil Vicente": "False",
         "HomeTeam_Maritimo": "False",
         "HomeTeam_Niort": "False",
         "HomeTeam_Ingolstadt": "False",
         "HomeTeam_Montrose": "False",
         "HomeTeam_Barnet": "False",
         "HomeTeam_Osnabruck": "False",
         "HomeTeam_Troyes": "False",
         "HomeTeam_Dijon": "False",
         "HomeTeam_Ajaccio GFCO": "False",
         "HomeTeam_Dundee": "False",
         "HomeTeam_Larisa": "False",
         "HomeTeam_Southend": "False",
         "HomeTeam_Verona": "False",
         "HomeTeam_Goztep": "False",
         "HomeTeam_Genoa": "False",
         "HomeTeam_Cambridge": "False",
         "HomeTeam_Graafschap": "False",
         "HomeTeam_Angers": "False",
         "HomeTeam_Ath Bilbao": "False",
         "HomeTeam_Charlton": "False",
         "HomeTeam_East Fife": "False",
         "HomeTeam_Club Brugge": "False",
         "HomeTeam_NAC Breda": "False",
         "HomeTeam_Las Palmas": "False",
         "HomeTeam_Lazio": "False",
         "HomeTeam_Seraing": "False",
         "HomeTeam_Reus Deportiu": "False",
         "HomeTeam_Ajax": "False",
         "HomeTeam_Lincoln": "False",
         "HomeTeam_Nancy": "False",
         "HomeTeam_Frosinone": "False",
         "HomeTeam_Hull": "False",
         "HomeTeam_Chaves": "False",
         "HomeTeam_Rio Ave": "False",
         "HomeTeam_Cesena": "False",
         "HomeTeam_Amorebieta": "False",
         "HomeTeam_Rizespor": "False",
         "HomeTeam_Milton Keynes Dons": "False",
         "HomeTeam_Volos NFC": "False",
         "HomeTeam_Nacional": "False",
         "HomeTeam_Kaiserslautern": "False",
         "HomeTeam_Castellon": "False",
         "HomeTeam_Berwick": "False",
         "HomeTeam_Osmanlispor": "False",
         "HomeTeam_Bologna": "False",
         "HomeTeam_Barnsley": "False",
         "HomeTeam_Brentford": "False",
         "HomeTeam_Brescia": "False",
         "HomeTeam_Leeds": "False",
         "HomeTeam_Lorca": "False",
         "HomeTeam_Exeter": "False",
         "HomeTeam_Heerenveen": "False",
         "HomeTeam_Pro Vercelli": "False",
         "HomeTeam_Carpi": "False",
         "HomeTeam_Derby": "False",
         "HomeTeam_Burgos": "False",
         "HomeTeam_Forest Green": "False",
         "HomeTeam_QPR": "False",
         "HomeTeam_Santa Clara": "False",
         "HomeTeam_Bursaspor": "False",
         "HomeTeam_Sp Braga": "False",
         "HomeTeam_Blackburn": "False",
         "HomeTeam_Nijmegen": "False",
         "HomeTeam_Rochdale": "False",
         "HomeTeam_Grimsby": "False",
         "HomeTeam_Newcastle": "False",
         "HomeTeam_Freiburg": "False",
         "HomeTeam_Red Star": "False",
         "HomeTeam_Juventus": "False",
         "HomeTeam_Guingamp": "False",
         "HomeTeam_Salernitana": "False",
         "HomeTeam_St Mirren": "False",
         "HomeTeam_Hertha": "False",
         "HomeTeam_Aston Villa": "False",
         "HomeTeam_Salford": "False",
         "HomeTeam_St Truiden": "False",
         "HomeTeam_Yeni Malatyaspor": "False",
         "HomeTeam_Dresden": "False",
         "HomeTeam_Stenhousemuir": "False",
         "HomeTeam_Spezia": "False",
         "HomeTeam_Ajaccio": "False",
         "HomeTeam_AZ Alkmaar": "False",
         "HomeTeam_Augsburg": "False",
         "HomeTeam_Cove Rangers": "False",
         "HomeTeam_Darmstadt": "False",
         "HomeTeam_Aris": "False",
         "HomeTeam_Cordoba": "False",
         "HomeTeam_Werder Bremen": "False",
         "HomeTeam_Hoffenheim": "False",
         "HomeTeam_Harrogate": "False",
         "HomeTeam_Crewe": "False",
         "HomeTeam_Edinburgh City": "False",
         "HomeTeam_Auxerre": "False",
         "HomeTeam_Crotone": "False",
         "HomeTeam_Genclerbirligi": "False",
         "HomeTeam_Ponferradina": "False",
         "HomeTeam_Akhisar Belediyespor": "False",
         "HomeTeam_Farense": "False",
         "HomeTeam_Galatasaray": "False",
         "HomeTeam_Wurzburger Kickers": "False",
         "HomeTeam_Bari": "False",
         "HomeTeam_Stranraer": "False",
         "HomeTeam_Man United": "False",
         "HomeTeam_Perugia": "False",
         "HomeTeam_Karabukspor": "False",
         "HomeTeam_Caen": "False",
         "HomeTeam_Nott'm Forest": "False",
         "HomeTeam_Bordeaux": "False",
         "HomeTeam_Livorno": "False",
         "HomeTeam_Monza": "False",
         "HomeTeam_Bristol Rvs": "False",
         "HomeTeam_Holstein Kiel": "False",
         "HomeTeam_Fiorentina": "False",
         "HomeTeam_Sivasspor": "False",
         "HomeTeam_Trabzonspor": "False",
         "HomeTeam_Cowdenbeath": "False",
         "HomeTeam_Elche": "False",
         "HomeTeam_Paris FC": "False",
         "HomeTeam_Pau FC": "False",
         "HomeTeam_Portimonense": "False",
         "HomeTeam_Lamia": "False",
         "HomeTeam_Newport County": "False",
         "HomeTeam_Northampton": "False",
         "HomeTeam_Celta": "False",
         "HomeTeam_Hatayspor": "False",
         "HomeTeam_FC Koln": "False",
         "HomeTeam_Sassuolo": "False",
         "HomeTeam_Feirense": "False",
         "HomeTeam_Erzurum BB": "False",
         "HomeTeam_Wolfsburg": "False",
         "HomeTeam_Albion Rvs": "False",
         "HomeTeam_Waalwijk": "False",
         "HomeTeam_Duisburg": "False",
         "HomeTeam_Girona": "False",
         "HomeTeam_Kortrijk": "False",
         "HomeTeam_Beerschot VA": "False",
         "HomeTeam_Hamilton": "False",
         "HomeTeam_Waregem": "False",
         "HomeTeam_Crystal Palace": "False",
         "HomeTeam_Belenenses": "False",
         "HomeTeam_Dortmund": "False",
         "HomeTeam_Logrones": "False",
         "HomeTeam_Plymouth": "False",
         "HomeTeam_Peterboro": "False",
         "HomeTeam_Raith Rvs": "False",
         "HomeTeam_Sparta Rotterdam": "False",
         "HomeTeam_Orleans": "False",
         "HomeTeam_Magdeburg": "False",
         "HomeTeam_Gimnastic": "False",
         "HomeTeam_Paderborn": "False",
         "HomeTeam_Valenciennes": "False",
         "HomeTeam_Dumbarton": "False",
         "HomeTeam_Ayr": "False",
         "HomeTeam_Gillingham": "False",
         "HomeTeam_Avellino": "False",
         "HomeTeam_Ross County": "False",
         "HomeTeam_Inter": "False",
         "HomeTeam_Millwall": "False",
         "HomeTeam_Notts County": "False",
         "HomeTeam_Venezia": "False",
         "HomeTeam_Albacete": "False",
         "HomeTeam_Fulham": "False",
         "HomeTeam_Spal": "False",
         "HomeTeam_Twente": "False",
         "HomeTeam_Numancia": "False",
         "HomeTeam_Pescara": "False",
         "HomeTeam_Montpellier": "False",
         "HomeTeam_Sandhausen": "False",
         "HomeTeam_Vicenza": "False",
         "HomeTeam_Groningen": "False",
         "HomeTeam_Wycombe": "False",
         "HomeTeam_Marseille": "False",
         "HomeTeam_Atromitos": "False",
         "HomeTeam_Reggiana": "False",
         "HomeTeam_Go Ahead Eagles": "False",
         "HomeTeam_Anderlecht": "False",
         "HomeTeam_Carlisle": "False",
         "HomeTeam_Apollon": "False",
         "HomeTeam_Alcorcon": "False",
         "HomeTeam_Oud-Heverlee Leuven": "False",
         "HomeTeam_Hartlepool": "False",
         "HomeTeam_Birmingham": "False",
         "HomeTeam_Antwerp": "False",
         "HomeTeam_St Etienne": "False",
         "HomeTeam_Queens Park": "False",
         "HomeTeam_Ath Madrid": "False",
         "HomeTeam_Metz": "False",
         "HomeTeam_Ipswich": "False",
         "HomeTeam_Reims": "False",
         "HomeTeam_Vizela": "False",
         "HomeTeam_Arbroath": "False",
         "HomeTeam_Sheffield United": "False",
         "HomeTeam_Swindon": "False",
         "HomeTeam_Rennes": "False",
         "HomeTeam_Mechelen": "False",
         "HomeTeam_Elgin": "False",
         "HomeTeam_Napoli": "False",
         "HomeTeam_Bolton": "False",
         "HomeTeam_Man City": "False",
         "HomeTeam_Genk": "False",
         "HomeTeam_Blackpool": "False",
         "HomeTeam_Lecce": "False",
         "HomeTeam_Buyuksehyr": "False",
         "HomeTeam_Eibar": "False",
         "HomeTeam_Torino": "False",
         "HomeTeam_Bournemouth": "False",
         "HomeTeam_Chievo": "False",
         "HomeTeam_Strasbourg": "False",
         "HomeTeam_Pisa": "False",
         "HomeTeam_Olympiakos": "False",
         "HomeTeam_Dunfermline": "False",
         "HomeTeam_Chateauroux": "False",
         "HomeTeam_Arouca": "False",
         "HomeTeam_Excelsior": "False",
         "HomeTeam_Ascoli": "False",
         "HomeTeam_St. Gilloise": "False",
         "HomeTeam_Feyenoord": "False",
         "HomeTeam_Partick": "False",
         "HomeTeam_Scunthorpe": "False",
         "HomeTeam_Stuttgart": "False",
         "HomeTeam_Bastia": "False",
         "HomeTeam_Chambly": "False",
         "HomeTeam_RB Leipzig": "False",
         "HomeTeam_Doncaster": "False",
         "HomeTeam_Lille": "False",
         "HomeTeam_Setubal": "False",
         "HomeTeam_Cheltenham": "False",
         "HomeTeam_Brechin": "False",
         "HomeTeam_Parma": "False",
         "HomeTeam_Swansea": "False",
         "HomeTeam_Famalicao": "False",
         "HomeTeam_Dundee United": "False",
         "HomeTeam_Alessandria": "False",
         "HomeTeam_Atalanta": "False",
         "HomeTeam_Clyde": "False",
         "HomeTeam_Huesca": "False",
         "HomeTeam_Empoli": "False",
         "HomeTeam_Stirling": "False",
         "HomeTeam_Burton": "False",
         "HomeTeam_Sevilla": "False",
         "HomeTeam_Celtic": "False",
         "HomeTeam_Macclesfield": "False",
         "HomeTeam_Virtus Entella": "False",
         "HomeTeam_Sutton": "False",
         "HomeTeam_Preston": "False",
         "HomeTeam_Como": "False",
         "HomeTeam_Greuther Furth": "False",
         "HomeTeam_Chelsea": "False",
         "HomeTeam_Lyon": "False",
         "HomeTeam_Fenerbahce": "False",
         "HomeTeam_Getafe": "False",
         "HomeTeam_Santander": "False",
         "HomeTeam_Walsall": "False",
         "HomeTeam_Udinese": "False",
         "HomeTeam_Tondela": "False",
         "HomeTeam_Nice": "False",
         "HomeTeam_Extremadura UD": "False",
         "HomeTeam_Besiktas": "False",
         "HomeTeam_Reggina": "False",
         "HomeTeam_Monaco": "False",
         "HomeTeam_Lugo": "False",
         "HomeTeam_Valladolid": "False",
         "HomeTeam_West Ham": "False",
         "HomeTeam_Padova": "False",
         "HomeTeam_Oxford": "False",
         "HomeTeam_La Coruna": "False",
         "HomeTeam_Port Vale": "False",
         "HomeTeam_Ein Frankfurt": "False",
         "HomeTeam_Crawley Town": "False",
         "HomeTeam_Antalyaspor": "False",
         "HomeTeam_Clermont": "False",
         "HomeTeam_Willem II": "False",
         "HomeTeam_Leyton Orient": "False",
         "HomeTeam_Alloa": "False",
         "HomeTeam_Betis": "False",
         "HomeTeam_Shrewsbury": "False",
         "HomeTeam_Sp Gijon": "False",
         "HomeTeam_Quevilly Rouen": "False",
         "HomeTeam_Roma": "False",
         "HomeTeam_Hansa Rostock": "False",
         "HomeTeam_Mirandes": "False",
         "HomeTeam_Huddersfield": "False",
         "HomeTeam_VVV Venlo": "False",
         "HomeTeam_Mouscron": "False",
         "HomeTeam_Tottenham": "False",
         "HomeTeam_Real Madrid": "False",
         "HomeTeam_AEK": "False",
         "HomeTeam_Watford": "False",
         "HomeTeam_Southampton": "False",
         "HomeTeam_Waasland-Beveren": "False",
         "HomeTeam_M'gladbach": "False",
         "HomeTeam_Nurnberg": "False",
         "HomeTeam_Tenerife": "False",
         "HomeTeam_Ternana": "False",
         "HomeTeam_Panathinaikos": "False",
         "HomeTeam_Stoke": "False",
         "HomeTeam_Peterhead": "False",
         "HomeTeam_Bury": "False",
         "HomeTeam_Palermo": "False",
         "HomeTeam_For Sittard": "False",
         "HomeTeam_Villarreal": "False",
         "HomeTeam_Cosenza": "False",
         "HomeTeam_Motherwell": "False",
         "HomeTeam_Lens": "False",
         "HomeTeam_Boavista": "False",
         "HomeTeam_Beziers": "False",
         "HomeTeam_Leicester": "False",
         "HomeTeam_Apollon Apollon": "False",
         "HomeTeam_Nimes": "False",
         "HomeTeam_Gaziantep": "False",
         "HomeTeam_Pordenone": "False",
         "HomeTeam_St Johnstone": "False",
         "HomeTeam_Panetolikos": "False",
         "HomeTeam_Roda": "False",
         "HomeTeam_FC Emmen": "False",
         "HomeTeam_Bristol City": "False",
         "HomeTeam_Everton": "False",
         "HomeTeam_Union Berlin": "False",
         "HomeTeam_Wigan": "False",
         "HomeTeam_Karlsruhe": "False",
         "HomeTeam_Brest": "False",
         "HomeTeam_Xanthi": "False",
         "HomeTeam_Fortuna Dusseldorf": "False",
         "HomeTeam_Kayserispor": "False",
         "HomeTeam_Le Havre": "False",
         "HomeTeam_Stevenage": "False",
         "HomeTeam_Schalke 04": "False",
         "HomeTeam_Altay": "False",
         "HomeTeam_Lorient": "False",
         "HomeTeam_Karagumruk": "False",
         "HomeTeam_Portsmouth": "False",
         "HomeTeam_Barcelona": "False",
         "HomeTeam_Vallecano": "False",
         "HomeTeam_Asteras Tripolis": "False",
         "HomeTeam_Hannover": "False",
         "HomeTeam_Konyaspor": "False",
         "HomeTeam_Toulouse": "False",
         "HomeTeam_Kilmarnock": "False",
         "HomeTeam_Osasuna": "False",
         "HomeTeam_Cagliari": "False",
         "HomeTeam_Giresunspor": "False",
         "HomeTeam_Mansfield": "False",
         "HomeTeam_Panionios": "False",
         "HomeTeam_Bochum": "False",
         "HomeTeam_Leonesa": "False",
         "HomeTeam_Ad. Demirspor": "False",
         "HomeTeam_Cercle Brugge": "False",
         "HomeTeam_Kasimpasa": "False",
         "HomeTeam_Le Mans": "False",
         "HomeTeam_Coventry": "False",
         "HomeTeam_Rayo Majadahonda": "False",
         "HomeTeam_Luton": "False",
         "HomeTeam_Yeovil": "False",
         "HomeTeam_Cambuur": "False",
         "HomeTeam_Annan Athletic": "False",
         "HomeTeam_Gent": "False",
         "HomeTeam_Cartagena": "False",
         "HomeTeam_Fleetwood Town": "False",
         "HomeTeam_Wolves": "False",
         "HomeTeam_Cadiz": "False",
         "HomeTeam_Juve Stabia": "False",
         "HomeTeam_Accrington": "False",
         "HomeTeam_Barrow": "False",
         "HomeTeam_Foggia": "False",
         "HomeTeam_Leverkusen": "False",
         "HomeTeam_Benevento": "False",
         "HomeTeam_Benfica": "False",
         "HomeTeam_Eupen": "False",
         "HomeTeam_Porto": "False",
         "HomeTeam_Rangers": "False",
         "HomeTeam_Hamburg": "False",
         "HomeTeam_Moreirense": "False",
         "HomeTeam_Standard": "False",
         "_deepnote_index_column": 0
        },
        {
         "Country": "england",
         "League": 0,
         "Season": 1718,
         "Match_Date": "2017-08-12",
         "Home_Team": "Brighton",
         "Away_Team": "Man City",
         "Full_Time_Home_Team_Goals": 0,
         "Full_Time_Away_Team_Goals": 2,
         "Full_Time_Result": "A",
         "Home_Team_Shots": 6,
         "Away_Team_Shots": 14,
         "Home_Team_Shots_on_Target": 2,
         "Away_Team_Shots_on_Target": 4,
         "Home_Team_Corners": 3,
         "Away_Team_Corners": 10,
         "Home_Team_Yellow_Cards": 0,
         "Away_Team_Yellow_Cards": 2,
         "Home_Team_Red_Cards": 0,
         "Away_Team_Red_Cards": 0,
         "DayOfWeek": 5,
         "is_Weekend": 1,
         "Home_Team_Fouls_Committed": 6,
         "Away_Team_Fouls_Committed": 9,
         "over_2.5": 0,
         "Average_home_win_odds": 10.13125,
         "Average_away_win_odds": 1.3250000000000002,
         "Average_draw_odds": 5.268750000000001,
         "Average_over_2.5_goals_odds": 1.63,
         "Average_under_2.5_goals_odds": 2.27,
         "Average_Asian_Handicap_Home_odds": 1.705,
         "Average_Asian_Handicap_Away_odds": 1.96,
         "Close_home_win_odds": 11.75,
         "Close_draw_odds": 6.15,
         "Close_away_win_odds": 1.29,
         "has_favorite": 1,
         "Time_kick_off_bin": "Afternoon",
         "HomeTeam_Rotherham": "False",
         "HomeTeam_OFI Crete": "False",
         "HomeTeam_Barcelona B": "False",
         "HomeTeam_Queen of Sth": "False",
         "HomeTeam_Charleroi": "False",
         "HomeTeam_Mallorca": "False",
         "HomeTeam_Amiens": "False",
         "HomeTeam_PAOK": "False",
         "HomeTeam_Morecambe": "False",
         "HomeTeam_Arsenal": "False",
         "HomeTeam_Rodez": "False",
         "HomeTeam_Sociedad B": "False",
         "HomeTeam_Fuenlabrada": "False",
         "HomeTeam_Forfar": "False",
         "HomeTeam_Burnley": "False",
         "HomeTeam_Livingston": "False",
         "HomeTeam_Colchester": "False",
         "HomeTeam_Cittadella": "False",
         "HomeTeam_Sociedad": "False",
         "HomeTeam_Hibernian": "False",
         "HomeTeam_Sunderland": "False",
         "HomeTeam_Trapani": "False",
         "HomeTeam_Regensburg": "False",
         "HomeTeam_Reading": "False",
         "HomeTeam_Zaragoza": "False",
         "HomeTeam_Alanyaspor": "False",
         "HomeTeam_Cardiff": "False",
         "HomeTeam_Erzgebirge Aue": "False",
         "HomeTeam_Ankaragucu": "False",
         "HomeTeam_Mainz": "False",
         "HomeTeam_Bayern Munich": "False",
         "HomeTeam_Utrecht": "False",
         "HomeTeam_Estoril": "False",
         "HomeTeam_Paris SG": "False",
         "HomeTeam_St Pauli": "False",
         "HomeTeam_Heracles": "False",
         "HomeTeam_Valencia": "False",
         "HomeTeam_Ibiza": "False",
         "HomeTeam_Hearts": "False",
         "HomeTeam_Grenoble": "False",
         "HomeTeam_Sevilla B": "False",
         "HomeTeam_Denizlispor": "False",
         "HomeTeam_Morton": "False",
         "HomeTeam_Leganes": "False",
         "HomeTeam_Middlesbrough": "False",
         "HomeTeam_Sp Lisbon": "False",
         "HomeTeam_Ionikos": "False",
         "HomeTeam_Kelty Hearts": "False",
         "HomeTeam_Sheffield Weds": "False",
         "HomeTeam_Alaves": "False",
         "HomeTeam_Cremonese": "False",
         "HomeTeam_Liverpool": "False",
         "HomeTeam_Granada": "False",
         "HomeTeam_Aves": "False",
         "HomeTeam_Oviedo": "False",
         "HomeTeam_Bielefeld": "False",
         "HomeTeam_Milan": "False",
         "HomeTeam_Bradford": "False",
         "HomeTeam_Zwolle": "False",
         "HomeTeam_Falkirk": "False",
         "HomeTeam_Airdrie Utd": "False",
         "HomeTeam_Aberdeen": "False",
         "HomeTeam_Sabadell": "False",
         "HomeTeam_Sochaux": "False",
         "HomeTeam_Den Haag": "False",
         "HomeTeam_West Brom": "False",
         "HomeTeam_Tranmere": "False",
         "HomeTeam_Dunkerque": "False",
         "HomeTeam_Sampdoria": "False",
         "HomeTeam_PSV Eindhoven": "False",
         "HomeTeam_Oldham": "False",
         "HomeTeam_Heidenheim": "False",
         "HomeTeam_Brighton": "True",
         "HomeTeam_AFC Wimbledon": "False",
         "HomeTeam_Malaga": "False",
         "HomeTeam_Almeria": "False",
         "HomeTeam_Nantes": "False",
         "HomeTeam_Wehen": "False",
         "HomeTeam_Vitesse": "False",
         "HomeTeam_Levante": "False",
         "HomeTeam_Novara": "False",
         "HomeTeam_Guimaraes": "False",
         "HomeTeam_Norwich": "False",
         "HomeTeam_Pacos Ferreira": "False",
         "HomeTeam_Chesterfield": "False",
         "HomeTeam_Inverness C": "False",
         "HomeTeam_Giannina": "False",
         "HomeTeam_Espanol": "False",
         "HomeTeam_Braunschweig": "False",
         "HomeTeam_Oostende": "False",
         "HomeTeam_Gil Vicente": "False",
         "HomeTeam_Maritimo": "False",
         "HomeTeam_Niort": "False",
         "HomeTeam_Ingolstadt": "False",
         "HomeTeam_Montrose": "False",
         "HomeTeam_Barnet": "False",
         "HomeTeam_Osnabruck": "False",
         "HomeTeam_Troyes": "False",
         "HomeTeam_Dijon": "False",
         "HomeTeam_Ajaccio GFCO": "False",
         "HomeTeam_Dundee": "False",
         "HomeTeam_Larisa": "False",
         "HomeTeam_Southend": "False",
         "HomeTeam_Verona": "False",
         "HomeTeam_Goztep": "False",
         "HomeTeam_Genoa": "False",
         "HomeTeam_Cambridge": "False",
         "HomeTeam_Graafschap": "False",
         "HomeTeam_Angers": "False",
         "HomeTeam_Ath Bilbao": "False",
         "HomeTeam_Charlton": "False",
         "HomeTeam_East Fife": "False",
         "HomeTeam_Club Brugge": "False",
         "HomeTeam_NAC Breda": "False",
         "HomeTeam_Las Palmas": "False",
         "HomeTeam_Lazio": "False",
         "HomeTeam_Seraing": "False",
         "HomeTeam_Reus Deportiu": "False",
         "HomeTeam_Ajax": "False",
         "HomeTeam_Lincoln": "False",
         "HomeTeam_Nancy": "False",
         "HomeTeam_Frosinone": "False",
         "HomeTeam_Hull": "False",
         "HomeTeam_Chaves": "False",
         "HomeTeam_Rio Ave": "False",
         "HomeTeam_Cesena": "False",
         "HomeTeam_Amorebieta": "False",
         "HomeTeam_Rizespor": "False",
         "HomeTeam_Milton Keynes Dons": "False",
         "HomeTeam_Volos NFC": "False",
         "HomeTeam_Nacional": "False",
         "HomeTeam_Kaiserslautern": "False",
         "HomeTeam_Castellon": "False",
         "HomeTeam_Berwick": "False",
         "HomeTeam_Osmanlispor": "False",
         "HomeTeam_Bologna": "False",
         "HomeTeam_Barnsley": "False",
         "HomeTeam_Brentford": "False",
         "HomeTeam_Brescia": "False",
         "HomeTeam_Leeds": "False",
         "HomeTeam_Lorca": "False",
         "HomeTeam_Exeter": "False",
         "HomeTeam_Heerenveen": "False",
         "HomeTeam_Pro Vercelli": "False",
         "HomeTeam_Carpi": "False",
         "HomeTeam_Derby": "False",
         "HomeTeam_Burgos": "False",
         "HomeTeam_Forest Green": "False",
         "HomeTeam_QPR": "False",
         "HomeTeam_Santa Clara": "False",
         "HomeTeam_Bursaspor": "False",
         "HomeTeam_Sp Braga": "False",
         "HomeTeam_Blackburn": "False",
         "HomeTeam_Nijmegen": "False",
         "HomeTeam_Rochdale": "False",
         "HomeTeam_Grimsby": "False",
         "HomeTeam_Newcastle": "False",
         "HomeTeam_Freiburg": "False",
         "HomeTeam_Red Star": "False",
         "HomeTeam_Juventus": "False",
         "HomeTeam_Guingamp": "False",
         "HomeTeam_Salernitana": "False",
         "HomeTeam_St Mirren": "False",
         "HomeTeam_Hertha": "False",
         "HomeTeam_Aston Villa": "False",
         "HomeTeam_Salford": "False",
         "HomeTeam_St Truiden": "False",
         "HomeTeam_Yeni Malatyaspor": "False",
         "HomeTeam_Dresden": "False",
         "HomeTeam_Stenhousemuir": "False",
         "HomeTeam_Spezia": "False",
         "HomeTeam_Ajaccio": "False",
         "HomeTeam_AZ Alkmaar": "False",
         "HomeTeam_Augsburg": "False",
         "HomeTeam_Cove Rangers": "False",
         "HomeTeam_Darmstadt": "False",
         "HomeTeam_Aris": "False",
         "HomeTeam_Cordoba": "False",
         "HomeTeam_Werder Bremen": "False",
         "HomeTeam_Hoffenheim": "False",
         "HomeTeam_Harrogate": "False",
         "HomeTeam_Crewe": "False",
         "HomeTeam_Edinburgh City": "False",
         "HomeTeam_Auxerre": "False",
         "HomeTeam_Crotone": "False",
         "HomeTeam_Genclerbirligi": "False",
         "HomeTeam_Ponferradina": "False",
         "HomeTeam_Akhisar Belediyespor": "False",
         "HomeTeam_Farense": "False",
         "HomeTeam_Galatasaray": "False",
         "HomeTeam_Wurzburger Kickers": "False",
         "HomeTeam_Bari": "False",
         "HomeTeam_Stranraer": "False",
         "HomeTeam_Man United": "False",
         "HomeTeam_Perugia": "False",
         "HomeTeam_Karabukspor": "False",
         "HomeTeam_Caen": "False",
         "HomeTeam_Nott'm Forest": "False",
         "HomeTeam_Bordeaux": "False",
         "HomeTeam_Livorno": "False",
         "HomeTeam_Monza": "False",
         "HomeTeam_Bristol Rvs": "False",
         "HomeTeam_Holstein Kiel": "False",
         "HomeTeam_Fiorentina": "False",
         "HomeTeam_Sivasspor": "False",
         "HomeTeam_Trabzonspor": "False",
         "HomeTeam_Cowdenbeath": "False",
         "HomeTeam_Elche": "False",
         "HomeTeam_Paris FC": "False",
         "HomeTeam_Pau FC": "False",
         "HomeTeam_Portimonense": "False",
         "HomeTeam_Lamia": "False",
         "HomeTeam_Newport County": "False",
         "HomeTeam_Northampton": "False",
         "HomeTeam_Celta": "False",
         "HomeTeam_Hatayspor": "False",
         "HomeTeam_FC Koln": "False",
         "HomeTeam_Sassuolo": "False",
         "HomeTeam_Feirense": "False",
         "HomeTeam_Erzurum BB": "False",
         "HomeTeam_Wolfsburg": "False",
         "HomeTeam_Albion Rvs": "False",
         "HomeTeam_Waalwijk": "False",
         "HomeTeam_Duisburg": "False",
         "HomeTeam_Girona": "False",
         "HomeTeam_Kortrijk": "False",
         "HomeTeam_Beerschot VA": "False",
         "HomeTeam_Hamilton": "False",
         "HomeTeam_Waregem": "False",
         "HomeTeam_Crystal Palace": "False",
         "HomeTeam_Belenenses": "False",
         "HomeTeam_Dortmund": "False",
         "HomeTeam_Logrones": "False",
         "HomeTeam_Plymouth": "False",
         "HomeTeam_Peterboro": "False",
         "HomeTeam_Raith Rvs": "False",
         "HomeTeam_Sparta Rotterdam": "False",
         "HomeTeam_Orleans": "False",
         "HomeTeam_Magdeburg": "False",
         "HomeTeam_Gimnastic": "False",
         "HomeTeam_Paderborn": "False",
         "HomeTeam_Valenciennes": "False",
         "HomeTeam_Dumbarton": "False",
         "HomeTeam_Ayr": "False",
         "HomeTeam_Gillingham": "False",
         "HomeTeam_Avellino": "False",
         "HomeTeam_Ross County": "False",
         "HomeTeam_Inter": "False",
         "HomeTeam_Millwall": "False",
         "HomeTeam_Notts County": "False",
         "HomeTeam_Venezia": "False",
         "HomeTeam_Albacete": "False",
         "HomeTeam_Fulham": "False",
         "HomeTeam_Spal": "False",
         "HomeTeam_Twente": "False",
         "HomeTeam_Numancia": "False",
         "HomeTeam_Pescara": "False",
         "HomeTeam_Montpellier": "False",
         "HomeTeam_Sandhausen": "False",
         "HomeTeam_Vicenza": "False",
         "HomeTeam_Groningen": "False",
         "HomeTeam_Wycombe": "False",
         "HomeTeam_Marseille": "False",
         "HomeTeam_Atromitos": "False",
         "HomeTeam_Reggiana": "False",
         "HomeTeam_Go Ahead Eagles": "False",
         "HomeTeam_Anderlecht": "False",
         "HomeTeam_Carlisle": "False",
         "HomeTeam_Apollon": "False",
         "HomeTeam_Alcorcon": "False",
         "HomeTeam_Oud-Heverlee Leuven": "False",
         "HomeTeam_Hartlepool": "False",
         "HomeTeam_Birmingham": "False",
         "HomeTeam_Antwerp": "False",
         "HomeTeam_St Etienne": "False",
         "HomeTeam_Queens Park": "False",
         "HomeTeam_Ath Madrid": "False",
         "HomeTeam_Metz": "False",
         "HomeTeam_Ipswich": "False",
         "HomeTeam_Reims": "False",
         "HomeTeam_Vizela": "False",
         "HomeTeam_Arbroath": "False",
         "HomeTeam_Sheffield United": "False",
         "HomeTeam_Swindon": "False",
         "HomeTeam_Rennes": "False",
         "HomeTeam_Mechelen": "False",
         "HomeTeam_Elgin": "False",
         "HomeTeam_Napoli": "False",
         "HomeTeam_Bolton": "False",
         "HomeTeam_Man City": "False",
         "HomeTeam_Genk": "False",
         "HomeTeam_Blackpool": "False",
         "HomeTeam_Lecce": "False",
         "HomeTeam_Buyuksehyr": "False",
         "HomeTeam_Eibar": "False",
         "HomeTeam_Torino": "False",
         "HomeTeam_Bournemouth": "False",
         "HomeTeam_Chievo": "False",
         "HomeTeam_Strasbourg": "False",
         "HomeTeam_Pisa": "False",
         "HomeTeam_Olympiakos": "False",
         "HomeTeam_Dunfermline": "False",
         "HomeTeam_Chateauroux": "False",
         "HomeTeam_Arouca": "False",
         "HomeTeam_Excelsior": "False",
         "HomeTeam_Ascoli": "False",
         "HomeTeam_St. Gilloise": "False",
         "HomeTeam_Feyenoord": "False",
         "HomeTeam_Partick": "False",
         "HomeTeam_Scunthorpe": "False",
         "HomeTeam_Stuttgart": "False",
         "HomeTeam_Bastia": "False",
         "HomeTeam_Chambly": "False",
         "HomeTeam_RB Leipzig": "False",
         "HomeTeam_Doncaster": "False",
         "HomeTeam_Lille": "False",
         "HomeTeam_Setubal": "False",
         "HomeTeam_Cheltenham": "False",
         "HomeTeam_Brechin": "False",
         "HomeTeam_Parma": "False",
         "HomeTeam_Swansea": "False",
         "HomeTeam_Famalicao": "False",
         "HomeTeam_Dundee United": "False",
         "HomeTeam_Alessandria": "False",
         "HomeTeam_Atalanta": "False",
         "HomeTeam_Clyde": "False",
         "HomeTeam_Huesca": "False",
         "HomeTeam_Empoli": "False",
         "HomeTeam_Stirling": "False",
         "HomeTeam_Burton": "False",
         "HomeTeam_Sevilla": "False",
         "HomeTeam_Celtic": "False",
         "HomeTeam_Macclesfield": "False",
         "HomeTeam_Virtus Entella": "False",
         "HomeTeam_Sutton": "False",
         "HomeTeam_Preston": "False",
         "HomeTeam_Como": "False",
         "HomeTeam_Greuther Furth": "False",
         "HomeTeam_Chelsea": "False",
         "HomeTeam_Lyon": "False",
         "HomeTeam_Fenerbahce": "False",
         "HomeTeam_Getafe": "False",
         "HomeTeam_Santander": "False",
         "HomeTeam_Walsall": "False",
         "HomeTeam_Udinese": "False",
         "HomeTeam_Tondela": "False",
         "HomeTeam_Nice": "False",
         "HomeTeam_Extremadura UD": "False",
         "HomeTeam_Besiktas": "False",
         "HomeTeam_Reggina": "False",
         "HomeTeam_Monaco": "False",
         "HomeTeam_Lugo": "False",
         "HomeTeam_Valladolid": "False",
         "HomeTeam_West Ham": "False",
         "HomeTeam_Padova": "False",
         "HomeTeam_Oxford": "False",
         "HomeTeam_La Coruna": "False",
         "HomeTeam_Port Vale": "False",
         "HomeTeam_Ein Frankfurt": "False",
         "HomeTeam_Crawley Town": "False",
         "HomeTeam_Antalyaspor": "False",
         "HomeTeam_Clermont": "False",
         "HomeTeam_Willem II": "False",
         "HomeTeam_Leyton Orient": "False",
         "HomeTeam_Alloa": "False",
         "HomeTeam_Betis": "False",
         "HomeTeam_Shrewsbury": "False",
         "HomeTeam_Sp Gijon": "False",
         "HomeTeam_Quevilly Rouen": "False",
         "HomeTeam_Roma": "False",
         "HomeTeam_Hansa Rostock": "False",
         "HomeTeam_Mirandes": "False",
         "HomeTeam_Huddersfield": "False",
         "HomeTeam_VVV Venlo": "False",
         "HomeTeam_Mouscron": "False",
         "HomeTeam_Tottenham": "False",
         "HomeTeam_Real Madrid": "False",
         "HomeTeam_AEK": "False",
         "HomeTeam_Watford": "False",
         "HomeTeam_Southampton": "False",
         "HomeTeam_Waasland-Beveren": "False",
         "HomeTeam_M'gladbach": "False",
         "HomeTeam_Nurnberg": "False",
         "HomeTeam_Tenerife": "False",
         "HomeTeam_Ternana": "False",
         "HomeTeam_Panathinaikos": "False",
         "HomeTeam_Stoke": "False",
         "HomeTeam_Peterhead": "False",
         "HomeTeam_Bury": "False",
         "HomeTeam_Palermo": "False",
         "HomeTeam_For Sittard": "False",
         "HomeTeam_Villarreal": "False",
         "HomeTeam_Cosenza": "False",
         "HomeTeam_Motherwell": "False",
         "HomeTeam_Lens": "False",
         "HomeTeam_Boavista": "False",
         "HomeTeam_Beziers": "False",
         "HomeTeam_Leicester": "False",
         "HomeTeam_Apollon Apollon": "False",
         "HomeTeam_Nimes": "False",
         "HomeTeam_Gaziantep": "False",
         "HomeTeam_Pordenone": "False",
         "HomeTeam_St Johnstone": "False",
         "HomeTeam_Panetolikos": "False",
         "HomeTeam_Roda": "False",
         "HomeTeam_FC Emmen": "False",
         "HomeTeam_Bristol City": "False",
         "HomeTeam_Everton": "False",
         "HomeTeam_Union Berlin": "False",
         "HomeTeam_Wigan": "False",
         "HomeTeam_Karlsruhe": "False",
         "HomeTeam_Brest": "False",
         "HomeTeam_Xanthi": "False",
         "HomeTeam_Fortuna Dusseldorf": "False",
         "HomeTeam_Kayserispor": "False",
         "HomeTeam_Le Havre": "False",
         "HomeTeam_Stevenage": "False",
         "HomeTeam_Schalke 04": "False",
         "HomeTeam_Altay": "False",
         "HomeTeam_Lorient": "False",
         "HomeTeam_Karagumruk": "False",
         "HomeTeam_Portsmouth": "False",
         "HomeTeam_Barcelona": "False",
         "HomeTeam_Vallecano": "False",
         "HomeTeam_Asteras Tripolis": "False",
         "HomeTeam_Hannover": "False",
         "HomeTeam_Konyaspor": "False",
         "HomeTeam_Toulouse": "False",
         "HomeTeam_Kilmarnock": "False",
         "HomeTeam_Osasuna": "False",
         "HomeTeam_Cagliari": "False",
         "HomeTeam_Giresunspor": "False",
         "HomeTeam_Mansfield": "False",
         "HomeTeam_Panionios": "False",
         "HomeTeam_Bochum": "False",
         "HomeTeam_Leonesa": "False",
         "HomeTeam_Ad. Demirspor": "False",
         "HomeTeam_Cercle Brugge": "False",
         "HomeTeam_Kasimpasa": "False",
         "HomeTeam_Le Mans": "False",
         "HomeTeam_Coventry": "False",
         "HomeTeam_Rayo Majadahonda": "False",
         "HomeTeam_Luton": "False",
         "HomeTeam_Yeovil": "False",
         "HomeTeam_Cambuur": "False",
         "HomeTeam_Annan Athletic": "False",
         "HomeTeam_Gent": "False",
         "HomeTeam_Cartagena": "False",
         "HomeTeam_Fleetwood Town": "False",
         "HomeTeam_Wolves": "False",
         "HomeTeam_Cadiz": "False",
         "HomeTeam_Juve Stabia": "False",
         "HomeTeam_Accrington": "False",
         "HomeTeam_Barrow": "False",
         "HomeTeam_Foggia": "False",
         "HomeTeam_Leverkusen": "False",
         "HomeTeam_Benevento": "False",
         "HomeTeam_Benfica": "False",
         "HomeTeam_Eupen": "False",
         "HomeTeam_Porto": "False",
         "HomeTeam_Rangers": "False",
         "HomeTeam_Hamburg": "False",
         "HomeTeam_Moreirense": "False",
         "HomeTeam_Standard": "False",
         "_deepnote_index_column": 1
        },
        {
         "Country": "england",
         "League": 0,
         "Season": 1718,
         "Match_Date": "2017-08-12",
         "Home_Team": "Crystal Palace",
         "Away_Team": "Huddersfield",
         "Full_Time_Home_Team_Goals": 0,
         "Full_Time_Away_Team_Goals": 3,
         "Full_Time_Result": "A",
         "Home_Team_Shots": 14,
         "Away_Team_Shots": 8,
         "Home_Team_Shots_on_Target": 4,
         "Away_Team_Shots_on_Target": 6,
         "Home_Team_Corners": 12,
         "Away_Team_Corners": 9,
         "Home_Team_Yellow_Cards": 1,
         "Away_Team_Yellow_Cards": 3,
         "Home_Team_Red_Cards": 0,
         "Away_Team_Red_Cards": 0,
         "DayOfWeek": 5,
         "is_Weekend": 1,
         "Home_Team_Fouls_Committed": 7,
         "Away_Team_Fouls_Committed": 19,
         "over_2.5": 1,
         "Average_home_win_odds": 1.81875,
         "Average_away_win_odds": 4.8225,
         "Average_draw_odds": 3.4975,
         "Average_over_2.5_goals_odds": 2.11,
         "Average_under_2.5_goals_odds": 1.72,
         "Average_Asian_Handicap_Home_odds": 0.6499999999999999,
         "Average_Asian_Handicap_Away_odds": 1.83,
         "Close_home_win_odds": 1.79,
         "Close_draw_odds": 3.56,
         "Close_away_win_odds": 5.51,
         "has_favorite": 1,
         "Time_kick_off_bin": "Afternoon",
         "HomeTeam_Rotherham": "False",
         "HomeTeam_OFI Crete": "False",
         "HomeTeam_Barcelona B": "False",
         "HomeTeam_Queen of Sth": "False",
         "HomeTeam_Charleroi": "False",
         "HomeTeam_Mallorca": "False",
         "HomeTeam_Amiens": "False",
         "HomeTeam_PAOK": "False",
         "HomeTeam_Morecambe": "False",
         "HomeTeam_Arsenal": "False",
         "HomeTeam_Rodez": "False",
         "HomeTeam_Sociedad B": "False",
         "HomeTeam_Fuenlabrada": "False",
         "HomeTeam_Forfar": "False",
         "HomeTeam_Burnley": "False",
         "HomeTeam_Livingston": "False",
         "HomeTeam_Colchester": "False",
         "HomeTeam_Cittadella": "False",
         "HomeTeam_Sociedad": "False",
         "HomeTeam_Hibernian": "False",
         "HomeTeam_Sunderland": "False",
         "HomeTeam_Trapani": "False",
         "HomeTeam_Regensburg": "False",
         "HomeTeam_Reading": "False",
         "HomeTeam_Zaragoza": "False",
         "HomeTeam_Alanyaspor": "False",
         "HomeTeam_Cardiff": "False",
         "HomeTeam_Erzgebirge Aue": "False",
         "HomeTeam_Ankaragucu": "False",
         "HomeTeam_Mainz": "False",
         "HomeTeam_Bayern Munich": "False",
         "HomeTeam_Utrecht": "False",
         "HomeTeam_Estoril": "False",
         "HomeTeam_Paris SG": "False",
         "HomeTeam_St Pauli": "False",
         "HomeTeam_Heracles": "False",
         "HomeTeam_Valencia": "False",
         "HomeTeam_Ibiza": "False",
         "HomeTeam_Hearts": "False",
         "HomeTeam_Grenoble": "False",
         "HomeTeam_Sevilla B": "False",
         "HomeTeam_Denizlispor": "False",
         "HomeTeam_Morton": "False",
         "HomeTeam_Leganes": "False",
         "HomeTeam_Middlesbrough": "False",
         "HomeTeam_Sp Lisbon": "False",
         "HomeTeam_Ionikos": "False",
         "HomeTeam_Kelty Hearts": "False",
         "HomeTeam_Sheffield Weds": "False",
         "HomeTeam_Alaves": "False",
         "HomeTeam_Cremonese": "False",
         "HomeTeam_Liverpool": "False",
         "HomeTeam_Granada": "False",
         "HomeTeam_Aves": "False",
         "HomeTeam_Oviedo": "False",
         "HomeTeam_Bielefeld": "False",
         "HomeTeam_Milan": "False",
         "HomeTeam_Bradford": "False",
         "HomeTeam_Zwolle": "False",
         "HomeTeam_Falkirk": "False",
         "HomeTeam_Airdrie Utd": "False",
         "HomeTeam_Aberdeen": "False",
         "HomeTeam_Sabadell": "False",
         "HomeTeam_Sochaux": "False",
         "HomeTeam_Den Haag": "False",
         "HomeTeam_West Brom": "False",
         "HomeTeam_Tranmere": "False",
         "HomeTeam_Dunkerque": "False",
         "HomeTeam_Sampdoria": "False",
         "HomeTeam_PSV Eindhoven": "False",
         "HomeTeam_Oldham": "False",
         "HomeTeam_Heidenheim": "False",
         "HomeTeam_Brighton": "False",
         "HomeTeam_AFC Wimbledon": "False",
         "HomeTeam_Malaga": "False",
         "HomeTeam_Almeria": "False",
         "HomeTeam_Nantes": "False",
         "HomeTeam_Wehen": "False",
         "HomeTeam_Vitesse": "False",
         "HomeTeam_Levante": "False",
         "HomeTeam_Novara": "False",
         "HomeTeam_Guimaraes": "False",
         "HomeTeam_Norwich": "False",
         "HomeTeam_Pacos Ferreira": "False",
         "HomeTeam_Chesterfield": "False",
         "HomeTeam_Inverness C": "False",
         "HomeTeam_Giannina": "False",
         "HomeTeam_Espanol": "False",
         "HomeTeam_Braunschweig": "False",
         "HomeTeam_Oostende": "False",
         "HomeTeam_Gil Vicente": "False",
         "HomeTeam_Maritimo": "False",
         "HomeTeam_Niort": "False",
         "HomeTeam_Ingolstadt": "False",
         "HomeTeam_Montrose": "False",
         "HomeTeam_Barnet": "False",
         "HomeTeam_Osnabruck": "False",
         "HomeTeam_Troyes": "False",
         "HomeTeam_Dijon": "False",
         "HomeTeam_Ajaccio GFCO": "False",
         "HomeTeam_Dundee": "False",
         "HomeTeam_Larisa": "False",
         "HomeTeam_Southend": "False",
         "HomeTeam_Verona": "False",
         "HomeTeam_Goztep": "False",
         "HomeTeam_Genoa": "False",
         "HomeTeam_Cambridge": "False",
         "HomeTeam_Graafschap": "False",
         "HomeTeam_Angers": "False",
         "HomeTeam_Ath Bilbao": "False",
         "HomeTeam_Charlton": "False",
         "HomeTeam_East Fife": "False",
         "HomeTeam_Club Brugge": "False",
         "HomeTeam_NAC Breda": "False",
         "HomeTeam_Las Palmas": "False",
         "HomeTeam_Lazio": "False",
         "HomeTeam_Seraing": "False",
         "HomeTeam_Reus Deportiu": "False",
         "HomeTeam_Ajax": "False",
         "HomeTeam_Lincoln": "False",
         "HomeTeam_Nancy": "False",
         "HomeTeam_Frosinone": "False",
         "HomeTeam_Hull": "False",
         "HomeTeam_Chaves": "False",
         "HomeTeam_Rio Ave": "False",
         "HomeTeam_Cesena": "False",
         "HomeTeam_Amorebieta": "False",
         "HomeTeam_Rizespor": "False",
         "HomeTeam_Milton Keynes Dons": "False",
         "HomeTeam_Volos NFC": "False",
         "HomeTeam_Nacional": "False",
         "HomeTeam_Kaiserslautern": "False",
         "HomeTeam_Castellon": "False",
         "HomeTeam_Berwick": "False",
         "HomeTeam_Osmanlispor": "False",
         "HomeTeam_Bologna": "False",
         "HomeTeam_Barnsley": "False",
         "HomeTeam_Brentford": "False",
         "HomeTeam_Brescia": "False",
         "HomeTeam_Leeds": "False",
         "HomeTeam_Lorca": "False",
         "HomeTeam_Exeter": "False",
         "HomeTeam_Heerenveen": "False",
         "HomeTeam_Pro Vercelli": "False",
         "HomeTeam_Carpi": "False",
         "HomeTeam_Derby": "False",
         "HomeTeam_Burgos": "False",
         "HomeTeam_Forest Green": "False",
         "HomeTeam_QPR": "False",
         "HomeTeam_Santa Clara": "False",
         "HomeTeam_Bursaspor": "False",
         "HomeTeam_Sp Braga": "False",
         "HomeTeam_Blackburn": "False",
         "HomeTeam_Nijmegen": "False",
         "HomeTeam_Rochdale": "False",
         "HomeTeam_Grimsby": "False",
         "HomeTeam_Newcastle": "False",
         "HomeTeam_Freiburg": "False",
         "HomeTeam_Red Star": "False",
         "HomeTeam_Juventus": "False",
         "HomeTeam_Guingamp": "False",
         "HomeTeam_Salernitana": "False",
         "HomeTeam_St Mirren": "False",
         "HomeTeam_Hertha": "False",
         "HomeTeam_Aston Villa": "False",
         "HomeTeam_Salford": "False",
         "HomeTeam_St Truiden": "False",
         "HomeTeam_Yeni Malatyaspor": "False",
         "HomeTeam_Dresden": "False",
         "HomeTeam_Stenhousemuir": "False",
         "HomeTeam_Spezia": "False",
         "HomeTeam_Ajaccio": "False",
         "HomeTeam_AZ Alkmaar": "False",
         "HomeTeam_Augsburg": "False",
         "HomeTeam_Cove Rangers": "False",
         "HomeTeam_Darmstadt": "False",
         "HomeTeam_Aris": "False",
         "HomeTeam_Cordoba": "False",
         "HomeTeam_Werder Bremen": "False",
         "HomeTeam_Hoffenheim": "False",
         "HomeTeam_Harrogate": "False",
         "HomeTeam_Crewe": "False",
         "HomeTeam_Edinburgh City": "False",
         "HomeTeam_Auxerre": "False",
         "HomeTeam_Crotone": "False",
         "HomeTeam_Genclerbirligi": "False",
         "HomeTeam_Ponferradina": "False",
         "HomeTeam_Akhisar Belediyespor": "False",
         "HomeTeam_Farense": "False",
         "HomeTeam_Galatasaray": "False",
         "HomeTeam_Wurzburger Kickers": "False",
         "HomeTeam_Bari": "False",
         "HomeTeam_Stranraer": "False",
         "HomeTeam_Man United": "False",
         "HomeTeam_Perugia": "False",
         "HomeTeam_Karabukspor": "False",
         "HomeTeam_Caen": "False",
         "HomeTeam_Nott'm Forest": "False",
         "HomeTeam_Bordeaux": "False",
         "HomeTeam_Livorno": "False",
         "HomeTeam_Monza": "False",
         "HomeTeam_Bristol Rvs": "False",
         "HomeTeam_Holstein Kiel": "False",
         "HomeTeam_Fiorentina": "False",
         "HomeTeam_Sivasspor": "False",
         "HomeTeam_Trabzonspor": "False",
         "HomeTeam_Cowdenbeath": "False",
         "HomeTeam_Elche": "False",
         "HomeTeam_Paris FC": "False",
         "HomeTeam_Pau FC": "False",
         "HomeTeam_Portimonense": "False",
         "HomeTeam_Lamia": "False",
         "HomeTeam_Newport County": "False",
         "HomeTeam_Northampton": "False",
         "HomeTeam_Celta": "False",
         "HomeTeam_Hatayspor": "False",
         "HomeTeam_FC Koln": "False",
         "HomeTeam_Sassuolo": "False",
         "HomeTeam_Feirense": "False",
         "HomeTeam_Erzurum BB": "False",
         "HomeTeam_Wolfsburg": "False",
         "HomeTeam_Albion Rvs": "False",
         "HomeTeam_Waalwijk": "False",
         "HomeTeam_Duisburg": "False",
         "HomeTeam_Girona": "False",
         "HomeTeam_Kortrijk": "False",
         "HomeTeam_Beerschot VA": "False",
         "HomeTeam_Hamilton": "False",
         "HomeTeam_Waregem": "False",
         "HomeTeam_Crystal Palace": "True",
         "HomeTeam_Belenenses": "False",
         "HomeTeam_Dortmund": "False",
         "HomeTeam_Logrones": "False",
         "HomeTeam_Plymouth": "False",
         "HomeTeam_Peterboro": "False",
         "HomeTeam_Raith Rvs": "False",
         "HomeTeam_Sparta Rotterdam": "False",
         "HomeTeam_Orleans": "False",
         "HomeTeam_Magdeburg": "False",
         "HomeTeam_Gimnastic": "False",
         "HomeTeam_Paderborn": "False",
         "HomeTeam_Valenciennes": "False",
         "HomeTeam_Dumbarton": "False",
         "HomeTeam_Ayr": "False",
         "HomeTeam_Gillingham": "False",
         "HomeTeam_Avellino": "False",
         "HomeTeam_Ross County": "False",
         "HomeTeam_Inter": "False",
         "HomeTeam_Millwall": "False",
         "HomeTeam_Notts County": "False",
         "HomeTeam_Venezia": "False",
         "HomeTeam_Albacete": "False",
         "HomeTeam_Fulham": "False",
         "HomeTeam_Spal": "False",
         "HomeTeam_Twente": "False",
         "HomeTeam_Numancia": "False",
         "HomeTeam_Pescara": "False",
         "HomeTeam_Montpellier": "False",
         "HomeTeam_Sandhausen": "False",
         "HomeTeam_Vicenza": "False",
         "HomeTeam_Groningen": "False",
         "HomeTeam_Wycombe": "False",
         "HomeTeam_Marseille": "False",
         "HomeTeam_Atromitos": "False",
         "HomeTeam_Reggiana": "False",
         "HomeTeam_Go Ahead Eagles": "False",
         "HomeTeam_Anderlecht": "False",
         "HomeTeam_Carlisle": "False",
         "HomeTeam_Apollon": "False",
         "HomeTeam_Alcorcon": "False",
         "HomeTeam_Oud-Heverlee Leuven": "False",
         "HomeTeam_Hartlepool": "False",
         "HomeTeam_Birmingham": "False",
         "HomeTeam_Antwerp": "False",
         "HomeTeam_St Etienne": "False",
         "HomeTeam_Queens Park": "False",
         "HomeTeam_Ath Madrid": "False",
         "HomeTeam_Metz": "False",
         "HomeTeam_Ipswich": "False",
         "HomeTeam_Reims": "False",
         "HomeTeam_Vizela": "False",
         "HomeTeam_Arbroath": "False",
         "HomeTeam_Sheffield United": "False",
         "HomeTeam_Swindon": "False",
         "HomeTeam_Rennes": "False",
         "HomeTeam_Mechelen": "False",
         "HomeTeam_Elgin": "False",
         "HomeTeam_Napoli": "False",
         "HomeTeam_Bolton": "False",
         "HomeTeam_Man City": "False",
         "HomeTeam_Genk": "False",
         "HomeTeam_Blackpool": "False",
         "HomeTeam_Lecce": "False",
         "HomeTeam_Buyuksehyr": "False",
         "HomeTeam_Eibar": "False",
         "HomeTeam_Torino": "False",
         "HomeTeam_Bournemouth": "False",
         "HomeTeam_Chievo": "False",
         "HomeTeam_Strasbourg": "False",
         "HomeTeam_Pisa": "False",
         "HomeTeam_Olympiakos": "False",
         "HomeTeam_Dunfermline": "False",
         "HomeTeam_Chateauroux": "False",
         "HomeTeam_Arouca": "False",
         "HomeTeam_Excelsior": "False",
         "HomeTeam_Ascoli": "False",
         "HomeTeam_St. Gilloise": "False",
         "HomeTeam_Feyenoord": "False",
         "HomeTeam_Partick": "False",
         "HomeTeam_Scunthorpe": "False",
         "HomeTeam_Stuttgart": "False",
         "HomeTeam_Bastia": "False",
         "HomeTeam_Chambly": "False",
         "HomeTeam_RB Leipzig": "False",
         "HomeTeam_Doncaster": "False",
         "HomeTeam_Lille": "False",
         "HomeTeam_Setubal": "False",
         "HomeTeam_Cheltenham": "False",
         "HomeTeam_Brechin": "False",
         "HomeTeam_Parma": "False",
         "HomeTeam_Swansea": "False",
         "HomeTeam_Famalicao": "False",
         "HomeTeam_Dundee United": "False",
         "HomeTeam_Alessandria": "False",
         "HomeTeam_Atalanta": "False",
         "HomeTeam_Clyde": "False",
         "HomeTeam_Huesca": "False",
         "HomeTeam_Empoli": "False",
         "HomeTeam_Stirling": "False",
         "HomeTeam_Burton": "False",
         "HomeTeam_Sevilla": "False",
         "HomeTeam_Celtic": "False",
         "HomeTeam_Macclesfield": "False",
         "HomeTeam_Virtus Entella": "False",
         "HomeTeam_Sutton": "False",
         "HomeTeam_Preston": "False",
         "HomeTeam_Como": "False",
         "HomeTeam_Greuther Furth": "False",
         "HomeTeam_Chelsea": "False",
         "HomeTeam_Lyon": "False",
         "HomeTeam_Fenerbahce": "False",
         "HomeTeam_Getafe": "False",
         "HomeTeam_Santander": "False",
         "HomeTeam_Walsall": "False",
         "HomeTeam_Udinese": "False",
         "HomeTeam_Tondela": "False",
         "HomeTeam_Nice": "False",
         "HomeTeam_Extremadura UD": "False",
         "HomeTeam_Besiktas": "False",
         "HomeTeam_Reggina": "False",
         "HomeTeam_Monaco": "False",
         "HomeTeam_Lugo": "False",
         "HomeTeam_Valladolid": "False",
         "HomeTeam_West Ham": "False",
         "HomeTeam_Padova": "False",
         "HomeTeam_Oxford": "False",
         "HomeTeam_La Coruna": "False",
         "HomeTeam_Port Vale": "False",
         "HomeTeam_Ein Frankfurt": "False",
         "HomeTeam_Crawley Town": "False",
         "HomeTeam_Antalyaspor": "False",
         "HomeTeam_Clermont": "False",
         "HomeTeam_Willem II": "False",
         "HomeTeam_Leyton Orient": "False",
         "HomeTeam_Alloa": "False",
         "HomeTeam_Betis": "False",
         "HomeTeam_Shrewsbury": "False",
         "HomeTeam_Sp Gijon": "False",
         "HomeTeam_Quevilly Rouen": "False",
         "HomeTeam_Roma": "False",
         "HomeTeam_Hansa Rostock": "False",
         "HomeTeam_Mirandes": "False",
         "HomeTeam_Huddersfield": "False",
         "HomeTeam_VVV Venlo": "False",
         "HomeTeam_Mouscron": "False",
         "HomeTeam_Tottenham": "False",
         "HomeTeam_Real Madrid": "False",
         "HomeTeam_AEK": "False",
         "HomeTeam_Watford": "False",
         "HomeTeam_Southampton": "False",
         "HomeTeam_Waasland-Beveren": "False",
         "HomeTeam_M'gladbach": "False",
         "HomeTeam_Nurnberg": "False",
         "HomeTeam_Tenerife": "False",
         "HomeTeam_Ternana": "False",
         "HomeTeam_Panathinaikos": "False",
         "HomeTeam_Stoke": "False",
         "HomeTeam_Peterhead": "False",
         "HomeTeam_Bury": "False",
         "HomeTeam_Palermo": "False",
         "HomeTeam_For Sittard": "False",
         "HomeTeam_Villarreal": "False",
         "HomeTeam_Cosenza": "False",
         "HomeTeam_Motherwell": "False",
         "HomeTeam_Lens": "False",
         "HomeTeam_Boavista": "False",
         "HomeTeam_Beziers": "False",
         "HomeTeam_Leicester": "False",
         "HomeTeam_Apollon Apollon": "False",
         "HomeTeam_Nimes": "False",
         "HomeTeam_Gaziantep": "False",
         "HomeTeam_Pordenone": "False",
         "HomeTeam_St Johnstone": "False",
         "HomeTeam_Panetolikos": "False",
         "HomeTeam_Roda": "False",
         "HomeTeam_FC Emmen": "False",
         "HomeTeam_Bristol City": "False",
         "HomeTeam_Everton": "False",
         "HomeTeam_Union Berlin": "False",
         "HomeTeam_Wigan": "False",
         "HomeTeam_Karlsruhe": "False",
         "HomeTeam_Brest": "False",
         "HomeTeam_Xanthi": "False",
         "HomeTeam_Fortuna Dusseldorf": "False",
         "HomeTeam_Kayserispor": "False",
         "HomeTeam_Le Havre": "False",
         "HomeTeam_Stevenage": "False",
         "HomeTeam_Schalke 04": "False",
         "HomeTeam_Altay": "False",
         "HomeTeam_Lorient": "False",
         "HomeTeam_Karagumruk": "False",
         "HomeTeam_Portsmouth": "False",
         "HomeTeam_Barcelona": "False",
         "HomeTeam_Vallecano": "False",
         "HomeTeam_Asteras Tripolis": "False",
         "HomeTeam_Hannover": "False",
         "HomeTeam_Konyaspor": "False",
         "HomeTeam_Toulouse": "False",
         "HomeTeam_Kilmarnock": "False",
         "HomeTeam_Osasuna": "False",
         "HomeTeam_Cagliari": "False",
         "HomeTeam_Giresunspor": "False",
         "HomeTeam_Mansfield": "False",
         "HomeTeam_Panionios": "False",
         "HomeTeam_Bochum": "False",
         "HomeTeam_Leonesa": "False",
         "HomeTeam_Ad. Demirspor": "False",
         "HomeTeam_Cercle Brugge": "False",
         "HomeTeam_Kasimpasa": "False",
         "HomeTeam_Le Mans": "False",
         "HomeTeam_Coventry": "False",
         "HomeTeam_Rayo Majadahonda": "False",
         "HomeTeam_Luton": "False",
         "HomeTeam_Yeovil": "False",
         "HomeTeam_Cambuur": "False",
         "HomeTeam_Annan Athletic": "False",
         "HomeTeam_Gent": "False",
         "HomeTeam_Cartagena": "False",
         "HomeTeam_Fleetwood Town": "False",
         "HomeTeam_Wolves": "False",
         "HomeTeam_Cadiz": "False",
         "HomeTeam_Juve Stabia": "False",
         "HomeTeam_Accrington": "False",
         "HomeTeam_Barrow": "False",
         "HomeTeam_Foggia": "False",
         "HomeTeam_Leverkusen": "False",
         "HomeTeam_Benevento": "False",
         "HomeTeam_Benfica": "False",
         "HomeTeam_Eupen": "False",
         "HomeTeam_Porto": "False",
         "HomeTeam_Rangers": "False",
         "HomeTeam_Hamburg": "False",
         "HomeTeam_Moreirense": "False",
         "HomeTeam_Standard": "False",
         "_deepnote_index_column": 2
        },
        {
         "Country": "england",
         "League": 0,
         "Season": 1718,
         "Match_Date": "2017-08-12",
         "Home_Team": "Chelsea",
         "Away_Team": "Burnley",
         "Full_Time_Home_Team_Goals": 2,
         "Full_Time_Away_Team_Goals": 3,
         "Full_Time_Result": "A",
         "Home_Team_Shots": 19,
         "Away_Team_Shots": 10,
         "Home_Team_Shots_on_Target": 6,
         "Away_Team_Shots_on_Target": 5,
         "Home_Team_Corners": 8,
         "Away_Team_Corners": 5,
         "Home_Team_Yellow_Cards": 3,
         "Away_Team_Yellow_Cards": 3,
         "Home_Team_Red_Cards": 2,
         "Away_Team_Red_Cards": 0,
         "DayOfWeek": 5,
         "is_Weekend": 1,
         "Home_Team_Fouls_Committed": 16,
         "Away_Team_Fouls_Committed": 11,
         "over_2.5": 1,
         "Average_home_win_odds": 1.2425,
         "Average_away_win_odds": 14.115,
         "Average_draw_odds": 6.1325,
         "Average_over_2.5_goals_odds": 1.66,
         "Average_under_2.5_goals_odds": 2.23,
         "Average_Asian_Handicap_Home_odds": 0.1099999999999999,
         "Average_Asian_Handicap_Away_odds": 1.9,
         "Close_home_win_odds": 1.33,
         "Close_draw_odds": 5.4,
         "Close_away_win_odds": 12.25,
         "has_favorite": 1,
         "Time_kick_off_bin": "Afternoon",
         "HomeTeam_Rotherham": "False",
         "HomeTeam_OFI Crete": "False",
         "HomeTeam_Barcelona B": "False",
         "HomeTeam_Queen of Sth": "False",
         "HomeTeam_Charleroi": "False",
         "HomeTeam_Mallorca": "False",
         "HomeTeam_Amiens": "False",
         "HomeTeam_PAOK": "False",
         "HomeTeam_Morecambe": "False",
         "HomeTeam_Arsenal": "False",
         "HomeTeam_Rodez": "False",
         "HomeTeam_Sociedad B": "False",
         "HomeTeam_Fuenlabrada": "False",
         "HomeTeam_Forfar": "False",
         "HomeTeam_Burnley": "False",
         "HomeTeam_Livingston": "False",
         "HomeTeam_Colchester": "False",
         "HomeTeam_Cittadella": "False",
         "HomeTeam_Sociedad": "False",
         "HomeTeam_Hibernian": "False",
         "HomeTeam_Sunderland": "False",
         "HomeTeam_Trapani": "False",
         "HomeTeam_Regensburg": "False",
         "HomeTeam_Reading": "False",
         "HomeTeam_Zaragoza": "False",
         "HomeTeam_Alanyaspor": "False",
         "HomeTeam_Cardiff": "False",
         "HomeTeam_Erzgebirge Aue": "False",
         "HomeTeam_Ankaragucu": "False",
         "HomeTeam_Mainz": "False",
         "HomeTeam_Bayern Munich": "False",
         "HomeTeam_Utrecht": "False",
         "HomeTeam_Estoril": "False",
         "HomeTeam_Paris SG": "False",
         "HomeTeam_St Pauli": "False",
         "HomeTeam_Heracles": "False",
         "HomeTeam_Valencia": "False",
         "HomeTeam_Ibiza": "False",
         "HomeTeam_Hearts": "False",
         "HomeTeam_Grenoble": "False",
         "HomeTeam_Sevilla B": "False",
         "HomeTeam_Denizlispor": "False",
         "HomeTeam_Morton": "False",
         "HomeTeam_Leganes": "False",
         "HomeTeam_Middlesbrough": "False",
         "HomeTeam_Sp Lisbon": "False",
         "HomeTeam_Ionikos": "False",
         "HomeTeam_Kelty Hearts": "False",
         "HomeTeam_Sheffield Weds": "False",
         "HomeTeam_Alaves": "False",
         "HomeTeam_Cremonese": "False",
         "HomeTeam_Liverpool": "False",
         "HomeTeam_Granada": "False",
         "HomeTeam_Aves": "False",
         "HomeTeam_Oviedo": "False",
         "HomeTeam_Bielefeld": "False",
         "HomeTeam_Milan": "False",
         "HomeTeam_Bradford": "False",
         "HomeTeam_Zwolle": "False",
         "HomeTeam_Falkirk": "False",
         "HomeTeam_Airdrie Utd": "False",
         "HomeTeam_Aberdeen": "False",
         "HomeTeam_Sabadell": "False",
         "HomeTeam_Sochaux": "False",
         "HomeTeam_Den Haag": "False",
         "HomeTeam_West Brom": "False",
         "HomeTeam_Tranmere": "False",
         "HomeTeam_Dunkerque": "False",
         "HomeTeam_Sampdoria": "False",
         "HomeTeam_PSV Eindhoven": "False",
         "HomeTeam_Oldham": "False",
         "HomeTeam_Heidenheim": "False",
         "HomeTeam_Brighton": "False",
         "HomeTeam_AFC Wimbledon": "False",
         "HomeTeam_Malaga": "False",
         "HomeTeam_Almeria": "False",
         "HomeTeam_Nantes": "False",
         "HomeTeam_Wehen": "False",
         "HomeTeam_Vitesse": "False",
         "HomeTeam_Levante": "False",
         "HomeTeam_Novara": "False",
         "HomeTeam_Guimaraes": "False",
         "HomeTeam_Norwich": "False",
         "HomeTeam_Pacos Ferreira": "False",
         "HomeTeam_Chesterfield": "False",
         "HomeTeam_Inverness C": "False",
         "HomeTeam_Giannina": "False",
         "HomeTeam_Espanol": "False",
         "HomeTeam_Braunschweig": "False",
         "HomeTeam_Oostende": "False",
         "HomeTeam_Gil Vicente": "False",
         "HomeTeam_Maritimo": "False",
         "HomeTeam_Niort": "False",
         "HomeTeam_Ingolstadt": "False",
         "HomeTeam_Montrose": "False",
         "HomeTeam_Barnet": "False",
         "HomeTeam_Osnabruck": "False",
         "HomeTeam_Troyes": "False",
         "HomeTeam_Dijon": "False",
         "HomeTeam_Ajaccio GFCO": "False",
         "HomeTeam_Dundee": "False",
         "HomeTeam_Larisa": "False",
         "HomeTeam_Southend": "False",
         "HomeTeam_Verona": "False",
         "HomeTeam_Goztep": "False",
         "HomeTeam_Genoa": "False",
         "HomeTeam_Cambridge": "False",
         "HomeTeam_Graafschap": "False",
         "HomeTeam_Angers": "False",
         "HomeTeam_Ath Bilbao": "False",
         "HomeTeam_Charlton": "False",
         "HomeTeam_East Fife": "False",
         "HomeTeam_Club Brugge": "False",
         "HomeTeam_NAC Breda": "False",
         "HomeTeam_Las Palmas": "False",
         "HomeTeam_Lazio": "False",
         "HomeTeam_Seraing": "False",
         "HomeTeam_Reus Deportiu": "False",
         "HomeTeam_Ajax": "False",
         "HomeTeam_Lincoln": "False",
         "HomeTeam_Nancy": "False",
         "HomeTeam_Frosinone": "False",
         "HomeTeam_Hull": "False",
         "HomeTeam_Chaves": "False",
         "HomeTeam_Rio Ave": "False",
         "HomeTeam_Cesena": "False",
         "HomeTeam_Amorebieta": "False",
         "HomeTeam_Rizespor": "False",
         "HomeTeam_Milton Keynes Dons": "False",
         "HomeTeam_Volos NFC": "False",
         "HomeTeam_Nacional": "False",
         "HomeTeam_Kaiserslautern": "False",
         "HomeTeam_Castellon": "False",
         "HomeTeam_Berwick": "False",
         "HomeTeam_Osmanlispor": "False",
         "HomeTeam_Bologna": "False",
         "HomeTeam_Barnsley": "False",
         "HomeTeam_Brentford": "False",
         "HomeTeam_Brescia": "False",
         "HomeTeam_Leeds": "False",
         "HomeTeam_Lorca": "False",
         "HomeTeam_Exeter": "False",
         "HomeTeam_Heerenveen": "False",
         "HomeTeam_Pro Vercelli": "False",
         "HomeTeam_Carpi": "False",
         "HomeTeam_Derby": "False",
         "HomeTeam_Burgos": "False",
         "HomeTeam_Forest Green": "False",
         "HomeTeam_QPR": "False",
         "HomeTeam_Santa Clara": "False",
         "HomeTeam_Bursaspor": "False",
         "HomeTeam_Sp Braga": "False",
         "HomeTeam_Blackburn": "False",
         "HomeTeam_Nijmegen": "False",
         "HomeTeam_Rochdale": "False",
         "HomeTeam_Grimsby": "False",
         "HomeTeam_Newcastle": "False",
         "HomeTeam_Freiburg": "False",
         "HomeTeam_Red Star": "False",
         "HomeTeam_Juventus": "False",
         "HomeTeam_Guingamp": "False",
         "HomeTeam_Salernitana": "False",
         "HomeTeam_St Mirren": "False",
         "HomeTeam_Hertha": "False",
         "HomeTeam_Aston Villa": "False",
         "HomeTeam_Salford": "False",
         "HomeTeam_St Truiden": "False",
         "HomeTeam_Yeni Malatyaspor": "False",
         "HomeTeam_Dresden": "False",
         "HomeTeam_Stenhousemuir": "False",
         "HomeTeam_Spezia": "False",
         "HomeTeam_Ajaccio": "False",
         "HomeTeam_AZ Alkmaar": "False",
         "HomeTeam_Augsburg": "False",
         "HomeTeam_Cove Rangers": "False",
         "HomeTeam_Darmstadt": "False",
         "HomeTeam_Aris": "False",
         "HomeTeam_Cordoba": "False",
         "HomeTeam_Werder Bremen": "False",
         "HomeTeam_Hoffenheim": "False",
         "HomeTeam_Harrogate": "False",
         "HomeTeam_Crewe": "False",
         "HomeTeam_Edinburgh City": "False",
         "HomeTeam_Auxerre": "False",
         "HomeTeam_Crotone": "False",
         "HomeTeam_Genclerbirligi": "False",
         "HomeTeam_Ponferradina": "False",
         "HomeTeam_Akhisar Belediyespor": "False",
         "HomeTeam_Farense": "False",
         "HomeTeam_Galatasaray": "False",
         "HomeTeam_Wurzburger Kickers": "False",
         "HomeTeam_Bari": "False",
         "HomeTeam_Stranraer": "False",
         "HomeTeam_Man United": "False",
         "HomeTeam_Perugia": "False",
         "HomeTeam_Karabukspor": "False",
         "HomeTeam_Caen": "False",
         "HomeTeam_Nott'm Forest": "False",
         "HomeTeam_Bordeaux": "False",
         "HomeTeam_Livorno": "False",
         "HomeTeam_Monza": "False",
         "HomeTeam_Bristol Rvs": "False",
         "HomeTeam_Holstein Kiel": "False",
         "HomeTeam_Fiorentina": "False",
         "HomeTeam_Sivasspor": "False",
         "HomeTeam_Trabzonspor": "False",
         "HomeTeam_Cowdenbeath": "False",
         "HomeTeam_Elche": "False",
         "HomeTeam_Paris FC": "False",
         "HomeTeam_Pau FC": "False",
         "HomeTeam_Portimonense": "False",
         "HomeTeam_Lamia": "False",
         "HomeTeam_Newport County": "False",
         "HomeTeam_Northampton": "False",
         "HomeTeam_Celta": "False",
         "HomeTeam_Hatayspor": "False",
         "HomeTeam_FC Koln": "False",
         "HomeTeam_Sassuolo": "False",
         "HomeTeam_Feirense": "False",
         "HomeTeam_Erzurum BB": "False",
         "HomeTeam_Wolfsburg": "False",
         "HomeTeam_Albion Rvs": "False",
         "HomeTeam_Waalwijk": "False",
         "HomeTeam_Duisburg": "False",
         "HomeTeam_Girona": "False",
         "HomeTeam_Kortrijk": "False",
         "HomeTeam_Beerschot VA": "False",
         "HomeTeam_Hamilton": "False",
         "HomeTeam_Waregem": "False",
         "HomeTeam_Crystal Palace": "False",
         "HomeTeam_Belenenses": "False",
         "HomeTeam_Dortmund": "False",
         "HomeTeam_Logrones": "False",
         "HomeTeam_Plymouth": "False",
         "HomeTeam_Peterboro": "False",
         "HomeTeam_Raith Rvs": "False",
         "HomeTeam_Sparta Rotterdam": "False",
         "HomeTeam_Orleans": "False",
         "HomeTeam_Magdeburg": "False",
         "HomeTeam_Gimnastic": "False",
         "HomeTeam_Paderborn": "False",
         "HomeTeam_Valenciennes": "False",
         "HomeTeam_Dumbarton": "False",
         "HomeTeam_Ayr": "False",
         "HomeTeam_Gillingham": "False",
         "HomeTeam_Avellino": "False",
         "HomeTeam_Ross County": "False",
         "HomeTeam_Inter": "False",
         "HomeTeam_Millwall": "False",
         "HomeTeam_Notts County": "False",
         "HomeTeam_Venezia": "False",
         "HomeTeam_Albacete": "False",
         "HomeTeam_Fulham": "False",
         "HomeTeam_Spal": "False",
         "HomeTeam_Twente": "False",
         "HomeTeam_Numancia": "False",
         "HomeTeam_Pescara": "False",
         "HomeTeam_Montpellier": "False",
         "HomeTeam_Sandhausen": "False",
         "HomeTeam_Vicenza": "False",
         "HomeTeam_Groningen": "False",
         "HomeTeam_Wycombe": "False",
         "HomeTeam_Marseille": "False",
         "HomeTeam_Atromitos": "False",
         "HomeTeam_Reggiana": "False",
         "HomeTeam_Go Ahead Eagles": "False",
         "HomeTeam_Anderlecht": "False",
         "HomeTeam_Carlisle": "False",
         "HomeTeam_Apollon": "False",
         "HomeTeam_Alcorcon": "False",
         "HomeTeam_Oud-Heverlee Leuven": "False",
         "HomeTeam_Hartlepool": "False",
         "HomeTeam_Birmingham": "False",
         "HomeTeam_Antwerp": "False",
         "HomeTeam_St Etienne": "False",
         "HomeTeam_Queens Park": "False",
         "HomeTeam_Ath Madrid": "False",
         "HomeTeam_Metz": "False",
         "HomeTeam_Ipswich": "False",
         "HomeTeam_Reims": "False",
         "HomeTeam_Vizela": "False",
         "HomeTeam_Arbroath": "False",
         "HomeTeam_Sheffield United": "False",
         "HomeTeam_Swindon": "False",
         "HomeTeam_Rennes": "False",
         "HomeTeam_Mechelen": "False",
         "HomeTeam_Elgin": "False",
         "HomeTeam_Napoli": "False",
         "HomeTeam_Bolton": "False",
         "HomeTeam_Man City": "False",
         "HomeTeam_Genk": "False",
         "HomeTeam_Blackpool": "False",
         "HomeTeam_Lecce": "False",
         "HomeTeam_Buyuksehyr": "False",
         "HomeTeam_Eibar": "False",
         "HomeTeam_Torino": "False",
         "HomeTeam_Bournemouth": "False",
         "HomeTeam_Chievo": "False",
         "HomeTeam_Strasbourg": "False",
         "HomeTeam_Pisa": "False",
         "HomeTeam_Olympiakos": "False",
         "HomeTeam_Dunfermline": "False",
         "HomeTeam_Chateauroux": "False",
         "HomeTeam_Arouca": "False",
         "HomeTeam_Excelsior": "False",
         "HomeTeam_Ascoli": "False",
         "HomeTeam_St. Gilloise": "False",
         "HomeTeam_Feyenoord": "False",
         "HomeTeam_Partick": "False",
         "HomeTeam_Scunthorpe": "False",
         "HomeTeam_Stuttgart": "False",
         "HomeTeam_Bastia": "False",
         "HomeTeam_Chambly": "False",
         "HomeTeam_RB Leipzig": "False",
         "HomeTeam_Doncaster": "False",
         "HomeTeam_Lille": "False",
         "HomeTeam_Setubal": "False",
         "HomeTeam_Cheltenham": "False",
         "HomeTeam_Brechin": "False",
         "HomeTeam_Parma": "False",
         "HomeTeam_Swansea": "False",
         "HomeTeam_Famalicao": "False",
         "HomeTeam_Dundee United": "False",
         "HomeTeam_Alessandria": "False",
         "HomeTeam_Atalanta": "False",
         "HomeTeam_Clyde": "False",
         "HomeTeam_Huesca": "False",
         "HomeTeam_Empoli": "False",
         "HomeTeam_Stirling": "False",
         "HomeTeam_Burton": "False",
         "HomeTeam_Sevilla": "False",
         "HomeTeam_Celtic": "False",
         "HomeTeam_Macclesfield": "False",
         "HomeTeam_Virtus Entella": "False",
         "HomeTeam_Sutton": "False",
         "HomeTeam_Preston": "False",
         "HomeTeam_Como": "False",
         "HomeTeam_Greuther Furth": "False",
         "HomeTeam_Chelsea": "True",
         "HomeTeam_Lyon": "False",
         "HomeTeam_Fenerbahce": "False",
         "HomeTeam_Getafe": "False",
         "HomeTeam_Santander": "False",
         "HomeTeam_Walsall": "False",
         "HomeTeam_Udinese": "False",
         "HomeTeam_Tondela": "False",
         "HomeTeam_Nice": "False",
         "HomeTeam_Extremadura UD": "False",
         "HomeTeam_Besiktas": "False",
         "HomeTeam_Reggina": "False",
         "HomeTeam_Monaco": "False",
         "HomeTeam_Lugo": "False",
         "HomeTeam_Valladolid": "False",
         "HomeTeam_West Ham": "False",
         "HomeTeam_Padova": "False",
         "HomeTeam_Oxford": "False",
         "HomeTeam_La Coruna": "False",
         "HomeTeam_Port Vale": "False",
         "HomeTeam_Ein Frankfurt": "False",
         "HomeTeam_Crawley Town": "False",
         "HomeTeam_Antalyaspor": "False",
         "HomeTeam_Clermont": "False",
         "HomeTeam_Willem II": "False",
         "HomeTeam_Leyton Orient": "False",
         "HomeTeam_Alloa": "False",
         "HomeTeam_Betis": "False",
         "HomeTeam_Shrewsbury": "False",
         "HomeTeam_Sp Gijon": "False",
         "HomeTeam_Quevilly Rouen": "False",
         "HomeTeam_Roma": "False",
         "HomeTeam_Hansa Rostock": "False",
         "HomeTeam_Mirandes": "False",
         "HomeTeam_Huddersfield": "False",
         "HomeTeam_VVV Venlo": "False",
         "HomeTeam_Mouscron": "False",
         "HomeTeam_Tottenham": "False",
         "HomeTeam_Real Madrid": "False",
         "HomeTeam_AEK": "False",
         "HomeTeam_Watford": "False",
         "HomeTeam_Southampton": "False",
         "HomeTeam_Waasland-Beveren": "False",
         "HomeTeam_M'gladbach": "False",
         "HomeTeam_Nurnberg": "False",
         "HomeTeam_Tenerife": "False",
         "HomeTeam_Ternana": "False",
         "HomeTeam_Panathinaikos": "False",
         "HomeTeam_Stoke": "False",
         "HomeTeam_Peterhead": "False",
         "HomeTeam_Bury": "False",
         "HomeTeam_Palermo": "False",
         "HomeTeam_For Sittard": "False",
         "HomeTeam_Villarreal": "False",
         "HomeTeam_Cosenza": "False",
         "HomeTeam_Motherwell": "False",
         "HomeTeam_Lens": "False",
         "HomeTeam_Boavista": "False",
         "HomeTeam_Beziers": "False",
         "HomeTeam_Leicester": "False",
         "HomeTeam_Apollon Apollon": "False",
         "HomeTeam_Nimes": "False",
         "HomeTeam_Gaziantep": "False",
         "HomeTeam_Pordenone": "False",
         "HomeTeam_St Johnstone": "False",
         "HomeTeam_Panetolikos": "False",
         "HomeTeam_Roda": "False",
         "HomeTeam_FC Emmen": "False",
         "HomeTeam_Bristol City": "False",
         "HomeTeam_Everton": "False",
         "HomeTeam_Union Berlin": "False",
         "HomeTeam_Wigan": "False",
         "HomeTeam_Karlsruhe": "False",
         "HomeTeam_Brest": "False",
         "HomeTeam_Xanthi": "False",
         "HomeTeam_Fortuna Dusseldorf": "False",
         "HomeTeam_Kayserispor": "False",
         "HomeTeam_Le Havre": "False",
         "HomeTeam_Stevenage": "False",
         "HomeTeam_Schalke 04": "False",
         "HomeTeam_Altay": "False",
         "HomeTeam_Lorient": "False",
         "HomeTeam_Karagumruk": "False",
         "HomeTeam_Portsmouth": "False",
         "HomeTeam_Barcelona": "False",
         "HomeTeam_Vallecano": "False",
         "HomeTeam_Asteras Tripolis": "False",
         "HomeTeam_Hannover": "False",
         "HomeTeam_Konyaspor": "False",
         "HomeTeam_Toulouse": "False",
         "HomeTeam_Kilmarnock": "False",
         "HomeTeam_Osasuna": "False",
         "HomeTeam_Cagliari": "False",
         "HomeTeam_Giresunspor": "False",
         "HomeTeam_Mansfield": "False",
         "HomeTeam_Panionios": "False",
         "HomeTeam_Bochum": "False",
         "HomeTeam_Leonesa": "False",
         "HomeTeam_Ad. Demirspor": "False",
         "HomeTeam_Cercle Brugge": "False",
         "HomeTeam_Kasimpasa": "False",
         "HomeTeam_Le Mans": "False",
         "HomeTeam_Coventry": "False",
         "HomeTeam_Rayo Majadahonda": "False",
         "HomeTeam_Luton": "False",
         "HomeTeam_Yeovil": "False",
         "HomeTeam_Cambuur": "False",
         "HomeTeam_Annan Athletic": "False",
         "HomeTeam_Gent": "False",
         "HomeTeam_Cartagena": "False",
         "HomeTeam_Fleetwood Town": "False",
         "HomeTeam_Wolves": "False",
         "HomeTeam_Cadiz": "False",
         "HomeTeam_Juve Stabia": "False",
         "HomeTeam_Accrington": "False",
         "HomeTeam_Barrow": "False",
         "HomeTeam_Foggia": "False",
         "HomeTeam_Leverkusen": "False",
         "HomeTeam_Benevento": "False",
         "HomeTeam_Benfica": "False",
         "HomeTeam_Eupen": "False",
         "HomeTeam_Porto": "False",
         "HomeTeam_Rangers": "False",
         "HomeTeam_Hamburg": "False",
         "HomeTeam_Moreirense": "False",
         "HomeTeam_Standard": "False",
         "_deepnote_index_column": 3
        },
        {
         "Country": "england",
         "League": 0,
         "Season": 1718,
         "Match_Date": "2017-08-12",
         "Home_Team": "Everton",
         "Away_Team": "Stoke",
         "Full_Time_Home_Team_Goals": 1,
         "Full_Time_Away_Team_Goals": 0,
         "Full_Time_Result": "H",
         "Home_Team_Shots": 9,
         "Away_Team_Shots": 9,
         "Home_Team_Shots_on_Target": 4,
         "Away_Team_Shots_on_Target": 1,
         "Home_Team_Corners": 6,
         "Away_Team_Corners": 7,
         "Home_Team_Yellow_Cards": 1,
         "Away_Team_Yellow_Cards": 1,
         "Home_Team_Red_Cards": 0,
         "Away_Team_Red_Cards": 0,
         "DayOfWeek": 5,
         "is_Weekend": 1,
         "Home_Team_Fouls_Committed": 13,
         "Away_Team_Fouls_Committed": 10,
         "over_2.5": 0,
         "Average_home_win_odds": 1.6949999999999998,
         "Average_away_win_odds": 5.5075,
         "Average_draw_odds": 3.69,
         "Average_over_2.5_goals_odds": 2.08,
         "Average_under_2.5_goals_odds": 1.76,
         "Average_Asian_Handicap_Home_odds": 0.575,
         "Average_Asian_Handicap_Away_odds": 1.98,
         "Close_home_win_odds": 1.82,
         "Close_draw_odds": 3.49,
         "Close_away_win_odds": 5.42,
         "has_favorite": 1,
         "Time_kick_off_bin": "Afternoon",
         "HomeTeam_Rotherham": "False",
         "HomeTeam_OFI Crete": "False",
         "HomeTeam_Barcelona B": "False",
         "HomeTeam_Queen of Sth": "False",
         "HomeTeam_Charleroi": "False",
         "HomeTeam_Mallorca": "False",
         "HomeTeam_Amiens": "False",
         "HomeTeam_PAOK": "False",
         "HomeTeam_Morecambe": "False",
         "HomeTeam_Arsenal": "False",
         "HomeTeam_Rodez": "False",
         "HomeTeam_Sociedad B": "False",
         "HomeTeam_Fuenlabrada": "False",
         "HomeTeam_Forfar": "False",
         "HomeTeam_Burnley": "False",
         "HomeTeam_Livingston": "False",
         "HomeTeam_Colchester": "False",
         "HomeTeam_Cittadella": "False",
         "HomeTeam_Sociedad": "False",
         "HomeTeam_Hibernian": "False",
         "HomeTeam_Sunderland": "False",
         "HomeTeam_Trapani": "False",
         "HomeTeam_Regensburg": "False",
         "HomeTeam_Reading": "False",
         "HomeTeam_Zaragoza": "False",
         "HomeTeam_Alanyaspor": "False",
         "HomeTeam_Cardiff": "False",
         "HomeTeam_Erzgebirge Aue": "False",
         "HomeTeam_Ankaragucu": "False",
         "HomeTeam_Mainz": "False",
         "HomeTeam_Bayern Munich": "False",
         "HomeTeam_Utrecht": "False",
         "HomeTeam_Estoril": "False",
         "HomeTeam_Paris SG": "False",
         "HomeTeam_St Pauli": "False",
         "HomeTeam_Heracles": "False",
         "HomeTeam_Valencia": "False",
         "HomeTeam_Ibiza": "False",
         "HomeTeam_Hearts": "False",
         "HomeTeam_Grenoble": "False",
         "HomeTeam_Sevilla B": "False",
         "HomeTeam_Denizlispor": "False",
         "HomeTeam_Morton": "False",
         "HomeTeam_Leganes": "False",
         "HomeTeam_Middlesbrough": "False",
         "HomeTeam_Sp Lisbon": "False",
         "HomeTeam_Ionikos": "False",
         "HomeTeam_Kelty Hearts": "False",
         "HomeTeam_Sheffield Weds": "False",
         "HomeTeam_Alaves": "False",
         "HomeTeam_Cremonese": "False",
         "HomeTeam_Liverpool": "False",
         "HomeTeam_Granada": "False",
         "HomeTeam_Aves": "False",
         "HomeTeam_Oviedo": "False",
         "HomeTeam_Bielefeld": "False",
         "HomeTeam_Milan": "False",
         "HomeTeam_Bradford": "False",
         "HomeTeam_Zwolle": "False",
         "HomeTeam_Falkirk": "False",
         "HomeTeam_Airdrie Utd": "False",
         "HomeTeam_Aberdeen": "False",
         "HomeTeam_Sabadell": "False",
         "HomeTeam_Sochaux": "False",
         "HomeTeam_Den Haag": "False",
         "HomeTeam_West Brom": "False",
         "HomeTeam_Tranmere": "False",
         "HomeTeam_Dunkerque": "False",
         "HomeTeam_Sampdoria": "False",
         "HomeTeam_PSV Eindhoven": "False",
         "HomeTeam_Oldham": "False",
         "HomeTeam_Heidenheim": "False",
         "HomeTeam_Brighton": "False",
         "HomeTeam_AFC Wimbledon": "False",
         "HomeTeam_Malaga": "False",
         "HomeTeam_Almeria": "False",
         "HomeTeam_Nantes": "False",
         "HomeTeam_Wehen": "False",
         "HomeTeam_Vitesse": "False",
         "HomeTeam_Levante": "False",
         "HomeTeam_Novara": "False",
         "HomeTeam_Guimaraes": "False",
         "HomeTeam_Norwich": "False",
         "HomeTeam_Pacos Ferreira": "False",
         "HomeTeam_Chesterfield": "False",
         "HomeTeam_Inverness C": "False",
         "HomeTeam_Giannina": "False",
         "HomeTeam_Espanol": "False",
         "HomeTeam_Braunschweig": "False",
         "HomeTeam_Oostende": "False",
         "HomeTeam_Gil Vicente": "False",
         "HomeTeam_Maritimo": "False",
         "HomeTeam_Niort": "False",
         "HomeTeam_Ingolstadt": "False",
         "HomeTeam_Montrose": "False",
         "HomeTeam_Barnet": "False",
         "HomeTeam_Osnabruck": "False",
         "HomeTeam_Troyes": "False",
         "HomeTeam_Dijon": "False",
         "HomeTeam_Ajaccio GFCO": "False",
         "HomeTeam_Dundee": "False",
         "HomeTeam_Larisa": "False",
         "HomeTeam_Southend": "False",
         "HomeTeam_Verona": "False",
         "HomeTeam_Goztep": "False",
         "HomeTeam_Genoa": "False",
         "HomeTeam_Cambridge": "False",
         "HomeTeam_Graafschap": "False",
         "HomeTeam_Angers": "False",
         "HomeTeam_Ath Bilbao": "False",
         "HomeTeam_Charlton": "False",
         "HomeTeam_East Fife": "False",
         "HomeTeam_Club Brugge": "False",
         "HomeTeam_NAC Breda": "False",
         "HomeTeam_Las Palmas": "False",
         "HomeTeam_Lazio": "False",
         "HomeTeam_Seraing": "False",
         "HomeTeam_Reus Deportiu": "False",
         "HomeTeam_Ajax": "False",
         "HomeTeam_Lincoln": "False",
         "HomeTeam_Nancy": "False",
         "HomeTeam_Frosinone": "False",
         "HomeTeam_Hull": "False",
         "HomeTeam_Chaves": "False",
         "HomeTeam_Rio Ave": "False",
         "HomeTeam_Cesena": "False",
         "HomeTeam_Amorebieta": "False",
         "HomeTeam_Rizespor": "False",
         "HomeTeam_Milton Keynes Dons": "False",
         "HomeTeam_Volos NFC": "False",
         "HomeTeam_Nacional": "False",
         "HomeTeam_Kaiserslautern": "False",
         "HomeTeam_Castellon": "False",
         "HomeTeam_Berwick": "False",
         "HomeTeam_Osmanlispor": "False",
         "HomeTeam_Bologna": "False",
         "HomeTeam_Barnsley": "False",
         "HomeTeam_Brentford": "False",
         "HomeTeam_Brescia": "False",
         "HomeTeam_Leeds": "False",
         "HomeTeam_Lorca": "False",
         "HomeTeam_Exeter": "False",
         "HomeTeam_Heerenveen": "False",
         "HomeTeam_Pro Vercelli": "False",
         "HomeTeam_Carpi": "False",
         "HomeTeam_Derby": "False",
         "HomeTeam_Burgos": "False",
         "HomeTeam_Forest Green": "False",
         "HomeTeam_QPR": "False",
         "HomeTeam_Santa Clara": "False",
         "HomeTeam_Bursaspor": "False",
         "HomeTeam_Sp Braga": "False",
         "HomeTeam_Blackburn": "False",
         "HomeTeam_Nijmegen": "False",
         "HomeTeam_Rochdale": "False",
         "HomeTeam_Grimsby": "False",
         "HomeTeam_Newcastle": "False",
         "HomeTeam_Freiburg": "False",
         "HomeTeam_Red Star": "False",
         "HomeTeam_Juventus": "False",
         "HomeTeam_Guingamp": "False",
         "HomeTeam_Salernitana": "False",
         "HomeTeam_St Mirren": "False",
         "HomeTeam_Hertha": "False",
         "HomeTeam_Aston Villa": "False",
         "HomeTeam_Salford": "False",
         "HomeTeam_St Truiden": "False",
         "HomeTeam_Yeni Malatyaspor": "False",
         "HomeTeam_Dresden": "False",
         "HomeTeam_Stenhousemuir": "False",
         "HomeTeam_Spezia": "False",
         "HomeTeam_Ajaccio": "False",
         "HomeTeam_AZ Alkmaar": "False",
         "HomeTeam_Augsburg": "False",
         "HomeTeam_Cove Rangers": "False",
         "HomeTeam_Darmstadt": "False",
         "HomeTeam_Aris": "False",
         "HomeTeam_Cordoba": "False",
         "HomeTeam_Werder Bremen": "False",
         "HomeTeam_Hoffenheim": "False",
         "HomeTeam_Harrogate": "False",
         "HomeTeam_Crewe": "False",
         "HomeTeam_Edinburgh City": "False",
         "HomeTeam_Auxerre": "False",
         "HomeTeam_Crotone": "False",
         "HomeTeam_Genclerbirligi": "False",
         "HomeTeam_Ponferradina": "False",
         "HomeTeam_Akhisar Belediyespor": "False",
         "HomeTeam_Farense": "False",
         "HomeTeam_Galatasaray": "False",
         "HomeTeam_Wurzburger Kickers": "False",
         "HomeTeam_Bari": "False",
         "HomeTeam_Stranraer": "False",
         "HomeTeam_Man United": "False",
         "HomeTeam_Perugia": "False",
         "HomeTeam_Karabukspor": "False",
         "HomeTeam_Caen": "False",
         "HomeTeam_Nott'm Forest": "False",
         "HomeTeam_Bordeaux": "False",
         "HomeTeam_Livorno": "False",
         "HomeTeam_Monza": "False",
         "HomeTeam_Bristol Rvs": "False",
         "HomeTeam_Holstein Kiel": "False",
         "HomeTeam_Fiorentina": "False",
         "HomeTeam_Sivasspor": "False",
         "HomeTeam_Trabzonspor": "False",
         "HomeTeam_Cowdenbeath": "False",
         "HomeTeam_Elche": "False",
         "HomeTeam_Paris FC": "False",
         "HomeTeam_Pau FC": "False",
         "HomeTeam_Portimonense": "False",
         "HomeTeam_Lamia": "False",
         "HomeTeam_Newport County": "False",
         "HomeTeam_Northampton": "False",
         "HomeTeam_Celta": "False",
         "HomeTeam_Hatayspor": "False",
         "HomeTeam_FC Koln": "False",
         "HomeTeam_Sassuolo": "False",
         "HomeTeam_Feirense": "False",
         "HomeTeam_Erzurum BB": "False",
         "HomeTeam_Wolfsburg": "False",
         "HomeTeam_Albion Rvs": "False",
         "HomeTeam_Waalwijk": "False",
         "HomeTeam_Duisburg": "False",
         "HomeTeam_Girona": "False",
         "HomeTeam_Kortrijk": "False",
         "HomeTeam_Beerschot VA": "False",
         "HomeTeam_Hamilton": "False",
         "HomeTeam_Waregem": "False",
         "HomeTeam_Crystal Palace": "False",
         "HomeTeam_Belenenses": "False",
         "HomeTeam_Dortmund": "False",
         "HomeTeam_Logrones": "False",
         "HomeTeam_Plymouth": "False",
         "HomeTeam_Peterboro": "False",
         "HomeTeam_Raith Rvs": "False",
         "HomeTeam_Sparta Rotterdam": "False",
         "HomeTeam_Orleans": "False",
         "HomeTeam_Magdeburg": "False",
         "HomeTeam_Gimnastic": "False",
         "HomeTeam_Paderborn": "False",
         "HomeTeam_Valenciennes": "False",
         "HomeTeam_Dumbarton": "False",
         "HomeTeam_Ayr": "False",
         "HomeTeam_Gillingham": "False",
         "HomeTeam_Avellino": "False",
         "HomeTeam_Ross County": "False",
         "HomeTeam_Inter": "False",
         "HomeTeam_Millwall": "False",
         "HomeTeam_Notts County": "False",
         "HomeTeam_Venezia": "False",
         "HomeTeam_Albacete": "False",
         "HomeTeam_Fulham": "False",
         "HomeTeam_Spal": "False",
         "HomeTeam_Twente": "False",
         "HomeTeam_Numancia": "False",
         "HomeTeam_Pescara": "False",
         "HomeTeam_Montpellier": "False",
         "HomeTeam_Sandhausen": "False",
         "HomeTeam_Vicenza": "False",
         "HomeTeam_Groningen": "False",
         "HomeTeam_Wycombe": "False",
         "HomeTeam_Marseille": "False",
         "HomeTeam_Atromitos": "False",
         "HomeTeam_Reggiana": "False",
         "HomeTeam_Go Ahead Eagles": "False",
         "HomeTeam_Anderlecht": "False",
         "HomeTeam_Carlisle": "False",
         "HomeTeam_Apollon": "False",
         "HomeTeam_Alcorcon": "False",
         "HomeTeam_Oud-Heverlee Leuven": "False",
         "HomeTeam_Hartlepool": "False",
         "HomeTeam_Birmingham": "False",
         "HomeTeam_Antwerp": "False",
         "HomeTeam_St Etienne": "False",
         "HomeTeam_Queens Park": "False",
         "HomeTeam_Ath Madrid": "False",
         "HomeTeam_Metz": "False",
         "HomeTeam_Ipswich": "False",
         "HomeTeam_Reims": "False",
         "HomeTeam_Vizela": "False",
         "HomeTeam_Arbroath": "False",
         "HomeTeam_Sheffield United": "False",
         "HomeTeam_Swindon": "False",
         "HomeTeam_Rennes": "False",
         "HomeTeam_Mechelen": "False",
         "HomeTeam_Elgin": "False",
         "HomeTeam_Napoli": "False",
         "HomeTeam_Bolton": "False",
         "HomeTeam_Man City": "False",
         "HomeTeam_Genk": "False",
         "HomeTeam_Blackpool": "False",
         "HomeTeam_Lecce": "False",
         "HomeTeam_Buyuksehyr": "False",
         "HomeTeam_Eibar": "False",
         "HomeTeam_Torino": "False",
         "HomeTeam_Bournemouth": "False",
         "HomeTeam_Chievo": "False",
         "HomeTeam_Strasbourg": "False",
         "HomeTeam_Pisa": "False",
         "HomeTeam_Olympiakos": "False",
         "HomeTeam_Dunfermline": "False",
         "HomeTeam_Chateauroux": "False",
         "HomeTeam_Arouca": "False",
         "HomeTeam_Excelsior": "False",
         "HomeTeam_Ascoli": "False",
         "HomeTeam_St. Gilloise": "False",
         "HomeTeam_Feyenoord": "False",
         "HomeTeam_Partick": "False",
         "HomeTeam_Scunthorpe": "False",
         "HomeTeam_Stuttgart": "False",
         "HomeTeam_Bastia": "False",
         "HomeTeam_Chambly": "False",
         "HomeTeam_RB Leipzig": "False",
         "HomeTeam_Doncaster": "False",
         "HomeTeam_Lille": "False",
         "HomeTeam_Setubal": "False",
         "HomeTeam_Cheltenham": "False",
         "HomeTeam_Brechin": "False",
         "HomeTeam_Parma": "False",
         "HomeTeam_Swansea": "False",
         "HomeTeam_Famalicao": "False",
         "HomeTeam_Dundee United": "False",
         "HomeTeam_Alessandria": "False",
         "HomeTeam_Atalanta": "False",
         "HomeTeam_Clyde": "False",
         "HomeTeam_Huesca": "False",
         "HomeTeam_Empoli": "False",
         "HomeTeam_Stirling": "False",
         "HomeTeam_Burton": "False",
         "HomeTeam_Sevilla": "False",
         "HomeTeam_Celtic": "False",
         "HomeTeam_Macclesfield": "False",
         "HomeTeam_Virtus Entella": "False",
         "HomeTeam_Sutton": "False",
         "HomeTeam_Preston": "False",
         "HomeTeam_Como": "False",
         "HomeTeam_Greuther Furth": "False",
         "HomeTeam_Chelsea": "False",
         "HomeTeam_Lyon": "False",
         "HomeTeam_Fenerbahce": "False",
         "HomeTeam_Getafe": "False",
         "HomeTeam_Santander": "False",
         "HomeTeam_Walsall": "False",
         "HomeTeam_Udinese": "False",
         "HomeTeam_Tondela": "False",
         "HomeTeam_Nice": "False",
         "HomeTeam_Extremadura UD": "False",
         "HomeTeam_Besiktas": "False",
         "HomeTeam_Reggina": "False",
         "HomeTeam_Monaco": "False",
         "HomeTeam_Lugo": "False",
         "HomeTeam_Valladolid": "False",
         "HomeTeam_West Ham": "False",
         "HomeTeam_Padova": "False",
         "HomeTeam_Oxford": "False",
         "HomeTeam_La Coruna": "False",
         "HomeTeam_Port Vale": "False",
         "HomeTeam_Ein Frankfurt": "False",
         "HomeTeam_Crawley Town": "False",
         "HomeTeam_Antalyaspor": "False",
         "HomeTeam_Clermont": "False",
         "HomeTeam_Willem II": "False",
         "HomeTeam_Leyton Orient": "False",
         "HomeTeam_Alloa": "False",
         "HomeTeam_Betis": "False",
         "HomeTeam_Shrewsbury": "False",
         "HomeTeam_Sp Gijon": "False",
         "HomeTeam_Quevilly Rouen": "False",
         "HomeTeam_Roma": "False",
         "HomeTeam_Hansa Rostock": "False",
         "HomeTeam_Mirandes": "False",
         "HomeTeam_Huddersfield": "False",
         "HomeTeam_VVV Venlo": "False",
         "HomeTeam_Mouscron": "False",
         "HomeTeam_Tottenham": "False",
         "HomeTeam_Real Madrid": "False",
         "HomeTeam_AEK": "False",
         "HomeTeam_Watford": "False",
         "HomeTeam_Southampton": "False",
         "HomeTeam_Waasland-Beveren": "False",
         "HomeTeam_M'gladbach": "False",
         "HomeTeam_Nurnberg": "False",
         "HomeTeam_Tenerife": "False",
         "HomeTeam_Ternana": "False",
         "HomeTeam_Panathinaikos": "False",
         "HomeTeam_Stoke": "False",
         "HomeTeam_Peterhead": "False",
         "HomeTeam_Bury": "False",
         "HomeTeam_Palermo": "False",
         "HomeTeam_For Sittard": "False",
         "HomeTeam_Villarreal": "False",
         "HomeTeam_Cosenza": "False",
         "HomeTeam_Motherwell": "False",
         "HomeTeam_Lens": "False",
         "HomeTeam_Boavista": "False",
         "HomeTeam_Beziers": "False",
         "HomeTeam_Leicester": "False",
         "HomeTeam_Apollon Apollon": "False",
         "HomeTeam_Nimes": "False",
         "HomeTeam_Gaziantep": "False",
         "HomeTeam_Pordenone": "False",
         "HomeTeam_St Johnstone": "False",
         "HomeTeam_Panetolikos": "False",
         "HomeTeam_Roda": "False",
         "HomeTeam_FC Emmen": "False",
         "HomeTeam_Bristol City": "False",
         "HomeTeam_Everton": "True",
         "HomeTeam_Union Berlin": "False",
         "HomeTeam_Wigan": "False",
         "HomeTeam_Karlsruhe": "False",
         "HomeTeam_Brest": "False",
         "HomeTeam_Xanthi": "False",
         "HomeTeam_Fortuna Dusseldorf": "False",
         "HomeTeam_Kayserispor": "False",
         "HomeTeam_Le Havre": "False",
         "HomeTeam_Stevenage": "False",
         "HomeTeam_Schalke 04": "False",
         "HomeTeam_Altay": "False",
         "HomeTeam_Lorient": "False",
         "HomeTeam_Karagumruk": "False",
         "HomeTeam_Portsmouth": "False",
         "HomeTeam_Barcelona": "False",
         "HomeTeam_Vallecano": "False",
         "HomeTeam_Asteras Tripolis": "False",
         "HomeTeam_Hannover": "False",
         "HomeTeam_Konyaspor": "False",
         "HomeTeam_Toulouse": "False",
         "HomeTeam_Kilmarnock": "False",
         "HomeTeam_Osasuna": "False",
         "HomeTeam_Cagliari": "False",
         "HomeTeam_Giresunspor": "False",
         "HomeTeam_Mansfield": "False",
         "HomeTeam_Panionios": "False",
         "HomeTeam_Bochum": "False",
         "HomeTeam_Leonesa": "False",
         "HomeTeam_Ad. Demirspor": "False",
         "HomeTeam_Cercle Brugge": "False",
         "HomeTeam_Kasimpasa": "False",
         "HomeTeam_Le Mans": "False",
         "HomeTeam_Coventry": "False",
         "HomeTeam_Rayo Majadahonda": "False",
         "HomeTeam_Luton": "False",
         "HomeTeam_Yeovil": "False",
         "HomeTeam_Cambuur": "False",
         "HomeTeam_Annan Athletic": "False",
         "HomeTeam_Gent": "False",
         "HomeTeam_Cartagena": "False",
         "HomeTeam_Fleetwood Town": "False",
         "HomeTeam_Wolves": "False",
         "HomeTeam_Cadiz": "False",
         "HomeTeam_Juve Stabia": "False",
         "HomeTeam_Accrington": "False",
         "HomeTeam_Barrow": "False",
         "HomeTeam_Foggia": "False",
         "HomeTeam_Leverkusen": "False",
         "HomeTeam_Benevento": "False",
         "HomeTeam_Benfica": "False",
         "HomeTeam_Eupen": "False",
         "HomeTeam_Porto": "False",
         "HomeTeam_Rangers": "False",
         "HomeTeam_Hamburg": "False",
         "HomeTeam_Moreirense": "False",
         "HomeTeam_Standard": "False",
         "_deepnote_index_column": 4
        }
       ]
      },
      "text/plain": "   Country  League  Season  Match_Date       Home_Team     Away_Team  \\\n0  england       0    1718  2017-08-11         Arsenal     Leicester   \n1  england       0    1718  2017-08-12        Brighton      Man City   \n2  england       0    1718  2017-08-12  Crystal Palace  Huddersfield   \n3  england       0    1718  2017-08-12         Chelsea       Burnley   \n4  england       0    1718  2017-08-12         Everton         Stoke   \n\n   Full_Time_Home_Team_Goals  Full_Time_Away_Team_Goals Full_Time_Result  \\\n0                        4.0                        3.0                H   \n1                        0.0                        2.0                A   \n2                        0.0                        3.0                A   \n3                        2.0                        3.0                A   \n4                        1.0                        0.0                H   \n\n   Home_Team_Shots  ...  AwayTeam_Foggia  AwayTeam_Leverkusen  \\\n0             27.0  ...            False                False   \n1              6.0  ...            False                False   \n2             14.0  ...            False                False   \n3             19.0  ...            False                False   \n4              9.0  ...            False                False   \n\n   AwayTeam_Benevento  AwayTeam_Benfica  AwayTeam_Eupen  AwayTeam_Porto  \\\n0               False             False           False           False   \n1               False             False           False           False   \n2               False             False           False           False   \n3               False             False           False           False   \n4               False             False           False           False   \n\n   AwayTeam_Rangers  AwayTeam_Hamburg  AwayTeam_Moreirense  AwayTeam_Standard  \n0             False             False                False              False  \n1             False             False                False              False  \n2             False             False                False              False  \n3             False             False                False              False  \n4             False             False                False              False  \n\n[5 rows x 964 columns]",
      "text/html": "<div>\n<style scoped>\n    .dataframe tbody tr th:only-of-type {\n        vertical-align: middle;\n    }\n\n    .dataframe tbody tr th {\n        vertical-align: top;\n    }\n\n    .dataframe thead th {\n        text-align: right;\n    }\n</style>\n<table border=\"1\" class=\"dataframe\">\n  <thead>\n    <tr style=\"text-align: right;\">\n      <th></th>\n      <th>Country</th>\n      <th>League</th>\n      <th>Season</th>\n      <th>Match_Date</th>\n      <th>Home_Team</th>\n      <th>Away_Team</th>\n      <th>Full_Time_Home_Team_Goals</th>\n      <th>Full_Time_Away_Team_Goals</th>\n      <th>Full_Time_Result</th>\n      <th>Home_Team_Shots</th>\n      <th>...</th>\n      <th>AwayTeam_Foggia</th>\n      <th>AwayTeam_Leverkusen</th>\n      <th>AwayTeam_Benevento</th>\n      <th>AwayTeam_Benfica</th>\n      <th>AwayTeam_Eupen</th>\n      <th>AwayTeam_Porto</th>\n      <th>AwayTeam_Rangers</th>\n      <th>AwayTeam_Hamburg</th>\n      <th>AwayTeam_Moreirense</th>\n      <th>AwayTeam_Standard</th>\n    </tr>\n  </thead>\n  <tbody>\n    <tr>\n      <th>0</th>\n      <td>england</td>\n      <td>0</td>\n      <td>1718</td>\n      <td>2017-08-11</td>\n      <td>Arsenal</td>\n      <td>Leicester</td>\n      <td>4.0</td>\n      <td>3.0</td>\n      <td>H</td>\n      <td>27.0</td>\n      <td>...</td>\n      <td>False</td>\n      <td>False</td>\n      <td>False</td>\n      <td>False</td>\n      <td>False</td>\n      <td>False</td>\n      <td>False</td>\n      <td>False</td>\n      <td>False</td>\n      <td>False</td>\n    </tr>\n    <tr>\n      <th>1</th>\n      <td>england</td>\n      <td>0</td>\n      <td>1718</td>\n      <td>2017-08-12</td>\n      <td>Brighton</td>\n      <td>Man City</td>\n      <td>0.0</td>\n      <td>2.0</td>\n      <td>A</td>\n      <td>6.0</td>\n      <td>...</td>\n      <td>False</td>\n      <td>False</td>\n      <td>False</td>\n      <td>False</td>\n      <td>False</td>\n      <td>False</td>\n      <td>False</td>\n      <td>False</td>\n      <td>False</td>\n      <td>False</td>\n    </tr>\n    <tr>\n      <th>2</th>\n      <td>england</td>\n      <td>0</td>\n      <td>1718</td>\n      <td>2017-08-12</td>\n      <td>Crystal Palace</td>\n      <td>Huddersfield</td>\n      <td>0.0</td>\n      <td>3.0</td>\n      <td>A</td>\n      <td>14.0</td>\n      <td>...</td>\n      <td>False</td>\n      <td>False</td>\n      <td>False</td>\n      <td>False</td>\n      <td>False</td>\n      <td>False</td>\n      <td>False</td>\n      <td>False</td>\n      <td>False</td>\n      <td>False</td>\n    </tr>\n    <tr>\n      <th>3</th>\n      <td>england</td>\n      <td>0</td>\n      <td>1718</td>\n      <td>2017-08-12</td>\n      <td>Chelsea</td>\n      <td>Burnley</td>\n      <td>2.0</td>\n      <td>3.0</td>\n      <td>A</td>\n      <td>19.0</td>\n      <td>...</td>\n      <td>False</td>\n      <td>False</td>\n      <td>False</td>\n      <td>False</td>\n      <td>False</td>\n      <td>False</td>\n      <td>False</td>\n      <td>False</td>\n      <td>False</td>\n      <td>False</td>\n    </tr>\n    <tr>\n      <th>4</th>\n      <td>england</td>\n      <td>0</td>\n      <td>1718</td>\n      <td>2017-08-12</td>\n      <td>Everton</td>\n      <td>Stoke</td>\n      <td>1.0</td>\n      <td>0.0</td>\n      <td>H</td>\n      <td>9.0</td>\n      <td>...</td>\n      <td>False</td>\n      <td>False</td>\n      <td>False</td>\n      <td>False</td>\n      <td>False</td>\n      <td>False</td>\n      <td>False</td>\n      <td>False</td>\n      <td>False</td>\n      <td>False</td>\n    </tr>\n  </tbody>\n</table>\n<p>5 rows × 964 columns</p>\n</div>"
     },
     "metadata": {}
    }
   ]
  },
  {
   "cell_type": "code",
   "metadata": {
    "allow_embed": false,
    "source_hash": null,
    "execution_start": 1702772530627,
    "execution_millis": 36,
    "deepnote_to_be_reexecuted": false,
    "cell_id": "6eef92b97af64f2d90c13241d63ffa21",
    "deepnote_cell_type": "code"
   },
   "source": [
    "dummy_df_league_0 = dummy_df_league_0.drop(['Home_Team', 'Away_Team'], axis=1)\n",
    "\n",
    "\n",
    "dummies_country_l0 = pd.get_dummies(dummy_df_league_0['Country'])\n",
    "dummies_time_l0 = pd.get_dummies(dummy_df_league_0['Time_kick_off_bin'])\n",
    "\n",
    "\n",
    "dummy_df_league_0 = pd.concat([dummy_df_league_0, dummies_country_l0], axis=1)\n",
    "dummy_df_league_0 = pd.concat([dummy_df_league_0, dummies_time_l0], axis=1)\n",
    "\n",
    "\n",
    "dummy_df_league_0 = dummy_df_league_0.drop(['Country'], axis=1)\n",
    "dummy_df_league_0 = dummy_df_league_0.drop(['Time_kick_off_bin'], axis=1)"
   ],
   "block_group": "c70d355a0ea947f5a5e9805c8e0bb495",
   "execution_count": null,
   "outputs": []
  },
  {
   "cell_type": "code",
   "metadata": {
    "source_hash": null,
    "execution_start": 1702772530727,
    "execution_millis": 126,
    "deepnote_to_be_reexecuted": false,
    "cell_id": "b4e52c80d84845318cf1ad51ffb26213",
    "deepnote_cell_type": "code"
   },
   "source": [
    "dummy_df_league_1 = dummy_df_league_1.drop(['Home_Team', 'Away_Team'], axis=1)\n",
    "\n",
    "\n",
    "dummies_country_l1 = pd.get_dummies(dummy_df_league_1['Country'])\n",
    "dummies_time_l1 = pd.get_dummies(dummy_df_league_1['Time_kick_off_bin'])\n",
    "\n",
    "\n",
    "dummy_df_league_1 = pd.concat([dummy_df_league_1, dummies_country_l1], axis=1)\n",
    "dummy_df_league_1 = pd.concat([dummy_df_league_1, dummies_time_l1], axis=1)\n",
    "\n",
    "\n",
    "dummy_df_league_1 = dummy_df_league_1.drop(['Country'], axis=1)\n",
    "dummy_df_league_1 = dummy_df_league_1.drop(['Time_kick_off_bin'], axis=1)"
   ],
   "block_group": "948357607edc4f0bbaf4201fc4fd4856",
   "execution_count": null,
   "outputs": []
  },
  {
   "cell_type": "code",
   "metadata": {
    "allow_embed": false,
    "source_hash": null,
    "execution_start": 1702775279547,
    "execution_millis": 167,
    "deepnote_to_be_reexecuted": false,
    "cell_id": "833e08aaab3e4f70a4d636d9361544bc",
    "deepnote_cell_type": "code"
   },
   "source": [
    "dummy_df_league_2 = dummy_df_league_2.drop(['Home_Team', 'Away_Team'], axis=1)\n",
    "\n",
    "dummies_country_l2 = pd.get_dummies(dummy_df_league_2['Country'])\n",
    "dummies_time_l2 = pd.get_dummies(dummy_df_league_2['Time_kick_off_bin'])\n",
    "\n",
    "\n",
    "dummy_df_league_2 = pd.concat([dummy_df_league_2, dummies_country_l2], axis=1)\n",
    "dummy_df_league_2 = pd.concat([dummy_df_league_2, dummies_time_l2], axis=1)\n",
    "\n",
    "\n",
    "dummy_df_league_2 = dummy_df_league_2.drop(['Country'], axis=1)\n",
    "dummy_df_league_2 = dummy_df_league_2.drop(['Time_kick_off_bin'], axis=1)"
   ],
   "block_group": "f7d76b794bf64b74913c254e5f3a6c32",
   "execution_count": null,
   "outputs": []
  },
  {
   "cell_type": "code",
   "metadata": {
    "allow_embed": false,
    "source_hash": null,
    "execution_start": 1702775756859,
    "execution_millis": 65,
    "deepnote_to_be_reexecuted": false,
    "cell_id": "a97fa48a14ae4b6a8437b40edc05f571",
    "deepnote_cell_type": "code"
   },
   "source": [
    "dummy_df_league_3 = dummy_df_league_3.drop(['Home_Team', 'Away_Team'], axis=1)\n",
    "\n",
    "dummies_country_l3 = pd.get_dummies(dummy_df_league_3['Country'])\n",
    "dummies_time_l3 = pd.get_dummies(dummy_df_league_3['Time_kick_off_bin'])\n",
    "\n",
    "\n",
    "dummy_df_league_3 = pd.concat([dummy_df_league_3, dummies_country_l3], axis=1)\n",
    "dummy_df_league_3 = pd.concat([dummy_df_league_3, dummies_time_l3], axis=1)\n",
    "\n",
    "\n",
    "dummy_df_league_3 = dummy_df_league_3.drop(['Country'], axis=1)\n",
    "dummy_df_league_3 = dummy_df_league_3.drop(['Time_kick_off_bin'], axis=1)"
   ],
   "block_group": "59355a2f85d44dd1b164f5cb8d668e44",
   "execution_count": null,
   "outputs": []
  },
  {
   "cell_type": "code",
   "metadata": {
    "source_hash": null,
    "execution_start": 1702772713631,
    "execution_millis": 3707,
    "deepnote_to_be_reexecuted": false,
    "cell_id": "f33fd85f0e4e4770987b51e868eda188",
    "deepnote_cell_type": "code"
   },
   "source": [
    "dummy_df_league_0 = dummy_df_league_0.drop(['Match_Date'], axis=1)\n",
    "model_rf0 = RandomForestClassifier()\n",
    "X = dummy_df_league_0.drop('Full_Time_Result', axis=1)\n",
    "y = dummy_df_league_0['Full_Time_Result']\n",
    "X_train, X_test, y_train, y_test = train_test_split(X, y, test_size = 0.30, random_state=42)\n",
    "model_rf0.fit(X_train, y_train)\n",
    "model_rf0_predict = model_rf0.predict(X_test)\n",
    "\n",
    "\n",
    "print(f1_score(y_test, model_rf0_predict, average='weighted'))\n",
    "print(f1_score(y_test, model_rf0_predict, average='macro'))\n",
    "print(f1_score(y_test, model_rf0_predict, average='micro'))\n",
    "print(f1_score(y_test, model_rf0_predict, average=None))"
   ],
   "block_group": "7229e18d20324ed4969a790e2823b8e8",
   "execution_count": null,
   "outputs": [
    {
     "name": "stdout",
     "text": "0.7753639981538148\n0.7267190576402373\n0.7808535178777393\n[0.79456706 0.51612903 0.86946108]\n",
     "output_type": "stream"
    }
   ]
  },
  {
   "cell_type": "code",
   "metadata": {
    "source_hash": null,
    "execution_start": 1702772941252,
    "execution_millis": 18662,
    "deepnote_to_be_reexecuted": false,
    "cell_id": "dca4fd24a63a411da2bbd553f6b96ef4",
    "deepnote_cell_type": "code"
   },
   "source": [
    "dummy_df_league_1 = dummy_df_league_1.drop(['Match_Date'], axis=1)\n",
    "model_rf1 = RandomForestClassifier()\n",
    "X = dummy_df_league_1.drop('Full_Time_Result', axis=1)\n",
    "y = dummy_df_league_1['Full_Time_Result']\n",
    "X_train, X_test, y_train, y_test = train_test_split(X, y, test_size = 0.30, random_state=42)\n",
    "model_rf1.fit(X_train, y_train)\n",
    "model_rf1_predict = model_rf1.predict(X_test)\n",
    "\n",
    "\n",
    "print(f1_score(y_test, model_rf1_predict, average='weighted'))\n",
    "print(f1_score(y_test, model_rf1_predict, average='macro'))\n",
    "print(f1_score(y_test, model_rf1_predict, average='micro'))\n",
    "print(f1_score(y_test, model_rf1_predict, average=None))"
   ],
   "block_group": "c01e581248c84d5eb12ac38de0a484b8",
   "execution_count": null,
   "outputs": [
    {
     "name": "stdout",
     "text": "0.9021191207329659\n0.892708985231809\n0.9045879009338206\n[0.92748092 0.81695063 0.93369541]\n",
     "output_type": "stream"
    }
   ]
  },
  {
   "cell_type": "code",
   "metadata": {
    "source_hash": null,
    "execution_start": 1702772928871,
    "execution_millis": 12371,
    "deepnote_to_be_reexecuted": false,
    "cell_id": "eb5f42428738466dbc9a5892becc18f9",
    "deepnote_cell_type": "code"
   },
   "source": [
    "dummy_df_league_2 = dummy_df_league_2.drop(['Match_Date'], axis=1)\n",
    "model_rf2 = RandomForestClassifier()\n",
    "X = dummy_df_league_2.drop('Full_Time_Result', axis=1)\n",
    "y = dummy_df_league_2['Full_Time_Result']\n",
    "X_train, X_test, y_train, y_test = train_test_split(X, y, test_size = 0.30, random_state=42)\n",
    "model_rf2.fit(X_train, y_train)\n",
    "model_rf2_predict = model_rf2.predict(X_test)\n",
    "\n",
    "\n",
    "print(f1_score(y_test, model_rf2_predict, average='weighted'))\n",
    "print(f1_score(y_test, model_rf2_predict, average='macro'))\n",
    "print(f1_score(y_test, model_rf2_predict, average='micro'))\n",
    "print(f1_score(y_test, model_rf2_predict, average=None))"
   ],
   "block_group": "5721d4eeca124d6495a20977a7604eef",
   "execution_count": null,
   "outputs": [
    {
     "name": "stdout",
     "text": "0.890372929317603\n0.8837884562067441\n0.8913467794404685\n[0.89909297 0.82290437 0.92936803]\n",
     "output_type": "stream"
    }
   ]
  },
  {
   "cell_type": "code",
   "metadata": {
    "source_hash": null,
    "execution_start": 1702775772025,
    "execution_millis": 4640,
    "deepnote_to_be_reexecuted": false,
    "cell_id": "3b7cd9c380754effa800a268fd4bde01",
    "deepnote_cell_type": "code"
   },
   "source": [
    "dummy_df_league_3 = dummy_df_league_3.drop(['Match_Date'], axis=1)\n",
    "model_rf3 = RandomForestClassifier()\n",
    "X = dummy_df_league_3.drop('Full_Time_Result', axis=1)\n",
    "y = dummy_df_league_3['Full_Time_Result']\n",
    "X_train, X_test, y_train, y_test = train_test_split(X, y, test_size = 0.30, random_state=42)\n",
    "model_rf3.fit(X_train, y_train)\n",
    "model_rf3_predict = model_rf3.predict(X_test)\n",
    "\n",
    "\n",
    "print(f1_score(y_test, model_rf3_predict, average='weighted'))\n",
    "print(f1_score(y_test, model_rf3_predict, average='macro'))\n",
    "print(f1_score(y_test, model_rf3_predict, average='micro'))\n",
    "print(f1_score(y_test, model_rf3_predict, average=None))"
   ],
   "block_group": "a851d99e8a10427bb24561c79b9c535c",
   "execution_count": null,
   "outputs": [
    {
     "name": "stdout",
     "text": "0.832899689596082\n0.817619636738656\n0.842211055276382\n[0.86914378 0.68649886 0.89721627]\n",
     "output_type": "stream"
    }
   ]
  },
  {
   "cell_type": "code",
   "metadata": {
    "source_hash": null,
    "execution_start": 1702773341381,
    "execution_millis": 5680,
    "deepnote_to_be_reexecuted": false,
    "cell_id": "ce86929a4888475e9d378cc2403a78d0",
    "deepnote_cell_type": "code"
   },
   "source": [
    "model_lr0 = LogisticRegression(multi_class='multinomial', solver='lbfgs') # 'lbfgs' solver supports the multinomial option\n",
    "X = dummy_df_league_0.drop('Full_Time_Result', axis=1)\n",
    "y = dummy_df_league_0['Full_Time_Result']\n",
    "X_train, X_test, y_train, y_test = train_test_split(X, y, test_size = 0.30, random_state=42)\n",
    "model_lr0.fit(X_train, y_train)\n",
    "\n",
    "model_lr0_predict = model_lr0.predict(X_test)\n",
    "\n",
    "print(f1_score(y_test, model_lr0_predict, average='weighted'))\n",
    "print(f1_score(y_test, model_lr0_predict, average='macro'))\n",
    "print(f1_score(y_test, model_lr0_predict, average='micro'))\n",
    "print(f1_score(y_test, model_lr0_predict, average=None))"
   ],
   "block_group": "5182f772100c43e5ab38ec7c5b17c1cf",
   "execution_count": null,
   "outputs": [
    {
     "name": "stderr",
     "text": "/shared-libs/python3.9/py/lib/python3.9/site-packages/sklearn/linear_model/_logistic.py:444: ConvergenceWarning: lbfgs failed to converge (status=1):\nSTOP: TOTAL NO. of ITERATIONS REACHED LIMIT.\n\nIncrease the number of iterations (max_iter) or scale the data as shown in:\n    https://scikit-learn.org/stable/modules/preprocessing.html\nPlease also refer to the documentation for alternative solver options:\n    https://scikit-learn.org/stable/modules/linear_model.html#logistic-regression\n  n_iter_i = _check_optimize_result(\n0.7682677600848972\n0.7381781675904288\n0.770472895040369\n[0.79509632 0.53975904 0.87967914]\n",
     "output_type": "stream"
    }
   ]
  },
  {
   "cell_type": "code",
   "metadata": {
    "source_hash": null,
    "execution_start": 1702773576256,
    "execution_millis": 28132,
    "deepnote_to_be_reexecuted": false,
    "cell_id": "98874984b458405185bad96a771d86be",
    "deepnote_cell_type": "code"
   },
   "source": [
    "model_lr1 = LogisticRegression(multi_class='multinomial', solver='lbfgs') # 'lbfgs' solver supports the multinomial option\n",
    "X = dummy_df_league_1.drop('Full_Time_Result', axis=1)\n",
    "y = dummy_df_league_1['Full_Time_Result']\n",
    "X_train, X_test, y_train, y_test = train_test_split(X, y, test_size = 0.30, random_state=42)\n",
    "model_lr1.fit(X_train, y_train)\n",
    "\n",
    "model_lr1_predict = model_lr1.predict(X_test)\n",
    "\n",
    "print(f1_score(y_test, model_lr1_predict, average='weighted'))\n",
    "print(f1_score(y_test, model_lr1_predict, average='macro'))\n",
    "print(f1_score(y_test, model_lr1_predict, average='micro'))\n",
    "print(f1_score(y_test, model_lr1_predict, average=None))"
   ],
   "block_group": "28dced75b0f845bea818dd780df39dd3",
   "execution_count": null,
   "outputs": [
    {
     "name": "stderr",
     "text": "/shared-libs/python3.9/py/lib/python3.9/site-packages/sklearn/linear_model/_logistic.py:444: ConvergenceWarning: lbfgs failed to converge (status=1):\nSTOP: TOTAL NO. of ITERATIONS REACHED LIMIT.\n\nIncrease the number of iterations (max_iter) or scale the data as shown in:\n    https://scikit-learn.org/stable/modules/preprocessing.html\nPlease also refer to the documentation for alternative solver options:\n    https://scikit-learn.org/stable/modules/linear_model.html#logistic-regression\n  n_iter_i = _check_optimize_result(\n0.7275747723238666\n0.6956366247332583\n0.7427933414535121\n[0.77898663 0.46146482 0.84645842]\n",
     "output_type": "stream"
    }
   ]
  },
  {
   "cell_type": "code",
   "metadata": {
    "source_hash": null,
    "execution_start": 1702773633586,
    "execution_millis": 18838,
    "deepnote_to_be_reexecuted": false,
    "cell_id": "ac34b6d28c474325a319009d80f746a2",
    "deepnote_cell_type": "code"
   },
   "source": [
    "model_lr2 = LogisticRegression(multi_class='multinomial', solver='lbfgs') # 'lbfgs' solver supports the multinomial option\n",
    "X = dummy_df_league_2.drop('Full_Time_Result', axis=1)\n",
    "y = dummy_df_league_2['Full_Time_Result']\n",
    "X_train, X_test, y_train, y_test = train_test_split(X, y, test_size = 0.30, random_state=42)\n",
    "model_lr2.fit(X_train, y_train)\n",
    "\n",
    "model_lr2_predict = model_lr2.predict(X_test)\n",
    "\n",
    "print(f1_score(y_test, model_lr2_predict, average='weighted'))\n",
    "print(f1_score(y_test, model_lr2_predict, average='macro'))\n",
    "print(f1_score(y_test, model_lr2_predict, average='micro'))\n",
    "print(f1_score(y_test, model_lr2_predict, average=None))"
   ],
   "block_group": "bbe19157d29745e48739cfc140447188",
   "execution_count": null,
   "outputs": [
    {
     "name": "stderr",
     "text": "/shared-libs/python3.9/py/lib/python3.9/site-packages/sklearn/linear_model/_logistic.py:444: ConvergenceWarning: lbfgs failed to converge (status=1):\nSTOP: TOTAL NO. of ITERATIONS REACHED LIMIT.\n\nIncrease the number of iterations (max_iter) or scale the data as shown in:\n    https://scikit-learn.org/stable/modules/preprocessing.html\nPlease also refer to the documentation for alternative solver options:\n    https://scikit-learn.org/stable/modules/linear_model.html#logistic-regression\n  n_iter_i = _check_optimize_result(\n0.7333482198442776\n0.7158145884139819\n0.7358490566037735\n[0.7585034  0.55188679 0.83705357]\n",
     "output_type": "stream"
    }
   ]
  },
  {
   "cell_type": "code",
   "metadata": {
    "source_hash": null,
    "execution_start": 1702773667359,
    "execution_millis": 7732,
    "deepnote_to_be_reexecuted": false,
    "cell_id": "fc3f7d3b2ecd4e5396c1769fc411de43",
    "deepnote_cell_type": "code"
   },
   "source": [
    "model_lr3 = LogisticRegression(multi_class='multinomial', solver='lbfgs') # 'lbfgs' solver supports the multinomial option\n",
    "X = dummy_df_league_3.drop('Full_Time_Result', axis=1)\n",
    "y = dummy_df_league_3['Full_Time_Result']\n",
    "X_train, X_test, y_train, y_test = train_test_split(X, y, test_size = 0.30, random_state=42)\n",
    "model_lr3.fit(X_train, y_train)\n",
    "\n",
    "model_lr3_predict = model_lr3.predict(X_test)\n",
    "\n",
    "print(f1_score(y_test, model_lr3_predict, average='weighted'))\n",
    "print(f1_score(y_test, model_lr3_predict, average='macro'))\n",
    "print(f1_score(y_test, model_lr3_predict, average='micro'))\n",
    "print(f1_score(y_test, model_lr3_predict, average=None))"
   ],
   "block_group": "51095fcdd8c04bf0b3336f866d0bc4c9",
   "execution_count": null,
   "outputs": [
    {
     "name": "stderr",
     "text": "/shared-libs/python3.9/py/lib/python3.9/site-packages/sklearn/linear_model/_logistic.py:444: ConvergenceWarning: lbfgs failed to converge (status=1):\nSTOP: TOTAL NO. of ITERATIONS REACHED LIMIT.\n\nIncrease the number of iterations (max_iter) or scale the data as shown in:\n    https://scikit-learn.org/stable/modules/preprocessing.html\nPlease also refer to the documentation for alternative solver options:\n    https://scikit-learn.org/stable/modules/linear_model.html#logistic-regression\n  n_iter_i = _check_optimize_result(\n0.7878173701127366\n0.7675612163531514\n0.7919597989949749\n[0.82701812 0.60080645 0.87485908]\n",
     "output_type": "stream"
    }
   ]
  },
  {
   "cell_type": "code",
   "metadata": {
    "source_hash": null,
    "execution_start": 1702773887787,
    "execution_millis": 14750,
    "deepnote_to_be_reexecuted": false,
    "cell_id": "cd40cd40442240599993d40517e12337",
    "deepnote_cell_type": "code"
   },
   "source": [
    "model_SVC_0 = SVC()\n",
    "X = dummy_df_league_0.drop('Full_Time_Result', axis=1)\n",
    "y = dummy_df_league_0['Full_Time_Result']\n",
    "X_train, X_test, y_train, y_test = train_test_split(X, y, test_size = 0.30, random_state=42)\n",
    "# Train the model\n",
    "model_SVC_0.fit(X_train, y_train)\n",
    "model_SVC_0_predict = model_SVC_0.predict(X_test)\n",
    "print(\"\\nClassification Report:\\n\", classification_report(y_test, model_SVC_0_predict))"
   ],
   "block_group": "d15005d7b0894c02926c8bed1440a791",
   "execution_count": null,
   "outputs": [
    {
     "name": "stdout",
     "text": "\nClassification Report:\n               precision    recall  f1-score   support\n\n           A       0.00      0.00      0.00       286\n           D       0.00      0.00      0.00       213\n           H       0.42      1.00      0.60       368\n\n    accuracy                           0.42       867\n   macro avg       0.14      0.33      0.20       867\nweighted avg       0.18      0.42      0.25       867\n\n/shared-libs/python3.9/py/lib/python3.9/site-packages/sklearn/metrics/_classification.py:1334: UndefinedMetricWarning: Precision and F-score are ill-defined and being set to 0.0 in labels with no predicted samples. Use `zero_division` parameter to control this behavior.\n  _warn_prf(average, modifier, msg_start, len(result))\n/shared-libs/python3.9/py/lib/python3.9/site-packages/sklearn/metrics/_classification.py:1334: UndefinedMetricWarning: Precision and F-score are ill-defined and being set to 0.0 in labels with no predicted samples. Use `zero_division` parameter to control this behavior.\n  _warn_prf(average, modifier, msg_start, len(result))\n/shared-libs/python3.9/py/lib/python3.9/site-packages/sklearn/metrics/_classification.py:1334: UndefinedMetricWarning: Precision and F-score are ill-defined and being set to 0.0 in labels with no predicted samples. Use `zero_division` parameter to control this behavior.\n  _warn_prf(average, modifier, msg_start, len(result))\n",
     "output_type": "stream"
    }
   ]
  },
  {
   "cell_type": "code",
   "metadata": {
    "source_hash": null,
    "execution_start": 1702774010320,
    "execution_millis": 539962,
    "deepnote_to_be_reexecuted": false,
    "cell_id": "c97a8ae61f384554aad4485165488714",
    "deepnote_cell_type": "code"
   },
   "source": [
    "model_SVC_1 = SVC()\n",
    "X = dummy_df_league_1.drop('Full_Time_Result', axis=1)\n",
    "y = dummy_df_league_1['Full_Time_Result']\n",
    "X_train, X_test, y_train, y_test = train_test_split(X, y, test_size = 0.30, random_state=42)\n",
    "# Train the model\n",
    "model_SVC_1.fit(X_train, y_train)\n",
    "model_SVC_1_predict = model_SVC_1.predict(X_test)\n",
    "print(\"\\nClassification Report:\\n\", classification_report(y_test, model_SVC_1_predict))"
   ],
   "block_group": "b3c0b14aead944858f27aa0db9db4065",
   "execution_count": null,
   "outputs": [
    {
     "name": "stderr",
     "text": "/shared-libs/python3.9/py/lib/python3.9/site-packages/sklearn/metrics/_classification.py:1334: UndefinedMetricWarning: Precision and F-score are ill-defined and being set to 0.0 in labels with no predicted samples. Use `zero_division` parameter to control this behavior.\n  _warn_prf(average, modifier, msg_start, len(result))\n\nClassification Report:\n               precision    recall  f1-score   support\n\n           A       0.00      0.00      0.00      1547\n           D       0.00      0.00      0.00      1250\n           H       0.43      1.00      0.60      2129\n\n    accuracy                           0.43      4926\n   macro avg       0.14      0.33      0.20      4926\nweighted avg       0.19      0.43      0.26      4926\n\n/shared-libs/python3.9/py/lib/python3.9/site-packages/sklearn/metrics/_classification.py:1334: UndefinedMetricWarning: Precision and F-score are ill-defined and being set to 0.0 in labels with no predicted samples. Use `zero_division` parameter to control this behavior.\n  _warn_prf(average, modifier, msg_start, len(result))\n/shared-libs/python3.9/py/lib/python3.9/site-packages/sklearn/metrics/_classification.py:1334: UndefinedMetricWarning: Precision and F-score are ill-defined and being set to 0.0 in labels with no predicted samples. Use `zero_division` parameter to control this behavior.\n  _warn_prf(average, modifier, msg_start, len(result))\n",
     "output_type": "stream"
    }
   ]
  },
  {
   "cell_type": "code",
   "metadata": {
    "source_hash": null,
    "execution_start": 1702775446783,
    "execution_millis": 242654,
    "deepnote_to_be_reexecuted": false,
    "cell_id": "21a0b547be6f40f289bc4aafd4a32abd",
    "deepnote_cell_type": "code"
   },
   "source": [
    "model_SVC_2 = SVC()\n",
    "X = dummy_df_league_2.drop('Full_Time_Result', axis=1)\n",
    "y = dummy_df_league_2['Full_Time_Result']\n",
    "X_train, X_test, y_train, y_test = train_test_split(X, y, test_size = 0.30, random_state=42)\n",
    "# Train the model\n",
    "model_SVC_2.fit(X_train, y_train)\n",
    "model_SVC_2_predict = model_SVC_2.predict(X_test)\n",
    "print(\"\\nClassification Report:\\n\", classification_report(y_test, model_SVC_2_predict))"
   ],
   "block_group": "c91712fb37114a7e8f8c9e972bcd5ec2",
   "execution_count": null,
   "outputs": [
    {
     "name": "stdout",
     "text": "\nClassification Report:\n               precision    recall  f1-score   support\n\n           A       0.00      0.00      0.00       900\n           D       0.00      0.00      0.00       870\n           H       0.42      1.00      0.60      1304\n\n    accuracy                           0.42      3074\n   macro avg       0.14      0.33      0.20      3074\nweighted avg       0.18      0.42      0.25      3074\n\n/shared-libs/python3.9/py/lib/python3.9/site-packages/sklearn/metrics/_classification.py:1334: UndefinedMetricWarning: Precision and F-score are ill-defined and being set to 0.0 in labels with no predicted samples. Use `zero_division` parameter to control this behavior.\n  _warn_prf(average, modifier, msg_start, len(result))\n/shared-libs/python3.9/py/lib/python3.9/site-packages/sklearn/metrics/_classification.py:1334: UndefinedMetricWarning: Precision and F-score are ill-defined and being set to 0.0 in labels with no predicted samples. Use `zero_division` parameter to control this behavior.\n  _warn_prf(average, modifier, msg_start, len(result))\n/shared-libs/python3.9/py/lib/python3.9/site-packages/sklearn/metrics/_classification.py:1334: UndefinedMetricWarning: Precision and F-score are ill-defined and being set to 0.0 in labels with no predicted samples. Use `zero_division` parameter to control this behavior.\n  _warn_prf(average, modifier, msg_start, len(result))\n",
     "output_type": "stream"
    }
   ]
  },
  {
   "cell_type": "code",
   "metadata": {
    "source_hash": null,
    "execution_start": 1702775791773,
    "execution_millis": 24566,
    "deepnote_to_be_reexecuted": false,
    "cell_id": "9ddcb74885d84dfaaf158b95207466f4",
    "deepnote_cell_type": "code"
   },
   "source": [
    "model_SVC_3 = SVC()\n",
    "X = dummy_df_league_3.drop('Full_Time_Result', axis=1)\n",
    "y = dummy_df_league_3['Full_Time_Result']\n",
    "X_train, X_test, y_train, y_test = train_test_split(X, y, test_size = 0.30, random_state=42)\n",
    "# Train the model\n",
    "model_SVC_3.fit(X_train, y_train)\n",
    "model_SVC_3_predict = model_SVC_3.predict(X_test)\n",
    "print(\"\\nClassification Report:\\n\", classification_report(y_test, model_SVC_3_predict))"
   ],
   "block_group": "5f7fb5f1276e471698c3b01fe4b7c695",
   "execution_count": null,
   "outputs": [
    {
     "name": "stdout",
     "text": "\nClassification Report:\n               precision    recall  f1-score   support\n\n           A       0.00      0.00      0.00       298\n           D       0.00      0.00      0.00       264\n           H       0.44      1.00      0.61       433\n\n    accuracy                           0.44       995\n   macro avg       0.15      0.33      0.20       995\nweighted avg       0.19      0.44      0.26       995\n\n/shared-libs/python3.9/py/lib/python3.9/site-packages/sklearn/metrics/_classification.py:1334: UndefinedMetricWarning: Precision and F-score are ill-defined and being set to 0.0 in labels with no predicted samples. Use `zero_division` parameter to control this behavior.\n  _warn_prf(average, modifier, msg_start, len(result))\n/shared-libs/python3.9/py/lib/python3.9/site-packages/sklearn/metrics/_classification.py:1334: UndefinedMetricWarning: Precision and F-score are ill-defined and being set to 0.0 in labels with no predicted samples. Use `zero_division` parameter to control this behavior.\n  _warn_prf(average, modifier, msg_start, len(result))\n/shared-libs/python3.9/py/lib/python3.9/site-packages/sklearn/metrics/_classification.py:1334: UndefinedMetricWarning: Precision and F-score are ill-defined and being set to 0.0 in labels with no predicted samples. Use `zero_division` parameter to control this behavior.\n  _warn_prf(average, modifier, msg_start, len(result))\n",
     "output_type": "stream"
    }
   ]
  },
  {
   "cell_type": "code",
   "metadata": {
    "source_hash": null,
    "execution_start": 1702775960587,
    "execution_millis": 287,
    "deepnote_to_be_reexecuted": false,
    "cell_id": "80315130318b45cba9996cd44bc6ab88",
    "deepnote_cell_type": "code"
   },
   "source": [
    "# Create a Decision Tree classifier\n",
    "model_DT_0 = DecisionTreeClassifier()\n",
    "\n",
    "# Train the model\n",
    "model_DT_0.fit(X_train, y_train)\n",
    "# Predictions\n",
    "model_DT_0_predict = model_DT_0.predict(X_test)\n",
    "\n",
    "# Evaluation\n",
    "print(\"Confusion Matrix:\\n\", confusion_matrix(y_test, model_DT_0_predict))\n",
    "print(\"\\nClassification Report:\\n\", classification_report(y_test, model_DT_0_predict))"
   ],
   "block_group": "e4cfd74379c14bba9e6a0d8bdf6b4d30",
   "execution_count": null,
   "outputs": [
    {
     "name": "stdout",
     "text": "Confusion Matrix:\n [[298   0   0]\n [  0 264   0]\n [  0   0 433]]\n\nClassification Report:\n               precision    recall  f1-score   support\n\n           A       1.00      1.00      1.00       298\n           D       1.00      1.00      1.00       264\n           H       1.00      1.00      1.00       433\n\n    accuracy                           1.00       995\n   macro avg       1.00      1.00      1.00       995\nweighted avg       1.00      1.00      1.00       995\n\n",
     "output_type": "stream"
    }
   ]
  },
  {
   "cell_type": "code",
   "metadata": {
    "source_hash": null,
    "execution_start": 1702775967930,
    "execution_millis": 296,
    "deepnote_to_be_reexecuted": false,
    "cell_id": "05f415afa2144ae28a694f885447b1da",
    "deepnote_cell_type": "code"
   },
   "source": [
    "# Create a Decision Tree classifier\n",
    "model_DT_1 = DecisionTreeClassifier()\n",
    "\n",
    "# Train the model\n",
    "model_DT_1.fit(X_train, y_train)\n",
    "# Predictions\n",
    "model_DT_1_predict = model_DT_1.predict(X_test)\n",
    "\n",
    "# Evaluation\n",
    "print(\"Confusion Matrix:\\n\", confusion_matrix(y_test, model_DT_1_predict))\n",
    "print(\"\\nClassification Report:\\n\", classification_report(y_test, model_DT_1_predict))"
   ],
   "block_group": "9aeac8676c9944a8956a69250d5fc45a",
   "execution_count": null,
   "outputs": [
    {
     "name": "stdout",
     "text": "Confusion Matrix:\n [[298   0   0]\n [  0 264   0]\n [  0   0 433]]\n\nClassification Report:\n               precision    recall  f1-score   support\n\n           A       1.00      1.00      1.00       298\n           D       1.00      1.00      1.00       264\n           H       1.00      1.00      1.00       433\n\n    accuracy                           1.00       995\n   macro avg       1.00      1.00      1.00       995\nweighted avg       1.00      1.00      1.00       995\n\n",
     "output_type": "stream"
    }
   ]
  },
  {
   "cell_type": "code",
   "metadata": {
    "source_hash": null,
    "execution_start": 1702775971958,
    "execution_millis": 282,
    "deepnote_to_be_reexecuted": false,
    "cell_id": "0c247c6021784fd9a539aec9e226be9a",
    "deepnote_cell_type": "code"
   },
   "source": [
    "# Create a Decision Tree classifier\n",
    "model_DT_2 = DecisionTreeClassifier()\n",
    "\n",
    "# Train the model\n",
    "model_DT_2.fit(X_train, y_train)\n",
    "# Predictions\n",
    "model_DT_2_predict = model_DT_2.predict(X_test)\n",
    "\n",
    "# Evaluation\n",
    "print(\"Confusion Matrix:\\n\", confusion_matrix(y_test, model_DT_2_predict))\n",
    "print(\"\\nClassification Report:\\n\", classification_report(y_test, model_DT_2_predict))"
   ],
   "block_group": "624d289c857347af9d399183fd852c7d",
   "execution_count": null,
   "outputs": [
    {
     "name": "stdout",
     "text": "Confusion Matrix:\n [[298   0   0]\n [  0 264   0]\n [  0   0 433]]\n\nClassification Report:\n               precision    recall  f1-score   support\n\n           A       1.00      1.00      1.00       298\n           D       1.00      1.00      1.00       264\n           H       1.00      1.00      1.00       433\n\n    accuracy                           1.00       995\n   macro avg       1.00      1.00      1.00       995\nweighted avg       1.00      1.00      1.00       995\n\n",
     "output_type": "stream"
    }
   ]
  },
  {
   "cell_type": "code",
   "metadata": {
    "source_hash": null,
    "execution_start": 1702775975841,
    "execution_millis": 374,
    "deepnote_to_be_reexecuted": false,
    "cell_id": "121fc26628df40a29277010248e367d8",
    "deepnote_cell_type": "code"
   },
   "source": [
    "j# Create a Decision Tree classifier\n",
    "model_DT_3 = DecisionTreeClassifier()\n",
    "\n",
    "# Train the model\n",
    "model_DT_3.fit(X_train, y_train)\n",
    "# Predictions\n",
    "model_DT_3_predict = model_DT_3.predict(X_test)\n",
    "\n",
    "# Evaluation\n",
    "print(\"Confusion Matrix:\\n\", confusion_matrix(y_test, model_DT_3_predict))\n",
    "print(\"\\nClassification Report:\\n\", classification_report(y_test, model_DT_3_predict))"
   ],
   "block_group": "8d9d9531fdcb42f4baf9177033d42bbb",
   "execution_count": null,
   "outputs": [
    {
     "name": "stdout",
     "text": "Confusion Matrix:\n [[298   0   0]\n [  0 264   0]\n [  0   0 433]]\n\nClassification Report:\n               precision    recall  f1-score   support\n\n           A       1.00      1.00      1.00       298\n           D       1.00      1.00      1.00       264\n           H       1.00      1.00      1.00       433\n\n    accuracy                           1.00       995\n   macro avg       1.00      1.00      1.00       995\nweighted avg       1.00      1.00      1.00       995\n\n",
     "output_type": "stream"
    }
   ]
  },
  {
   "cell_type": "code",
   "metadata": {
    "cell_id": "088af768543546caaf62695eede6a426",
    "deepnote_cell_type": "code"
   },
   "source": [],
   "block_group": "dec240bf0a8c40d196a8ac4580b9c7f2",
   "execution_count": null,
   "outputs": []
  },
  {
   "cell_type": "markdown",
   "metadata": {
    "formattedRanges": [],
    "cell_id": "0c4fb564f17e4c11a7f10845375790dd",
    "deepnote_cell_type": "text-cell-h1"
   },
   "source": [
    "# Hlavni nadrazi model"
   ],
   "block_group": "7aa23f4358c74c00892fa46b6e00b101"
  },
  {
   "cell_type": "code",
   "metadata": {
    "source_hash": null,
    "execution_start": 1702761891116,
    "execution_millis": 236,
    "deepnote_to_be_reexecuted": false,
    "cell_id": "c26fc174aada436b90349f747275ef6b",
    "deepnote_cell_type": "code"
   },
   "source": [
    "\n",
    "dummies_country = pd.get_dummies(dummy_train_df['Country'])\n",
    "dummies_time = pd.get_dummies(dummy_train_df['Time_kick_off_bin'])\n",
    "\n",
    "\n",
    "dummy_train_df = pd.concat([dummy_train_df, dummies_country], axis=1)\n",
    "dummy_train_df = pd.concat([dummy_train_df, dummies_time], axis=1)\n",
    "\n",
    "\n",
    "dummy_train_df = dummy_train_df.drop(['Country'], axis=1)\n",
    "dummy_train_df = dummy_train_df.drop(['Time_kick_off_bin'], axis=1)"
   ],
   "block_group": "049b2623523b4369965917df50d5d606",
   "execution_count": null,
   "outputs": []
  },
  {
   "cell_type": "code",
   "metadata": {
    "allow_embed": false,
    "source_hash": null,
    "execution_start": 1702762031179,
    "execution_millis": 29,
    "deepnote_to_be_reexecuted": false,
    "cell_id": "74f6698458914be2986a22d90d82cdc9",
    "deepnote_cell_type": "code"
   },
   "source": [
    "dummy_train_df = dummy_train_df.drop(['Match_Date'], axis=1)"
   ],
   "block_group": "cb3dc9cff5354ffebad2f3fc7c44bc0f",
   "execution_count": null,
   "outputs": []
  },
  {
   "cell_type": "code",
   "metadata": {
    "allow_embed": false,
    "source_hash": null,
    "execution_start": 1702761891355,
    "execution_millis": 5842,
    "deepnote_to_be_reexecuted": false,
    "cell_id": "6408d32fd62e4950ace79de98c77e36c",
    "deepnote_cell_type": "code"
   },
   "source": [
    "dummy_train_df.head()"
   ],
   "block_group": "cf9b67267e9c4e60957fbe103518ffa8",
   "execution_count": null,
   "outputs": [
    {
     "output_type": "execute_result",
     "execution_count": 11,
     "data": {
      "application/vnd.deepnote.dataframe.v3+json": {
       "column_count": 975,
       "row_count": 5,
       "columns": [
        {
         "name": "League",
         "dtype": "int64",
         "stats": {
          "unique_count": 1,
          "nan_count": 0,
          "min": "1",
          "max": "1",
          "histogram": [
           {
            "bin_start": 0.5,
            "bin_end": 0.6,
            "count": 0
           },
           {
            "bin_start": 0.6,
            "bin_end": 0.7,
            "count": 0
           },
           {
            "bin_start": 0.7,
            "bin_end": 0.8,
            "count": 0
           },
           {
            "bin_start": 0.8,
            "bin_end": 0.9,
            "count": 0
           },
           {
            "bin_start": 0.9,
            "bin_end": 1,
            "count": 0
           },
           {
            "bin_start": 1,
            "bin_end": 1.1,
            "count": 5
           },
           {
            "bin_start": 1.1,
            "bin_end": 1.2000000000000002,
            "count": 0
           },
           {
            "bin_start": 1.2000000000000002,
            "bin_end": 1.3,
            "count": 0
           },
           {
            "bin_start": 1.3,
            "bin_end": 1.4,
            "count": 0
           },
           {
            "bin_start": 1.4,
            "bin_end": 1.5,
            "count": 0
           }
          ]
         }
        },
        {
         "name": "Season",
         "dtype": "int64",
         "stats": {
          "unique_count": 1,
          "nan_count": 0,
          "min": "1920",
          "max": "1920",
          "histogram": [
           {
            "bin_start": 1919.5,
            "bin_end": 1919.6,
            "count": 0
           },
           {
            "bin_start": 1919.6,
            "bin_end": 1919.7,
            "count": 0
           },
           {
            "bin_start": 1919.7,
            "bin_end": 1919.8,
            "count": 0
           },
           {
            "bin_start": 1919.8,
            "bin_end": 1919.9,
            "count": 0
           },
           {
            "bin_start": 1919.9,
            "bin_end": 1920,
            "count": 0
           },
           {
            "bin_start": 1920,
            "bin_end": 1920.1,
            "count": 5
           },
           {
            "bin_start": 1920.1,
            "bin_end": 1920.2,
            "count": 0
           },
           {
            "bin_start": 1920.2,
            "bin_end": 1920.3,
            "count": 0
           },
           {
            "bin_start": 1920.3,
            "bin_end": 1920.4,
            "count": 0
           },
           {
            "bin_start": 1920.4,
            "bin_end": 1920.5,
            "count": 0
           }
          ]
         }
        },
        {
         "name": "Match_Date",
         "dtype": "object",
         "stats": {
          "unique_count": 2,
          "nan_count": 0,
          "categories": [
           {
            "name": "2019-07-27",
            "count": 4
           },
           {
            "name": "2019-07-26",
            "count": 1
           }
          ]
         }
        },
        {
         "name": "Full_Time_Home_Team_Goals",
         "dtype": "float64",
         "stats": {
          "unique_count": 3,
          "nan_count": 0,
          "min": "0.0",
          "max": "2.0",
          "histogram": [
           {
            "bin_start": 0,
            "bin_end": 0.2,
            "count": 3
           },
           {
            "bin_start": 0.2,
            "bin_end": 0.4,
            "count": 0
           },
           {
            "bin_start": 0.4,
            "bin_end": 0.6000000000000001,
            "count": 0
           },
           {
            "bin_start": 0.6000000000000001,
            "bin_end": 0.8,
            "count": 0
           },
           {
            "bin_start": 0.8,
            "bin_end": 1,
            "count": 0
           },
           {
            "bin_start": 1,
            "bin_end": 1.2000000000000002,
            "count": 1
           },
           {
            "bin_start": 1.2000000000000002,
            "bin_end": 1.4000000000000001,
            "count": 0
           },
           {
            "bin_start": 1.4000000000000001,
            "bin_end": 1.6,
            "count": 0
           },
           {
            "bin_start": 1.6,
            "bin_end": 1.8,
            "count": 0
           },
           {
            "bin_start": 1.8,
            "bin_end": 2,
            "count": 1
           }
          ]
         }
        },
        {
         "name": "Full_Time_Away_Team_Goals",
         "dtype": "float64",
         "stats": {
          "unique_count": 3,
          "nan_count": 0,
          "min": "1.0",
          "max": "3.0",
          "histogram": [
           {
            "bin_start": 1,
            "bin_end": 1.2,
            "count": 2
           },
           {
            "bin_start": 1.2,
            "bin_end": 1.4,
            "count": 0
           },
           {
            "bin_start": 1.4,
            "bin_end": 1.6,
            "count": 0
           },
           {
            "bin_start": 1.6,
            "bin_end": 1.8,
            "count": 0
           },
           {
            "bin_start": 1.8,
            "bin_end": 2,
            "count": 0
           },
           {
            "bin_start": 2,
            "bin_end": 2.2,
            "count": 2
           },
           {
            "bin_start": 2.2,
            "bin_end": 2.4000000000000004,
            "count": 0
           },
           {
            "bin_start": 2.4000000000000004,
            "bin_end": 2.6,
            "count": 0
           },
           {
            "bin_start": 2.6,
            "bin_end": 2.8,
            "count": 0
           },
           {
            "bin_start": 2.8,
            "bin_end": 3,
            "count": 1
           }
          ]
         }
        },
        {
         "name": "Full_Time_Result",
         "dtype": "category",
         "stats": {
          "unique_count": 2,
          "nan_count": 0,
          "categories": [
           {
            "name": "A",
            "count": 4
           },
           {
            "name": "H",
            "count": 1
           }
          ]
         }
        },
        {
         "name": "Home_Team_Shots",
         "dtype": "float64",
         "stats": {
          "unique_count": 3,
          "nan_count": 0,
          "min": "7.0",
          "max": "13.0",
          "histogram": [
           {
            "bin_start": 7,
            "bin_end": 7.6,
            "count": 2
           },
           {
            "bin_start": 7.6,
            "bin_end": 8.2,
            "count": 0
           },
           {
            "bin_start": 8.2,
            "bin_end": 8.8,
            "count": 0
           },
           {
            "bin_start": 8.8,
            "bin_end": 9.4,
            "count": 0
           },
           {
            "bin_start": 9.4,
            "bin_end": 10,
            "count": 0
           },
           {
            "bin_start": 10,
            "bin_end": 10.6,
            "count": 2
           },
           {
            "bin_start": 10.6,
            "bin_end": 11.2,
            "count": 0
           },
           {
            "bin_start": 11.2,
            "bin_end": 11.8,
            "count": 0
           },
           {
            "bin_start": 11.8,
            "bin_end": 12.399999999999999,
            "count": 0
           },
           {
            "bin_start": 12.399999999999999,
            "bin_end": 13,
            "count": 1
           }
          ]
         }
        },
        {
         "name": "Away_Team_Shots",
         "dtype": "float64",
         "stats": {
          "unique_count": 4,
          "nan_count": 0,
          "min": "8.0",
          "max": "25.0",
          "histogram": [
           {
            "bin_start": 8,
            "bin_end": 9.7,
            "count": 1
           },
           {
            "bin_start": 9.7,
            "bin_end": 11.4,
            "count": 2
           },
           {
            "bin_start": 11.4,
            "bin_end": 13.1,
            "count": 0
           },
           {
            "bin_start": 13.1,
            "bin_end": 14.8,
            "count": 1
           },
           {
            "bin_start": 14.8,
            "bin_end": 16.5,
            "count": 0
           },
           {
            "bin_start": 16.5,
            "bin_end": 18.2,
            "count": 0
           },
           {
            "bin_start": 18.2,
            "bin_end": 19.9,
            "count": 0
           },
           {
            "bin_start": 19.9,
            "bin_end": 21.6,
            "count": 0
           },
           {
            "bin_start": 21.6,
            "bin_end": 23.299999999999997,
            "count": 0
           },
           {
            "bin_start": 23.299999999999997,
            "bin_end": 25,
            "count": 1
           }
          ]
         }
        },
        {
         "name": "Home_Team_Shots_on_Target",
         "dtype": "float64",
         "stats": {
          "unique_count": 3,
          "nan_count": 0,
          "min": "2.0",
          "max": "5.0",
          "histogram": [
           {
            "bin_start": 2,
            "bin_end": 2.3,
            "count": 3
           },
           {
            "bin_start": 2.3,
            "bin_end": 2.6,
            "count": 0
           },
           {
            "bin_start": 2.6,
            "bin_end": 2.9,
            "count": 0
           },
           {
            "bin_start": 2.9,
            "bin_end": 3.2,
            "count": 0
           },
           {
            "bin_start": 3.2,
            "bin_end": 3.5,
            "count": 0
           },
           {
            "bin_start": 3.5,
            "bin_end": 3.8,
            "count": 0
           },
           {
            "bin_start": 3.8,
            "bin_end": 4.1,
            "count": 1
           },
           {
            "bin_start": 4.1,
            "bin_end": 4.4,
            "count": 0
           },
           {
            "bin_start": 4.4,
            "bin_end": 4.699999999999999,
            "count": 0
           },
           {
            "bin_start": 4.699999999999999,
            "bin_end": 5,
            "count": 1
           }
          ]
         }
        },
        {
         "name": "Away_Team_Shots_on_Target",
         "dtype": "float64",
         "stats": {
          "unique_count": 5,
          "nan_count": 0,
          "min": "4.0",
          "max": "22.0",
          "histogram": [
           {
            "bin_start": 4,
            "bin_end": 5.8,
            "count": 2
           },
           {
            "bin_start": 5.8,
            "bin_end": 7.6,
            "count": 1
           },
           {
            "bin_start": 7.6,
            "bin_end": 9.4,
            "count": 1
           },
           {
            "bin_start": 9.4,
            "bin_end": 11.2,
            "count": 0
           },
           {
            "bin_start": 11.2,
            "bin_end": 13,
            "count": 0
           },
           {
            "bin_start": 13,
            "bin_end": 14.8,
            "count": 0
           },
           {
            "bin_start": 14.8,
            "bin_end": 16.6,
            "count": 0
           },
           {
            "bin_start": 16.6,
            "bin_end": 18.4,
            "count": 0
           },
           {
            "bin_start": 18.4,
            "bin_end": 20.2,
            "count": 0
           },
           {
            "bin_start": 20.2,
            "bin_end": 22,
            "count": 1
           }
          ]
         }
        },
        {
         "name": "Home_Team_Corners",
         "dtype": "float64",
         "stats": {
          "unique_count": 5,
          "nan_count": 0,
          "min": "1.0",
          "max": "6.0",
          "histogram": [
           {
            "bin_start": 1,
            "bin_end": 1.5,
            "count": 1
           },
           {
            "bin_start": 1.5,
            "bin_end": 2,
            "count": 0
           },
           {
            "bin_start": 2,
            "bin_end": 2.5,
            "count": 0
           },
           {
            "bin_start": 2.5,
            "bin_end": 3,
            "count": 0
           },
           {
            "bin_start": 3,
            "bin_end": 3.5,
            "count": 1
           },
           {
            "bin_start": 3.5,
            "bin_end": 4,
            "count": 0
           },
           {
            "bin_start": 4,
            "bin_end": 4.5,
            "count": 1
           },
           {
            "bin_start": 4.5,
            "bin_end": 5,
            "count": 0
           },
           {
            "bin_start": 5,
            "bin_end": 5.5,
            "count": 1
           },
           {
            "bin_start": 5.5,
            "bin_end": 6,
            "count": 1
           }
          ]
         }
        },
        {
         "name": "Away_Team_Corners",
         "dtype": "float64",
         "stats": {
          "unique_count": 4,
          "nan_count": 0,
          "min": "2.0",
          "max": "14.0",
          "histogram": [
           {
            "bin_start": 2,
            "bin_end": 3.2,
            "count": 2
           },
           {
            "bin_start": 3.2,
            "bin_end": 4.4,
            "count": 0
           },
           {
            "bin_start": 4.4,
            "bin_end": 5.6,
            "count": 1
           },
           {
            "bin_start": 5.6,
            "bin_end": 6.8,
            "count": 0
           },
           {
            "bin_start": 6.8,
            "bin_end": 8,
            "count": 1
           },
           {
            "bin_start": 8,
            "bin_end": 9.2,
            "count": 0
           },
           {
            "bin_start": 9.2,
            "bin_end": 10.4,
            "count": 0
           },
           {
            "bin_start": 10.4,
            "bin_end": 11.6,
            "count": 0
           },
           {
            "bin_start": 11.6,
            "bin_end": 12.799999999999999,
            "count": 0
           },
           {
            "bin_start": 12.799999999999999,
            "bin_end": 14,
            "count": 1
           }
          ]
         }
        },
        {
         "name": "Home_Team_Yellow_Cards",
         "dtype": "float64",
         "stats": {
          "unique_count": 3,
          "nan_count": 0,
          "min": "0.0",
          "max": "3.0",
          "histogram": [
           {
            "bin_start": 0,
            "bin_end": 0.3,
            "count": 1
           },
           {
            "bin_start": 0.3,
            "bin_end": 0.6,
            "count": 0
           },
           {
            "bin_start": 0.6,
            "bin_end": 0.8999999999999999,
            "count": 0
           },
           {
            "bin_start": 0.8999999999999999,
            "bin_end": 1.2,
            "count": 0
           },
           {
            "bin_start": 1.2,
            "bin_end": 1.5,
            "count": 0
           },
           {
            "bin_start": 1.5,
            "bin_end": 1.7999999999999998,
            "count": 0
           },
           {
            "bin_start": 1.7999999999999998,
            "bin_end": 2.1,
            "count": 2
           },
           {
            "bin_start": 2.1,
            "bin_end": 2.4,
            "count": 0
           },
           {
            "bin_start": 2.4,
            "bin_end": 2.6999999999999997,
            "count": 0
           },
           {
            "bin_start": 2.6999999999999997,
            "bin_end": 3,
            "count": 2
           }
          ]
         }
        },
        {
         "name": "Away_Team_Yellow_Cards",
         "dtype": "float64",
         "stats": {
          "unique_count": 3,
          "nan_count": 0,
          "min": "1.0",
          "max": "4.0",
          "histogram": [
           {
            "bin_start": 1,
            "bin_end": 1.3,
            "count": 3
           },
           {
            "bin_start": 1.3,
            "bin_end": 1.6,
            "count": 0
           },
           {
            "bin_start": 1.6,
            "bin_end": 1.9,
            "count": 0
           },
           {
            "bin_start": 1.9,
            "bin_end": 2.2,
            "count": 1
           },
           {
            "bin_start": 2.2,
            "bin_end": 2.5,
            "count": 0
           },
           {
            "bin_start": 2.5,
            "bin_end": 2.8,
            "count": 0
           },
           {
            "bin_start": 2.8,
            "bin_end": 3.1,
            "count": 0
           },
           {
            "bin_start": 3.1,
            "bin_end": 3.4,
            "count": 0
           },
           {
            "bin_start": 3.4,
            "bin_end": 3.6999999999999997,
            "count": 0
           },
           {
            "bin_start": 3.6999999999999997,
            "bin_end": 4,
            "count": 1
           }
          ]
         }
        },
        {
         "name": "Home_Team_Red_Cards",
         "dtype": "float64",
         "stats": {
          "unique_count": 2,
          "nan_count": 0,
          "min": "0.0",
          "max": "1.0",
          "histogram": [
           {
            "bin_start": 0,
            "bin_end": 0.1,
            "count": 4
           },
           {
            "bin_start": 0.1,
            "bin_end": 0.2,
            "count": 0
           },
           {
            "bin_start": 0.2,
            "bin_end": 0.30000000000000004,
            "count": 0
           },
           {
            "bin_start": 0.30000000000000004,
            "bin_end": 0.4,
            "count": 0
           },
           {
            "bin_start": 0.4,
            "bin_end": 0.5,
            "count": 0
           },
           {
            "bin_start": 0.5,
            "bin_end": 0.6000000000000001,
            "count": 0
           },
           {
            "bin_start": 0.6000000000000001,
            "bin_end": 0.7000000000000001,
            "count": 0
           },
           {
            "bin_start": 0.7000000000000001,
            "bin_end": 0.8,
            "count": 0
           },
           {
            "bin_start": 0.8,
            "bin_end": 0.9,
            "count": 0
           },
           {
            "bin_start": 0.9,
            "bin_end": 1,
            "count": 1
           }
          ]
         }
        },
        {
         "name": "Away_Team_Red_Cards",
         "dtype": "float64",
         "stats": {
          "unique_count": 1,
          "nan_count": 0,
          "min": "0.0",
          "max": "0.0",
          "histogram": [
           {
            "bin_start": -0.5,
            "bin_end": -0.4,
            "count": 0
           },
           {
            "bin_start": -0.4,
            "bin_end": -0.3,
            "count": 0
           },
           {
            "bin_start": -0.3,
            "bin_end": -0.19999999999999996,
            "count": 0
           },
           {
            "bin_start": -0.19999999999999996,
            "bin_end": -0.09999999999999998,
            "count": 0
           },
           {
            "bin_start": -0.09999999999999998,
            "bin_end": 0,
            "count": 0
           },
           {
            "bin_start": 0,
            "bin_end": 0.10000000000000009,
            "count": 5
           },
           {
            "bin_start": 0.10000000000000009,
            "bin_end": 0.20000000000000007,
            "count": 0
           },
           {
            "bin_start": 0.20000000000000007,
            "bin_end": 0.30000000000000004,
            "count": 0
           },
           {
            "bin_start": 0.30000000000000004,
            "bin_end": 0.4,
            "count": 0
           },
           {
            "bin_start": 0.4,
            "bin_end": 0.5,
            "count": 0
           }
          ]
         }
        },
        {
         "name": "DayOfWeek",
         "dtype": "float64",
         "stats": {
          "unique_count": 2,
          "nan_count": 0,
          "min": "4.0",
          "max": "5.0",
          "histogram": [
           {
            "bin_start": 4,
            "bin_end": 4.1,
            "count": 1
           },
           {
            "bin_start": 4.1,
            "bin_end": 4.2,
            "count": 0
           },
           {
            "bin_start": 4.2,
            "bin_end": 4.3,
            "count": 0
           },
           {
            "bin_start": 4.3,
            "bin_end": 4.4,
            "count": 0
           },
           {
            "bin_start": 4.4,
            "bin_end": 4.5,
            "count": 0
           },
           {
            "bin_start": 4.5,
            "bin_end": 4.6,
            "count": 0
           },
           {
            "bin_start": 4.6,
            "bin_end": 4.7,
            "count": 0
           },
           {
            "bin_start": 4.7,
            "bin_end": 4.8,
            "count": 0
           },
           {
            "bin_start": 4.8,
            "bin_end": 4.9,
            "count": 0
           },
           {
            "bin_start": 4.9,
            "bin_end": 5,
            "count": 4
           }
          ]
         }
        },
        {
         "name": "is_Weekend",
         "dtype": "int64",
         "stats": {
          "unique_count": 2,
          "nan_count": 0,
          "min": "0",
          "max": "1",
          "histogram": [
           {
            "bin_start": 0,
            "bin_end": 0.1,
            "count": 1
           },
           {
            "bin_start": 0.1,
            "bin_end": 0.2,
            "count": 0
           },
           {
            "bin_start": 0.2,
            "bin_end": 0.30000000000000004,
            "count": 0
           },
           {
            "bin_start": 0.30000000000000004,
            "bin_end": 0.4,
            "count": 0
           },
           {
            "bin_start": 0.4,
            "bin_end": 0.5,
            "count": 0
           },
           {
            "bin_start": 0.5,
            "bin_end": 0.6000000000000001,
            "count": 0
           },
           {
            "bin_start": 0.6000000000000001,
            "bin_end": 0.7000000000000001,
            "count": 0
           },
           {
            "bin_start": 0.7000000000000001,
            "bin_end": 0.8,
            "count": 0
           },
           {
            "bin_start": 0.8,
            "bin_end": 0.9,
            "count": 0
           },
           {
            "bin_start": 0.9,
            "bin_end": 1,
            "count": 4
           }
          ]
         }
        },
        {
         "name": "Home_Team_Fouls_Committed",
         "dtype": "float64",
         "stats": {
          "unique_count": 5,
          "nan_count": 0,
          "min": "7.0",
          "max": "18.0",
          "histogram": [
           {
            "bin_start": 7,
            "bin_end": 8.1,
            "count": 1
           },
           {
            "bin_start": 8.1,
            "bin_end": 9.2,
            "count": 0
           },
           {
            "bin_start": 9.2,
            "bin_end": 10.3,
            "count": 1
           },
           {
            "bin_start": 10.3,
            "bin_end": 11.4,
            "count": 0
           },
           {
            "bin_start": 11.4,
            "bin_end": 12.5,
            "count": 0
           },
           {
            "bin_start": 12.5,
            "bin_end": 13.600000000000001,
            "count": 0
           },
           {
            "bin_start": 13.600000000000001,
            "bin_end": 14.700000000000001,
            "count": 1
           },
           {
            "bin_start": 14.700000000000001,
            "bin_end": 15.8,
            "count": 0
           },
           {
            "bin_start": 15.8,
            "bin_end": 16.9,
            "count": 1
           },
           {
            "bin_start": 16.9,
            "bin_end": 18,
            "count": 1
           }
          ]
         }
        },
        {
         "name": "Away_Team_Fouls_Committed",
         "dtype": "float64",
         "stats": {
          "unique_count": 4,
          "nan_count": 0,
          "min": "12.0",
          "max": "22.0",
          "histogram": [
           {
            "bin_start": 12,
            "bin_end": 13,
            "count": 1
           },
           {
            "bin_start": 13,
            "bin_end": 14,
            "count": 0
           },
           {
            "bin_start": 14,
            "bin_end": 15,
            "count": 0
           },
           {
            "bin_start": 15,
            "bin_end": 16,
            "count": 1
           },
           {
            "bin_start": 16,
            "bin_end": 17,
            "count": 0
           },
           {
            "bin_start": 17,
            "bin_end": 18,
            "count": 0
           },
           {
            "bin_start": 18,
            "bin_end": 19,
            "count": 0
           },
           {
            "bin_start": 19,
            "bin_end": 20,
            "count": 0
           },
           {
            "bin_start": 20,
            "bin_end": 21,
            "count": 0
           },
           {
            "bin_start": 21,
            "bin_end": 22,
            "count": 3
           }
          ]
         }
        },
        {
         "name": "over_2.5",
         "dtype": "int64",
         "stats": {
          "unique_count": 2,
          "nan_count": 0,
          "min": "0",
          "max": "1",
          "histogram": [
           {
            "bin_start": 0,
            "bin_end": 0.1,
            "count": 3
           },
           {
            "bin_start": 0.1,
            "bin_end": 0.2,
            "count": 0
           },
           {
            "bin_start": 0.2,
            "bin_end": 0.30000000000000004,
            "count": 0
           },
           {
            "bin_start": 0.30000000000000004,
            "bin_end": 0.4,
            "count": 0
           },
           {
            "bin_start": 0.4,
            "bin_end": 0.5,
            "count": 0
           },
           {
            "bin_start": 0.5,
            "bin_end": 0.6000000000000001,
            "count": 0
           },
           {
            "bin_start": 0.6000000000000001,
            "bin_end": 0.7000000000000001,
            "count": 0
           },
           {
            "bin_start": 0.7000000000000001,
            "bin_end": 0.8,
            "count": 0
           },
           {
            "bin_start": 0.8,
            "bin_end": 0.9,
            "count": 0
           },
           {
            "bin_start": 0.9,
            "bin_end": 1,
            "count": 2
           }
          ]
         }
        },
        {
         "name": "Average_home_win_odds",
         "dtype": "float64",
         "stats": {
          "unique_count": 5,
          "nan_count": 0,
          "min": "1.375",
          "max": "5.761666666666667",
          "histogram": [
           {
            "bin_start": 1.375,
            "bin_end": 1.8136666666666668,
            "count": 1
           },
           {
            "bin_start": 1.8136666666666668,
            "bin_end": 2.2523333333333335,
            "count": 2
           },
           {
            "bin_start": 2.2523333333333335,
            "bin_end": 2.691,
            "count": 0
           },
           {
            "bin_start": 2.691,
            "bin_end": 3.1296666666666666,
            "count": 0
           },
           {
            "bin_start": 3.1296666666666666,
            "bin_end": 3.5683333333333334,
            "count": 0
           },
           {
            "bin_start": 3.5683333333333334,
            "bin_end": 4.007,
            "count": 1
           },
           {
            "bin_start": 4.007,
            "bin_end": 4.445666666666666,
            "count": 0
           },
           {
            "bin_start": 4.445666666666666,
            "bin_end": 4.884333333333333,
            "count": 0
           },
           {
            "bin_start": 4.884333333333333,
            "bin_end": 5.323,
            "count": 0
           },
           {
            "bin_start": 5.323,
            "bin_end": 5.761666666666667,
            "count": 1
           }
          ]
         }
        },
        {
         "name": "Average_away_win_odds",
         "dtype": "float64",
         "stats": {
          "unique_count": 5,
          "nan_count": 0,
          "min": "1.518333333333333",
          "max": "7.8066666666666675",
          "histogram": [
           {
            "bin_start": 1.518333333333333,
            "bin_end": 2.1471666666666662,
            "count": 2
           },
           {
            "bin_start": 2.1471666666666662,
            "bin_end": 2.776,
            "count": 0
           },
           {
            "bin_start": 2.776,
            "bin_end": 3.4048333333333334,
            "count": 1
           },
           {
            "bin_start": 3.4048333333333334,
            "bin_end": 4.033666666666667,
            "count": 1
           },
           {
            "bin_start": 4.033666666666667,
            "bin_end": 4.6625,
            "count": 0
           },
           {
            "bin_start": 4.6625,
            "bin_end": 5.291333333333333,
            "count": 0
           },
           {
            "bin_start": 5.291333333333333,
            "bin_end": 5.920166666666667,
            "count": 0
           },
           {
            "bin_start": 5.920166666666667,
            "bin_end": 6.5489999999999995,
            "count": 0
           },
           {
            "bin_start": 6.5489999999999995,
            "bin_end": 7.177833333333334,
            "count": 0
           },
           {
            "bin_start": 7.177833333333334,
            "bin_end": 7.8066666666666675,
            "count": 1
           }
          ]
         }
        },
        {
         "name": "Average_draw_odds",
         "dtype": "float64",
         "stats": {
          "unique_count": 5,
          "nan_count": 0,
          "min": "3.5700000000000003",
          "max": "4.928333333333334",
          "histogram": [
           {
            "bin_start": 3.5700000000000003,
            "bin_end": 3.7058333333333335,
            "count": 3
           },
           {
            "bin_start": 3.7058333333333335,
            "bin_end": 3.841666666666667,
            "count": 0
           },
           {
            "bin_start": 3.841666666666667,
            "bin_end": 3.9775,
            "count": 0
           },
           {
            "bin_start": 3.9775,
            "bin_end": 4.113333333333333,
            "count": 0
           },
           {
            "bin_start": 4.113333333333333,
            "bin_end": 4.249166666666667,
            "count": 0
           },
           {
            "bin_start": 4.249166666666667,
            "bin_end": 4.385,
            "count": 1
           },
           {
            "bin_start": 4.385,
            "bin_end": 4.520833333333334,
            "count": 0
           },
           {
            "bin_start": 4.520833333333334,
            "bin_end": 4.656666666666667,
            "count": 0
           },
           {
            "bin_start": 4.656666666666667,
            "bin_end": 4.7925,
            "count": 0
           },
           {
            "bin_start": 4.7925,
            "bin_end": 4.928333333333334,
            "count": 1
           }
          ]
         }
        },
        {
         "name": "Average_over_2.5_goals_odds",
         "dtype": "float64",
         "stats": {
          "unique_count": 5,
          "nan_count": 0,
          "min": "1.5199999999999998",
          "max": "1.8333333333333333",
          "histogram": [
           {
            "bin_start": 1.5199999999999998,
            "bin_end": 1.5513333333333332,
            "count": 1
           },
           {
            "bin_start": 1.5513333333333332,
            "bin_end": 1.5826666666666664,
            "count": 1
           },
           {
            "bin_start": 1.5826666666666664,
            "bin_end": 1.6139999999999999,
            "count": 0
           },
           {
            "bin_start": 1.6139999999999999,
            "bin_end": 1.645333333333333,
            "count": 0
           },
           {
            "bin_start": 1.645333333333333,
            "bin_end": 1.6766666666666665,
            "count": 1
           },
           {
            "bin_start": 1.6766666666666665,
            "bin_end": 1.7079999999999997,
            "count": 0
           },
           {
            "bin_start": 1.7079999999999997,
            "bin_end": 1.7393333333333332,
            "count": 0
           },
           {
            "bin_start": 1.7393333333333332,
            "bin_end": 1.7706666666666666,
            "count": 1
           },
           {
            "bin_start": 1.7706666666666666,
            "bin_end": 1.8019999999999998,
            "count": 0
           },
           {
            "bin_start": 1.8019999999999998,
            "bin_end": 1.8333333333333333,
            "count": 1
           }
          ]
         }
        },
        {
         "name": "Average_under_2.5_goals_odds",
         "dtype": "float64",
         "stats": {
          "unique_count": 5,
          "nan_count": 0,
          "min": "1.9866666666666664",
          "max": "2.5066666666666664",
          "histogram": [
           {
            "bin_start": 1.9866666666666664,
            "bin_end": 2.0386666666666664,
            "count": 1
           },
           {
            "bin_start": 2.0386666666666664,
            "bin_end": 2.0906666666666665,
            "count": 1
           },
           {
            "bin_start": 2.0906666666666665,
            "bin_end": 2.1426666666666665,
            "count": 0
           },
           {
            "bin_start": 2.1426666666666665,
            "bin_end": 2.1946666666666665,
            "count": 0
           },
           {
            "bin_start": 2.1946666666666665,
            "bin_end": 2.246666666666666,
            "count": 1
           },
           {
            "bin_start": 2.246666666666666,
            "bin_end": 2.2986666666666666,
            "count": 0
           },
           {
            "bin_start": 2.2986666666666666,
            "bin_end": 2.3506666666666662,
            "count": 0
           },
           {
            "bin_start": 2.3506666666666662,
            "bin_end": 2.4026666666666663,
            "count": 0
           },
           {
            "bin_start": 2.4026666666666663,
            "bin_end": 2.4546666666666663,
            "count": 1
           },
           {
            "bin_start": 2.4546666666666663,
            "bin_end": 2.5066666666666664,
            "count": 1
           }
          ]
         }
        },
        {
         "name": "Average_Asian_Handicap_Home_odds",
         "dtype": "float64",
         "stats": {
          "unique_count": 5,
          "nan_count": 0,
          "min": "1.165",
          "max": "1.725",
          "histogram": [
           {
            "bin_start": 1.165,
            "bin_end": 1.221,
            "count": 1
           },
           {
            "bin_start": 1.221,
            "bin_end": 1.2770000000000001,
            "count": 0
           },
           {
            "bin_start": 1.2770000000000001,
            "bin_end": 1.3330000000000002,
            "count": 0
           },
           {
            "bin_start": 1.3330000000000002,
            "bin_end": 1.389,
            "count": 2
           },
           {
            "bin_start": 1.389,
            "bin_end": 1.445,
            "count": 0
           },
           {
            "bin_start": 1.445,
            "bin_end": 1.5010000000000001,
            "count": 0
           },
           {
            "bin_start": 1.5010000000000001,
            "bin_end": 1.5570000000000002,
            "count": 0
           },
           {
            "bin_start": 1.5570000000000002,
            "bin_end": 1.613,
            "count": 1
           },
           {
            "bin_start": 1.613,
            "bin_end": 1.669,
            "count": 0
           },
           {
            "bin_start": 1.669,
            "bin_end": 1.725,
            "count": 1
           }
          ]
         }
        },
        {
         "name": "Average_Asian_Handicap_Away_odds",
         "dtype": "float64",
         "stats": {
          "unique_count": 5,
          "nan_count": 0,
          "min": "1.7866666666666668",
          "max": "1.9466666666666663",
          "histogram": [
           {
            "bin_start": 1.7866666666666668,
            "bin_end": 1.8026666666666669,
            "count": 1
           },
           {
            "bin_start": 1.8026666666666669,
            "bin_end": 1.8186666666666667,
            "count": 0
           },
           {
            "bin_start": 1.8186666666666667,
            "bin_end": 1.8346666666666667,
            "count": 0
           },
           {
            "bin_start": 1.8346666666666667,
            "bin_end": 1.8506666666666667,
            "count": 0
           },
           {
            "bin_start": 1.8506666666666667,
            "bin_end": 1.8666666666666667,
            "count": 0
           },
           {
            "bin_start": 1.8666666666666667,
            "bin_end": 1.8826666666666665,
            "count": 0
           },
           {
            "bin_start": 1.8826666666666665,
            "bin_end": 1.8986666666666665,
            "count": 2
           },
           {
            "bin_start": 1.8986666666666665,
            "bin_end": 1.9146666666666665,
            "count": 0
           },
           {
            "bin_start": 1.9146666666666665,
            "bin_end": 1.9306666666666663,
            "count": 1
           },
           {
            "bin_start": 1.9306666666666663,
            "bin_end": 1.9466666666666663,
            "count": 1
           }
          ]
         }
        },
        {
         "name": "Close_home_win_odds",
         "dtype": "float64",
         "stats": {
          "unique_count": 5,
          "nan_count": 0,
          "min": "1.45",
          "max": "8.99",
          "histogram": [
           {
            "bin_start": 1.45,
            "bin_end": 2.2039999999999997,
            "count": 2
           },
           {
            "bin_start": 2.2039999999999997,
            "bin_end": 2.958,
            "count": 1
           },
           {
            "bin_start": 2.958,
            "bin_end": 3.7119999999999997,
            "count": 0
           },
           {
            "bin_start": 3.7119999999999997,
            "bin_end": 4.466,
            "count": 1
           },
           {
            "bin_start": 4.466,
            "bin_end": 5.22,
            "count": 0
           },
           {
            "bin_start": 5.22,
            "bin_end": 5.974,
            "count": 0
           },
           {
            "bin_start": 5.974,
            "bin_end": 6.728000000000001,
            "count": 0
           },
           {
            "bin_start": 6.728000000000001,
            "bin_end": 7.482,
            "count": 0
           },
           {
            "bin_start": 7.482,
            "bin_end": 8.235999999999999,
            "count": 0
           },
           {
            "bin_start": 8.235999999999999,
            "bin_end": 8.99,
            "count": 1
           }
          ]
         }
        },
        {
         "name": "Close_draw_odds",
         "dtype": "float64",
         "stats": {
          "unique_count": 5,
          "nan_count": 0,
          "min": "3.55",
          "max": "6.52",
          "histogram": [
           {
            "bin_start": 3.55,
            "bin_end": 3.847,
            "count": 3
           },
           {
            "bin_start": 3.847,
            "bin_end": 4.144,
            "count": 0
           },
           {
            "bin_start": 4.144,
            "bin_end": 4.441,
            "count": 0
           },
           {
            "bin_start": 4.441,
            "bin_end": 4.7379999999999995,
            "count": 0
           },
           {
            "bin_start": 4.7379999999999995,
            "bin_end": 5.035,
            "count": 1
           },
           {
            "bin_start": 5.035,
            "bin_end": 5.332,
            "count": 0
           },
           {
            "bin_start": 5.332,
            "bin_end": 5.629,
            "count": 0
           },
           {
            "bin_start": 5.629,
            "bin_end": 5.926,
            "count": 0
           },
           {
            "bin_start": 5.926,
            "bin_end": 6.223,
            "count": 0
           },
           {
            "bin_start": 6.223,
            "bin_end": 6.52,
            "count": 1
           }
          ]
         }
        },
        {
         "name": "Close_away_win_odds",
         "dtype": "float64",
         "stats": {
          "unique_count": 5,
          "nan_count": 0,
          "min": "1.29",
          "max": "6.79",
          "histogram": [
           {
            "bin_start": 1.29,
            "bin_end": 1.84,
            "count": 1
           },
           {
            "bin_start": 1.84,
            "bin_end": 2.39,
            "count": 1
           },
           {
            "bin_start": 2.39,
            "bin_end": 2.9400000000000004,
            "count": 1
           },
           {
            "bin_start": 2.9400000000000004,
            "bin_end": 3.49,
            "count": 1
           },
           {
            "bin_start": 3.49,
            "bin_end": 4.04,
            "count": 0
           },
           {
            "bin_start": 4.04,
            "bin_end": 4.59,
            "count": 0
           },
           {
            "bin_start": 4.59,
            "bin_end": 5.140000000000001,
            "count": 0
           },
           {
            "bin_start": 5.140000000000001,
            "bin_end": 5.69,
            "count": 0
           },
           {
            "bin_start": 5.69,
            "bin_end": 6.24,
            "count": 0
           },
           {
            "bin_start": 6.24,
            "bin_end": 6.79,
            "count": 1
           }
          ]
         }
        },
        {
         "name": "has_favorite",
         "dtype": "int64",
         "stats": {
          "unique_count": 2,
          "nan_count": 0,
          "min": "0",
          "max": "1",
          "histogram": [
           {
            "bin_start": 0,
            "bin_end": 0.1,
            "count": 3
           },
           {
            "bin_start": 0.1,
            "bin_end": 0.2,
            "count": 0
           },
           {
            "bin_start": 0.2,
            "bin_end": 0.30000000000000004,
            "count": 0
           },
           {
            "bin_start": 0.30000000000000004,
            "bin_end": 0.4,
            "count": 0
           },
           {
            "bin_start": 0.4,
            "bin_end": 0.5,
            "count": 0
           },
           {
            "bin_start": 0.5,
            "bin_end": 0.6000000000000001,
            "count": 0
           },
           {
            "bin_start": 0.6000000000000001,
            "bin_end": 0.7000000000000001,
            "count": 0
           },
           {
            "bin_start": 0.7000000000000001,
            "bin_end": 0.8,
            "count": 0
           },
           {
            "bin_start": 0.8,
            "bin_end": 0.9,
            "count": 0
           },
           {
            "bin_start": 0.9,
            "bin_end": 1,
            "count": 2
           }
          ]
         }
        },
        {
         "name": "HomeTeam_Rotherham",
         "dtype": "bool",
         "stats": {
          "unique_count": 1,
          "nan_count": 0,
          "categories": [
           {
            "name": "False",
            "count": 5
           }
          ]
         }
        },
        {
         "name": "HomeTeam_OFI Crete",
         "dtype": "bool",
         "stats": {
          "unique_count": 1,
          "nan_count": 0,
          "categories": [
           {
            "name": "False",
            "count": 5
           }
          ]
         }
        },
        {
         "name": "HomeTeam_Barcelona B",
         "dtype": "bool",
         "stats": {
          "unique_count": 1,
          "nan_count": 0,
          "categories": [
           {
            "name": "False",
            "count": 5
           }
          ]
         }
        },
        {
         "name": "HomeTeam_Queen of Sth",
         "dtype": "bool",
         "stats": {
          "unique_count": 1,
          "nan_count": 0,
          "categories": [
           {
            "name": "False",
            "count": 5
           }
          ]
         }
        },
        {
         "name": "HomeTeam_Charleroi",
         "dtype": "bool",
         "stats": {
          "unique_count": 1,
          "nan_count": 0,
          "categories": [
           {
            "name": "False",
            "count": 5
           }
          ]
         }
        },
        {
         "name": "HomeTeam_Mallorca",
         "dtype": "bool",
         "stats": {
          "unique_count": 1,
          "nan_count": 0,
          "categories": [
           {
            "name": "False",
            "count": 5
           }
          ]
         }
        },
        {
         "name": "HomeTeam_Amiens",
         "dtype": "bool",
         "stats": {
          "unique_count": 1,
          "nan_count": 0,
          "categories": [
           {
            "name": "False",
            "count": 5
           }
          ]
         }
        },
        {
         "name": "HomeTeam_PAOK",
         "dtype": "bool",
         "stats": {
          "unique_count": 1,
          "nan_count": 0,
          "categories": [
           {
            "name": "False",
            "count": 5
           }
          ]
         }
        },
        {
         "name": "HomeTeam_Morecambe",
         "dtype": "bool",
         "stats": {
          "unique_count": 1,
          "nan_count": 0,
          "categories": [
           {
            "name": "False",
            "count": 5
           }
          ]
         }
        },
        {
         "name": "HomeTeam_Arsenal",
         "dtype": "bool",
         "stats": {
          "unique_count": 1,
          "nan_count": 0,
          "categories": [
           {
            "name": "False",
            "count": 5
           }
          ]
         }
        },
        {
         "name": "HomeTeam_Rodez",
         "dtype": "bool",
         "stats": {
          "unique_count": 1,
          "nan_count": 0,
          "categories": [
           {
            "name": "False",
            "count": 5
           }
          ]
         }
        },
        {
         "name": "HomeTeam_Sociedad B",
         "dtype": "bool",
         "stats": {
          "unique_count": 1,
          "nan_count": 0,
          "categories": [
           {
            "name": "False",
            "count": 5
           }
          ]
         }
        },
        {
         "name": "HomeTeam_Fuenlabrada",
         "dtype": "bool",
         "stats": {
          "unique_count": 1,
          "nan_count": 0,
          "categories": [
           {
            "name": "False",
            "count": 5
           }
          ]
         }
        },
        {
         "name": "HomeTeam_Forfar",
         "dtype": "bool",
         "stats": {
          "unique_count": 1,
          "nan_count": 0,
          "categories": [
           {
            "name": "False",
            "count": 5
           }
          ]
         }
        },
        {
         "name": "HomeTeam_Burnley",
         "dtype": "bool",
         "stats": {
          "unique_count": 1,
          "nan_count": 0,
          "categories": [
           {
            "name": "False",
            "count": 5
           }
          ]
         }
        },
        {
         "name": "HomeTeam_Livingston",
         "dtype": "bool",
         "stats": {
          "unique_count": 1,
          "nan_count": 0,
          "categories": [
           {
            "name": "False",
            "count": 5
           }
          ]
         }
        },
        {
         "name": "HomeTeam_Colchester",
         "dtype": "bool",
         "stats": {
          "unique_count": 1,
          "nan_count": 0,
          "categories": [
           {
            "name": "False",
            "count": 5
           }
          ]
         }
        },
        {
         "name": "HomeTeam_Cittadella",
         "dtype": "bool",
         "stats": {
          "unique_count": 1,
          "nan_count": 0,
          "categories": [
           {
            "name": "False",
            "count": 5
           }
          ]
         }
        },
        {
         "name": "HomeTeam_Sociedad",
         "dtype": "bool",
         "stats": {
          "unique_count": 1,
          "nan_count": 0,
          "categories": [
           {
            "name": "False",
            "count": 5
           }
          ]
         }
        },
        {
         "name": "HomeTeam_Hibernian",
         "dtype": "bool",
         "stats": {
          "unique_count": 1,
          "nan_count": 0,
          "categories": [
           {
            "name": "False",
            "count": 5
           }
          ]
         }
        },
        {
         "name": "HomeTeam_Sunderland",
         "dtype": "bool",
         "stats": {
          "unique_count": 1,
          "nan_count": 0,
          "categories": [
           {
            "name": "False",
            "count": 5
           }
          ]
         }
        },
        {
         "name": "HomeTeam_Trapani",
         "dtype": "bool",
         "stats": {
          "unique_count": 1,
          "nan_count": 0,
          "categories": [
           {
            "name": "False",
            "count": 5
           }
          ]
         }
        },
        {
         "name": "HomeTeam_Regensburg",
         "dtype": "bool",
         "stats": {
          "unique_count": 1,
          "nan_count": 0,
          "categories": [
           {
            "name": "False",
            "count": 5
           }
          ]
         }
        },
        {
         "name": "HomeTeam_Reading",
         "dtype": "bool",
         "stats": {
          "unique_count": 1,
          "nan_count": 0,
          "categories": [
           {
            "name": "False",
            "count": 5
           }
          ]
         }
        },
        {
         "name": "HomeTeam_Zaragoza",
         "dtype": "bool",
         "stats": {
          "unique_count": 1,
          "nan_count": 0,
          "categories": [
           {
            "name": "False",
            "count": 5
           }
          ]
         }
        },
        {
         "name": "HomeTeam_Alanyaspor",
         "dtype": "bool",
         "stats": {
          "unique_count": 1,
          "nan_count": 0,
          "categories": [
           {
            "name": "False",
            "count": 5
           }
          ]
         }
        },
        {
         "name": "HomeTeam_Cardiff",
         "dtype": "bool",
         "stats": {
          "unique_count": 1,
          "nan_count": 0,
          "categories": [
           {
            "name": "False",
            "count": 5
           }
          ]
         }
        },
        {
         "name": "HomeTeam_Erzgebirge Aue",
         "dtype": "bool",
         "stats": {
          "unique_count": 1,
          "nan_count": 0,
          "categories": [
           {
            "name": "False",
            "count": 5
           }
          ]
         }
        },
        {
         "name": "HomeTeam_Ankaragucu",
         "dtype": "bool",
         "stats": {
          "unique_count": 1,
          "nan_count": 0,
          "categories": [
           {
            "name": "False",
            "count": 5
           }
          ]
         }
        },
        {
         "name": "HomeTeam_Mainz",
         "dtype": "bool",
         "stats": {
          "unique_count": 1,
          "nan_count": 0,
          "categories": [
           {
            "name": "False",
            "count": 5
           }
          ]
         }
        },
        {
         "name": "HomeTeam_Bayern Munich",
         "dtype": "bool",
         "stats": {
          "unique_count": 1,
          "nan_count": 0,
          "categories": [
           {
            "name": "False",
            "count": 5
           }
          ]
         }
        },
        {
         "name": "HomeTeam_Utrecht",
         "dtype": "bool",
         "stats": {
          "unique_count": 1,
          "nan_count": 0,
          "categories": [
           {
            "name": "False",
            "count": 5
           }
          ]
         }
        },
        {
         "name": "HomeTeam_Estoril",
         "dtype": "bool",
         "stats": {
          "unique_count": 1,
          "nan_count": 0,
          "categories": [
           {
            "name": "False",
            "count": 5
           }
          ]
         }
        },
        {
         "name": "HomeTeam_Paris SG",
         "dtype": "bool",
         "stats": {
          "unique_count": 1,
          "nan_count": 0,
          "categories": [
           {
            "name": "False",
            "count": 5
           }
          ]
         }
        },
        {
         "name": "HomeTeam_St Pauli",
         "dtype": "bool",
         "stats": {
          "unique_count": 1,
          "nan_count": 0,
          "categories": [
           {
            "name": "False",
            "count": 5
           }
          ]
         }
        },
        {
         "name": "HomeTeam_Heracles",
         "dtype": "bool",
         "stats": {
          "unique_count": 1,
          "nan_count": 0,
          "categories": [
           {
            "name": "False",
            "count": 5
           }
          ]
         }
        },
        {
         "name": "HomeTeam_Valencia",
         "dtype": "bool",
         "stats": {
          "unique_count": 1,
          "nan_count": 0,
          "categories": [
           {
            "name": "False",
            "count": 5
           }
          ]
         }
        },
        {
         "name": "HomeTeam_Ibiza",
         "dtype": "bool",
         "stats": {
          "unique_count": 1,
          "nan_count": 0,
          "categories": [
           {
            "name": "False",
            "count": 5
           }
          ]
         }
        },
        {
         "name": "HomeTeam_Hearts",
         "dtype": "bool",
         "stats": {
          "unique_count": 1,
          "nan_count": 0,
          "categories": [
           {
            "name": "False",
            "count": 5
           }
          ]
         }
        },
        {
         "name": "HomeTeam_Grenoble",
         "dtype": "bool",
         "stats": {
          "unique_count": 1,
          "nan_count": 0,
          "categories": [
           {
            "name": "False",
            "count": 5
           }
          ]
         }
        },
        {
         "name": "HomeTeam_Sevilla B",
         "dtype": "bool",
         "stats": {
          "unique_count": 1,
          "nan_count": 0,
          "categories": [
           {
            "name": "False",
            "count": 5
           }
          ]
         }
        },
        {
         "name": "HomeTeam_Denizlispor",
         "dtype": "bool",
         "stats": {
          "unique_count": 1,
          "nan_count": 0,
          "categories": [
           {
            "name": "False",
            "count": 5
           }
          ]
         }
        },
        {
         "name": "HomeTeam_Morton",
         "dtype": "bool",
         "stats": {
          "unique_count": 1,
          "nan_count": 0,
          "categories": [
           {
            "name": "False",
            "count": 5
           }
          ]
         }
        },
        {
         "name": "HomeTeam_Leganes",
         "dtype": "bool",
         "stats": {
          "unique_count": 1,
          "nan_count": 0,
          "categories": [
           {
            "name": "False",
            "count": 5
           }
          ]
         }
        },
        {
         "name": "HomeTeam_Middlesbrough",
         "dtype": "bool",
         "stats": {
          "unique_count": 1,
          "nan_count": 0,
          "categories": [
           {
            "name": "False",
            "count": 5
           }
          ]
         }
        },
        {
         "name": "HomeTeam_Sp Lisbon",
         "dtype": "bool",
         "stats": {
          "unique_count": 1,
          "nan_count": 0,
          "categories": [
           {
            "name": "False",
            "count": 5
           }
          ]
         }
        },
        {
         "name": "HomeTeam_Ionikos",
         "dtype": "bool",
         "stats": {
          "unique_count": 1,
          "nan_count": 0,
          "categories": [
           {
            "name": "False",
            "count": 5
           }
          ]
         }
        },
        {
         "name": "HomeTeam_Kelty Hearts",
         "dtype": "bool",
         "stats": {
          "unique_count": 1,
          "nan_count": 0,
          "categories": [
           {
            "name": "False",
            "count": 5
           }
          ]
         }
        },
        {
         "name": "HomeTeam_Sheffield Weds",
         "dtype": "bool",
         "stats": {
          "unique_count": 1,
          "nan_count": 0,
          "categories": [
           {
            "name": "False",
            "count": 5
           }
          ]
         }
        },
        {
         "name": "HomeTeam_Alaves",
         "dtype": "bool",
         "stats": {
          "unique_count": 1,
          "nan_count": 0,
          "categories": [
           {
            "name": "False",
            "count": 5
           }
          ]
         }
        },
        {
         "name": "HomeTeam_Cremonese",
         "dtype": "bool",
         "stats": {
          "unique_count": 1,
          "nan_count": 0,
          "categories": [
           {
            "name": "False",
            "count": 5
           }
          ]
         }
        },
        {
         "name": "HomeTeam_Liverpool",
         "dtype": "bool",
         "stats": {
          "unique_count": 1,
          "nan_count": 0,
          "categories": [
           {
            "name": "False",
            "count": 5
           }
          ]
         }
        },
        {
         "name": "HomeTeam_Granada",
         "dtype": "bool",
         "stats": {
          "unique_count": 1,
          "nan_count": 0,
          "categories": [
           {
            "name": "False",
            "count": 5
           }
          ]
         }
        },
        {
         "name": "HomeTeam_Aves",
         "dtype": "bool",
         "stats": {
          "unique_count": 1,
          "nan_count": 0,
          "categories": [
           {
            "name": "False",
            "count": 5
           }
          ]
         }
        },
        {
         "name": "HomeTeam_Oviedo",
         "dtype": "bool",
         "stats": {
          "unique_count": 1,
          "nan_count": 0,
          "categories": [
           {
            "name": "False",
            "count": 5
           }
          ]
         }
        },
        {
         "name": "HomeTeam_Bielefeld",
         "dtype": "bool",
         "stats": {
          "unique_count": 1,
          "nan_count": 0,
          "categories": [
           {
            "name": "False",
            "count": 5
           }
          ]
         }
        },
        {
         "name": "HomeTeam_Milan",
         "dtype": "bool",
         "stats": {
          "unique_count": 1,
          "nan_count": 0,
          "categories": [
           {
            "name": "False",
            "count": 5
           }
          ]
         }
        },
        {
         "name": "HomeTeam_Bradford",
         "dtype": "bool",
         "stats": {
          "unique_count": 1,
          "nan_count": 0,
          "categories": [
           {
            "name": "False",
            "count": 5
           }
          ]
         }
        },
        {
         "name": "HomeTeam_Zwolle",
         "dtype": "bool",
         "stats": {
          "unique_count": 1,
          "nan_count": 0,
          "categories": [
           {
            "name": "False",
            "count": 5
           }
          ]
         }
        },
        {
         "name": "HomeTeam_Falkirk",
         "dtype": "bool",
         "stats": {
          "unique_count": 1,
          "nan_count": 0,
          "categories": [
           {
            "name": "False",
            "count": 5
           }
          ]
         }
        },
        {
         "name": "HomeTeam_Airdrie Utd",
         "dtype": "bool",
         "stats": {
          "unique_count": 1,
          "nan_count": 0,
          "categories": [
           {
            "name": "False",
            "count": 5
           }
          ]
         }
        },
        {
         "name": "HomeTeam_Aberdeen",
         "dtype": "bool",
         "stats": {
          "unique_count": 1,
          "nan_count": 0,
          "categories": [
           {
            "name": "False",
            "count": 5
           }
          ]
         }
        },
        {
         "name": "HomeTeam_Sabadell",
         "dtype": "bool",
         "stats": {
          "unique_count": 1,
          "nan_count": 0,
          "categories": [
           {
            "name": "False",
            "count": 5
           }
          ]
         }
        },
        {
         "name": "HomeTeam_Sochaux",
         "dtype": "bool",
         "stats": {
          "unique_count": 1,
          "nan_count": 0,
          "categories": [
           {
            "name": "False",
            "count": 5
           }
          ]
         }
        },
        {
         "name": "HomeTeam_Den Haag",
         "dtype": "bool",
         "stats": {
          "unique_count": 1,
          "nan_count": 0,
          "categories": [
           {
            "name": "False",
            "count": 5
           }
          ]
         }
        },
        {
         "name": "HomeTeam_West Brom",
         "dtype": "bool",
         "stats": {
          "unique_count": 1,
          "nan_count": 0,
          "categories": [
           {
            "name": "False",
            "count": 5
           }
          ]
         }
        },
        {
         "name": "HomeTeam_Tranmere",
         "dtype": "bool",
         "stats": {
          "unique_count": 1,
          "nan_count": 0,
          "categories": [
           {
            "name": "False",
            "count": 5
           }
          ]
         }
        },
        {
         "name": "HomeTeam_Dunkerque",
         "dtype": "bool",
         "stats": {
          "unique_count": 1,
          "nan_count": 0,
          "categories": [
           {
            "name": "False",
            "count": 5
           }
          ]
         }
        },
        {
         "name": "HomeTeam_Sampdoria",
         "dtype": "bool",
         "stats": {
          "unique_count": 1,
          "nan_count": 0,
          "categories": [
           {
            "name": "False",
            "count": 5
           }
          ]
         }
        },
        {
         "name": "HomeTeam_PSV Eindhoven",
         "dtype": "bool",
         "stats": {
          "unique_count": 1,
          "nan_count": 0,
          "categories": [
           {
            "name": "False",
            "count": 5
           }
          ]
         }
        },
        {
         "name": "HomeTeam_Oldham",
         "dtype": "bool",
         "stats": {
          "unique_count": 1,
          "nan_count": 0,
          "categories": [
           {
            "name": "False",
            "count": 5
           }
          ]
         }
        },
        {
         "name": "HomeTeam_Heidenheim",
         "dtype": "bool",
         "stats": {
          "unique_count": 1,
          "nan_count": 0,
          "categories": [
           {
            "name": "False",
            "count": 5
           }
          ]
         }
        },
        {
         "name": "HomeTeam_Brighton",
         "dtype": "bool",
         "stats": {
          "unique_count": 1,
          "nan_count": 0,
          "categories": [
           {
            "name": "False",
            "count": 5
           }
          ]
         }
        },
        {
         "name": "HomeTeam_AFC Wimbledon",
         "dtype": "bool",
         "stats": {
          "unique_count": 1,
          "nan_count": 0,
          "categories": [
           {
            "name": "False",
            "count": 5
           }
          ]
         }
        },
        {
         "name": "HomeTeam_Malaga",
         "dtype": "bool",
         "stats": {
          "unique_count": 1,
          "nan_count": 0,
          "categories": [
           {
            "name": "False",
            "count": 5
           }
          ]
         }
        },
        {
         "name": "HomeTeam_Almeria",
         "dtype": "bool",
         "stats": {
          "unique_count": 1,
          "nan_count": 0,
          "categories": [
           {
            "name": "False",
            "count": 5
           }
          ]
         }
        },
        {
         "name": "HomeTeam_Nantes",
         "dtype": "bool",
         "stats": {
          "unique_count": 1,
          "nan_count": 0,
          "categories": [
           {
            "name": "False",
            "count": 5
           }
          ]
         }
        },
        {
         "name": "HomeTeam_Wehen",
         "dtype": "bool",
         "stats": {
          "unique_count": 1,
          "nan_count": 0,
          "categories": [
           {
            "name": "False",
            "count": 5
           }
          ]
         }
        },
        {
         "name": "HomeTeam_Vitesse",
         "dtype": "bool",
         "stats": {
          "unique_count": 1,
          "nan_count": 0,
          "categories": [
           {
            "name": "False",
            "count": 5
           }
          ]
         }
        },
        {
         "name": "HomeTeam_Levante",
         "dtype": "bool",
         "stats": {
          "unique_count": 1,
          "nan_count": 0,
          "categories": [
           {
            "name": "False",
            "count": 5
           }
          ]
         }
        },
        {
         "name": "HomeTeam_Novara",
         "dtype": "bool",
         "stats": {
          "unique_count": 1,
          "nan_count": 0,
          "categories": [
           {
            "name": "False",
            "count": 5
           }
          ]
         }
        },
        {
         "name": "HomeTeam_Guimaraes",
         "dtype": "bool",
         "stats": {
          "unique_count": 1,
          "nan_count": 0,
          "categories": [
           {
            "name": "False",
            "count": 5
           }
          ]
         }
        },
        {
         "name": "HomeTeam_Norwich",
         "dtype": "bool",
         "stats": {
          "unique_count": 1,
          "nan_count": 0,
          "categories": [
           {
            "name": "False",
            "count": 5
           }
          ]
         }
        },
        {
         "name": "HomeTeam_Pacos Ferreira",
         "dtype": "bool",
         "stats": {
          "unique_count": 1,
          "nan_count": 0,
          "categories": [
           {
            "name": "False",
            "count": 5
           }
          ]
         }
        },
        {
         "name": "HomeTeam_Chesterfield",
         "dtype": "bool",
         "stats": {
          "unique_count": 1,
          "nan_count": 0,
          "categories": [
           {
            "name": "False",
            "count": 5
           }
          ]
         }
        },
        {
         "name": "HomeTeam_Inverness C",
         "dtype": "bool",
         "stats": {
          "unique_count": 1,
          "nan_count": 0,
          "categories": [
           {
            "name": "False",
            "count": 5
           }
          ]
         }
        },
        {
         "name": "HomeTeam_Giannina",
         "dtype": "bool",
         "stats": {
          "unique_count": 1,
          "nan_count": 0,
          "categories": [
           {
            "name": "False",
            "count": 5
           }
          ]
         }
        },
        {
         "name": "HomeTeam_Espanol",
         "dtype": "bool",
         "stats": {
          "unique_count": 1,
          "nan_count": 0,
          "categories": [
           {
            "name": "False",
            "count": 5
           }
          ]
         }
        },
        {
         "name": "HomeTeam_Braunschweig",
         "dtype": "bool",
         "stats": {
          "unique_count": 1,
          "nan_count": 0,
          "categories": [
           {
            "name": "False",
            "count": 5
           }
          ]
         }
        },
        {
         "name": "HomeTeam_Oostende",
         "dtype": "bool",
         "stats": {
          "unique_count": 1,
          "nan_count": 0,
          "categories": [
           {
            "name": "False",
            "count": 5
           }
          ]
         }
        },
        {
         "name": "HomeTeam_Gil Vicente",
         "dtype": "bool",
         "stats": {
          "unique_count": 1,
          "nan_count": 0,
          "categories": [
           {
            "name": "False",
            "count": 5
           }
          ]
         }
        },
        {
         "name": "HomeTeam_Maritimo",
         "dtype": "bool",
         "stats": {
          "unique_count": 1,
          "nan_count": 0,
          "categories": [
           {
            "name": "False",
            "count": 5
           }
          ]
         }
        },
        {
         "name": "HomeTeam_Niort",
         "dtype": "bool",
         "stats": {
          "unique_count": 1,
          "nan_count": 0,
          "categories": [
           {
            "name": "False",
            "count": 5
           }
          ]
         }
        },
        {
         "name": "HomeTeam_Ingolstadt",
         "dtype": "bool",
         "stats": {
          "unique_count": 1,
          "nan_count": 0,
          "categories": [
           {
            "name": "False",
            "count": 5
           }
          ]
         }
        },
        {
         "name": "HomeTeam_Montrose",
         "dtype": "bool",
         "stats": {
          "unique_count": 1,
          "nan_count": 0,
          "categories": [
           {
            "name": "False",
            "count": 5
           }
          ]
         }
        },
        {
         "name": "HomeTeam_Barnet",
         "dtype": "bool",
         "stats": {
          "unique_count": 1,
          "nan_count": 0,
          "categories": [
           {
            "name": "False",
            "count": 5
           }
          ]
         }
        },
        {
         "name": "HomeTeam_Osnabruck",
         "dtype": "bool",
         "stats": {
          "unique_count": 1,
          "nan_count": 0,
          "categories": [
           {
            "name": "False",
            "count": 5
           }
          ]
         }
        },
        {
         "name": "HomeTeam_Troyes",
         "dtype": "bool",
         "stats": {
          "unique_count": 1,
          "nan_count": 0,
          "categories": [
           {
            "name": "False",
            "count": 5
           }
          ]
         }
        },
        {
         "name": "HomeTeam_Dijon",
         "dtype": "bool",
         "stats": {
          "unique_count": 1,
          "nan_count": 0,
          "categories": [
           {
            "name": "False",
            "count": 5
           }
          ]
         }
        },
        {
         "name": "HomeTeam_Ajaccio GFCO",
         "dtype": "bool",
         "stats": {
          "unique_count": 1,
          "nan_count": 0,
          "categories": [
           {
            "name": "False",
            "count": 5
           }
          ]
         }
        },
        {
         "name": "HomeTeam_Dundee",
         "dtype": "bool",
         "stats": {
          "unique_count": 1,
          "nan_count": 0,
          "categories": [
           {
            "name": "False",
            "count": 5
           }
          ]
         }
        },
        {
         "name": "HomeTeam_Larisa",
         "dtype": "bool",
         "stats": {
          "unique_count": 1,
          "nan_count": 0,
          "categories": [
           {
            "name": "False",
            "count": 5
           }
          ]
         }
        },
        {
         "name": "HomeTeam_Southend",
         "dtype": "bool",
         "stats": {
          "unique_count": 1,
          "nan_count": 0,
          "categories": [
           {
            "name": "False",
            "count": 5
           }
          ]
         }
        },
        {
         "name": "HomeTeam_Verona",
         "dtype": "bool",
         "stats": {
          "unique_count": 1,
          "nan_count": 0,
          "categories": [
           {
            "name": "False",
            "count": 5
           }
          ]
         }
        },
        {
         "name": "HomeTeam_Goztep",
         "dtype": "bool",
         "stats": {
          "unique_count": 1,
          "nan_count": 0,
          "categories": [
           {
            "name": "False",
            "count": 5
           }
          ]
         }
        },
        {
         "name": "HomeTeam_Genoa",
         "dtype": "bool",
         "stats": {
          "unique_count": 1,
          "nan_count": 0,
          "categories": [
           {
            "name": "False",
            "count": 5
           }
          ]
         }
        },
        {
         "name": "HomeTeam_Cambridge",
         "dtype": "bool",
         "stats": {
          "unique_count": 1,
          "nan_count": 0,
          "categories": [
           {
            "name": "False",
            "count": 5
           }
          ]
         }
        },
        {
         "name": "HomeTeam_Graafschap",
         "dtype": "bool",
         "stats": {
          "unique_count": 1,
          "nan_count": 0,
          "categories": [
           {
            "name": "False",
            "count": 5
           }
          ]
         }
        },
        {
         "name": "HomeTeam_Angers",
         "dtype": "bool",
         "stats": {
          "unique_count": 1,
          "nan_count": 0,
          "categories": [
           {
            "name": "False",
            "count": 5
           }
          ]
         }
        },
        {
         "name": "HomeTeam_Ath Bilbao",
         "dtype": "bool",
         "stats": {
          "unique_count": 1,
          "nan_count": 0,
          "categories": [
           {
            "name": "False",
            "count": 5
           }
          ]
         }
        },
        {
         "name": "HomeTeam_Charlton",
         "dtype": "bool",
         "stats": {
          "unique_count": 1,
          "nan_count": 0,
          "categories": [
           {
            "name": "False",
            "count": 5
           }
          ]
         }
        },
        {
         "name": "HomeTeam_East Fife",
         "dtype": "bool",
         "stats": {
          "unique_count": 1,
          "nan_count": 0,
          "categories": [
           {
            "name": "False",
            "count": 5
           }
          ]
         }
        },
        {
         "name": "HomeTeam_Club Brugge",
         "dtype": "bool",
         "stats": {
          "unique_count": 1,
          "nan_count": 0,
          "categories": [
           {
            "name": "False",
            "count": 5
           }
          ]
         }
        },
        {
         "name": "HomeTeam_NAC Breda",
         "dtype": "bool",
         "stats": {
          "unique_count": 1,
          "nan_count": 0,
          "categories": [
           {
            "name": "False",
            "count": 5
           }
          ]
         }
        },
        {
         "name": "HomeTeam_Las Palmas",
         "dtype": "bool",
         "stats": {
          "unique_count": 1,
          "nan_count": 0,
          "categories": [
           {
            "name": "False",
            "count": 5
           }
          ]
         }
        },
        {
         "name": "HomeTeam_Lazio",
         "dtype": "bool",
         "stats": {
          "unique_count": 1,
          "nan_count": 0,
          "categories": [
           {
            "name": "False",
            "count": 5
           }
          ]
         }
        },
        {
         "name": "HomeTeam_Seraing",
         "dtype": "bool",
         "stats": {
          "unique_count": 1,
          "nan_count": 0,
          "categories": [
           {
            "name": "False",
            "count": 5
           }
          ]
         }
        },
        {
         "name": "HomeTeam_Reus Deportiu",
         "dtype": "bool",
         "stats": {
          "unique_count": 1,
          "nan_count": 0,
          "categories": [
           {
            "name": "False",
            "count": 5
           }
          ]
         }
        },
        {
         "name": "HomeTeam_Ajax",
         "dtype": "bool",
         "stats": {
          "unique_count": 1,
          "nan_count": 0,
          "categories": [
           {
            "name": "False",
            "count": 5
           }
          ]
         }
        },
        {
         "name": "HomeTeam_Lincoln",
         "dtype": "bool",
         "stats": {
          "unique_count": 1,
          "nan_count": 0,
          "categories": [
           {
            "name": "False",
            "count": 5
           }
          ]
         }
        },
        {
         "name": "HomeTeam_Nancy",
         "dtype": "bool",
         "stats": {
          "unique_count": 1,
          "nan_count": 0,
          "categories": [
           {
            "name": "False",
            "count": 5
           }
          ]
         }
        },
        {
         "name": "HomeTeam_Frosinone",
         "dtype": "bool",
         "stats": {
          "unique_count": 1,
          "nan_count": 0,
          "categories": [
           {
            "name": "False",
            "count": 5
           }
          ]
         }
        },
        {
         "name": "HomeTeam_Hull",
         "dtype": "bool",
         "stats": {
          "unique_count": 1,
          "nan_count": 0,
          "categories": [
           {
            "name": "False",
            "count": 5
           }
          ]
         }
        },
        {
         "name": "HomeTeam_Chaves",
         "dtype": "bool",
         "stats": {
          "unique_count": 1,
          "nan_count": 0,
          "categories": [
           {
            "name": "False",
            "count": 5
           }
          ]
         }
        },
        {
         "name": "HomeTeam_Rio Ave",
         "dtype": "bool",
         "stats": {
          "unique_count": 1,
          "nan_count": 0,
          "categories": [
           {
            "name": "False",
            "count": 5
           }
          ]
         }
        },
        {
         "name": "HomeTeam_Cesena",
         "dtype": "bool",
         "stats": {
          "unique_count": 1,
          "nan_count": 0,
          "categories": [
           {
            "name": "False",
            "count": 5
           }
          ]
         }
        },
        {
         "name": "HomeTeam_Amorebieta",
         "dtype": "bool",
         "stats": {
          "unique_count": 1,
          "nan_count": 0,
          "categories": [
           {
            "name": "False",
            "count": 5
           }
          ]
         }
        },
        {
         "name": "HomeTeam_Rizespor",
         "dtype": "bool",
         "stats": {
          "unique_count": 1,
          "nan_count": 0,
          "categories": [
           {
            "name": "False",
            "count": 5
           }
          ]
         }
        },
        {
         "name": "HomeTeam_Milton Keynes Dons",
         "dtype": "bool",
         "stats": {
          "unique_count": 1,
          "nan_count": 0,
          "categories": [
           {
            "name": "False",
            "count": 5
           }
          ]
         }
        },
        {
         "name": "HomeTeam_Volos NFC",
         "dtype": "bool",
         "stats": {
          "unique_count": 1,
          "nan_count": 0,
          "categories": [
           {
            "name": "False",
            "count": 5
           }
          ]
         }
        },
        {
         "name": "HomeTeam_Nacional",
         "dtype": "bool",
         "stats": {
          "unique_count": 1,
          "nan_count": 0,
          "categories": [
           {
            "name": "False",
            "count": 5
           }
          ]
         }
        },
        {
         "name": "HomeTeam_Kaiserslautern",
         "dtype": "bool",
         "stats": {
          "unique_count": 1,
          "nan_count": 0,
          "categories": [
           {
            "name": "False",
            "count": 5
           }
          ]
         }
        },
        {
         "name": "HomeTeam_Castellon",
         "dtype": "bool",
         "stats": {
          "unique_count": 1,
          "nan_count": 0,
          "categories": [
           {
            "name": "False",
            "count": 5
           }
          ]
         }
        },
        {
         "name": "HomeTeam_Berwick",
         "dtype": "bool",
         "stats": {
          "unique_count": 1,
          "nan_count": 0,
          "categories": [
           {
            "name": "False",
            "count": 5
           }
          ]
         }
        },
        {
         "name": "HomeTeam_Osmanlispor",
         "dtype": "bool",
         "stats": {
          "unique_count": 1,
          "nan_count": 0,
          "categories": [
           {
            "name": "False",
            "count": 5
           }
          ]
         }
        },
        {
         "name": "HomeTeam_Bologna",
         "dtype": "bool",
         "stats": {
          "unique_count": 1,
          "nan_count": 0,
          "categories": [
           {
            "name": "False",
            "count": 5
           }
          ]
         }
        },
        {
         "name": "HomeTeam_Barnsley",
         "dtype": "bool",
         "stats": {
          "unique_count": 1,
          "nan_count": 0,
          "categories": [
           {
            "name": "False",
            "count": 5
           }
          ]
         }
        },
        {
         "name": "HomeTeam_Brentford",
         "dtype": "bool",
         "stats": {
          "unique_count": 1,
          "nan_count": 0,
          "categories": [
           {
            "name": "False",
            "count": 5
           }
          ]
         }
        },
        {
         "name": "HomeTeam_Brescia",
         "dtype": "bool",
         "stats": {
          "unique_count": 1,
          "nan_count": 0,
          "categories": [
           {
            "name": "False",
            "count": 5
           }
          ]
         }
        },
        {
         "name": "HomeTeam_Leeds",
         "dtype": "bool",
         "stats": {
          "unique_count": 1,
          "nan_count": 0,
          "categories": [
           {
            "name": "False",
            "count": 5
           }
          ]
         }
        },
        {
         "name": "HomeTeam_Lorca",
         "dtype": "bool",
         "stats": {
          "unique_count": 1,
          "nan_count": 0,
          "categories": [
           {
            "name": "False",
            "count": 5
           }
          ]
         }
        },
        {
         "name": "HomeTeam_Exeter",
         "dtype": "bool",
         "stats": {
          "unique_count": 1,
          "nan_count": 0,
          "categories": [
           {
            "name": "False",
            "count": 5
           }
          ]
         }
        },
        {
         "name": "HomeTeam_Heerenveen",
         "dtype": "bool",
         "stats": {
          "unique_count": 1,
          "nan_count": 0,
          "categories": [
           {
            "name": "False",
            "count": 5
           }
          ]
         }
        },
        {
         "name": "HomeTeam_Pro Vercelli",
         "dtype": "bool",
         "stats": {
          "unique_count": 1,
          "nan_count": 0,
          "categories": [
           {
            "name": "False",
            "count": 5
           }
          ]
         }
        },
        {
         "name": "HomeTeam_Carpi",
         "dtype": "bool",
         "stats": {
          "unique_count": 1,
          "nan_count": 0,
          "categories": [
           {
            "name": "False",
            "count": 5
           }
          ]
         }
        },
        {
         "name": "HomeTeam_Derby",
         "dtype": "bool",
         "stats": {
          "unique_count": 1,
          "nan_count": 0,
          "categories": [
           {
            "name": "False",
            "count": 5
           }
          ]
         }
        },
        {
         "name": "HomeTeam_Burgos",
         "dtype": "bool",
         "stats": {
          "unique_count": 1,
          "nan_count": 0,
          "categories": [
           {
            "name": "False",
            "count": 5
           }
          ]
         }
        },
        {
         "name": "HomeTeam_Forest Green",
         "dtype": "bool",
         "stats": {
          "unique_count": 1,
          "nan_count": 0,
          "categories": [
           {
            "name": "False",
            "count": 5
           }
          ]
         }
        },
        {
         "name": "HomeTeam_QPR",
         "dtype": "bool",
         "stats": {
          "unique_count": 1,
          "nan_count": 0,
          "categories": [
           {
            "name": "False",
            "count": 5
           }
          ]
         }
        },
        {
         "name": "HomeTeam_Santa Clara",
         "dtype": "bool",
         "stats": {
          "unique_count": 1,
          "nan_count": 0,
          "categories": [
           {
            "name": "False",
            "count": 5
           }
          ]
         }
        },
        {
         "name": "HomeTeam_Bursaspor",
         "dtype": "bool",
         "stats": {
          "unique_count": 1,
          "nan_count": 0,
          "categories": [
           {
            "name": "False",
            "count": 5
           }
          ]
         }
        },
        {
         "name": "HomeTeam_Sp Braga",
         "dtype": "bool",
         "stats": {
          "unique_count": 1,
          "nan_count": 0,
          "categories": [
           {
            "name": "False",
            "count": 5
           }
          ]
         }
        },
        {
         "name": "HomeTeam_Blackburn",
         "dtype": "bool",
         "stats": {
          "unique_count": 1,
          "nan_count": 0,
          "categories": [
           {
            "name": "False",
            "count": 5
           }
          ]
         }
        },
        {
         "name": "HomeTeam_Nijmegen",
         "dtype": "bool",
         "stats": {
          "unique_count": 1,
          "nan_count": 0,
          "categories": [
           {
            "name": "False",
            "count": 5
           }
          ]
         }
        },
        {
         "name": "HomeTeam_Rochdale",
         "dtype": "bool",
         "stats": {
          "unique_count": 1,
          "nan_count": 0,
          "categories": [
           {
            "name": "False",
            "count": 5
           }
          ]
         }
        },
        {
         "name": "HomeTeam_Grimsby",
         "dtype": "bool",
         "stats": {
          "unique_count": 1,
          "nan_count": 0,
          "categories": [
           {
            "name": "False",
            "count": 5
           }
          ]
         }
        },
        {
         "name": "HomeTeam_Newcastle",
         "dtype": "bool",
         "stats": {
          "unique_count": 1,
          "nan_count": 0,
          "categories": [
           {
            "name": "False",
            "count": 5
           }
          ]
         }
        },
        {
         "name": "HomeTeam_Freiburg",
         "dtype": "bool",
         "stats": {
          "unique_count": 1,
          "nan_count": 0,
          "categories": [
           {
            "name": "False",
            "count": 5
           }
          ]
         }
        },
        {
         "name": "HomeTeam_Red Star",
         "dtype": "bool",
         "stats": {
          "unique_count": 1,
          "nan_count": 0,
          "categories": [
           {
            "name": "False",
            "count": 5
           }
          ]
         }
        },
        {
         "name": "HomeTeam_Juventus",
         "dtype": "bool",
         "stats": {
          "unique_count": 1,
          "nan_count": 0,
          "categories": [
           {
            "name": "False",
            "count": 5
           }
          ]
         }
        },
        {
         "name": "HomeTeam_Guingamp",
         "dtype": "bool",
         "stats": {
          "unique_count": 1,
          "nan_count": 0,
          "categories": [
           {
            "name": "False",
            "count": 5
           }
          ]
         }
        },
        {
         "name": "HomeTeam_Salernitana",
         "dtype": "bool",
         "stats": {
          "unique_count": 1,
          "nan_count": 0,
          "categories": [
           {
            "name": "False",
            "count": 5
           }
          ]
         }
        },
        {
         "name": "HomeTeam_St Mirren",
         "dtype": "bool",
         "stats": {
          "unique_count": 1,
          "nan_count": 0,
          "categories": [
           {
            "name": "False",
            "count": 5
           }
          ]
         }
        },
        {
         "name": "HomeTeam_Hertha",
         "dtype": "bool",
         "stats": {
          "unique_count": 1,
          "nan_count": 0,
          "categories": [
           {
            "name": "False",
            "count": 5
           }
          ]
         }
        },
        {
         "name": "HomeTeam_Aston Villa",
         "dtype": "bool",
         "stats": {
          "unique_count": 1,
          "nan_count": 0,
          "categories": [
           {
            "name": "False",
            "count": 5
           }
          ]
         }
        },
        {
         "name": "HomeTeam_Salford",
         "dtype": "bool",
         "stats": {
          "unique_count": 1,
          "nan_count": 0,
          "categories": [
           {
            "name": "False",
            "count": 5
           }
          ]
         }
        },
        {
         "name": "HomeTeam_St Truiden",
         "dtype": "bool",
         "stats": {
          "unique_count": 2,
          "nan_count": 0,
          "categories": [
           {
            "name": "False",
            "count": 4
           },
           {
            "name": "True",
            "count": 1
           }
          ]
         }
        },
        {
         "name": "HomeTeam_Yeni Malatyaspor",
         "dtype": "bool",
         "stats": {
          "unique_count": 1,
          "nan_count": 0,
          "categories": [
           {
            "name": "False",
            "count": 5
           }
          ]
         }
        },
        {
         "name": "HomeTeam_Dresden",
         "dtype": "bool",
         "stats": {
          "unique_count": 1,
          "nan_count": 0,
          "categories": [
           {
            "name": "False",
            "count": 5
           }
          ]
         }
        },
        {
         "name": "HomeTeam_Stenhousemuir",
         "dtype": "bool",
         "stats": {
          "unique_count": 1,
          "nan_count": 0,
          "categories": [
           {
            "name": "False",
            "count": 5
           }
          ]
         }
        },
        {
         "name": "HomeTeam_Spezia",
         "dtype": "bool",
         "stats": {
          "unique_count": 1,
          "nan_count": 0,
          "categories": [
           {
            "name": "False",
            "count": 5
           }
          ]
         }
        },
        {
         "name": "HomeTeam_Ajaccio",
         "dtype": "bool",
         "stats": {
          "unique_count": 1,
          "nan_count": 0,
          "categories": [
           {
            "name": "False",
            "count": 5
           }
          ]
         }
        },
        {
         "name": "HomeTeam_AZ Alkmaar",
         "dtype": "bool",
         "stats": {
          "unique_count": 1,
          "nan_count": 0,
          "categories": [
           {
            "name": "False",
            "count": 5
           }
          ]
         }
        },
        {
         "name": "HomeTeam_Augsburg",
         "dtype": "bool",
         "stats": {
          "unique_count": 1,
          "nan_count": 0,
          "categories": [
           {
            "name": "False",
            "count": 5
           }
          ]
         }
        },
        {
         "name": "HomeTeam_Cove Rangers",
         "dtype": "bool",
         "stats": {
          "unique_count": 1,
          "nan_count": 0,
          "categories": [
           {
            "name": "False",
            "count": 5
           }
          ]
         }
        },
        {
         "name": "HomeTeam_Darmstadt",
         "dtype": "bool",
         "stats": {
          "unique_count": 1,
          "nan_count": 0,
          "categories": [
           {
            "name": "False",
            "count": 5
           }
          ]
         }
        },
        {
         "name": "HomeTeam_Aris",
         "dtype": "bool",
         "stats": {
          "unique_count": 1,
          "nan_count": 0,
          "categories": [
           {
            "name": "False",
            "count": 5
           }
          ]
         }
        },
        {
         "name": "HomeTeam_Cordoba",
         "dtype": "bool",
         "stats": {
          "unique_count": 1,
          "nan_count": 0,
          "categories": [
           {
            "name": "False",
            "count": 5
           }
          ]
         }
        },
        {
         "name": "HomeTeam_Werder Bremen",
         "dtype": "bool",
         "stats": {
          "unique_count": 1,
          "nan_count": 0,
          "categories": [
           {
            "name": "False",
            "count": 5
           }
          ]
         }
        },
        {
         "name": "HomeTeam_Hoffenheim",
         "dtype": "bool",
         "stats": {
          "unique_count": 1,
          "nan_count": 0,
          "categories": [
           {
            "name": "False",
            "count": 5
           }
          ]
         }
        },
        {
         "name": "HomeTeam_Harrogate",
         "dtype": "bool",
         "stats": {
          "unique_count": 1,
          "nan_count": 0,
          "categories": [
           {
            "name": "False",
            "count": 5
           }
          ]
         }
        },
        {
         "name": "HomeTeam_Crewe",
         "dtype": "bool",
         "stats": {
          "unique_count": 1,
          "nan_count": 0,
          "categories": [
           {
            "name": "False",
            "count": 5
           }
          ]
         }
        },
        {
         "name": "HomeTeam_Edinburgh City",
         "dtype": "bool",
         "stats": {
          "unique_count": 1,
          "nan_count": 0,
          "categories": [
           {
            "name": "False",
            "count": 5
           }
          ]
         }
        },
        {
         "name": "HomeTeam_Auxerre",
         "dtype": "bool",
         "stats": {
          "unique_count": 1,
          "nan_count": 0,
          "categories": [
           {
            "name": "False",
            "count": 5
           }
          ]
         }
        },
        {
         "name": "HomeTeam_Crotone",
         "dtype": "bool",
         "stats": {
          "unique_count": 1,
          "nan_count": 0,
          "categories": [
           {
            "name": "False",
            "count": 5
           }
          ]
         }
        },
        {
         "name": "HomeTeam_Genclerbirligi",
         "dtype": "bool",
         "stats": {
          "unique_count": 1,
          "nan_count": 0,
          "categories": [
           {
            "name": "False",
            "count": 5
           }
          ]
         }
        },
        {
         "name": "HomeTeam_Ponferradina",
         "dtype": "bool",
         "stats": {
          "unique_count": 1,
          "nan_count": 0,
          "categories": [
           {
            "name": "False",
            "count": 5
           }
          ]
         }
        },
        {
         "name": "HomeTeam_Akhisar Belediyespor",
         "dtype": "bool",
         "stats": {
          "unique_count": 1,
          "nan_count": 0,
          "categories": [
           {
            "name": "False",
            "count": 5
           }
          ]
         }
        },
        {
         "name": "HomeTeam_Farense",
         "dtype": "bool",
         "stats": {
          "unique_count": 1,
          "nan_count": 0,
          "categories": [
           {
            "name": "False",
            "count": 5
           }
          ]
         }
        },
        {
         "name": "HomeTeam_Galatasaray",
         "dtype": "bool",
         "stats": {
          "unique_count": 1,
          "nan_count": 0,
          "categories": [
           {
            "name": "False",
            "count": 5
           }
          ]
         }
        },
        {
         "name": "HomeTeam_Wurzburger Kickers",
         "dtype": "bool",
         "stats": {
          "unique_count": 1,
          "nan_count": 0,
          "categories": [
           {
            "name": "False",
            "count": 5
           }
          ]
         }
        },
        {
         "name": "HomeTeam_Bari",
         "dtype": "bool",
         "stats": {
          "unique_count": 1,
          "nan_count": 0,
          "categories": [
           {
            "name": "False",
            "count": 5
           }
          ]
         }
        },
        {
         "name": "HomeTeam_Stranraer",
         "dtype": "bool",
         "stats": {
          "unique_count": 1,
          "nan_count": 0,
          "categories": [
           {
            "name": "False",
            "count": 5
           }
          ]
         }
        },
        {
         "name": "HomeTeam_Man United",
         "dtype": "bool",
         "stats": {
          "unique_count": 1,
          "nan_count": 0,
          "categories": [
           {
            "name": "False",
            "count": 5
           }
          ]
         }
        },
        {
         "name": "HomeTeam_Perugia",
         "dtype": "bool",
         "stats": {
          "unique_count": 1,
          "nan_count": 0,
          "categories": [
           {
            "name": "False",
            "count": 5
           }
          ]
         }
        },
        {
         "name": "HomeTeam_Karabukspor",
         "dtype": "bool",
         "stats": {
          "unique_count": 1,
          "nan_count": 0,
          "categories": [
           {
            "name": "False",
            "count": 5
           }
          ]
         }
        },
        {
         "name": "HomeTeam_Caen",
         "dtype": "bool",
         "stats": {
          "unique_count": 1,
          "nan_count": 0,
          "categories": [
           {
            "name": "False",
            "count": 5
           }
          ]
         }
        },
        {
         "name": "HomeTeam_Nott'm Forest",
         "dtype": "bool",
         "stats": {
          "unique_count": 1,
          "nan_count": 0,
          "categories": [
           {
            "name": "False",
            "count": 5
           }
          ]
         }
        },
        {
         "name": "HomeTeam_Bordeaux",
         "dtype": "bool",
         "stats": {
          "unique_count": 1,
          "nan_count": 0,
          "categories": [
           {
            "name": "False",
            "count": 5
           }
          ]
         }
        },
        {
         "name": "HomeTeam_Livorno",
         "dtype": "bool",
         "stats": {
          "unique_count": 1,
          "nan_count": 0,
          "categories": [
           {
            "name": "False",
            "count": 5
           }
          ]
         }
        },
        {
         "name": "HomeTeam_Monza",
         "dtype": "bool",
         "stats": {
          "unique_count": 1,
          "nan_count": 0,
          "categories": [
           {
            "name": "False",
            "count": 5
           }
          ]
         }
        },
        {
         "name": "HomeTeam_Bristol Rvs",
         "dtype": "bool",
         "stats": {
          "unique_count": 1,
          "nan_count": 0,
          "categories": [
           {
            "name": "False",
            "count": 5
           }
          ]
         }
        },
        {
         "name": "HomeTeam_Holstein Kiel",
         "dtype": "bool",
         "stats": {
          "unique_count": 1,
          "nan_count": 0,
          "categories": [
           {
            "name": "False",
            "count": 5
           }
          ]
         }
        },
        {
         "name": "HomeTeam_Fiorentina",
         "dtype": "bool",
         "stats": {
          "unique_count": 1,
          "nan_count": 0,
          "categories": [
           {
            "name": "False",
            "count": 5
           }
          ]
         }
        },
        {
         "name": "HomeTeam_Sivasspor",
         "dtype": "bool",
         "stats": {
          "unique_count": 1,
          "nan_count": 0,
          "categories": [
           {
            "name": "False",
            "count": 5
           }
          ]
         }
        },
        {
         "name": "HomeTeam_Trabzonspor",
         "dtype": "bool",
         "stats": {
          "unique_count": 1,
          "nan_count": 0,
          "categories": [
           {
            "name": "False",
            "count": 5
           }
          ]
         }
        },
        {
         "name": "HomeTeam_Cowdenbeath",
         "dtype": "bool",
         "stats": {
          "unique_count": 1,
          "nan_count": 0,
          "categories": [
           {
            "name": "False",
            "count": 5
           }
          ]
         }
        },
        {
         "name": "HomeTeam_Elche",
         "dtype": "bool",
         "stats": {
          "unique_count": 1,
          "nan_count": 0,
          "categories": [
           {
            "name": "False",
            "count": 5
           }
          ]
         }
        },
        {
         "name": "HomeTeam_Paris FC",
         "dtype": "bool",
         "stats": {
          "unique_count": 1,
          "nan_count": 0,
          "categories": [
           {
            "name": "False",
            "count": 5
           }
          ]
         }
        },
        {
         "name": "HomeTeam_Pau FC",
         "dtype": "bool",
         "stats": {
          "unique_count": 1,
          "nan_count": 0,
          "categories": [
           {
            "name": "False",
            "count": 5
           }
          ]
         }
        },
        {
         "name": "HomeTeam_Portimonense",
         "dtype": "bool",
         "stats": {
          "unique_count": 1,
          "nan_count": 0,
          "categories": [
           {
            "name": "False",
            "count": 5
           }
          ]
         }
        },
        {
         "name": "HomeTeam_Lamia",
         "dtype": "bool",
         "stats": {
          "unique_count": 1,
          "nan_count": 0,
          "categories": [
           {
            "name": "False",
            "count": 5
           }
          ]
         }
        },
        {
         "name": "HomeTeam_Newport County",
         "dtype": "bool",
         "stats": {
          "unique_count": 1,
          "nan_count": 0,
          "categories": [
           {
            "name": "False",
            "count": 5
           }
          ]
         }
        },
        {
         "name": "HomeTeam_Northampton",
         "dtype": "bool",
         "stats": {
          "unique_count": 1,
          "nan_count": 0,
          "categories": [
           {
            "name": "False",
            "count": 5
           }
          ]
         }
        },
        {
         "name": "HomeTeam_Celta",
         "dtype": "bool",
         "stats": {
          "unique_count": 1,
          "nan_count": 0,
          "categories": [
           {
            "name": "False",
            "count": 5
           }
          ]
         }
        },
        {
         "name": "HomeTeam_Hatayspor",
         "dtype": "bool",
         "stats": {
          "unique_count": 1,
          "nan_count": 0,
          "categories": [
           {
            "name": "False",
            "count": 5
           }
          ]
         }
        },
        {
         "name": "HomeTeam_FC Koln",
         "dtype": "bool",
         "stats": {
          "unique_count": 1,
          "nan_count": 0,
          "categories": [
           {
            "name": "False",
            "count": 5
           }
          ]
         }
        },
        {
         "name": "HomeTeam_Sassuolo",
         "dtype": "bool",
         "stats": {
          "unique_count": 1,
          "nan_count": 0,
          "categories": [
           {
            "name": "False",
            "count": 5
           }
          ]
         }
        },
        {
         "name": "HomeTeam_Feirense",
         "dtype": "bool",
         "stats": {
          "unique_count": 1,
          "nan_count": 0,
          "categories": [
           {
            "name": "False",
            "count": 5
           }
          ]
         }
        },
        {
         "name": "HomeTeam_Erzurum BB",
         "dtype": "bool",
         "stats": {
          "unique_count": 1,
          "nan_count": 0,
          "categories": [
           {
            "name": "False",
            "count": 5
           }
          ]
         }
        },
        {
         "name": "HomeTeam_Wolfsburg",
         "dtype": "bool",
         "stats": {
          "unique_count": 1,
          "nan_count": 0,
          "categories": [
           {
            "name": "False",
            "count": 5
           }
          ]
         }
        },
        {
         "name": "HomeTeam_Albion Rvs",
         "dtype": "bool",
         "stats": {
          "unique_count": 1,
          "nan_count": 0,
          "categories": [
           {
            "name": "False",
            "count": 5
           }
          ]
         }
        },
        {
         "name": "HomeTeam_Waalwijk",
         "dtype": "bool",
         "stats": {
          "unique_count": 1,
          "nan_count": 0,
          "categories": [
           {
            "name": "False",
            "count": 5
           }
          ]
         }
        },
        {
         "name": "HomeTeam_Duisburg",
         "dtype": "bool",
         "stats": {
          "unique_count": 1,
          "nan_count": 0,
          "categories": [
           {
            "name": "False",
            "count": 5
           }
          ]
         }
        },
        {
         "name": "HomeTeam_Girona",
         "dtype": "bool",
         "stats": {
          "unique_count": 1,
          "nan_count": 0,
          "categories": [
           {
            "name": "False",
            "count": 5
           }
          ]
         }
        },
        {
         "name": "HomeTeam_Kortrijk",
         "dtype": "bool",
         "stats": {
          "unique_count": 1,
          "nan_count": 0,
          "categories": [
           {
            "name": "False",
            "count": 5
           }
          ]
         }
        },
        {
         "name": "HomeTeam_Beerschot VA",
         "dtype": "bool",
         "stats": {
          "unique_count": 1,
          "nan_count": 0,
          "categories": [
           {
            "name": "False",
            "count": 5
           }
          ]
         }
        },
        {
         "name": "HomeTeam_Hamilton",
         "dtype": "bool",
         "stats": {
          "unique_count": 1,
          "nan_count": 0,
          "categories": [
           {
            "name": "False",
            "count": 5
           }
          ]
         }
        },
        {
         "name": "HomeTeam_Waregem",
         "dtype": "bool",
         "stats": {
          "unique_count": 2,
          "nan_count": 0,
          "categories": [
           {
            "name": "False",
            "count": 4
           },
           {
            "name": "True",
            "count": 1
           }
          ]
         }
        },
        {
         "name": "HomeTeam_Crystal Palace",
         "dtype": "bool",
         "stats": {
          "unique_count": 1,
          "nan_count": 0,
          "categories": [
           {
            "name": "False",
            "count": 5
           }
          ]
         }
        },
        {
         "name": "HomeTeam_Belenenses",
         "dtype": "bool",
         "stats": {
          "unique_count": 1,
          "nan_count": 0,
          "categories": [
           {
            "name": "False",
            "count": 5
           }
          ]
         }
        },
        {
         "name": "HomeTeam_Dortmund",
         "dtype": "bool",
         "stats": {
          "unique_count": 1,
          "nan_count": 0,
          "categories": [
           {
            "name": "False",
            "count": 5
           }
          ]
         }
        },
        {
         "name": "HomeTeam_Logrones",
         "dtype": "bool",
         "stats": {
          "unique_count": 1,
          "nan_count": 0,
          "categories": [
           {
            "name": "False",
            "count": 5
           }
          ]
         }
        },
        {
         "name": "HomeTeam_Plymouth",
         "dtype": "bool",
         "stats": {
          "unique_count": 1,
          "nan_count": 0,
          "categories": [
           {
            "name": "False",
            "count": 5
           }
          ]
         }
        },
        {
         "name": "HomeTeam_Peterboro",
         "dtype": "bool",
         "stats": {
          "unique_count": 1,
          "nan_count": 0,
          "categories": [
           {
            "name": "False",
            "count": 5
           }
          ]
         }
        },
        {
         "name": "HomeTeam_Raith Rvs",
         "dtype": "bool",
         "stats": {
          "unique_count": 1,
          "nan_count": 0,
          "categories": [
           {
            "name": "False",
            "count": 5
           }
          ]
         }
        },
        {
         "name": "HomeTeam_Sparta Rotterdam",
         "dtype": "bool",
         "stats": {
          "unique_count": 1,
          "nan_count": 0,
          "categories": [
           {
            "name": "False",
            "count": 5
           }
          ]
         }
        },
        {
         "name": "HomeTeam_Orleans",
         "dtype": "bool",
         "stats": {
          "unique_count": 1,
          "nan_count": 0,
          "categories": [
           {
            "name": "False",
            "count": 5
           }
          ]
         }
        },
        {
         "name": "HomeTeam_Magdeburg",
         "dtype": "bool",
         "stats": {
          "unique_count": 1,
          "nan_count": 0,
          "categories": [
           {
            "name": "False",
            "count": 5
           }
          ]
         }
        },
        {
         "name": "HomeTeam_Gimnastic",
         "dtype": "bool",
         "stats": {
          "unique_count": 1,
          "nan_count": 0,
          "categories": [
           {
            "name": "False",
            "count": 5
           }
          ]
         }
        },
        {
         "name": "HomeTeam_Paderborn",
         "dtype": "bool",
         "stats": {
          "unique_count": 1,
          "nan_count": 0,
          "categories": [
           {
            "name": "False",
            "count": 5
           }
          ]
         }
        },
        {
         "name": "HomeTeam_Valenciennes",
         "dtype": "bool",
         "stats": {
          "unique_count": 1,
          "nan_count": 0,
          "categories": [
           {
            "name": "False",
            "count": 5
           }
          ]
         }
        },
        {
         "name": "HomeTeam_Dumbarton",
         "dtype": "bool",
         "stats": {
          "unique_count": 1,
          "nan_count": 0,
          "categories": [
           {
            "name": "False",
            "count": 5
           }
          ]
         }
        },
        {
         "name": "HomeTeam_Ayr",
         "dtype": "bool",
         "stats": {
          "unique_count": 1,
          "nan_count": 0,
          "categories": [
           {
            "name": "False",
            "count": 5
           }
          ]
         }
        },
        {
         "name": "HomeTeam_Gillingham",
         "dtype": "bool",
         "stats": {
          "unique_count": 1,
          "nan_count": 0,
          "categories": [
           {
            "name": "False",
            "count": 5
           }
          ]
         }
        },
        {
         "name": "HomeTeam_Avellino",
         "dtype": "bool",
         "stats": {
          "unique_count": 1,
          "nan_count": 0,
          "categories": [
           {
            "name": "False",
            "count": 5
           }
          ]
         }
        },
        {
         "name": "HomeTeam_Ross County",
         "dtype": "bool",
         "stats": {
          "unique_count": 1,
          "nan_count": 0,
          "categories": [
           {
            "name": "False",
            "count": 5
           }
          ]
         }
        },
        {
         "name": "HomeTeam_Inter",
         "dtype": "bool",
         "stats": {
          "unique_count": 1,
          "nan_count": 0,
          "categories": [
           {
            "name": "False",
            "count": 5
           }
          ]
         }
        },
        {
         "name": "HomeTeam_Millwall",
         "dtype": "bool",
         "stats": {
          "unique_count": 1,
          "nan_count": 0,
          "categories": [
           {
            "name": "False",
            "count": 5
           }
          ]
         }
        },
        {
         "name": "HomeTeam_Notts County",
         "dtype": "bool",
         "stats": {
          "unique_count": 1,
          "nan_count": 0,
          "categories": [
           {
            "name": "False",
            "count": 5
           }
          ]
         }
        },
        {
         "name": "HomeTeam_Venezia",
         "dtype": "bool",
         "stats": {
          "unique_count": 1,
          "nan_count": 0,
          "categories": [
           {
            "name": "False",
            "count": 5
           }
          ]
         }
        },
        {
         "name": "HomeTeam_Albacete",
         "dtype": "bool",
         "stats": {
          "unique_count": 1,
          "nan_count": 0,
          "categories": [
           {
            "name": "False",
            "count": 5
           }
          ]
         }
        },
        {
         "name": "HomeTeam_Fulham",
         "dtype": "bool",
         "stats": {
          "unique_count": 1,
          "nan_count": 0,
          "categories": [
           {
            "name": "False",
            "count": 5
           }
          ]
         }
        },
        {
         "name": "HomeTeam_Spal",
         "dtype": "bool",
         "stats": {
          "unique_count": 1,
          "nan_count": 0,
          "categories": [
           {
            "name": "False",
            "count": 5
           }
          ]
         }
        },
        {
         "name": "HomeTeam_Twente",
         "dtype": "bool",
         "stats": {
          "unique_count": 1,
          "nan_count": 0,
          "categories": [
           {
            "name": "False",
            "count": 5
           }
          ]
         }
        },
        {
         "name": "HomeTeam_Numancia",
         "dtype": "bool",
         "stats": {
          "unique_count": 1,
          "nan_count": 0,
          "categories": [
           {
            "name": "False",
            "count": 5
           }
          ]
         }
        },
        {
         "name": "HomeTeam_Pescara",
         "dtype": "bool",
         "stats": {
          "unique_count": 1,
          "nan_count": 0,
          "categories": [
           {
            "name": "False",
            "count": 5
           }
          ]
         }
        },
        {
         "name": "HomeTeam_Montpellier",
         "dtype": "bool",
         "stats": {
          "unique_count": 1,
          "nan_count": 0,
          "categories": [
           {
            "name": "False",
            "count": 5
           }
          ]
         }
        },
        {
         "name": "HomeTeam_Sandhausen",
         "dtype": "bool",
         "stats": {
          "unique_count": 1,
          "nan_count": 0,
          "categories": [
           {
            "name": "False",
            "count": 5
           }
          ]
         }
        },
        {
         "name": "HomeTeam_Vicenza",
         "dtype": "bool",
         "stats": {
          "unique_count": 1,
          "nan_count": 0,
          "categories": [
           {
            "name": "False",
            "count": 5
           }
          ]
         }
        },
        {
         "name": "HomeTeam_Groningen",
         "dtype": "bool",
         "stats": {
          "unique_count": 1,
          "nan_count": 0,
          "categories": [
           {
            "name": "False",
            "count": 5
           }
          ]
         }
        },
        {
         "name": "HomeTeam_Wycombe",
         "dtype": "bool",
         "stats": {
          "unique_count": 1,
          "nan_count": 0,
          "categories": [
           {
            "name": "False",
            "count": 5
           }
          ]
         }
        },
        {
         "name": "HomeTeam_Marseille",
         "dtype": "bool",
         "stats": {
          "unique_count": 1,
          "nan_count": 0,
          "categories": [
           {
            "name": "False",
            "count": 5
           }
          ]
         }
        },
        {
         "name": "HomeTeam_Atromitos",
         "dtype": "bool",
         "stats": {
          "unique_count": 1,
          "nan_count": 0,
          "categories": [
           {
            "name": "False",
            "count": 5
           }
          ]
         }
        },
        {
         "name": "HomeTeam_Reggiana",
         "dtype": "bool",
         "stats": {
          "unique_count": 1,
          "nan_count": 0,
          "categories": [
           {
            "name": "False",
            "count": 5
           }
          ]
         }
        },
        {
         "name": "HomeTeam_Go Ahead Eagles",
         "dtype": "bool",
         "stats": {
          "unique_count": 1,
          "nan_count": 0,
          "categories": [
           {
            "name": "False",
            "count": 5
           }
          ]
         }
        },
        {
         "name": "HomeTeam_Anderlecht",
         "dtype": "bool",
         "stats": {
          "unique_count": 1,
          "nan_count": 0,
          "categories": [
           {
            "name": "False",
            "count": 5
           }
          ]
         }
        },
        {
         "name": "HomeTeam_Carlisle",
         "dtype": "bool",
         "stats": {
          "unique_count": 1,
          "nan_count": 0,
          "categories": [
           {
            "name": "False",
            "count": 5
           }
          ]
         }
        },
        {
         "name": "HomeTeam_Apollon",
         "dtype": "bool",
         "stats": {
          "unique_count": 1,
          "nan_count": 0,
          "categories": [
           {
            "name": "False",
            "count": 5
           }
          ]
         }
        },
        {
         "name": "HomeTeam_Alcorcon",
         "dtype": "bool",
         "stats": {
          "unique_count": 1,
          "nan_count": 0,
          "categories": [
           {
            "name": "False",
            "count": 5
           }
          ]
         }
        },
        {
         "name": "HomeTeam_Oud-Heverlee Leuven",
         "dtype": "bool",
         "stats": {
          "unique_count": 1,
          "nan_count": 0,
          "categories": [
           {
            "name": "False",
            "count": 5
           }
          ]
         }
        },
        {
         "name": "HomeTeam_Hartlepool",
         "dtype": "bool",
         "stats": {
          "unique_count": 1,
          "nan_count": 0,
          "categories": [
           {
            "name": "False",
            "count": 5
           }
          ]
         }
        },
        {
         "name": "HomeTeam_Birmingham",
         "dtype": "bool",
         "stats": {
          "unique_count": 1,
          "nan_count": 0,
          "categories": [
           {
            "name": "False",
            "count": 5
           }
          ]
         }
        },
        {
         "name": "HomeTeam_Antwerp",
         "dtype": "bool",
         "stats": {
          "unique_count": 1,
          "nan_count": 0,
          "categories": [
           {
            "name": "False",
            "count": 5
           }
          ]
         }
        },
        {
         "name": "HomeTeam_St Etienne",
         "dtype": "bool",
         "stats": {
          "unique_count": 1,
          "nan_count": 0,
          "categories": [
           {
            "name": "False",
            "count": 5
           }
          ]
         }
        },
        {
         "name": "HomeTeam_Queens Park",
         "dtype": "bool",
         "stats": {
          "unique_count": 1,
          "nan_count": 0,
          "categories": [
           {
            "name": "False",
            "count": 5
           }
          ]
         }
        },
        {
         "name": "HomeTeam_Ath Madrid",
         "dtype": "bool",
         "stats": {
          "unique_count": 1,
          "nan_count": 0,
          "categories": [
           {
            "name": "False",
            "count": 5
           }
          ]
         }
        },
        {
         "name": "HomeTeam_Metz",
         "dtype": "bool",
         "stats": {
          "unique_count": 1,
          "nan_count": 0,
          "categories": [
           {
            "name": "False",
            "count": 5
           }
          ]
         }
        },
        {
         "name": "HomeTeam_Ipswich",
         "dtype": "bool",
         "stats": {
          "unique_count": 1,
          "nan_count": 0,
          "categories": [
           {
            "name": "False",
            "count": 5
           }
          ]
         }
        },
        {
         "name": "HomeTeam_Reims",
         "dtype": "bool",
         "stats": {
          "unique_count": 1,
          "nan_count": 0,
          "categories": [
           {
            "name": "False",
            "count": 5
           }
          ]
         }
        },
        {
         "name": "HomeTeam_Vizela",
         "dtype": "bool",
         "stats": {
          "unique_count": 1,
          "nan_count": 0,
          "categories": [
           {
            "name": "False",
            "count": 5
           }
          ]
         }
        },
        {
         "name": "HomeTeam_Arbroath",
         "dtype": "bool",
         "stats": {
          "unique_count": 1,
          "nan_count": 0,
          "categories": [
           {
            "name": "False",
            "count": 5
           }
          ]
         }
        },
        {
         "name": "HomeTeam_Sheffield United",
         "dtype": "bool",
         "stats": {
          "unique_count": 1,
          "nan_count": 0,
          "categories": [
           {
            "name": "False",
            "count": 5
           }
          ]
         }
        },
        {
         "name": "HomeTeam_Swindon",
         "dtype": "bool",
         "stats": {
          "unique_count": 1,
          "nan_count": 0,
          "categories": [
           {
            "name": "False",
            "count": 5
           }
          ]
         }
        },
        {
         "name": "HomeTeam_Rennes",
         "dtype": "bool",
         "stats": {
          "unique_count": 1,
          "nan_count": 0,
          "categories": [
           {
            "name": "False",
            "count": 5
           }
          ]
         }
        },
        {
         "name": "HomeTeam_Mechelen",
         "dtype": "bool",
         "stats": {
          "unique_count": 1,
          "nan_count": 0,
          "categories": [
           {
            "name": "False",
            "count": 5
           }
          ]
         }
        },
        {
         "name": "HomeTeam_Elgin",
         "dtype": "bool",
         "stats": {
          "unique_count": 1,
          "nan_count": 0,
          "categories": [
           {
            "name": "False",
            "count": 5
           }
          ]
         }
        },
        {
         "name": "HomeTeam_Napoli",
         "dtype": "bool",
         "stats": {
          "unique_count": 1,
          "nan_count": 0,
          "categories": [
           {
            "name": "False",
            "count": 5
           }
          ]
         }
        },
        {
         "name": "HomeTeam_Bolton",
         "dtype": "bool",
         "stats": {
          "unique_count": 1,
          "nan_count": 0,
          "categories": [
           {
            "name": "False",
            "count": 5
           }
          ]
         }
        },
        {
         "name": "HomeTeam_Man City",
         "dtype": "bool",
         "stats": {
          "unique_count": 1,
          "nan_count": 0,
          "categories": [
           {
            "name": "False",
            "count": 5
           }
          ]
         }
        },
        {
         "name": "HomeTeam_Genk",
         "dtype": "bool",
         "stats": {
          "unique_count": 2,
          "nan_count": 0,
          "categories": [
           {
            "name": "False",
            "count": 4
           },
           {
            "name": "True",
            "count": 1
           }
          ]
         }
        },
        {
         "name": "HomeTeam_Blackpool",
         "dtype": "bool",
         "stats": {
          "unique_count": 1,
          "nan_count": 0,
          "categories": [
           {
            "name": "False",
            "count": 5
           }
          ]
         }
        },
        {
         "name": "HomeTeam_Lecce",
         "dtype": "bool",
         "stats": {
          "unique_count": 1,
          "nan_count": 0,
          "categories": [
           {
            "name": "False",
            "count": 5
           }
          ]
         }
        },
        {
         "name": "HomeTeam_Buyuksehyr",
         "dtype": "bool",
         "stats": {
          "unique_count": 1,
          "nan_count": 0,
          "categories": [
           {
            "name": "False",
            "count": 5
           }
          ]
         }
        },
        {
         "name": "HomeTeam_Eibar",
         "dtype": "bool",
         "stats": {
          "unique_count": 1,
          "nan_count": 0,
          "categories": [
           {
            "name": "False",
            "count": 5
           }
          ]
         }
        },
        {
         "name": "HomeTeam_Torino",
         "dtype": "bool",
         "stats": {
          "unique_count": 1,
          "nan_count": 0,
          "categories": [
           {
            "name": "False",
            "count": 5
           }
          ]
         }
        },
        {
         "name": "HomeTeam_Bournemouth",
         "dtype": "bool",
         "stats": {
          "unique_count": 1,
          "nan_count": 0,
          "categories": [
           {
            "name": "False",
            "count": 5
           }
          ]
         }
        },
        {
         "name": "HomeTeam_Chievo",
         "dtype": "bool",
         "stats": {
          "unique_count": 1,
          "nan_count": 0,
          "categories": [
           {
            "name": "False",
            "count": 5
           }
          ]
         }
        },
        {
         "name": "HomeTeam_Strasbourg",
         "dtype": "bool",
         "stats": {
          "unique_count": 1,
          "nan_count": 0,
          "categories": [
           {
            "name": "False",
            "count": 5
           }
          ]
         }
        },
        {
         "name": "HomeTeam_Pisa",
         "dtype": "bool",
         "stats": {
          "unique_count": 1,
          "nan_count": 0,
          "categories": [
           {
            "name": "False",
            "count": 5
           }
          ]
         }
        },
        {
         "name": "HomeTeam_Olympiakos",
         "dtype": "bool",
         "stats": {
          "unique_count": 1,
          "nan_count": 0,
          "categories": [
           {
            "name": "False",
            "count": 5
           }
          ]
         }
        },
        {
         "name": "HomeTeam_Dunfermline",
         "dtype": "bool",
         "stats": {
          "unique_count": 1,
          "nan_count": 0,
          "categories": [
           {
            "name": "False",
            "count": 5
           }
          ]
         }
        },
        {
         "name": "HomeTeam_Chateauroux",
         "dtype": "bool",
         "stats": {
          "unique_count": 1,
          "nan_count": 0,
          "categories": [
           {
            "name": "False",
            "count": 5
           }
          ]
         }
        },
        {
         "name": "HomeTeam_Arouca",
         "dtype": "bool",
         "stats": {
          "unique_count": 1,
          "nan_count": 0,
          "categories": [
           {
            "name": "False",
            "count": 5
           }
          ]
         }
        },
        {
         "name": "HomeTeam_Excelsior",
         "dtype": "bool",
         "stats": {
          "unique_count": 1,
          "nan_count": 0,
          "categories": [
           {
            "name": "False",
            "count": 5
           }
          ]
         }
        },
        {
         "name": "HomeTeam_Ascoli",
         "dtype": "bool",
         "stats": {
          "unique_count": 1,
          "nan_count": 0,
          "categories": [
           {
            "name": "False",
            "count": 5
           }
          ]
         }
        },
        {
         "name": "HomeTeam_St. Gilloise",
         "dtype": "bool",
         "stats": {
          "unique_count": 1,
          "nan_count": 0,
          "categories": [
           {
            "name": "False",
            "count": 5
           }
          ]
         }
        },
        {
         "name": "HomeTeam_Feyenoord",
         "dtype": "bool",
         "stats": {
          "unique_count": 1,
          "nan_count": 0,
          "categories": [
           {
            "name": "False",
            "count": 5
           }
          ]
         }
        },
        {
         "name": "HomeTeam_Partick",
         "dtype": "bool",
         "stats": {
          "unique_count": 1,
          "nan_count": 0,
          "categories": [
           {
            "name": "False",
            "count": 5
           }
          ]
         }
        },
        {
         "name": "HomeTeam_Scunthorpe",
         "dtype": "bool",
         "stats": {
          "unique_count": 1,
          "nan_count": 0,
          "categories": [
           {
            "name": "False",
            "count": 5
           }
          ]
         }
        },
        {
         "name": "HomeTeam_Stuttgart",
         "dtype": "bool",
         "stats": {
          "unique_count": 1,
          "nan_count": 0,
          "categories": [
           {
            "name": "False",
            "count": 5
           }
          ]
         }
        },
        {
         "name": "HomeTeam_Bastia",
         "dtype": "bool",
         "stats": {
          "unique_count": 1,
          "nan_count": 0,
          "categories": [
           {
            "name": "False",
            "count": 5
           }
          ]
         }
        },
        {
         "name": "HomeTeam_Chambly",
         "dtype": "bool",
         "stats": {
          "unique_count": 1,
          "nan_count": 0,
          "categories": [
           {
            "name": "False",
            "count": 5
           }
          ]
         }
        },
        {
         "name": "HomeTeam_RB Leipzig",
         "dtype": "bool",
         "stats": {
          "unique_count": 1,
          "nan_count": 0,
          "categories": [
           {
            "name": "False",
            "count": 5
           }
          ]
         }
        },
        {
         "name": "HomeTeam_Doncaster",
         "dtype": "bool",
         "stats": {
          "unique_count": 1,
          "nan_count": 0,
          "categories": [
           {
            "name": "False",
            "count": 5
           }
          ]
         }
        },
        {
         "name": "HomeTeam_Lille",
         "dtype": "bool",
         "stats": {
          "unique_count": 1,
          "nan_count": 0,
          "categories": [
           {
            "name": "False",
            "count": 5
           }
          ]
         }
        },
        {
         "name": "HomeTeam_Setubal",
         "dtype": "bool",
         "stats": {
          "unique_count": 1,
          "nan_count": 0,
          "categories": [
           {
            "name": "False",
            "count": 5
           }
          ]
         }
        },
        {
         "name": "HomeTeam_Cheltenham",
         "dtype": "bool",
         "stats": {
          "unique_count": 1,
          "nan_count": 0,
          "categories": [
           {
            "name": "False",
            "count": 5
           }
          ]
         }
        },
        {
         "name": "HomeTeam_Brechin",
         "dtype": "bool",
         "stats": {
          "unique_count": 1,
          "nan_count": 0,
          "categories": [
           {
            "name": "False",
            "count": 5
           }
          ]
         }
        },
        {
         "name": "HomeTeam_Parma",
         "dtype": "bool",
         "stats": {
          "unique_count": 1,
          "nan_count": 0,
          "categories": [
           {
            "name": "False",
            "count": 5
           }
          ]
         }
        },
        {
         "name": "HomeTeam_Swansea",
         "dtype": "bool",
         "stats": {
          "unique_count": 1,
          "nan_count": 0,
          "categories": [
           {
            "name": "False",
            "count": 5
           }
          ]
         }
        },
        {
         "name": "HomeTeam_Famalicao",
         "dtype": "bool",
         "stats": {
          "unique_count": 1,
          "nan_count": 0,
          "categories": [
           {
            "name": "False",
            "count": 5
           }
          ]
         }
        },
        {
         "name": "HomeTeam_Dundee United",
         "dtype": "bool",
         "stats": {
          "unique_count": 1,
          "nan_count": 0,
          "categories": [
           {
            "name": "False",
            "count": 5
           }
          ]
         }
        },
        {
         "name": "HomeTeam_Alessandria",
         "dtype": "bool",
         "stats": {
          "unique_count": 1,
          "nan_count": 0,
          "categories": [
           {
            "name": "False",
            "count": 5
           }
          ]
         }
        },
        {
         "name": "HomeTeam_Atalanta",
         "dtype": "bool",
         "stats": {
          "unique_count": 1,
          "nan_count": 0,
          "categories": [
           {
            "name": "False",
            "count": 5
           }
          ]
         }
        },
        {
         "name": "HomeTeam_Clyde",
         "dtype": "bool",
         "stats": {
          "unique_count": 1,
          "nan_count": 0,
          "categories": [
           {
            "name": "False",
            "count": 5
           }
          ]
         }
        },
        {
         "name": "HomeTeam_Huesca",
         "dtype": "bool",
         "stats": {
          "unique_count": 1,
          "nan_count": 0,
          "categories": [
           {
            "name": "False",
            "count": 5
           }
          ]
         }
        },
        {
         "name": "HomeTeam_Empoli",
         "dtype": "bool",
         "stats": {
          "unique_count": 1,
          "nan_count": 0,
          "categories": [
           {
            "name": "False",
            "count": 5
           }
          ]
         }
        },
        {
         "name": "HomeTeam_Stirling",
         "dtype": "bool",
         "stats": {
          "unique_count": 1,
          "nan_count": 0,
          "categories": [
           {
            "name": "False",
            "count": 5
           }
          ]
         }
        },
        {
         "name": "HomeTeam_Burton",
         "dtype": "bool",
         "stats": {
          "unique_count": 1,
          "nan_count": 0,
          "categories": [
           {
            "name": "False",
            "count": 5
           }
          ]
         }
        },
        {
         "name": "HomeTeam_Sevilla",
         "dtype": "bool",
         "stats": {
          "unique_count": 1,
          "nan_count": 0,
          "categories": [
           {
            "name": "False",
            "count": 5
           }
          ]
         }
        },
        {
         "name": "HomeTeam_Celtic",
         "dtype": "bool",
         "stats": {
          "unique_count": 1,
          "nan_count": 0,
          "categories": [
           {
            "name": "False",
            "count": 5
           }
          ]
         }
        },
        {
         "name": "HomeTeam_Macclesfield",
         "dtype": "bool",
         "stats": {
          "unique_count": 1,
          "nan_count": 0,
          "categories": [
           {
            "name": "False",
            "count": 5
           }
          ]
         }
        },
        {
         "name": "HomeTeam_Virtus Entella",
         "dtype": "bool",
         "stats": {
          "unique_count": 1,
          "nan_count": 0,
          "categories": [
           {
            "name": "False",
            "count": 5
           }
          ]
         }
        },
        {
         "name": "HomeTeam_Sutton",
         "dtype": "bool",
         "stats": {
          "unique_count": 1,
          "nan_count": 0,
          "categories": [
           {
            "name": "False",
            "count": 5
           }
          ]
         }
        },
        {
         "name": "HomeTeam_Preston",
         "dtype": "bool",
         "stats": {
          "unique_count": 1,
          "nan_count": 0,
          "categories": [
           {
            "name": "False",
            "count": 5
           }
          ]
         }
        },
        {
         "name": "HomeTeam_Como",
         "dtype": "bool",
         "stats": {
          "unique_count": 1,
          "nan_count": 0,
          "categories": [
           {
            "name": "False",
            "count": 5
           }
          ]
         }
        },
        {
         "name": "HomeTeam_Greuther Furth",
         "dtype": "bool",
         "stats": {
          "unique_count": 1,
          "nan_count": 0,
          "categories": [
           {
            "name": "False",
            "count": 5
           }
          ]
         }
        },
        {
         "name": "HomeTeam_Chelsea",
         "dtype": "bool",
         "stats": {
          "unique_count": 1,
          "nan_count": 0,
          "categories": [
           {
            "name": "False",
            "count": 5
           }
          ]
         }
        },
        {
         "name": "HomeTeam_Lyon",
         "dtype": "bool",
         "stats": {
          "unique_count": 1,
          "nan_count": 0,
          "categories": [
           {
            "name": "False",
            "count": 5
           }
          ]
         }
        },
        {
         "name": "HomeTeam_Fenerbahce",
         "dtype": "bool",
         "stats": {
          "unique_count": 1,
          "nan_count": 0,
          "categories": [
           {
            "name": "False",
            "count": 5
           }
          ]
         }
        },
        {
         "name": "HomeTeam_Getafe",
         "dtype": "bool",
         "stats": {
          "unique_count": 1,
          "nan_count": 0,
          "categories": [
           {
            "name": "False",
            "count": 5
           }
          ]
         }
        },
        {
         "name": "HomeTeam_Santander",
         "dtype": "bool",
         "stats": {
          "unique_count": 1,
          "nan_count": 0,
          "categories": [
           {
            "name": "False",
            "count": 5
           }
          ]
         }
        },
        {
         "name": "HomeTeam_Walsall",
         "dtype": "bool",
         "stats": {
          "unique_count": 1,
          "nan_count": 0,
          "categories": [
           {
            "name": "False",
            "count": 5
           }
          ]
         }
        },
        {
         "name": "HomeTeam_Udinese",
         "dtype": "bool",
         "stats": {
          "unique_count": 1,
          "nan_count": 0,
          "categories": [
           {
            "name": "False",
            "count": 5
           }
          ]
         }
        },
        {
         "name": "HomeTeam_Tondela",
         "dtype": "bool",
         "stats": {
          "unique_count": 1,
          "nan_count": 0,
          "categories": [
           {
            "name": "False",
            "count": 5
           }
          ]
         }
        },
        {
         "name": "HomeTeam_Nice",
         "dtype": "bool",
         "stats": {
          "unique_count": 1,
          "nan_count": 0,
          "categories": [
           {
            "name": "False",
            "count": 5
           }
          ]
         }
        },
        {
         "name": "HomeTeam_Extremadura UD",
         "dtype": "bool",
         "stats": {
          "unique_count": 1,
          "nan_count": 0,
          "categories": [
           {
            "name": "False",
            "count": 5
           }
          ]
         }
        },
        {
         "name": "HomeTeam_Besiktas",
         "dtype": "bool",
         "stats": {
          "unique_count": 1,
          "nan_count": 0,
          "categories": [
           {
            "name": "False",
            "count": 5
           }
          ]
         }
        },
        {
         "name": "HomeTeam_Reggina",
         "dtype": "bool",
         "stats": {
          "unique_count": 1,
          "nan_count": 0,
          "categories": [
           {
            "name": "False",
            "count": 5
           }
          ]
         }
        },
        {
         "name": "HomeTeam_Monaco",
         "dtype": "bool",
         "stats": {
          "unique_count": 1,
          "nan_count": 0,
          "categories": [
           {
            "name": "False",
            "count": 5
           }
          ]
         }
        },
        {
         "name": "HomeTeam_Lugo",
         "dtype": "bool",
         "stats": {
          "unique_count": 1,
          "nan_count": 0,
          "categories": [
           {
            "name": "False",
            "count": 5
           }
          ]
         }
        },
        {
         "name": "HomeTeam_Valladolid",
         "dtype": "bool",
         "stats": {
          "unique_count": 1,
          "nan_count": 0,
          "categories": [
           {
            "name": "False",
            "count": 5
           }
          ]
         }
        },
        {
         "name": "HomeTeam_West Ham",
         "dtype": "bool",
         "stats": {
          "unique_count": 1,
          "nan_count": 0,
          "categories": [
           {
            "name": "False",
            "count": 5
           }
          ]
         }
        },
        {
         "name": "HomeTeam_Padova",
         "dtype": "bool",
         "stats": {
          "unique_count": 1,
          "nan_count": 0,
          "categories": [
           {
            "name": "False",
            "count": 5
           }
          ]
         }
        },
        {
         "name": "HomeTeam_Oxford",
         "dtype": "bool",
         "stats": {
          "unique_count": 1,
          "nan_count": 0,
          "categories": [
           {
            "name": "False",
            "count": 5
           }
          ]
         }
        },
        {
         "name": "HomeTeam_La Coruna",
         "dtype": "bool",
         "stats": {
          "unique_count": 1,
          "nan_count": 0,
          "categories": [
           {
            "name": "False",
            "count": 5
           }
          ]
         }
        },
        {
         "name": "HomeTeam_Port Vale",
         "dtype": "bool",
         "stats": {
          "unique_count": 1,
          "nan_count": 0,
          "categories": [
           {
            "name": "False",
            "count": 5
           }
          ]
         }
        },
        {
         "name": "HomeTeam_Ein Frankfurt",
         "dtype": "bool",
         "stats": {
          "unique_count": 1,
          "nan_count": 0,
          "categories": [
           {
            "name": "False",
            "count": 5
           }
          ]
         }
        },
        {
         "name": "HomeTeam_Crawley Town",
         "dtype": "bool",
         "stats": {
          "unique_count": 1,
          "nan_count": 0,
          "categories": [
           {
            "name": "False",
            "count": 5
           }
          ]
         }
        },
        {
         "name": "HomeTeam_Antalyaspor",
         "dtype": "bool",
         "stats": {
          "unique_count": 1,
          "nan_count": 0,
          "categories": [
           {
            "name": "False",
            "count": 5
           }
          ]
         }
        },
        {
         "name": "HomeTeam_Clermont",
         "dtype": "bool",
         "stats": {
          "unique_count": 1,
          "nan_count": 0,
          "categories": [
           {
            "name": "False",
            "count": 5
           }
          ]
         }
        },
        {
         "name": "HomeTeam_Willem II",
         "dtype": "bool",
         "stats": {
          "unique_count": 1,
          "nan_count": 0,
          "categories": [
           {
            "name": "False",
            "count": 5
           }
          ]
         }
        },
        {
         "name": "HomeTeam_Leyton Orient",
         "dtype": "bool",
         "stats": {
          "unique_count": 1,
          "nan_count": 0,
          "categories": [
           {
            "name": "False",
            "count": 5
           }
          ]
         }
        },
        {
         "name": "HomeTeam_Alloa",
         "dtype": "bool",
         "stats": {
          "unique_count": 1,
          "nan_count": 0,
          "categories": [
           {
            "name": "False",
            "count": 5
           }
          ]
         }
        },
        {
         "name": "HomeTeam_Betis",
         "dtype": "bool",
         "stats": {
          "unique_count": 1,
          "nan_count": 0,
          "categories": [
           {
            "name": "False",
            "count": 5
           }
          ]
         }
        },
        {
         "name": "HomeTeam_Shrewsbury",
         "dtype": "bool",
         "stats": {
          "unique_count": 1,
          "nan_count": 0,
          "categories": [
           {
            "name": "False",
            "count": 5
           }
          ]
         }
        },
        {
         "name": "HomeTeam_Sp Gijon",
         "dtype": "bool",
         "stats": {
          "unique_count": 1,
          "nan_count": 0,
          "categories": [
           {
            "name": "False",
            "count": 5
           }
          ]
         }
        },
        {
         "name": "HomeTeam_Quevilly Rouen",
         "dtype": "bool",
         "stats": {
          "unique_count": 1,
          "nan_count": 0,
          "categories": [
           {
            "name": "False",
            "count": 5
           }
          ]
         }
        },
        {
         "name": "HomeTeam_Roma",
         "dtype": "bool",
         "stats": {
          "unique_count": 1,
          "nan_count": 0,
          "categories": [
           {
            "name": "False",
            "count": 5
           }
          ]
         }
        },
        {
         "name": "HomeTeam_Hansa Rostock",
         "dtype": "bool",
         "stats": {
          "unique_count": 1,
          "nan_count": 0,
          "categories": [
           {
            "name": "False",
            "count": 5
           }
          ]
         }
        },
        {
         "name": "HomeTeam_Mirandes",
         "dtype": "bool",
         "stats": {
          "unique_count": 1,
          "nan_count": 0,
          "categories": [
           {
            "name": "False",
            "count": 5
           }
          ]
         }
        },
        {
         "name": "HomeTeam_Huddersfield",
         "dtype": "bool",
         "stats": {
          "unique_count": 1,
          "nan_count": 0,
          "categories": [
           {
            "name": "False",
            "count": 5
           }
          ]
         }
        },
        {
         "name": "HomeTeam_VVV Venlo",
         "dtype": "bool",
         "stats": {
          "unique_count": 1,
          "nan_count": 0,
          "categories": [
           {
            "name": "False",
            "count": 5
           }
          ]
         }
        },
        {
         "name": "HomeTeam_Mouscron",
         "dtype": "bool",
         "stats": {
          "unique_count": 1,
          "nan_count": 0,
          "categories": [
           {
            "name": "False",
            "count": 5
           }
          ]
         }
        },
        {
         "name": "HomeTeam_Tottenham",
         "dtype": "bool",
         "stats": {
          "unique_count": 1,
          "nan_count": 0,
          "categories": [
           {
            "name": "False",
            "count": 5
           }
          ]
         }
        },
        {
         "name": "HomeTeam_Real Madrid",
         "dtype": "bool",
         "stats": {
          "unique_count": 1,
          "nan_count": 0,
          "categories": [
           {
            "name": "False",
            "count": 5
           }
          ]
         }
        },
        {
         "name": "HomeTeam_AEK",
         "dtype": "bool",
         "stats": {
          "unique_count": 1,
          "nan_count": 0,
          "categories": [
           {
            "name": "False",
            "count": 5
           }
          ]
         }
        },
        {
         "name": "HomeTeam_Watford",
         "dtype": "bool",
         "stats": {
          "unique_count": 1,
          "nan_count": 0,
          "categories": [
           {
            "name": "False",
            "count": 5
           }
          ]
         }
        },
        {
         "name": "HomeTeam_Southampton",
         "dtype": "bool",
         "stats": {
          "unique_count": 1,
          "nan_count": 0,
          "categories": [
           {
            "name": "False",
            "count": 5
           }
          ]
         }
        },
        {
         "name": "HomeTeam_Waasland-Beveren",
         "dtype": "bool",
         "stats": {
          "unique_count": 2,
          "nan_count": 0,
          "categories": [
           {
            "name": "False",
            "count": 4
           },
           {
            "name": "True",
            "count": 1
           }
          ]
         }
        },
        {
         "name": "HomeTeam_M'gladbach",
         "dtype": "bool",
         "stats": {
          "unique_count": 1,
          "nan_count": 0,
          "categories": [
           {
            "name": "False",
            "count": 5
           }
          ]
         }
        },
        {
         "name": "HomeTeam_Nurnberg",
         "dtype": "bool",
         "stats": {
          "unique_count": 1,
          "nan_count": 0,
          "categories": [
           {
            "name": "False",
            "count": 5
           }
          ]
         }
        },
        {
         "name": "HomeTeam_Tenerife",
         "dtype": "bool",
         "stats": {
          "unique_count": 1,
          "nan_count": 0,
          "categories": [
           {
            "name": "False",
            "count": 5
           }
          ]
         }
        },
        {
         "name": "HomeTeam_Ternana",
         "dtype": "bool",
         "stats": {
          "unique_count": 1,
          "nan_count": 0,
          "categories": [
           {
            "name": "False",
            "count": 5
           }
          ]
         }
        },
        {
         "name": "HomeTeam_Panathinaikos",
         "dtype": "bool",
         "stats": {
          "unique_count": 1,
          "nan_count": 0,
          "categories": [
           {
            "name": "False",
            "count": 5
           }
          ]
         }
        },
        {
         "name": "HomeTeam_Stoke",
         "dtype": "bool",
         "stats": {
          "unique_count": 1,
          "nan_count": 0,
          "categories": [
           {
            "name": "False",
            "count": 5
           }
          ]
         }
        },
        {
         "name": "HomeTeam_Peterhead",
         "dtype": "bool",
         "stats": {
          "unique_count": 1,
          "nan_count": 0,
          "categories": [
           {
            "name": "False",
            "count": 5
           }
          ]
         }
        },
        {
         "name": "HomeTeam_Bury",
         "dtype": "bool",
         "stats": {
          "unique_count": 1,
          "nan_count": 0,
          "categories": [
           {
            "name": "False",
            "count": 5
           }
          ]
         }
        },
        {
         "name": "HomeTeam_Palermo",
         "dtype": "bool",
         "stats": {
          "unique_count": 1,
          "nan_count": 0,
          "categories": [
           {
            "name": "False",
            "count": 5
           }
          ]
         }
        },
        {
         "name": "HomeTeam_For Sittard",
         "dtype": "bool",
         "stats": {
          "unique_count": 1,
          "nan_count": 0,
          "categories": [
           {
            "name": "False",
            "count": 5
           }
          ]
         }
        },
        {
         "name": "HomeTeam_Villarreal",
         "dtype": "bool",
         "stats": {
          "unique_count": 1,
          "nan_count": 0,
          "categories": [
           {
            "name": "False",
            "count": 5
           }
          ]
         }
        },
        {
         "name": "HomeTeam_Cosenza",
         "dtype": "bool",
         "stats": {
          "unique_count": 1,
          "nan_count": 0,
          "categories": [
           {
            "name": "False",
            "count": 5
           }
          ]
         }
        },
        {
         "name": "HomeTeam_Motherwell",
         "dtype": "bool",
         "stats": {
          "unique_count": 1,
          "nan_count": 0,
          "categories": [
           {
            "name": "False",
            "count": 5
           }
          ]
         }
        },
        {
         "name": "HomeTeam_Lens",
         "dtype": "bool",
         "stats": {
          "unique_count": 1,
          "nan_count": 0,
          "categories": [
           {
            "name": "False",
            "count": 5
           }
          ]
         }
        },
        {
         "name": "HomeTeam_Boavista",
         "dtype": "bool",
         "stats": {
          "unique_count": 1,
          "nan_count": 0,
          "categories": [
           {
            "name": "False",
            "count": 5
           }
          ]
         }
        },
        {
         "name": "HomeTeam_Beziers",
         "dtype": "bool",
         "stats": {
          "unique_count": 1,
          "nan_count": 0,
          "categories": [
           {
            "name": "False",
            "count": 5
           }
          ]
         }
        },
        {
         "name": "HomeTeam_Leicester",
         "dtype": "bool",
         "stats": {
          "unique_count": 1,
          "nan_count": 0,
          "categories": [
           {
            "name": "False",
            "count": 5
           }
          ]
         }
        },
        {
         "name": "HomeTeam_Apollon Apollon",
         "dtype": "bool",
         "stats": {
          "unique_count": 1,
          "nan_count": 0,
          "categories": [
           {
            "name": "False",
            "count": 5
           }
          ]
         }
        },
        {
         "name": "HomeTeam_Nimes",
         "dtype": "bool",
         "stats": {
          "unique_count": 1,
          "nan_count": 0,
          "categories": [
           {
            "name": "False",
            "count": 5
           }
          ]
         }
        },
        {
         "name": "HomeTeam_Gaziantep",
         "dtype": "bool",
         "stats": {
          "unique_count": 1,
          "nan_count": 0,
          "categories": [
           {
            "name": "False",
            "count": 5
           }
          ]
         }
        },
        {
         "name": "HomeTeam_Pordenone",
         "dtype": "bool",
         "stats": {
          "unique_count": 1,
          "nan_count": 0,
          "categories": [
           {
            "name": "False",
            "count": 5
           }
          ]
         }
        },
        {
         "name": "HomeTeam_St Johnstone",
         "dtype": "bool",
         "stats": {
          "unique_count": 1,
          "nan_count": 0,
          "categories": [
           {
            "name": "False",
            "count": 5
           }
          ]
         }
        },
        {
         "name": "HomeTeam_Panetolikos",
         "dtype": "bool",
         "stats": {
          "unique_count": 1,
          "nan_count": 0,
          "categories": [
           {
            "name": "False",
            "count": 5
           }
          ]
         }
        },
        {
         "name": "HomeTeam_Roda",
         "dtype": "bool",
         "stats": {
          "unique_count": 1,
          "nan_count": 0,
          "categories": [
           {
            "name": "False",
            "count": 5
           }
          ]
         }
        },
        {
         "name": "HomeTeam_FC Emmen",
         "dtype": "bool",
         "stats": {
          "unique_count": 1,
          "nan_count": 0,
          "categories": [
           {
            "name": "False",
            "count": 5
           }
          ]
         }
        },
        {
         "name": "HomeTeam_Bristol City",
         "dtype": "bool",
         "stats": {
          "unique_count": 1,
          "nan_count": 0,
          "categories": [
           {
            "name": "False",
            "count": 5
           }
          ]
         }
        },
        {
         "name": "HomeTeam_Everton",
         "dtype": "bool",
         "stats": {
          "unique_count": 1,
          "nan_count": 0,
          "categories": [
           {
            "name": "False",
            "count": 5
           }
          ]
         }
        },
        {
         "name": "HomeTeam_Union Berlin",
         "dtype": "bool",
         "stats": {
          "unique_count": 1,
          "nan_count": 0,
          "categories": [
           {
            "name": "False",
            "count": 5
           }
          ]
         }
        },
        {
         "name": "HomeTeam_Wigan",
         "dtype": "bool",
         "stats": {
          "unique_count": 1,
          "nan_count": 0,
          "categories": [
           {
            "name": "False",
            "count": 5
           }
          ]
         }
        },
        {
         "name": "HomeTeam_Karlsruhe",
         "dtype": "bool",
         "stats": {
          "unique_count": 1,
          "nan_count": 0,
          "categories": [
           {
            "name": "False",
            "count": 5
           }
          ]
         }
        },
        {
         "name": "HomeTeam_Brest",
         "dtype": "bool",
         "stats": {
          "unique_count": 1,
          "nan_count": 0,
          "categories": [
           {
            "name": "False",
            "count": 5
           }
          ]
         }
        },
        {
         "name": "HomeTeam_Xanthi",
         "dtype": "bool",
         "stats": {
          "unique_count": 1,
          "nan_count": 0,
          "categories": [
           {
            "name": "False",
            "count": 5
           }
          ]
         }
        },
        {
         "name": "HomeTeam_Fortuna Dusseldorf",
         "dtype": "bool",
         "stats": {
          "unique_count": 1,
          "nan_count": 0,
          "categories": [
           {
            "name": "False",
            "count": 5
           }
          ]
         }
        },
        {
         "name": "HomeTeam_Kayserispor",
         "dtype": "bool",
         "stats": {
          "unique_count": 1,
          "nan_count": 0,
          "categories": [
           {
            "name": "False",
            "count": 5
           }
          ]
         }
        },
        {
         "name": "HomeTeam_Le Havre",
         "dtype": "bool",
         "stats": {
          "unique_count": 1,
          "nan_count": 0,
          "categories": [
           {
            "name": "False",
            "count": 5
           }
          ]
         }
        },
        {
         "name": "HomeTeam_Stevenage",
         "dtype": "bool",
         "stats": {
          "unique_count": 1,
          "nan_count": 0,
          "categories": [
           {
            "name": "False",
            "count": 5
           }
          ]
         }
        },
        {
         "name": "HomeTeam_Schalke 04",
         "dtype": "bool",
         "stats": {
          "unique_count": 1,
          "nan_count": 0,
          "categories": [
           {
            "name": "False",
            "count": 5
           }
          ]
         }
        },
        {
         "name": "HomeTeam_Altay",
         "dtype": "bool",
         "stats": {
          "unique_count": 1,
          "nan_count": 0,
          "categories": [
           {
            "name": "False",
            "count": 5
           }
          ]
         }
        },
        {
         "name": "HomeTeam_Lorient",
         "dtype": "bool",
         "stats": {
          "unique_count": 1,
          "nan_count": 0,
          "categories": [
           {
            "name": "False",
            "count": 5
           }
          ]
         }
        },
        {
         "name": "HomeTeam_Karagumruk",
         "dtype": "bool",
         "stats": {
          "unique_count": 1,
          "nan_count": 0,
          "categories": [
           {
            "name": "False",
            "count": 5
           }
          ]
         }
        },
        {
         "name": "HomeTeam_Portsmouth",
         "dtype": "bool",
         "stats": {
          "unique_count": 1,
          "nan_count": 0,
          "categories": [
           {
            "name": "False",
            "count": 5
           }
          ]
         }
        },
        {
         "name": "HomeTeam_Barcelona",
         "dtype": "bool",
         "stats": {
          "unique_count": 1,
          "nan_count": 0,
          "categories": [
           {
            "name": "False",
            "count": 5
           }
          ]
         }
        },
        {
         "name": "HomeTeam_Vallecano",
         "dtype": "bool",
         "stats": {
          "unique_count": 1,
          "nan_count": 0,
          "categories": [
           {
            "name": "False",
            "count": 5
           }
          ]
         }
        },
        {
         "name": "HomeTeam_Asteras Tripolis",
         "dtype": "bool",
         "stats": {
          "unique_count": 1,
          "nan_count": 0,
          "categories": [
           {
            "name": "False",
            "count": 5
           }
          ]
         }
        },
        {
         "name": "HomeTeam_Hannover",
         "dtype": "bool",
         "stats": {
          "unique_count": 1,
          "nan_count": 0,
          "categories": [
           {
            "name": "False",
            "count": 5
           }
          ]
         }
        },
        {
         "name": "HomeTeam_Konyaspor",
         "dtype": "bool",
         "stats": {
          "unique_count": 1,
          "nan_count": 0,
          "categories": [
           {
            "name": "False",
            "count": 5
           }
          ]
         }
        },
        {
         "name": "HomeTeam_Toulouse",
         "dtype": "bool",
         "stats": {
          "unique_count": 1,
          "nan_count": 0,
          "categories": [
           {
            "name": "False",
            "count": 5
           }
          ]
         }
        },
        {
         "name": "HomeTeam_Kilmarnock",
         "dtype": "bool",
         "stats": {
          "unique_count": 1,
          "nan_count": 0,
          "categories": [
           {
            "name": "False",
            "count": 5
           }
          ]
         }
        },
        {
         "name": "HomeTeam_Osasuna",
         "dtype": "bool",
         "stats": {
          "unique_count": 1,
          "nan_count": 0,
          "categories": [
           {
            "name": "False",
            "count": 5
           }
          ]
         }
        },
        {
         "name": "HomeTeam_Cagliari",
         "dtype": "bool",
         "stats": {
          "unique_count": 1,
          "nan_count": 0,
          "categories": [
           {
            "name": "False",
            "count": 5
           }
          ]
         }
        },
        {
         "name": "HomeTeam_Giresunspor",
         "dtype": "bool",
         "stats": {
          "unique_count": 1,
          "nan_count": 0,
          "categories": [
           {
            "name": "False",
            "count": 5
           }
          ]
         }
        },
        {
         "name": "HomeTeam_Mansfield",
         "dtype": "bool",
         "stats": {
          "unique_count": 1,
          "nan_count": 0,
          "categories": [
           {
            "name": "False",
            "count": 5
           }
          ]
         }
        },
        {
         "name": "HomeTeam_Panionios",
         "dtype": "bool",
         "stats": {
          "unique_count": 1,
          "nan_count": 0,
          "categories": [
           {
            "name": "False",
            "count": 5
           }
          ]
         }
        },
        {
         "name": "HomeTeam_Bochum",
         "dtype": "bool",
         "stats": {
          "unique_count": 1,
          "nan_count": 0,
          "categories": [
           {
            "name": "False",
            "count": 5
           }
          ]
         }
        },
        {
         "name": "HomeTeam_Leonesa",
         "dtype": "bool",
         "stats": {
          "unique_count": 1,
          "nan_count": 0,
          "categories": [
           {
            "name": "False",
            "count": 5
           }
          ]
         }
        },
        {
         "name": "HomeTeam_Ad. Demirspor",
         "dtype": "bool",
         "stats": {
          "unique_count": 1,
          "nan_count": 0,
          "categories": [
           {
            "name": "False",
            "count": 5
           }
          ]
         }
        },
        {
         "name": "HomeTeam_Cercle Brugge",
         "dtype": "bool",
         "stats": {
          "unique_count": 2,
          "nan_count": 0,
          "categories": [
           {
            "name": "False",
            "count": 4
           },
           {
            "name": "True",
            "count": 1
           }
          ]
         }
        },
        {
         "name": "HomeTeam_Kasimpasa",
         "dtype": "bool",
         "stats": {
          "unique_count": 1,
          "nan_count": 0,
          "categories": [
           {
            "name": "False",
            "count": 5
           }
          ]
         }
        },
        {
         "name": "HomeTeam_Le Mans",
         "dtype": "bool",
         "stats": {
          "unique_count": 1,
          "nan_count": 0,
          "categories": [
           {
            "name": "False",
            "count": 5
           }
          ]
         }
        },
        {
         "name": "HomeTeam_Coventry",
         "dtype": "bool",
         "stats": {
          "unique_count": 1,
          "nan_count": 0,
          "categories": [
           {
            "name": "False",
            "count": 5
           }
          ]
         }
        },
        {
         "name": "HomeTeam_Rayo Majadahonda",
         "dtype": "bool",
         "stats": {
          "unique_count": 1,
          "nan_count": 0,
          "categories": [
           {
            "name": "False",
            "count": 5
           }
          ]
         }
        },
        {
         "name": "HomeTeam_Luton",
         "dtype": "bool",
         "stats": {
          "unique_count": 1,
          "nan_count": 0,
          "categories": [
           {
            "name": "False",
            "count": 5
           }
          ]
         }
        },
        {
         "name": "HomeTeam_Yeovil",
         "dtype": "bool",
         "stats": {
          "unique_count": 1,
          "nan_count": 0,
          "categories": [
           {
            "name": "False",
            "count": 5
           }
          ]
         }
        },
        {
         "name": "HomeTeam_Cambuur",
         "dtype": "bool",
         "stats": {
          "unique_count": 1,
          "nan_count": 0,
          "categories": [
           {
            "name": "False",
            "count": 5
           }
          ]
         }
        },
        {
         "name": "HomeTeam_Annan Athletic",
         "dtype": "bool",
         "stats": {
          "unique_count": 1,
          "nan_count": 0,
          "categories": [
           {
            "name": "False",
            "count": 5
           }
          ]
         }
        },
        {
         "name": "HomeTeam_Gent",
         "dtype": "bool",
         "stats": {
          "unique_count": 1,
          "nan_count": 0,
          "categories": [
           {
            "name": "False",
            "count": 5
           }
          ]
         }
        },
        {
         "name": "HomeTeam_Cartagena",
         "dtype": "bool",
         "stats": {
          "unique_count": 1,
          "nan_count": 0,
          "categories": [
           {
            "name": "False",
            "count": 5
           }
          ]
         }
        },
        {
         "name": "HomeTeam_Fleetwood Town",
         "dtype": "bool",
         "stats": {
          "unique_count": 1,
          "nan_count": 0,
          "categories": [
           {
            "name": "False",
            "count": 5
           }
          ]
         }
        },
        {
         "name": "HomeTeam_Wolves",
         "dtype": "bool",
         "stats": {
          "unique_count": 1,
          "nan_count": 0,
          "categories": [
           {
            "name": "False",
            "count": 5
           }
          ]
         }
        },
        {
         "name": "HomeTeam_Cadiz",
         "dtype": "bool",
         "stats": {
          "unique_count": 1,
          "nan_count": 0,
          "categories": [
           {
            "name": "False",
            "count": 5
           }
          ]
         }
        },
        {
         "name": "HomeTeam_Juve Stabia",
         "dtype": "bool",
         "stats": {
          "unique_count": 1,
          "nan_count": 0,
          "categories": [
           {
            "name": "False",
            "count": 5
           }
          ]
         }
        },
        {
         "name": "HomeTeam_Accrington",
         "dtype": "bool",
         "stats": {
          "unique_count": 1,
          "nan_count": 0,
          "categories": [
           {
            "name": "False",
            "count": 5
           }
          ]
         }
        },
        {
         "name": "HomeTeam_Barrow",
         "dtype": "bool",
         "stats": {
          "unique_count": 1,
          "nan_count": 0,
          "categories": [
           {
            "name": "False",
            "count": 5
           }
          ]
         }
        },
        {
         "name": "HomeTeam_Foggia",
         "dtype": "bool",
         "stats": {
          "unique_count": 1,
          "nan_count": 0,
          "categories": [
           {
            "name": "False",
            "count": 5
           }
          ]
         }
        },
        {
         "name": "HomeTeam_Leverkusen",
         "dtype": "bool",
         "stats": {
          "unique_count": 1,
          "nan_count": 0,
          "categories": [
           {
            "name": "False",
            "count": 5
           }
          ]
         }
        },
        {
         "name": "HomeTeam_Benevento",
         "dtype": "bool",
         "stats": {
          "unique_count": 1,
          "nan_count": 0,
          "categories": [
           {
            "name": "False",
            "count": 5
           }
          ]
         }
        },
        {
         "name": "HomeTeam_Benfica",
         "dtype": "bool",
         "stats": {
          "unique_count": 1,
          "nan_count": 0,
          "categories": [
           {
            "name": "False",
            "count": 5
           }
          ]
         }
        },
        {
         "name": "HomeTeam_Eupen",
         "dtype": "bool",
         "stats": {
          "unique_count": 1,
          "nan_count": 0,
          "categories": [
           {
            "name": "False",
            "count": 5
           }
          ]
         }
        },
        {
         "name": "HomeTeam_Porto",
         "dtype": "bool",
         "stats": {
          "unique_count": 1,
          "nan_count": 0,
          "categories": [
           {
            "name": "False",
            "count": 5
           }
          ]
         }
        },
        {
         "name": "HomeTeam_Rangers",
         "dtype": "bool",
         "stats": {
          "unique_count": 1,
          "nan_count": 0,
          "categories": [
           {
            "name": "False",
            "count": 5
           }
          ]
         }
        },
        {
         "name": "HomeTeam_Hamburg",
         "dtype": "bool",
         "stats": {
          "unique_count": 1,
          "nan_count": 0,
          "categories": [
           {
            "name": "False",
            "count": 5
           }
          ]
         }
        },
        {
         "name": "HomeTeam_Moreirense",
         "dtype": "bool",
         "stats": {
          "unique_count": 1,
          "nan_count": 0,
          "categories": [
           {
            "name": "False",
            "count": 5
           }
          ]
         }
        },
        {
         "name": "HomeTeam_Standard",
         "dtype": "bool",
         "stats": {
          "unique_count": 1,
          "nan_count": 0,
          "categories": [
           {
            "name": "False",
            "count": 5
           }
          ]
         }
        },
        {
         "name": "AwayTeam_Rotherham",
         "dtype": "bool",
         "stats": {
          "unique_count": 1,
          "nan_count": 0,
          "categories": [
           {
            "name": "False",
            "count": 5
           }
          ]
         }
        },
        {
         "name": "AwayTeam_OFI Crete",
         "dtype": "bool",
         "stats": {
          "unique_count": 1,
          "nan_count": 0,
          "categories": [
           {
            "name": "False",
            "count": 5
           }
          ]
         }
        },
        {
         "name": "AwayTeam_Barcelona B",
         "dtype": "bool",
         "stats": {
          "unique_count": 1,
          "nan_count": 0,
          "categories": [
           {
            "name": "False",
            "count": 5
           }
          ]
         }
        },
        {
         "name": "AwayTeam_Queen of Sth",
         "dtype": "bool",
         "stats": {
          "unique_count": 1,
          "nan_count": 0,
          "categories": [
           {
            "name": "False",
            "count": 5
           }
          ]
         }
        },
        {
         "name": "_deepnote_index_column",
         "dtype": "int64"
        }
       ],
       "rows": [
        {
         "League": 1,
         "Season": 1920,
         "Match_Date": "2019-07-26",
         "Full_Time_Home_Team_Goals": 2,
         "Full_Time_Away_Team_Goals": 1,
         "Full_Time_Result": "H",
         "Home_Team_Shots": 10,
         "Away_Team_Shots": 8,
         "Home_Team_Shots_on_Target": 2,
         "Away_Team_Shots_on_Target": 4,
         "Home_Team_Corners": 6,
         "Away_Team_Corners": 2,
         "Home_Team_Yellow_Cards": 0,
         "Away_Team_Yellow_Cards": 1,
         "Home_Team_Red_Cards": 0,
         "Away_Team_Red_Cards": 0,
         "DayOfWeek": 4,
         "is_Weekend": 0,
         "Home_Team_Fouls_Committed": 7,
         "Away_Team_Fouls_Committed": 22,
         "over_2.5": 1,
         "Average_home_win_odds": 1.375,
         "Average_away_win_odds": 7.8066666666666675,
         "Average_draw_odds": 4.928333333333334,
         "Average_over_2.5_goals_odds": 1.5199999999999998,
         "Average_under_2.5_goals_odds": 2.5066666666666664,
         "Average_Asian_Handicap_Home_odds": 1.165,
         "Average_Asian_Handicap_Away_odds": 1.7866666666666668,
         "Close_home_win_odds": 1.45,
         "Close_draw_odds": 4.94,
         "Close_away_win_odds": 6.79,
         "has_favorite": 1,
         "HomeTeam_Rotherham": "False",
         "HomeTeam_OFI Crete": "False",
         "HomeTeam_Barcelona B": "False",
         "HomeTeam_Queen of Sth": "False",
         "HomeTeam_Charleroi": "False",
         "HomeTeam_Mallorca": "False",
         "HomeTeam_Amiens": "False",
         "HomeTeam_PAOK": "False",
         "HomeTeam_Morecambe": "False",
         "HomeTeam_Arsenal": "False",
         "HomeTeam_Rodez": "False",
         "HomeTeam_Sociedad B": "False",
         "HomeTeam_Fuenlabrada": "False",
         "HomeTeam_Forfar": "False",
         "HomeTeam_Burnley": "False",
         "HomeTeam_Livingston": "False",
         "HomeTeam_Colchester": "False",
         "HomeTeam_Cittadella": "False",
         "HomeTeam_Sociedad": "False",
         "HomeTeam_Hibernian": "False",
         "HomeTeam_Sunderland": "False",
         "HomeTeam_Trapani": "False",
         "HomeTeam_Regensburg": "False",
         "HomeTeam_Reading": "False",
         "HomeTeam_Zaragoza": "False",
         "HomeTeam_Alanyaspor": "False",
         "HomeTeam_Cardiff": "False",
         "HomeTeam_Erzgebirge Aue": "False",
         "HomeTeam_Ankaragucu": "False",
         "HomeTeam_Mainz": "False",
         "HomeTeam_Bayern Munich": "False",
         "HomeTeam_Utrecht": "False",
         "HomeTeam_Estoril": "False",
         "HomeTeam_Paris SG": "False",
         "HomeTeam_St Pauli": "False",
         "HomeTeam_Heracles": "False",
         "HomeTeam_Valencia": "False",
         "HomeTeam_Ibiza": "False",
         "HomeTeam_Hearts": "False",
         "HomeTeam_Grenoble": "False",
         "HomeTeam_Sevilla B": "False",
         "HomeTeam_Denizlispor": "False",
         "HomeTeam_Morton": "False",
         "HomeTeam_Leganes": "False",
         "HomeTeam_Middlesbrough": "False",
         "HomeTeam_Sp Lisbon": "False",
         "HomeTeam_Ionikos": "False",
         "HomeTeam_Kelty Hearts": "False",
         "HomeTeam_Sheffield Weds": "False",
         "HomeTeam_Alaves": "False",
         "HomeTeam_Cremonese": "False",
         "HomeTeam_Liverpool": "False",
         "HomeTeam_Granada": "False",
         "HomeTeam_Aves": "False",
         "HomeTeam_Oviedo": "False",
         "HomeTeam_Bielefeld": "False",
         "HomeTeam_Milan": "False",
         "HomeTeam_Bradford": "False",
         "HomeTeam_Zwolle": "False",
         "HomeTeam_Falkirk": "False",
         "HomeTeam_Airdrie Utd": "False",
         "HomeTeam_Aberdeen": "False",
         "HomeTeam_Sabadell": "False",
         "HomeTeam_Sochaux": "False",
         "HomeTeam_Den Haag": "False",
         "HomeTeam_West Brom": "False",
         "HomeTeam_Tranmere": "False",
         "HomeTeam_Dunkerque": "False",
         "HomeTeam_Sampdoria": "False",
         "HomeTeam_PSV Eindhoven": "False",
         "HomeTeam_Oldham": "False",
         "HomeTeam_Heidenheim": "False",
         "HomeTeam_Brighton": "False",
         "HomeTeam_AFC Wimbledon": "False",
         "HomeTeam_Malaga": "False",
         "HomeTeam_Almeria": "False",
         "HomeTeam_Nantes": "False",
         "HomeTeam_Wehen": "False",
         "HomeTeam_Vitesse": "False",
         "HomeTeam_Levante": "False",
         "HomeTeam_Novara": "False",
         "HomeTeam_Guimaraes": "False",
         "HomeTeam_Norwich": "False",
         "HomeTeam_Pacos Ferreira": "False",
         "HomeTeam_Chesterfield": "False",
         "HomeTeam_Inverness C": "False",
         "HomeTeam_Giannina": "False",
         "HomeTeam_Espanol": "False",
         "HomeTeam_Braunschweig": "False",
         "HomeTeam_Oostende": "False",
         "HomeTeam_Gil Vicente": "False",
         "HomeTeam_Maritimo": "False",
         "HomeTeam_Niort": "False",
         "HomeTeam_Ingolstadt": "False",
         "HomeTeam_Montrose": "False",
         "HomeTeam_Barnet": "False",
         "HomeTeam_Osnabruck": "False",
         "HomeTeam_Troyes": "False",
         "HomeTeam_Dijon": "False",
         "HomeTeam_Ajaccio GFCO": "False",
         "HomeTeam_Dundee": "False",
         "HomeTeam_Larisa": "False",
         "HomeTeam_Southend": "False",
         "HomeTeam_Verona": "False",
         "HomeTeam_Goztep": "False",
         "HomeTeam_Genoa": "False",
         "HomeTeam_Cambridge": "False",
         "HomeTeam_Graafschap": "False",
         "HomeTeam_Angers": "False",
         "HomeTeam_Ath Bilbao": "False",
         "HomeTeam_Charlton": "False",
         "HomeTeam_East Fife": "False",
         "HomeTeam_Club Brugge": "False",
         "HomeTeam_NAC Breda": "False",
         "HomeTeam_Las Palmas": "False",
         "HomeTeam_Lazio": "False",
         "HomeTeam_Seraing": "False",
         "HomeTeam_Reus Deportiu": "False",
         "HomeTeam_Ajax": "False",
         "HomeTeam_Lincoln": "False",
         "HomeTeam_Nancy": "False",
         "HomeTeam_Frosinone": "False",
         "HomeTeam_Hull": "False",
         "HomeTeam_Chaves": "False",
         "HomeTeam_Rio Ave": "False",
         "HomeTeam_Cesena": "False",
         "HomeTeam_Amorebieta": "False",
         "HomeTeam_Rizespor": "False",
         "HomeTeam_Milton Keynes Dons": "False",
         "HomeTeam_Volos NFC": "False",
         "HomeTeam_Nacional": "False",
         "HomeTeam_Kaiserslautern": "False",
         "HomeTeam_Castellon": "False",
         "HomeTeam_Berwick": "False",
         "HomeTeam_Osmanlispor": "False",
         "HomeTeam_Bologna": "False",
         "HomeTeam_Barnsley": "False",
         "HomeTeam_Brentford": "False",
         "HomeTeam_Brescia": "False",
         "HomeTeam_Leeds": "False",
         "HomeTeam_Lorca": "False",
         "HomeTeam_Exeter": "False",
         "HomeTeam_Heerenveen": "False",
         "HomeTeam_Pro Vercelli": "False",
         "HomeTeam_Carpi": "False",
         "HomeTeam_Derby": "False",
         "HomeTeam_Burgos": "False",
         "HomeTeam_Forest Green": "False",
         "HomeTeam_QPR": "False",
         "HomeTeam_Santa Clara": "False",
         "HomeTeam_Bursaspor": "False",
         "HomeTeam_Sp Braga": "False",
         "HomeTeam_Blackburn": "False",
         "HomeTeam_Nijmegen": "False",
         "HomeTeam_Rochdale": "False",
         "HomeTeam_Grimsby": "False",
         "HomeTeam_Newcastle": "False",
         "HomeTeam_Freiburg": "False",
         "HomeTeam_Red Star": "False",
         "HomeTeam_Juventus": "False",
         "HomeTeam_Guingamp": "False",
         "HomeTeam_Salernitana": "False",
         "HomeTeam_St Mirren": "False",
         "HomeTeam_Hertha": "False",
         "HomeTeam_Aston Villa": "False",
         "HomeTeam_Salford": "False",
         "HomeTeam_St Truiden": "False",
         "HomeTeam_Yeni Malatyaspor": "False",
         "HomeTeam_Dresden": "False",
         "HomeTeam_Stenhousemuir": "False",
         "HomeTeam_Spezia": "False",
         "HomeTeam_Ajaccio": "False",
         "HomeTeam_AZ Alkmaar": "False",
         "HomeTeam_Augsburg": "False",
         "HomeTeam_Cove Rangers": "False",
         "HomeTeam_Darmstadt": "False",
         "HomeTeam_Aris": "False",
         "HomeTeam_Cordoba": "False",
         "HomeTeam_Werder Bremen": "False",
         "HomeTeam_Hoffenheim": "False",
         "HomeTeam_Harrogate": "False",
         "HomeTeam_Crewe": "False",
         "HomeTeam_Edinburgh City": "False",
         "HomeTeam_Auxerre": "False",
         "HomeTeam_Crotone": "False",
         "HomeTeam_Genclerbirligi": "False",
         "HomeTeam_Ponferradina": "False",
         "HomeTeam_Akhisar Belediyespor": "False",
         "HomeTeam_Farense": "False",
         "HomeTeam_Galatasaray": "False",
         "HomeTeam_Wurzburger Kickers": "False",
         "HomeTeam_Bari": "False",
         "HomeTeam_Stranraer": "False",
         "HomeTeam_Man United": "False",
         "HomeTeam_Perugia": "False",
         "HomeTeam_Karabukspor": "False",
         "HomeTeam_Caen": "False",
         "HomeTeam_Nott'm Forest": "False",
         "HomeTeam_Bordeaux": "False",
         "HomeTeam_Livorno": "False",
         "HomeTeam_Monza": "False",
         "HomeTeam_Bristol Rvs": "False",
         "HomeTeam_Holstein Kiel": "False",
         "HomeTeam_Fiorentina": "False",
         "HomeTeam_Sivasspor": "False",
         "HomeTeam_Trabzonspor": "False",
         "HomeTeam_Cowdenbeath": "False",
         "HomeTeam_Elche": "False",
         "HomeTeam_Paris FC": "False",
         "HomeTeam_Pau FC": "False",
         "HomeTeam_Portimonense": "False",
         "HomeTeam_Lamia": "False",
         "HomeTeam_Newport County": "False",
         "HomeTeam_Northampton": "False",
         "HomeTeam_Celta": "False",
         "HomeTeam_Hatayspor": "False",
         "HomeTeam_FC Koln": "False",
         "HomeTeam_Sassuolo": "False",
         "HomeTeam_Feirense": "False",
         "HomeTeam_Erzurum BB": "False",
         "HomeTeam_Wolfsburg": "False",
         "HomeTeam_Albion Rvs": "False",
         "HomeTeam_Waalwijk": "False",
         "HomeTeam_Duisburg": "False",
         "HomeTeam_Girona": "False",
         "HomeTeam_Kortrijk": "False",
         "HomeTeam_Beerschot VA": "False",
         "HomeTeam_Hamilton": "False",
         "HomeTeam_Waregem": "False",
         "HomeTeam_Crystal Palace": "False",
         "HomeTeam_Belenenses": "False",
         "HomeTeam_Dortmund": "False",
         "HomeTeam_Logrones": "False",
         "HomeTeam_Plymouth": "False",
         "HomeTeam_Peterboro": "False",
         "HomeTeam_Raith Rvs": "False",
         "HomeTeam_Sparta Rotterdam": "False",
         "HomeTeam_Orleans": "False",
         "HomeTeam_Magdeburg": "False",
         "HomeTeam_Gimnastic": "False",
         "HomeTeam_Paderborn": "False",
         "HomeTeam_Valenciennes": "False",
         "HomeTeam_Dumbarton": "False",
         "HomeTeam_Ayr": "False",
         "HomeTeam_Gillingham": "False",
         "HomeTeam_Avellino": "False",
         "HomeTeam_Ross County": "False",
         "HomeTeam_Inter": "False",
         "HomeTeam_Millwall": "False",
         "HomeTeam_Notts County": "False",
         "HomeTeam_Venezia": "False",
         "HomeTeam_Albacete": "False",
         "HomeTeam_Fulham": "False",
         "HomeTeam_Spal": "False",
         "HomeTeam_Twente": "False",
         "HomeTeam_Numancia": "False",
         "HomeTeam_Pescara": "False",
         "HomeTeam_Montpellier": "False",
         "HomeTeam_Sandhausen": "False",
         "HomeTeam_Vicenza": "False",
         "HomeTeam_Groningen": "False",
         "HomeTeam_Wycombe": "False",
         "HomeTeam_Marseille": "False",
         "HomeTeam_Atromitos": "False",
         "HomeTeam_Reggiana": "False",
         "HomeTeam_Go Ahead Eagles": "False",
         "HomeTeam_Anderlecht": "False",
         "HomeTeam_Carlisle": "False",
         "HomeTeam_Apollon": "False",
         "HomeTeam_Alcorcon": "False",
         "HomeTeam_Oud-Heverlee Leuven": "False",
         "HomeTeam_Hartlepool": "False",
         "HomeTeam_Birmingham": "False",
         "HomeTeam_Antwerp": "False",
         "HomeTeam_St Etienne": "False",
         "HomeTeam_Queens Park": "False",
         "HomeTeam_Ath Madrid": "False",
         "HomeTeam_Metz": "False",
         "HomeTeam_Ipswich": "False",
         "HomeTeam_Reims": "False",
         "HomeTeam_Vizela": "False",
         "HomeTeam_Arbroath": "False",
         "HomeTeam_Sheffield United": "False",
         "HomeTeam_Swindon": "False",
         "HomeTeam_Rennes": "False",
         "HomeTeam_Mechelen": "False",
         "HomeTeam_Elgin": "False",
         "HomeTeam_Napoli": "False",
         "HomeTeam_Bolton": "False",
         "HomeTeam_Man City": "False",
         "HomeTeam_Genk": "True",
         "HomeTeam_Blackpool": "False",
         "HomeTeam_Lecce": "False",
         "HomeTeam_Buyuksehyr": "False",
         "HomeTeam_Eibar": "False",
         "HomeTeam_Torino": "False",
         "HomeTeam_Bournemouth": "False",
         "HomeTeam_Chievo": "False",
         "HomeTeam_Strasbourg": "False",
         "HomeTeam_Pisa": "False",
         "HomeTeam_Olympiakos": "False",
         "HomeTeam_Dunfermline": "False",
         "HomeTeam_Chateauroux": "False",
         "HomeTeam_Arouca": "False",
         "HomeTeam_Excelsior": "False",
         "HomeTeam_Ascoli": "False",
         "HomeTeam_St. Gilloise": "False",
         "HomeTeam_Feyenoord": "False",
         "HomeTeam_Partick": "False",
         "HomeTeam_Scunthorpe": "False",
         "HomeTeam_Stuttgart": "False",
         "HomeTeam_Bastia": "False",
         "HomeTeam_Chambly": "False",
         "HomeTeam_RB Leipzig": "False",
         "HomeTeam_Doncaster": "False",
         "HomeTeam_Lille": "False",
         "HomeTeam_Setubal": "False",
         "HomeTeam_Cheltenham": "False",
         "HomeTeam_Brechin": "False",
         "HomeTeam_Parma": "False",
         "HomeTeam_Swansea": "False",
         "HomeTeam_Famalicao": "False",
         "HomeTeam_Dundee United": "False",
         "HomeTeam_Alessandria": "False",
         "HomeTeam_Atalanta": "False",
         "HomeTeam_Clyde": "False",
         "HomeTeam_Huesca": "False",
         "HomeTeam_Empoli": "False",
         "HomeTeam_Stirling": "False",
         "HomeTeam_Burton": "False",
         "HomeTeam_Sevilla": "False",
         "HomeTeam_Celtic": "False",
         "HomeTeam_Macclesfield": "False",
         "HomeTeam_Virtus Entella": "False",
         "HomeTeam_Sutton": "False",
         "HomeTeam_Preston": "False",
         "HomeTeam_Como": "False",
         "HomeTeam_Greuther Furth": "False",
         "HomeTeam_Chelsea": "False",
         "HomeTeam_Lyon": "False",
         "HomeTeam_Fenerbahce": "False",
         "HomeTeam_Getafe": "False",
         "HomeTeam_Santander": "False",
         "HomeTeam_Walsall": "False",
         "HomeTeam_Udinese": "False",
         "HomeTeam_Tondela": "False",
         "HomeTeam_Nice": "False",
         "HomeTeam_Extremadura UD": "False",
         "HomeTeam_Besiktas": "False",
         "HomeTeam_Reggina": "False",
         "HomeTeam_Monaco": "False",
         "HomeTeam_Lugo": "False",
         "HomeTeam_Valladolid": "False",
         "HomeTeam_West Ham": "False",
         "HomeTeam_Padova": "False",
         "HomeTeam_Oxford": "False",
         "HomeTeam_La Coruna": "False",
         "HomeTeam_Port Vale": "False",
         "HomeTeam_Ein Frankfurt": "False",
         "HomeTeam_Crawley Town": "False",
         "HomeTeam_Antalyaspor": "False",
         "HomeTeam_Clermont": "False",
         "HomeTeam_Willem II": "False",
         "HomeTeam_Leyton Orient": "False",
         "HomeTeam_Alloa": "False",
         "HomeTeam_Betis": "False",
         "HomeTeam_Shrewsbury": "False",
         "HomeTeam_Sp Gijon": "False",
         "HomeTeam_Quevilly Rouen": "False",
         "HomeTeam_Roma": "False",
         "HomeTeam_Hansa Rostock": "False",
         "HomeTeam_Mirandes": "False",
         "HomeTeam_Huddersfield": "False",
         "HomeTeam_VVV Venlo": "False",
         "HomeTeam_Mouscron": "False",
         "HomeTeam_Tottenham": "False",
         "HomeTeam_Real Madrid": "False",
         "HomeTeam_AEK": "False",
         "HomeTeam_Watford": "False",
         "HomeTeam_Southampton": "False",
         "HomeTeam_Waasland-Beveren": "False",
         "HomeTeam_M'gladbach": "False",
         "HomeTeam_Nurnberg": "False",
         "HomeTeam_Tenerife": "False",
         "HomeTeam_Ternana": "False",
         "HomeTeam_Panathinaikos": "False",
         "HomeTeam_Stoke": "False",
         "HomeTeam_Peterhead": "False",
         "HomeTeam_Bury": "False",
         "HomeTeam_Palermo": "False",
         "HomeTeam_For Sittard": "False",
         "HomeTeam_Villarreal": "False",
         "HomeTeam_Cosenza": "False",
         "HomeTeam_Motherwell": "False",
         "HomeTeam_Lens": "False",
         "HomeTeam_Boavista": "False",
         "HomeTeam_Beziers": "False",
         "HomeTeam_Leicester": "False",
         "HomeTeam_Apollon Apollon": "False",
         "HomeTeam_Nimes": "False",
         "HomeTeam_Gaziantep": "False",
         "HomeTeam_Pordenone": "False",
         "HomeTeam_St Johnstone": "False",
         "HomeTeam_Panetolikos": "False",
         "HomeTeam_Roda": "False",
         "HomeTeam_FC Emmen": "False",
         "HomeTeam_Bristol City": "False",
         "HomeTeam_Everton": "False",
         "HomeTeam_Union Berlin": "False",
         "HomeTeam_Wigan": "False",
         "HomeTeam_Karlsruhe": "False",
         "HomeTeam_Brest": "False",
         "HomeTeam_Xanthi": "False",
         "HomeTeam_Fortuna Dusseldorf": "False",
         "HomeTeam_Kayserispor": "False",
         "HomeTeam_Le Havre": "False",
         "HomeTeam_Stevenage": "False",
         "HomeTeam_Schalke 04": "False",
         "HomeTeam_Altay": "False",
         "HomeTeam_Lorient": "False",
         "HomeTeam_Karagumruk": "False",
         "HomeTeam_Portsmouth": "False",
         "HomeTeam_Barcelona": "False",
         "HomeTeam_Vallecano": "False",
         "HomeTeam_Asteras Tripolis": "False",
         "HomeTeam_Hannover": "False",
         "HomeTeam_Konyaspor": "False",
         "HomeTeam_Toulouse": "False",
         "HomeTeam_Kilmarnock": "False",
         "HomeTeam_Osasuna": "False",
         "HomeTeam_Cagliari": "False",
         "HomeTeam_Giresunspor": "False",
         "HomeTeam_Mansfield": "False",
         "HomeTeam_Panionios": "False",
         "HomeTeam_Bochum": "False",
         "HomeTeam_Leonesa": "False",
         "HomeTeam_Ad. Demirspor": "False",
         "HomeTeam_Cercle Brugge": "False",
         "HomeTeam_Kasimpasa": "False",
         "HomeTeam_Le Mans": "False",
         "HomeTeam_Coventry": "False",
         "HomeTeam_Rayo Majadahonda": "False",
         "HomeTeam_Luton": "False",
         "HomeTeam_Yeovil": "False",
         "HomeTeam_Cambuur": "False",
         "HomeTeam_Annan Athletic": "False",
         "HomeTeam_Gent": "False",
         "HomeTeam_Cartagena": "False",
         "HomeTeam_Fleetwood Town": "False",
         "HomeTeam_Wolves": "False",
         "HomeTeam_Cadiz": "False",
         "HomeTeam_Juve Stabia": "False",
         "HomeTeam_Accrington": "False",
         "HomeTeam_Barrow": "False",
         "HomeTeam_Foggia": "False",
         "HomeTeam_Leverkusen": "False",
         "HomeTeam_Benevento": "False",
         "HomeTeam_Benfica": "False",
         "HomeTeam_Eupen": "False",
         "HomeTeam_Porto": "False",
         "HomeTeam_Rangers": "False",
         "HomeTeam_Hamburg": "False",
         "HomeTeam_Moreirense": "False",
         "HomeTeam_Standard": "False",
         "AwayTeam_Rotherham": "False",
         "AwayTeam_OFI Crete": "False",
         "AwayTeam_Barcelona B": "False",
         "AwayTeam_Queen of Sth": "False",
         "_deepnote_index_column": 0
        },
        {
         "League": 1,
         "Season": 1920,
         "Match_Date": "2019-07-27",
         "Full_Time_Home_Team_Goals": 1,
         "Full_Time_Away_Team_Goals": 3,
         "Full_Time_Result": "A",
         "Home_Team_Shots": 7,
         "Away_Team_Shots": 25,
         "Home_Team_Shots_on_Target": 2,
         "Away_Team_Shots_on_Target": 22,
         "Home_Team_Corners": 1,
         "Away_Team_Corners": 14,
         "Home_Team_Yellow_Cards": 3,
         "Away_Team_Yellow_Cards": 1,
         "Home_Team_Red_Cards": 0,
         "Away_Team_Red_Cards": 0,
         "DayOfWeek": 5,
         "is_Weekend": 1,
         "Home_Team_Fouls_Committed": 18,
         "Away_Team_Fouls_Committed": 12,
         "over_2.5": 1,
         "Average_home_win_odds": 5.761666666666667,
         "Average_away_win_odds": 1.518333333333333,
         "Average_draw_odds": 4.37,
         "Average_over_2.5_goals_odds": 1.5566666666666666,
         "Average_under_2.5_goals_odds": 2.41,
         "Average_Asian_Handicap_Home_odds": 1.725,
         "Average_Asian_Handicap_Away_odds": 1.893333333333333,
         "Close_home_win_odds": 8.99,
         "Close_draw_odds": 6.52,
         "Close_away_win_odds": 1.29,
         "has_favorite": 1,
         "HomeTeam_Rotherham": "False",
         "HomeTeam_OFI Crete": "False",
         "HomeTeam_Barcelona B": "False",
         "HomeTeam_Queen of Sth": "False",
         "HomeTeam_Charleroi": "False",
         "HomeTeam_Mallorca": "False",
         "HomeTeam_Amiens": "False",
         "HomeTeam_PAOK": "False",
         "HomeTeam_Morecambe": "False",
         "HomeTeam_Arsenal": "False",
         "HomeTeam_Rodez": "False",
         "HomeTeam_Sociedad B": "False",
         "HomeTeam_Fuenlabrada": "False",
         "HomeTeam_Forfar": "False",
         "HomeTeam_Burnley": "False",
         "HomeTeam_Livingston": "False",
         "HomeTeam_Colchester": "False",
         "HomeTeam_Cittadella": "False",
         "HomeTeam_Sociedad": "False",
         "HomeTeam_Hibernian": "False",
         "HomeTeam_Sunderland": "False",
         "HomeTeam_Trapani": "False",
         "HomeTeam_Regensburg": "False",
         "HomeTeam_Reading": "False",
         "HomeTeam_Zaragoza": "False",
         "HomeTeam_Alanyaspor": "False",
         "HomeTeam_Cardiff": "False",
         "HomeTeam_Erzgebirge Aue": "False",
         "HomeTeam_Ankaragucu": "False",
         "HomeTeam_Mainz": "False",
         "HomeTeam_Bayern Munich": "False",
         "HomeTeam_Utrecht": "False",
         "HomeTeam_Estoril": "False",
         "HomeTeam_Paris SG": "False",
         "HomeTeam_St Pauli": "False",
         "HomeTeam_Heracles": "False",
         "HomeTeam_Valencia": "False",
         "HomeTeam_Ibiza": "False",
         "HomeTeam_Hearts": "False",
         "HomeTeam_Grenoble": "False",
         "HomeTeam_Sevilla B": "False",
         "HomeTeam_Denizlispor": "False",
         "HomeTeam_Morton": "False",
         "HomeTeam_Leganes": "False",
         "HomeTeam_Middlesbrough": "False",
         "HomeTeam_Sp Lisbon": "False",
         "HomeTeam_Ionikos": "False",
         "HomeTeam_Kelty Hearts": "False",
         "HomeTeam_Sheffield Weds": "False",
         "HomeTeam_Alaves": "False",
         "HomeTeam_Cremonese": "False",
         "HomeTeam_Liverpool": "False",
         "HomeTeam_Granada": "False",
         "HomeTeam_Aves": "False",
         "HomeTeam_Oviedo": "False",
         "HomeTeam_Bielefeld": "False",
         "HomeTeam_Milan": "False",
         "HomeTeam_Bradford": "False",
         "HomeTeam_Zwolle": "False",
         "HomeTeam_Falkirk": "False",
         "HomeTeam_Airdrie Utd": "False",
         "HomeTeam_Aberdeen": "False",
         "HomeTeam_Sabadell": "False",
         "HomeTeam_Sochaux": "False",
         "HomeTeam_Den Haag": "False",
         "HomeTeam_West Brom": "False",
         "HomeTeam_Tranmere": "False",
         "HomeTeam_Dunkerque": "False",
         "HomeTeam_Sampdoria": "False",
         "HomeTeam_PSV Eindhoven": "False",
         "HomeTeam_Oldham": "False",
         "HomeTeam_Heidenheim": "False",
         "HomeTeam_Brighton": "False",
         "HomeTeam_AFC Wimbledon": "False",
         "HomeTeam_Malaga": "False",
         "HomeTeam_Almeria": "False",
         "HomeTeam_Nantes": "False",
         "HomeTeam_Wehen": "False",
         "HomeTeam_Vitesse": "False",
         "HomeTeam_Levante": "False",
         "HomeTeam_Novara": "False",
         "HomeTeam_Guimaraes": "False",
         "HomeTeam_Norwich": "False",
         "HomeTeam_Pacos Ferreira": "False",
         "HomeTeam_Chesterfield": "False",
         "HomeTeam_Inverness C": "False",
         "HomeTeam_Giannina": "False",
         "HomeTeam_Espanol": "False",
         "HomeTeam_Braunschweig": "False",
         "HomeTeam_Oostende": "False",
         "HomeTeam_Gil Vicente": "False",
         "HomeTeam_Maritimo": "False",
         "HomeTeam_Niort": "False",
         "HomeTeam_Ingolstadt": "False",
         "HomeTeam_Montrose": "False",
         "HomeTeam_Barnet": "False",
         "HomeTeam_Osnabruck": "False",
         "HomeTeam_Troyes": "False",
         "HomeTeam_Dijon": "False",
         "HomeTeam_Ajaccio GFCO": "False",
         "HomeTeam_Dundee": "False",
         "HomeTeam_Larisa": "False",
         "HomeTeam_Southend": "False",
         "HomeTeam_Verona": "False",
         "HomeTeam_Goztep": "False",
         "HomeTeam_Genoa": "False",
         "HomeTeam_Cambridge": "False",
         "HomeTeam_Graafschap": "False",
         "HomeTeam_Angers": "False",
         "HomeTeam_Ath Bilbao": "False",
         "HomeTeam_Charlton": "False",
         "HomeTeam_East Fife": "False",
         "HomeTeam_Club Brugge": "False",
         "HomeTeam_NAC Breda": "False",
         "HomeTeam_Las Palmas": "False",
         "HomeTeam_Lazio": "False",
         "HomeTeam_Seraing": "False",
         "HomeTeam_Reus Deportiu": "False",
         "HomeTeam_Ajax": "False",
         "HomeTeam_Lincoln": "False",
         "HomeTeam_Nancy": "False",
         "HomeTeam_Frosinone": "False",
         "HomeTeam_Hull": "False",
         "HomeTeam_Chaves": "False",
         "HomeTeam_Rio Ave": "False",
         "HomeTeam_Cesena": "False",
         "HomeTeam_Amorebieta": "False",
         "HomeTeam_Rizespor": "False",
         "HomeTeam_Milton Keynes Dons": "False",
         "HomeTeam_Volos NFC": "False",
         "HomeTeam_Nacional": "False",
         "HomeTeam_Kaiserslautern": "False",
         "HomeTeam_Castellon": "False",
         "HomeTeam_Berwick": "False",
         "HomeTeam_Osmanlispor": "False",
         "HomeTeam_Bologna": "False",
         "HomeTeam_Barnsley": "False",
         "HomeTeam_Brentford": "False",
         "HomeTeam_Brescia": "False",
         "HomeTeam_Leeds": "False",
         "HomeTeam_Lorca": "False",
         "HomeTeam_Exeter": "False",
         "HomeTeam_Heerenveen": "False",
         "HomeTeam_Pro Vercelli": "False",
         "HomeTeam_Carpi": "False",
         "HomeTeam_Derby": "False",
         "HomeTeam_Burgos": "False",
         "HomeTeam_Forest Green": "False",
         "HomeTeam_QPR": "False",
         "HomeTeam_Santa Clara": "False",
         "HomeTeam_Bursaspor": "False",
         "HomeTeam_Sp Braga": "False",
         "HomeTeam_Blackburn": "False",
         "HomeTeam_Nijmegen": "False",
         "HomeTeam_Rochdale": "False",
         "HomeTeam_Grimsby": "False",
         "HomeTeam_Newcastle": "False",
         "HomeTeam_Freiburg": "False",
         "HomeTeam_Red Star": "False",
         "HomeTeam_Juventus": "False",
         "HomeTeam_Guingamp": "False",
         "HomeTeam_Salernitana": "False",
         "HomeTeam_St Mirren": "False",
         "HomeTeam_Hertha": "False",
         "HomeTeam_Aston Villa": "False",
         "HomeTeam_Salford": "False",
         "HomeTeam_St Truiden": "False",
         "HomeTeam_Yeni Malatyaspor": "False",
         "HomeTeam_Dresden": "False",
         "HomeTeam_Stenhousemuir": "False",
         "HomeTeam_Spezia": "False",
         "HomeTeam_Ajaccio": "False",
         "HomeTeam_AZ Alkmaar": "False",
         "HomeTeam_Augsburg": "False",
         "HomeTeam_Cove Rangers": "False",
         "HomeTeam_Darmstadt": "False",
         "HomeTeam_Aris": "False",
         "HomeTeam_Cordoba": "False",
         "HomeTeam_Werder Bremen": "False",
         "HomeTeam_Hoffenheim": "False",
         "HomeTeam_Harrogate": "False",
         "HomeTeam_Crewe": "False",
         "HomeTeam_Edinburgh City": "False",
         "HomeTeam_Auxerre": "False",
         "HomeTeam_Crotone": "False",
         "HomeTeam_Genclerbirligi": "False",
         "HomeTeam_Ponferradina": "False",
         "HomeTeam_Akhisar Belediyespor": "False",
         "HomeTeam_Farense": "False",
         "HomeTeam_Galatasaray": "False",
         "HomeTeam_Wurzburger Kickers": "False",
         "HomeTeam_Bari": "False",
         "HomeTeam_Stranraer": "False",
         "HomeTeam_Man United": "False",
         "HomeTeam_Perugia": "False",
         "HomeTeam_Karabukspor": "False",
         "HomeTeam_Caen": "False",
         "HomeTeam_Nott'm Forest": "False",
         "HomeTeam_Bordeaux": "False",
         "HomeTeam_Livorno": "False",
         "HomeTeam_Monza": "False",
         "HomeTeam_Bristol Rvs": "False",
         "HomeTeam_Holstein Kiel": "False",
         "HomeTeam_Fiorentina": "False",
         "HomeTeam_Sivasspor": "False",
         "HomeTeam_Trabzonspor": "False",
         "HomeTeam_Cowdenbeath": "False",
         "HomeTeam_Elche": "False",
         "HomeTeam_Paris FC": "False",
         "HomeTeam_Pau FC": "False",
         "HomeTeam_Portimonense": "False",
         "HomeTeam_Lamia": "False",
         "HomeTeam_Newport County": "False",
         "HomeTeam_Northampton": "False",
         "HomeTeam_Celta": "False",
         "HomeTeam_Hatayspor": "False",
         "HomeTeam_FC Koln": "False",
         "HomeTeam_Sassuolo": "False",
         "HomeTeam_Feirense": "False",
         "HomeTeam_Erzurum BB": "False",
         "HomeTeam_Wolfsburg": "False",
         "HomeTeam_Albion Rvs": "False",
         "HomeTeam_Waalwijk": "False",
         "HomeTeam_Duisburg": "False",
         "HomeTeam_Girona": "False",
         "HomeTeam_Kortrijk": "False",
         "HomeTeam_Beerschot VA": "False",
         "HomeTeam_Hamilton": "False",
         "HomeTeam_Waregem": "False",
         "HomeTeam_Crystal Palace": "False",
         "HomeTeam_Belenenses": "False",
         "HomeTeam_Dortmund": "False",
         "HomeTeam_Logrones": "False",
         "HomeTeam_Plymouth": "False",
         "HomeTeam_Peterboro": "False",
         "HomeTeam_Raith Rvs": "False",
         "HomeTeam_Sparta Rotterdam": "False",
         "HomeTeam_Orleans": "False",
         "HomeTeam_Magdeburg": "False",
         "HomeTeam_Gimnastic": "False",
         "HomeTeam_Paderborn": "False",
         "HomeTeam_Valenciennes": "False",
         "HomeTeam_Dumbarton": "False",
         "HomeTeam_Ayr": "False",
         "HomeTeam_Gillingham": "False",
         "HomeTeam_Avellino": "False",
         "HomeTeam_Ross County": "False",
         "HomeTeam_Inter": "False",
         "HomeTeam_Millwall": "False",
         "HomeTeam_Notts County": "False",
         "HomeTeam_Venezia": "False",
         "HomeTeam_Albacete": "False",
         "HomeTeam_Fulham": "False",
         "HomeTeam_Spal": "False",
         "HomeTeam_Twente": "False",
         "HomeTeam_Numancia": "False",
         "HomeTeam_Pescara": "False",
         "HomeTeam_Montpellier": "False",
         "HomeTeam_Sandhausen": "False",
         "HomeTeam_Vicenza": "False",
         "HomeTeam_Groningen": "False",
         "HomeTeam_Wycombe": "False",
         "HomeTeam_Marseille": "False",
         "HomeTeam_Atromitos": "False",
         "HomeTeam_Reggiana": "False",
         "HomeTeam_Go Ahead Eagles": "False",
         "HomeTeam_Anderlecht": "False",
         "HomeTeam_Carlisle": "False",
         "HomeTeam_Apollon": "False",
         "HomeTeam_Alcorcon": "False",
         "HomeTeam_Oud-Heverlee Leuven": "False",
         "HomeTeam_Hartlepool": "False",
         "HomeTeam_Birmingham": "False",
         "HomeTeam_Antwerp": "False",
         "HomeTeam_St Etienne": "False",
         "HomeTeam_Queens Park": "False",
         "HomeTeam_Ath Madrid": "False",
         "HomeTeam_Metz": "False",
         "HomeTeam_Ipswich": "False",
         "HomeTeam_Reims": "False",
         "HomeTeam_Vizela": "False",
         "HomeTeam_Arbroath": "False",
         "HomeTeam_Sheffield United": "False",
         "HomeTeam_Swindon": "False",
         "HomeTeam_Rennes": "False",
         "HomeTeam_Mechelen": "False",
         "HomeTeam_Elgin": "False",
         "HomeTeam_Napoli": "False",
         "HomeTeam_Bolton": "False",
         "HomeTeam_Man City": "False",
         "HomeTeam_Genk": "False",
         "HomeTeam_Blackpool": "False",
         "HomeTeam_Lecce": "False",
         "HomeTeam_Buyuksehyr": "False",
         "HomeTeam_Eibar": "False",
         "HomeTeam_Torino": "False",
         "HomeTeam_Bournemouth": "False",
         "HomeTeam_Chievo": "False",
         "HomeTeam_Strasbourg": "False",
         "HomeTeam_Pisa": "False",
         "HomeTeam_Olympiakos": "False",
         "HomeTeam_Dunfermline": "False",
         "HomeTeam_Chateauroux": "False",
         "HomeTeam_Arouca": "False",
         "HomeTeam_Excelsior": "False",
         "HomeTeam_Ascoli": "False",
         "HomeTeam_St. Gilloise": "False",
         "HomeTeam_Feyenoord": "False",
         "HomeTeam_Partick": "False",
         "HomeTeam_Scunthorpe": "False",
         "HomeTeam_Stuttgart": "False",
         "HomeTeam_Bastia": "False",
         "HomeTeam_Chambly": "False",
         "HomeTeam_RB Leipzig": "False",
         "HomeTeam_Doncaster": "False",
         "HomeTeam_Lille": "False",
         "HomeTeam_Setubal": "False",
         "HomeTeam_Cheltenham": "False",
         "HomeTeam_Brechin": "False",
         "HomeTeam_Parma": "False",
         "HomeTeam_Swansea": "False",
         "HomeTeam_Famalicao": "False",
         "HomeTeam_Dundee United": "False",
         "HomeTeam_Alessandria": "False",
         "HomeTeam_Atalanta": "False",
         "HomeTeam_Clyde": "False",
         "HomeTeam_Huesca": "False",
         "HomeTeam_Empoli": "False",
         "HomeTeam_Stirling": "False",
         "HomeTeam_Burton": "False",
         "HomeTeam_Sevilla": "False",
         "HomeTeam_Celtic": "False",
         "HomeTeam_Macclesfield": "False",
         "HomeTeam_Virtus Entella": "False",
         "HomeTeam_Sutton": "False",
         "HomeTeam_Preston": "False",
         "HomeTeam_Como": "False",
         "HomeTeam_Greuther Furth": "False",
         "HomeTeam_Chelsea": "False",
         "HomeTeam_Lyon": "False",
         "HomeTeam_Fenerbahce": "False",
         "HomeTeam_Getafe": "False",
         "HomeTeam_Santander": "False",
         "HomeTeam_Walsall": "False",
         "HomeTeam_Udinese": "False",
         "HomeTeam_Tondela": "False",
         "HomeTeam_Nice": "False",
         "HomeTeam_Extremadura UD": "False",
         "HomeTeam_Besiktas": "False",
         "HomeTeam_Reggina": "False",
         "HomeTeam_Monaco": "False",
         "HomeTeam_Lugo": "False",
         "HomeTeam_Valladolid": "False",
         "HomeTeam_West Ham": "False",
         "HomeTeam_Padova": "False",
         "HomeTeam_Oxford": "False",
         "HomeTeam_La Coruna": "False",
         "HomeTeam_Port Vale": "False",
         "HomeTeam_Ein Frankfurt": "False",
         "HomeTeam_Crawley Town": "False",
         "HomeTeam_Antalyaspor": "False",
         "HomeTeam_Clermont": "False",
         "HomeTeam_Willem II": "False",
         "HomeTeam_Leyton Orient": "False",
         "HomeTeam_Alloa": "False",
         "HomeTeam_Betis": "False",
         "HomeTeam_Shrewsbury": "False",
         "HomeTeam_Sp Gijon": "False",
         "HomeTeam_Quevilly Rouen": "False",
         "HomeTeam_Roma": "False",
         "HomeTeam_Hansa Rostock": "False",
         "HomeTeam_Mirandes": "False",
         "HomeTeam_Huddersfield": "False",
         "HomeTeam_VVV Venlo": "False",
         "HomeTeam_Mouscron": "False",
         "HomeTeam_Tottenham": "False",
         "HomeTeam_Real Madrid": "False",
         "HomeTeam_AEK": "False",
         "HomeTeam_Watford": "False",
         "HomeTeam_Southampton": "False",
         "HomeTeam_Waasland-Beveren": "True",
         "HomeTeam_M'gladbach": "False",
         "HomeTeam_Nurnberg": "False",
         "HomeTeam_Tenerife": "False",
         "HomeTeam_Ternana": "False",
         "HomeTeam_Panathinaikos": "False",
         "HomeTeam_Stoke": "False",
         "HomeTeam_Peterhead": "False",
         "HomeTeam_Bury": "False",
         "HomeTeam_Palermo": "False",
         "HomeTeam_For Sittard": "False",
         "HomeTeam_Villarreal": "False",
         "HomeTeam_Cosenza": "False",
         "HomeTeam_Motherwell": "False",
         "HomeTeam_Lens": "False",
         "HomeTeam_Boavista": "False",
         "HomeTeam_Beziers": "False",
         "HomeTeam_Leicester": "False",
         "HomeTeam_Apollon Apollon": "False",
         "HomeTeam_Nimes": "False",
         "HomeTeam_Gaziantep": "False",
         "HomeTeam_Pordenone": "False",
         "HomeTeam_St Johnstone": "False",
         "HomeTeam_Panetolikos": "False",
         "HomeTeam_Roda": "False",
         "HomeTeam_FC Emmen": "False",
         "HomeTeam_Bristol City": "False",
         "HomeTeam_Everton": "False",
         "HomeTeam_Union Berlin": "False",
         "HomeTeam_Wigan": "False",
         "HomeTeam_Karlsruhe": "False",
         "HomeTeam_Brest": "False",
         "HomeTeam_Xanthi": "False",
         "HomeTeam_Fortuna Dusseldorf": "False",
         "HomeTeam_Kayserispor": "False",
         "HomeTeam_Le Havre": "False",
         "HomeTeam_Stevenage": "False",
         "HomeTeam_Schalke 04": "False",
         "HomeTeam_Altay": "False",
         "HomeTeam_Lorient": "False",
         "HomeTeam_Karagumruk": "False",
         "HomeTeam_Portsmouth": "False",
         "HomeTeam_Barcelona": "False",
         "HomeTeam_Vallecano": "False",
         "HomeTeam_Asteras Tripolis": "False",
         "HomeTeam_Hannover": "False",
         "HomeTeam_Konyaspor": "False",
         "HomeTeam_Toulouse": "False",
         "HomeTeam_Kilmarnock": "False",
         "HomeTeam_Osasuna": "False",
         "HomeTeam_Cagliari": "False",
         "HomeTeam_Giresunspor": "False",
         "HomeTeam_Mansfield": "False",
         "HomeTeam_Panionios": "False",
         "HomeTeam_Bochum": "False",
         "HomeTeam_Leonesa": "False",
         "HomeTeam_Ad. Demirspor": "False",
         "HomeTeam_Cercle Brugge": "False",
         "HomeTeam_Kasimpasa": "False",
         "HomeTeam_Le Mans": "False",
         "HomeTeam_Coventry": "False",
         "HomeTeam_Rayo Majadahonda": "False",
         "HomeTeam_Luton": "False",
         "HomeTeam_Yeovil": "False",
         "HomeTeam_Cambuur": "False",
         "HomeTeam_Annan Athletic": "False",
         "HomeTeam_Gent": "False",
         "HomeTeam_Cartagena": "False",
         "HomeTeam_Fleetwood Town": "False",
         "HomeTeam_Wolves": "False",
         "HomeTeam_Cadiz": "False",
         "HomeTeam_Juve Stabia": "False",
         "HomeTeam_Accrington": "False",
         "HomeTeam_Barrow": "False",
         "HomeTeam_Foggia": "False",
         "HomeTeam_Leverkusen": "False",
         "HomeTeam_Benevento": "False",
         "HomeTeam_Benfica": "False",
         "HomeTeam_Eupen": "False",
         "HomeTeam_Porto": "False",
         "HomeTeam_Rangers": "False",
         "HomeTeam_Hamburg": "False",
         "HomeTeam_Moreirense": "False",
         "HomeTeam_Standard": "False",
         "AwayTeam_Rotherham": "False",
         "AwayTeam_OFI Crete": "False",
         "AwayTeam_Barcelona B": "False",
         "AwayTeam_Queen of Sth": "False",
         "_deepnote_index_column": 1
        },
        {
         "League": 1,
         "Season": 1920,
         "Match_Date": "2019-07-27",
         "Full_Time_Home_Team_Goals": 0,
         "Full_Time_Away_Team_Goals": 2,
         "Full_Time_Result": "A",
         "Home_Team_Shots": 13,
         "Away_Team_Shots": 14,
         "Home_Team_Shots_on_Target": 5,
         "Away_Team_Shots_on_Target": 9,
         "Home_Team_Corners": 3,
         "Away_Team_Corners": 7,
         "Home_Team_Yellow_Cards": 2,
         "Away_Team_Yellow_Cards": 2,
         "Home_Team_Red_Cards": 1,
         "Away_Team_Red_Cards": 0,
         "DayOfWeek": 5,
         "is_Weekend": 1,
         "Home_Team_Fouls_Committed": 16,
         "Away_Team_Fouls_Committed": 15,
         "over_2.5": 0,
         "Average_home_win_odds": 3.768333333333333,
         "Average_away_win_odds": 1.9166666666666667,
         "Average_draw_odds": 3.671666666666667,
         "Average_over_2.5_goals_odds": 1.7666666666666666,
         "Average_under_2.5_goals_odds": 2.053333333333333,
         "Average_Asian_Handicap_Home_odds": 1.5575,
         "Average_Asian_Handicap_Away_odds": 1.9466666666666663,
         "Close_home_win_odds": 3.79,
         "Close_draw_odds": 3.74,
         "Close_away_win_odds": 1.99,
         "has_favorite": 0,
         "HomeTeam_Rotherham": "False",
         "HomeTeam_OFI Crete": "False",
         "HomeTeam_Barcelona B": "False",
         "HomeTeam_Queen of Sth": "False",
         "HomeTeam_Charleroi": "False",
         "HomeTeam_Mallorca": "False",
         "HomeTeam_Amiens": "False",
         "HomeTeam_PAOK": "False",
         "HomeTeam_Morecambe": "False",
         "HomeTeam_Arsenal": "False",
         "HomeTeam_Rodez": "False",
         "HomeTeam_Sociedad B": "False",
         "HomeTeam_Fuenlabrada": "False",
         "HomeTeam_Forfar": "False",
         "HomeTeam_Burnley": "False",
         "HomeTeam_Livingston": "False",
         "HomeTeam_Colchester": "False",
         "HomeTeam_Cittadella": "False",
         "HomeTeam_Sociedad": "False",
         "HomeTeam_Hibernian": "False",
         "HomeTeam_Sunderland": "False",
         "HomeTeam_Trapani": "False",
         "HomeTeam_Regensburg": "False",
         "HomeTeam_Reading": "False",
         "HomeTeam_Zaragoza": "False",
         "HomeTeam_Alanyaspor": "False",
         "HomeTeam_Cardiff": "False",
         "HomeTeam_Erzgebirge Aue": "False",
         "HomeTeam_Ankaragucu": "False",
         "HomeTeam_Mainz": "False",
         "HomeTeam_Bayern Munich": "False",
         "HomeTeam_Utrecht": "False",
         "HomeTeam_Estoril": "False",
         "HomeTeam_Paris SG": "False",
         "HomeTeam_St Pauli": "False",
         "HomeTeam_Heracles": "False",
         "HomeTeam_Valencia": "False",
         "HomeTeam_Ibiza": "False",
         "HomeTeam_Hearts": "False",
         "HomeTeam_Grenoble": "False",
         "HomeTeam_Sevilla B": "False",
         "HomeTeam_Denizlispor": "False",
         "HomeTeam_Morton": "False",
         "HomeTeam_Leganes": "False",
         "HomeTeam_Middlesbrough": "False",
         "HomeTeam_Sp Lisbon": "False",
         "HomeTeam_Ionikos": "False",
         "HomeTeam_Kelty Hearts": "False",
         "HomeTeam_Sheffield Weds": "False",
         "HomeTeam_Alaves": "False",
         "HomeTeam_Cremonese": "False",
         "HomeTeam_Liverpool": "False",
         "HomeTeam_Granada": "False",
         "HomeTeam_Aves": "False",
         "HomeTeam_Oviedo": "False",
         "HomeTeam_Bielefeld": "False",
         "HomeTeam_Milan": "False",
         "HomeTeam_Bradford": "False",
         "HomeTeam_Zwolle": "False",
         "HomeTeam_Falkirk": "False",
         "HomeTeam_Airdrie Utd": "False",
         "HomeTeam_Aberdeen": "False",
         "HomeTeam_Sabadell": "False",
         "HomeTeam_Sochaux": "False",
         "HomeTeam_Den Haag": "False",
         "HomeTeam_West Brom": "False",
         "HomeTeam_Tranmere": "False",
         "HomeTeam_Dunkerque": "False",
         "HomeTeam_Sampdoria": "False",
         "HomeTeam_PSV Eindhoven": "False",
         "HomeTeam_Oldham": "False",
         "HomeTeam_Heidenheim": "False",
         "HomeTeam_Brighton": "False",
         "HomeTeam_AFC Wimbledon": "False",
         "HomeTeam_Malaga": "False",
         "HomeTeam_Almeria": "False",
         "HomeTeam_Nantes": "False",
         "HomeTeam_Wehen": "False",
         "HomeTeam_Vitesse": "False",
         "HomeTeam_Levante": "False",
         "HomeTeam_Novara": "False",
         "HomeTeam_Guimaraes": "False",
         "HomeTeam_Norwich": "False",
         "HomeTeam_Pacos Ferreira": "False",
         "HomeTeam_Chesterfield": "False",
         "HomeTeam_Inverness C": "False",
         "HomeTeam_Giannina": "False",
         "HomeTeam_Espanol": "False",
         "HomeTeam_Braunschweig": "False",
         "HomeTeam_Oostende": "False",
         "HomeTeam_Gil Vicente": "False",
         "HomeTeam_Maritimo": "False",
         "HomeTeam_Niort": "False",
         "HomeTeam_Ingolstadt": "False",
         "HomeTeam_Montrose": "False",
         "HomeTeam_Barnet": "False",
         "HomeTeam_Osnabruck": "False",
         "HomeTeam_Troyes": "False",
         "HomeTeam_Dijon": "False",
         "HomeTeam_Ajaccio GFCO": "False",
         "HomeTeam_Dundee": "False",
         "HomeTeam_Larisa": "False",
         "HomeTeam_Southend": "False",
         "HomeTeam_Verona": "False",
         "HomeTeam_Goztep": "False",
         "HomeTeam_Genoa": "False",
         "HomeTeam_Cambridge": "False",
         "HomeTeam_Graafschap": "False",
         "HomeTeam_Angers": "False",
         "HomeTeam_Ath Bilbao": "False",
         "HomeTeam_Charlton": "False",
         "HomeTeam_East Fife": "False",
         "HomeTeam_Club Brugge": "False",
         "HomeTeam_NAC Breda": "False",
         "HomeTeam_Las Palmas": "False",
         "HomeTeam_Lazio": "False",
         "HomeTeam_Seraing": "False",
         "HomeTeam_Reus Deportiu": "False",
         "HomeTeam_Ajax": "False",
         "HomeTeam_Lincoln": "False",
         "HomeTeam_Nancy": "False",
         "HomeTeam_Frosinone": "False",
         "HomeTeam_Hull": "False",
         "HomeTeam_Chaves": "False",
         "HomeTeam_Rio Ave": "False",
         "HomeTeam_Cesena": "False",
         "HomeTeam_Amorebieta": "False",
         "HomeTeam_Rizespor": "False",
         "HomeTeam_Milton Keynes Dons": "False",
         "HomeTeam_Volos NFC": "False",
         "HomeTeam_Nacional": "False",
         "HomeTeam_Kaiserslautern": "False",
         "HomeTeam_Castellon": "False",
         "HomeTeam_Berwick": "False",
         "HomeTeam_Osmanlispor": "False",
         "HomeTeam_Bologna": "False",
         "HomeTeam_Barnsley": "False",
         "HomeTeam_Brentford": "False",
         "HomeTeam_Brescia": "False",
         "HomeTeam_Leeds": "False",
         "HomeTeam_Lorca": "False",
         "HomeTeam_Exeter": "False",
         "HomeTeam_Heerenveen": "False",
         "HomeTeam_Pro Vercelli": "False",
         "HomeTeam_Carpi": "False",
         "HomeTeam_Derby": "False",
         "HomeTeam_Burgos": "False",
         "HomeTeam_Forest Green": "False",
         "HomeTeam_QPR": "False",
         "HomeTeam_Santa Clara": "False",
         "HomeTeam_Bursaspor": "False",
         "HomeTeam_Sp Braga": "False",
         "HomeTeam_Blackburn": "False",
         "HomeTeam_Nijmegen": "False",
         "HomeTeam_Rochdale": "False",
         "HomeTeam_Grimsby": "False",
         "HomeTeam_Newcastle": "False",
         "HomeTeam_Freiburg": "False",
         "HomeTeam_Red Star": "False",
         "HomeTeam_Juventus": "False",
         "HomeTeam_Guingamp": "False",
         "HomeTeam_Salernitana": "False",
         "HomeTeam_St Mirren": "False",
         "HomeTeam_Hertha": "False",
         "HomeTeam_Aston Villa": "False",
         "HomeTeam_Salford": "False",
         "HomeTeam_St Truiden": "False",
         "HomeTeam_Yeni Malatyaspor": "False",
         "HomeTeam_Dresden": "False",
         "HomeTeam_Stenhousemuir": "False",
         "HomeTeam_Spezia": "False",
         "HomeTeam_Ajaccio": "False",
         "HomeTeam_AZ Alkmaar": "False",
         "HomeTeam_Augsburg": "False",
         "HomeTeam_Cove Rangers": "False",
         "HomeTeam_Darmstadt": "False",
         "HomeTeam_Aris": "False",
         "HomeTeam_Cordoba": "False",
         "HomeTeam_Werder Bremen": "False",
         "HomeTeam_Hoffenheim": "False",
         "HomeTeam_Harrogate": "False",
         "HomeTeam_Crewe": "False",
         "HomeTeam_Edinburgh City": "False",
         "HomeTeam_Auxerre": "False",
         "HomeTeam_Crotone": "False",
         "HomeTeam_Genclerbirligi": "False",
         "HomeTeam_Ponferradina": "False",
         "HomeTeam_Akhisar Belediyespor": "False",
         "HomeTeam_Farense": "False",
         "HomeTeam_Galatasaray": "False",
         "HomeTeam_Wurzburger Kickers": "False",
         "HomeTeam_Bari": "False",
         "HomeTeam_Stranraer": "False",
         "HomeTeam_Man United": "False",
         "HomeTeam_Perugia": "False",
         "HomeTeam_Karabukspor": "False",
         "HomeTeam_Caen": "False",
         "HomeTeam_Nott'm Forest": "False",
         "HomeTeam_Bordeaux": "False",
         "HomeTeam_Livorno": "False",
         "HomeTeam_Monza": "False",
         "HomeTeam_Bristol Rvs": "False",
         "HomeTeam_Holstein Kiel": "False",
         "HomeTeam_Fiorentina": "False",
         "HomeTeam_Sivasspor": "False",
         "HomeTeam_Trabzonspor": "False",
         "HomeTeam_Cowdenbeath": "False",
         "HomeTeam_Elche": "False",
         "HomeTeam_Paris FC": "False",
         "HomeTeam_Pau FC": "False",
         "HomeTeam_Portimonense": "False",
         "HomeTeam_Lamia": "False",
         "HomeTeam_Newport County": "False",
         "HomeTeam_Northampton": "False",
         "HomeTeam_Celta": "False",
         "HomeTeam_Hatayspor": "False",
         "HomeTeam_FC Koln": "False",
         "HomeTeam_Sassuolo": "False",
         "HomeTeam_Feirense": "False",
         "HomeTeam_Erzurum BB": "False",
         "HomeTeam_Wolfsburg": "False",
         "HomeTeam_Albion Rvs": "False",
         "HomeTeam_Waalwijk": "False",
         "HomeTeam_Duisburg": "False",
         "HomeTeam_Girona": "False",
         "HomeTeam_Kortrijk": "False",
         "HomeTeam_Beerschot VA": "False",
         "HomeTeam_Hamilton": "False",
         "HomeTeam_Waregem": "False",
         "HomeTeam_Crystal Palace": "False",
         "HomeTeam_Belenenses": "False",
         "HomeTeam_Dortmund": "False",
         "HomeTeam_Logrones": "False",
         "HomeTeam_Plymouth": "False",
         "HomeTeam_Peterboro": "False",
         "HomeTeam_Raith Rvs": "False",
         "HomeTeam_Sparta Rotterdam": "False",
         "HomeTeam_Orleans": "False",
         "HomeTeam_Magdeburg": "False",
         "HomeTeam_Gimnastic": "False",
         "HomeTeam_Paderborn": "False",
         "HomeTeam_Valenciennes": "False",
         "HomeTeam_Dumbarton": "False",
         "HomeTeam_Ayr": "False",
         "HomeTeam_Gillingham": "False",
         "HomeTeam_Avellino": "False",
         "HomeTeam_Ross County": "False",
         "HomeTeam_Inter": "False",
         "HomeTeam_Millwall": "False",
         "HomeTeam_Notts County": "False",
         "HomeTeam_Venezia": "False",
         "HomeTeam_Albacete": "False",
         "HomeTeam_Fulham": "False",
         "HomeTeam_Spal": "False",
         "HomeTeam_Twente": "False",
         "HomeTeam_Numancia": "False",
         "HomeTeam_Pescara": "False",
         "HomeTeam_Montpellier": "False",
         "HomeTeam_Sandhausen": "False",
         "HomeTeam_Vicenza": "False",
         "HomeTeam_Groningen": "False",
         "HomeTeam_Wycombe": "False",
         "HomeTeam_Marseille": "False",
         "HomeTeam_Atromitos": "False",
         "HomeTeam_Reggiana": "False",
         "HomeTeam_Go Ahead Eagles": "False",
         "HomeTeam_Anderlecht": "False",
         "HomeTeam_Carlisle": "False",
         "HomeTeam_Apollon": "False",
         "HomeTeam_Alcorcon": "False",
         "HomeTeam_Oud-Heverlee Leuven": "False",
         "HomeTeam_Hartlepool": "False",
         "HomeTeam_Birmingham": "False",
         "HomeTeam_Antwerp": "False",
         "HomeTeam_St Etienne": "False",
         "HomeTeam_Queens Park": "False",
         "HomeTeam_Ath Madrid": "False",
         "HomeTeam_Metz": "False",
         "HomeTeam_Ipswich": "False",
         "HomeTeam_Reims": "False",
         "HomeTeam_Vizela": "False",
         "HomeTeam_Arbroath": "False",
         "HomeTeam_Sheffield United": "False",
         "HomeTeam_Swindon": "False",
         "HomeTeam_Rennes": "False",
         "HomeTeam_Mechelen": "False",
         "HomeTeam_Elgin": "False",
         "HomeTeam_Napoli": "False",
         "HomeTeam_Bolton": "False",
         "HomeTeam_Man City": "False",
         "HomeTeam_Genk": "False",
         "HomeTeam_Blackpool": "False",
         "HomeTeam_Lecce": "False",
         "HomeTeam_Buyuksehyr": "False",
         "HomeTeam_Eibar": "False",
         "HomeTeam_Torino": "False",
         "HomeTeam_Bournemouth": "False",
         "HomeTeam_Chievo": "False",
         "HomeTeam_Strasbourg": "False",
         "HomeTeam_Pisa": "False",
         "HomeTeam_Olympiakos": "False",
         "HomeTeam_Dunfermline": "False",
         "HomeTeam_Chateauroux": "False",
         "HomeTeam_Arouca": "False",
         "HomeTeam_Excelsior": "False",
         "HomeTeam_Ascoli": "False",
         "HomeTeam_St. Gilloise": "False",
         "HomeTeam_Feyenoord": "False",
         "HomeTeam_Partick": "False",
         "HomeTeam_Scunthorpe": "False",
         "HomeTeam_Stuttgart": "False",
         "HomeTeam_Bastia": "False",
         "HomeTeam_Chambly": "False",
         "HomeTeam_RB Leipzig": "False",
         "HomeTeam_Doncaster": "False",
         "HomeTeam_Lille": "False",
         "HomeTeam_Setubal": "False",
         "HomeTeam_Cheltenham": "False",
         "HomeTeam_Brechin": "False",
         "HomeTeam_Parma": "False",
         "HomeTeam_Swansea": "False",
         "HomeTeam_Famalicao": "False",
         "HomeTeam_Dundee United": "False",
         "HomeTeam_Alessandria": "False",
         "HomeTeam_Atalanta": "False",
         "HomeTeam_Clyde": "False",
         "HomeTeam_Huesca": "False",
         "HomeTeam_Empoli": "False",
         "HomeTeam_Stirling": "False",
         "HomeTeam_Burton": "False",
         "HomeTeam_Sevilla": "False",
         "HomeTeam_Celtic": "False",
         "HomeTeam_Macclesfield": "False",
         "HomeTeam_Virtus Entella": "False",
         "HomeTeam_Sutton": "False",
         "HomeTeam_Preston": "False",
         "HomeTeam_Como": "False",
         "HomeTeam_Greuther Furth": "False",
         "HomeTeam_Chelsea": "False",
         "HomeTeam_Lyon": "False",
         "HomeTeam_Fenerbahce": "False",
         "HomeTeam_Getafe": "False",
         "HomeTeam_Santander": "False",
         "HomeTeam_Walsall": "False",
         "HomeTeam_Udinese": "False",
         "HomeTeam_Tondela": "False",
         "HomeTeam_Nice": "False",
         "HomeTeam_Extremadura UD": "False",
         "HomeTeam_Besiktas": "False",
         "HomeTeam_Reggina": "False",
         "HomeTeam_Monaco": "False",
         "HomeTeam_Lugo": "False",
         "HomeTeam_Valladolid": "False",
         "HomeTeam_West Ham": "False",
         "HomeTeam_Padova": "False",
         "HomeTeam_Oxford": "False",
         "HomeTeam_La Coruna": "False",
         "HomeTeam_Port Vale": "False",
         "HomeTeam_Ein Frankfurt": "False",
         "HomeTeam_Crawley Town": "False",
         "HomeTeam_Antalyaspor": "False",
         "HomeTeam_Clermont": "False",
         "HomeTeam_Willem II": "False",
         "HomeTeam_Leyton Orient": "False",
         "HomeTeam_Alloa": "False",
         "HomeTeam_Betis": "False",
         "HomeTeam_Shrewsbury": "False",
         "HomeTeam_Sp Gijon": "False",
         "HomeTeam_Quevilly Rouen": "False",
         "HomeTeam_Roma": "False",
         "HomeTeam_Hansa Rostock": "False",
         "HomeTeam_Mirandes": "False",
         "HomeTeam_Huddersfield": "False",
         "HomeTeam_VVV Venlo": "False",
         "HomeTeam_Mouscron": "False",
         "HomeTeam_Tottenham": "False",
         "HomeTeam_Real Madrid": "False",
         "HomeTeam_AEK": "False",
         "HomeTeam_Watford": "False",
         "HomeTeam_Southampton": "False",
         "HomeTeam_Waasland-Beveren": "False",
         "HomeTeam_M'gladbach": "False",
         "HomeTeam_Nurnberg": "False",
         "HomeTeam_Tenerife": "False",
         "HomeTeam_Ternana": "False",
         "HomeTeam_Panathinaikos": "False",
         "HomeTeam_Stoke": "False",
         "HomeTeam_Peterhead": "False",
         "HomeTeam_Bury": "False",
         "HomeTeam_Palermo": "False",
         "HomeTeam_For Sittard": "False",
         "HomeTeam_Villarreal": "False",
         "HomeTeam_Cosenza": "False",
         "HomeTeam_Motherwell": "False",
         "HomeTeam_Lens": "False",
         "HomeTeam_Boavista": "False",
         "HomeTeam_Beziers": "False",
         "HomeTeam_Leicester": "False",
         "HomeTeam_Apollon Apollon": "False",
         "HomeTeam_Nimes": "False",
         "HomeTeam_Gaziantep": "False",
         "HomeTeam_Pordenone": "False",
         "HomeTeam_St Johnstone": "False",
         "HomeTeam_Panetolikos": "False",
         "HomeTeam_Roda": "False",
         "HomeTeam_FC Emmen": "False",
         "HomeTeam_Bristol City": "False",
         "HomeTeam_Everton": "False",
         "HomeTeam_Union Berlin": "False",
         "HomeTeam_Wigan": "False",
         "HomeTeam_Karlsruhe": "False",
         "HomeTeam_Brest": "False",
         "HomeTeam_Xanthi": "False",
         "HomeTeam_Fortuna Dusseldorf": "False",
         "HomeTeam_Kayserispor": "False",
         "HomeTeam_Le Havre": "False",
         "HomeTeam_Stevenage": "False",
         "HomeTeam_Schalke 04": "False",
         "HomeTeam_Altay": "False",
         "HomeTeam_Lorient": "False",
         "HomeTeam_Karagumruk": "False",
         "HomeTeam_Portsmouth": "False",
         "HomeTeam_Barcelona": "False",
         "HomeTeam_Vallecano": "False",
         "HomeTeam_Asteras Tripolis": "False",
         "HomeTeam_Hannover": "False",
         "HomeTeam_Konyaspor": "False",
         "HomeTeam_Toulouse": "False",
         "HomeTeam_Kilmarnock": "False",
         "HomeTeam_Osasuna": "False",
         "HomeTeam_Cagliari": "False",
         "HomeTeam_Giresunspor": "False",
         "HomeTeam_Mansfield": "False",
         "HomeTeam_Panionios": "False",
         "HomeTeam_Bochum": "False",
         "HomeTeam_Leonesa": "False",
         "HomeTeam_Ad. Demirspor": "False",
         "HomeTeam_Cercle Brugge": "True",
         "HomeTeam_Kasimpasa": "False",
         "HomeTeam_Le Mans": "False",
         "HomeTeam_Coventry": "False",
         "HomeTeam_Rayo Majadahonda": "False",
         "HomeTeam_Luton": "False",
         "HomeTeam_Yeovil": "False",
         "HomeTeam_Cambuur": "False",
         "HomeTeam_Annan Athletic": "False",
         "HomeTeam_Gent": "False",
         "HomeTeam_Cartagena": "False",
         "HomeTeam_Fleetwood Town": "False",
         "HomeTeam_Wolves": "False",
         "HomeTeam_Cadiz": "False",
         "HomeTeam_Juve Stabia": "False",
         "HomeTeam_Accrington": "False",
         "HomeTeam_Barrow": "False",
         "HomeTeam_Foggia": "False",
         "HomeTeam_Leverkusen": "False",
         "HomeTeam_Benevento": "False",
         "HomeTeam_Benfica": "False",
         "HomeTeam_Eupen": "False",
         "HomeTeam_Porto": "False",
         "HomeTeam_Rangers": "False",
         "HomeTeam_Hamburg": "False",
         "HomeTeam_Moreirense": "False",
         "HomeTeam_Standard": "False",
         "AwayTeam_Rotherham": "False",
         "AwayTeam_OFI Crete": "False",
         "AwayTeam_Barcelona B": "False",
         "AwayTeam_Queen of Sth": "False",
         "_deepnote_index_column": 2
        },
        {
         "League": 1,
         "Season": 1920,
         "Match_Date": "2019-07-27",
         "Full_Time_Home_Team_Goals": 0,
         "Full_Time_Away_Team_Goals": 2,
         "Full_Time_Result": "A",
         "Home_Team_Shots": 7,
         "Away_Team_Shots": 10,
         "Home_Team_Shots_on_Target": 2,
         "Away_Team_Shots_on_Target": 5,
         "Home_Team_Corners": 4,
         "Away_Team_Corners": 2,
         "Home_Team_Yellow_Cards": 3,
         "Away_Team_Yellow_Cards": 1,
         "Home_Team_Red_Cards": 0,
         "Away_Team_Red_Cards": 0,
         "DayOfWeek": 5,
         "is_Weekend": 1,
         "Home_Team_Fouls_Committed": 14,
         "Away_Team_Fouls_Committed": 21,
         "over_2.5": 0,
         "Average_home_win_odds": 2.188333333333333,
         "Average_away_win_odds": 3.0700000000000003,
         "Average_draw_odds": 3.6183333333333336,
         "Average_over_2.5_goals_odds": 1.653333333333333,
         "Average_under_2.5_goals_odds": 2.2099999999999995,
         "Average_Asian_Handicap_Home_odds": 1.3875,
         "Average_Asian_Handicap_Away_odds": 1.923333333333333,
         "Close_home_win_odds": 2.8,
         "Close_draw_odds": 3.59,
         "Close_away_win_odds": 2.51,
         "has_favorite": 0,
         "HomeTeam_Rotherham": "False",
         "HomeTeam_OFI Crete": "False",
         "HomeTeam_Barcelona B": "False",
         "HomeTeam_Queen of Sth": "False",
         "HomeTeam_Charleroi": "False",
         "HomeTeam_Mallorca": "False",
         "HomeTeam_Amiens": "False",
         "HomeTeam_PAOK": "False",
         "HomeTeam_Morecambe": "False",
         "HomeTeam_Arsenal": "False",
         "HomeTeam_Rodez": "False",
         "HomeTeam_Sociedad B": "False",
         "HomeTeam_Fuenlabrada": "False",
         "HomeTeam_Forfar": "False",
         "HomeTeam_Burnley": "False",
         "HomeTeam_Livingston": "False",
         "HomeTeam_Colchester": "False",
         "HomeTeam_Cittadella": "False",
         "HomeTeam_Sociedad": "False",
         "HomeTeam_Hibernian": "False",
         "HomeTeam_Sunderland": "False",
         "HomeTeam_Trapani": "False",
         "HomeTeam_Regensburg": "False",
         "HomeTeam_Reading": "False",
         "HomeTeam_Zaragoza": "False",
         "HomeTeam_Alanyaspor": "False",
         "HomeTeam_Cardiff": "False",
         "HomeTeam_Erzgebirge Aue": "False",
         "HomeTeam_Ankaragucu": "False",
         "HomeTeam_Mainz": "False",
         "HomeTeam_Bayern Munich": "False",
         "HomeTeam_Utrecht": "False",
         "HomeTeam_Estoril": "False",
         "HomeTeam_Paris SG": "False",
         "HomeTeam_St Pauli": "False",
         "HomeTeam_Heracles": "False",
         "HomeTeam_Valencia": "False",
         "HomeTeam_Ibiza": "False",
         "HomeTeam_Hearts": "False",
         "HomeTeam_Grenoble": "False",
         "HomeTeam_Sevilla B": "False",
         "HomeTeam_Denizlispor": "False",
         "HomeTeam_Morton": "False",
         "HomeTeam_Leganes": "False",
         "HomeTeam_Middlesbrough": "False",
         "HomeTeam_Sp Lisbon": "False",
         "HomeTeam_Ionikos": "False",
         "HomeTeam_Kelty Hearts": "False",
         "HomeTeam_Sheffield Weds": "False",
         "HomeTeam_Alaves": "False",
         "HomeTeam_Cremonese": "False",
         "HomeTeam_Liverpool": "False",
         "HomeTeam_Granada": "False",
         "HomeTeam_Aves": "False",
         "HomeTeam_Oviedo": "False",
         "HomeTeam_Bielefeld": "False",
         "HomeTeam_Milan": "False",
         "HomeTeam_Bradford": "False",
         "HomeTeam_Zwolle": "False",
         "HomeTeam_Falkirk": "False",
         "HomeTeam_Airdrie Utd": "False",
         "HomeTeam_Aberdeen": "False",
         "HomeTeam_Sabadell": "False",
         "HomeTeam_Sochaux": "False",
         "HomeTeam_Den Haag": "False",
         "HomeTeam_West Brom": "False",
         "HomeTeam_Tranmere": "False",
         "HomeTeam_Dunkerque": "False",
         "HomeTeam_Sampdoria": "False",
         "HomeTeam_PSV Eindhoven": "False",
         "HomeTeam_Oldham": "False",
         "HomeTeam_Heidenheim": "False",
         "HomeTeam_Brighton": "False",
         "HomeTeam_AFC Wimbledon": "False",
         "HomeTeam_Malaga": "False",
         "HomeTeam_Almeria": "False",
         "HomeTeam_Nantes": "False",
         "HomeTeam_Wehen": "False",
         "HomeTeam_Vitesse": "False",
         "HomeTeam_Levante": "False",
         "HomeTeam_Novara": "False",
         "HomeTeam_Guimaraes": "False",
         "HomeTeam_Norwich": "False",
         "HomeTeam_Pacos Ferreira": "False",
         "HomeTeam_Chesterfield": "False",
         "HomeTeam_Inverness C": "False",
         "HomeTeam_Giannina": "False",
         "HomeTeam_Espanol": "False",
         "HomeTeam_Braunschweig": "False",
         "HomeTeam_Oostende": "False",
         "HomeTeam_Gil Vicente": "False",
         "HomeTeam_Maritimo": "False",
         "HomeTeam_Niort": "False",
         "HomeTeam_Ingolstadt": "False",
         "HomeTeam_Montrose": "False",
         "HomeTeam_Barnet": "False",
         "HomeTeam_Osnabruck": "False",
         "HomeTeam_Troyes": "False",
         "HomeTeam_Dijon": "False",
         "HomeTeam_Ajaccio GFCO": "False",
         "HomeTeam_Dundee": "False",
         "HomeTeam_Larisa": "False",
         "HomeTeam_Southend": "False",
         "HomeTeam_Verona": "False",
         "HomeTeam_Goztep": "False",
         "HomeTeam_Genoa": "False",
         "HomeTeam_Cambridge": "False",
         "HomeTeam_Graafschap": "False",
         "HomeTeam_Angers": "False",
         "HomeTeam_Ath Bilbao": "False",
         "HomeTeam_Charlton": "False",
         "HomeTeam_East Fife": "False",
         "HomeTeam_Club Brugge": "False",
         "HomeTeam_NAC Breda": "False",
         "HomeTeam_Las Palmas": "False",
         "HomeTeam_Lazio": "False",
         "HomeTeam_Seraing": "False",
         "HomeTeam_Reus Deportiu": "False",
         "HomeTeam_Ajax": "False",
         "HomeTeam_Lincoln": "False",
         "HomeTeam_Nancy": "False",
         "HomeTeam_Frosinone": "False",
         "HomeTeam_Hull": "False",
         "HomeTeam_Chaves": "False",
         "HomeTeam_Rio Ave": "False",
         "HomeTeam_Cesena": "False",
         "HomeTeam_Amorebieta": "False",
         "HomeTeam_Rizespor": "False",
         "HomeTeam_Milton Keynes Dons": "False",
         "HomeTeam_Volos NFC": "False",
         "HomeTeam_Nacional": "False",
         "HomeTeam_Kaiserslautern": "False",
         "HomeTeam_Castellon": "False",
         "HomeTeam_Berwick": "False",
         "HomeTeam_Osmanlispor": "False",
         "HomeTeam_Bologna": "False",
         "HomeTeam_Barnsley": "False",
         "HomeTeam_Brentford": "False",
         "HomeTeam_Brescia": "False",
         "HomeTeam_Leeds": "False",
         "HomeTeam_Lorca": "False",
         "HomeTeam_Exeter": "False",
         "HomeTeam_Heerenveen": "False",
         "HomeTeam_Pro Vercelli": "False",
         "HomeTeam_Carpi": "False",
         "HomeTeam_Derby": "False",
         "HomeTeam_Burgos": "False",
         "HomeTeam_Forest Green": "False",
         "HomeTeam_QPR": "False",
         "HomeTeam_Santa Clara": "False",
         "HomeTeam_Bursaspor": "False",
         "HomeTeam_Sp Braga": "False",
         "HomeTeam_Blackburn": "False",
         "HomeTeam_Nijmegen": "False",
         "HomeTeam_Rochdale": "False",
         "HomeTeam_Grimsby": "False",
         "HomeTeam_Newcastle": "False",
         "HomeTeam_Freiburg": "False",
         "HomeTeam_Red Star": "False",
         "HomeTeam_Juventus": "False",
         "HomeTeam_Guingamp": "False",
         "HomeTeam_Salernitana": "False",
         "HomeTeam_St Mirren": "False",
         "HomeTeam_Hertha": "False",
         "HomeTeam_Aston Villa": "False",
         "HomeTeam_Salford": "False",
         "HomeTeam_St Truiden": "False",
         "HomeTeam_Yeni Malatyaspor": "False",
         "HomeTeam_Dresden": "False",
         "HomeTeam_Stenhousemuir": "False",
         "HomeTeam_Spezia": "False",
         "HomeTeam_Ajaccio": "False",
         "HomeTeam_AZ Alkmaar": "False",
         "HomeTeam_Augsburg": "False",
         "HomeTeam_Cove Rangers": "False",
         "HomeTeam_Darmstadt": "False",
         "HomeTeam_Aris": "False",
         "HomeTeam_Cordoba": "False",
         "HomeTeam_Werder Bremen": "False",
         "HomeTeam_Hoffenheim": "False",
         "HomeTeam_Harrogate": "False",
         "HomeTeam_Crewe": "False",
         "HomeTeam_Edinburgh City": "False",
         "HomeTeam_Auxerre": "False",
         "HomeTeam_Crotone": "False",
         "HomeTeam_Genclerbirligi": "False",
         "HomeTeam_Ponferradina": "False",
         "HomeTeam_Akhisar Belediyespor": "False",
         "HomeTeam_Farense": "False",
         "HomeTeam_Galatasaray": "False",
         "HomeTeam_Wurzburger Kickers": "False",
         "HomeTeam_Bari": "False",
         "HomeTeam_Stranraer": "False",
         "HomeTeam_Man United": "False",
         "HomeTeam_Perugia": "False",
         "HomeTeam_Karabukspor": "False",
         "HomeTeam_Caen": "False",
         "HomeTeam_Nott'm Forest": "False",
         "HomeTeam_Bordeaux": "False",
         "HomeTeam_Livorno": "False",
         "HomeTeam_Monza": "False",
         "HomeTeam_Bristol Rvs": "False",
         "HomeTeam_Holstein Kiel": "False",
         "HomeTeam_Fiorentina": "False",
         "HomeTeam_Sivasspor": "False",
         "HomeTeam_Trabzonspor": "False",
         "HomeTeam_Cowdenbeath": "False",
         "HomeTeam_Elche": "False",
         "HomeTeam_Paris FC": "False",
         "HomeTeam_Pau FC": "False",
         "HomeTeam_Portimonense": "False",
         "HomeTeam_Lamia": "False",
         "HomeTeam_Newport County": "False",
         "HomeTeam_Northampton": "False",
         "HomeTeam_Celta": "False",
         "HomeTeam_Hatayspor": "False",
         "HomeTeam_FC Koln": "False",
         "HomeTeam_Sassuolo": "False",
         "HomeTeam_Feirense": "False",
         "HomeTeam_Erzurum BB": "False",
         "HomeTeam_Wolfsburg": "False",
         "HomeTeam_Albion Rvs": "False",
         "HomeTeam_Waalwijk": "False",
         "HomeTeam_Duisburg": "False",
         "HomeTeam_Girona": "False",
         "HomeTeam_Kortrijk": "False",
         "HomeTeam_Beerschot VA": "False",
         "HomeTeam_Hamilton": "False",
         "HomeTeam_Waregem": "True",
         "HomeTeam_Crystal Palace": "False",
         "HomeTeam_Belenenses": "False",
         "HomeTeam_Dortmund": "False",
         "HomeTeam_Logrones": "False",
         "HomeTeam_Plymouth": "False",
         "HomeTeam_Peterboro": "False",
         "HomeTeam_Raith Rvs": "False",
         "HomeTeam_Sparta Rotterdam": "False",
         "HomeTeam_Orleans": "False",
         "HomeTeam_Magdeburg": "False",
         "HomeTeam_Gimnastic": "False",
         "HomeTeam_Paderborn": "False",
         "HomeTeam_Valenciennes": "False",
         "HomeTeam_Dumbarton": "False",
         "HomeTeam_Ayr": "False",
         "HomeTeam_Gillingham": "False",
         "HomeTeam_Avellino": "False",
         "HomeTeam_Ross County": "False",
         "HomeTeam_Inter": "False",
         "HomeTeam_Millwall": "False",
         "HomeTeam_Notts County": "False",
         "HomeTeam_Venezia": "False",
         "HomeTeam_Albacete": "False",
         "HomeTeam_Fulham": "False",
         "HomeTeam_Spal": "False",
         "HomeTeam_Twente": "False",
         "HomeTeam_Numancia": "False",
         "HomeTeam_Pescara": "False",
         "HomeTeam_Montpellier": "False",
         "HomeTeam_Sandhausen": "False",
         "HomeTeam_Vicenza": "False",
         "HomeTeam_Groningen": "False",
         "HomeTeam_Wycombe": "False",
         "HomeTeam_Marseille": "False",
         "HomeTeam_Atromitos": "False",
         "HomeTeam_Reggiana": "False",
         "HomeTeam_Go Ahead Eagles": "False",
         "HomeTeam_Anderlecht": "False",
         "HomeTeam_Carlisle": "False",
         "HomeTeam_Apollon": "False",
         "HomeTeam_Alcorcon": "False",
         "HomeTeam_Oud-Heverlee Leuven": "False",
         "HomeTeam_Hartlepool": "False",
         "HomeTeam_Birmingham": "False",
         "HomeTeam_Antwerp": "False",
         "HomeTeam_St Etienne": "False",
         "HomeTeam_Queens Park": "False",
         "HomeTeam_Ath Madrid": "False",
         "HomeTeam_Metz": "False",
         "HomeTeam_Ipswich": "False",
         "HomeTeam_Reims": "False",
         "HomeTeam_Vizela": "False",
         "HomeTeam_Arbroath": "False",
         "HomeTeam_Sheffield United": "False",
         "HomeTeam_Swindon": "False",
         "HomeTeam_Rennes": "False",
         "HomeTeam_Mechelen": "False",
         "HomeTeam_Elgin": "False",
         "HomeTeam_Napoli": "False",
         "HomeTeam_Bolton": "False",
         "HomeTeam_Man City": "False",
         "HomeTeam_Genk": "False",
         "HomeTeam_Blackpool": "False",
         "HomeTeam_Lecce": "False",
         "HomeTeam_Buyuksehyr": "False",
         "HomeTeam_Eibar": "False",
         "HomeTeam_Torino": "False",
         "HomeTeam_Bournemouth": "False",
         "HomeTeam_Chievo": "False",
         "HomeTeam_Strasbourg": "False",
         "HomeTeam_Pisa": "False",
         "HomeTeam_Olympiakos": "False",
         "HomeTeam_Dunfermline": "False",
         "HomeTeam_Chateauroux": "False",
         "HomeTeam_Arouca": "False",
         "HomeTeam_Excelsior": "False",
         "HomeTeam_Ascoli": "False",
         "HomeTeam_St. Gilloise": "False",
         "HomeTeam_Feyenoord": "False",
         "HomeTeam_Partick": "False",
         "HomeTeam_Scunthorpe": "False",
         "HomeTeam_Stuttgart": "False",
         "HomeTeam_Bastia": "False",
         "HomeTeam_Chambly": "False",
         "HomeTeam_RB Leipzig": "False",
         "HomeTeam_Doncaster": "False",
         "HomeTeam_Lille": "False",
         "HomeTeam_Setubal": "False",
         "HomeTeam_Cheltenham": "False",
         "HomeTeam_Brechin": "False",
         "HomeTeam_Parma": "False",
         "HomeTeam_Swansea": "False",
         "HomeTeam_Famalicao": "False",
         "HomeTeam_Dundee United": "False",
         "HomeTeam_Alessandria": "False",
         "HomeTeam_Atalanta": "False",
         "HomeTeam_Clyde": "False",
         "HomeTeam_Huesca": "False",
         "HomeTeam_Empoli": "False",
         "HomeTeam_Stirling": "False",
         "HomeTeam_Burton": "False",
         "HomeTeam_Sevilla": "False",
         "HomeTeam_Celtic": "False",
         "HomeTeam_Macclesfield": "False",
         "HomeTeam_Virtus Entella": "False",
         "HomeTeam_Sutton": "False",
         "HomeTeam_Preston": "False",
         "HomeTeam_Como": "False",
         "HomeTeam_Greuther Furth": "False",
         "HomeTeam_Chelsea": "False",
         "HomeTeam_Lyon": "False",
         "HomeTeam_Fenerbahce": "False",
         "HomeTeam_Getafe": "False",
         "HomeTeam_Santander": "False",
         "HomeTeam_Walsall": "False",
         "HomeTeam_Udinese": "False",
         "HomeTeam_Tondela": "False",
         "HomeTeam_Nice": "False",
         "HomeTeam_Extremadura UD": "False",
         "HomeTeam_Besiktas": "False",
         "HomeTeam_Reggina": "False",
         "HomeTeam_Monaco": "False",
         "HomeTeam_Lugo": "False",
         "HomeTeam_Valladolid": "False",
         "HomeTeam_West Ham": "False",
         "HomeTeam_Padova": "False",
         "HomeTeam_Oxford": "False",
         "HomeTeam_La Coruna": "False",
         "HomeTeam_Port Vale": "False",
         "HomeTeam_Ein Frankfurt": "False",
         "HomeTeam_Crawley Town": "False",
         "HomeTeam_Antalyaspor": "False",
         "HomeTeam_Clermont": "False",
         "HomeTeam_Willem II": "False",
         "HomeTeam_Leyton Orient": "False",
         "HomeTeam_Alloa": "False",
         "HomeTeam_Betis": "False",
         "HomeTeam_Shrewsbury": "False",
         "HomeTeam_Sp Gijon": "False",
         "HomeTeam_Quevilly Rouen": "False",
         "HomeTeam_Roma": "False",
         "HomeTeam_Hansa Rostock": "False",
         "HomeTeam_Mirandes": "False",
         "HomeTeam_Huddersfield": "False",
         "HomeTeam_VVV Venlo": "False",
         "HomeTeam_Mouscron": "False",
         "HomeTeam_Tottenham": "False",
         "HomeTeam_Real Madrid": "False",
         "HomeTeam_AEK": "False",
         "HomeTeam_Watford": "False",
         "HomeTeam_Southampton": "False",
         "HomeTeam_Waasland-Beveren": "False",
         "HomeTeam_M'gladbach": "False",
         "HomeTeam_Nurnberg": "False",
         "HomeTeam_Tenerife": "False",
         "HomeTeam_Ternana": "False",
         "HomeTeam_Panathinaikos": "False",
         "HomeTeam_Stoke": "False",
         "HomeTeam_Peterhead": "False",
         "HomeTeam_Bury": "False",
         "HomeTeam_Palermo": "False",
         "HomeTeam_For Sittard": "False",
         "HomeTeam_Villarreal": "False",
         "HomeTeam_Cosenza": "False",
         "HomeTeam_Motherwell": "False",
         "HomeTeam_Lens": "False",
         "HomeTeam_Boavista": "False",
         "HomeTeam_Beziers": "False",
         "HomeTeam_Leicester": "False",
         "HomeTeam_Apollon Apollon": "False",
         "HomeTeam_Nimes": "False",
         "HomeTeam_Gaziantep": "False",
         "HomeTeam_Pordenone": "False",
         "HomeTeam_St Johnstone": "False",
         "HomeTeam_Panetolikos": "False",
         "HomeTeam_Roda": "False",
         "HomeTeam_FC Emmen": "False",
         "HomeTeam_Bristol City": "False",
         "HomeTeam_Everton": "False",
         "HomeTeam_Union Berlin": "False",
         "HomeTeam_Wigan": "False",
         "HomeTeam_Karlsruhe": "False",
         "HomeTeam_Brest": "False",
         "HomeTeam_Xanthi": "False",
         "HomeTeam_Fortuna Dusseldorf": "False",
         "HomeTeam_Kayserispor": "False",
         "HomeTeam_Le Havre": "False",
         "HomeTeam_Stevenage": "False",
         "HomeTeam_Schalke 04": "False",
         "HomeTeam_Altay": "False",
         "HomeTeam_Lorient": "False",
         "HomeTeam_Karagumruk": "False",
         "HomeTeam_Portsmouth": "False",
         "HomeTeam_Barcelona": "False",
         "HomeTeam_Vallecano": "False",
         "HomeTeam_Asteras Tripolis": "False",
         "HomeTeam_Hannover": "False",
         "HomeTeam_Konyaspor": "False",
         "HomeTeam_Toulouse": "False",
         "HomeTeam_Kilmarnock": "False",
         "HomeTeam_Osasuna": "False",
         "HomeTeam_Cagliari": "False",
         "HomeTeam_Giresunspor": "False",
         "HomeTeam_Mansfield": "False",
         "HomeTeam_Panionios": "False",
         "HomeTeam_Bochum": "False",
         "HomeTeam_Leonesa": "False",
         "HomeTeam_Ad. Demirspor": "False",
         "HomeTeam_Cercle Brugge": "False",
         "HomeTeam_Kasimpasa": "False",
         "HomeTeam_Le Mans": "False",
         "HomeTeam_Coventry": "False",
         "HomeTeam_Rayo Majadahonda": "False",
         "HomeTeam_Luton": "False",
         "HomeTeam_Yeovil": "False",
         "HomeTeam_Cambuur": "False",
         "HomeTeam_Annan Athletic": "False",
         "HomeTeam_Gent": "False",
         "HomeTeam_Cartagena": "False",
         "HomeTeam_Fleetwood Town": "False",
         "HomeTeam_Wolves": "False",
         "HomeTeam_Cadiz": "False",
         "HomeTeam_Juve Stabia": "False",
         "HomeTeam_Accrington": "False",
         "HomeTeam_Barrow": "False",
         "HomeTeam_Foggia": "False",
         "HomeTeam_Leverkusen": "False",
         "HomeTeam_Benevento": "False",
         "HomeTeam_Benfica": "False",
         "HomeTeam_Eupen": "False",
         "HomeTeam_Porto": "False",
         "HomeTeam_Rangers": "False",
         "HomeTeam_Hamburg": "False",
         "HomeTeam_Moreirense": "False",
         "HomeTeam_Standard": "False",
         "AwayTeam_Rotherham": "False",
         "AwayTeam_OFI Crete": "False",
         "AwayTeam_Barcelona B": "False",
         "AwayTeam_Queen of Sth": "False",
         "_deepnote_index_column": 3
        },
        {
         "League": 1,
         "Season": 1920,
         "Match_Date": "2019-07-27",
         "Full_Time_Home_Team_Goals": 0,
         "Full_Time_Away_Team_Goals": 1,
         "Full_Time_Result": "A",
         "Home_Team_Shots": 10,
         "Away_Team_Shots": 10,
         "Home_Team_Shots_on_Target": 4,
         "Away_Team_Shots_on_Target": 6,
         "Home_Team_Corners": 5,
         "Away_Team_Corners": 5,
         "Home_Team_Yellow_Cards": 2,
         "Away_Team_Yellow_Cards": 4,
         "Home_Team_Red_Cards": 0,
         "Away_Team_Red_Cards": 0,
         "DayOfWeek": 5,
         "is_Weekend": 1,
         "Home_Team_Fouls_Committed": 10,
         "Away_Team_Fouls_Committed": 21,
         "over_2.5": 0,
         "Average_home_win_odds": 1.935,
         "Average_away_win_odds": 3.848333333333333,
         "Average_draw_odds": 3.5700000000000003,
         "Average_over_2.5_goals_odds": 1.8333333333333333,
         "Average_under_2.5_goals_odds": 1.9866666666666664,
         "Average_Asian_Handicap_Home_odds": 1.3525,
         "Average_Asian_Handicap_Away_odds": 1.8866666666666667,
         "Close_home_win_odds": 2.16,
         "Close_draw_odds": 3.55,
         "Close_away_win_odds": 3.46,
         "has_favorite": 0,
         "HomeTeam_Rotherham": "False",
         "HomeTeam_OFI Crete": "False",
         "HomeTeam_Barcelona B": "False",
         "HomeTeam_Queen of Sth": "False",
         "HomeTeam_Charleroi": "False",
         "HomeTeam_Mallorca": "False",
         "HomeTeam_Amiens": "False",
         "HomeTeam_PAOK": "False",
         "HomeTeam_Morecambe": "False",
         "HomeTeam_Arsenal": "False",
         "HomeTeam_Rodez": "False",
         "HomeTeam_Sociedad B": "False",
         "HomeTeam_Fuenlabrada": "False",
         "HomeTeam_Forfar": "False",
         "HomeTeam_Burnley": "False",
         "HomeTeam_Livingston": "False",
         "HomeTeam_Colchester": "False",
         "HomeTeam_Cittadella": "False",
         "HomeTeam_Sociedad": "False",
         "HomeTeam_Hibernian": "False",
         "HomeTeam_Sunderland": "False",
         "HomeTeam_Trapani": "False",
         "HomeTeam_Regensburg": "False",
         "HomeTeam_Reading": "False",
         "HomeTeam_Zaragoza": "False",
         "HomeTeam_Alanyaspor": "False",
         "HomeTeam_Cardiff": "False",
         "HomeTeam_Erzgebirge Aue": "False",
         "HomeTeam_Ankaragucu": "False",
         "HomeTeam_Mainz": "False",
         "HomeTeam_Bayern Munich": "False",
         "HomeTeam_Utrecht": "False",
         "HomeTeam_Estoril": "False",
         "HomeTeam_Paris SG": "False",
         "HomeTeam_St Pauli": "False",
         "HomeTeam_Heracles": "False",
         "HomeTeam_Valencia": "False",
         "HomeTeam_Ibiza": "False",
         "HomeTeam_Hearts": "False",
         "HomeTeam_Grenoble": "False",
         "HomeTeam_Sevilla B": "False",
         "HomeTeam_Denizlispor": "False",
         "HomeTeam_Morton": "False",
         "HomeTeam_Leganes": "False",
         "HomeTeam_Middlesbrough": "False",
         "HomeTeam_Sp Lisbon": "False",
         "HomeTeam_Ionikos": "False",
         "HomeTeam_Kelty Hearts": "False",
         "HomeTeam_Sheffield Weds": "False",
         "HomeTeam_Alaves": "False",
         "HomeTeam_Cremonese": "False",
         "HomeTeam_Liverpool": "False",
         "HomeTeam_Granada": "False",
         "HomeTeam_Aves": "False",
         "HomeTeam_Oviedo": "False",
         "HomeTeam_Bielefeld": "False",
         "HomeTeam_Milan": "False",
         "HomeTeam_Bradford": "False",
         "HomeTeam_Zwolle": "False",
         "HomeTeam_Falkirk": "False",
         "HomeTeam_Airdrie Utd": "False",
         "HomeTeam_Aberdeen": "False",
         "HomeTeam_Sabadell": "False",
         "HomeTeam_Sochaux": "False",
         "HomeTeam_Den Haag": "False",
         "HomeTeam_West Brom": "False",
         "HomeTeam_Tranmere": "False",
         "HomeTeam_Dunkerque": "False",
         "HomeTeam_Sampdoria": "False",
         "HomeTeam_PSV Eindhoven": "False",
         "HomeTeam_Oldham": "False",
         "HomeTeam_Heidenheim": "False",
         "HomeTeam_Brighton": "False",
         "HomeTeam_AFC Wimbledon": "False",
         "HomeTeam_Malaga": "False",
         "HomeTeam_Almeria": "False",
         "HomeTeam_Nantes": "False",
         "HomeTeam_Wehen": "False",
         "HomeTeam_Vitesse": "False",
         "HomeTeam_Levante": "False",
         "HomeTeam_Novara": "False",
         "HomeTeam_Guimaraes": "False",
         "HomeTeam_Norwich": "False",
         "HomeTeam_Pacos Ferreira": "False",
         "HomeTeam_Chesterfield": "False",
         "HomeTeam_Inverness C": "False",
         "HomeTeam_Giannina": "False",
         "HomeTeam_Espanol": "False",
         "HomeTeam_Braunschweig": "False",
         "HomeTeam_Oostende": "False",
         "HomeTeam_Gil Vicente": "False",
         "HomeTeam_Maritimo": "False",
         "HomeTeam_Niort": "False",
         "HomeTeam_Ingolstadt": "False",
         "HomeTeam_Montrose": "False",
         "HomeTeam_Barnet": "False",
         "HomeTeam_Osnabruck": "False",
         "HomeTeam_Troyes": "False",
         "HomeTeam_Dijon": "False",
         "HomeTeam_Ajaccio GFCO": "False",
         "HomeTeam_Dundee": "False",
         "HomeTeam_Larisa": "False",
         "HomeTeam_Southend": "False",
         "HomeTeam_Verona": "False",
         "HomeTeam_Goztep": "False",
         "HomeTeam_Genoa": "False",
         "HomeTeam_Cambridge": "False",
         "HomeTeam_Graafschap": "False",
         "HomeTeam_Angers": "False",
         "HomeTeam_Ath Bilbao": "False",
         "HomeTeam_Charlton": "False",
         "HomeTeam_East Fife": "False",
         "HomeTeam_Club Brugge": "False",
         "HomeTeam_NAC Breda": "False",
         "HomeTeam_Las Palmas": "False",
         "HomeTeam_Lazio": "False",
         "HomeTeam_Seraing": "False",
         "HomeTeam_Reus Deportiu": "False",
         "HomeTeam_Ajax": "False",
         "HomeTeam_Lincoln": "False",
         "HomeTeam_Nancy": "False",
         "HomeTeam_Frosinone": "False",
         "HomeTeam_Hull": "False",
         "HomeTeam_Chaves": "False",
         "HomeTeam_Rio Ave": "False",
         "HomeTeam_Cesena": "False",
         "HomeTeam_Amorebieta": "False",
         "HomeTeam_Rizespor": "False",
         "HomeTeam_Milton Keynes Dons": "False",
         "HomeTeam_Volos NFC": "False",
         "HomeTeam_Nacional": "False",
         "HomeTeam_Kaiserslautern": "False",
         "HomeTeam_Castellon": "False",
         "HomeTeam_Berwick": "False",
         "HomeTeam_Osmanlispor": "False",
         "HomeTeam_Bologna": "False",
         "HomeTeam_Barnsley": "False",
         "HomeTeam_Brentford": "False",
         "HomeTeam_Brescia": "False",
         "HomeTeam_Leeds": "False",
         "HomeTeam_Lorca": "False",
         "HomeTeam_Exeter": "False",
         "HomeTeam_Heerenveen": "False",
         "HomeTeam_Pro Vercelli": "False",
         "HomeTeam_Carpi": "False",
         "HomeTeam_Derby": "False",
         "HomeTeam_Burgos": "False",
         "HomeTeam_Forest Green": "False",
         "HomeTeam_QPR": "False",
         "HomeTeam_Santa Clara": "False",
         "HomeTeam_Bursaspor": "False",
         "HomeTeam_Sp Braga": "False",
         "HomeTeam_Blackburn": "False",
         "HomeTeam_Nijmegen": "False",
         "HomeTeam_Rochdale": "False",
         "HomeTeam_Grimsby": "False",
         "HomeTeam_Newcastle": "False",
         "HomeTeam_Freiburg": "False",
         "HomeTeam_Red Star": "False",
         "HomeTeam_Juventus": "False",
         "HomeTeam_Guingamp": "False",
         "HomeTeam_Salernitana": "False",
         "HomeTeam_St Mirren": "False",
         "HomeTeam_Hertha": "False",
         "HomeTeam_Aston Villa": "False",
         "HomeTeam_Salford": "False",
         "HomeTeam_St Truiden": "True",
         "HomeTeam_Yeni Malatyaspor": "False",
         "HomeTeam_Dresden": "False",
         "HomeTeam_Stenhousemuir": "False",
         "HomeTeam_Spezia": "False",
         "HomeTeam_Ajaccio": "False",
         "HomeTeam_AZ Alkmaar": "False",
         "HomeTeam_Augsburg": "False",
         "HomeTeam_Cove Rangers": "False",
         "HomeTeam_Darmstadt": "False",
         "HomeTeam_Aris": "False",
         "HomeTeam_Cordoba": "False",
         "HomeTeam_Werder Bremen": "False",
         "HomeTeam_Hoffenheim": "False",
         "HomeTeam_Harrogate": "False",
         "HomeTeam_Crewe": "False",
         "HomeTeam_Edinburgh City": "False",
         "HomeTeam_Auxerre": "False",
         "HomeTeam_Crotone": "False",
         "HomeTeam_Genclerbirligi": "False",
         "HomeTeam_Ponferradina": "False",
         "HomeTeam_Akhisar Belediyespor": "False",
         "HomeTeam_Farense": "False",
         "HomeTeam_Galatasaray": "False",
         "HomeTeam_Wurzburger Kickers": "False",
         "HomeTeam_Bari": "False",
         "HomeTeam_Stranraer": "False",
         "HomeTeam_Man United": "False",
         "HomeTeam_Perugia": "False",
         "HomeTeam_Karabukspor": "False",
         "HomeTeam_Caen": "False",
         "HomeTeam_Nott'm Forest": "False",
         "HomeTeam_Bordeaux": "False",
         "HomeTeam_Livorno": "False",
         "HomeTeam_Monza": "False",
         "HomeTeam_Bristol Rvs": "False",
         "HomeTeam_Holstein Kiel": "False",
         "HomeTeam_Fiorentina": "False",
         "HomeTeam_Sivasspor": "False",
         "HomeTeam_Trabzonspor": "False",
         "HomeTeam_Cowdenbeath": "False",
         "HomeTeam_Elche": "False",
         "HomeTeam_Paris FC": "False",
         "HomeTeam_Pau FC": "False",
         "HomeTeam_Portimonense": "False",
         "HomeTeam_Lamia": "False",
         "HomeTeam_Newport County": "False",
         "HomeTeam_Northampton": "False",
         "HomeTeam_Celta": "False",
         "HomeTeam_Hatayspor": "False",
         "HomeTeam_FC Koln": "False",
         "HomeTeam_Sassuolo": "False",
         "HomeTeam_Feirense": "False",
         "HomeTeam_Erzurum BB": "False",
         "HomeTeam_Wolfsburg": "False",
         "HomeTeam_Albion Rvs": "False",
         "HomeTeam_Waalwijk": "False",
         "HomeTeam_Duisburg": "False",
         "HomeTeam_Girona": "False",
         "HomeTeam_Kortrijk": "False",
         "HomeTeam_Beerschot VA": "False",
         "HomeTeam_Hamilton": "False",
         "HomeTeam_Waregem": "False",
         "HomeTeam_Crystal Palace": "False",
         "HomeTeam_Belenenses": "False",
         "HomeTeam_Dortmund": "False",
         "HomeTeam_Logrones": "False",
         "HomeTeam_Plymouth": "False",
         "HomeTeam_Peterboro": "False",
         "HomeTeam_Raith Rvs": "False",
         "HomeTeam_Sparta Rotterdam": "False",
         "HomeTeam_Orleans": "False",
         "HomeTeam_Magdeburg": "False",
         "HomeTeam_Gimnastic": "False",
         "HomeTeam_Paderborn": "False",
         "HomeTeam_Valenciennes": "False",
         "HomeTeam_Dumbarton": "False",
         "HomeTeam_Ayr": "False",
         "HomeTeam_Gillingham": "False",
         "HomeTeam_Avellino": "False",
         "HomeTeam_Ross County": "False",
         "HomeTeam_Inter": "False",
         "HomeTeam_Millwall": "False",
         "HomeTeam_Notts County": "False",
         "HomeTeam_Venezia": "False",
         "HomeTeam_Albacete": "False",
         "HomeTeam_Fulham": "False",
         "HomeTeam_Spal": "False",
         "HomeTeam_Twente": "False",
         "HomeTeam_Numancia": "False",
         "HomeTeam_Pescara": "False",
         "HomeTeam_Montpellier": "False",
         "HomeTeam_Sandhausen": "False",
         "HomeTeam_Vicenza": "False",
         "HomeTeam_Groningen": "False",
         "HomeTeam_Wycombe": "False",
         "HomeTeam_Marseille": "False",
         "HomeTeam_Atromitos": "False",
         "HomeTeam_Reggiana": "False",
         "HomeTeam_Go Ahead Eagles": "False",
         "HomeTeam_Anderlecht": "False",
         "HomeTeam_Carlisle": "False",
         "HomeTeam_Apollon": "False",
         "HomeTeam_Alcorcon": "False",
         "HomeTeam_Oud-Heverlee Leuven": "False",
         "HomeTeam_Hartlepool": "False",
         "HomeTeam_Birmingham": "False",
         "HomeTeam_Antwerp": "False",
         "HomeTeam_St Etienne": "False",
         "HomeTeam_Queens Park": "False",
         "HomeTeam_Ath Madrid": "False",
         "HomeTeam_Metz": "False",
         "HomeTeam_Ipswich": "False",
         "HomeTeam_Reims": "False",
         "HomeTeam_Vizela": "False",
         "HomeTeam_Arbroath": "False",
         "HomeTeam_Sheffield United": "False",
         "HomeTeam_Swindon": "False",
         "HomeTeam_Rennes": "False",
         "HomeTeam_Mechelen": "False",
         "HomeTeam_Elgin": "False",
         "HomeTeam_Napoli": "False",
         "HomeTeam_Bolton": "False",
         "HomeTeam_Man City": "False",
         "HomeTeam_Genk": "False",
         "HomeTeam_Blackpool": "False",
         "HomeTeam_Lecce": "False",
         "HomeTeam_Buyuksehyr": "False",
         "HomeTeam_Eibar": "False",
         "HomeTeam_Torino": "False",
         "HomeTeam_Bournemouth": "False",
         "HomeTeam_Chievo": "False",
         "HomeTeam_Strasbourg": "False",
         "HomeTeam_Pisa": "False",
         "HomeTeam_Olympiakos": "False",
         "HomeTeam_Dunfermline": "False",
         "HomeTeam_Chateauroux": "False",
         "HomeTeam_Arouca": "False",
         "HomeTeam_Excelsior": "False",
         "HomeTeam_Ascoli": "False",
         "HomeTeam_St. Gilloise": "False",
         "HomeTeam_Feyenoord": "False",
         "HomeTeam_Partick": "False",
         "HomeTeam_Scunthorpe": "False",
         "HomeTeam_Stuttgart": "False",
         "HomeTeam_Bastia": "False",
         "HomeTeam_Chambly": "False",
         "HomeTeam_RB Leipzig": "False",
         "HomeTeam_Doncaster": "False",
         "HomeTeam_Lille": "False",
         "HomeTeam_Setubal": "False",
         "HomeTeam_Cheltenham": "False",
         "HomeTeam_Brechin": "False",
         "HomeTeam_Parma": "False",
         "HomeTeam_Swansea": "False",
         "HomeTeam_Famalicao": "False",
         "HomeTeam_Dundee United": "False",
         "HomeTeam_Alessandria": "False",
         "HomeTeam_Atalanta": "False",
         "HomeTeam_Clyde": "False",
         "HomeTeam_Huesca": "False",
         "HomeTeam_Empoli": "False",
         "HomeTeam_Stirling": "False",
         "HomeTeam_Burton": "False",
         "HomeTeam_Sevilla": "False",
         "HomeTeam_Celtic": "False",
         "HomeTeam_Macclesfield": "False",
         "HomeTeam_Virtus Entella": "False",
         "HomeTeam_Sutton": "False",
         "HomeTeam_Preston": "False",
         "HomeTeam_Como": "False",
         "HomeTeam_Greuther Furth": "False",
         "HomeTeam_Chelsea": "False",
         "HomeTeam_Lyon": "False",
         "HomeTeam_Fenerbahce": "False",
         "HomeTeam_Getafe": "False",
         "HomeTeam_Santander": "False",
         "HomeTeam_Walsall": "False",
         "HomeTeam_Udinese": "False",
         "HomeTeam_Tondela": "False",
         "HomeTeam_Nice": "False",
         "HomeTeam_Extremadura UD": "False",
         "HomeTeam_Besiktas": "False",
         "HomeTeam_Reggina": "False",
         "HomeTeam_Monaco": "False",
         "HomeTeam_Lugo": "False",
         "HomeTeam_Valladolid": "False",
         "HomeTeam_West Ham": "False",
         "HomeTeam_Padova": "False",
         "HomeTeam_Oxford": "False",
         "HomeTeam_La Coruna": "False",
         "HomeTeam_Port Vale": "False",
         "HomeTeam_Ein Frankfurt": "False",
         "HomeTeam_Crawley Town": "False",
         "HomeTeam_Antalyaspor": "False",
         "HomeTeam_Clermont": "False",
         "HomeTeam_Willem II": "False",
         "HomeTeam_Leyton Orient": "False",
         "HomeTeam_Alloa": "False",
         "HomeTeam_Betis": "False",
         "HomeTeam_Shrewsbury": "False",
         "HomeTeam_Sp Gijon": "False",
         "HomeTeam_Quevilly Rouen": "False",
         "HomeTeam_Roma": "False",
         "HomeTeam_Hansa Rostock": "False",
         "HomeTeam_Mirandes": "False",
         "HomeTeam_Huddersfield": "False",
         "HomeTeam_VVV Venlo": "False",
         "HomeTeam_Mouscron": "False",
         "HomeTeam_Tottenham": "False",
         "HomeTeam_Real Madrid": "False",
         "HomeTeam_AEK": "False",
         "HomeTeam_Watford": "False",
         "HomeTeam_Southampton": "False",
         "HomeTeam_Waasland-Beveren": "False",
         "HomeTeam_M'gladbach": "False",
         "HomeTeam_Nurnberg": "False",
         "HomeTeam_Tenerife": "False",
         "HomeTeam_Ternana": "False",
         "HomeTeam_Panathinaikos": "False",
         "HomeTeam_Stoke": "False",
         "HomeTeam_Peterhead": "False",
         "HomeTeam_Bury": "False",
         "HomeTeam_Palermo": "False",
         "HomeTeam_For Sittard": "False",
         "HomeTeam_Villarreal": "False",
         "HomeTeam_Cosenza": "False",
         "HomeTeam_Motherwell": "False",
         "HomeTeam_Lens": "False",
         "HomeTeam_Boavista": "False",
         "HomeTeam_Beziers": "False",
         "HomeTeam_Leicester": "False",
         "HomeTeam_Apollon Apollon": "False",
         "HomeTeam_Nimes": "False",
         "HomeTeam_Gaziantep": "False",
         "HomeTeam_Pordenone": "False",
         "HomeTeam_St Johnstone": "False",
         "HomeTeam_Panetolikos": "False",
         "HomeTeam_Roda": "False",
         "HomeTeam_FC Emmen": "False",
         "HomeTeam_Bristol City": "False",
         "HomeTeam_Everton": "False",
         "HomeTeam_Union Berlin": "False",
         "HomeTeam_Wigan": "False",
         "HomeTeam_Karlsruhe": "False",
         "HomeTeam_Brest": "False",
         "HomeTeam_Xanthi": "False",
         "HomeTeam_Fortuna Dusseldorf": "False",
         "HomeTeam_Kayserispor": "False",
         "HomeTeam_Le Havre": "False",
         "HomeTeam_Stevenage": "False",
         "HomeTeam_Schalke 04": "False",
         "HomeTeam_Altay": "False",
         "HomeTeam_Lorient": "False",
         "HomeTeam_Karagumruk": "False",
         "HomeTeam_Portsmouth": "False",
         "HomeTeam_Barcelona": "False",
         "HomeTeam_Vallecano": "False",
         "HomeTeam_Asteras Tripolis": "False",
         "HomeTeam_Hannover": "False",
         "HomeTeam_Konyaspor": "False",
         "HomeTeam_Toulouse": "False",
         "HomeTeam_Kilmarnock": "False",
         "HomeTeam_Osasuna": "False",
         "HomeTeam_Cagliari": "False",
         "HomeTeam_Giresunspor": "False",
         "HomeTeam_Mansfield": "False",
         "HomeTeam_Panionios": "False",
         "HomeTeam_Bochum": "False",
         "HomeTeam_Leonesa": "False",
         "HomeTeam_Ad. Demirspor": "False",
         "HomeTeam_Cercle Brugge": "False",
         "HomeTeam_Kasimpasa": "False",
         "HomeTeam_Le Mans": "False",
         "HomeTeam_Coventry": "False",
         "HomeTeam_Rayo Majadahonda": "False",
         "HomeTeam_Luton": "False",
         "HomeTeam_Yeovil": "False",
         "HomeTeam_Cambuur": "False",
         "HomeTeam_Annan Athletic": "False",
         "HomeTeam_Gent": "False",
         "HomeTeam_Cartagena": "False",
         "HomeTeam_Fleetwood Town": "False",
         "HomeTeam_Wolves": "False",
         "HomeTeam_Cadiz": "False",
         "HomeTeam_Juve Stabia": "False",
         "HomeTeam_Accrington": "False",
         "HomeTeam_Barrow": "False",
         "HomeTeam_Foggia": "False",
         "HomeTeam_Leverkusen": "False",
         "HomeTeam_Benevento": "False",
         "HomeTeam_Benfica": "False",
         "HomeTeam_Eupen": "False",
         "HomeTeam_Porto": "False",
         "HomeTeam_Rangers": "False",
         "HomeTeam_Hamburg": "False",
         "HomeTeam_Moreirense": "False",
         "HomeTeam_Standard": "False",
         "AwayTeam_Rotherham": "False",
         "AwayTeam_OFI Crete": "False",
         "AwayTeam_Barcelona B": "False",
         "AwayTeam_Queen of Sth": "False",
         "_deepnote_index_column": 4
        }
       ]
      },
      "text/plain": "   League  Season  Match_Date  Full_Time_Home_Team_Goals  \\\n0       1    1920  2019-07-26                        2.0   \n1       1    1920  2019-07-27                        1.0   \n2       1    1920  2019-07-27                        0.0   \n3       1    1920  2019-07-27                        0.0   \n4       1    1920  2019-07-27                        0.0   \n\n   Full_Time_Away_Team_Goals Full_Time_Result  Home_Team_Shots  \\\n0                        1.0                H             10.0   \n1                        3.0                A              7.0   \n2                        2.0                A             13.0   \n3                        2.0                A              7.0   \n4                        1.0                A             10.0   \n\n   Away_Team_Shots  Home_Team_Shots_on_Target  Away_Team_Shots_on_Target  ...  \\\n0              8.0                        2.0                        4.0  ...   \n1             25.0                        2.0                       22.0  ...   \n2             14.0                        5.0                        9.0  ...   \n3             10.0                        2.0                        5.0  ...   \n4             10.0                        4.0                        6.0  ...   \n\n   italy  netherlands  portugal  scotland  spain  turkey  Afternoon  Evening  \\\n0      0            0         0         0      0       0          0        0   \n1      0            0         0         0      0       0          0        0   \n2      0            0         0         0      0       0          0        1   \n3      0            0         0         0      0       0          0        0   \n4      0            0         0         0      0       0          0        0   \n\n   Late Evening  Morning  \n0             1        0  \n1             1        0  \n2             0        0  \n3             1        0  \n4             1        0  \n\n[5 rows x 975 columns]",
      "text/html": "<div>\n<style scoped>\n    .dataframe tbody tr th:only-of-type {\n        vertical-align: middle;\n    }\n\n    .dataframe tbody tr th {\n        vertical-align: top;\n    }\n\n    .dataframe thead th {\n        text-align: right;\n    }\n</style>\n<table border=\"1\" class=\"dataframe\">\n  <thead>\n    <tr style=\"text-align: right;\">\n      <th></th>\n      <th>League</th>\n      <th>Season</th>\n      <th>Match_Date</th>\n      <th>Full_Time_Home_Team_Goals</th>\n      <th>Full_Time_Away_Team_Goals</th>\n      <th>Full_Time_Result</th>\n      <th>Home_Team_Shots</th>\n      <th>Away_Team_Shots</th>\n      <th>Home_Team_Shots_on_Target</th>\n      <th>Away_Team_Shots_on_Target</th>\n      <th>...</th>\n      <th>italy</th>\n      <th>netherlands</th>\n      <th>portugal</th>\n      <th>scotland</th>\n      <th>spain</th>\n      <th>turkey</th>\n      <th>Afternoon</th>\n      <th>Evening</th>\n      <th>Late Evening</th>\n      <th>Morning</th>\n    </tr>\n  </thead>\n  <tbody>\n    <tr>\n      <th>0</th>\n      <td>1</td>\n      <td>1920</td>\n      <td>2019-07-26</td>\n      <td>2.0</td>\n      <td>1.0</td>\n      <td>H</td>\n      <td>10.0</td>\n      <td>8.0</td>\n      <td>2.0</td>\n      <td>4.0</td>\n      <td>...</td>\n      <td>0</td>\n      <td>0</td>\n      <td>0</td>\n      <td>0</td>\n      <td>0</td>\n      <td>0</td>\n      <td>0</td>\n      <td>0</td>\n      <td>1</td>\n      <td>0</td>\n    </tr>\n    <tr>\n      <th>1</th>\n      <td>1</td>\n      <td>1920</td>\n      <td>2019-07-27</td>\n      <td>1.0</td>\n      <td>3.0</td>\n      <td>A</td>\n      <td>7.0</td>\n      <td>25.0</td>\n      <td>2.0</td>\n      <td>22.0</td>\n      <td>...</td>\n      <td>0</td>\n      <td>0</td>\n      <td>0</td>\n      <td>0</td>\n      <td>0</td>\n      <td>0</td>\n      <td>0</td>\n      <td>0</td>\n      <td>1</td>\n      <td>0</td>\n    </tr>\n    <tr>\n      <th>2</th>\n      <td>1</td>\n      <td>1920</td>\n      <td>2019-07-27</td>\n      <td>0.0</td>\n      <td>2.0</td>\n      <td>A</td>\n      <td>13.0</td>\n      <td>14.0</td>\n      <td>5.0</td>\n      <td>9.0</td>\n      <td>...</td>\n      <td>0</td>\n      <td>0</td>\n      <td>0</td>\n      <td>0</td>\n      <td>0</td>\n      <td>0</td>\n      <td>0</td>\n      <td>1</td>\n      <td>0</td>\n      <td>0</td>\n    </tr>\n    <tr>\n      <th>3</th>\n      <td>1</td>\n      <td>1920</td>\n      <td>2019-07-27</td>\n      <td>0.0</td>\n      <td>2.0</td>\n      <td>A</td>\n      <td>7.0</td>\n      <td>10.0</td>\n      <td>2.0</td>\n      <td>5.0</td>\n      <td>...</td>\n      <td>0</td>\n      <td>0</td>\n      <td>0</td>\n      <td>0</td>\n      <td>0</td>\n      <td>0</td>\n      <td>0</td>\n      <td>0</td>\n      <td>1</td>\n      <td>0</td>\n    </tr>\n    <tr>\n      <th>4</th>\n      <td>1</td>\n      <td>1920</td>\n      <td>2019-07-27</td>\n      <td>0.0</td>\n      <td>1.0</td>\n      <td>A</td>\n      <td>10.0</td>\n      <td>10.0</td>\n      <td>4.0</td>\n      <td>6.0</td>\n      <td>...</td>\n      <td>0</td>\n      <td>0</td>\n      <td>0</td>\n      <td>0</td>\n      <td>0</td>\n      <td>0</td>\n      <td>0</td>\n      <td>0</td>\n      <td>1</td>\n      <td>0</td>\n    </tr>\n  </tbody>\n</table>\n<p>5 rows × 975 columns</p>\n</div>"
     },
     "metadata": {}
    }
   ]
  },
  {
   "cell_type": "code",
   "metadata": {
    "allow_embed": false,
    "source_hash": null,
    "execution_start": 1702762038049,
    "execution_millis": 64803,
    "deepnote_table_state": {
     "sortBy": [],
     "filters": [],
     "pageSize": 10,
     "pageIndex": 0
    },
    "deepnote_table_invalid": false,
    "deepnote_table_loading": false,
    "deepnote_to_be_reexecuted": false,
    "cell_id": "c6298a41a3e8425fa1b62fd6f2a12409",
    "deepnote_cell_type": "code"
   },
   "source": [
    "model1 = RandomForestClassifier()\n",
    "X = dummy_train_df.drop('Full_Time_Result', axis=1)\n",
    "y = dummy_train_df['Full_Time_Result']\n",
    "X_train, X_test, y_train, y_test = train_test_split(X, y, test_size = 0.30)\n",
    "model1.fit(X_train, y_train)\n",
    "model1_predict = model1.predict(X_test)\n"
   ],
   "block_group": "914f0a2b15104b7e9df2c92ac4878158",
   "execution_count": null,
   "outputs": []
  },
  {
   "cell_type": "code",
   "metadata": {
    "source_hash": null,
    "execution_start": 1702762360372,
    "execution_millis": 299,
    "deepnote_to_be_reexecuted": false,
    "cell_id": "ffdb5d98c78343c5a26f4a868c019d9f",
    "deepnote_cell_type": "code"
   },
   "source": [
    "model1.feature_importances_"
   ],
   "block_group": "096e8a09b5f0429fbfcf32e628e0fd3f",
   "execution_count": null,
   "outputs": [
    {
     "output_type": "execute_result",
     "execution_count": 21,
     "data": {
      "text/plain": "array([6.41044786e-03, 8.78649080e-03, 1.69230761e-01, 1.70890699e-01,\n       1.67957704e-02, 1.62907988e-02, 3.16586932e-02, 3.05231536e-02,\n       1.61295947e-02, 1.46444372e-02, 1.07188428e-02, 1.08974604e-02,\n       4.75927042e-03, 4.39991633e-03, 8.60908819e-03, 3.45692629e-03,\n       1.45299171e-02, 1.51944073e-02, 4.01675527e-02, 2.70369670e-02,\n       2.77895898e-02, 2.02133549e-02, 1.84733400e-02, 1.83564536e-02,\n       2.14242150e-02, 1.76005558e-02, 2.80881939e-02, 2.04474012e-02,\n       2.79995320e-02, 3.42419882e-03, 2.30025438e-04, 1.06783958e-04,\n       7.32639134e-05, 1.99605816e-04, 8.78545024e-05, 1.29369532e-04,\n       1.64535835e-04, 8.87399888e-05, 2.40380070e-04, 1.02244634e-04,\n       9.97754601e-05, 4.53756078e-05, 1.66973970e-04, 1.45962496e-04,\n       1.83575913e-04, 1.60462715e-04, 3.21208265e-04, 2.21640027e-04,\n       1.60600967e-04, 2.88585856e-04, 2.36444524e-04, 4.55917370e-05,\n       2.24290686e-04, 2.12455153e-04, 2.54922631e-04, 1.64719556e-04,\n       1.97618822e-04, 1.59866419e-04, 1.17116003e-04, 2.04652691e-04,\n       7.61632620e-05, 1.83518724e-04, 6.68248347e-05, 1.31256857e-04,\n       2.18526326e-04, 1.44781796e-04, 2.47514487e-04, 3.60414805e-05,\n       2.13186295e-04, 9.88385482e-05, 7.61524311e-05, 1.16368301e-04,\n       2.66642242e-04, 1.66599463e-04, 2.31902557e-04, 1.00306107e-04,\n       1.84417269e-05, 3.12798934e-05, 1.94044688e-04, 1.99271824e-04,\n       2.26168319e-04, 1.31193372e-04, 2.04564836e-04, 1.41702274e-04,\n       1.95099563e-04, 1.48264476e-04, 1.94470500e-04, 2.24561532e-04,\n       2.00879278e-04, 2.09086956e-04, 1.80752904e-04, 1.71505460e-04,\n       5.92513149e-05, 1.50376098e-04, 1.59613645e-04, 3.11375134e-04,\n       2.35033361e-04, 9.21496528e-05, 1.31050417e-04, 8.83823578e-05,\n       2.71380795e-04, 1.92482155e-04, 1.88414769e-04, 2.61222267e-04,\n       2.21028544e-04, 2.40261838e-04, 2.39714794e-04, 4.88949320e-05,\n       1.60526487e-04, 2.34600561e-04, 5.71745067e-05, 1.21629786e-04,\n       2.64696439e-04, 1.40495050e-04, 8.54877840e-05, 2.51810033e-04,\n       8.41187817e-05, 1.82369878e-04, 8.21571058e-05, 1.06622825e-04,\n       1.19342662e-04, 2.02370376e-04, 1.76603860e-04, 1.10437455e-04,\n       2.01706778e-04, 3.61544908e-05, 6.76938410e-05, 1.44807276e-04,\n       1.70988950e-04, 2.55078678e-05, 2.07928538e-04, 7.30969322e-05,\n       1.48087153e-04, 1.67950786e-04, 3.06345089e-04, 2.20912088e-04,\n       2.40797728e-04, 3.08038529e-05, 2.18531894e-04, 2.22201332e-04,\n       2.85769548e-04, 1.88855715e-04, 7.26577972e-05, 4.68220500e-05,\n       1.80038924e-04, 1.58473436e-04, 4.83794047e-05, 6.22903109e-05,\n       1.11060077e-04, 2.23335697e-04, 1.83120375e-04, 2.23635149e-04,\n       2.31596409e-04, 5.96885835e-05, 9.73279379e-05, 1.12017662e-04,\n       6.68560404e-05, 1.30326900e-04, 2.10154241e-04, 7.22249199e-05,\n       4.92477017e-05, 6.49582947e-05, 6.93628884e-05, 1.06372085e-04,\n       3.79265846e-05, 1.73782768e-04, 3.03292063e-04, 2.46902239e-04,\n       2.35417276e-04, 1.87858116e-04, 5.89266498e-05, 2.33881807e-04,\n       1.82391938e-04, 5.35649559e-05, 9.02344718e-05, 2.46870681e-04,\n       3.91363783e-05, 1.84031758e-04, 2.17300266e-04, 1.66937147e-04,\n       1.08480200e-04, 1.35418163e-04, 2.57410495e-04, 2.31266743e-05,\n       3.19673664e-04, 2.03064929e-04, 1.38874831e-04, 1.73459901e-04,\n       4.79306385e-05, 1.09079228e-04, 1.91393015e-04, 2.37718872e-04,\n       1.65917383e-04, 1.67181213e-04, 2.83759921e-04, 1.77440788e-04,\n       8.54012834e-05, 1.78587211e-04, 1.32393750e-04, 1.57864344e-04,\n       2.24990099e-04, 1.04079292e-04, 1.13632304e-04, 1.81744890e-04,\n       6.28844359e-05, 1.92569044e-04, 1.18305499e-04, 9.10641151e-05,\n       1.95113680e-04, 1.59362551e-04, 1.12660045e-04, 1.93855707e-04,\n       1.66733875e-04, 1.12964310e-04, 2.18646933e-04, 1.36058225e-04,\n       1.30696293e-04, 5.94667513e-05, 3.55287342e-05, 1.24368902e-04,\n       2.93918789e-05, 5.42009678e-05, 1.40210323e-04, 1.97210942e-04,\n       1.69579927e-04, 5.50014402e-05, 2.30348879e-04, 1.69148390e-04,\n       2.14357625e-04, 1.06379149e-04, 1.01785422e-04, 2.39340779e-04,\n       2.04787266e-04, 1.83633779e-04, 1.76542822e-04, 1.43706642e-04,\n       1.50766366e-04, 1.53850978e-04, 1.88280416e-04, 6.07813120e-05,\n       1.93307982e-04, 1.13531342e-04, 2.66722952e-04, 2.78244047e-04,\n       2.83899866e-04, 9.84027696e-05, 2.44773704e-04, 2.55662030e-04,\n       7.40047379e-05, 1.07625584e-04, 2.05043554e-04, 1.29213969e-04,\n       5.26590742e-05, 1.25814913e-04, 1.93578761e-04, 1.08286177e-04,\n       6.28215488e-05, 1.89255414e-04, 1.02560650e-04, 2.30353062e-04,\n       1.52604947e-04, 1.35219444e-04, 4.61865686e-05, 2.29433775e-04,\n       2.31627694e-04, 2.06941995e-04, 1.43721342e-04, 6.22813907e-05,\n       7.09794171e-05, 9.90686351e-05, 2.14943088e-04, 1.46053391e-04,\n       1.60575259e-04, 1.92968836e-04, 2.36121009e-04, 4.78228645e-05,\n       2.14425514e-04, 1.39431552e-04, 2.70328740e-04, 1.12271197e-04,\n       1.78002167e-04, 1.90707572e-04, 2.09900594e-04, 1.92087837e-04,\n       1.61371735e-04, 1.63780232e-04, 1.96146261e-04, 2.19862223e-04,\n       1.66558901e-04, 6.38010486e-05, 2.41428394e-04, 2.85024096e-04,\n       1.74013233e-04, 9.76424111e-05, 5.62910957e-05, 3.84324709e-05,\n       8.94592473e-05, 2.49496871e-04, 6.22517130e-05, 2.08425599e-04,\n       1.09357912e-04, 5.21557890e-05, 2.55811317e-04, 1.09000722e-04,\n       1.75652980e-04, 1.86352785e-04, 1.34074205e-04, 1.36195254e-04,\n       2.05721257e-04, 2.05439993e-04, 3.66370080e-05, 1.99623204e-04,\n       2.66365232e-04, 2.44801721e-04, 1.83709088e-04, 7.36101161e-05,\n       1.44622954e-04, 1.56353090e-04, 2.12470803e-04, 1.44182090e-04,\n       9.00017906e-05, 2.76884180e-04, 1.96872009e-04, 1.35018289e-04,\n       2.06415400e-04, 1.75036781e-04, 2.48412299e-04, 1.41324316e-04,\n       2.29589720e-04, 1.43290167e-04, 6.36726762e-05, 1.91520443e-04,\n       1.39848805e-04, 2.23068777e-05, 7.65935757e-05, 2.08517824e-04,\n       6.18240029e-05, 1.12691032e-04, 1.80872633e-04, 2.68726451e-04,\n       2.27987682e-04, 5.12137654e-05, 7.88357047e-05, 1.11015380e-04,\n       2.23357499e-04, 1.65017433e-04, 9.64588077e-05, 2.42546486e-04,\n       1.13772667e-04, 1.88463537e-04, 2.83087907e-04, 1.41537542e-04,\n       1.97981551e-04, 4.74875168e-05, 2.42191221e-04, 1.71957459e-04,\n       1.79321031e-04, 2.28365097e-04, 1.51522253e-04, 2.32341388e-04,\n       2.26780494e-04, 1.15324798e-04, 9.21817592e-05, 1.11348992e-04,\n       6.76805954e-05, 2.13225097e-04, 5.91431909e-05, 2.01815756e-04,\n       2.13140087e-04, 1.51874153e-04, 1.54780849e-04, 1.66487935e-04,\n       6.49603538e-05, 2.60728570e-04, 2.15484687e-04, 1.77071552e-04,\n       2.03053975e-04, 1.06608032e-04, 1.08044385e-04, 8.25962003e-05,\n       1.70605850e-04, 2.38252348e-04, 2.29956608e-04, 2.62289912e-04,\n       4.71675169e-05, 2.03900046e-04, 1.53637305e-04, 2.37125268e-04,\n       1.72860624e-04, 2.42610350e-04, 1.39032853e-04, 1.68980766e-04,\n       1.58911400e-04, 1.47314110e-04, 2.04871682e-04, 1.88055520e-04,\n       2.79763548e-04, 2.05179234e-04, 3.15922355e-05, 1.59173496e-04,\n       3.48704732e-05, 1.36936200e-04, 2.08743482e-04, 1.55924436e-04,\n       5.04464369e-05, 1.37873092e-04, 1.21151301e-04, 1.05274884e-04,\n       1.47260991e-04, 2.40768938e-04, 6.25260701e-05, 1.77472941e-04,\n       1.95025719e-04, 1.93828691e-04, 8.30489491e-05, 1.07113058e-04,\n       1.89070570e-04, 1.70719271e-04, 1.18591379e-04, 9.03636522e-05,\n       1.28929981e-04, 2.03161446e-04, 1.50391538e-04, 2.00464665e-04,\n       1.88268682e-04, 2.02514155e-04, 6.05511215e-05, 2.07116384e-04,\n       0.00000000e+00, 1.35251214e-04, 1.21792709e-04, 1.47214878e-04,\n       1.38667479e-04, 1.02674841e-04, 5.53065659e-05, 1.11959418e-04,\n       2.42822165e-04, 2.13235917e-04, 1.95720532e-04, 2.16502263e-04,\n       1.79020799e-04, 1.39298789e-04, 4.32576063e-05, 1.58595634e-04,\n       1.98970582e-04, 1.84829804e-04, 2.39101404e-04, 1.54558254e-04,\n       4.94465956e-05, 1.47079508e-04, 5.42656286e-05, 2.47614643e-04,\n       1.28983716e-04, 2.39734079e-04, 1.44352866e-04, 1.71414037e-04,\n       2.18319923e-04, 1.86995122e-04, 1.45375155e-04, 2.07295068e-04,\n       1.70918472e-04, 3.30933581e-05, 2.48246694e-04, 3.87020870e-05,\n       2.43118696e-04, 6.81406396e-05, 4.32177129e-05, 8.42030673e-05,\n       1.42651208e-04, 2.30075902e-05, 2.03100930e-04, 7.02498158e-05,\n       2.82591721e-04, 8.85025098e-05, 3.28755471e-05, 1.88577749e-04,\n       9.34371053e-05, 7.89750669e-05, 2.59730315e-04, 2.16590175e-04,\n       2.01349128e-04, 3.28256715e-05, 1.96886971e-04, 1.30887342e-04,\n       9.66082374e-05, 1.78275536e-04, 1.79994337e-04, 1.16035527e-04,\n       1.18404379e-04, 1.55291437e-04, 1.30587434e-04, 1.68030125e-04,\n       2.19578035e-04, 1.13635897e-04, 2.31807842e-04, 6.50638868e-05,\n       5.21053509e-05, 1.91303732e-04, 1.28514960e-04, 1.76754886e-04,\n       1.95363611e-04, 1.07679405e-04, 1.69817600e-04, 1.80364677e-04,\n       1.21606064e-04, 6.32174795e-05, 1.65058798e-04, 1.72476230e-04,\n       2.27428324e-04, 1.63211948e-04, 2.33201277e-04, 1.94847398e-04,\n       1.86197907e-04, 1.80362452e-04, 2.72785078e-04, 3.50143206e-05,\n       1.83986078e-04, 2.28612015e-04, 1.65433423e-04, 2.19159058e-04,\n       2.39130480e-04, 1.61465638e-04, 9.42361424e-05, 1.43512596e-04,\n       1.32950908e-04, 1.82702608e-04, 6.75635125e-05, 1.67231230e-04,\n       1.67063375e-04, 1.53519353e-04, 1.87357430e-04, 3.13572798e-05,\n       1.61614393e-04, 1.52529444e-04, 3.13871059e-05, 1.12341765e-04,\n       1.78861077e-04, 1.82148566e-04, 2.70995660e-04, 1.48827289e-04,\n       7.31981247e-05, 4.12328893e-05, 3.10399842e-04, 1.63428518e-04,\n       1.84544124e-04, 1.53074462e-04, 2.52574924e-04, 9.77800743e-05,\n       2.20972799e-04, 2.09303633e-04, 1.77912946e-04, 2.54273988e-04,\n       1.10092650e-04, 1.55756240e-04, 1.69862981e-04, 2.03620324e-04,\n       5.40182051e-05, 1.67949311e-04, 1.39151515e-04, 2.47721959e-04,\n       1.90661091e-04, 4.53970609e-05, 1.52010169e-04, 1.45301761e-04,\n       2.46089869e-04, 2.05260740e-04, 1.45724056e-04, 2.12491458e-04,\n       2.02932685e-04, 2.12945504e-04, 1.82035434e-04, 7.41105911e-05,\n       1.65324372e-04, 1.74819662e-04, 6.54502231e-05, 2.07280514e-04,\n       1.87161989e-04, 1.15600858e-04, 3.66153829e-05, 1.88046906e-04,\n       4.62631727e-05, 1.82729547e-04, 7.70682348e-05, 8.76138230e-05,\n       1.06093758e-04, 1.59654055e-04, 2.05499160e-04, 7.86334109e-05,\n       1.89926890e-04, 3.94906093e-05, 1.45381015e-04, 1.94914505e-04,\n       1.51034536e-04, 3.65196857e-05, 1.85086182e-04, 7.80103553e-05,\n       1.99360908e-04, 2.70401289e-04, 1.60331233e-04, 2.49775604e-04,\n       2.32628652e-04, 1.93260744e-05, 2.11258326e-04, 2.02739073e-04,\n       2.50494669e-04, 1.09657476e-04, 1.13918356e-04, 5.43370758e-05,\n       2.49205335e-04, 1.47622625e-04, 1.83256144e-05, 7.02841038e-05,\n       1.70383450e-04, 2.75243035e-04, 1.16762964e-04, 1.39063292e-04,\n       2.48730616e-04, 8.60091729e-05, 1.57749766e-04, 8.35116096e-05,\n       6.10104835e-05, 1.43539959e-04, 1.96169910e-04, 7.09379247e-05,\n       8.65798307e-05, 2.72675413e-05, 3.26935129e-05, 6.68874514e-05,\n       1.99815192e-05, 1.81783201e-04, 2.36533915e-04, 2.20453917e-04,\n       2.06384992e-04, 1.78390146e-04, 5.04497799e-05, 2.77471488e-04,\n       1.70158192e-04, 3.51412625e-05, 5.08299980e-05, 2.56862719e-04,\n       6.17884816e-05, 2.70692658e-04, 2.61391576e-04, 1.84750312e-04,\n       8.36923446e-05, 1.52799679e-04, 2.75107227e-04, 3.34119007e-05,\n       2.45041414e-04, 1.73338704e-04, 1.50774117e-04, 1.33833613e-04,\n       4.33189327e-05, 2.07011278e-04, 1.50717492e-04, 2.11803163e-04,\n       2.38673451e-04, 1.84012947e-04, 1.98880840e-04, 1.93185027e-04,\n       1.22644022e-04, 1.45643391e-04, 1.68501882e-04, 1.04939571e-04,\n       1.83553090e-04, 1.47321636e-04, 1.65482296e-04, 1.77476975e-04,\n       8.79354267e-05, 2.06945941e-04, 1.34048950e-04, 8.47219007e-05,\n       1.94098586e-04, 2.01282956e-04, 1.08496890e-04, 2.45512985e-04,\n       1.50948726e-04, 1.51963742e-04, 1.66917983e-04, 1.09064536e-04,\n       1.17544517e-04, 6.57266385e-05, 4.30998331e-05, 1.65159993e-04,\n       2.11707261e-05, 7.21025488e-05, 1.94236207e-04, 2.25561634e-04,\n       1.21691206e-04, 1.31045596e-05, 2.06880427e-04, 3.05481630e-04,\n       2.00021680e-04, 5.60584141e-05, 6.87560526e-05, 2.38876252e-04,\n       1.96349549e-04, 2.01864833e-04, 2.37473392e-04, 2.96368550e-04,\n       1.39858084e-04, 1.74431999e-04, 1.40638256e-04, 7.94974472e-05,\n       1.16883813e-04, 8.46070323e-05, 2.11941503e-04, 2.48440639e-04,\n       2.00135196e-04, 7.42481651e-05, 1.36938137e-04, 2.36365726e-04,\n       4.56507782e-05, 9.42168260e-05, 2.14373213e-04, 1.51656321e-04,\n       1.14560319e-04, 8.84114974e-05, 2.16157359e-04, 1.09555116e-04,\n       8.34378415e-05, 2.16199016e-04, 9.43381647e-05, 2.31105750e-04,\n       1.49661166e-04, 1.32305007e-04, 2.29888185e-05, 1.83975003e-04,\n       2.07878268e-04, 2.19222347e-04, 9.32911127e-05, 3.94305750e-05,\n       4.90224898e-05, 9.84350091e-05, 1.97764841e-04, 1.54578727e-04,\n       2.16351008e-04, 1.46135085e-04, 3.59822792e-04, 3.79130466e-05,\n       1.66754039e-04, 1.80694896e-04, 3.12580263e-04, 9.82098916e-05,\n       2.71283877e-04, 1.63132706e-04, 2.11462426e-04, 2.14425941e-04,\n       1.05933623e-04, 1.60610725e-04, 1.60661822e-04, 2.28603472e-04,\n       1.93758385e-04, 8.68740155e-05, 1.59298293e-04, 2.52196343e-04,\n       1.58307493e-04, 1.05882388e-04, 2.32114020e-05, 3.56928440e-05,\n       1.23931085e-04, 2.38274428e-04, 4.24165328e-05, 2.18917315e-04,\n       1.27168818e-04, 6.33489347e-05, 2.60959015e-04, 1.05997858e-04,\n       1.70219503e-04, 1.38561070e-04, 1.90343215e-04, 2.24002677e-04,\n       2.03201560e-04, 2.12088667e-04, 3.37580603e-05, 2.04219565e-04,\n       2.44134593e-04, 2.30833854e-04, 2.24772552e-04, 7.62143627e-05,\n       8.93929740e-05, 1.85653570e-04, 1.73167337e-04, 1.50432473e-04,\n       7.44866812e-05, 3.17979307e-04, 1.61844915e-04, 1.38139887e-04,\n       2.91580854e-04, 2.94091713e-04, 1.62144866e-04, 1.82908097e-04,\n       1.75758997e-04, 1.58156017e-04, 1.09741213e-04, 2.28318645e-04,\n       1.04640948e-04, 5.47888419e-05, 6.26220531e-05, 1.67179863e-04,\n       1.63971197e-05, 1.38397345e-04, 1.51326011e-04, 2.31551016e-04,\n       2.13079760e-04, 4.15208809e-05, 5.68026926e-05, 2.03274395e-04,\n       2.12780786e-04, 1.66255044e-04, 1.06334155e-04, 3.01854199e-04,\n       9.71278702e-05, 2.82635177e-04, 2.48858091e-04, 1.53800601e-04,\n       1.61556806e-04, 4.49061115e-05, 2.25469307e-04, 1.30942952e-04,\n       2.33808718e-04, 2.67730662e-04, 1.78675839e-04, 1.88084096e-04,\n       1.70738810e-04, 1.25528573e-04, 8.04287149e-05, 1.58113093e-04,\n       5.41260364e-05, 3.04402777e-04, 5.15419935e-05, 1.54907558e-04,\n       1.46427026e-04, 1.84797696e-04, 1.78091960e-04, 1.79207809e-04,\n       3.91891481e-05, 2.54206233e-04, 2.35775337e-04, 1.32978926e-04,\n       2.10987066e-04, 1.09439750e-04, 1.46670974e-04, 1.05441988e-04,\n       2.01147802e-04, 1.97727350e-04, 2.36505340e-04, 1.67312400e-04,\n       6.68860600e-05, 2.19034733e-04, 1.48361398e-04, 2.85192177e-04,\n       1.57897401e-04, 2.99443750e-04, 1.85343814e-04, 1.68830572e-04,\n       2.05429158e-04, 1.51752397e-04, 1.98926836e-04, 1.73321423e-04,\n       2.03370943e-04, 2.27660522e-04, 3.93767720e-05, 2.07509841e-04,\n       5.04278357e-05, 1.52744275e-04, 2.32300011e-04, 1.10253070e-04,\n       4.47616698e-05, 1.87490114e-04, 1.95622523e-04, 1.00761007e-04,\n       1.79916131e-04, 2.26509543e-04, 3.93234732e-05, 1.75499972e-04,\n       1.66140929e-04, 2.00965884e-04, 9.06044074e-05, 1.22686760e-04,\n       2.46377279e-04, 1.70835236e-04, 1.18420263e-04, 9.55504590e-05,\n       9.18314701e-05, 2.36211938e-04, 1.34789665e-04, 1.98451289e-04,\n       1.21060452e-04, 1.44763895e-04, 3.36879873e-05, 1.79700634e-04,\n       1.14703437e-05, 1.47909193e-04, 1.25608134e-04, 1.30608695e-04,\n       1.98895275e-04, 4.98514955e-05, 3.12377335e-05, 8.55727528e-05,\n       2.50644862e-04, 2.31550810e-04, 2.50367788e-04, 2.69570877e-04,\n       1.50241630e-04, 1.81851832e-04, 1.51075622e-05, 2.08368135e-04,\n       1.41408928e-04, 1.63130859e-04, 2.40967000e-04, 1.61606020e-04,\n       2.18485218e-05, 1.84130219e-04, 8.84998215e-05, 2.55038803e-04,\n       2.57043152e-04, 2.33068425e-04, 1.30476151e-04, 1.73842089e-04,\n       1.92334862e-04, 2.09697366e-04, 1.85452351e-04, 2.30095938e-04,\n       1.78115602e-04, 2.89729986e-05, 2.66235327e-04, 3.46889388e-05,\n       1.98609036e-04, 3.97495212e-05, 2.41617335e-05, 8.21986864e-05,\n       1.31108135e-04, 1.52471505e-05, 2.55899945e-04, 4.61973088e-05,\n       2.53787121e-04, 1.04235472e-04, 4.25822503e-05, 1.82700933e-04,\n       1.51618568e-04, 1.07243383e-04, 2.29288545e-04, 1.73292041e-04,\n       2.21947612e-04, 2.97169674e-05, 2.31518798e-04, 1.67393045e-04,\n       8.16380485e-05, 1.39987393e-04, 2.08314258e-04, 1.69620919e-04,\n       9.11390678e-05, 1.48758545e-04, 1.86337736e-04, 1.69147398e-04,\n       1.46760790e-04, 1.60268961e-04, 8.98404349e-04, 3.30975773e-03,\n       2.18225500e-03, 2.10252931e-03, 6.61698018e-04, 2.39885695e-03,\n       1.13461866e-03, 1.33410233e-03, 2.22280735e-03, 2.29127106e-03,\n       1.39529920e-03, 3.52115392e-03, 2.72569563e-03, 2.88255760e-03,\n       1.48573064e-03])"
     },
     "metadata": {}
    }
   ]
  },
  {
   "cell_type": "code",
   "metadata": {
    "allow_embed": false,
    "source_hash": null,
    "execution_start": 1702762659529,
    "execution_millis": 31,
    "deepnote_to_be_reexecuted": false,
    "cell_id": "b7608989217e4936a6ff4eb38f9c3410",
    "deepnote_cell_type": "code"
   },
   "source": [
    "model1_predict"
   ],
   "block_group": "c66cac6916f64ed88e6c67d27948829e",
   "execution_count": null,
   "outputs": [
    {
     "output_type": "execute_result",
     "execution_count": 25,
     "data": {
      "text/plain": "array(['A', 'H', 'A', ..., 'H', 'A', 'H'], dtype=object)"
     },
     "metadata": {}
    }
   ]
  },
  {
   "cell_type": "code",
   "metadata": {
    "source_hash": null,
    "execution_start": 1702763479656,
    "execution_millis": 1320,
    "deepnote_to_be_reexecuted": false,
    "cell_id": "2fdc1c78bd5d4e9da7ee82c9af179c40",
    "deepnote_cell_type": "code"
   },
   "source": [
    "print(classification_report(y_test, model1_predict))"
   ],
   "block_group": "b4ac24dd3a4b4d9791b4d233a9a0122b",
   "execution_count": null,
   "outputs": [
    {
     "name": "stdout",
     "text": "              precision    recall  f1-score   support\n\n           A       0.93      0.96      0.94      3011\n           D       0.95      0.83      0.89      2591\n           H       0.94      0.98      0.96      4260\n\n    accuracy                           0.94      9862\n   macro avg       0.94      0.93      0.93      9862\nweighted avg       0.94      0.94      0.94      9862\n\n",
     "output_type": "stream"
    }
   ]
  },
  {
   "cell_type": "code",
   "metadata": {
    "source_hash": null,
    "execution_start": 1702764501647,
    "execution_millis": 1656,
    "deepnote_to_be_reexecuted": false,
    "cell_id": "b23ea90f67c6459b8d25f941d71bf55c",
    "deepnote_cell_type": "code"
   },
   "source": [
    "print(f1_score(y_test, model1_predict, average='weighted'))\n",
    "print(f1_score(y_test, model1_predict, average='macro'))\n",
    "print(f1_score(y_test, model1_predict, average='micro'))\n",
    "print(f1_score(y_test, model1_predict, average=None))"
   ],
   "block_group": "e95873672fdf43b2904ed0da920ee629",
   "execution_count": null,
   "outputs": [
    {
     "name": "stdout",
     "text": "0.9357545104694043\n0.9301411350794039\n0.9368282295680389\n[0.94271258 0.88756423 0.96014659]\n",
     "output_type": "stream"
    }
   ]
  },
  {
   "cell_type": "code",
   "metadata": {
    "source_hash": null,
    "execution_start": 1702764972279,
    "execution_millis": 84259,
    "deepnote_to_be_reexecuted": false,
    "cell_id": "1b4997cc8662450e8252021c01e96b95",
    "deepnote_cell_type": "code"
   },
   "source": [
    "model2 = LogisticRegression(multi_class='multinomial', solver='lbfgs') # 'lbfgs' solver supports the multinomial option\n",
    "\n",
    "model2.fit(X_train, y_train)"
   ],
   "block_group": "f3a76f3ffd57490d80d9e5ce86160223",
   "execution_count": null,
   "outputs": [
    {
     "name": "stderr",
     "text": "/shared-libs/python3.9/py/lib/python3.9/site-packages/sklearn/linear_model/_logistic.py:444: ConvergenceWarning: lbfgs failed to converge (status=1):\nSTOP: TOTAL NO. of ITERATIONS REACHED LIMIT.\n\nIncrease the number of iterations (max_iter) or scale the data as shown in:\n    https://scikit-learn.org/stable/modules/preprocessing.html\nPlease also refer to the documentation for alternative solver options:\n    https://scikit-learn.org/stable/modules/linear_model.html#logistic-regression\n  n_iter_i = _check_optimize_result(\n",
     "output_type": "stream"
    },
    {
     "output_type": "execute_result",
     "execution_count": 45,
     "data": {
      "text/plain": "LogisticRegression(multi_class='multinomial')",
      "text/html": "<style>#sk-container-id-1 {color: black;background-color: white;}#sk-container-id-1 pre{padding: 0;}#sk-container-id-1 div.sk-toggleable {background-color: white;}#sk-container-id-1 label.sk-toggleable__label {cursor: pointer;display: block;width: 100%;margin-bottom: 0;padding: 0.3em;box-sizing: border-box;text-align: center;}#sk-container-id-1 label.sk-toggleable__label-arrow:before {content: \"▸\";float: left;margin-right: 0.25em;color: #696969;}#sk-container-id-1 label.sk-toggleable__label-arrow:hover:before {color: black;}#sk-container-id-1 div.sk-estimator:hover label.sk-toggleable__label-arrow:before {color: black;}#sk-container-id-1 div.sk-toggleable__content {max-height: 0;max-width: 0;overflow: hidden;text-align: left;background-color: #f0f8ff;}#sk-container-id-1 div.sk-toggleable__content pre {margin: 0.2em;color: black;border-radius: 0.25em;background-color: #f0f8ff;}#sk-container-id-1 input.sk-toggleable__control:checked~div.sk-toggleable__content {max-height: 200px;max-width: 100%;overflow: auto;}#sk-container-id-1 input.sk-toggleable__control:checked~label.sk-toggleable__label-arrow:before {content: \"▾\";}#sk-container-id-1 div.sk-estimator input.sk-toggleable__control:checked~label.sk-toggleable__label {background-color: #d4ebff;}#sk-container-id-1 div.sk-label input.sk-toggleable__control:checked~label.sk-toggleable__label {background-color: #d4ebff;}#sk-container-id-1 input.sk-hidden--visually {border: 0;clip: rect(1px 1px 1px 1px);clip: rect(1px, 1px, 1px, 1px);height: 1px;margin: -1px;overflow: hidden;padding: 0;position: absolute;width: 1px;}#sk-container-id-1 div.sk-estimator {font-family: monospace;background-color: #f0f8ff;border: 1px dotted black;border-radius: 0.25em;box-sizing: border-box;margin-bottom: 0.5em;}#sk-container-id-1 div.sk-estimator:hover {background-color: #d4ebff;}#sk-container-id-1 div.sk-parallel-item::after {content: \"\";width: 100%;border-bottom: 1px solid gray;flex-grow: 1;}#sk-container-id-1 div.sk-label:hover label.sk-toggleable__label {background-color: #d4ebff;}#sk-container-id-1 div.sk-serial::before {content: \"\";position: absolute;border-left: 1px solid gray;box-sizing: border-box;top: 0;bottom: 0;left: 50%;z-index: 0;}#sk-container-id-1 div.sk-serial {display: flex;flex-direction: column;align-items: center;background-color: white;padding-right: 0.2em;padding-left: 0.2em;position: relative;}#sk-container-id-1 div.sk-item {position: relative;z-index: 1;}#sk-container-id-1 div.sk-parallel {display: flex;align-items: stretch;justify-content: center;background-color: white;position: relative;}#sk-container-id-1 div.sk-item::before, #sk-container-id-1 div.sk-parallel-item::before {content: \"\";position: absolute;border-left: 1px solid gray;box-sizing: border-box;top: 0;bottom: 0;left: 50%;z-index: -1;}#sk-container-id-1 div.sk-parallel-item {display: flex;flex-direction: column;z-index: 1;position: relative;background-color: white;}#sk-container-id-1 div.sk-parallel-item:first-child::after {align-self: flex-end;width: 50%;}#sk-container-id-1 div.sk-parallel-item:last-child::after {align-self: flex-start;width: 50%;}#sk-container-id-1 div.sk-parallel-item:only-child::after {width: 0;}#sk-container-id-1 div.sk-dashed-wrapped {border: 1px dashed gray;margin: 0 0.4em 0.5em 0.4em;box-sizing: border-box;padding-bottom: 0.4em;background-color: white;}#sk-container-id-1 div.sk-label label {font-family: monospace;font-weight: bold;display: inline-block;line-height: 1.2em;}#sk-container-id-1 div.sk-label-container {text-align: center;}#sk-container-id-1 div.sk-container {/* jupyter's `normalize.less` sets `[hidden] { display: none; }` but bootstrap.min.css set `[hidden] { display: none !important; }` so we also need the `!important` here to be able to override the default hidden behavior on the sphinx rendered scikit-learn.org. See: https://github.com/scikit-learn/scikit-learn/issues/21755 */display: inline-block !important;position: relative;}#sk-container-id-1 div.sk-text-repr-fallback {display: none;}</style><div id=\"sk-container-id-1\" class=\"sk-top-container\"><div class=\"sk-text-repr-fallback\"><pre>LogisticRegression(multi_class=&#x27;multinomial&#x27;)</pre><b>In a Jupyter environment, please rerun this cell to show the HTML representation or trust the notebook. <br />On GitHub, the HTML representation is unable to render, please try loading this page with nbviewer.org.</b></div><div class=\"sk-container\" hidden><div class=\"sk-item\"><div class=\"sk-estimator sk-toggleable\"><input class=\"sk-toggleable__control sk-hidden--visually\" id=\"sk-estimator-id-1\" type=\"checkbox\" checked><label for=\"sk-estimator-id-1\" class=\"sk-toggleable__label sk-toggleable__label-arrow\">LogisticRegression</label><div class=\"sk-toggleable__content\"><pre>LogisticRegression(multi_class=&#x27;multinomial&#x27;)</pre></div></div></div></div></div>"
     },
     "metadata": {}
    }
   ]
  },
  {
   "cell_type": "code",
   "metadata": {
    "source_hash": null,
    "execution_start": 1702765242487,
    "execution_millis": 2957,
    "deepnote_to_be_reexecuted": false,
    "cell_id": "862ee40d14094884816e53572d52217e",
    "deepnote_cell_type": "code"
   },
   "source": [
    "model2_predict = model2.predict(X_test)\n",
    "print(\"\\nClassification Report:\\n\", classification_report(y_test, model2_predict))"
   ],
   "block_group": "ce5075457c7d4124a35f82a7fc76e0ce",
   "execution_count": null,
   "outputs": [
    {
     "name": "stdout",
     "text": "\nClassification Report:\n               precision    recall  f1-score   support\n\n           A       0.80      0.82      0.81      3011\n           D       0.60      0.54      0.57      2591\n           H       0.83      0.87      0.85      4260\n\n    accuracy                           0.77      9862\n   macro avg       0.74      0.74      0.74      9862\nweighted avg       0.76      0.77      0.76      9862\n\n",
     "output_type": "stream"
    }
   ]
  },
  {
   "cell_type": "code",
   "metadata": {
    "source_hash": null,
    "execution_start": 1702765247532,
    "execution_millis": 1386,
    "deepnote_to_be_reexecuted": false,
    "cell_id": "5a969e0c27964314936df03a6007159d",
    "deepnote_cell_type": "code"
   },
   "source": [
    "print(f1_score(y_test, model2_predict, average='weighted'))\n",
    "print(f1_score(y_test, model2_predict, average='macro'))\n",
    "print(f1_score(y_test, model2_predict, average='micro'))\n",
    "print(f1_score(y_test, model2_predict, average=None))"
   ],
   "block_group": "661e781976274af88fd71c4278a99f6b",
   "execution_count": null,
   "outputs": [
    {
     "name": "stdout",
     "text": "0.7628924112518185\n0.7416973039445031\n0.766477387953762\n[0.80551452 0.56869919 0.8508782 ]\n",
     "output_type": "stream"
    }
   ]
  },
  {
   "cell_type": "code",
   "metadata": {
    "source_hash": null,
    "execution_start": 1702765672731,
    "execution_millis": 1592820,
    "deepnote_to_be_reexecuted": false,
    "cell_id": "43596a68d88f4bcda7c099124e93094a",
    "deepnote_cell_type": "code"
   },
   "source": [
    "model3 = SVC()\n",
    "\n",
    "# Train the model\n",
    "model3.fit(X_train, y_train)"
   ],
   "block_group": "9081f56ed73e4343a9143dca3f2567cf",
   "execution_count": null,
   "outputs": [
    {
     "output_type": "execute_result",
     "execution_count": 54,
     "data": {
      "text/plain": "SVC()",
      "text/html": "<style>#sk-container-id-2 {color: black;background-color: white;}#sk-container-id-2 pre{padding: 0;}#sk-container-id-2 div.sk-toggleable {background-color: white;}#sk-container-id-2 label.sk-toggleable__label {cursor: pointer;display: block;width: 100%;margin-bottom: 0;padding: 0.3em;box-sizing: border-box;text-align: center;}#sk-container-id-2 label.sk-toggleable__label-arrow:before {content: \"▸\";float: left;margin-right: 0.25em;color: #696969;}#sk-container-id-2 label.sk-toggleable__label-arrow:hover:before {color: black;}#sk-container-id-2 div.sk-estimator:hover label.sk-toggleable__label-arrow:before {color: black;}#sk-container-id-2 div.sk-toggleable__content {max-height: 0;max-width: 0;overflow: hidden;text-align: left;background-color: #f0f8ff;}#sk-container-id-2 div.sk-toggleable__content pre {margin: 0.2em;color: black;border-radius: 0.25em;background-color: #f0f8ff;}#sk-container-id-2 input.sk-toggleable__control:checked~div.sk-toggleable__content {max-height: 200px;max-width: 100%;overflow: auto;}#sk-container-id-2 input.sk-toggleable__control:checked~label.sk-toggleable__label-arrow:before {content: \"▾\";}#sk-container-id-2 div.sk-estimator input.sk-toggleable__control:checked~label.sk-toggleable__label {background-color: #d4ebff;}#sk-container-id-2 div.sk-label input.sk-toggleable__control:checked~label.sk-toggleable__label {background-color: #d4ebff;}#sk-container-id-2 input.sk-hidden--visually {border: 0;clip: rect(1px 1px 1px 1px);clip: rect(1px, 1px, 1px, 1px);height: 1px;margin: -1px;overflow: hidden;padding: 0;position: absolute;width: 1px;}#sk-container-id-2 div.sk-estimator {font-family: monospace;background-color: #f0f8ff;border: 1px dotted black;border-radius: 0.25em;box-sizing: border-box;margin-bottom: 0.5em;}#sk-container-id-2 div.sk-estimator:hover {background-color: #d4ebff;}#sk-container-id-2 div.sk-parallel-item::after {content: \"\";width: 100%;border-bottom: 1px solid gray;flex-grow: 1;}#sk-container-id-2 div.sk-label:hover label.sk-toggleable__label {background-color: #d4ebff;}#sk-container-id-2 div.sk-serial::before {content: \"\";position: absolute;border-left: 1px solid gray;box-sizing: border-box;top: 0;bottom: 0;left: 50%;z-index: 0;}#sk-container-id-2 div.sk-serial {display: flex;flex-direction: column;align-items: center;background-color: white;padding-right: 0.2em;padding-left: 0.2em;position: relative;}#sk-container-id-2 div.sk-item {position: relative;z-index: 1;}#sk-container-id-2 div.sk-parallel {display: flex;align-items: stretch;justify-content: center;background-color: white;position: relative;}#sk-container-id-2 div.sk-item::before, #sk-container-id-2 div.sk-parallel-item::before {content: \"\";position: absolute;border-left: 1px solid gray;box-sizing: border-box;top: 0;bottom: 0;left: 50%;z-index: -1;}#sk-container-id-2 div.sk-parallel-item {display: flex;flex-direction: column;z-index: 1;position: relative;background-color: white;}#sk-container-id-2 div.sk-parallel-item:first-child::after {align-self: flex-end;width: 50%;}#sk-container-id-2 div.sk-parallel-item:last-child::after {align-self: flex-start;width: 50%;}#sk-container-id-2 div.sk-parallel-item:only-child::after {width: 0;}#sk-container-id-2 div.sk-dashed-wrapped {border: 1px dashed gray;margin: 0 0.4em 0.5em 0.4em;box-sizing: border-box;padding-bottom: 0.4em;background-color: white;}#sk-container-id-2 div.sk-label label {font-family: monospace;font-weight: bold;display: inline-block;line-height: 1.2em;}#sk-container-id-2 div.sk-label-container {text-align: center;}#sk-container-id-2 div.sk-container {/* jupyter's `normalize.less` sets `[hidden] { display: none; }` but bootstrap.min.css set `[hidden] { display: none !important; }` so we also need the `!important` here to be able to override the default hidden behavior on the sphinx rendered scikit-learn.org. See: https://github.com/scikit-learn/scikit-learn/issues/21755 */display: inline-block !important;position: relative;}#sk-container-id-2 div.sk-text-repr-fallback {display: none;}</style><div id=\"sk-container-id-2\" class=\"sk-top-container\"><div class=\"sk-text-repr-fallback\"><pre>SVC()</pre><b>In a Jupyter environment, please rerun this cell to show the HTML representation or trust the notebook. <br />On GitHub, the HTML representation is unable to render, please try loading this page with nbviewer.org.</b></div><div class=\"sk-container\" hidden><div class=\"sk-item\"><div class=\"sk-estimator sk-toggleable\"><input class=\"sk-toggleable__control sk-hidden--visually\" id=\"sk-estimator-id-2\" type=\"checkbox\" checked><label for=\"sk-estimator-id-2\" class=\"sk-toggleable__label sk-toggleable__label-arrow\">SVC</label><div class=\"sk-toggleable__content\"><pre>SVC()</pre></div></div></div></div></div>"
     },
     "metadata": {}
    }
   ]
  },
  {
   "cell_type": "code",
   "metadata": {
    "source_hash": null,
    "execution_start": 1702767847151,
    "execution_millis": 797140,
    "deepnote_to_be_reexecuted": false,
    "cell_id": "d57f98bc0a3e441192a721e399c5a227",
    "deepnote_cell_type": "code"
   },
   "source": [
    "model3_predict = model3.predict(X_test)\n",
    "print(\"\\nClassification Report:\\n\", classification_report(y_test, model3_predict))"
   ],
   "block_group": "1744965d83e04411b1a29261c16966c1",
   "execution_count": null,
   "outputs": [
    {
     "name": "stderr",
     "text": "/shared-libs/python3.9/py/lib/python3.9/site-packages/sklearn/metrics/_classification.py:1334: UndefinedMetricWarning: Precision and F-score are ill-defined and being set to 0.0 in labels with no predicted samples. Use `zero_division` parameter to control this behavior.\n  _warn_prf(average, modifier, msg_start, len(result))\n/shared-libs/python3.9/py/lib/python3.9/site-packages/sklearn/metrics/_classification.py:1334: UndefinedMetricWarning: Precision and F-score are ill-defined and being set to 0.0 in labels with no predicted samples. Use `zero_division` parameter to control this behavior.\n  _warn_prf(average, modifier, msg_start, len(result))\n\nClassification Report:\n               precision    recall  f1-score   support\n\n           A       0.00      0.00      0.00      3011\n           D       0.00      0.00      0.00      2591\n           H       0.43      1.00      0.60      4260\n\n    accuracy                           0.43      9862\n   macro avg       0.14      0.33      0.20      9862\nweighted avg       0.19      0.43      0.26      9862\n\n/shared-libs/python3.9/py/lib/python3.9/site-packages/sklearn/metrics/_classification.py:1334: UndefinedMetricWarning: Precision and F-score are ill-defined and being set to 0.0 in labels with no predicted samples. Use `zero_division` parameter to control this behavior.\n  _warn_prf(average, modifier, msg_start, len(result))\n",
     "output_type": "stream"
    }
   ]
  },
  {
   "cell_type": "code",
   "metadata": {
    "source_hash": null,
    "execution_start": 1702769892546,
    "execution_millis": 2026,
    "deepnote_to_be_reexecuted": false,
    "cell_id": "b52db801d0ba4c09b648c2338370cd90",
    "deepnote_cell_type": "code"
   },
   "source": [
    "# Create a Decision Tree classifier\n",
    "model4 = DecisionTreeClassifier()\n",
    "\n",
    "# Train the model\n",
    "model4.fit(X_train, y_train)\n"
   ],
   "block_group": "6ec0d02011c0442d8d643df8aa730983",
   "execution_count": null,
   "outputs": [
    {
     "output_type": "execute_result",
     "execution_count": 58,
     "data": {
      "text/plain": "DecisionTreeClassifier()",
      "text/html": "<style>#sk-container-id-4 {color: black;background-color: white;}#sk-container-id-4 pre{padding: 0;}#sk-container-id-4 div.sk-toggleable {background-color: white;}#sk-container-id-4 label.sk-toggleable__label {cursor: pointer;display: block;width: 100%;margin-bottom: 0;padding: 0.3em;box-sizing: border-box;text-align: center;}#sk-container-id-4 label.sk-toggleable__label-arrow:before {content: \"▸\";float: left;margin-right: 0.25em;color: #696969;}#sk-container-id-4 label.sk-toggleable__label-arrow:hover:before {color: black;}#sk-container-id-4 div.sk-estimator:hover label.sk-toggleable__label-arrow:before {color: black;}#sk-container-id-4 div.sk-toggleable__content {max-height: 0;max-width: 0;overflow: hidden;text-align: left;background-color: #f0f8ff;}#sk-container-id-4 div.sk-toggleable__content pre {margin: 0.2em;color: black;border-radius: 0.25em;background-color: #f0f8ff;}#sk-container-id-4 input.sk-toggleable__control:checked~div.sk-toggleable__content {max-height: 200px;max-width: 100%;overflow: auto;}#sk-container-id-4 input.sk-toggleable__control:checked~label.sk-toggleable__label-arrow:before {content: \"▾\";}#sk-container-id-4 div.sk-estimator input.sk-toggleable__control:checked~label.sk-toggleable__label {background-color: #d4ebff;}#sk-container-id-4 div.sk-label input.sk-toggleable__control:checked~label.sk-toggleable__label {background-color: #d4ebff;}#sk-container-id-4 input.sk-hidden--visually {border: 0;clip: rect(1px 1px 1px 1px);clip: rect(1px, 1px, 1px, 1px);height: 1px;margin: -1px;overflow: hidden;padding: 0;position: absolute;width: 1px;}#sk-container-id-4 div.sk-estimator {font-family: monospace;background-color: #f0f8ff;border: 1px dotted black;border-radius: 0.25em;box-sizing: border-box;margin-bottom: 0.5em;}#sk-container-id-4 div.sk-estimator:hover {background-color: #d4ebff;}#sk-container-id-4 div.sk-parallel-item::after {content: \"\";width: 100%;border-bottom: 1px solid gray;flex-grow: 1;}#sk-container-id-4 div.sk-label:hover label.sk-toggleable__label {background-color: #d4ebff;}#sk-container-id-4 div.sk-serial::before {content: \"\";position: absolute;border-left: 1px solid gray;box-sizing: border-box;top: 0;bottom: 0;left: 50%;z-index: 0;}#sk-container-id-4 div.sk-serial {display: flex;flex-direction: column;align-items: center;background-color: white;padding-right: 0.2em;padding-left: 0.2em;position: relative;}#sk-container-id-4 div.sk-item {position: relative;z-index: 1;}#sk-container-id-4 div.sk-parallel {display: flex;align-items: stretch;justify-content: center;background-color: white;position: relative;}#sk-container-id-4 div.sk-item::before, #sk-container-id-4 div.sk-parallel-item::before {content: \"\";position: absolute;border-left: 1px solid gray;box-sizing: border-box;top: 0;bottom: 0;left: 50%;z-index: -1;}#sk-container-id-4 div.sk-parallel-item {display: flex;flex-direction: column;z-index: 1;position: relative;background-color: white;}#sk-container-id-4 div.sk-parallel-item:first-child::after {align-self: flex-end;width: 50%;}#sk-container-id-4 div.sk-parallel-item:last-child::after {align-self: flex-start;width: 50%;}#sk-container-id-4 div.sk-parallel-item:only-child::after {width: 0;}#sk-container-id-4 div.sk-dashed-wrapped {border: 1px dashed gray;margin: 0 0.4em 0.5em 0.4em;box-sizing: border-box;padding-bottom: 0.4em;background-color: white;}#sk-container-id-4 div.sk-label label {font-family: monospace;font-weight: bold;display: inline-block;line-height: 1.2em;}#sk-container-id-4 div.sk-label-container {text-align: center;}#sk-container-id-4 div.sk-container {/* jupyter's `normalize.less` sets `[hidden] { display: none; }` but bootstrap.min.css set `[hidden] { display: none !important; }` so we also need the `!important` here to be able to override the default hidden behavior on the sphinx rendered scikit-learn.org. See: https://github.com/scikit-learn/scikit-learn/issues/21755 */display: inline-block !important;position: relative;}#sk-container-id-4 div.sk-text-repr-fallback {display: none;}</style><div id=\"sk-container-id-4\" class=\"sk-top-container\"><div class=\"sk-text-repr-fallback\"><pre>DecisionTreeClassifier()</pre><b>In a Jupyter environment, please rerun this cell to show the HTML representation or trust the notebook. <br />On GitHub, the HTML representation is unable to render, please try loading this page with nbviewer.org.</b></div><div class=\"sk-container\" hidden><div class=\"sk-item\"><div class=\"sk-estimator sk-toggleable\"><input class=\"sk-toggleable__control sk-hidden--visually\" id=\"sk-estimator-id-4\" type=\"checkbox\" checked><label for=\"sk-estimator-id-4\" class=\"sk-toggleable__label sk-toggleable__label-arrow\">DecisionTreeClassifier</label><div class=\"sk-toggleable__content\"><pre>DecisionTreeClassifier()</pre></div></div></div></div></div>"
     },
     "metadata": {}
    }
   ]
  },
  {
   "cell_type": "code",
   "metadata": {
    "allow_embed": false,
    "source_hash": null,
    "execution_start": 1702769954816,
    "execution_millis": 1427,
    "deepnote_to_be_reexecuted": false,
    "cell_id": "5a06200bbb1649448112c15133b72043",
    "deepnote_cell_type": "code"
   },
   "source": [
    "# Predictions\n",
    "model4_predict = model4.predict(X_test)\n",
    "\n",
    "# Evaluation\n",
    "print(\"Confusion Matrix:\\n\", confusion_matrix(y_test, model4_predict))\n",
    "print(\"\\nClassification Report:\\n\", classification_report(y_test, model4_predict))\n",
    "\n"
   ],
   "block_group": "e4292d8fd16646959e870e5f748257ec",
   "execution_count": null,
   "outputs": [
    {
     "name": "stdout",
     "text": "Confusion Matrix:\n [[3010    1    0]\n [   0 2591    0]\n [   0    0 4260]]\n\nClassification Report:\n               precision    recall  f1-score   support\n\n           A       1.00      1.00      1.00      3011\n           D       1.00      1.00      1.00      2591\n           H       1.00      1.00      1.00      4260\n\n    accuracy                           1.00      9862\n   macro avg       1.00      1.00      1.00      9862\nweighted avg       1.00      1.00      1.00      9862\n\n",
     "output_type": "stream"
    }
   ]
  },
  {
   "cell_type": "code",
   "metadata": {
    "source_hash": null,
    "execution_start": 1702769997047,
    "execution_millis": 1108,
    "deepnote_to_be_reexecuted": false,
    "cell_id": "9d81dbac565e4176ae1cc1152780fe9c",
    "deepnote_cell_type": "code"
   },
   "source": [
    "print(f1_score(y_test, model4_predict, average='weighted'))\n",
    "print(f1_score(y_test, model4_predict, average='macro'))\n",
    "print(f1_score(y_test, model4_predict, average='micro'))\n",
    "print(f1_score(y_test, model4_predict, average=None))"
   ],
   "block_group": "6fa44ead70dd47f5914c0e9e42f37566",
   "execution_count": null,
   "outputs": [
    {
     "name": "stdout",
     "text": "0.9998986020509575\n0.9998803253931624\n0.9998986006895153\n[0.99983391 0.99980706 1.        ]\n",
     "output_type": "stream"
    }
   ]
  },
  {
   "cell_type": "code",
   "metadata": {
    "source_hash": null,
    "execution_start": 1702770711502,
    "execution_millis": 6613,
    "deepnote_to_be_reexecuted": false,
    "cell_id": "c481fbee405d4ad0b9d17a44b63e4770",
    "deepnote_cell_type": "code"
   },
   "source": [],
   "block_group": "4c6addfbc8e3445596c45c8f71d65fdf",
   "execution_count": null,
   "outputs": [
    {
     "output_type": "execute_result",
     "execution_count": 64,
     "data": {
      "application/vnd.deepnote.dataframe.v3+json": {
       "column_count": 964,
       "row_count": 5,
       "columns": [
        {
         "name": "Country",
         "dtype": "object",
         "stats": {
          "unique_count": 1,
          "nan_count": 0,
          "categories": [
           {
            "name": "england",
            "count": 5
           }
          ]
         }
        },
        {
         "name": "League",
         "dtype": "int64",
         "stats": {
          "unique_count": 1,
          "nan_count": 0,
          "min": "0",
          "max": "0",
          "histogram": [
           {
            "bin_start": -0.5,
            "bin_end": -0.4,
            "count": 0
           },
           {
            "bin_start": -0.4,
            "bin_end": -0.3,
            "count": 0
           },
           {
            "bin_start": -0.3,
            "bin_end": -0.19999999999999996,
            "count": 0
           },
           {
            "bin_start": -0.19999999999999996,
            "bin_end": -0.09999999999999998,
            "count": 0
           },
           {
            "bin_start": -0.09999999999999998,
            "bin_end": 0,
            "count": 0
           },
           {
            "bin_start": 0,
            "bin_end": 0.10000000000000009,
            "count": 5
           },
           {
            "bin_start": 0.10000000000000009,
            "bin_end": 0.20000000000000007,
            "count": 0
           },
           {
            "bin_start": 0.20000000000000007,
            "bin_end": 0.30000000000000004,
            "count": 0
           },
           {
            "bin_start": 0.30000000000000004,
            "bin_end": 0.4,
            "count": 0
           },
           {
            "bin_start": 0.4,
            "bin_end": 0.5,
            "count": 0
           }
          ]
         }
        },
        {
         "name": "Season",
         "dtype": "int64",
         "stats": {
          "unique_count": 1,
          "nan_count": 0,
          "min": "1718",
          "max": "1718",
          "histogram": [
           {
            "bin_start": 1717.5,
            "bin_end": 1717.6,
            "count": 0
           },
           {
            "bin_start": 1717.6,
            "bin_end": 1717.7,
            "count": 0
           },
           {
            "bin_start": 1717.7,
            "bin_end": 1717.8,
            "count": 0
           },
           {
            "bin_start": 1717.8,
            "bin_end": 1717.9,
            "count": 0
           },
           {
            "bin_start": 1717.9,
            "bin_end": 1718,
            "count": 0
           },
           {
            "bin_start": 1718,
            "bin_end": 1718.1,
            "count": 5
           },
           {
            "bin_start": 1718.1,
            "bin_end": 1718.2,
            "count": 0
           },
           {
            "bin_start": 1718.2,
            "bin_end": 1718.3,
            "count": 0
           },
           {
            "bin_start": 1718.3,
            "bin_end": 1718.4,
            "count": 0
           },
           {
            "bin_start": 1718.4,
            "bin_end": 1718.5,
            "count": 0
           }
          ]
         }
        },
        {
         "name": "Match_Date",
         "dtype": "object",
         "stats": {
          "unique_count": 2,
          "nan_count": 0,
          "categories": [
           {
            "name": "2017-08-12",
            "count": 4
           },
           {
            "name": "2017-08-11",
            "count": 1
           }
          ]
         }
        },
        {
         "name": "Home_Team",
         "dtype": "object",
         "stats": {
          "unique_count": 5,
          "nan_count": 0,
          "categories": [
           {
            "name": "Arsenal",
            "count": 1
           },
           {
            "name": "Brighton",
            "count": 1
           },
           {
            "name": "3 others",
            "count": 3
           }
          ]
         }
        },
        {
         "name": "Away_Team",
         "dtype": "object",
         "stats": {
          "unique_count": 5,
          "nan_count": 0,
          "categories": [
           {
            "name": "Leicester",
            "count": 1
           },
           {
            "name": "Man City",
            "count": 1
           },
           {
            "name": "3 others",
            "count": 3
           }
          ]
         }
        },
        {
         "name": "Full_Time_Home_Team_Goals",
         "dtype": "float64",
         "stats": {
          "unique_count": 4,
          "nan_count": 0,
          "min": "0.0",
          "max": "4.0",
          "histogram": [
           {
            "bin_start": 0,
            "bin_end": 0.4,
            "count": 2
           },
           {
            "bin_start": 0.4,
            "bin_end": 0.8,
            "count": 0
           },
           {
            "bin_start": 0.8,
            "bin_end": 1.2000000000000002,
            "count": 1
           },
           {
            "bin_start": 1.2000000000000002,
            "bin_end": 1.6,
            "count": 0
           },
           {
            "bin_start": 1.6,
            "bin_end": 2,
            "count": 0
           },
           {
            "bin_start": 2,
            "bin_end": 2.4000000000000004,
            "count": 1
           },
           {
            "bin_start": 2.4000000000000004,
            "bin_end": 2.8000000000000003,
            "count": 0
           },
           {
            "bin_start": 2.8000000000000003,
            "bin_end": 3.2,
            "count": 0
           },
           {
            "bin_start": 3.2,
            "bin_end": 3.6,
            "count": 0
           },
           {
            "bin_start": 3.6,
            "bin_end": 4,
            "count": 1
           }
          ]
         }
        },
        {
         "name": "Full_Time_Away_Team_Goals",
         "dtype": "float64",
         "stats": {
          "unique_count": 3,
          "nan_count": 0,
          "min": "0.0",
          "max": "3.0",
          "histogram": [
           {
            "bin_start": 0,
            "bin_end": 0.3,
            "count": 1
           },
           {
            "bin_start": 0.3,
            "bin_end": 0.6,
            "count": 0
           },
           {
            "bin_start": 0.6,
            "bin_end": 0.8999999999999999,
            "count": 0
           },
           {
            "bin_start": 0.8999999999999999,
            "bin_end": 1.2,
            "count": 0
           },
           {
            "bin_start": 1.2,
            "bin_end": 1.5,
            "count": 0
           },
           {
            "bin_start": 1.5,
            "bin_end": 1.7999999999999998,
            "count": 0
           },
           {
            "bin_start": 1.7999999999999998,
            "bin_end": 2.1,
            "count": 1
           },
           {
            "bin_start": 2.1,
            "bin_end": 2.4,
            "count": 0
           },
           {
            "bin_start": 2.4,
            "bin_end": 2.6999999999999997,
            "count": 0
           },
           {
            "bin_start": 2.6999999999999997,
            "bin_end": 3,
            "count": 3
           }
          ]
         }
        },
        {
         "name": "Full_Time_Result",
         "dtype": "object",
         "stats": {
          "unique_count": 2,
          "nan_count": 0,
          "categories": [
           {
            "name": "A",
            "count": 3
           },
           {
            "name": "H",
            "count": 2
           }
          ]
         }
        },
        {
         "name": "Home_Team_Shots",
         "dtype": "float64",
         "stats": {
          "unique_count": 5,
          "nan_count": 0,
          "min": "6.0",
          "max": "27.0",
          "histogram": [
           {
            "bin_start": 6,
            "bin_end": 8.1,
            "count": 1
           },
           {
            "bin_start": 8.1,
            "bin_end": 10.2,
            "count": 1
           },
           {
            "bin_start": 10.2,
            "bin_end": 12.3,
            "count": 0
           },
           {
            "bin_start": 12.3,
            "bin_end": 14.4,
            "count": 1
           },
           {
            "bin_start": 14.4,
            "bin_end": 16.5,
            "count": 0
           },
           {
            "bin_start": 16.5,
            "bin_end": 18.6,
            "count": 0
           },
           {
            "bin_start": 18.6,
            "bin_end": 20.700000000000003,
            "count": 1
           },
           {
            "bin_start": 20.700000000000003,
            "bin_end": 22.8,
            "count": 0
           },
           {
            "bin_start": 22.8,
            "bin_end": 24.900000000000002,
            "count": 0
           },
           {
            "bin_start": 24.900000000000002,
            "bin_end": 27,
            "count": 1
           }
          ]
         }
        },
        {
         "name": "Away_Team_Shots",
         "dtype": "float64",
         "stats": {
          "unique_count": 5,
          "nan_count": 0,
          "min": "6.0",
          "max": "14.0",
          "histogram": [
           {
            "bin_start": 6,
            "bin_end": 6.8,
            "count": 1
           },
           {
            "bin_start": 6.8,
            "bin_end": 7.6,
            "count": 0
           },
           {
            "bin_start": 7.6,
            "bin_end": 8.4,
            "count": 1
           },
           {
            "bin_start": 8.4,
            "bin_end": 9.2,
            "count": 1
           },
           {
            "bin_start": 9.2,
            "bin_end": 10,
            "count": 0
           },
           {
            "bin_start": 10,
            "bin_end": 10.8,
            "count": 1
           },
           {
            "bin_start": 10.8,
            "bin_end": 11.600000000000001,
            "count": 0
           },
           {
            "bin_start": 11.600000000000001,
            "bin_end": 12.4,
            "count": 0
           },
           {
            "bin_start": 12.4,
            "bin_end": 13.2,
            "count": 0
           },
           {
            "bin_start": 13.2,
            "bin_end": 14,
            "count": 1
           }
          ]
         }
        },
        {
         "name": "Home_Team_Shots_on_Target",
         "dtype": "float64",
         "stats": {
          "unique_count": 4,
          "nan_count": 0,
          "min": "2.0",
          "max": "10.0",
          "histogram": [
           {
            "bin_start": 2,
            "bin_end": 2.8,
            "count": 1
           },
           {
            "bin_start": 2.8,
            "bin_end": 3.6,
            "count": 0
           },
           {
            "bin_start": 3.6,
            "bin_end": 4.4,
            "count": 2
           },
           {
            "bin_start": 4.4,
            "bin_end": 5.2,
            "count": 0
           },
           {
            "bin_start": 5.2,
            "bin_end": 6,
            "count": 0
           },
           {
            "bin_start": 6,
            "bin_end": 6.800000000000001,
            "count": 1
           },
           {
            "bin_start": 6.800000000000001,
            "bin_end": 7.6000000000000005,
            "count": 0
           },
           {
            "bin_start": 7.6000000000000005,
            "bin_end": 8.4,
            "count": 0
           },
           {
            "bin_start": 8.4,
            "bin_end": 9.2,
            "count": 0
           },
           {
            "bin_start": 9.2,
            "bin_end": 10,
            "count": 1
           }
          ]
         }
        },
        {
         "name": "Away_Team_Shots_on_Target",
         "dtype": "float64",
         "stats": {
          "unique_count": 5,
          "nan_count": 0,
          "min": "1.0",
          "max": "6.0",
          "histogram": [
           {
            "bin_start": 1,
            "bin_end": 1.5,
            "count": 1
           },
           {
            "bin_start": 1.5,
            "bin_end": 2,
            "count": 0
           },
           {
            "bin_start": 2,
            "bin_end": 2.5,
            "count": 0
           },
           {
            "bin_start": 2.5,
            "bin_end": 3,
            "count": 0
           },
           {
            "bin_start": 3,
            "bin_end": 3.5,
            "count": 1
           },
           {
            "bin_start": 3.5,
            "bin_end": 4,
            "count": 0
           },
           {
            "bin_start": 4,
            "bin_end": 4.5,
            "count": 1
           },
           {
            "bin_start": 4.5,
            "bin_end": 5,
            "count": 0
           },
           {
            "bin_start": 5,
            "bin_end": 5.5,
            "count": 1
           },
           {
            "bin_start": 5.5,
            "bin_end": 6,
            "count": 1
           }
          ]
         }
        },
        {
         "name": "Home_Team_Corners",
         "dtype": "float64",
         "stats": {
          "unique_count": 5,
          "nan_count": 0,
          "min": "3.0",
          "max": "12.0",
          "histogram": [
           {
            "bin_start": 3,
            "bin_end": 3.9,
            "count": 1
           },
           {
            "bin_start": 3.9,
            "bin_end": 4.8,
            "count": 0
           },
           {
            "bin_start": 4.8,
            "bin_end": 5.7,
            "count": 0
           },
           {
            "bin_start": 5.7,
            "bin_end": 6.6,
            "count": 1
           },
           {
            "bin_start": 6.6,
            "bin_end": 7.5,
            "count": 0
           },
           {
            "bin_start": 7.5,
            "bin_end": 8.4,
            "count": 1
           },
           {
            "bin_start": 8.4,
            "bin_end": 9.3,
            "count": 1
           },
           {
            "bin_start": 9.3,
            "bin_end": 10.2,
            "count": 0
           },
           {
            "bin_start": 10.2,
            "bin_end": 11.1,
            "count": 0
           },
           {
            "bin_start": 11.1,
            "bin_end": 12,
            "count": 1
           }
          ]
         }
        },
        {
         "name": "Away_Team_Corners",
         "dtype": "float64",
         "stats": {
          "unique_count": 5,
          "nan_count": 0,
          "min": "4.0",
          "max": "10.0",
          "histogram": [
           {
            "bin_start": 4,
            "bin_end": 4.6,
            "count": 1
           },
           {
            "bin_start": 4.6,
            "bin_end": 5.2,
            "count": 1
           },
           {
            "bin_start": 5.2,
            "bin_end": 5.8,
            "count": 0
           },
           {
            "bin_start": 5.8,
            "bin_end": 6.4,
            "count": 0
           },
           {
            "bin_start": 6.4,
            "bin_end": 7,
            "count": 0
           },
           {
            "bin_start": 7,
            "bin_end": 7.6,
            "count": 1
           },
           {
            "bin_start": 7.6,
            "bin_end": 8.2,
            "count": 0
           },
           {
            "bin_start": 8.2,
            "bin_end": 8.8,
            "count": 0
           },
           {
            "bin_start": 8.8,
            "bin_end": 9.399999999999999,
            "count": 1
           },
           {
            "bin_start": 9.399999999999999,
            "bin_end": 10,
            "count": 1
           }
          ]
         }
        },
        {
         "name": "Home_Team_Yellow_Cards",
         "dtype": "float64",
         "stats": {
          "unique_count": 3,
          "nan_count": 0,
          "min": "0.0",
          "max": "3.0",
          "histogram": [
           {
            "bin_start": 0,
            "bin_end": 0.3,
            "count": 2
           },
           {
            "bin_start": 0.3,
            "bin_end": 0.6,
            "count": 0
           },
           {
            "bin_start": 0.6,
            "bin_end": 0.8999999999999999,
            "count": 0
           },
           {
            "bin_start": 0.8999999999999999,
            "bin_end": 1.2,
            "count": 2
           },
           {
            "bin_start": 1.2,
            "bin_end": 1.5,
            "count": 0
           },
           {
            "bin_start": 1.5,
            "bin_end": 1.7999999999999998,
            "count": 0
           },
           {
            "bin_start": 1.7999999999999998,
            "bin_end": 2.1,
            "count": 0
           },
           {
            "bin_start": 2.1,
            "bin_end": 2.4,
            "count": 0
           },
           {
            "bin_start": 2.4,
            "bin_end": 2.6999999999999997,
            "count": 0
           },
           {
            "bin_start": 2.6999999999999997,
            "bin_end": 3,
            "count": 1
           }
          ]
         }
        },
        {
         "name": "Away_Team_Yellow_Cards",
         "dtype": "float64",
         "stats": {
          "unique_count": 3,
          "nan_count": 0,
          "min": "1.0",
          "max": "3.0",
          "histogram": [
           {
            "bin_start": 1,
            "bin_end": 1.2,
            "count": 2
           },
           {
            "bin_start": 1.2,
            "bin_end": 1.4,
            "count": 0
           },
           {
            "bin_start": 1.4,
            "bin_end": 1.6,
            "count": 0
           },
           {
            "bin_start": 1.6,
            "bin_end": 1.8,
            "count": 0
           },
           {
            "bin_start": 1.8,
            "bin_end": 2,
            "count": 0
           },
           {
            "bin_start": 2,
            "bin_end": 2.2,
            "count": 1
           },
           {
            "bin_start": 2.2,
            "bin_end": 2.4000000000000004,
            "count": 0
           },
           {
            "bin_start": 2.4000000000000004,
            "bin_end": 2.6,
            "count": 0
           },
           {
            "bin_start": 2.6,
            "bin_end": 2.8,
            "count": 0
           },
           {
            "bin_start": 2.8,
            "bin_end": 3,
            "count": 2
           }
          ]
         }
        },
        {
         "name": "Home_Team_Red_Cards",
         "dtype": "float64",
         "stats": {
          "unique_count": 2,
          "nan_count": 0,
          "min": "0.0",
          "max": "2.0",
          "histogram": [
           {
            "bin_start": 0,
            "bin_end": 0.2,
            "count": 4
           },
           {
            "bin_start": 0.2,
            "bin_end": 0.4,
            "count": 0
           },
           {
            "bin_start": 0.4,
            "bin_end": 0.6000000000000001,
            "count": 0
           },
           {
            "bin_start": 0.6000000000000001,
            "bin_end": 0.8,
            "count": 0
           },
           {
            "bin_start": 0.8,
            "bin_end": 1,
            "count": 0
           },
           {
            "bin_start": 1,
            "bin_end": 1.2000000000000002,
            "count": 0
           },
           {
            "bin_start": 1.2000000000000002,
            "bin_end": 1.4000000000000001,
            "count": 0
           },
           {
            "bin_start": 1.4000000000000001,
            "bin_end": 1.6,
            "count": 0
           },
           {
            "bin_start": 1.6,
            "bin_end": 1.8,
            "count": 0
           },
           {
            "bin_start": 1.8,
            "bin_end": 2,
            "count": 1
           }
          ]
         }
        },
        {
         "name": "Away_Team_Red_Cards",
         "dtype": "float64",
         "stats": {
          "unique_count": 1,
          "nan_count": 0,
          "min": "0.0",
          "max": "0.0",
          "histogram": [
           {
            "bin_start": -0.5,
            "bin_end": -0.4,
            "count": 0
           },
           {
            "bin_start": -0.4,
            "bin_end": -0.3,
            "count": 0
           },
           {
            "bin_start": -0.3,
            "bin_end": -0.19999999999999996,
            "count": 0
           },
           {
            "bin_start": -0.19999999999999996,
            "bin_end": -0.09999999999999998,
            "count": 0
           },
           {
            "bin_start": -0.09999999999999998,
            "bin_end": 0,
            "count": 0
           },
           {
            "bin_start": 0,
            "bin_end": 0.10000000000000009,
            "count": 5
           },
           {
            "bin_start": 0.10000000000000009,
            "bin_end": 0.20000000000000007,
            "count": 0
           },
           {
            "bin_start": 0.20000000000000007,
            "bin_end": 0.30000000000000004,
            "count": 0
           },
           {
            "bin_start": 0.30000000000000004,
            "bin_end": 0.4,
            "count": 0
           },
           {
            "bin_start": 0.4,
            "bin_end": 0.5,
            "count": 0
           }
          ]
         }
        },
        {
         "name": "DayOfWeek",
         "dtype": "float64",
         "stats": {
          "unique_count": 2,
          "nan_count": 0,
          "min": "4.0",
          "max": "5.0",
          "histogram": [
           {
            "bin_start": 4,
            "bin_end": 4.1,
            "count": 1
           },
           {
            "bin_start": 4.1,
            "bin_end": 4.2,
            "count": 0
           },
           {
            "bin_start": 4.2,
            "bin_end": 4.3,
            "count": 0
           },
           {
            "bin_start": 4.3,
            "bin_end": 4.4,
            "count": 0
           },
           {
            "bin_start": 4.4,
            "bin_end": 4.5,
            "count": 0
           },
           {
            "bin_start": 4.5,
            "bin_end": 4.6,
            "count": 0
           },
           {
            "bin_start": 4.6,
            "bin_end": 4.7,
            "count": 0
           },
           {
            "bin_start": 4.7,
            "bin_end": 4.8,
            "count": 0
           },
           {
            "bin_start": 4.8,
            "bin_end": 4.9,
            "count": 0
           },
           {
            "bin_start": 4.9,
            "bin_end": 5,
            "count": 4
           }
          ]
         }
        },
        {
         "name": "is_Weekend",
         "dtype": "int64",
         "stats": {
          "unique_count": 2,
          "nan_count": 0,
          "min": "0",
          "max": "1",
          "histogram": [
           {
            "bin_start": 0,
            "bin_end": 0.1,
            "count": 1
           },
           {
            "bin_start": 0.1,
            "bin_end": 0.2,
            "count": 0
           },
           {
            "bin_start": 0.2,
            "bin_end": 0.30000000000000004,
            "count": 0
           },
           {
            "bin_start": 0.30000000000000004,
            "bin_end": 0.4,
            "count": 0
           },
           {
            "bin_start": 0.4,
            "bin_end": 0.5,
            "count": 0
           },
           {
            "bin_start": 0.5,
            "bin_end": 0.6000000000000001,
            "count": 0
           },
           {
            "bin_start": 0.6000000000000001,
            "bin_end": 0.7000000000000001,
            "count": 0
           },
           {
            "bin_start": 0.7000000000000001,
            "bin_end": 0.8,
            "count": 0
           },
           {
            "bin_start": 0.8,
            "bin_end": 0.9,
            "count": 0
           },
           {
            "bin_start": 0.9,
            "bin_end": 1,
            "count": 4
           }
          ]
         }
        },
        {
         "name": "Home_Team_Fouls_Committed",
         "dtype": "float64",
         "stats": {
          "unique_count": 5,
          "nan_count": 0,
          "min": "6.0",
          "max": "16.0",
          "histogram": [
           {
            "bin_start": 6,
            "bin_end": 7,
            "count": 1
           },
           {
            "bin_start": 7,
            "bin_end": 8,
            "count": 1
           },
           {
            "bin_start": 8,
            "bin_end": 9,
            "count": 0
           },
           {
            "bin_start": 9,
            "bin_end": 10,
            "count": 1
           },
           {
            "bin_start": 10,
            "bin_end": 11,
            "count": 0
           },
           {
            "bin_start": 11,
            "bin_end": 12,
            "count": 0
           },
           {
            "bin_start": 12,
            "bin_end": 13,
            "count": 0
           },
           {
            "bin_start": 13,
            "bin_end": 14,
            "count": 1
           },
           {
            "bin_start": 14,
            "bin_end": 15,
            "count": 0
           },
           {
            "bin_start": 15,
            "bin_end": 16,
            "count": 1
           }
          ]
         }
        },
        {
         "name": "Away_Team_Fouls_Committed",
         "dtype": "float64",
         "stats": {
          "unique_count": 5,
          "nan_count": 0,
          "min": "9.0",
          "max": "19.0",
          "histogram": [
           {
            "bin_start": 9,
            "bin_end": 10,
            "count": 1
           },
           {
            "bin_start": 10,
            "bin_end": 11,
            "count": 1
           },
           {
            "bin_start": 11,
            "bin_end": 12,
            "count": 1
           },
           {
            "bin_start": 12,
            "bin_end": 13,
            "count": 1
           },
           {
            "bin_start": 13,
            "bin_end": 14,
            "count": 0
           },
           {
            "bin_start": 14,
            "bin_end": 15,
            "count": 0
           },
           {
            "bin_start": 15,
            "bin_end": 16,
            "count": 0
           },
           {
            "bin_start": 16,
            "bin_end": 17,
            "count": 0
           },
           {
            "bin_start": 17,
            "bin_end": 18,
            "count": 0
           },
           {
            "bin_start": 18,
            "bin_end": 19,
            "count": 1
           }
          ]
         }
        },
        {
         "name": "over_2.5",
         "dtype": "int64",
         "stats": {
          "unique_count": 2,
          "nan_count": 0,
          "min": "0",
          "max": "1",
          "histogram": [
           {
            "bin_start": 0,
            "bin_end": 0.1,
            "count": 2
           },
           {
            "bin_start": 0.1,
            "bin_end": 0.2,
            "count": 0
           },
           {
            "bin_start": 0.2,
            "bin_end": 0.30000000000000004,
            "count": 0
           },
           {
            "bin_start": 0.30000000000000004,
            "bin_end": 0.4,
            "count": 0
           },
           {
            "bin_start": 0.4,
            "bin_end": 0.5,
            "count": 0
           },
           {
            "bin_start": 0.5,
            "bin_end": 0.6000000000000001,
            "count": 0
           },
           {
            "bin_start": 0.6000000000000001,
            "bin_end": 0.7000000000000001,
            "count": 0
           },
           {
            "bin_start": 0.7000000000000001,
            "bin_end": 0.8,
            "count": 0
           },
           {
            "bin_start": 0.8,
            "bin_end": 0.9,
            "count": 0
           },
           {
            "bin_start": 0.9,
            "bin_end": 1,
            "count": 3
           }
          ]
         }
        },
        {
         "name": "Average_home_win_odds",
         "dtype": "float64",
         "stats": {
          "unique_count": 5,
          "nan_count": 0,
          "min": "1.2425",
          "max": "10.13125",
          "histogram": [
           {
            "bin_start": 1.2425,
            "bin_end": 2.131375,
            "count": 4
           },
           {
            "bin_start": 2.131375,
            "bin_end": 3.02025,
            "count": 0
           },
           {
            "bin_start": 3.02025,
            "bin_end": 3.9091249999999995,
            "count": 0
           },
           {
            "bin_start": 3.9091249999999995,
            "bin_end": 4.798,
            "count": 0
           },
           {
            "bin_start": 4.798,
            "bin_end": 5.686875,
            "count": 0
           },
           {
            "bin_start": 5.686875,
            "bin_end": 6.575749999999999,
            "count": 0
           },
           {
            "bin_start": 6.575749999999999,
            "bin_end": 7.464625,
            "count": 0
           },
           {
            "bin_start": 7.464625,
            "bin_end": 8.3535,
            "count": 0
           },
           {
            "bin_start": 8.3535,
            "bin_end": 9.242375,
            "count": 0
           },
           {
            "bin_start": 9.242375,
            "bin_end": 10.13125,
            "count": 1
           }
          ]
         }
        },
        {
         "name": "Average_away_win_odds",
         "dtype": "float64",
         "stats": {
          "unique_count": 5,
          "nan_count": 0,
          "min": "1.3250000000000002",
          "max": "14.115",
          "histogram": [
           {
            "bin_start": 1.3250000000000002,
            "bin_end": 2.604,
            "count": 1
           },
           {
            "bin_start": 2.604,
            "bin_end": 3.883,
            "count": 0
           },
           {
            "bin_start": 3.883,
            "bin_end": 5.162,
            "count": 1
           },
           {
            "bin_start": 5.162,
            "bin_end": 6.441,
            "count": 1
           },
           {
            "bin_start": 6.441,
            "bin_end": 7.72,
            "count": 1
           },
           {
            "bin_start": 7.72,
            "bin_end": 8.998999999999999,
            "count": 0
           },
           {
            "bin_start": 8.998999999999999,
            "bin_end": 10.277999999999999,
            "count": 0
           },
           {
            "bin_start": 10.277999999999999,
            "bin_end": 11.556999999999999,
            "count": 0
           },
           {
            "bin_start": 11.556999999999999,
            "bin_end": 12.835999999999999,
            "count": 0
           },
           {
            "bin_start": 12.835999999999999,
            "bin_end": 14.115,
            "count": 1
           }
          ]
         }
        },
        {
         "name": "Average_draw_odds",
         "dtype": "float64",
         "stats": {
          "unique_count": 5,
          "nan_count": 0,
          "min": "3.4975",
          "max": "6.1325",
          "histogram": [
           {
            "bin_start": 3.4975,
            "bin_end": 3.761,
            "count": 2
           },
           {
            "bin_start": 3.761,
            "bin_end": 4.0245,
            "count": 0
           },
           {
            "bin_start": 4.0245,
            "bin_end": 4.288,
            "count": 0
           },
           {
            "bin_start": 4.288,
            "bin_end": 4.5515,
            "count": 1
           },
           {
            "bin_start": 4.5515,
            "bin_end": 4.815,
            "count": 0
           },
           {
            "bin_start": 4.815,
            "bin_end": 5.0785,
            "count": 0
           },
           {
            "bin_start": 5.0785,
            "bin_end": 5.3420000000000005,
            "count": 1
           },
           {
            "bin_start": 5.3420000000000005,
            "bin_end": 5.6055,
            "count": 0
           },
           {
            "bin_start": 5.6055,
            "bin_end": 5.869,
            "count": 0
           },
           {
            "bin_start": 5.869,
            "bin_end": 6.1325,
            "count": 1
           }
          ]
         }
        },
        {
         "name": "Average_over_2.5_goals_odds",
         "dtype": "float64",
         "stats": {
          "unique_count": 5,
          "nan_count": 0,
          "min": "1.61",
          "max": "2.11",
          "histogram": [
           {
            "bin_start": 1.61,
            "bin_end": 1.6600000000000001,
            "count": 3
           },
           {
            "bin_start": 1.6600000000000001,
            "bin_end": 1.71,
            "count": 0
           },
           {
            "bin_start": 1.71,
            "bin_end": 1.76,
            "count": 0
           },
           {
            "bin_start": 1.76,
            "bin_end": 1.81,
            "count": 0
           },
           {
            "bin_start": 1.81,
            "bin_end": 1.8599999999999999,
            "count": 0
           },
           {
            "bin_start": 1.8599999999999999,
            "bin_end": 1.91,
            "count": 0
           },
           {
            "bin_start": 1.91,
            "bin_end": 1.96,
            "count": 0
           },
           {
            "bin_start": 1.96,
            "bin_end": 2.01,
            "count": 0
           },
           {
            "bin_start": 2.01,
            "bin_end": 2.06,
            "count": 0
           },
           {
            "bin_start": 2.06,
            "bin_end": 2.11,
            "count": 2
           }
          ]
         }
        },
        {
         "name": "Average_under_2.5_goals_odds",
         "dtype": "float64",
         "stats": {
          "unique_count": 5,
          "nan_count": 0,
          "min": "1.72",
          "max": "2.32",
          "histogram": [
           {
            "bin_start": 1.72,
            "bin_end": 1.78,
            "count": 2
           },
           {
            "bin_start": 1.78,
            "bin_end": 1.8399999999999999,
            "count": 0
           },
           {
            "bin_start": 1.8399999999999999,
            "bin_end": 1.9,
            "count": 0
           },
           {
            "bin_start": 1.9,
            "bin_end": 1.96,
            "count": 0
           },
           {
            "bin_start": 1.96,
            "bin_end": 2.02,
            "count": 0
           },
           {
            "bin_start": 2.02,
            "bin_end": 2.08,
            "count": 0
           },
           {
            "bin_start": 2.08,
            "bin_end": 2.1399999999999997,
            "count": 0
           },
           {
            "bin_start": 2.1399999999999997,
            "bin_end": 2.1999999999999997,
            "count": 0
           },
           {
            "bin_start": 2.1999999999999997,
            "bin_end": 2.26,
            "count": 1
           },
           {
            "bin_start": 2.26,
            "bin_end": 2.32,
            "count": 2
           }
          ]
         }
        },
        {
         "name": "Average_Asian_Handicap_Home_odds",
         "dtype": "float64",
         "stats": {
          "unique_count": 5,
          "nan_count": 0,
          "min": "0.1099999999999999",
          "max": "1.705",
          "histogram": [
           {
            "bin_start": 0.1099999999999999,
            "bin_end": 0.26949999999999996,
            "count": 1
           },
           {
            "bin_start": 0.26949999999999996,
            "bin_end": 0.42899999999999994,
            "count": 1
           },
           {
            "bin_start": 0.42899999999999994,
            "bin_end": 0.5885,
            "count": 1
           },
           {
            "bin_start": 0.5885,
            "bin_end": 0.748,
            "count": 1
           },
           {
            "bin_start": 0.748,
            "bin_end": 0.9075,
            "count": 0
           },
           {
            "bin_start": 0.9075,
            "bin_end": 1.0670000000000002,
            "count": 0
           },
           {
            "bin_start": 1.0670000000000002,
            "bin_end": 1.2265000000000001,
            "count": 0
           },
           {
            "bin_start": 1.2265000000000001,
            "bin_end": 1.3860000000000001,
            "count": 0
           },
           {
            "bin_start": 1.3860000000000001,
            "bin_end": 1.5455,
            "count": 0
           },
           {
            "bin_start": 1.5455,
            "bin_end": 1.705,
            "count": 1
           }
          ]
         }
        },
        {
         "name": "Average_Asian_Handicap_Away_odds",
         "dtype": "float64",
         "stats": {
          "unique_count": 5,
          "nan_count": 0,
          "min": "1.83",
          "max": "2.02",
          "histogram": [
           {
            "bin_start": 1.83,
            "bin_end": 1.849,
            "count": 1
           },
           {
            "bin_start": 1.849,
            "bin_end": 1.868,
            "count": 0
           },
           {
            "bin_start": 1.868,
            "bin_end": 1.887,
            "count": 0
           },
           {
            "bin_start": 1.887,
            "bin_end": 1.9060000000000001,
            "count": 1
           },
           {
            "bin_start": 1.9060000000000001,
            "bin_end": 1.925,
            "count": 0
           },
           {
            "bin_start": 1.925,
            "bin_end": 1.944,
            "count": 0
           },
           {
            "bin_start": 1.944,
            "bin_end": 1.963,
            "count": 1
           },
           {
            "bin_start": 1.963,
            "bin_end": 1.982,
            "count": 1
           },
           {
            "bin_start": 1.982,
            "bin_end": 2.001,
            "count": 0
           },
           {
            "bin_start": 2.001,
            "bin_end": 2.02,
            "count": 1
           }
          ]
         }
        },
        {
         "name": "Close_home_win_odds",
         "dtype": "float64",
         "stats": {
          "unique_count": 5,
          "nan_count": 0,
          "min": "1.33",
          "max": "11.75",
          "histogram": [
           {
            "bin_start": 1.33,
            "bin_end": 2.372,
            "count": 4
           },
           {
            "bin_start": 2.372,
            "bin_end": 3.414,
            "count": 0
           },
           {
            "bin_start": 3.414,
            "bin_end": 4.456,
            "count": 0
           },
           {
            "bin_start": 4.456,
            "bin_end": 5.498,
            "count": 0
           },
           {
            "bin_start": 5.498,
            "bin_end": 6.54,
            "count": 0
           },
           {
            "bin_start": 6.54,
            "bin_end": 7.582000000000001,
            "count": 0
           },
           {
            "bin_start": 7.582000000000001,
            "bin_end": 8.624,
            "count": 0
           },
           {
            "bin_start": 8.624,
            "bin_end": 9.666,
            "count": 0
           },
           {
            "bin_start": 9.666,
            "bin_end": 10.708,
            "count": 0
           },
           {
            "bin_start": 10.708,
            "bin_end": 11.75,
            "count": 1
           }
          ]
         }
        },
        {
         "name": "Close_draw_odds",
         "dtype": "float64",
         "stats": {
          "unique_count": 5,
          "nan_count": 0,
          "min": "3.49",
          "max": "6.15",
          "histogram": [
           {
            "bin_start": 3.49,
            "bin_end": 3.7560000000000002,
            "count": 2
           },
           {
            "bin_start": 3.7560000000000002,
            "bin_end": 4.022,
            "count": 0
           },
           {
            "bin_start": 4.022,
            "bin_end": 4.288,
            "count": 0
           },
           {
            "bin_start": 4.288,
            "bin_end": 4.554,
            "count": 0
           },
           {
            "bin_start": 4.554,
            "bin_end": 4.82,
            "count": 1
           },
           {
            "bin_start": 4.82,
            "bin_end": 5.086,
            "count": 0
           },
           {
            "bin_start": 5.086,
            "bin_end": 5.352,
            "count": 0
           },
           {
            "bin_start": 5.352,
            "bin_end": 5.618,
            "count": 1
           },
           {
            "bin_start": 5.618,
            "bin_end": 5.884,
            "count": 0
           },
           {
            "bin_start": 5.884,
            "bin_end": 6.15,
            "count": 1
           }
          ]
         }
        },
        {
         "name": "Close_away_win_odds",
         "dtype": "float64",
         "stats": {
          "unique_count": 5,
          "nan_count": 0,
          "min": "1.29",
          "max": "12.25",
          "histogram": [
           {
            "bin_start": 1.29,
            "bin_end": 2.386,
            "count": 1
           },
           {
            "bin_start": 2.386,
            "bin_end": 3.482,
            "count": 0
           },
           {
            "bin_start": 3.482,
            "bin_end": 4.578,
            "count": 0
           },
           {
            "bin_start": 4.578,
            "bin_end": 5.674,
            "count": 2
           },
           {
            "bin_start": 5.674,
            "bin_end": 6.7700000000000005,
            "count": 0
           },
           {
            "bin_start": 6.7700000000000005,
            "bin_end": 7.8660000000000005,
            "count": 1
           },
           {
            "bin_start": 7.8660000000000005,
            "bin_end": 8.962,
            "count": 0
           },
           {
            "bin_start": 8.962,
            "bin_end": 10.058,
            "count": 0
           },
           {
            "bin_start": 10.058,
            "bin_end": 11.154,
            "count": 0
           },
           {
            "bin_start": 11.154,
            "bin_end": 12.25,
            "count": 1
           }
          ]
         }
        },
        {
         "name": "has_favorite",
         "dtype": "int64",
         "stats": {
          "unique_count": 1,
          "nan_count": 0,
          "min": "1",
          "max": "1",
          "histogram": [
           {
            "bin_start": 0.5,
            "bin_end": 0.6,
            "count": 0
           },
           {
            "bin_start": 0.6,
            "bin_end": 0.7,
            "count": 0
           },
           {
            "bin_start": 0.7,
            "bin_end": 0.8,
            "count": 0
           },
           {
            "bin_start": 0.8,
            "bin_end": 0.9,
            "count": 0
           },
           {
            "bin_start": 0.9,
            "bin_end": 1,
            "count": 0
           },
           {
            "bin_start": 1,
            "bin_end": 1.1,
            "count": 5
           },
           {
            "bin_start": 1.1,
            "bin_end": 1.2000000000000002,
            "count": 0
           },
           {
            "bin_start": 1.2000000000000002,
            "bin_end": 1.3,
            "count": 0
           },
           {
            "bin_start": 1.3,
            "bin_end": 1.4,
            "count": 0
           },
           {
            "bin_start": 1.4,
            "bin_end": 1.5,
            "count": 0
           }
          ]
         }
        },
        {
         "name": "Time_kick_off_bin",
         "dtype": "object",
         "stats": {
          "unique_count": 1,
          "nan_count": 0,
          "categories": [
           {
            "name": "Afternoon",
            "count": 5
           }
          ]
         }
        },
        {
         "name": "HomeTeam_Rotherham",
         "dtype": "bool",
         "stats": {
          "unique_count": 1,
          "nan_count": 0,
          "categories": [
           {
            "name": "False",
            "count": 5
           }
          ]
         }
        },
        {
         "name": "HomeTeam_OFI Crete",
         "dtype": "bool",
         "stats": {
          "unique_count": 1,
          "nan_count": 0,
          "categories": [
           {
            "name": "False",
            "count": 5
           }
          ]
         }
        },
        {
         "name": "HomeTeam_Barcelona B",
         "dtype": "bool",
         "stats": {
          "unique_count": 1,
          "nan_count": 0,
          "categories": [
           {
            "name": "False",
            "count": 5
           }
          ]
         }
        },
        {
         "name": "HomeTeam_Queen of Sth",
         "dtype": "bool",
         "stats": {
          "unique_count": 1,
          "nan_count": 0,
          "categories": [
           {
            "name": "False",
            "count": 5
           }
          ]
         }
        },
        {
         "name": "HomeTeam_Charleroi",
         "dtype": "bool",
         "stats": {
          "unique_count": 1,
          "nan_count": 0,
          "categories": [
           {
            "name": "False",
            "count": 5
           }
          ]
         }
        },
        {
         "name": "HomeTeam_Mallorca",
         "dtype": "bool",
         "stats": {
          "unique_count": 1,
          "nan_count": 0,
          "categories": [
           {
            "name": "False",
            "count": 5
           }
          ]
         }
        },
        {
         "name": "HomeTeam_Amiens",
         "dtype": "bool",
         "stats": {
          "unique_count": 1,
          "nan_count": 0,
          "categories": [
           {
            "name": "False",
            "count": 5
           }
          ]
         }
        },
        {
         "name": "HomeTeam_PAOK",
         "dtype": "bool",
         "stats": {
          "unique_count": 1,
          "nan_count": 0,
          "categories": [
           {
            "name": "False",
            "count": 5
           }
          ]
         }
        },
        {
         "name": "HomeTeam_Morecambe",
         "dtype": "bool",
         "stats": {
          "unique_count": 1,
          "nan_count": 0,
          "categories": [
           {
            "name": "False",
            "count": 5
           }
          ]
         }
        },
        {
         "name": "HomeTeam_Arsenal",
         "dtype": "bool",
         "stats": {
          "unique_count": 2,
          "nan_count": 0,
          "categories": [
           {
            "name": "False",
            "count": 4
           },
           {
            "name": "True",
            "count": 1
           }
          ]
         }
        },
        {
         "name": "HomeTeam_Rodez",
         "dtype": "bool",
         "stats": {
          "unique_count": 1,
          "nan_count": 0,
          "categories": [
           {
            "name": "False",
            "count": 5
           }
          ]
         }
        },
        {
         "name": "HomeTeam_Sociedad B",
         "dtype": "bool",
         "stats": {
          "unique_count": 1,
          "nan_count": 0,
          "categories": [
           {
            "name": "False",
            "count": 5
           }
          ]
         }
        },
        {
         "name": "HomeTeam_Fuenlabrada",
         "dtype": "bool",
         "stats": {
          "unique_count": 1,
          "nan_count": 0,
          "categories": [
           {
            "name": "False",
            "count": 5
           }
          ]
         }
        },
        {
         "name": "HomeTeam_Forfar",
         "dtype": "bool",
         "stats": {
          "unique_count": 1,
          "nan_count": 0,
          "categories": [
           {
            "name": "False",
            "count": 5
           }
          ]
         }
        },
        {
         "name": "HomeTeam_Burnley",
         "dtype": "bool",
         "stats": {
          "unique_count": 1,
          "nan_count": 0,
          "categories": [
           {
            "name": "False",
            "count": 5
           }
          ]
         }
        },
        {
         "name": "HomeTeam_Livingston",
         "dtype": "bool",
         "stats": {
          "unique_count": 1,
          "nan_count": 0,
          "categories": [
           {
            "name": "False",
            "count": 5
           }
          ]
         }
        },
        {
         "name": "HomeTeam_Colchester",
         "dtype": "bool",
         "stats": {
          "unique_count": 1,
          "nan_count": 0,
          "categories": [
           {
            "name": "False",
            "count": 5
           }
          ]
         }
        },
        {
         "name": "HomeTeam_Cittadella",
         "dtype": "bool",
         "stats": {
          "unique_count": 1,
          "nan_count": 0,
          "categories": [
           {
            "name": "False",
            "count": 5
           }
          ]
         }
        },
        {
         "name": "HomeTeam_Sociedad",
         "dtype": "bool",
         "stats": {
          "unique_count": 1,
          "nan_count": 0,
          "categories": [
           {
            "name": "False",
            "count": 5
           }
          ]
         }
        },
        {
         "name": "HomeTeam_Hibernian",
         "dtype": "bool",
         "stats": {
          "unique_count": 1,
          "nan_count": 0,
          "categories": [
           {
            "name": "False",
            "count": 5
           }
          ]
         }
        },
        {
         "name": "HomeTeam_Sunderland",
         "dtype": "bool",
         "stats": {
          "unique_count": 1,
          "nan_count": 0,
          "categories": [
           {
            "name": "False",
            "count": 5
           }
          ]
         }
        },
        {
         "name": "HomeTeam_Trapani",
         "dtype": "bool",
         "stats": {
          "unique_count": 1,
          "nan_count": 0,
          "categories": [
           {
            "name": "False",
            "count": 5
           }
          ]
         }
        },
        {
         "name": "HomeTeam_Regensburg",
         "dtype": "bool",
         "stats": {
          "unique_count": 1,
          "nan_count": 0,
          "categories": [
           {
            "name": "False",
            "count": 5
           }
          ]
         }
        },
        {
         "name": "HomeTeam_Reading",
         "dtype": "bool",
         "stats": {
          "unique_count": 1,
          "nan_count": 0,
          "categories": [
           {
            "name": "False",
            "count": 5
           }
          ]
         }
        },
        {
         "name": "HomeTeam_Zaragoza",
         "dtype": "bool",
         "stats": {
          "unique_count": 1,
          "nan_count": 0,
          "categories": [
           {
            "name": "False",
            "count": 5
           }
          ]
         }
        },
        {
         "name": "HomeTeam_Alanyaspor",
         "dtype": "bool",
         "stats": {
          "unique_count": 1,
          "nan_count": 0,
          "categories": [
           {
            "name": "False",
            "count": 5
           }
          ]
         }
        },
        {
         "name": "HomeTeam_Cardiff",
         "dtype": "bool",
         "stats": {
          "unique_count": 1,
          "nan_count": 0,
          "categories": [
           {
            "name": "False",
            "count": 5
           }
          ]
         }
        },
        {
         "name": "HomeTeam_Erzgebirge Aue",
         "dtype": "bool",
         "stats": {
          "unique_count": 1,
          "nan_count": 0,
          "categories": [
           {
            "name": "False",
            "count": 5
           }
          ]
         }
        },
        {
         "name": "HomeTeam_Ankaragucu",
         "dtype": "bool",
         "stats": {
          "unique_count": 1,
          "nan_count": 0,
          "categories": [
           {
            "name": "False",
            "count": 5
           }
          ]
         }
        },
        {
         "name": "HomeTeam_Mainz",
         "dtype": "bool",
         "stats": {
          "unique_count": 1,
          "nan_count": 0,
          "categories": [
           {
            "name": "False",
            "count": 5
           }
          ]
         }
        },
        {
         "name": "HomeTeam_Bayern Munich",
         "dtype": "bool",
         "stats": {
          "unique_count": 1,
          "nan_count": 0,
          "categories": [
           {
            "name": "False",
            "count": 5
           }
          ]
         }
        },
        {
         "name": "HomeTeam_Utrecht",
         "dtype": "bool",
         "stats": {
          "unique_count": 1,
          "nan_count": 0,
          "categories": [
           {
            "name": "False",
            "count": 5
           }
          ]
         }
        },
        {
         "name": "HomeTeam_Estoril",
         "dtype": "bool",
         "stats": {
          "unique_count": 1,
          "nan_count": 0,
          "categories": [
           {
            "name": "False",
            "count": 5
           }
          ]
         }
        },
        {
         "name": "HomeTeam_Paris SG",
         "dtype": "bool",
         "stats": {
          "unique_count": 1,
          "nan_count": 0,
          "categories": [
           {
            "name": "False",
            "count": 5
           }
          ]
         }
        },
        {
         "name": "HomeTeam_St Pauli",
         "dtype": "bool",
         "stats": {
          "unique_count": 1,
          "nan_count": 0,
          "categories": [
           {
            "name": "False",
            "count": 5
           }
          ]
         }
        },
        {
         "name": "HomeTeam_Heracles",
         "dtype": "bool",
         "stats": {
          "unique_count": 1,
          "nan_count": 0,
          "categories": [
           {
            "name": "False",
            "count": 5
           }
          ]
         }
        },
        {
         "name": "HomeTeam_Valencia",
         "dtype": "bool",
         "stats": {
          "unique_count": 1,
          "nan_count": 0,
          "categories": [
           {
            "name": "False",
            "count": 5
           }
          ]
         }
        },
        {
         "name": "HomeTeam_Ibiza",
         "dtype": "bool",
         "stats": {
          "unique_count": 1,
          "nan_count": 0,
          "categories": [
           {
            "name": "False",
            "count": 5
           }
          ]
         }
        },
        {
         "name": "HomeTeam_Hearts",
         "dtype": "bool",
         "stats": {
          "unique_count": 1,
          "nan_count": 0,
          "categories": [
           {
            "name": "False",
            "count": 5
           }
          ]
         }
        },
        {
         "name": "HomeTeam_Grenoble",
         "dtype": "bool",
         "stats": {
          "unique_count": 1,
          "nan_count": 0,
          "categories": [
           {
            "name": "False",
            "count": 5
           }
          ]
         }
        },
        {
         "name": "HomeTeam_Sevilla B",
         "dtype": "bool",
         "stats": {
          "unique_count": 1,
          "nan_count": 0,
          "categories": [
           {
            "name": "False",
            "count": 5
           }
          ]
         }
        },
        {
         "name": "HomeTeam_Denizlispor",
         "dtype": "bool",
         "stats": {
          "unique_count": 1,
          "nan_count": 0,
          "categories": [
           {
            "name": "False",
            "count": 5
           }
          ]
         }
        },
        {
         "name": "HomeTeam_Morton",
         "dtype": "bool",
         "stats": {
          "unique_count": 1,
          "nan_count": 0,
          "categories": [
           {
            "name": "False",
            "count": 5
           }
          ]
         }
        },
        {
         "name": "HomeTeam_Leganes",
         "dtype": "bool",
         "stats": {
          "unique_count": 1,
          "nan_count": 0,
          "categories": [
           {
            "name": "False",
            "count": 5
           }
          ]
         }
        },
        {
         "name": "HomeTeam_Middlesbrough",
         "dtype": "bool",
         "stats": {
          "unique_count": 1,
          "nan_count": 0,
          "categories": [
           {
            "name": "False",
            "count": 5
           }
          ]
         }
        },
        {
         "name": "HomeTeam_Sp Lisbon",
         "dtype": "bool",
         "stats": {
          "unique_count": 1,
          "nan_count": 0,
          "categories": [
           {
            "name": "False",
            "count": 5
           }
          ]
         }
        },
        {
         "name": "HomeTeam_Ionikos",
         "dtype": "bool",
         "stats": {
          "unique_count": 1,
          "nan_count": 0,
          "categories": [
           {
            "name": "False",
            "count": 5
           }
          ]
         }
        },
        {
         "name": "HomeTeam_Kelty Hearts",
         "dtype": "bool",
         "stats": {
          "unique_count": 1,
          "nan_count": 0,
          "categories": [
           {
            "name": "False",
            "count": 5
           }
          ]
         }
        },
        {
         "name": "HomeTeam_Sheffield Weds",
         "dtype": "bool",
         "stats": {
          "unique_count": 1,
          "nan_count": 0,
          "categories": [
           {
            "name": "False",
            "count": 5
           }
          ]
         }
        },
        {
         "name": "HomeTeam_Alaves",
         "dtype": "bool",
         "stats": {
          "unique_count": 1,
          "nan_count": 0,
          "categories": [
           {
            "name": "False",
            "count": 5
           }
          ]
         }
        },
        {
         "name": "HomeTeam_Cremonese",
         "dtype": "bool",
         "stats": {
          "unique_count": 1,
          "nan_count": 0,
          "categories": [
           {
            "name": "False",
            "count": 5
           }
          ]
         }
        },
        {
         "name": "HomeTeam_Liverpool",
         "dtype": "bool",
         "stats": {
          "unique_count": 1,
          "nan_count": 0,
          "categories": [
           {
            "name": "False",
            "count": 5
           }
          ]
         }
        },
        {
         "name": "HomeTeam_Granada",
         "dtype": "bool",
         "stats": {
          "unique_count": 1,
          "nan_count": 0,
          "categories": [
           {
            "name": "False",
            "count": 5
           }
          ]
         }
        },
        {
         "name": "HomeTeam_Aves",
         "dtype": "bool",
         "stats": {
          "unique_count": 1,
          "nan_count": 0,
          "categories": [
           {
            "name": "False",
            "count": 5
           }
          ]
         }
        },
        {
         "name": "HomeTeam_Oviedo",
         "dtype": "bool",
         "stats": {
          "unique_count": 1,
          "nan_count": 0,
          "categories": [
           {
            "name": "False",
            "count": 5
           }
          ]
         }
        },
        {
         "name": "HomeTeam_Bielefeld",
         "dtype": "bool",
         "stats": {
          "unique_count": 1,
          "nan_count": 0,
          "categories": [
           {
            "name": "False",
            "count": 5
           }
          ]
         }
        },
        {
         "name": "HomeTeam_Milan",
         "dtype": "bool",
         "stats": {
          "unique_count": 1,
          "nan_count": 0,
          "categories": [
           {
            "name": "False",
            "count": 5
           }
          ]
         }
        },
        {
         "name": "HomeTeam_Bradford",
         "dtype": "bool",
         "stats": {
          "unique_count": 1,
          "nan_count": 0,
          "categories": [
           {
            "name": "False",
            "count": 5
           }
          ]
         }
        },
        {
         "name": "HomeTeam_Zwolle",
         "dtype": "bool",
         "stats": {
          "unique_count": 1,
          "nan_count": 0,
          "categories": [
           {
            "name": "False",
            "count": 5
           }
          ]
         }
        },
        {
         "name": "HomeTeam_Falkirk",
         "dtype": "bool",
         "stats": {
          "unique_count": 1,
          "nan_count": 0,
          "categories": [
           {
            "name": "False",
            "count": 5
           }
          ]
         }
        },
        {
         "name": "HomeTeam_Airdrie Utd",
         "dtype": "bool",
         "stats": {
          "unique_count": 1,
          "nan_count": 0,
          "categories": [
           {
            "name": "False",
            "count": 5
           }
          ]
         }
        },
        {
         "name": "HomeTeam_Aberdeen",
         "dtype": "bool",
         "stats": {
          "unique_count": 1,
          "nan_count": 0,
          "categories": [
           {
            "name": "False",
            "count": 5
           }
          ]
         }
        },
        {
         "name": "HomeTeam_Sabadell",
         "dtype": "bool",
         "stats": {
          "unique_count": 1,
          "nan_count": 0,
          "categories": [
           {
            "name": "False",
            "count": 5
           }
          ]
         }
        },
        {
         "name": "HomeTeam_Sochaux",
         "dtype": "bool",
         "stats": {
          "unique_count": 1,
          "nan_count": 0,
          "categories": [
           {
            "name": "False",
            "count": 5
           }
          ]
         }
        },
        {
         "name": "HomeTeam_Den Haag",
         "dtype": "bool",
         "stats": {
          "unique_count": 1,
          "nan_count": 0,
          "categories": [
           {
            "name": "False",
            "count": 5
           }
          ]
         }
        },
        {
         "name": "HomeTeam_West Brom",
         "dtype": "bool",
         "stats": {
          "unique_count": 1,
          "nan_count": 0,
          "categories": [
           {
            "name": "False",
            "count": 5
           }
          ]
         }
        },
        {
         "name": "HomeTeam_Tranmere",
         "dtype": "bool",
         "stats": {
          "unique_count": 1,
          "nan_count": 0,
          "categories": [
           {
            "name": "False",
            "count": 5
           }
          ]
         }
        },
        {
         "name": "HomeTeam_Dunkerque",
         "dtype": "bool",
         "stats": {
          "unique_count": 1,
          "nan_count": 0,
          "categories": [
           {
            "name": "False",
            "count": 5
           }
          ]
         }
        },
        {
         "name": "HomeTeam_Sampdoria",
         "dtype": "bool",
         "stats": {
          "unique_count": 1,
          "nan_count": 0,
          "categories": [
           {
            "name": "False",
            "count": 5
           }
          ]
         }
        },
        {
         "name": "HomeTeam_PSV Eindhoven",
         "dtype": "bool",
         "stats": {
          "unique_count": 1,
          "nan_count": 0,
          "categories": [
           {
            "name": "False",
            "count": 5
           }
          ]
         }
        },
        {
         "name": "HomeTeam_Oldham",
         "dtype": "bool",
         "stats": {
          "unique_count": 1,
          "nan_count": 0,
          "categories": [
           {
            "name": "False",
            "count": 5
           }
          ]
         }
        },
        {
         "name": "HomeTeam_Heidenheim",
         "dtype": "bool",
         "stats": {
          "unique_count": 1,
          "nan_count": 0,
          "categories": [
           {
            "name": "False",
            "count": 5
           }
          ]
         }
        },
        {
         "name": "HomeTeam_Brighton",
         "dtype": "bool",
         "stats": {
          "unique_count": 2,
          "nan_count": 0,
          "categories": [
           {
            "name": "False",
            "count": 4
           },
           {
            "name": "True",
            "count": 1
           }
          ]
         }
        },
        {
         "name": "HomeTeam_AFC Wimbledon",
         "dtype": "bool",
         "stats": {
          "unique_count": 1,
          "nan_count": 0,
          "categories": [
           {
            "name": "False",
            "count": 5
           }
          ]
         }
        },
        {
         "name": "HomeTeam_Malaga",
         "dtype": "bool",
         "stats": {
          "unique_count": 1,
          "nan_count": 0,
          "categories": [
           {
            "name": "False",
            "count": 5
           }
          ]
         }
        },
        {
         "name": "HomeTeam_Almeria",
         "dtype": "bool",
         "stats": {
          "unique_count": 1,
          "nan_count": 0,
          "categories": [
           {
            "name": "False",
            "count": 5
           }
          ]
         }
        },
        {
         "name": "HomeTeam_Nantes",
         "dtype": "bool",
         "stats": {
          "unique_count": 1,
          "nan_count": 0,
          "categories": [
           {
            "name": "False",
            "count": 5
           }
          ]
         }
        },
        {
         "name": "HomeTeam_Wehen",
         "dtype": "bool",
         "stats": {
          "unique_count": 1,
          "nan_count": 0,
          "categories": [
           {
            "name": "False",
            "count": 5
           }
          ]
         }
        },
        {
         "name": "HomeTeam_Vitesse",
         "dtype": "bool",
         "stats": {
          "unique_count": 1,
          "nan_count": 0,
          "categories": [
           {
            "name": "False",
            "count": 5
           }
          ]
         }
        },
        {
         "name": "HomeTeam_Levante",
         "dtype": "bool",
         "stats": {
          "unique_count": 1,
          "nan_count": 0,
          "categories": [
           {
            "name": "False",
            "count": 5
           }
          ]
         }
        },
        {
         "name": "HomeTeam_Novara",
         "dtype": "bool",
         "stats": {
          "unique_count": 1,
          "nan_count": 0,
          "categories": [
           {
            "name": "False",
            "count": 5
           }
          ]
         }
        },
        {
         "name": "HomeTeam_Guimaraes",
         "dtype": "bool",
         "stats": {
          "unique_count": 1,
          "nan_count": 0,
          "categories": [
           {
            "name": "False",
            "count": 5
           }
          ]
         }
        },
        {
         "name": "HomeTeam_Norwich",
         "dtype": "bool",
         "stats": {
          "unique_count": 1,
          "nan_count": 0,
          "categories": [
           {
            "name": "False",
            "count": 5
           }
          ]
         }
        },
        {
         "name": "HomeTeam_Pacos Ferreira",
         "dtype": "bool",
         "stats": {
          "unique_count": 1,
          "nan_count": 0,
          "categories": [
           {
            "name": "False",
            "count": 5
           }
          ]
         }
        },
        {
         "name": "HomeTeam_Chesterfield",
         "dtype": "bool",
         "stats": {
          "unique_count": 1,
          "nan_count": 0,
          "categories": [
           {
            "name": "False",
            "count": 5
           }
          ]
         }
        },
        {
         "name": "HomeTeam_Inverness C",
         "dtype": "bool",
         "stats": {
          "unique_count": 1,
          "nan_count": 0,
          "categories": [
           {
            "name": "False",
            "count": 5
           }
          ]
         }
        },
        {
         "name": "HomeTeam_Giannina",
         "dtype": "bool",
         "stats": {
          "unique_count": 1,
          "nan_count": 0,
          "categories": [
           {
            "name": "False",
            "count": 5
           }
          ]
         }
        },
        {
         "name": "HomeTeam_Espanol",
         "dtype": "bool",
         "stats": {
          "unique_count": 1,
          "nan_count": 0,
          "categories": [
           {
            "name": "False",
            "count": 5
           }
          ]
         }
        },
        {
         "name": "HomeTeam_Braunschweig",
         "dtype": "bool",
         "stats": {
          "unique_count": 1,
          "nan_count": 0,
          "categories": [
           {
            "name": "False",
            "count": 5
           }
          ]
         }
        },
        {
         "name": "HomeTeam_Oostende",
         "dtype": "bool",
         "stats": {
          "unique_count": 1,
          "nan_count": 0,
          "categories": [
           {
            "name": "False",
            "count": 5
           }
          ]
         }
        },
        {
         "name": "HomeTeam_Gil Vicente",
         "dtype": "bool",
         "stats": {
          "unique_count": 1,
          "nan_count": 0,
          "categories": [
           {
            "name": "False",
            "count": 5
           }
          ]
         }
        },
        {
         "name": "HomeTeam_Maritimo",
         "dtype": "bool",
         "stats": {
          "unique_count": 1,
          "nan_count": 0,
          "categories": [
           {
            "name": "False",
            "count": 5
           }
          ]
         }
        },
        {
         "name": "HomeTeam_Niort",
         "dtype": "bool",
         "stats": {
          "unique_count": 1,
          "nan_count": 0,
          "categories": [
           {
            "name": "False",
            "count": 5
           }
          ]
         }
        },
        {
         "name": "HomeTeam_Ingolstadt",
         "dtype": "bool",
         "stats": {
          "unique_count": 1,
          "nan_count": 0,
          "categories": [
           {
            "name": "False",
            "count": 5
           }
          ]
         }
        },
        {
         "name": "HomeTeam_Montrose",
         "dtype": "bool",
         "stats": {
          "unique_count": 1,
          "nan_count": 0,
          "categories": [
           {
            "name": "False",
            "count": 5
           }
          ]
         }
        },
        {
         "name": "HomeTeam_Barnet",
         "dtype": "bool",
         "stats": {
          "unique_count": 1,
          "nan_count": 0,
          "categories": [
           {
            "name": "False",
            "count": 5
           }
          ]
         }
        },
        {
         "name": "HomeTeam_Osnabruck",
         "dtype": "bool",
         "stats": {
          "unique_count": 1,
          "nan_count": 0,
          "categories": [
           {
            "name": "False",
            "count": 5
           }
          ]
         }
        },
        {
         "name": "HomeTeam_Troyes",
         "dtype": "bool",
         "stats": {
          "unique_count": 1,
          "nan_count": 0,
          "categories": [
           {
            "name": "False",
            "count": 5
           }
          ]
         }
        },
        {
         "name": "HomeTeam_Dijon",
         "dtype": "bool",
         "stats": {
          "unique_count": 1,
          "nan_count": 0,
          "categories": [
           {
            "name": "False",
            "count": 5
           }
          ]
         }
        },
        {
         "name": "HomeTeam_Ajaccio GFCO",
         "dtype": "bool",
         "stats": {
          "unique_count": 1,
          "nan_count": 0,
          "categories": [
           {
            "name": "False",
            "count": 5
           }
          ]
         }
        },
        {
         "name": "HomeTeam_Dundee",
         "dtype": "bool",
         "stats": {
          "unique_count": 1,
          "nan_count": 0,
          "categories": [
           {
            "name": "False",
            "count": 5
           }
          ]
         }
        },
        {
         "name": "HomeTeam_Larisa",
         "dtype": "bool",
         "stats": {
          "unique_count": 1,
          "nan_count": 0,
          "categories": [
           {
            "name": "False",
            "count": 5
           }
          ]
         }
        },
        {
         "name": "HomeTeam_Southend",
         "dtype": "bool",
         "stats": {
          "unique_count": 1,
          "nan_count": 0,
          "categories": [
           {
            "name": "False",
            "count": 5
           }
          ]
         }
        },
        {
         "name": "HomeTeam_Verona",
         "dtype": "bool",
         "stats": {
          "unique_count": 1,
          "nan_count": 0,
          "categories": [
           {
            "name": "False",
            "count": 5
           }
          ]
         }
        },
        {
         "name": "HomeTeam_Goztep",
         "dtype": "bool",
         "stats": {
          "unique_count": 1,
          "nan_count": 0,
          "categories": [
           {
            "name": "False",
            "count": 5
           }
          ]
         }
        },
        {
         "name": "HomeTeam_Genoa",
         "dtype": "bool",
         "stats": {
          "unique_count": 1,
          "nan_count": 0,
          "categories": [
           {
            "name": "False",
            "count": 5
           }
          ]
         }
        },
        {
         "name": "HomeTeam_Cambridge",
         "dtype": "bool",
         "stats": {
          "unique_count": 1,
          "nan_count": 0,
          "categories": [
           {
            "name": "False",
            "count": 5
           }
          ]
         }
        },
        {
         "name": "HomeTeam_Graafschap",
         "dtype": "bool",
         "stats": {
          "unique_count": 1,
          "nan_count": 0,
          "categories": [
           {
            "name": "False",
            "count": 5
           }
          ]
         }
        },
        {
         "name": "HomeTeam_Angers",
         "dtype": "bool",
         "stats": {
          "unique_count": 1,
          "nan_count": 0,
          "categories": [
           {
            "name": "False",
            "count": 5
           }
          ]
         }
        },
        {
         "name": "HomeTeam_Ath Bilbao",
         "dtype": "bool",
         "stats": {
          "unique_count": 1,
          "nan_count": 0,
          "categories": [
           {
            "name": "False",
            "count": 5
           }
          ]
         }
        },
        {
         "name": "HomeTeam_Charlton",
         "dtype": "bool",
         "stats": {
          "unique_count": 1,
          "nan_count": 0,
          "categories": [
           {
            "name": "False",
            "count": 5
           }
          ]
         }
        },
        {
         "name": "HomeTeam_East Fife",
         "dtype": "bool",
         "stats": {
          "unique_count": 1,
          "nan_count": 0,
          "categories": [
           {
            "name": "False",
            "count": 5
           }
          ]
         }
        },
        {
         "name": "HomeTeam_Club Brugge",
         "dtype": "bool",
         "stats": {
          "unique_count": 1,
          "nan_count": 0,
          "categories": [
           {
            "name": "False",
            "count": 5
           }
          ]
         }
        },
        {
         "name": "HomeTeam_NAC Breda",
         "dtype": "bool",
         "stats": {
          "unique_count": 1,
          "nan_count": 0,
          "categories": [
           {
            "name": "False",
            "count": 5
           }
          ]
         }
        },
        {
         "name": "HomeTeam_Las Palmas",
         "dtype": "bool",
         "stats": {
          "unique_count": 1,
          "nan_count": 0,
          "categories": [
           {
            "name": "False",
            "count": 5
           }
          ]
         }
        },
        {
         "name": "HomeTeam_Lazio",
         "dtype": "bool",
         "stats": {
          "unique_count": 1,
          "nan_count": 0,
          "categories": [
           {
            "name": "False",
            "count": 5
           }
          ]
         }
        },
        {
         "name": "HomeTeam_Seraing",
         "dtype": "bool",
         "stats": {
          "unique_count": 1,
          "nan_count": 0,
          "categories": [
           {
            "name": "False",
            "count": 5
           }
          ]
         }
        },
        {
         "name": "HomeTeam_Reus Deportiu",
         "dtype": "bool",
         "stats": {
          "unique_count": 1,
          "nan_count": 0,
          "categories": [
           {
            "name": "False",
            "count": 5
           }
          ]
         }
        },
        {
         "name": "HomeTeam_Ajax",
         "dtype": "bool",
         "stats": {
          "unique_count": 1,
          "nan_count": 0,
          "categories": [
           {
            "name": "False",
            "count": 5
           }
          ]
         }
        },
        {
         "name": "HomeTeam_Lincoln",
         "dtype": "bool",
         "stats": {
          "unique_count": 1,
          "nan_count": 0,
          "categories": [
           {
            "name": "False",
            "count": 5
           }
          ]
         }
        },
        {
         "name": "HomeTeam_Nancy",
         "dtype": "bool",
         "stats": {
          "unique_count": 1,
          "nan_count": 0,
          "categories": [
           {
            "name": "False",
            "count": 5
           }
          ]
         }
        },
        {
         "name": "HomeTeam_Frosinone",
         "dtype": "bool",
         "stats": {
          "unique_count": 1,
          "nan_count": 0,
          "categories": [
           {
            "name": "False",
            "count": 5
           }
          ]
         }
        },
        {
         "name": "HomeTeam_Hull",
         "dtype": "bool",
         "stats": {
          "unique_count": 1,
          "nan_count": 0,
          "categories": [
           {
            "name": "False",
            "count": 5
           }
          ]
         }
        },
        {
         "name": "HomeTeam_Chaves",
         "dtype": "bool",
         "stats": {
          "unique_count": 1,
          "nan_count": 0,
          "categories": [
           {
            "name": "False",
            "count": 5
           }
          ]
         }
        },
        {
         "name": "HomeTeam_Rio Ave",
         "dtype": "bool",
         "stats": {
          "unique_count": 1,
          "nan_count": 0,
          "categories": [
           {
            "name": "False",
            "count": 5
           }
          ]
         }
        },
        {
         "name": "HomeTeam_Cesena",
         "dtype": "bool",
         "stats": {
          "unique_count": 1,
          "nan_count": 0,
          "categories": [
           {
            "name": "False",
            "count": 5
           }
          ]
         }
        },
        {
         "name": "HomeTeam_Amorebieta",
         "dtype": "bool",
         "stats": {
          "unique_count": 1,
          "nan_count": 0,
          "categories": [
           {
            "name": "False",
            "count": 5
           }
          ]
         }
        },
        {
         "name": "HomeTeam_Rizespor",
         "dtype": "bool",
         "stats": {
          "unique_count": 1,
          "nan_count": 0,
          "categories": [
           {
            "name": "False",
            "count": 5
           }
          ]
         }
        },
        {
         "name": "HomeTeam_Milton Keynes Dons",
         "dtype": "bool",
         "stats": {
          "unique_count": 1,
          "nan_count": 0,
          "categories": [
           {
            "name": "False",
            "count": 5
           }
          ]
         }
        },
        {
         "name": "HomeTeam_Volos NFC",
         "dtype": "bool",
         "stats": {
          "unique_count": 1,
          "nan_count": 0,
          "categories": [
           {
            "name": "False",
            "count": 5
           }
          ]
         }
        },
        {
         "name": "HomeTeam_Nacional",
         "dtype": "bool",
         "stats": {
          "unique_count": 1,
          "nan_count": 0,
          "categories": [
           {
            "name": "False",
            "count": 5
           }
          ]
         }
        },
        {
         "name": "HomeTeam_Kaiserslautern",
         "dtype": "bool",
         "stats": {
          "unique_count": 1,
          "nan_count": 0,
          "categories": [
           {
            "name": "False",
            "count": 5
           }
          ]
         }
        },
        {
         "name": "HomeTeam_Castellon",
         "dtype": "bool",
         "stats": {
          "unique_count": 1,
          "nan_count": 0,
          "categories": [
           {
            "name": "False",
            "count": 5
           }
          ]
         }
        },
        {
         "name": "HomeTeam_Berwick",
         "dtype": "bool",
         "stats": {
          "unique_count": 1,
          "nan_count": 0,
          "categories": [
           {
            "name": "False",
            "count": 5
           }
          ]
         }
        },
        {
         "name": "HomeTeam_Osmanlispor",
         "dtype": "bool",
         "stats": {
          "unique_count": 1,
          "nan_count": 0,
          "categories": [
           {
            "name": "False",
            "count": 5
           }
          ]
         }
        },
        {
         "name": "HomeTeam_Bologna",
         "dtype": "bool",
         "stats": {
          "unique_count": 1,
          "nan_count": 0,
          "categories": [
           {
            "name": "False",
            "count": 5
           }
          ]
         }
        },
        {
         "name": "HomeTeam_Barnsley",
         "dtype": "bool",
         "stats": {
          "unique_count": 1,
          "nan_count": 0,
          "categories": [
           {
            "name": "False",
            "count": 5
           }
          ]
         }
        },
        {
         "name": "HomeTeam_Brentford",
         "dtype": "bool",
         "stats": {
          "unique_count": 1,
          "nan_count": 0,
          "categories": [
           {
            "name": "False",
            "count": 5
           }
          ]
         }
        },
        {
         "name": "HomeTeam_Brescia",
         "dtype": "bool",
         "stats": {
          "unique_count": 1,
          "nan_count": 0,
          "categories": [
           {
            "name": "False",
            "count": 5
           }
          ]
         }
        },
        {
         "name": "HomeTeam_Leeds",
         "dtype": "bool",
         "stats": {
          "unique_count": 1,
          "nan_count": 0,
          "categories": [
           {
            "name": "False",
            "count": 5
           }
          ]
         }
        },
        {
         "name": "HomeTeam_Lorca",
         "dtype": "bool",
         "stats": {
          "unique_count": 1,
          "nan_count": 0,
          "categories": [
           {
            "name": "False",
            "count": 5
           }
          ]
         }
        },
        {
         "name": "HomeTeam_Exeter",
         "dtype": "bool",
         "stats": {
          "unique_count": 1,
          "nan_count": 0,
          "categories": [
           {
            "name": "False",
            "count": 5
           }
          ]
         }
        },
        {
         "name": "HomeTeam_Heerenveen",
         "dtype": "bool",
         "stats": {
          "unique_count": 1,
          "nan_count": 0,
          "categories": [
           {
            "name": "False",
            "count": 5
           }
          ]
         }
        },
        {
         "name": "HomeTeam_Pro Vercelli",
         "dtype": "bool",
         "stats": {
          "unique_count": 1,
          "nan_count": 0,
          "categories": [
           {
            "name": "False",
            "count": 5
           }
          ]
         }
        },
        {
         "name": "HomeTeam_Carpi",
         "dtype": "bool",
         "stats": {
          "unique_count": 1,
          "nan_count": 0,
          "categories": [
           {
            "name": "False",
            "count": 5
           }
          ]
         }
        },
        {
         "name": "HomeTeam_Derby",
         "dtype": "bool",
         "stats": {
          "unique_count": 1,
          "nan_count": 0,
          "categories": [
           {
            "name": "False",
            "count": 5
           }
          ]
         }
        },
        {
         "name": "HomeTeam_Burgos",
         "dtype": "bool",
         "stats": {
          "unique_count": 1,
          "nan_count": 0,
          "categories": [
           {
            "name": "False",
            "count": 5
           }
          ]
         }
        },
        {
         "name": "HomeTeam_Forest Green",
         "dtype": "bool",
         "stats": {
          "unique_count": 1,
          "nan_count": 0,
          "categories": [
           {
            "name": "False",
            "count": 5
           }
          ]
         }
        },
        {
         "name": "HomeTeam_QPR",
         "dtype": "bool",
         "stats": {
          "unique_count": 1,
          "nan_count": 0,
          "categories": [
           {
            "name": "False",
            "count": 5
           }
          ]
         }
        },
        {
         "name": "HomeTeam_Santa Clara",
         "dtype": "bool",
         "stats": {
          "unique_count": 1,
          "nan_count": 0,
          "categories": [
           {
            "name": "False",
            "count": 5
           }
          ]
         }
        },
        {
         "name": "HomeTeam_Bursaspor",
         "dtype": "bool",
         "stats": {
          "unique_count": 1,
          "nan_count": 0,
          "categories": [
           {
            "name": "False",
            "count": 5
           }
          ]
         }
        },
        {
         "name": "HomeTeam_Sp Braga",
         "dtype": "bool",
         "stats": {
          "unique_count": 1,
          "nan_count": 0,
          "categories": [
           {
            "name": "False",
            "count": 5
           }
          ]
         }
        },
        {
         "name": "HomeTeam_Blackburn",
         "dtype": "bool",
         "stats": {
          "unique_count": 1,
          "nan_count": 0,
          "categories": [
           {
            "name": "False",
            "count": 5
           }
          ]
         }
        },
        {
         "name": "HomeTeam_Nijmegen",
         "dtype": "bool",
         "stats": {
          "unique_count": 1,
          "nan_count": 0,
          "categories": [
           {
            "name": "False",
            "count": 5
           }
          ]
         }
        },
        {
         "name": "HomeTeam_Rochdale",
         "dtype": "bool",
         "stats": {
          "unique_count": 1,
          "nan_count": 0,
          "categories": [
           {
            "name": "False",
            "count": 5
           }
          ]
         }
        },
        {
         "name": "HomeTeam_Grimsby",
         "dtype": "bool",
         "stats": {
          "unique_count": 1,
          "nan_count": 0,
          "categories": [
           {
            "name": "False",
            "count": 5
           }
          ]
         }
        },
        {
         "name": "HomeTeam_Newcastle",
         "dtype": "bool",
         "stats": {
          "unique_count": 1,
          "nan_count": 0,
          "categories": [
           {
            "name": "False",
            "count": 5
           }
          ]
         }
        },
        {
         "name": "HomeTeam_Freiburg",
         "dtype": "bool",
         "stats": {
          "unique_count": 1,
          "nan_count": 0,
          "categories": [
           {
            "name": "False",
            "count": 5
           }
          ]
         }
        },
        {
         "name": "HomeTeam_Red Star",
         "dtype": "bool",
         "stats": {
          "unique_count": 1,
          "nan_count": 0,
          "categories": [
           {
            "name": "False",
            "count": 5
           }
          ]
         }
        },
        {
         "name": "HomeTeam_Juventus",
         "dtype": "bool",
         "stats": {
          "unique_count": 1,
          "nan_count": 0,
          "categories": [
           {
            "name": "False",
            "count": 5
           }
          ]
         }
        },
        {
         "name": "HomeTeam_Guingamp",
         "dtype": "bool",
         "stats": {
          "unique_count": 1,
          "nan_count": 0,
          "categories": [
           {
            "name": "False",
            "count": 5
           }
          ]
         }
        },
        {
         "name": "HomeTeam_Salernitana",
         "dtype": "bool",
         "stats": {
          "unique_count": 1,
          "nan_count": 0,
          "categories": [
           {
            "name": "False",
            "count": 5
           }
          ]
         }
        },
        {
         "name": "HomeTeam_St Mirren",
         "dtype": "bool",
         "stats": {
          "unique_count": 1,
          "nan_count": 0,
          "categories": [
           {
            "name": "False",
            "count": 5
           }
          ]
         }
        },
        {
         "name": "HomeTeam_Hertha",
         "dtype": "bool",
         "stats": {
          "unique_count": 1,
          "nan_count": 0,
          "categories": [
           {
            "name": "False",
            "count": 5
           }
          ]
         }
        },
        {
         "name": "HomeTeam_Aston Villa",
         "dtype": "bool",
         "stats": {
          "unique_count": 1,
          "nan_count": 0,
          "categories": [
           {
            "name": "False",
            "count": 5
           }
          ]
         }
        },
        {
         "name": "HomeTeam_Salford",
         "dtype": "bool",
         "stats": {
          "unique_count": 1,
          "nan_count": 0,
          "categories": [
           {
            "name": "False",
            "count": 5
           }
          ]
         }
        },
        {
         "name": "HomeTeam_St Truiden",
         "dtype": "bool",
         "stats": {
          "unique_count": 1,
          "nan_count": 0,
          "categories": [
           {
            "name": "False",
            "count": 5
           }
          ]
         }
        },
        {
         "name": "HomeTeam_Yeni Malatyaspor",
         "dtype": "bool",
         "stats": {
          "unique_count": 1,
          "nan_count": 0,
          "categories": [
           {
            "name": "False",
            "count": 5
           }
          ]
         }
        },
        {
         "name": "HomeTeam_Dresden",
         "dtype": "bool",
         "stats": {
          "unique_count": 1,
          "nan_count": 0,
          "categories": [
           {
            "name": "False",
            "count": 5
           }
          ]
         }
        },
        {
         "name": "HomeTeam_Stenhousemuir",
         "dtype": "bool",
         "stats": {
          "unique_count": 1,
          "nan_count": 0,
          "categories": [
           {
            "name": "False",
            "count": 5
           }
          ]
         }
        },
        {
         "name": "HomeTeam_Spezia",
         "dtype": "bool",
         "stats": {
          "unique_count": 1,
          "nan_count": 0,
          "categories": [
           {
            "name": "False",
            "count": 5
           }
          ]
         }
        },
        {
         "name": "HomeTeam_Ajaccio",
         "dtype": "bool",
         "stats": {
          "unique_count": 1,
          "nan_count": 0,
          "categories": [
           {
            "name": "False",
            "count": 5
           }
          ]
         }
        },
        {
         "name": "HomeTeam_AZ Alkmaar",
         "dtype": "bool",
         "stats": {
          "unique_count": 1,
          "nan_count": 0,
          "categories": [
           {
            "name": "False",
            "count": 5
           }
          ]
         }
        },
        {
         "name": "HomeTeam_Augsburg",
         "dtype": "bool",
         "stats": {
          "unique_count": 1,
          "nan_count": 0,
          "categories": [
           {
            "name": "False",
            "count": 5
           }
          ]
         }
        },
        {
         "name": "HomeTeam_Cove Rangers",
         "dtype": "bool",
         "stats": {
          "unique_count": 1,
          "nan_count": 0,
          "categories": [
           {
            "name": "False",
            "count": 5
           }
          ]
         }
        },
        {
         "name": "HomeTeam_Darmstadt",
         "dtype": "bool",
         "stats": {
          "unique_count": 1,
          "nan_count": 0,
          "categories": [
           {
            "name": "False",
            "count": 5
           }
          ]
         }
        },
        {
         "name": "HomeTeam_Aris",
         "dtype": "bool",
         "stats": {
          "unique_count": 1,
          "nan_count": 0,
          "categories": [
           {
            "name": "False",
            "count": 5
           }
          ]
         }
        },
        {
         "name": "HomeTeam_Cordoba",
         "dtype": "bool",
         "stats": {
          "unique_count": 1,
          "nan_count": 0,
          "categories": [
           {
            "name": "False",
            "count": 5
           }
          ]
         }
        },
        {
         "name": "HomeTeam_Werder Bremen",
         "dtype": "bool",
         "stats": {
          "unique_count": 1,
          "nan_count": 0,
          "categories": [
           {
            "name": "False",
            "count": 5
           }
          ]
         }
        },
        {
         "name": "HomeTeam_Hoffenheim",
         "dtype": "bool",
         "stats": {
          "unique_count": 1,
          "nan_count": 0,
          "categories": [
           {
            "name": "False",
            "count": 5
           }
          ]
         }
        },
        {
         "name": "HomeTeam_Harrogate",
         "dtype": "bool",
         "stats": {
          "unique_count": 1,
          "nan_count": 0,
          "categories": [
           {
            "name": "False",
            "count": 5
           }
          ]
         }
        },
        {
         "name": "HomeTeam_Crewe",
         "dtype": "bool",
         "stats": {
          "unique_count": 1,
          "nan_count": 0,
          "categories": [
           {
            "name": "False",
            "count": 5
           }
          ]
         }
        },
        {
         "name": "HomeTeam_Edinburgh City",
         "dtype": "bool",
         "stats": {
          "unique_count": 1,
          "nan_count": 0,
          "categories": [
           {
            "name": "False",
            "count": 5
           }
          ]
         }
        },
        {
         "name": "HomeTeam_Auxerre",
         "dtype": "bool",
         "stats": {
          "unique_count": 1,
          "nan_count": 0,
          "categories": [
           {
            "name": "False",
            "count": 5
           }
          ]
         }
        },
        {
         "name": "HomeTeam_Crotone",
         "dtype": "bool",
         "stats": {
          "unique_count": 1,
          "nan_count": 0,
          "categories": [
           {
            "name": "False",
            "count": 5
           }
          ]
         }
        },
        {
         "name": "HomeTeam_Genclerbirligi",
         "dtype": "bool",
         "stats": {
          "unique_count": 1,
          "nan_count": 0,
          "categories": [
           {
            "name": "False",
            "count": 5
           }
          ]
         }
        },
        {
         "name": "HomeTeam_Ponferradina",
         "dtype": "bool",
         "stats": {
          "unique_count": 1,
          "nan_count": 0,
          "categories": [
           {
            "name": "False",
            "count": 5
           }
          ]
         }
        },
        {
         "name": "HomeTeam_Akhisar Belediyespor",
         "dtype": "bool",
         "stats": {
          "unique_count": 1,
          "nan_count": 0,
          "categories": [
           {
            "name": "False",
            "count": 5
           }
          ]
         }
        },
        {
         "name": "HomeTeam_Farense",
         "dtype": "bool",
         "stats": {
          "unique_count": 1,
          "nan_count": 0,
          "categories": [
           {
            "name": "False",
            "count": 5
           }
          ]
         }
        },
        {
         "name": "HomeTeam_Galatasaray",
         "dtype": "bool",
         "stats": {
          "unique_count": 1,
          "nan_count": 0,
          "categories": [
           {
            "name": "False",
            "count": 5
           }
          ]
         }
        },
        {
         "name": "HomeTeam_Wurzburger Kickers",
         "dtype": "bool",
         "stats": {
          "unique_count": 1,
          "nan_count": 0,
          "categories": [
           {
            "name": "False",
            "count": 5
           }
          ]
         }
        },
        {
         "name": "HomeTeam_Bari",
         "dtype": "bool",
         "stats": {
          "unique_count": 1,
          "nan_count": 0,
          "categories": [
           {
            "name": "False",
            "count": 5
           }
          ]
         }
        },
        {
         "name": "HomeTeam_Stranraer",
         "dtype": "bool",
         "stats": {
          "unique_count": 1,
          "nan_count": 0,
          "categories": [
           {
            "name": "False",
            "count": 5
           }
          ]
         }
        },
        {
         "name": "HomeTeam_Man United",
         "dtype": "bool",
         "stats": {
          "unique_count": 1,
          "nan_count": 0,
          "categories": [
           {
            "name": "False",
            "count": 5
           }
          ]
         }
        },
        {
         "name": "HomeTeam_Perugia",
         "dtype": "bool",
         "stats": {
          "unique_count": 1,
          "nan_count": 0,
          "categories": [
           {
            "name": "False",
            "count": 5
           }
          ]
         }
        },
        {
         "name": "HomeTeam_Karabukspor",
         "dtype": "bool",
         "stats": {
          "unique_count": 1,
          "nan_count": 0,
          "categories": [
           {
            "name": "False",
            "count": 5
           }
          ]
         }
        },
        {
         "name": "HomeTeam_Caen",
         "dtype": "bool",
         "stats": {
          "unique_count": 1,
          "nan_count": 0,
          "categories": [
           {
            "name": "False",
            "count": 5
           }
          ]
         }
        },
        {
         "name": "HomeTeam_Nott'm Forest",
         "dtype": "bool",
         "stats": {
          "unique_count": 1,
          "nan_count": 0,
          "categories": [
           {
            "name": "False",
            "count": 5
           }
          ]
         }
        },
        {
         "name": "HomeTeam_Bordeaux",
         "dtype": "bool",
         "stats": {
          "unique_count": 1,
          "nan_count": 0,
          "categories": [
           {
            "name": "False",
            "count": 5
           }
          ]
         }
        },
        {
         "name": "HomeTeam_Livorno",
         "dtype": "bool",
         "stats": {
          "unique_count": 1,
          "nan_count": 0,
          "categories": [
           {
            "name": "False",
            "count": 5
           }
          ]
         }
        },
        {
         "name": "HomeTeam_Monza",
         "dtype": "bool",
         "stats": {
          "unique_count": 1,
          "nan_count": 0,
          "categories": [
           {
            "name": "False",
            "count": 5
           }
          ]
         }
        },
        {
         "name": "HomeTeam_Bristol Rvs",
         "dtype": "bool",
         "stats": {
          "unique_count": 1,
          "nan_count": 0,
          "categories": [
           {
            "name": "False",
            "count": 5
           }
          ]
         }
        },
        {
         "name": "HomeTeam_Holstein Kiel",
         "dtype": "bool",
         "stats": {
          "unique_count": 1,
          "nan_count": 0,
          "categories": [
           {
            "name": "False",
            "count": 5
           }
          ]
         }
        },
        {
         "name": "HomeTeam_Fiorentina",
         "dtype": "bool",
         "stats": {
          "unique_count": 1,
          "nan_count": 0,
          "categories": [
           {
            "name": "False",
            "count": 5
           }
          ]
         }
        },
        {
         "name": "HomeTeam_Sivasspor",
         "dtype": "bool",
         "stats": {
          "unique_count": 1,
          "nan_count": 0,
          "categories": [
           {
            "name": "False",
            "count": 5
           }
          ]
         }
        },
        {
         "name": "HomeTeam_Trabzonspor",
         "dtype": "bool",
         "stats": {
          "unique_count": 1,
          "nan_count": 0,
          "categories": [
           {
            "name": "False",
            "count": 5
           }
          ]
         }
        },
        {
         "name": "HomeTeam_Cowdenbeath",
         "dtype": "bool",
         "stats": {
          "unique_count": 1,
          "nan_count": 0,
          "categories": [
           {
            "name": "False",
            "count": 5
           }
          ]
         }
        },
        {
         "name": "HomeTeam_Elche",
         "dtype": "bool",
         "stats": {
          "unique_count": 1,
          "nan_count": 0,
          "categories": [
           {
            "name": "False",
            "count": 5
           }
          ]
         }
        },
        {
         "name": "HomeTeam_Paris FC",
         "dtype": "bool",
         "stats": {
          "unique_count": 1,
          "nan_count": 0,
          "categories": [
           {
            "name": "False",
            "count": 5
           }
          ]
         }
        },
        {
         "name": "HomeTeam_Pau FC",
         "dtype": "bool",
         "stats": {
          "unique_count": 1,
          "nan_count": 0,
          "categories": [
           {
            "name": "False",
            "count": 5
           }
          ]
         }
        },
        {
         "name": "HomeTeam_Portimonense",
         "dtype": "bool",
         "stats": {
          "unique_count": 1,
          "nan_count": 0,
          "categories": [
           {
            "name": "False",
            "count": 5
           }
          ]
         }
        },
        {
         "name": "HomeTeam_Lamia",
         "dtype": "bool",
         "stats": {
          "unique_count": 1,
          "nan_count": 0,
          "categories": [
           {
            "name": "False",
            "count": 5
           }
          ]
         }
        },
        {
         "name": "HomeTeam_Newport County",
         "dtype": "bool",
         "stats": {
          "unique_count": 1,
          "nan_count": 0,
          "categories": [
           {
            "name": "False",
            "count": 5
           }
          ]
         }
        },
        {
         "name": "HomeTeam_Northampton",
         "dtype": "bool",
         "stats": {
          "unique_count": 1,
          "nan_count": 0,
          "categories": [
           {
            "name": "False",
            "count": 5
           }
          ]
         }
        },
        {
         "name": "HomeTeam_Celta",
         "dtype": "bool",
         "stats": {
          "unique_count": 1,
          "nan_count": 0,
          "categories": [
           {
            "name": "False",
            "count": 5
           }
          ]
         }
        },
        {
         "name": "HomeTeam_Hatayspor",
         "dtype": "bool",
         "stats": {
          "unique_count": 1,
          "nan_count": 0,
          "categories": [
           {
            "name": "False",
            "count": 5
           }
          ]
         }
        },
        {
         "name": "HomeTeam_FC Koln",
         "dtype": "bool",
         "stats": {
          "unique_count": 1,
          "nan_count": 0,
          "categories": [
           {
            "name": "False",
            "count": 5
           }
          ]
         }
        },
        {
         "name": "HomeTeam_Sassuolo",
         "dtype": "bool",
         "stats": {
          "unique_count": 1,
          "nan_count": 0,
          "categories": [
           {
            "name": "False",
            "count": 5
           }
          ]
         }
        },
        {
         "name": "HomeTeam_Feirense",
         "dtype": "bool",
         "stats": {
          "unique_count": 1,
          "nan_count": 0,
          "categories": [
           {
            "name": "False",
            "count": 5
           }
          ]
         }
        },
        {
         "name": "HomeTeam_Erzurum BB",
         "dtype": "bool",
         "stats": {
          "unique_count": 1,
          "nan_count": 0,
          "categories": [
           {
            "name": "False",
            "count": 5
           }
          ]
         }
        },
        {
         "name": "HomeTeam_Wolfsburg",
         "dtype": "bool",
         "stats": {
          "unique_count": 1,
          "nan_count": 0,
          "categories": [
           {
            "name": "False",
            "count": 5
           }
          ]
         }
        },
        {
         "name": "HomeTeam_Albion Rvs",
         "dtype": "bool",
         "stats": {
          "unique_count": 1,
          "nan_count": 0,
          "categories": [
           {
            "name": "False",
            "count": 5
           }
          ]
         }
        },
        {
         "name": "HomeTeam_Waalwijk",
         "dtype": "bool",
         "stats": {
          "unique_count": 1,
          "nan_count": 0,
          "categories": [
           {
            "name": "False",
            "count": 5
           }
          ]
         }
        },
        {
         "name": "HomeTeam_Duisburg",
         "dtype": "bool",
         "stats": {
          "unique_count": 1,
          "nan_count": 0,
          "categories": [
           {
            "name": "False",
            "count": 5
           }
          ]
         }
        },
        {
         "name": "HomeTeam_Girona",
         "dtype": "bool",
         "stats": {
          "unique_count": 1,
          "nan_count": 0,
          "categories": [
           {
            "name": "False",
            "count": 5
           }
          ]
         }
        },
        {
         "name": "HomeTeam_Kortrijk",
         "dtype": "bool",
         "stats": {
          "unique_count": 1,
          "nan_count": 0,
          "categories": [
           {
            "name": "False",
            "count": 5
           }
          ]
         }
        },
        {
         "name": "HomeTeam_Beerschot VA",
         "dtype": "bool",
         "stats": {
          "unique_count": 1,
          "nan_count": 0,
          "categories": [
           {
            "name": "False",
            "count": 5
           }
          ]
         }
        },
        {
         "name": "HomeTeam_Hamilton",
         "dtype": "bool",
         "stats": {
          "unique_count": 1,
          "nan_count": 0,
          "categories": [
           {
            "name": "False",
            "count": 5
           }
          ]
         }
        },
        {
         "name": "HomeTeam_Waregem",
         "dtype": "bool",
         "stats": {
          "unique_count": 1,
          "nan_count": 0,
          "categories": [
           {
            "name": "False",
            "count": 5
           }
          ]
         }
        },
        {
         "name": "HomeTeam_Crystal Palace",
         "dtype": "bool",
         "stats": {
          "unique_count": 2,
          "nan_count": 0,
          "categories": [
           {
            "name": "False",
            "count": 4
           },
           {
            "name": "True",
            "count": 1
           }
          ]
         }
        },
        {
         "name": "HomeTeam_Belenenses",
         "dtype": "bool",
         "stats": {
          "unique_count": 1,
          "nan_count": 0,
          "categories": [
           {
            "name": "False",
            "count": 5
           }
          ]
         }
        },
        {
         "name": "HomeTeam_Dortmund",
         "dtype": "bool",
         "stats": {
          "unique_count": 1,
          "nan_count": 0,
          "categories": [
           {
            "name": "False",
            "count": 5
           }
          ]
         }
        },
        {
         "name": "HomeTeam_Logrones",
         "dtype": "bool",
         "stats": {
          "unique_count": 1,
          "nan_count": 0,
          "categories": [
           {
            "name": "False",
            "count": 5
           }
          ]
         }
        },
        {
         "name": "HomeTeam_Plymouth",
         "dtype": "bool",
         "stats": {
          "unique_count": 1,
          "nan_count": 0,
          "categories": [
           {
            "name": "False",
            "count": 5
           }
          ]
         }
        },
        {
         "name": "HomeTeam_Peterboro",
         "dtype": "bool",
         "stats": {
          "unique_count": 1,
          "nan_count": 0,
          "categories": [
           {
            "name": "False",
            "count": 5
           }
          ]
         }
        },
        {
         "name": "HomeTeam_Raith Rvs",
         "dtype": "bool",
         "stats": {
          "unique_count": 1,
          "nan_count": 0,
          "categories": [
           {
            "name": "False",
            "count": 5
           }
          ]
         }
        },
        {
         "name": "HomeTeam_Sparta Rotterdam",
         "dtype": "bool",
         "stats": {
          "unique_count": 1,
          "nan_count": 0,
          "categories": [
           {
            "name": "False",
            "count": 5
           }
          ]
         }
        },
        {
         "name": "HomeTeam_Orleans",
         "dtype": "bool",
         "stats": {
          "unique_count": 1,
          "nan_count": 0,
          "categories": [
           {
            "name": "False",
            "count": 5
           }
          ]
         }
        },
        {
         "name": "HomeTeam_Magdeburg",
         "dtype": "bool",
         "stats": {
          "unique_count": 1,
          "nan_count": 0,
          "categories": [
           {
            "name": "False",
            "count": 5
           }
          ]
         }
        },
        {
         "name": "HomeTeam_Gimnastic",
         "dtype": "bool",
         "stats": {
          "unique_count": 1,
          "nan_count": 0,
          "categories": [
           {
            "name": "False",
            "count": 5
           }
          ]
         }
        },
        {
         "name": "HomeTeam_Paderborn",
         "dtype": "bool",
         "stats": {
          "unique_count": 1,
          "nan_count": 0,
          "categories": [
           {
            "name": "False",
            "count": 5
           }
          ]
         }
        },
        {
         "name": "HomeTeam_Valenciennes",
         "dtype": "bool",
         "stats": {
          "unique_count": 1,
          "nan_count": 0,
          "categories": [
           {
            "name": "False",
            "count": 5
           }
          ]
         }
        },
        {
         "name": "HomeTeam_Dumbarton",
         "dtype": "bool",
         "stats": {
          "unique_count": 1,
          "nan_count": 0,
          "categories": [
           {
            "name": "False",
            "count": 5
           }
          ]
         }
        },
        {
         "name": "HomeTeam_Ayr",
         "dtype": "bool",
         "stats": {
          "unique_count": 1,
          "nan_count": 0,
          "categories": [
           {
            "name": "False",
            "count": 5
           }
          ]
         }
        },
        {
         "name": "HomeTeam_Gillingham",
         "dtype": "bool",
         "stats": {
          "unique_count": 1,
          "nan_count": 0,
          "categories": [
           {
            "name": "False",
            "count": 5
           }
          ]
         }
        },
        {
         "name": "HomeTeam_Avellino",
         "dtype": "bool",
         "stats": {
          "unique_count": 1,
          "nan_count": 0,
          "categories": [
           {
            "name": "False",
            "count": 5
           }
          ]
         }
        },
        {
         "name": "HomeTeam_Ross County",
         "dtype": "bool",
         "stats": {
          "unique_count": 1,
          "nan_count": 0,
          "categories": [
           {
            "name": "False",
            "count": 5
           }
          ]
         }
        },
        {
         "name": "HomeTeam_Inter",
         "dtype": "bool",
         "stats": {
          "unique_count": 1,
          "nan_count": 0,
          "categories": [
           {
            "name": "False",
            "count": 5
           }
          ]
         }
        },
        {
         "name": "HomeTeam_Millwall",
         "dtype": "bool",
         "stats": {
          "unique_count": 1,
          "nan_count": 0,
          "categories": [
           {
            "name": "False",
            "count": 5
           }
          ]
         }
        },
        {
         "name": "HomeTeam_Notts County",
         "dtype": "bool",
         "stats": {
          "unique_count": 1,
          "nan_count": 0,
          "categories": [
           {
            "name": "False",
            "count": 5
           }
          ]
         }
        },
        {
         "name": "HomeTeam_Venezia",
         "dtype": "bool",
         "stats": {
          "unique_count": 1,
          "nan_count": 0,
          "categories": [
           {
            "name": "False",
            "count": 5
           }
          ]
         }
        },
        {
         "name": "HomeTeam_Albacete",
         "dtype": "bool",
         "stats": {
          "unique_count": 1,
          "nan_count": 0,
          "categories": [
           {
            "name": "False",
            "count": 5
           }
          ]
         }
        },
        {
         "name": "HomeTeam_Fulham",
         "dtype": "bool",
         "stats": {
          "unique_count": 1,
          "nan_count": 0,
          "categories": [
           {
            "name": "False",
            "count": 5
           }
          ]
         }
        },
        {
         "name": "HomeTeam_Spal",
         "dtype": "bool",
         "stats": {
          "unique_count": 1,
          "nan_count": 0,
          "categories": [
           {
            "name": "False",
            "count": 5
           }
          ]
         }
        },
        {
         "name": "HomeTeam_Twente",
         "dtype": "bool",
         "stats": {
          "unique_count": 1,
          "nan_count": 0,
          "categories": [
           {
            "name": "False",
            "count": 5
           }
          ]
         }
        },
        {
         "name": "HomeTeam_Numancia",
         "dtype": "bool",
         "stats": {
          "unique_count": 1,
          "nan_count": 0,
          "categories": [
           {
            "name": "False",
            "count": 5
           }
          ]
         }
        },
        {
         "name": "HomeTeam_Pescara",
         "dtype": "bool",
         "stats": {
          "unique_count": 1,
          "nan_count": 0,
          "categories": [
           {
            "name": "False",
            "count": 5
           }
          ]
         }
        },
        {
         "name": "HomeTeam_Montpellier",
         "dtype": "bool",
         "stats": {
          "unique_count": 1,
          "nan_count": 0,
          "categories": [
           {
            "name": "False",
            "count": 5
           }
          ]
         }
        },
        {
         "name": "HomeTeam_Sandhausen",
         "dtype": "bool",
         "stats": {
          "unique_count": 1,
          "nan_count": 0,
          "categories": [
           {
            "name": "False",
            "count": 5
           }
          ]
         }
        },
        {
         "name": "HomeTeam_Vicenza",
         "dtype": "bool",
         "stats": {
          "unique_count": 1,
          "nan_count": 0,
          "categories": [
           {
            "name": "False",
            "count": 5
           }
          ]
         }
        },
        {
         "name": "HomeTeam_Groningen",
         "dtype": "bool",
         "stats": {
          "unique_count": 1,
          "nan_count": 0,
          "categories": [
           {
            "name": "False",
            "count": 5
           }
          ]
         }
        },
        {
         "name": "HomeTeam_Wycombe",
         "dtype": "bool",
         "stats": {
          "unique_count": 1,
          "nan_count": 0,
          "categories": [
           {
            "name": "False",
            "count": 5
           }
          ]
         }
        },
        {
         "name": "HomeTeam_Marseille",
         "dtype": "bool",
         "stats": {
          "unique_count": 1,
          "nan_count": 0,
          "categories": [
           {
            "name": "False",
            "count": 5
           }
          ]
         }
        },
        {
         "name": "HomeTeam_Atromitos",
         "dtype": "bool",
         "stats": {
          "unique_count": 1,
          "nan_count": 0,
          "categories": [
           {
            "name": "False",
            "count": 5
           }
          ]
         }
        },
        {
         "name": "HomeTeam_Reggiana",
         "dtype": "bool",
         "stats": {
          "unique_count": 1,
          "nan_count": 0,
          "categories": [
           {
            "name": "False",
            "count": 5
           }
          ]
         }
        },
        {
         "name": "HomeTeam_Go Ahead Eagles",
         "dtype": "bool",
         "stats": {
          "unique_count": 1,
          "nan_count": 0,
          "categories": [
           {
            "name": "False",
            "count": 5
           }
          ]
         }
        },
        {
         "name": "HomeTeam_Anderlecht",
         "dtype": "bool",
         "stats": {
          "unique_count": 1,
          "nan_count": 0,
          "categories": [
           {
            "name": "False",
            "count": 5
           }
          ]
         }
        },
        {
         "name": "HomeTeam_Carlisle",
         "dtype": "bool",
         "stats": {
          "unique_count": 1,
          "nan_count": 0,
          "categories": [
           {
            "name": "False",
            "count": 5
           }
          ]
         }
        },
        {
         "name": "HomeTeam_Apollon",
         "dtype": "bool",
         "stats": {
          "unique_count": 1,
          "nan_count": 0,
          "categories": [
           {
            "name": "False",
            "count": 5
           }
          ]
         }
        },
        {
         "name": "HomeTeam_Alcorcon",
         "dtype": "bool",
         "stats": {
          "unique_count": 1,
          "nan_count": 0,
          "categories": [
           {
            "name": "False",
            "count": 5
           }
          ]
         }
        },
        {
         "name": "HomeTeam_Oud-Heverlee Leuven",
         "dtype": "bool",
         "stats": {
          "unique_count": 1,
          "nan_count": 0,
          "categories": [
           {
            "name": "False",
            "count": 5
           }
          ]
         }
        },
        {
         "name": "HomeTeam_Hartlepool",
         "dtype": "bool",
         "stats": {
          "unique_count": 1,
          "nan_count": 0,
          "categories": [
           {
            "name": "False",
            "count": 5
           }
          ]
         }
        },
        {
         "name": "HomeTeam_Birmingham",
         "dtype": "bool",
         "stats": {
          "unique_count": 1,
          "nan_count": 0,
          "categories": [
           {
            "name": "False",
            "count": 5
           }
          ]
         }
        },
        {
         "name": "HomeTeam_Antwerp",
         "dtype": "bool",
         "stats": {
          "unique_count": 1,
          "nan_count": 0,
          "categories": [
           {
            "name": "False",
            "count": 5
           }
          ]
         }
        },
        {
         "name": "HomeTeam_St Etienne",
         "dtype": "bool",
         "stats": {
          "unique_count": 1,
          "nan_count": 0,
          "categories": [
           {
            "name": "False",
            "count": 5
           }
          ]
         }
        },
        {
         "name": "HomeTeam_Queens Park",
         "dtype": "bool",
         "stats": {
          "unique_count": 1,
          "nan_count": 0,
          "categories": [
           {
            "name": "False",
            "count": 5
           }
          ]
         }
        },
        {
         "name": "HomeTeam_Ath Madrid",
         "dtype": "bool",
         "stats": {
          "unique_count": 1,
          "nan_count": 0,
          "categories": [
           {
            "name": "False",
            "count": 5
           }
          ]
         }
        },
        {
         "name": "HomeTeam_Metz",
         "dtype": "bool",
         "stats": {
          "unique_count": 1,
          "nan_count": 0,
          "categories": [
           {
            "name": "False",
            "count": 5
           }
          ]
         }
        },
        {
         "name": "HomeTeam_Ipswich",
         "dtype": "bool",
         "stats": {
          "unique_count": 1,
          "nan_count": 0,
          "categories": [
           {
            "name": "False",
            "count": 5
           }
          ]
         }
        },
        {
         "name": "HomeTeam_Reims",
         "dtype": "bool",
         "stats": {
          "unique_count": 1,
          "nan_count": 0,
          "categories": [
           {
            "name": "False",
            "count": 5
           }
          ]
         }
        },
        {
         "name": "HomeTeam_Vizela",
         "dtype": "bool",
         "stats": {
          "unique_count": 1,
          "nan_count": 0,
          "categories": [
           {
            "name": "False",
            "count": 5
           }
          ]
         }
        },
        {
         "name": "HomeTeam_Arbroath",
         "dtype": "bool",
         "stats": {
          "unique_count": 1,
          "nan_count": 0,
          "categories": [
           {
            "name": "False",
            "count": 5
           }
          ]
         }
        },
        {
         "name": "HomeTeam_Sheffield United",
         "dtype": "bool",
         "stats": {
          "unique_count": 1,
          "nan_count": 0,
          "categories": [
           {
            "name": "False",
            "count": 5
           }
          ]
         }
        },
        {
         "name": "HomeTeam_Swindon",
         "dtype": "bool",
         "stats": {
          "unique_count": 1,
          "nan_count": 0,
          "categories": [
           {
            "name": "False",
            "count": 5
           }
          ]
         }
        },
        {
         "name": "HomeTeam_Rennes",
         "dtype": "bool",
         "stats": {
          "unique_count": 1,
          "nan_count": 0,
          "categories": [
           {
            "name": "False",
            "count": 5
           }
          ]
         }
        },
        {
         "name": "HomeTeam_Mechelen",
         "dtype": "bool",
         "stats": {
          "unique_count": 1,
          "nan_count": 0,
          "categories": [
           {
            "name": "False",
            "count": 5
           }
          ]
         }
        },
        {
         "name": "HomeTeam_Elgin",
         "dtype": "bool",
         "stats": {
          "unique_count": 1,
          "nan_count": 0,
          "categories": [
           {
            "name": "False",
            "count": 5
           }
          ]
         }
        },
        {
         "name": "HomeTeam_Napoli",
         "dtype": "bool",
         "stats": {
          "unique_count": 1,
          "nan_count": 0,
          "categories": [
           {
            "name": "False",
            "count": 5
           }
          ]
         }
        },
        {
         "name": "HomeTeam_Bolton",
         "dtype": "bool",
         "stats": {
          "unique_count": 1,
          "nan_count": 0,
          "categories": [
           {
            "name": "False",
            "count": 5
           }
          ]
         }
        },
        {
         "name": "HomeTeam_Man City",
         "dtype": "bool",
         "stats": {
          "unique_count": 1,
          "nan_count": 0,
          "categories": [
           {
            "name": "False",
            "count": 5
           }
          ]
         }
        },
        {
         "name": "HomeTeam_Genk",
         "dtype": "bool",
         "stats": {
          "unique_count": 1,
          "nan_count": 0,
          "categories": [
           {
            "name": "False",
            "count": 5
           }
          ]
         }
        },
        {
         "name": "HomeTeam_Blackpool",
         "dtype": "bool",
         "stats": {
          "unique_count": 1,
          "nan_count": 0,
          "categories": [
           {
            "name": "False",
            "count": 5
           }
          ]
         }
        },
        {
         "name": "HomeTeam_Lecce",
         "dtype": "bool",
         "stats": {
          "unique_count": 1,
          "nan_count": 0,
          "categories": [
           {
            "name": "False",
            "count": 5
           }
          ]
         }
        },
        {
         "name": "HomeTeam_Buyuksehyr",
         "dtype": "bool",
         "stats": {
          "unique_count": 1,
          "nan_count": 0,
          "categories": [
           {
            "name": "False",
            "count": 5
           }
          ]
         }
        },
        {
         "name": "HomeTeam_Eibar",
         "dtype": "bool",
         "stats": {
          "unique_count": 1,
          "nan_count": 0,
          "categories": [
           {
            "name": "False",
            "count": 5
           }
          ]
         }
        },
        {
         "name": "HomeTeam_Torino",
         "dtype": "bool",
         "stats": {
          "unique_count": 1,
          "nan_count": 0,
          "categories": [
           {
            "name": "False",
            "count": 5
           }
          ]
         }
        },
        {
         "name": "HomeTeam_Bournemouth",
         "dtype": "bool",
         "stats": {
          "unique_count": 1,
          "nan_count": 0,
          "categories": [
           {
            "name": "False",
            "count": 5
           }
          ]
         }
        },
        {
         "name": "HomeTeam_Chievo",
         "dtype": "bool",
         "stats": {
          "unique_count": 1,
          "nan_count": 0,
          "categories": [
           {
            "name": "False",
            "count": 5
           }
          ]
         }
        },
        {
         "name": "HomeTeam_Strasbourg",
         "dtype": "bool",
         "stats": {
          "unique_count": 1,
          "nan_count": 0,
          "categories": [
           {
            "name": "False",
            "count": 5
           }
          ]
         }
        },
        {
         "name": "HomeTeam_Pisa",
         "dtype": "bool",
         "stats": {
          "unique_count": 1,
          "nan_count": 0,
          "categories": [
           {
            "name": "False",
            "count": 5
           }
          ]
         }
        },
        {
         "name": "HomeTeam_Olympiakos",
         "dtype": "bool",
         "stats": {
          "unique_count": 1,
          "nan_count": 0,
          "categories": [
           {
            "name": "False",
            "count": 5
           }
          ]
         }
        },
        {
         "name": "HomeTeam_Dunfermline",
         "dtype": "bool",
         "stats": {
          "unique_count": 1,
          "nan_count": 0,
          "categories": [
           {
            "name": "False",
            "count": 5
           }
          ]
         }
        },
        {
         "name": "HomeTeam_Chateauroux",
         "dtype": "bool",
         "stats": {
          "unique_count": 1,
          "nan_count": 0,
          "categories": [
           {
            "name": "False",
            "count": 5
           }
          ]
         }
        },
        {
         "name": "HomeTeam_Arouca",
         "dtype": "bool",
         "stats": {
          "unique_count": 1,
          "nan_count": 0,
          "categories": [
           {
            "name": "False",
            "count": 5
           }
          ]
         }
        },
        {
         "name": "HomeTeam_Excelsior",
         "dtype": "bool",
         "stats": {
          "unique_count": 1,
          "nan_count": 0,
          "categories": [
           {
            "name": "False",
            "count": 5
           }
          ]
         }
        },
        {
         "name": "HomeTeam_Ascoli",
         "dtype": "bool",
         "stats": {
          "unique_count": 1,
          "nan_count": 0,
          "categories": [
           {
            "name": "False",
            "count": 5
           }
          ]
         }
        },
        {
         "name": "HomeTeam_St. Gilloise",
         "dtype": "bool",
         "stats": {
          "unique_count": 1,
          "nan_count": 0,
          "categories": [
           {
            "name": "False",
            "count": 5
           }
          ]
         }
        },
        {
         "name": "HomeTeam_Feyenoord",
         "dtype": "bool",
         "stats": {
          "unique_count": 1,
          "nan_count": 0,
          "categories": [
           {
            "name": "False",
            "count": 5
           }
          ]
         }
        },
        {
         "name": "HomeTeam_Partick",
         "dtype": "bool",
         "stats": {
          "unique_count": 1,
          "nan_count": 0,
          "categories": [
           {
            "name": "False",
            "count": 5
           }
          ]
         }
        },
        {
         "name": "HomeTeam_Scunthorpe",
         "dtype": "bool",
         "stats": {
          "unique_count": 1,
          "nan_count": 0,
          "categories": [
           {
            "name": "False",
            "count": 5
           }
          ]
         }
        },
        {
         "name": "HomeTeam_Stuttgart",
         "dtype": "bool",
         "stats": {
          "unique_count": 1,
          "nan_count": 0,
          "categories": [
           {
            "name": "False",
            "count": 5
           }
          ]
         }
        },
        {
         "name": "HomeTeam_Bastia",
         "dtype": "bool",
         "stats": {
          "unique_count": 1,
          "nan_count": 0,
          "categories": [
           {
            "name": "False",
            "count": 5
           }
          ]
         }
        },
        {
         "name": "HomeTeam_Chambly",
         "dtype": "bool",
         "stats": {
          "unique_count": 1,
          "nan_count": 0,
          "categories": [
           {
            "name": "False",
            "count": 5
           }
          ]
         }
        },
        {
         "name": "HomeTeam_RB Leipzig",
         "dtype": "bool",
         "stats": {
          "unique_count": 1,
          "nan_count": 0,
          "categories": [
           {
            "name": "False",
            "count": 5
           }
          ]
         }
        },
        {
         "name": "HomeTeam_Doncaster",
         "dtype": "bool",
         "stats": {
          "unique_count": 1,
          "nan_count": 0,
          "categories": [
           {
            "name": "False",
            "count": 5
           }
          ]
         }
        },
        {
         "name": "HomeTeam_Lille",
         "dtype": "bool",
         "stats": {
          "unique_count": 1,
          "nan_count": 0,
          "categories": [
           {
            "name": "False",
            "count": 5
           }
          ]
         }
        },
        {
         "name": "HomeTeam_Setubal",
         "dtype": "bool",
         "stats": {
          "unique_count": 1,
          "nan_count": 0,
          "categories": [
           {
            "name": "False",
            "count": 5
           }
          ]
         }
        },
        {
         "name": "HomeTeam_Cheltenham",
         "dtype": "bool",
         "stats": {
          "unique_count": 1,
          "nan_count": 0,
          "categories": [
           {
            "name": "False",
            "count": 5
           }
          ]
         }
        },
        {
         "name": "HomeTeam_Brechin",
         "dtype": "bool",
         "stats": {
          "unique_count": 1,
          "nan_count": 0,
          "categories": [
           {
            "name": "False",
            "count": 5
           }
          ]
         }
        },
        {
         "name": "HomeTeam_Parma",
         "dtype": "bool",
         "stats": {
          "unique_count": 1,
          "nan_count": 0,
          "categories": [
           {
            "name": "False",
            "count": 5
           }
          ]
         }
        },
        {
         "name": "HomeTeam_Swansea",
         "dtype": "bool",
         "stats": {
          "unique_count": 1,
          "nan_count": 0,
          "categories": [
           {
            "name": "False",
            "count": 5
           }
          ]
         }
        },
        {
         "name": "HomeTeam_Famalicao",
         "dtype": "bool",
         "stats": {
          "unique_count": 1,
          "nan_count": 0,
          "categories": [
           {
            "name": "False",
            "count": 5
           }
          ]
         }
        },
        {
         "name": "HomeTeam_Dundee United",
         "dtype": "bool",
         "stats": {
          "unique_count": 1,
          "nan_count": 0,
          "categories": [
           {
            "name": "False",
            "count": 5
           }
          ]
         }
        },
        {
         "name": "HomeTeam_Alessandria",
         "dtype": "bool",
         "stats": {
          "unique_count": 1,
          "nan_count": 0,
          "categories": [
           {
            "name": "False",
            "count": 5
           }
          ]
         }
        },
        {
         "name": "HomeTeam_Atalanta",
         "dtype": "bool",
         "stats": {
          "unique_count": 1,
          "nan_count": 0,
          "categories": [
           {
            "name": "False",
            "count": 5
           }
          ]
         }
        },
        {
         "name": "HomeTeam_Clyde",
         "dtype": "bool",
         "stats": {
          "unique_count": 1,
          "nan_count": 0,
          "categories": [
           {
            "name": "False",
            "count": 5
           }
          ]
         }
        },
        {
         "name": "HomeTeam_Huesca",
         "dtype": "bool",
         "stats": {
          "unique_count": 1,
          "nan_count": 0,
          "categories": [
           {
            "name": "False",
            "count": 5
           }
          ]
         }
        },
        {
         "name": "HomeTeam_Empoli",
         "dtype": "bool",
         "stats": {
          "unique_count": 1,
          "nan_count": 0,
          "categories": [
           {
            "name": "False",
            "count": 5
           }
          ]
         }
        },
        {
         "name": "HomeTeam_Stirling",
         "dtype": "bool",
         "stats": {
          "unique_count": 1,
          "nan_count": 0,
          "categories": [
           {
            "name": "False",
            "count": 5
           }
          ]
         }
        },
        {
         "name": "HomeTeam_Burton",
         "dtype": "bool",
         "stats": {
          "unique_count": 1,
          "nan_count": 0,
          "categories": [
           {
            "name": "False",
            "count": 5
           }
          ]
         }
        },
        {
         "name": "HomeTeam_Sevilla",
         "dtype": "bool",
         "stats": {
          "unique_count": 1,
          "nan_count": 0,
          "categories": [
           {
            "name": "False",
            "count": 5
           }
          ]
         }
        },
        {
         "name": "HomeTeam_Celtic",
         "dtype": "bool",
         "stats": {
          "unique_count": 1,
          "nan_count": 0,
          "categories": [
           {
            "name": "False",
            "count": 5
           }
          ]
         }
        },
        {
         "name": "HomeTeam_Macclesfield",
         "dtype": "bool",
         "stats": {
          "unique_count": 1,
          "nan_count": 0,
          "categories": [
           {
            "name": "False",
            "count": 5
           }
          ]
         }
        },
        {
         "name": "HomeTeam_Virtus Entella",
         "dtype": "bool",
         "stats": {
          "unique_count": 1,
          "nan_count": 0,
          "categories": [
           {
            "name": "False",
            "count": 5
           }
          ]
         }
        },
        {
         "name": "HomeTeam_Sutton",
         "dtype": "bool",
         "stats": {
          "unique_count": 1,
          "nan_count": 0,
          "categories": [
           {
            "name": "False",
            "count": 5
           }
          ]
         }
        },
        {
         "name": "HomeTeam_Preston",
         "dtype": "bool",
         "stats": {
          "unique_count": 1,
          "nan_count": 0,
          "categories": [
           {
            "name": "False",
            "count": 5
           }
          ]
         }
        },
        {
         "name": "HomeTeam_Como",
         "dtype": "bool",
         "stats": {
          "unique_count": 1,
          "nan_count": 0,
          "categories": [
           {
            "name": "False",
            "count": 5
           }
          ]
         }
        },
        {
         "name": "HomeTeam_Greuther Furth",
         "dtype": "bool",
         "stats": {
          "unique_count": 1,
          "nan_count": 0,
          "categories": [
           {
            "name": "False",
            "count": 5
           }
          ]
         }
        },
        {
         "name": "HomeTeam_Chelsea",
         "dtype": "bool",
         "stats": {
          "unique_count": 2,
          "nan_count": 0,
          "categories": [
           {
            "name": "False",
            "count": 4
           },
           {
            "name": "True",
            "count": 1
           }
          ]
         }
        },
        {
         "name": "HomeTeam_Lyon",
         "dtype": "bool",
         "stats": {
          "unique_count": 1,
          "nan_count": 0,
          "categories": [
           {
            "name": "False",
            "count": 5
           }
          ]
         }
        },
        {
         "name": "HomeTeam_Fenerbahce",
         "dtype": "bool",
         "stats": {
          "unique_count": 1,
          "nan_count": 0,
          "categories": [
           {
            "name": "False",
            "count": 5
           }
          ]
         }
        },
        {
         "name": "HomeTeam_Getafe",
         "dtype": "bool",
         "stats": {
          "unique_count": 1,
          "nan_count": 0,
          "categories": [
           {
            "name": "False",
            "count": 5
           }
          ]
         }
        },
        {
         "name": "HomeTeam_Santander",
         "dtype": "bool",
         "stats": {
          "unique_count": 1,
          "nan_count": 0,
          "categories": [
           {
            "name": "False",
            "count": 5
           }
          ]
         }
        },
        {
         "name": "HomeTeam_Walsall",
         "dtype": "bool",
         "stats": {
          "unique_count": 1,
          "nan_count": 0,
          "categories": [
           {
            "name": "False",
            "count": 5
           }
          ]
         }
        },
        {
         "name": "HomeTeam_Udinese",
         "dtype": "bool",
         "stats": {
          "unique_count": 1,
          "nan_count": 0,
          "categories": [
           {
            "name": "False",
            "count": 5
           }
          ]
         }
        },
        {
         "name": "HomeTeam_Tondela",
         "dtype": "bool",
         "stats": {
          "unique_count": 1,
          "nan_count": 0,
          "categories": [
           {
            "name": "False",
            "count": 5
           }
          ]
         }
        },
        {
         "name": "HomeTeam_Nice",
         "dtype": "bool",
         "stats": {
          "unique_count": 1,
          "nan_count": 0,
          "categories": [
           {
            "name": "False",
            "count": 5
           }
          ]
         }
        },
        {
         "name": "HomeTeam_Extremadura UD",
         "dtype": "bool",
         "stats": {
          "unique_count": 1,
          "nan_count": 0,
          "categories": [
           {
            "name": "False",
            "count": 5
           }
          ]
         }
        },
        {
         "name": "HomeTeam_Besiktas",
         "dtype": "bool",
         "stats": {
          "unique_count": 1,
          "nan_count": 0,
          "categories": [
           {
            "name": "False",
            "count": 5
           }
          ]
         }
        },
        {
         "name": "HomeTeam_Reggina",
         "dtype": "bool",
         "stats": {
          "unique_count": 1,
          "nan_count": 0,
          "categories": [
           {
            "name": "False",
            "count": 5
           }
          ]
         }
        },
        {
         "name": "HomeTeam_Monaco",
         "dtype": "bool",
         "stats": {
          "unique_count": 1,
          "nan_count": 0,
          "categories": [
           {
            "name": "False",
            "count": 5
           }
          ]
         }
        },
        {
         "name": "HomeTeam_Lugo",
         "dtype": "bool",
         "stats": {
          "unique_count": 1,
          "nan_count": 0,
          "categories": [
           {
            "name": "False",
            "count": 5
           }
          ]
         }
        },
        {
         "name": "HomeTeam_Valladolid",
         "dtype": "bool",
         "stats": {
          "unique_count": 1,
          "nan_count": 0,
          "categories": [
           {
            "name": "False",
            "count": 5
           }
          ]
         }
        },
        {
         "name": "HomeTeam_West Ham",
         "dtype": "bool",
         "stats": {
          "unique_count": 1,
          "nan_count": 0,
          "categories": [
           {
            "name": "False",
            "count": 5
           }
          ]
         }
        },
        {
         "name": "HomeTeam_Padova",
         "dtype": "bool",
         "stats": {
          "unique_count": 1,
          "nan_count": 0,
          "categories": [
           {
            "name": "False",
            "count": 5
           }
          ]
         }
        },
        {
         "name": "HomeTeam_Oxford",
         "dtype": "bool",
         "stats": {
          "unique_count": 1,
          "nan_count": 0,
          "categories": [
           {
            "name": "False",
            "count": 5
           }
          ]
         }
        },
        {
         "name": "HomeTeam_La Coruna",
         "dtype": "bool",
         "stats": {
          "unique_count": 1,
          "nan_count": 0,
          "categories": [
           {
            "name": "False",
            "count": 5
           }
          ]
         }
        },
        {
         "name": "HomeTeam_Port Vale",
         "dtype": "bool",
         "stats": {
          "unique_count": 1,
          "nan_count": 0,
          "categories": [
           {
            "name": "False",
            "count": 5
           }
          ]
         }
        },
        {
         "name": "HomeTeam_Ein Frankfurt",
         "dtype": "bool",
         "stats": {
          "unique_count": 1,
          "nan_count": 0,
          "categories": [
           {
            "name": "False",
            "count": 5
           }
          ]
         }
        },
        {
         "name": "HomeTeam_Crawley Town",
         "dtype": "bool",
         "stats": {
          "unique_count": 1,
          "nan_count": 0,
          "categories": [
           {
            "name": "False",
            "count": 5
           }
          ]
         }
        },
        {
         "name": "HomeTeam_Antalyaspor",
         "dtype": "bool",
         "stats": {
          "unique_count": 1,
          "nan_count": 0,
          "categories": [
           {
            "name": "False",
            "count": 5
           }
          ]
         }
        },
        {
         "name": "HomeTeam_Clermont",
         "dtype": "bool",
         "stats": {
          "unique_count": 1,
          "nan_count": 0,
          "categories": [
           {
            "name": "False",
            "count": 5
           }
          ]
         }
        },
        {
         "name": "HomeTeam_Willem II",
         "dtype": "bool",
         "stats": {
          "unique_count": 1,
          "nan_count": 0,
          "categories": [
           {
            "name": "False",
            "count": 5
           }
          ]
         }
        },
        {
         "name": "HomeTeam_Leyton Orient",
         "dtype": "bool",
         "stats": {
          "unique_count": 1,
          "nan_count": 0,
          "categories": [
           {
            "name": "False",
            "count": 5
           }
          ]
         }
        },
        {
         "name": "HomeTeam_Alloa",
         "dtype": "bool",
         "stats": {
          "unique_count": 1,
          "nan_count": 0,
          "categories": [
           {
            "name": "False",
            "count": 5
           }
          ]
         }
        },
        {
         "name": "HomeTeam_Betis",
         "dtype": "bool",
         "stats": {
          "unique_count": 1,
          "nan_count": 0,
          "categories": [
           {
            "name": "False",
            "count": 5
           }
          ]
         }
        },
        {
         "name": "HomeTeam_Shrewsbury",
         "dtype": "bool",
         "stats": {
          "unique_count": 1,
          "nan_count": 0,
          "categories": [
           {
            "name": "False",
            "count": 5
           }
          ]
         }
        },
        {
         "name": "HomeTeam_Sp Gijon",
         "dtype": "bool",
         "stats": {
          "unique_count": 1,
          "nan_count": 0,
          "categories": [
           {
            "name": "False",
            "count": 5
           }
          ]
         }
        },
        {
         "name": "HomeTeam_Quevilly Rouen",
         "dtype": "bool",
         "stats": {
          "unique_count": 1,
          "nan_count": 0,
          "categories": [
           {
            "name": "False",
            "count": 5
           }
          ]
         }
        },
        {
         "name": "HomeTeam_Roma",
         "dtype": "bool",
         "stats": {
          "unique_count": 1,
          "nan_count": 0,
          "categories": [
           {
            "name": "False",
            "count": 5
           }
          ]
         }
        },
        {
         "name": "HomeTeam_Hansa Rostock",
         "dtype": "bool",
         "stats": {
          "unique_count": 1,
          "nan_count": 0,
          "categories": [
           {
            "name": "False",
            "count": 5
           }
          ]
         }
        },
        {
         "name": "HomeTeam_Mirandes",
         "dtype": "bool",
         "stats": {
          "unique_count": 1,
          "nan_count": 0,
          "categories": [
           {
            "name": "False",
            "count": 5
           }
          ]
         }
        },
        {
         "name": "HomeTeam_Huddersfield",
         "dtype": "bool",
         "stats": {
          "unique_count": 1,
          "nan_count": 0,
          "categories": [
           {
            "name": "False",
            "count": 5
           }
          ]
         }
        },
        {
         "name": "HomeTeam_VVV Venlo",
         "dtype": "bool",
         "stats": {
          "unique_count": 1,
          "nan_count": 0,
          "categories": [
           {
            "name": "False",
            "count": 5
           }
          ]
         }
        },
        {
         "name": "HomeTeam_Mouscron",
         "dtype": "bool",
         "stats": {
          "unique_count": 1,
          "nan_count": 0,
          "categories": [
           {
            "name": "False",
            "count": 5
           }
          ]
         }
        },
        {
         "name": "HomeTeam_Tottenham",
         "dtype": "bool",
         "stats": {
          "unique_count": 1,
          "nan_count": 0,
          "categories": [
           {
            "name": "False",
            "count": 5
           }
          ]
         }
        },
        {
         "name": "HomeTeam_Real Madrid",
         "dtype": "bool",
         "stats": {
          "unique_count": 1,
          "nan_count": 0,
          "categories": [
           {
            "name": "False",
            "count": 5
           }
          ]
         }
        },
        {
         "name": "HomeTeam_AEK",
         "dtype": "bool",
         "stats": {
          "unique_count": 1,
          "nan_count": 0,
          "categories": [
           {
            "name": "False",
            "count": 5
           }
          ]
         }
        },
        {
         "name": "HomeTeam_Watford",
         "dtype": "bool",
         "stats": {
          "unique_count": 1,
          "nan_count": 0,
          "categories": [
           {
            "name": "False",
            "count": 5
           }
          ]
         }
        },
        {
         "name": "HomeTeam_Southampton",
         "dtype": "bool",
         "stats": {
          "unique_count": 1,
          "nan_count": 0,
          "categories": [
           {
            "name": "False",
            "count": 5
           }
          ]
         }
        },
        {
         "name": "HomeTeam_Waasland-Beveren",
         "dtype": "bool",
         "stats": {
          "unique_count": 1,
          "nan_count": 0,
          "categories": [
           {
            "name": "False",
            "count": 5
           }
          ]
         }
        },
        {
         "name": "HomeTeam_M'gladbach",
         "dtype": "bool",
         "stats": {
          "unique_count": 1,
          "nan_count": 0,
          "categories": [
           {
            "name": "False",
            "count": 5
           }
          ]
         }
        },
        {
         "name": "HomeTeam_Nurnberg",
         "dtype": "bool",
         "stats": {
          "unique_count": 1,
          "nan_count": 0,
          "categories": [
           {
            "name": "False",
            "count": 5
           }
          ]
         }
        },
        {
         "name": "HomeTeam_Tenerife",
         "dtype": "bool",
         "stats": {
          "unique_count": 1,
          "nan_count": 0,
          "categories": [
           {
            "name": "False",
            "count": 5
           }
          ]
         }
        },
        {
         "name": "HomeTeam_Ternana",
         "dtype": "bool",
         "stats": {
          "unique_count": 1,
          "nan_count": 0,
          "categories": [
           {
            "name": "False",
            "count": 5
           }
          ]
         }
        },
        {
         "name": "HomeTeam_Panathinaikos",
         "dtype": "bool",
         "stats": {
          "unique_count": 1,
          "nan_count": 0,
          "categories": [
           {
            "name": "False",
            "count": 5
           }
          ]
         }
        },
        {
         "name": "HomeTeam_Stoke",
         "dtype": "bool",
         "stats": {
          "unique_count": 1,
          "nan_count": 0,
          "categories": [
           {
            "name": "False",
            "count": 5
           }
          ]
         }
        },
        {
         "name": "HomeTeam_Peterhead",
         "dtype": "bool",
         "stats": {
          "unique_count": 1,
          "nan_count": 0,
          "categories": [
           {
            "name": "False",
            "count": 5
           }
          ]
         }
        },
        {
         "name": "HomeTeam_Bury",
         "dtype": "bool",
         "stats": {
          "unique_count": 1,
          "nan_count": 0,
          "categories": [
           {
            "name": "False",
            "count": 5
           }
          ]
         }
        },
        {
         "name": "HomeTeam_Palermo",
         "dtype": "bool",
         "stats": {
          "unique_count": 1,
          "nan_count": 0,
          "categories": [
           {
            "name": "False",
            "count": 5
           }
          ]
         }
        },
        {
         "name": "HomeTeam_For Sittard",
         "dtype": "bool",
         "stats": {
          "unique_count": 1,
          "nan_count": 0,
          "categories": [
           {
            "name": "False",
            "count": 5
           }
          ]
         }
        },
        {
         "name": "HomeTeam_Villarreal",
         "dtype": "bool",
         "stats": {
          "unique_count": 1,
          "nan_count": 0,
          "categories": [
           {
            "name": "False",
            "count": 5
           }
          ]
         }
        },
        {
         "name": "HomeTeam_Cosenza",
         "dtype": "bool",
         "stats": {
          "unique_count": 1,
          "nan_count": 0,
          "categories": [
           {
            "name": "False",
            "count": 5
           }
          ]
         }
        },
        {
         "name": "HomeTeam_Motherwell",
         "dtype": "bool",
         "stats": {
          "unique_count": 1,
          "nan_count": 0,
          "categories": [
           {
            "name": "False",
            "count": 5
           }
          ]
         }
        },
        {
         "name": "HomeTeam_Lens",
         "dtype": "bool",
         "stats": {
          "unique_count": 1,
          "nan_count": 0,
          "categories": [
           {
            "name": "False",
            "count": 5
           }
          ]
         }
        },
        {
         "name": "HomeTeam_Boavista",
         "dtype": "bool",
         "stats": {
          "unique_count": 1,
          "nan_count": 0,
          "categories": [
           {
            "name": "False",
            "count": 5
           }
          ]
         }
        },
        {
         "name": "HomeTeam_Beziers",
         "dtype": "bool",
         "stats": {
          "unique_count": 1,
          "nan_count": 0,
          "categories": [
           {
            "name": "False",
            "count": 5
           }
          ]
         }
        },
        {
         "name": "HomeTeam_Leicester",
         "dtype": "bool",
         "stats": {
          "unique_count": 1,
          "nan_count": 0,
          "categories": [
           {
            "name": "False",
            "count": 5
           }
          ]
         }
        },
        {
         "name": "HomeTeam_Apollon Apollon",
         "dtype": "bool",
         "stats": {
          "unique_count": 1,
          "nan_count": 0,
          "categories": [
           {
            "name": "False",
            "count": 5
           }
          ]
         }
        },
        {
         "name": "HomeTeam_Nimes",
         "dtype": "bool",
         "stats": {
          "unique_count": 1,
          "nan_count": 0,
          "categories": [
           {
            "name": "False",
            "count": 5
           }
          ]
         }
        },
        {
         "name": "HomeTeam_Gaziantep",
         "dtype": "bool",
         "stats": {
          "unique_count": 1,
          "nan_count": 0,
          "categories": [
           {
            "name": "False",
            "count": 5
           }
          ]
         }
        },
        {
         "name": "HomeTeam_Pordenone",
         "dtype": "bool",
         "stats": {
          "unique_count": 1,
          "nan_count": 0,
          "categories": [
           {
            "name": "False",
            "count": 5
           }
          ]
         }
        },
        {
         "name": "HomeTeam_St Johnstone",
         "dtype": "bool",
         "stats": {
          "unique_count": 1,
          "nan_count": 0,
          "categories": [
           {
            "name": "False",
            "count": 5
           }
          ]
         }
        },
        {
         "name": "HomeTeam_Panetolikos",
         "dtype": "bool",
         "stats": {
          "unique_count": 1,
          "nan_count": 0,
          "categories": [
           {
            "name": "False",
            "count": 5
           }
          ]
         }
        },
        {
         "name": "HomeTeam_Roda",
         "dtype": "bool",
         "stats": {
          "unique_count": 1,
          "nan_count": 0,
          "categories": [
           {
            "name": "False",
            "count": 5
           }
          ]
         }
        },
        {
         "name": "HomeTeam_FC Emmen",
         "dtype": "bool",
         "stats": {
          "unique_count": 1,
          "nan_count": 0,
          "categories": [
           {
            "name": "False",
            "count": 5
           }
          ]
         }
        },
        {
         "name": "HomeTeam_Bristol City",
         "dtype": "bool",
         "stats": {
          "unique_count": 1,
          "nan_count": 0,
          "categories": [
           {
            "name": "False",
            "count": 5
           }
          ]
         }
        },
        {
         "name": "HomeTeam_Everton",
         "dtype": "bool",
         "stats": {
          "unique_count": 2,
          "nan_count": 0,
          "categories": [
           {
            "name": "False",
            "count": 4
           },
           {
            "name": "True",
            "count": 1
           }
          ]
         }
        },
        {
         "name": "HomeTeam_Union Berlin",
         "dtype": "bool",
         "stats": {
          "unique_count": 1,
          "nan_count": 0,
          "categories": [
           {
            "name": "False",
            "count": 5
           }
          ]
         }
        },
        {
         "name": "HomeTeam_Wigan",
         "dtype": "bool",
         "stats": {
          "unique_count": 1,
          "nan_count": 0,
          "categories": [
           {
            "name": "False",
            "count": 5
           }
          ]
         }
        },
        {
         "name": "HomeTeam_Karlsruhe",
         "dtype": "bool",
         "stats": {
          "unique_count": 1,
          "nan_count": 0,
          "categories": [
           {
            "name": "False",
            "count": 5
           }
          ]
         }
        },
        {
         "name": "HomeTeam_Brest",
         "dtype": "bool",
         "stats": {
          "unique_count": 1,
          "nan_count": 0,
          "categories": [
           {
            "name": "False",
            "count": 5
           }
          ]
         }
        },
        {
         "name": "HomeTeam_Xanthi",
         "dtype": "bool",
         "stats": {
          "unique_count": 1,
          "nan_count": 0,
          "categories": [
           {
            "name": "False",
            "count": 5
           }
          ]
         }
        },
        {
         "name": "HomeTeam_Fortuna Dusseldorf",
         "dtype": "bool",
         "stats": {
          "unique_count": 1,
          "nan_count": 0,
          "categories": [
           {
            "name": "False",
            "count": 5
           }
          ]
         }
        },
        {
         "name": "HomeTeam_Kayserispor",
         "dtype": "bool",
         "stats": {
          "unique_count": 1,
          "nan_count": 0,
          "categories": [
           {
            "name": "False",
            "count": 5
           }
          ]
         }
        },
        {
         "name": "HomeTeam_Le Havre",
         "dtype": "bool",
         "stats": {
          "unique_count": 1,
          "nan_count": 0,
          "categories": [
           {
            "name": "False",
            "count": 5
           }
          ]
         }
        },
        {
         "name": "HomeTeam_Stevenage",
         "dtype": "bool",
         "stats": {
          "unique_count": 1,
          "nan_count": 0,
          "categories": [
           {
            "name": "False",
            "count": 5
           }
          ]
         }
        },
        {
         "name": "HomeTeam_Schalke 04",
         "dtype": "bool",
         "stats": {
          "unique_count": 1,
          "nan_count": 0,
          "categories": [
           {
            "name": "False",
            "count": 5
           }
          ]
         }
        },
        {
         "name": "HomeTeam_Altay",
         "dtype": "bool",
         "stats": {
          "unique_count": 1,
          "nan_count": 0,
          "categories": [
           {
            "name": "False",
            "count": 5
           }
          ]
         }
        },
        {
         "name": "HomeTeam_Lorient",
         "dtype": "bool",
         "stats": {
          "unique_count": 1,
          "nan_count": 0,
          "categories": [
           {
            "name": "False",
            "count": 5
           }
          ]
         }
        },
        {
         "name": "HomeTeam_Karagumruk",
         "dtype": "bool",
         "stats": {
          "unique_count": 1,
          "nan_count": 0,
          "categories": [
           {
            "name": "False",
            "count": 5
           }
          ]
         }
        },
        {
         "name": "HomeTeam_Portsmouth",
         "dtype": "bool",
         "stats": {
          "unique_count": 1,
          "nan_count": 0,
          "categories": [
           {
            "name": "False",
            "count": 5
           }
          ]
         }
        },
        {
         "name": "HomeTeam_Barcelona",
         "dtype": "bool",
         "stats": {
          "unique_count": 1,
          "nan_count": 0,
          "categories": [
           {
            "name": "False",
            "count": 5
           }
          ]
         }
        },
        {
         "name": "HomeTeam_Vallecano",
         "dtype": "bool",
         "stats": {
          "unique_count": 1,
          "nan_count": 0,
          "categories": [
           {
            "name": "False",
            "count": 5
           }
          ]
         }
        },
        {
         "name": "HomeTeam_Asteras Tripolis",
         "dtype": "bool",
         "stats": {
          "unique_count": 1,
          "nan_count": 0,
          "categories": [
           {
            "name": "False",
            "count": 5
           }
          ]
         }
        },
        {
         "name": "HomeTeam_Hannover",
         "dtype": "bool",
         "stats": {
          "unique_count": 1,
          "nan_count": 0,
          "categories": [
           {
            "name": "False",
            "count": 5
           }
          ]
         }
        },
        {
         "name": "HomeTeam_Konyaspor",
         "dtype": "bool",
         "stats": {
          "unique_count": 1,
          "nan_count": 0,
          "categories": [
           {
            "name": "False",
            "count": 5
           }
          ]
         }
        },
        {
         "name": "HomeTeam_Toulouse",
         "dtype": "bool",
         "stats": {
          "unique_count": 1,
          "nan_count": 0,
          "categories": [
           {
            "name": "False",
            "count": 5
           }
          ]
         }
        },
        {
         "name": "HomeTeam_Kilmarnock",
         "dtype": "bool",
         "stats": {
          "unique_count": 1,
          "nan_count": 0,
          "categories": [
           {
            "name": "False",
            "count": 5
           }
          ]
         }
        },
        {
         "name": "HomeTeam_Osasuna",
         "dtype": "bool",
         "stats": {
          "unique_count": 1,
          "nan_count": 0,
          "categories": [
           {
            "name": "False",
            "count": 5
           }
          ]
         }
        },
        {
         "name": "HomeTeam_Cagliari",
         "dtype": "bool",
         "stats": {
          "unique_count": 1,
          "nan_count": 0,
          "categories": [
           {
            "name": "False",
            "count": 5
           }
          ]
         }
        },
        {
         "name": "HomeTeam_Giresunspor",
         "dtype": "bool",
         "stats": {
          "unique_count": 1,
          "nan_count": 0,
          "categories": [
           {
            "name": "False",
            "count": 5
           }
          ]
         }
        },
        {
         "name": "HomeTeam_Mansfield",
         "dtype": "bool",
         "stats": {
          "unique_count": 1,
          "nan_count": 0,
          "categories": [
           {
            "name": "False",
            "count": 5
           }
          ]
         }
        },
        {
         "name": "HomeTeam_Panionios",
         "dtype": "bool",
         "stats": {
          "unique_count": 1,
          "nan_count": 0,
          "categories": [
           {
            "name": "False",
            "count": 5
           }
          ]
         }
        },
        {
         "name": "HomeTeam_Bochum",
         "dtype": "bool",
         "stats": {
          "unique_count": 1,
          "nan_count": 0,
          "categories": [
           {
            "name": "False",
            "count": 5
           }
          ]
         }
        },
        {
         "name": "HomeTeam_Leonesa",
         "dtype": "bool",
         "stats": {
          "unique_count": 1,
          "nan_count": 0,
          "categories": [
           {
            "name": "False",
            "count": 5
           }
          ]
         }
        },
        {
         "name": "HomeTeam_Ad. Demirspor",
         "dtype": "bool",
         "stats": {
          "unique_count": 1,
          "nan_count": 0,
          "categories": [
           {
            "name": "False",
            "count": 5
           }
          ]
         }
        },
        {
         "name": "HomeTeam_Cercle Brugge",
         "dtype": "bool",
         "stats": {
          "unique_count": 1,
          "nan_count": 0,
          "categories": [
           {
            "name": "False",
            "count": 5
           }
          ]
         }
        },
        {
         "name": "HomeTeam_Kasimpasa",
         "dtype": "bool",
         "stats": {
          "unique_count": 1,
          "nan_count": 0,
          "categories": [
           {
            "name": "False",
            "count": 5
           }
          ]
         }
        },
        {
         "name": "HomeTeam_Le Mans",
         "dtype": "bool",
         "stats": {
          "unique_count": 1,
          "nan_count": 0,
          "categories": [
           {
            "name": "False",
            "count": 5
           }
          ]
         }
        },
        {
         "name": "HomeTeam_Coventry",
         "dtype": "bool",
         "stats": {
          "unique_count": 1,
          "nan_count": 0,
          "categories": [
           {
            "name": "False",
            "count": 5
           }
          ]
         }
        },
        {
         "name": "HomeTeam_Rayo Majadahonda",
         "dtype": "bool",
         "stats": {
          "unique_count": 1,
          "nan_count": 0,
          "categories": [
           {
            "name": "False",
            "count": 5
           }
          ]
         }
        },
        {
         "name": "HomeTeam_Luton",
         "dtype": "bool",
         "stats": {
          "unique_count": 1,
          "nan_count": 0,
          "categories": [
           {
            "name": "False",
            "count": 5
           }
          ]
         }
        },
        {
         "name": "HomeTeam_Yeovil",
         "dtype": "bool",
         "stats": {
          "unique_count": 1,
          "nan_count": 0,
          "categories": [
           {
            "name": "False",
            "count": 5
           }
          ]
         }
        },
        {
         "name": "HomeTeam_Cambuur",
         "dtype": "bool",
         "stats": {
          "unique_count": 1,
          "nan_count": 0,
          "categories": [
           {
            "name": "False",
            "count": 5
           }
          ]
         }
        },
        {
         "name": "HomeTeam_Annan Athletic",
         "dtype": "bool",
         "stats": {
          "unique_count": 1,
          "nan_count": 0,
          "categories": [
           {
            "name": "False",
            "count": 5
           }
          ]
         }
        },
        {
         "name": "HomeTeam_Gent",
         "dtype": "bool",
         "stats": {
          "unique_count": 1,
          "nan_count": 0,
          "categories": [
           {
            "name": "False",
            "count": 5
           }
          ]
         }
        },
        {
         "name": "HomeTeam_Cartagena",
         "dtype": "bool",
         "stats": {
          "unique_count": 1,
          "nan_count": 0,
          "categories": [
           {
            "name": "False",
            "count": 5
           }
          ]
         }
        },
        {
         "name": "HomeTeam_Fleetwood Town",
         "dtype": "bool",
         "stats": {
          "unique_count": 1,
          "nan_count": 0,
          "categories": [
           {
            "name": "False",
            "count": 5
           }
          ]
         }
        },
        {
         "name": "HomeTeam_Wolves",
         "dtype": "bool",
         "stats": {
          "unique_count": 1,
          "nan_count": 0,
          "categories": [
           {
            "name": "False",
            "count": 5
           }
          ]
         }
        },
        {
         "name": "HomeTeam_Cadiz",
         "dtype": "bool",
         "stats": {
          "unique_count": 1,
          "nan_count": 0,
          "categories": [
           {
            "name": "False",
            "count": 5
           }
          ]
         }
        },
        {
         "name": "HomeTeam_Juve Stabia",
         "dtype": "bool",
         "stats": {
          "unique_count": 1,
          "nan_count": 0,
          "categories": [
           {
            "name": "False",
            "count": 5
           }
          ]
         }
        },
        {
         "name": "HomeTeam_Accrington",
         "dtype": "bool",
         "stats": {
          "unique_count": 1,
          "nan_count": 0,
          "categories": [
           {
            "name": "False",
            "count": 5
           }
          ]
         }
        },
        {
         "name": "HomeTeam_Barrow",
         "dtype": "bool",
         "stats": {
          "unique_count": 1,
          "nan_count": 0,
          "categories": [
           {
            "name": "False",
            "count": 5
           }
          ]
         }
        },
        {
         "name": "HomeTeam_Foggia",
         "dtype": "bool",
         "stats": {
          "unique_count": 1,
          "nan_count": 0,
          "categories": [
           {
            "name": "False",
            "count": 5
           }
          ]
         }
        },
        {
         "name": "HomeTeam_Leverkusen",
         "dtype": "bool",
         "stats": {
          "unique_count": 1,
          "nan_count": 0,
          "categories": [
           {
            "name": "False",
            "count": 5
           }
          ]
         }
        },
        {
         "name": "HomeTeam_Benevento",
         "dtype": "bool",
         "stats": {
          "unique_count": 1,
          "nan_count": 0,
          "categories": [
           {
            "name": "False",
            "count": 5
           }
          ]
         }
        },
        {
         "name": "HomeTeam_Benfica",
         "dtype": "bool",
         "stats": {
          "unique_count": 1,
          "nan_count": 0,
          "categories": [
           {
            "name": "False",
            "count": 5
           }
          ]
         }
        },
        {
         "name": "HomeTeam_Eupen",
         "dtype": "bool",
         "stats": {
          "unique_count": 1,
          "nan_count": 0,
          "categories": [
           {
            "name": "False",
            "count": 5
           }
          ]
         }
        },
        {
         "name": "HomeTeam_Porto",
         "dtype": "bool",
         "stats": {
          "unique_count": 1,
          "nan_count": 0,
          "categories": [
           {
            "name": "False",
            "count": 5
           }
          ]
         }
        },
        {
         "name": "HomeTeam_Rangers",
         "dtype": "bool",
         "stats": {
          "unique_count": 1,
          "nan_count": 0,
          "categories": [
           {
            "name": "False",
            "count": 5
           }
          ]
         }
        },
        {
         "name": "HomeTeam_Hamburg",
         "dtype": "bool",
         "stats": {
          "unique_count": 1,
          "nan_count": 0,
          "categories": [
           {
            "name": "False",
            "count": 5
           }
          ]
         }
        },
        {
         "name": "HomeTeam_Moreirense",
         "dtype": "bool",
         "stats": {
          "unique_count": 1,
          "nan_count": 0,
          "categories": [
           {
            "name": "False",
            "count": 5
           }
          ]
         }
        },
        {
         "name": "HomeTeam_Standard",
         "dtype": "bool",
         "stats": {
          "unique_count": 1,
          "nan_count": 0,
          "categories": [
           {
            "name": "False",
            "count": 5
           }
          ]
         }
        },
        {
         "name": "_deepnote_index_column",
         "dtype": "int64"
        }
       ],
       "rows": [
        {
         "Country": "england",
         "League": 0,
         "Season": 1718,
         "Match_Date": "2017-08-11",
         "Home_Team": "Arsenal",
         "Away_Team": "Leicester",
         "Full_Time_Home_Team_Goals": 4,
         "Full_Time_Away_Team_Goals": 3,
         "Full_Time_Result": "H",
         "Home_Team_Shots": 27,
         "Away_Team_Shots": 6,
         "Home_Team_Shots_on_Target": 10,
         "Away_Team_Shots_on_Target": 3,
         "Home_Team_Corners": 9,
         "Away_Team_Corners": 4,
         "Home_Team_Yellow_Cards": 0,
         "Away_Team_Yellow_Cards": 1,
         "Home_Team_Red_Cards": 0,
         "Away_Team_Red_Cards": 0,
         "DayOfWeek": 4,
         "is_Weekend": 0,
         "Home_Team_Fouls_Committed": 9,
         "Away_Team_Fouls_Committed": 12,
         "over_2.5": 1,
         "Average_home_win_odds": 1.505,
         "Average_away_win_odds": 6.505,
         "Average_draw_odds": 4.46,
         "Average_over_2.5_goals_odds": 1.61,
         "Average_under_2.5_goals_odds": 2.32,
         "Average_Asian_Handicap_Home_odds": 0.425,
         "Average_Asian_Handicap_Away_odds": 2.02,
         "Close_home_win_odds": 1.49,
         "Close_draw_odds": 4.73,
         "Close_away_win_odds": 7.25,
         "has_favorite": 1,
         "Time_kick_off_bin": "Afternoon",
         "HomeTeam_Rotherham": "False",
         "HomeTeam_OFI Crete": "False",
         "HomeTeam_Barcelona B": "False",
         "HomeTeam_Queen of Sth": "False",
         "HomeTeam_Charleroi": "False",
         "HomeTeam_Mallorca": "False",
         "HomeTeam_Amiens": "False",
         "HomeTeam_PAOK": "False",
         "HomeTeam_Morecambe": "False",
         "HomeTeam_Arsenal": "True",
         "HomeTeam_Rodez": "False",
         "HomeTeam_Sociedad B": "False",
         "HomeTeam_Fuenlabrada": "False",
         "HomeTeam_Forfar": "False",
         "HomeTeam_Burnley": "False",
         "HomeTeam_Livingston": "False",
         "HomeTeam_Colchester": "False",
         "HomeTeam_Cittadella": "False",
         "HomeTeam_Sociedad": "False",
         "HomeTeam_Hibernian": "False",
         "HomeTeam_Sunderland": "False",
         "HomeTeam_Trapani": "False",
         "HomeTeam_Regensburg": "False",
         "HomeTeam_Reading": "False",
         "HomeTeam_Zaragoza": "False",
         "HomeTeam_Alanyaspor": "False",
         "HomeTeam_Cardiff": "False",
         "HomeTeam_Erzgebirge Aue": "False",
         "HomeTeam_Ankaragucu": "False",
         "HomeTeam_Mainz": "False",
         "HomeTeam_Bayern Munich": "False",
         "HomeTeam_Utrecht": "False",
         "HomeTeam_Estoril": "False",
         "HomeTeam_Paris SG": "False",
         "HomeTeam_St Pauli": "False",
         "HomeTeam_Heracles": "False",
         "HomeTeam_Valencia": "False",
         "HomeTeam_Ibiza": "False",
         "HomeTeam_Hearts": "False",
         "HomeTeam_Grenoble": "False",
         "HomeTeam_Sevilla B": "False",
         "HomeTeam_Denizlispor": "False",
         "HomeTeam_Morton": "False",
         "HomeTeam_Leganes": "False",
         "HomeTeam_Middlesbrough": "False",
         "HomeTeam_Sp Lisbon": "False",
         "HomeTeam_Ionikos": "False",
         "HomeTeam_Kelty Hearts": "False",
         "HomeTeam_Sheffield Weds": "False",
         "HomeTeam_Alaves": "False",
         "HomeTeam_Cremonese": "False",
         "HomeTeam_Liverpool": "False",
         "HomeTeam_Granada": "False",
         "HomeTeam_Aves": "False",
         "HomeTeam_Oviedo": "False",
         "HomeTeam_Bielefeld": "False",
         "HomeTeam_Milan": "False",
         "HomeTeam_Bradford": "False",
         "HomeTeam_Zwolle": "False",
         "HomeTeam_Falkirk": "False",
         "HomeTeam_Airdrie Utd": "False",
         "HomeTeam_Aberdeen": "False",
         "HomeTeam_Sabadell": "False",
         "HomeTeam_Sochaux": "False",
         "HomeTeam_Den Haag": "False",
         "HomeTeam_West Brom": "False",
         "HomeTeam_Tranmere": "False",
         "HomeTeam_Dunkerque": "False",
         "HomeTeam_Sampdoria": "False",
         "HomeTeam_PSV Eindhoven": "False",
         "HomeTeam_Oldham": "False",
         "HomeTeam_Heidenheim": "False",
         "HomeTeam_Brighton": "False",
         "HomeTeam_AFC Wimbledon": "False",
         "HomeTeam_Malaga": "False",
         "HomeTeam_Almeria": "False",
         "HomeTeam_Nantes": "False",
         "HomeTeam_Wehen": "False",
         "HomeTeam_Vitesse": "False",
         "HomeTeam_Levante": "False",
         "HomeTeam_Novara": "False",
         "HomeTeam_Guimaraes": "False",
         "HomeTeam_Norwich": "False",
         "HomeTeam_Pacos Ferreira": "False",
         "HomeTeam_Chesterfield": "False",
         "HomeTeam_Inverness C": "False",
         "HomeTeam_Giannina": "False",
         "HomeTeam_Espanol": "False",
         "HomeTeam_Braunschweig": "False",
         "HomeTeam_Oostende": "False",
         "HomeTeam_Gil Vicente": "False",
         "HomeTeam_Maritimo": "False",
         "HomeTeam_Niort": "False",
         "HomeTeam_Ingolstadt": "False",
         "HomeTeam_Montrose": "False",
         "HomeTeam_Barnet": "False",
         "HomeTeam_Osnabruck": "False",
         "HomeTeam_Troyes": "False",
         "HomeTeam_Dijon": "False",
         "HomeTeam_Ajaccio GFCO": "False",
         "HomeTeam_Dundee": "False",
         "HomeTeam_Larisa": "False",
         "HomeTeam_Southend": "False",
         "HomeTeam_Verona": "False",
         "HomeTeam_Goztep": "False",
         "HomeTeam_Genoa": "False",
         "HomeTeam_Cambridge": "False",
         "HomeTeam_Graafschap": "False",
         "HomeTeam_Angers": "False",
         "HomeTeam_Ath Bilbao": "False",
         "HomeTeam_Charlton": "False",
         "HomeTeam_East Fife": "False",
         "HomeTeam_Club Brugge": "False",
         "HomeTeam_NAC Breda": "False",
         "HomeTeam_Las Palmas": "False",
         "HomeTeam_Lazio": "False",
         "HomeTeam_Seraing": "False",
         "HomeTeam_Reus Deportiu": "False",
         "HomeTeam_Ajax": "False",
         "HomeTeam_Lincoln": "False",
         "HomeTeam_Nancy": "False",
         "HomeTeam_Frosinone": "False",
         "HomeTeam_Hull": "False",
         "HomeTeam_Chaves": "False",
         "HomeTeam_Rio Ave": "False",
         "HomeTeam_Cesena": "False",
         "HomeTeam_Amorebieta": "False",
         "HomeTeam_Rizespor": "False",
         "HomeTeam_Milton Keynes Dons": "False",
         "HomeTeam_Volos NFC": "False",
         "HomeTeam_Nacional": "False",
         "HomeTeam_Kaiserslautern": "False",
         "HomeTeam_Castellon": "False",
         "HomeTeam_Berwick": "False",
         "HomeTeam_Osmanlispor": "False",
         "HomeTeam_Bologna": "False",
         "HomeTeam_Barnsley": "False",
         "HomeTeam_Brentford": "False",
         "HomeTeam_Brescia": "False",
         "HomeTeam_Leeds": "False",
         "HomeTeam_Lorca": "False",
         "HomeTeam_Exeter": "False",
         "HomeTeam_Heerenveen": "False",
         "HomeTeam_Pro Vercelli": "False",
         "HomeTeam_Carpi": "False",
         "HomeTeam_Derby": "False",
         "HomeTeam_Burgos": "False",
         "HomeTeam_Forest Green": "False",
         "HomeTeam_QPR": "False",
         "HomeTeam_Santa Clara": "False",
         "HomeTeam_Bursaspor": "False",
         "HomeTeam_Sp Braga": "False",
         "HomeTeam_Blackburn": "False",
         "HomeTeam_Nijmegen": "False",
         "HomeTeam_Rochdale": "False",
         "HomeTeam_Grimsby": "False",
         "HomeTeam_Newcastle": "False",
         "HomeTeam_Freiburg": "False",
         "HomeTeam_Red Star": "False",
         "HomeTeam_Juventus": "False",
         "HomeTeam_Guingamp": "False",
         "HomeTeam_Salernitana": "False",
         "HomeTeam_St Mirren": "False",
         "HomeTeam_Hertha": "False",
         "HomeTeam_Aston Villa": "False",
         "HomeTeam_Salford": "False",
         "HomeTeam_St Truiden": "False",
         "HomeTeam_Yeni Malatyaspor": "False",
         "HomeTeam_Dresden": "False",
         "HomeTeam_Stenhousemuir": "False",
         "HomeTeam_Spezia": "False",
         "HomeTeam_Ajaccio": "False",
         "HomeTeam_AZ Alkmaar": "False",
         "HomeTeam_Augsburg": "False",
         "HomeTeam_Cove Rangers": "False",
         "HomeTeam_Darmstadt": "False",
         "HomeTeam_Aris": "False",
         "HomeTeam_Cordoba": "False",
         "HomeTeam_Werder Bremen": "False",
         "HomeTeam_Hoffenheim": "False",
         "HomeTeam_Harrogate": "False",
         "HomeTeam_Crewe": "False",
         "HomeTeam_Edinburgh City": "False",
         "HomeTeam_Auxerre": "False",
         "HomeTeam_Crotone": "False",
         "HomeTeam_Genclerbirligi": "False",
         "HomeTeam_Ponferradina": "False",
         "HomeTeam_Akhisar Belediyespor": "False",
         "HomeTeam_Farense": "False",
         "HomeTeam_Galatasaray": "False",
         "HomeTeam_Wurzburger Kickers": "False",
         "HomeTeam_Bari": "False",
         "HomeTeam_Stranraer": "False",
         "HomeTeam_Man United": "False",
         "HomeTeam_Perugia": "False",
         "HomeTeam_Karabukspor": "False",
         "HomeTeam_Caen": "False",
         "HomeTeam_Nott'm Forest": "False",
         "HomeTeam_Bordeaux": "False",
         "HomeTeam_Livorno": "False",
         "HomeTeam_Monza": "False",
         "HomeTeam_Bristol Rvs": "False",
         "HomeTeam_Holstein Kiel": "False",
         "HomeTeam_Fiorentina": "False",
         "HomeTeam_Sivasspor": "False",
         "HomeTeam_Trabzonspor": "False",
         "HomeTeam_Cowdenbeath": "False",
         "HomeTeam_Elche": "False",
         "HomeTeam_Paris FC": "False",
         "HomeTeam_Pau FC": "False",
         "HomeTeam_Portimonense": "False",
         "HomeTeam_Lamia": "False",
         "HomeTeam_Newport County": "False",
         "HomeTeam_Northampton": "False",
         "HomeTeam_Celta": "False",
         "HomeTeam_Hatayspor": "False",
         "HomeTeam_FC Koln": "False",
         "HomeTeam_Sassuolo": "False",
         "HomeTeam_Feirense": "False",
         "HomeTeam_Erzurum BB": "False",
         "HomeTeam_Wolfsburg": "False",
         "HomeTeam_Albion Rvs": "False",
         "HomeTeam_Waalwijk": "False",
         "HomeTeam_Duisburg": "False",
         "HomeTeam_Girona": "False",
         "HomeTeam_Kortrijk": "False",
         "HomeTeam_Beerschot VA": "False",
         "HomeTeam_Hamilton": "False",
         "HomeTeam_Waregem": "False",
         "HomeTeam_Crystal Palace": "False",
         "HomeTeam_Belenenses": "False",
         "HomeTeam_Dortmund": "False",
         "HomeTeam_Logrones": "False",
         "HomeTeam_Plymouth": "False",
         "HomeTeam_Peterboro": "False",
         "HomeTeam_Raith Rvs": "False",
         "HomeTeam_Sparta Rotterdam": "False",
         "HomeTeam_Orleans": "False",
         "HomeTeam_Magdeburg": "False",
         "HomeTeam_Gimnastic": "False",
         "HomeTeam_Paderborn": "False",
         "HomeTeam_Valenciennes": "False",
         "HomeTeam_Dumbarton": "False",
         "HomeTeam_Ayr": "False",
         "HomeTeam_Gillingham": "False",
         "HomeTeam_Avellino": "False",
         "HomeTeam_Ross County": "False",
         "HomeTeam_Inter": "False",
         "HomeTeam_Millwall": "False",
         "HomeTeam_Notts County": "False",
         "HomeTeam_Venezia": "False",
         "HomeTeam_Albacete": "False",
         "HomeTeam_Fulham": "False",
         "HomeTeam_Spal": "False",
         "HomeTeam_Twente": "False",
         "HomeTeam_Numancia": "False",
         "HomeTeam_Pescara": "False",
         "HomeTeam_Montpellier": "False",
         "HomeTeam_Sandhausen": "False",
         "HomeTeam_Vicenza": "False",
         "HomeTeam_Groningen": "False",
         "HomeTeam_Wycombe": "False",
         "HomeTeam_Marseille": "False",
         "HomeTeam_Atromitos": "False",
         "HomeTeam_Reggiana": "False",
         "HomeTeam_Go Ahead Eagles": "False",
         "HomeTeam_Anderlecht": "False",
         "HomeTeam_Carlisle": "False",
         "HomeTeam_Apollon": "False",
         "HomeTeam_Alcorcon": "False",
         "HomeTeam_Oud-Heverlee Leuven": "False",
         "HomeTeam_Hartlepool": "False",
         "HomeTeam_Birmingham": "False",
         "HomeTeam_Antwerp": "False",
         "HomeTeam_St Etienne": "False",
         "HomeTeam_Queens Park": "False",
         "HomeTeam_Ath Madrid": "False",
         "HomeTeam_Metz": "False",
         "HomeTeam_Ipswich": "False",
         "HomeTeam_Reims": "False",
         "HomeTeam_Vizela": "False",
         "HomeTeam_Arbroath": "False",
         "HomeTeam_Sheffield United": "False",
         "HomeTeam_Swindon": "False",
         "HomeTeam_Rennes": "False",
         "HomeTeam_Mechelen": "False",
         "HomeTeam_Elgin": "False",
         "HomeTeam_Napoli": "False",
         "HomeTeam_Bolton": "False",
         "HomeTeam_Man City": "False",
         "HomeTeam_Genk": "False",
         "HomeTeam_Blackpool": "False",
         "HomeTeam_Lecce": "False",
         "HomeTeam_Buyuksehyr": "False",
         "HomeTeam_Eibar": "False",
         "HomeTeam_Torino": "False",
         "HomeTeam_Bournemouth": "False",
         "HomeTeam_Chievo": "False",
         "HomeTeam_Strasbourg": "False",
         "HomeTeam_Pisa": "False",
         "HomeTeam_Olympiakos": "False",
         "HomeTeam_Dunfermline": "False",
         "HomeTeam_Chateauroux": "False",
         "HomeTeam_Arouca": "False",
         "HomeTeam_Excelsior": "False",
         "HomeTeam_Ascoli": "False",
         "HomeTeam_St. Gilloise": "False",
         "HomeTeam_Feyenoord": "False",
         "HomeTeam_Partick": "False",
         "HomeTeam_Scunthorpe": "False",
         "HomeTeam_Stuttgart": "False",
         "HomeTeam_Bastia": "False",
         "HomeTeam_Chambly": "False",
         "HomeTeam_RB Leipzig": "False",
         "HomeTeam_Doncaster": "False",
         "HomeTeam_Lille": "False",
         "HomeTeam_Setubal": "False",
         "HomeTeam_Cheltenham": "False",
         "HomeTeam_Brechin": "False",
         "HomeTeam_Parma": "False",
         "HomeTeam_Swansea": "False",
         "HomeTeam_Famalicao": "False",
         "HomeTeam_Dundee United": "False",
         "HomeTeam_Alessandria": "False",
         "HomeTeam_Atalanta": "False",
         "HomeTeam_Clyde": "False",
         "HomeTeam_Huesca": "False",
         "HomeTeam_Empoli": "False",
         "HomeTeam_Stirling": "False",
         "HomeTeam_Burton": "False",
         "HomeTeam_Sevilla": "False",
         "HomeTeam_Celtic": "False",
         "HomeTeam_Macclesfield": "False",
         "HomeTeam_Virtus Entella": "False",
         "HomeTeam_Sutton": "False",
         "HomeTeam_Preston": "False",
         "HomeTeam_Como": "False",
         "HomeTeam_Greuther Furth": "False",
         "HomeTeam_Chelsea": "False",
         "HomeTeam_Lyon": "False",
         "HomeTeam_Fenerbahce": "False",
         "HomeTeam_Getafe": "False",
         "HomeTeam_Santander": "False",
         "HomeTeam_Walsall": "False",
         "HomeTeam_Udinese": "False",
         "HomeTeam_Tondela": "False",
         "HomeTeam_Nice": "False",
         "HomeTeam_Extremadura UD": "False",
         "HomeTeam_Besiktas": "False",
         "HomeTeam_Reggina": "False",
         "HomeTeam_Monaco": "False",
         "HomeTeam_Lugo": "False",
         "HomeTeam_Valladolid": "False",
         "HomeTeam_West Ham": "False",
         "HomeTeam_Padova": "False",
         "HomeTeam_Oxford": "False",
         "HomeTeam_La Coruna": "False",
         "HomeTeam_Port Vale": "False",
         "HomeTeam_Ein Frankfurt": "False",
         "HomeTeam_Crawley Town": "False",
         "HomeTeam_Antalyaspor": "False",
         "HomeTeam_Clermont": "False",
         "HomeTeam_Willem II": "False",
         "HomeTeam_Leyton Orient": "False",
         "HomeTeam_Alloa": "False",
         "HomeTeam_Betis": "False",
         "HomeTeam_Shrewsbury": "False",
         "HomeTeam_Sp Gijon": "False",
         "HomeTeam_Quevilly Rouen": "False",
         "HomeTeam_Roma": "False",
         "HomeTeam_Hansa Rostock": "False",
         "HomeTeam_Mirandes": "False",
         "HomeTeam_Huddersfield": "False",
         "HomeTeam_VVV Venlo": "False",
         "HomeTeam_Mouscron": "False",
         "HomeTeam_Tottenham": "False",
         "HomeTeam_Real Madrid": "False",
         "HomeTeam_AEK": "False",
         "HomeTeam_Watford": "False",
         "HomeTeam_Southampton": "False",
         "HomeTeam_Waasland-Beveren": "False",
         "HomeTeam_M'gladbach": "False",
         "HomeTeam_Nurnberg": "False",
         "HomeTeam_Tenerife": "False",
         "HomeTeam_Ternana": "False",
         "HomeTeam_Panathinaikos": "False",
         "HomeTeam_Stoke": "False",
         "HomeTeam_Peterhead": "False",
         "HomeTeam_Bury": "False",
         "HomeTeam_Palermo": "False",
         "HomeTeam_For Sittard": "False",
         "HomeTeam_Villarreal": "False",
         "HomeTeam_Cosenza": "False",
         "HomeTeam_Motherwell": "False",
         "HomeTeam_Lens": "False",
         "HomeTeam_Boavista": "False",
         "HomeTeam_Beziers": "False",
         "HomeTeam_Leicester": "False",
         "HomeTeam_Apollon Apollon": "False",
         "HomeTeam_Nimes": "False",
         "HomeTeam_Gaziantep": "False",
         "HomeTeam_Pordenone": "False",
         "HomeTeam_St Johnstone": "False",
         "HomeTeam_Panetolikos": "False",
         "HomeTeam_Roda": "False",
         "HomeTeam_FC Emmen": "False",
         "HomeTeam_Bristol City": "False",
         "HomeTeam_Everton": "False",
         "HomeTeam_Union Berlin": "False",
         "HomeTeam_Wigan": "False",
         "HomeTeam_Karlsruhe": "False",
         "HomeTeam_Brest": "False",
         "HomeTeam_Xanthi": "False",
         "HomeTeam_Fortuna Dusseldorf": "False",
         "HomeTeam_Kayserispor": "False",
         "HomeTeam_Le Havre": "False",
         "HomeTeam_Stevenage": "False",
         "HomeTeam_Schalke 04": "False",
         "HomeTeam_Altay": "False",
         "HomeTeam_Lorient": "False",
         "HomeTeam_Karagumruk": "False",
         "HomeTeam_Portsmouth": "False",
         "HomeTeam_Barcelona": "False",
         "HomeTeam_Vallecano": "False",
         "HomeTeam_Asteras Tripolis": "False",
         "HomeTeam_Hannover": "False",
         "HomeTeam_Konyaspor": "False",
         "HomeTeam_Toulouse": "False",
         "HomeTeam_Kilmarnock": "False",
         "HomeTeam_Osasuna": "False",
         "HomeTeam_Cagliari": "False",
         "HomeTeam_Giresunspor": "False",
         "HomeTeam_Mansfield": "False",
         "HomeTeam_Panionios": "False",
         "HomeTeam_Bochum": "False",
         "HomeTeam_Leonesa": "False",
         "HomeTeam_Ad. Demirspor": "False",
         "HomeTeam_Cercle Brugge": "False",
         "HomeTeam_Kasimpasa": "False",
         "HomeTeam_Le Mans": "False",
         "HomeTeam_Coventry": "False",
         "HomeTeam_Rayo Majadahonda": "False",
         "HomeTeam_Luton": "False",
         "HomeTeam_Yeovil": "False",
         "HomeTeam_Cambuur": "False",
         "HomeTeam_Annan Athletic": "False",
         "HomeTeam_Gent": "False",
         "HomeTeam_Cartagena": "False",
         "HomeTeam_Fleetwood Town": "False",
         "HomeTeam_Wolves": "False",
         "HomeTeam_Cadiz": "False",
         "HomeTeam_Juve Stabia": "False",
         "HomeTeam_Accrington": "False",
         "HomeTeam_Barrow": "False",
         "HomeTeam_Foggia": "False",
         "HomeTeam_Leverkusen": "False",
         "HomeTeam_Benevento": "False",
         "HomeTeam_Benfica": "False",
         "HomeTeam_Eupen": "False",
         "HomeTeam_Porto": "False",
         "HomeTeam_Rangers": "False",
         "HomeTeam_Hamburg": "False",
         "HomeTeam_Moreirense": "False",
         "HomeTeam_Standard": "False",
         "_deepnote_index_column": 0
        },
        {
         "Country": "england",
         "League": 0,
         "Season": 1718,
         "Match_Date": "2017-08-12",
         "Home_Team": "Brighton",
         "Away_Team": "Man City",
         "Full_Time_Home_Team_Goals": 0,
         "Full_Time_Away_Team_Goals": 2,
         "Full_Time_Result": "A",
         "Home_Team_Shots": 6,
         "Away_Team_Shots": 14,
         "Home_Team_Shots_on_Target": 2,
         "Away_Team_Shots_on_Target": 4,
         "Home_Team_Corners": 3,
         "Away_Team_Corners": 10,
         "Home_Team_Yellow_Cards": 0,
         "Away_Team_Yellow_Cards": 2,
         "Home_Team_Red_Cards": 0,
         "Away_Team_Red_Cards": 0,
         "DayOfWeek": 5,
         "is_Weekend": 1,
         "Home_Team_Fouls_Committed": 6,
         "Away_Team_Fouls_Committed": 9,
         "over_2.5": 0,
         "Average_home_win_odds": 10.13125,
         "Average_away_win_odds": 1.3250000000000002,
         "Average_draw_odds": 5.268750000000001,
         "Average_over_2.5_goals_odds": 1.63,
         "Average_under_2.5_goals_odds": 2.27,
         "Average_Asian_Handicap_Home_odds": 1.705,
         "Average_Asian_Handicap_Away_odds": 1.96,
         "Close_home_win_odds": 11.75,
         "Close_draw_odds": 6.15,
         "Close_away_win_odds": 1.29,
         "has_favorite": 1,
         "Time_kick_off_bin": "Afternoon",
         "HomeTeam_Rotherham": "False",
         "HomeTeam_OFI Crete": "False",
         "HomeTeam_Barcelona B": "False",
         "HomeTeam_Queen of Sth": "False",
         "HomeTeam_Charleroi": "False",
         "HomeTeam_Mallorca": "False",
         "HomeTeam_Amiens": "False",
         "HomeTeam_PAOK": "False",
         "HomeTeam_Morecambe": "False",
         "HomeTeam_Arsenal": "False",
         "HomeTeam_Rodez": "False",
         "HomeTeam_Sociedad B": "False",
         "HomeTeam_Fuenlabrada": "False",
         "HomeTeam_Forfar": "False",
         "HomeTeam_Burnley": "False",
         "HomeTeam_Livingston": "False",
         "HomeTeam_Colchester": "False",
         "HomeTeam_Cittadella": "False",
         "HomeTeam_Sociedad": "False",
         "HomeTeam_Hibernian": "False",
         "HomeTeam_Sunderland": "False",
         "HomeTeam_Trapani": "False",
         "HomeTeam_Regensburg": "False",
         "HomeTeam_Reading": "False",
         "HomeTeam_Zaragoza": "False",
         "HomeTeam_Alanyaspor": "False",
         "HomeTeam_Cardiff": "False",
         "HomeTeam_Erzgebirge Aue": "False",
         "HomeTeam_Ankaragucu": "False",
         "HomeTeam_Mainz": "False",
         "HomeTeam_Bayern Munich": "False",
         "HomeTeam_Utrecht": "False",
         "HomeTeam_Estoril": "False",
         "HomeTeam_Paris SG": "False",
         "HomeTeam_St Pauli": "False",
         "HomeTeam_Heracles": "False",
         "HomeTeam_Valencia": "False",
         "HomeTeam_Ibiza": "False",
         "HomeTeam_Hearts": "False",
         "HomeTeam_Grenoble": "False",
         "HomeTeam_Sevilla B": "False",
         "HomeTeam_Denizlispor": "False",
         "HomeTeam_Morton": "False",
         "HomeTeam_Leganes": "False",
         "HomeTeam_Middlesbrough": "False",
         "HomeTeam_Sp Lisbon": "False",
         "HomeTeam_Ionikos": "False",
         "HomeTeam_Kelty Hearts": "False",
         "HomeTeam_Sheffield Weds": "False",
         "HomeTeam_Alaves": "False",
         "HomeTeam_Cremonese": "False",
         "HomeTeam_Liverpool": "False",
         "HomeTeam_Granada": "False",
         "HomeTeam_Aves": "False",
         "HomeTeam_Oviedo": "False",
         "HomeTeam_Bielefeld": "False",
         "HomeTeam_Milan": "False",
         "HomeTeam_Bradford": "False",
         "HomeTeam_Zwolle": "False",
         "HomeTeam_Falkirk": "False",
         "HomeTeam_Airdrie Utd": "False",
         "HomeTeam_Aberdeen": "False",
         "HomeTeam_Sabadell": "False",
         "HomeTeam_Sochaux": "False",
         "HomeTeam_Den Haag": "False",
         "HomeTeam_West Brom": "False",
         "HomeTeam_Tranmere": "False",
         "HomeTeam_Dunkerque": "False",
         "HomeTeam_Sampdoria": "False",
         "HomeTeam_PSV Eindhoven": "False",
         "HomeTeam_Oldham": "False",
         "HomeTeam_Heidenheim": "False",
         "HomeTeam_Brighton": "True",
         "HomeTeam_AFC Wimbledon": "False",
         "HomeTeam_Malaga": "False",
         "HomeTeam_Almeria": "False",
         "HomeTeam_Nantes": "False",
         "HomeTeam_Wehen": "False",
         "HomeTeam_Vitesse": "False",
         "HomeTeam_Levante": "False",
         "HomeTeam_Novara": "False",
         "HomeTeam_Guimaraes": "False",
         "HomeTeam_Norwich": "False",
         "HomeTeam_Pacos Ferreira": "False",
         "HomeTeam_Chesterfield": "False",
         "HomeTeam_Inverness C": "False",
         "HomeTeam_Giannina": "False",
         "HomeTeam_Espanol": "False",
         "HomeTeam_Braunschweig": "False",
         "HomeTeam_Oostende": "False",
         "HomeTeam_Gil Vicente": "False",
         "HomeTeam_Maritimo": "False",
         "HomeTeam_Niort": "False",
         "HomeTeam_Ingolstadt": "False",
         "HomeTeam_Montrose": "False",
         "HomeTeam_Barnet": "False",
         "HomeTeam_Osnabruck": "False",
         "HomeTeam_Troyes": "False",
         "HomeTeam_Dijon": "False",
         "HomeTeam_Ajaccio GFCO": "False",
         "HomeTeam_Dundee": "False",
         "HomeTeam_Larisa": "False",
         "HomeTeam_Southend": "False",
         "HomeTeam_Verona": "False",
         "HomeTeam_Goztep": "False",
         "HomeTeam_Genoa": "False",
         "HomeTeam_Cambridge": "False",
         "HomeTeam_Graafschap": "False",
         "HomeTeam_Angers": "False",
         "HomeTeam_Ath Bilbao": "False",
         "HomeTeam_Charlton": "False",
         "HomeTeam_East Fife": "False",
         "HomeTeam_Club Brugge": "False",
         "HomeTeam_NAC Breda": "False",
         "HomeTeam_Las Palmas": "False",
         "HomeTeam_Lazio": "False",
         "HomeTeam_Seraing": "False",
         "HomeTeam_Reus Deportiu": "False",
         "HomeTeam_Ajax": "False",
         "HomeTeam_Lincoln": "False",
         "HomeTeam_Nancy": "False",
         "HomeTeam_Frosinone": "False",
         "HomeTeam_Hull": "False",
         "HomeTeam_Chaves": "False",
         "HomeTeam_Rio Ave": "False",
         "HomeTeam_Cesena": "False",
         "HomeTeam_Amorebieta": "False",
         "HomeTeam_Rizespor": "False",
         "HomeTeam_Milton Keynes Dons": "False",
         "HomeTeam_Volos NFC": "False",
         "HomeTeam_Nacional": "False",
         "HomeTeam_Kaiserslautern": "False",
         "HomeTeam_Castellon": "False",
         "HomeTeam_Berwick": "False",
         "HomeTeam_Osmanlispor": "False",
         "HomeTeam_Bologna": "False",
         "HomeTeam_Barnsley": "False",
         "HomeTeam_Brentford": "False",
         "HomeTeam_Brescia": "False",
         "HomeTeam_Leeds": "False",
         "HomeTeam_Lorca": "False",
         "HomeTeam_Exeter": "False",
         "HomeTeam_Heerenveen": "False",
         "HomeTeam_Pro Vercelli": "False",
         "HomeTeam_Carpi": "False",
         "HomeTeam_Derby": "False",
         "HomeTeam_Burgos": "False",
         "HomeTeam_Forest Green": "False",
         "HomeTeam_QPR": "False",
         "HomeTeam_Santa Clara": "False",
         "HomeTeam_Bursaspor": "False",
         "HomeTeam_Sp Braga": "False",
         "HomeTeam_Blackburn": "False",
         "HomeTeam_Nijmegen": "False",
         "HomeTeam_Rochdale": "False",
         "HomeTeam_Grimsby": "False",
         "HomeTeam_Newcastle": "False",
         "HomeTeam_Freiburg": "False",
         "HomeTeam_Red Star": "False",
         "HomeTeam_Juventus": "False",
         "HomeTeam_Guingamp": "False",
         "HomeTeam_Salernitana": "False",
         "HomeTeam_St Mirren": "False",
         "HomeTeam_Hertha": "False",
         "HomeTeam_Aston Villa": "False",
         "HomeTeam_Salford": "False",
         "HomeTeam_St Truiden": "False",
         "HomeTeam_Yeni Malatyaspor": "False",
         "HomeTeam_Dresden": "False",
         "HomeTeam_Stenhousemuir": "False",
         "HomeTeam_Spezia": "False",
         "HomeTeam_Ajaccio": "False",
         "HomeTeam_AZ Alkmaar": "False",
         "HomeTeam_Augsburg": "False",
         "HomeTeam_Cove Rangers": "False",
         "HomeTeam_Darmstadt": "False",
         "HomeTeam_Aris": "False",
         "HomeTeam_Cordoba": "False",
         "HomeTeam_Werder Bremen": "False",
         "HomeTeam_Hoffenheim": "False",
         "HomeTeam_Harrogate": "False",
         "HomeTeam_Crewe": "False",
         "HomeTeam_Edinburgh City": "False",
         "HomeTeam_Auxerre": "False",
         "HomeTeam_Crotone": "False",
         "HomeTeam_Genclerbirligi": "False",
         "HomeTeam_Ponferradina": "False",
         "HomeTeam_Akhisar Belediyespor": "False",
         "HomeTeam_Farense": "False",
         "HomeTeam_Galatasaray": "False",
         "HomeTeam_Wurzburger Kickers": "False",
         "HomeTeam_Bari": "False",
         "HomeTeam_Stranraer": "False",
         "HomeTeam_Man United": "False",
         "HomeTeam_Perugia": "False",
         "HomeTeam_Karabukspor": "False",
         "HomeTeam_Caen": "False",
         "HomeTeam_Nott'm Forest": "False",
         "HomeTeam_Bordeaux": "False",
         "HomeTeam_Livorno": "False",
         "HomeTeam_Monza": "False",
         "HomeTeam_Bristol Rvs": "False",
         "HomeTeam_Holstein Kiel": "False",
         "HomeTeam_Fiorentina": "False",
         "HomeTeam_Sivasspor": "False",
         "HomeTeam_Trabzonspor": "False",
         "HomeTeam_Cowdenbeath": "False",
         "HomeTeam_Elche": "False",
         "HomeTeam_Paris FC": "False",
         "HomeTeam_Pau FC": "False",
         "HomeTeam_Portimonense": "False",
         "HomeTeam_Lamia": "False",
         "HomeTeam_Newport County": "False",
         "HomeTeam_Northampton": "False",
         "HomeTeam_Celta": "False",
         "HomeTeam_Hatayspor": "False",
         "HomeTeam_FC Koln": "False",
         "HomeTeam_Sassuolo": "False",
         "HomeTeam_Feirense": "False",
         "HomeTeam_Erzurum BB": "False",
         "HomeTeam_Wolfsburg": "False",
         "HomeTeam_Albion Rvs": "False",
         "HomeTeam_Waalwijk": "False",
         "HomeTeam_Duisburg": "False",
         "HomeTeam_Girona": "False",
         "HomeTeam_Kortrijk": "False",
         "HomeTeam_Beerschot VA": "False",
         "HomeTeam_Hamilton": "False",
         "HomeTeam_Waregem": "False",
         "HomeTeam_Crystal Palace": "False",
         "HomeTeam_Belenenses": "False",
         "HomeTeam_Dortmund": "False",
         "HomeTeam_Logrones": "False",
         "HomeTeam_Plymouth": "False",
         "HomeTeam_Peterboro": "False",
         "HomeTeam_Raith Rvs": "False",
         "HomeTeam_Sparta Rotterdam": "False",
         "HomeTeam_Orleans": "False",
         "HomeTeam_Magdeburg": "False",
         "HomeTeam_Gimnastic": "False",
         "HomeTeam_Paderborn": "False",
         "HomeTeam_Valenciennes": "False",
         "HomeTeam_Dumbarton": "False",
         "HomeTeam_Ayr": "False",
         "HomeTeam_Gillingham": "False",
         "HomeTeam_Avellino": "False",
         "HomeTeam_Ross County": "False",
         "HomeTeam_Inter": "False",
         "HomeTeam_Millwall": "False",
         "HomeTeam_Notts County": "False",
         "HomeTeam_Venezia": "False",
         "HomeTeam_Albacete": "False",
         "HomeTeam_Fulham": "False",
         "HomeTeam_Spal": "False",
         "HomeTeam_Twente": "False",
         "HomeTeam_Numancia": "False",
         "HomeTeam_Pescara": "False",
         "HomeTeam_Montpellier": "False",
         "HomeTeam_Sandhausen": "False",
         "HomeTeam_Vicenza": "False",
         "HomeTeam_Groningen": "False",
         "HomeTeam_Wycombe": "False",
         "HomeTeam_Marseille": "False",
         "HomeTeam_Atromitos": "False",
         "HomeTeam_Reggiana": "False",
         "HomeTeam_Go Ahead Eagles": "False",
         "HomeTeam_Anderlecht": "False",
         "HomeTeam_Carlisle": "False",
         "HomeTeam_Apollon": "False",
         "HomeTeam_Alcorcon": "False",
         "HomeTeam_Oud-Heverlee Leuven": "False",
         "HomeTeam_Hartlepool": "False",
         "HomeTeam_Birmingham": "False",
         "HomeTeam_Antwerp": "False",
         "HomeTeam_St Etienne": "False",
         "HomeTeam_Queens Park": "False",
         "HomeTeam_Ath Madrid": "False",
         "HomeTeam_Metz": "False",
         "HomeTeam_Ipswich": "False",
         "HomeTeam_Reims": "False",
         "HomeTeam_Vizela": "False",
         "HomeTeam_Arbroath": "False",
         "HomeTeam_Sheffield United": "False",
         "HomeTeam_Swindon": "False",
         "HomeTeam_Rennes": "False",
         "HomeTeam_Mechelen": "False",
         "HomeTeam_Elgin": "False",
         "HomeTeam_Napoli": "False",
         "HomeTeam_Bolton": "False",
         "HomeTeam_Man City": "False",
         "HomeTeam_Genk": "False",
         "HomeTeam_Blackpool": "False",
         "HomeTeam_Lecce": "False",
         "HomeTeam_Buyuksehyr": "False",
         "HomeTeam_Eibar": "False",
         "HomeTeam_Torino": "False",
         "HomeTeam_Bournemouth": "False",
         "HomeTeam_Chievo": "False",
         "HomeTeam_Strasbourg": "False",
         "HomeTeam_Pisa": "False",
         "HomeTeam_Olympiakos": "False",
         "HomeTeam_Dunfermline": "False",
         "HomeTeam_Chateauroux": "False",
         "HomeTeam_Arouca": "False",
         "HomeTeam_Excelsior": "False",
         "HomeTeam_Ascoli": "False",
         "HomeTeam_St. Gilloise": "False",
         "HomeTeam_Feyenoord": "False",
         "HomeTeam_Partick": "False",
         "HomeTeam_Scunthorpe": "False",
         "HomeTeam_Stuttgart": "False",
         "HomeTeam_Bastia": "False",
         "HomeTeam_Chambly": "False",
         "HomeTeam_RB Leipzig": "False",
         "HomeTeam_Doncaster": "False",
         "HomeTeam_Lille": "False",
         "HomeTeam_Setubal": "False",
         "HomeTeam_Cheltenham": "False",
         "HomeTeam_Brechin": "False",
         "HomeTeam_Parma": "False",
         "HomeTeam_Swansea": "False",
         "HomeTeam_Famalicao": "False",
         "HomeTeam_Dundee United": "False",
         "HomeTeam_Alessandria": "False",
         "HomeTeam_Atalanta": "False",
         "HomeTeam_Clyde": "False",
         "HomeTeam_Huesca": "False",
         "HomeTeam_Empoli": "False",
         "HomeTeam_Stirling": "False",
         "HomeTeam_Burton": "False",
         "HomeTeam_Sevilla": "False",
         "HomeTeam_Celtic": "False",
         "HomeTeam_Macclesfield": "False",
         "HomeTeam_Virtus Entella": "False",
         "HomeTeam_Sutton": "False",
         "HomeTeam_Preston": "False",
         "HomeTeam_Como": "False",
         "HomeTeam_Greuther Furth": "False",
         "HomeTeam_Chelsea": "False",
         "HomeTeam_Lyon": "False",
         "HomeTeam_Fenerbahce": "False",
         "HomeTeam_Getafe": "False",
         "HomeTeam_Santander": "False",
         "HomeTeam_Walsall": "False",
         "HomeTeam_Udinese": "False",
         "HomeTeam_Tondela": "False",
         "HomeTeam_Nice": "False",
         "HomeTeam_Extremadura UD": "False",
         "HomeTeam_Besiktas": "False",
         "HomeTeam_Reggina": "False",
         "HomeTeam_Monaco": "False",
         "HomeTeam_Lugo": "False",
         "HomeTeam_Valladolid": "False",
         "HomeTeam_West Ham": "False",
         "HomeTeam_Padova": "False",
         "HomeTeam_Oxford": "False",
         "HomeTeam_La Coruna": "False",
         "HomeTeam_Port Vale": "False",
         "HomeTeam_Ein Frankfurt": "False",
         "HomeTeam_Crawley Town": "False",
         "HomeTeam_Antalyaspor": "False",
         "HomeTeam_Clermont": "False",
         "HomeTeam_Willem II": "False",
         "HomeTeam_Leyton Orient": "False",
         "HomeTeam_Alloa": "False",
         "HomeTeam_Betis": "False",
         "HomeTeam_Shrewsbury": "False",
         "HomeTeam_Sp Gijon": "False",
         "HomeTeam_Quevilly Rouen": "False",
         "HomeTeam_Roma": "False",
         "HomeTeam_Hansa Rostock": "False",
         "HomeTeam_Mirandes": "False",
         "HomeTeam_Huddersfield": "False",
         "HomeTeam_VVV Venlo": "False",
         "HomeTeam_Mouscron": "False",
         "HomeTeam_Tottenham": "False",
         "HomeTeam_Real Madrid": "False",
         "HomeTeam_AEK": "False",
         "HomeTeam_Watford": "False",
         "HomeTeam_Southampton": "False",
         "HomeTeam_Waasland-Beveren": "False",
         "HomeTeam_M'gladbach": "False",
         "HomeTeam_Nurnberg": "False",
         "HomeTeam_Tenerife": "False",
         "HomeTeam_Ternana": "False",
         "HomeTeam_Panathinaikos": "False",
         "HomeTeam_Stoke": "False",
         "HomeTeam_Peterhead": "False",
         "HomeTeam_Bury": "False",
         "HomeTeam_Palermo": "False",
         "HomeTeam_For Sittard": "False",
         "HomeTeam_Villarreal": "False",
         "HomeTeam_Cosenza": "False",
         "HomeTeam_Motherwell": "False",
         "HomeTeam_Lens": "False",
         "HomeTeam_Boavista": "False",
         "HomeTeam_Beziers": "False",
         "HomeTeam_Leicester": "False",
         "HomeTeam_Apollon Apollon": "False",
         "HomeTeam_Nimes": "False",
         "HomeTeam_Gaziantep": "False",
         "HomeTeam_Pordenone": "False",
         "HomeTeam_St Johnstone": "False",
         "HomeTeam_Panetolikos": "False",
         "HomeTeam_Roda": "False",
         "HomeTeam_FC Emmen": "False",
         "HomeTeam_Bristol City": "False",
         "HomeTeam_Everton": "False",
         "HomeTeam_Union Berlin": "False",
         "HomeTeam_Wigan": "False",
         "HomeTeam_Karlsruhe": "False",
         "HomeTeam_Brest": "False",
         "HomeTeam_Xanthi": "False",
         "HomeTeam_Fortuna Dusseldorf": "False",
         "HomeTeam_Kayserispor": "False",
         "HomeTeam_Le Havre": "False",
         "HomeTeam_Stevenage": "False",
         "HomeTeam_Schalke 04": "False",
         "HomeTeam_Altay": "False",
         "HomeTeam_Lorient": "False",
         "HomeTeam_Karagumruk": "False",
         "HomeTeam_Portsmouth": "False",
         "HomeTeam_Barcelona": "False",
         "HomeTeam_Vallecano": "False",
         "HomeTeam_Asteras Tripolis": "False",
         "HomeTeam_Hannover": "False",
         "HomeTeam_Konyaspor": "False",
         "HomeTeam_Toulouse": "False",
         "HomeTeam_Kilmarnock": "False",
         "HomeTeam_Osasuna": "False",
         "HomeTeam_Cagliari": "False",
         "HomeTeam_Giresunspor": "False",
         "HomeTeam_Mansfield": "False",
         "HomeTeam_Panionios": "False",
         "HomeTeam_Bochum": "False",
         "HomeTeam_Leonesa": "False",
         "HomeTeam_Ad. Demirspor": "False",
         "HomeTeam_Cercle Brugge": "False",
         "HomeTeam_Kasimpasa": "False",
         "HomeTeam_Le Mans": "False",
         "HomeTeam_Coventry": "False",
         "HomeTeam_Rayo Majadahonda": "False",
         "HomeTeam_Luton": "False",
         "HomeTeam_Yeovil": "False",
         "HomeTeam_Cambuur": "False",
         "HomeTeam_Annan Athletic": "False",
         "HomeTeam_Gent": "False",
         "HomeTeam_Cartagena": "False",
         "HomeTeam_Fleetwood Town": "False",
         "HomeTeam_Wolves": "False",
         "HomeTeam_Cadiz": "False",
         "HomeTeam_Juve Stabia": "False",
         "HomeTeam_Accrington": "False",
         "HomeTeam_Barrow": "False",
         "HomeTeam_Foggia": "False",
         "HomeTeam_Leverkusen": "False",
         "HomeTeam_Benevento": "False",
         "HomeTeam_Benfica": "False",
         "HomeTeam_Eupen": "False",
         "HomeTeam_Porto": "False",
         "HomeTeam_Rangers": "False",
         "HomeTeam_Hamburg": "False",
         "HomeTeam_Moreirense": "False",
         "HomeTeam_Standard": "False",
         "_deepnote_index_column": 1
        },
        {
         "Country": "england",
         "League": 0,
         "Season": 1718,
         "Match_Date": "2017-08-12",
         "Home_Team": "Crystal Palace",
         "Away_Team": "Huddersfield",
         "Full_Time_Home_Team_Goals": 0,
         "Full_Time_Away_Team_Goals": 3,
         "Full_Time_Result": "A",
         "Home_Team_Shots": 14,
         "Away_Team_Shots": 8,
         "Home_Team_Shots_on_Target": 4,
         "Away_Team_Shots_on_Target": 6,
         "Home_Team_Corners": 12,
         "Away_Team_Corners": 9,
         "Home_Team_Yellow_Cards": 1,
         "Away_Team_Yellow_Cards": 3,
         "Home_Team_Red_Cards": 0,
         "Away_Team_Red_Cards": 0,
         "DayOfWeek": 5,
         "is_Weekend": 1,
         "Home_Team_Fouls_Committed": 7,
         "Away_Team_Fouls_Committed": 19,
         "over_2.5": 1,
         "Average_home_win_odds": 1.81875,
         "Average_away_win_odds": 4.8225,
         "Average_draw_odds": 3.4975,
         "Average_over_2.5_goals_odds": 2.11,
         "Average_under_2.5_goals_odds": 1.72,
         "Average_Asian_Handicap_Home_odds": 0.6499999999999999,
         "Average_Asian_Handicap_Away_odds": 1.83,
         "Close_home_win_odds": 1.79,
         "Close_draw_odds": 3.56,
         "Close_away_win_odds": 5.51,
         "has_favorite": 1,
         "Time_kick_off_bin": "Afternoon",
         "HomeTeam_Rotherham": "False",
         "HomeTeam_OFI Crete": "False",
         "HomeTeam_Barcelona B": "False",
         "HomeTeam_Queen of Sth": "False",
         "HomeTeam_Charleroi": "False",
         "HomeTeam_Mallorca": "False",
         "HomeTeam_Amiens": "False",
         "HomeTeam_PAOK": "False",
         "HomeTeam_Morecambe": "False",
         "HomeTeam_Arsenal": "False",
         "HomeTeam_Rodez": "False",
         "HomeTeam_Sociedad B": "False",
         "HomeTeam_Fuenlabrada": "False",
         "HomeTeam_Forfar": "False",
         "HomeTeam_Burnley": "False",
         "HomeTeam_Livingston": "False",
         "HomeTeam_Colchester": "False",
         "HomeTeam_Cittadella": "False",
         "HomeTeam_Sociedad": "False",
         "HomeTeam_Hibernian": "False",
         "HomeTeam_Sunderland": "False",
         "HomeTeam_Trapani": "False",
         "HomeTeam_Regensburg": "False",
         "HomeTeam_Reading": "False",
         "HomeTeam_Zaragoza": "False",
         "HomeTeam_Alanyaspor": "False",
         "HomeTeam_Cardiff": "False",
         "HomeTeam_Erzgebirge Aue": "False",
         "HomeTeam_Ankaragucu": "False",
         "HomeTeam_Mainz": "False",
         "HomeTeam_Bayern Munich": "False",
         "HomeTeam_Utrecht": "False",
         "HomeTeam_Estoril": "False",
         "HomeTeam_Paris SG": "False",
         "HomeTeam_St Pauli": "False",
         "HomeTeam_Heracles": "False",
         "HomeTeam_Valencia": "False",
         "HomeTeam_Ibiza": "False",
         "HomeTeam_Hearts": "False",
         "HomeTeam_Grenoble": "False",
         "HomeTeam_Sevilla B": "False",
         "HomeTeam_Denizlispor": "False",
         "HomeTeam_Morton": "False",
         "HomeTeam_Leganes": "False",
         "HomeTeam_Middlesbrough": "False",
         "HomeTeam_Sp Lisbon": "False",
         "HomeTeam_Ionikos": "False",
         "HomeTeam_Kelty Hearts": "False",
         "HomeTeam_Sheffield Weds": "False",
         "HomeTeam_Alaves": "False",
         "HomeTeam_Cremonese": "False",
         "HomeTeam_Liverpool": "False",
         "HomeTeam_Granada": "False",
         "HomeTeam_Aves": "False",
         "HomeTeam_Oviedo": "False",
         "HomeTeam_Bielefeld": "False",
         "HomeTeam_Milan": "False",
         "HomeTeam_Bradford": "False",
         "HomeTeam_Zwolle": "False",
         "HomeTeam_Falkirk": "False",
         "HomeTeam_Airdrie Utd": "False",
         "HomeTeam_Aberdeen": "False",
         "HomeTeam_Sabadell": "False",
         "HomeTeam_Sochaux": "False",
         "HomeTeam_Den Haag": "False",
         "HomeTeam_West Brom": "False",
         "HomeTeam_Tranmere": "False",
         "HomeTeam_Dunkerque": "False",
         "HomeTeam_Sampdoria": "False",
         "HomeTeam_PSV Eindhoven": "False",
         "HomeTeam_Oldham": "False",
         "HomeTeam_Heidenheim": "False",
         "HomeTeam_Brighton": "False",
         "HomeTeam_AFC Wimbledon": "False",
         "HomeTeam_Malaga": "False",
         "HomeTeam_Almeria": "False",
         "HomeTeam_Nantes": "False",
         "HomeTeam_Wehen": "False",
         "HomeTeam_Vitesse": "False",
         "HomeTeam_Levante": "False",
         "HomeTeam_Novara": "False",
         "HomeTeam_Guimaraes": "False",
         "HomeTeam_Norwich": "False",
         "HomeTeam_Pacos Ferreira": "False",
         "HomeTeam_Chesterfield": "False",
         "HomeTeam_Inverness C": "False",
         "HomeTeam_Giannina": "False",
         "HomeTeam_Espanol": "False",
         "HomeTeam_Braunschweig": "False",
         "HomeTeam_Oostende": "False",
         "HomeTeam_Gil Vicente": "False",
         "HomeTeam_Maritimo": "False",
         "HomeTeam_Niort": "False",
         "HomeTeam_Ingolstadt": "False",
         "HomeTeam_Montrose": "False",
         "HomeTeam_Barnet": "False",
         "HomeTeam_Osnabruck": "False",
         "HomeTeam_Troyes": "False",
         "HomeTeam_Dijon": "False",
         "HomeTeam_Ajaccio GFCO": "False",
         "HomeTeam_Dundee": "False",
         "HomeTeam_Larisa": "False",
         "HomeTeam_Southend": "False",
         "HomeTeam_Verona": "False",
         "HomeTeam_Goztep": "False",
         "HomeTeam_Genoa": "False",
         "HomeTeam_Cambridge": "False",
         "HomeTeam_Graafschap": "False",
         "HomeTeam_Angers": "False",
         "HomeTeam_Ath Bilbao": "False",
         "HomeTeam_Charlton": "False",
         "HomeTeam_East Fife": "False",
         "HomeTeam_Club Brugge": "False",
         "HomeTeam_NAC Breda": "False",
         "HomeTeam_Las Palmas": "False",
         "HomeTeam_Lazio": "False",
         "HomeTeam_Seraing": "False",
         "HomeTeam_Reus Deportiu": "False",
         "HomeTeam_Ajax": "False",
         "HomeTeam_Lincoln": "False",
         "HomeTeam_Nancy": "False",
         "HomeTeam_Frosinone": "False",
         "HomeTeam_Hull": "False",
         "HomeTeam_Chaves": "False",
         "HomeTeam_Rio Ave": "False",
         "HomeTeam_Cesena": "False",
         "HomeTeam_Amorebieta": "False",
         "HomeTeam_Rizespor": "False",
         "HomeTeam_Milton Keynes Dons": "False",
         "HomeTeam_Volos NFC": "False",
         "HomeTeam_Nacional": "False",
         "HomeTeam_Kaiserslautern": "False",
         "HomeTeam_Castellon": "False",
         "HomeTeam_Berwick": "False",
         "HomeTeam_Osmanlispor": "False",
         "HomeTeam_Bologna": "False",
         "HomeTeam_Barnsley": "False",
         "HomeTeam_Brentford": "False",
         "HomeTeam_Brescia": "False",
         "HomeTeam_Leeds": "False",
         "HomeTeam_Lorca": "False",
         "HomeTeam_Exeter": "False",
         "HomeTeam_Heerenveen": "False",
         "HomeTeam_Pro Vercelli": "False",
         "HomeTeam_Carpi": "False",
         "HomeTeam_Derby": "False",
         "HomeTeam_Burgos": "False",
         "HomeTeam_Forest Green": "False",
         "HomeTeam_QPR": "False",
         "HomeTeam_Santa Clara": "False",
         "HomeTeam_Bursaspor": "False",
         "HomeTeam_Sp Braga": "False",
         "HomeTeam_Blackburn": "False",
         "HomeTeam_Nijmegen": "False",
         "HomeTeam_Rochdale": "False",
         "HomeTeam_Grimsby": "False",
         "HomeTeam_Newcastle": "False",
         "HomeTeam_Freiburg": "False",
         "HomeTeam_Red Star": "False",
         "HomeTeam_Juventus": "False",
         "HomeTeam_Guingamp": "False",
         "HomeTeam_Salernitana": "False",
         "HomeTeam_St Mirren": "False",
         "HomeTeam_Hertha": "False",
         "HomeTeam_Aston Villa": "False",
         "HomeTeam_Salford": "False",
         "HomeTeam_St Truiden": "False",
         "HomeTeam_Yeni Malatyaspor": "False",
         "HomeTeam_Dresden": "False",
         "HomeTeam_Stenhousemuir": "False",
         "HomeTeam_Spezia": "False",
         "HomeTeam_Ajaccio": "False",
         "HomeTeam_AZ Alkmaar": "False",
         "HomeTeam_Augsburg": "False",
         "HomeTeam_Cove Rangers": "False",
         "HomeTeam_Darmstadt": "False",
         "HomeTeam_Aris": "False",
         "HomeTeam_Cordoba": "False",
         "HomeTeam_Werder Bremen": "False",
         "HomeTeam_Hoffenheim": "False",
         "HomeTeam_Harrogate": "False",
         "HomeTeam_Crewe": "False",
         "HomeTeam_Edinburgh City": "False",
         "HomeTeam_Auxerre": "False",
         "HomeTeam_Crotone": "False",
         "HomeTeam_Genclerbirligi": "False",
         "HomeTeam_Ponferradina": "False",
         "HomeTeam_Akhisar Belediyespor": "False",
         "HomeTeam_Farense": "False",
         "HomeTeam_Galatasaray": "False",
         "HomeTeam_Wurzburger Kickers": "False",
         "HomeTeam_Bari": "False",
         "HomeTeam_Stranraer": "False",
         "HomeTeam_Man United": "False",
         "HomeTeam_Perugia": "False",
         "HomeTeam_Karabukspor": "False",
         "HomeTeam_Caen": "False",
         "HomeTeam_Nott'm Forest": "False",
         "HomeTeam_Bordeaux": "False",
         "HomeTeam_Livorno": "False",
         "HomeTeam_Monza": "False",
         "HomeTeam_Bristol Rvs": "False",
         "HomeTeam_Holstein Kiel": "False",
         "HomeTeam_Fiorentina": "False",
         "HomeTeam_Sivasspor": "False",
         "HomeTeam_Trabzonspor": "False",
         "HomeTeam_Cowdenbeath": "False",
         "HomeTeam_Elche": "False",
         "HomeTeam_Paris FC": "False",
         "HomeTeam_Pau FC": "False",
         "HomeTeam_Portimonense": "False",
         "HomeTeam_Lamia": "False",
         "HomeTeam_Newport County": "False",
         "HomeTeam_Northampton": "False",
         "HomeTeam_Celta": "False",
         "HomeTeam_Hatayspor": "False",
         "HomeTeam_FC Koln": "False",
         "HomeTeam_Sassuolo": "False",
         "HomeTeam_Feirense": "False",
         "HomeTeam_Erzurum BB": "False",
         "HomeTeam_Wolfsburg": "False",
         "HomeTeam_Albion Rvs": "False",
         "HomeTeam_Waalwijk": "False",
         "HomeTeam_Duisburg": "False",
         "HomeTeam_Girona": "False",
         "HomeTeam_Kortrijk": "False",
         "HomeTeam_Beerschot VA": "False",
         "HomeTeam_Hamilton": "False",
         "HomeTeam_Waregem": "False",
         "HomeTeam_Crystal Palace": "True",
         "HomeTeam_Belenenses": "False",
         "HomeTeam_Dortmund": "False",
         "HomeTeam_Logrones": "False",
         "HomeTeam_Plymouth": "False",
         "HomeTeam_Peterboro": "False",
         "HomeTeam_Raith Rvs": "False",
         "HomeTeam_Sparta Rotterdam": "False",
         "HomeTeam_Orleans": "False",
         "HomeTeam_Magdeburg": "False",
         "HomeTeam_Gimnastic": "False",
         "HomeTeam_Paderborn": "False",
         "HomeTeam_Valenciennes": "False",
         "HomeTeam_Dumbarton": "False",
         "HomeTeam_Ayr": "False",
         "HomeTeam_Gillingham": "False",
         "HomeTeam_Avellino": "False",
         "HomeTeam_Ross County": "False",
         "HomeTeam_Inter": "False",
         "HomeTeam_Millwall": "False",
         "HomeTeam_Notts County": "False",
         "HomeTeam_Venezia": "False",
         "HomeTeam_Albacete": "False",
         "HomeTeam_Fulham": "False",
         "HomeTeam_Spal": "False",
         "HomeTeam_Twente": "False",
         "HomeTeam_Numancia": "False",
         "HomeTeam_Pescara": "False",
         "HomeTeam_Montpellier": "False",
         "HomeTeam_Sandhausen": "False",
         "HomeTeam_Vicenza": "False",
         "HomeTeam_Groningen": "False",
         "HomeTeam_Wycombe": "False",
         "HomeTeam_Marseille": "False",
         "HomeTeam_Atromitos": "False",
         "HomeTeam_Reggiana": "False",
         "HomeTeam_Go Ahead Eagles": "False",
         "HomeTeam_Anderlecht": "False",
         "HomeTeam_Carlisle": "False",
         "HomeTeam_Apollon": "False",
         "HomeTeam_Alcorcon": "False",
         "HomeTeam_Oud-Heverlee Leuven": "False",
         "HomeTeam_Hartlepool": "False",
         "HomeTeam_Birmingham": "False",
         "HomeTeam_Antwerp": "False",
         "HomeTeam_St Etienne": "False",
         "HomeTeam_Queens Park": "False",
         "HomeTeam_Ath Madrid": "False",
         "HomeTeam_Metz": "False",
         "HomeTeam_Ipswich": "False",
         "HomeTeam_Reims": "False",
         "HomeTeam_Vizela": "False",
         "HomeTeam_Arbroath": "False",
         "HomeTeam_Sheffield United": "False",
         "HomeTeam_Swindon": "False",
         "HomeTeam_Rennes": "False",
         "HomeTeam_Mechelen": "False",
         "HomeTeam_Elgin": "False",
         "HomeTeam_Napoli": "False",
         "HomeTeam_Bolton": "False",
         "HomeTeam_Man City": "False",
         "HomeTeam_Genk": "False",
         "HomeTeam_Blackpool": "False",
         "HomeTeam_Lecce": "False",
         "HomeTeam_Buyuksehyr": "False",
         "HomeTeam_Eibar": "False",
         "HomeTeam_Torino": "False",
         "HomeTeam_Bournemouth": "False",
         "HomeTeam_Chievo": "False",
         "HomeTeam_Strasbourg": "False",
         "HomeTeam_Pisa": "False",
         "HomeTeam_Olympiakos": "False",
         "HomeTeam_Dunfermline": "False",
         "HomeTeam_Chateauroux": "False",
         "HomeTeam_Arouca": "False",
         "HomeTeam_Excelsior": "False",
         "HomeTeam_Ascoli": "False",
         "HomeTeam_St. Gilloise": "False",
         "HomeTeam_Feyenoord": "False",
         "HomeTeam_Partick": "False",
         "HomeTeam_Scunthorpe": "False",
         "HomeTeam_Stuttgart": "False",
         "HomeTeam_Bastia": "False",
         "HomeTeam_Chambly": "False",
         "HomeTeam_RB Leipzig": "False",
         "HomeTeam_Doncaster": "False",
         "HomeTeam_Lille": "False",
         "HomeTeam_Setubal": "False",
         "HomeTeam_Cheltenham": "False",
         "HomeTeam_Brechin": "False",
         "HomeTeam_Parma": "False",
         "HomeTeam_Swansea": "False",
         "HomeTeam_Famalicao": "False",
         "HomeTeam_Dundee United": "False",
         "HomeTeam_Alessandria": "False",
         "HomeTeam_Atalanta": "False",
         "HomeTeam_Clyde": "False",
         "HomeTeam_Huesca": "False",
         "HomeTeam_Empoli": "False",
         "HomeTeam_Stirling": "False",
         "HomeTeam_Burton": "False",
         "HomeTeam_Sevilla": "False",
         "HomeTeam_Celtic": "False",
         "HomeTeam_Macclesfield": "False",
         "HomeTeam_Virtus Entella": "False",
         "HomeTeam_Sutton": "False",
         "HomeTeam_Preston": "False",
         "HomeTeam_Como": "False",
         "HomeTeam_Greuther Furth": "False",
         "HomeTeam_Chelsea": "False",
         "HomeTeam_Lyon": "False",
         "HomeTeam_Fenerbahce": "False",
         "HomeTeam_Getafe": "False",
         "HomeTeam_Santander": "False",
         "HomeTeam_Walsall": "False",
         "HomeTeam_Udinese": "False",
         "HomeTeam_Tondela": "False",
         "HomeTeam_Nice": "False",
         "HomeTeam_Extremadura UD": "False",
         "HomeTeam_Besiktas": "False",
         "HomeTeam_Reggina": "False",
         "HomeTeam_Monaco": "False",
         "HomeTeam_Lugo": "False",
         "HomeTeam_Valladolid": "False",
         "HomeTeam_West Ham": "False",
         "HomeTeam_Padova": "False",
         "HomeTeam_Oxford": "False",
         "HomeTeam_La Coruna": "False",
         "HomeTeam_Port Vale": "False",
         "HomeTeam_Ein Frankfurt": "False",
         "HomeTeam_Crawley Town": "False",
         "HomeTeam_Antalyaspor": "False",
         "HomeTeam_Clermont": "False",
         "HomeTeam_Willem II": "False",
         "HomeTeam_Leyton Orient": "False",
         "HomeTeam_Alloa": "False",
         "HomeTeam_Betis": "False",
         "HomeTeam_Shrewsbury": "False",
         "HomeTeam_Sp Gijon": "False",
         "HomeTeam_Quevilly Rouen": "False",
         "HomeTeam_Roma": "False",
         "HomeTeam_Hansa Rostock": "False",
         "HomeTeam_Mirandes": "False",
         "HomeTeam_Huddersfield": "False",
         "HomeTeam_VVV Venlo": "False",
         "HomeTeam_Mouscron": "False",
         "HomeTeam_Tottenham": "False",
         "HomeTeam_Real Madrid": "False",
         "HomeTeam_AEK": "False",
         "HomeTeam_Watford": "False",
         "HomeTeam_Southampton": "False",
         "HomeTeam_Waasland-Beveren": "False",
         "HomeTeam_M'gladbach": "False",
         "HomeTeam_Nurnberg": "False",
         "HomeTeam_Tenerife": "False",
         "HomeTeam_Ternana": "False",
         "HomeTeam_Panathinaikos": "False",
         "HomeTeam_Stoke": "False",
         "HomeTeam_Peterhead": "False",
         "HomeTeam_Bury": "False",
         "HomeTeam_Palermo": "False",
         "HomeTeam_For Sittard": "False",
         "HomeTeam_Villarreal": "False",
         "HomeTeam_Cosenza": "False",
         "HomeTeam_Motherwell": "False",
         "HomeTeam_Lens": "False",
         "HomeTeam_Boavista": "False",
         "HomeTeam_Beziers": "False",
         "HomeTeam_Leicester": "False",
         "HomeTeam_Apollon Apollon": "False",
         "HomeTeam_Nimes": "False",
         "HomeTeam_Gaziantep": "False",
         "HomeTeam_Pordenone": "False",
         "HomeTeam_St Johnstone": "False",
         "HomeTeam_Panetolikos": "False",
         "HomeTeam_Roda": "False",
         "HomeTeam_FC Emmen": "False",
         "HomeTeam_Bristol City": "False",
         "HomeTeam_Everton": "False",
         "HomeTeam_Union Berlin": "False",
         "HomeTeam_Wigan": "False",
         "HomeTeam_Karlsruhe": "False",
         "HomeTeam_Brest": "False",
         "HomeTeam_Xanthi": "False",
         "HomeTeam_Fortuna Dusseldorf": "False",
         "HomeTeam_Kayserispor": "False",
         "HomeTeam_Le Havre": "False",
         "HomeTeam_Stevenage": "False",
         "HomeTeam_Schalke 04": "False",
         "HomeTeam_Altay": "False",
         "HomeTeam_Lorient": "False",
         "HomeTeam_Karagumruk": "False",
         "HomeTeam_Portsmouth": "False",
         "HomeTeam_Barcelona": "False",
         "HomeTeam_Vallecano": "False",
         "HomeTeam_Asteras Tripolis": "False",
         "HomeTeam_Hannover": "False",
         "HomeTeam_Konyaspor": "False",
         "HomeTeam_Toulouse": "False",
         "HomeTeam_Kilmarnock": "False",
         "HomeTeam_Osasuna": "False",
         "HomeTeam_Cagliari": "False",
         "HomeTeam_Giresunspor": "False",
         "HomeTeam_Mansfield": "False",
         "HomeTeam_Panionios": "False",
         "HomeTeam_Bochum": "False",
         "HomeTeam_Leonesa": "False",
         "HomeTeam_Ad. Demirspor": "False",
         "HomeTeam_Cercle Brugge": "False",
         "HomeTeam_Kasimpasa": "False",
         "HomeTeam_Le Mans": "False",
         "HomeTeam_Coventry": "False",
         "HomeTeam_Rayo Majadahonda": "False",
         "HomeTeam_Luton": "False",
         "HomeTeam_Yeovil": "False",
         "HomeTeam_Cambuur": "False",
         "HomeTeam_Annan Athletic": "False",
         "HomeTeam_Gent": "False",
         "HomeTeam_Cartagena": "False",
         "HomeTeam_Fleetwood Town": "False",
         "HomeTeam_Wolves": "False",
         "HomeTeam_Cadiz": "False",
         "HomeTeam_Juve Stabia": "False",
         "HomeTeam_Accrington": "False",
         "HomeTeam_Barrow": "False",
         "HomeTeam_Foggia": "False",
         "HomeTeam_Leverkusen": "False",
         "HomeTeam_Benevento": "False",
         "HomeTeam_Benfica": "False",
         "HomeTeam_Eupen": "False",
         "HomeTeam_Porto": "False",
         "HomeTeam_Rangers": "False",
         "HomeTeam_Hamburg": "False",
         "HomeTeam_Moreirense": "False",
         "HomeTeam_Standard": "False",
         "_deepnote_index_column": 2
        },
        {
         "Country": "england",
         "League": 0,
         "Season": 1718,
         "Match_Date": "2017-08-12",
         "Home_Team": "Chelsea",
         "Away_Team": "Burnley",
         "Full_Time_Home_Team_Goals": 2,
         "Full_Time_Away_Team_Goals": 3,
         "Full_Time_Result": "A",
         "Home_Team_Shots": 19,
         "Away_Team_Shots": 10,
         "Home_Team_Shots_on_Target": 6,
         "Away_Team_Shots_on_Target": 5,
         "Home_Team_Corners": 8,
         "Away_Team_Corners": 5,
         "Home_Team_Yellow_Cards": 3,
         "Away_Team_Yellow_Cards": 3,
         "Home_Team_Red_Cards": 2,
         "Away_Team_Red_Cards": 0,
         "DayOfWeek": 5,
         "is_Weekend": 1,
         "Home_Team_Fouls_Committed": 16,
         "Away_Team_Fouls_Committed": 11,
         "over_2.5": 1,
         "Average_home_win_odds": 1.2425,
         "Average_away_win_odds": 14.115,
         "Average_draw_odds": 6.1325,
         "Average_over_2.5_goals_odds": 1.66,
         "Average_under_2.5_goals_odds": 2.23,
         "Average_Asian_Handicap_Home_odds": 0.1099999999999999,
         "Average_Asian_Handicap_Away_odds": 1.9,
         "Close_home_win_odds": 1.33,
         "Close_draw_odds": 5.4,
         "Close_away_win_odds": 12.25,
         "has_favorite": 1,
         "Time_kick_off_bin": "Afternoon",
         "HomeTeam_Rotherham": "False",
         "HomeTeam_OFI Crete": "False",
         "HomeTeam_Barcelona B": "False",
         "HomeTeam_Queen of Sth": "False",
         "HomeTeam_Charleroi": "False",
         "HomeTeam_Mallorca": "False",
         "HomeTeam_Amiens": "False",
         "HomeTeam_PAOK": "False",
         "HomeTeam_Morecambe": "False",
         "HomeTeam_Arsenal": "False",
         "HomeTeam_Rodez": "False",
         "HomeTeam_Sociedad B": "False",
         "HomeTeam_Fuenlabrada": "False",
         "HomeTeam_Forfar": "False",
         "HomeTeam_Burnley": "False",
         "HomeTeam_Livingston": "False",
         "HomeTeam_Colchester": "False",
         "HomeTeam_Cittadella": "False",
         "HomeTeam_Sociedad": "False",
         "HomeTeam_Hibernian": "False",
         "HomeTeam_Sunderland": "False",
         "HomeTeam_Trapani": "False",
         "HomeTeam_Regensburg": "False",
         "HomeTeam_Reading": "False",
         "HomeTeam_Zaragoza": "False",
         "HomeTeam_Alanyaspor": "False",
         "HomeTeam_Cardiff": "False",
         "HomeTeam_Erzgebirge Aue": "False",
         "HomeTeam_Ankaragucu": "False",
         "HomeTeam_Mainz": "False",
         "HomeTeam_Bayern Munich": "False",
         "HomeTeam_Utrecht": "False",
         "HomeTeam_Estoril": "False",
         "HomeTeam_Paris SG": "False",
         "HomeTeam_St Pauli": "False",
         "HomeTeam_Heracles": "False",
         "HomeTeam_Valencia": "False",
         "HomeTeam_Ibiza": "False",
         "HomeTeam_Hearts": "False",
         "HomeTeam_Grenoble": "False",
         "HomeTeam_Sevilla B": "False",
         "HomeTeam_Denizlispor": "False",
         "HomeTeam_Morton": "False",
         "HomeTeam_Leganes": "False",
         "HomeTeam_Middlesbrough": "False",
         "HomeTeam_Sp Lisbon": "False",
         "HomeTeam_Ionikos": "False",
         "HomeTeam_Kelty Hearts": "False",
         "HomeTeam_Sheffield Weds": "False",
         "HomeTeam_Alaves": "False",
         "HomeTeam_Cremonese": "False",
         "HomeTeam_Liverpool": "False",
         "HomeTeam_Granada": "False",
         "HomeTeam_Aves": "False",
         "HomeTeam_Oviedo": "False",
         "HomeTeam_Bielefeld": "False",
         "HomeTeam_Milan": "False",
         "HomeTeam_Bradford": "False",
         "HomeTeam_Zwolle": "False",
         "HomeTeam_Falkirk": "False",
         "HomeTeam_Airdrie Utd": "False",
         "HomeTeam_Aberdeen": "False",
         "HomeTeam_Sabadell": "False",
         "HomeTeam_Sochaux": "False",
         "HomeTeam_Den Haag": "False",
         "HomeTeam_West Brom": "False",
         "HomeTeam_Tranmere": "False",
         "HomeTeam_Dunkerque": "False",
         "HomeTeam_Sampdoria": "False",
         "HomeTeam_PSV Eindhoven": "False",
         "HomeTeam_Oldham": "False",
         "HomeTeam_Heidenheim": "False",
         "HomeTeam_Brighton": "False",
         "HomeTeam_AFC Wimbledon": "False",
         "HomeTeam_Malaga": "False",
         "HomeTeam_Almeria": "False",
         "HomeTeam_Nantes": "False",
         "HomeTeam_Wehen": "False",
         "HomeTeam_Vitesse": "False",
         "HomeTeam_Levante": "False",
         "HomeTeam_Novara": "False",
         "HomeTeam_Guimaraes": "False",
         "HomeTeam_Norwich": "False",
         "HomeTeam_Pacos Ferreira": "False",
         "HomeTeam_Chesterfield": "False",
         "HomeTeam_Inverness C": "False",
         "HomeTeam_Giannina": "False",
         "HomeTeam_Espanol": "False",
         "HomeTeam_Braunschweig": "False",
         "HomeTeam_Oostende": "False",
         "HomeTeam_Gil Vicente": "False",
         "HomeTeam_Maritimo": "False",
         "HomeTeam_Niort": "False",
         "HomeTeam_Ingolstadt": "False",
         "HomeTeam_Montrose": "False",
         "HomeTeam_Barnet": "False",
         "HomeTeam_Osnabruck": "False",
         "HomeTeam_Troyes": "False",
         "HomeTeam_Dijon": "False",
         "HomeTeam_Ajaccio GFCO": "False",
         "HomeTeam_Dundee": "False",
         "HomeTeam_Larisa": "False",
         "HomeTeam_Southend": "False",
         "HomeTeam_Verona": "False",
         "HomeTeam_Goztep": "False",
         "HomeTeam_Genoa": "False",
         "HomeTeam_Cambridge": "False",
         "HomeTeam_Graafschap": "False",
         "HomeTeam_Angers": "False",
         "HomeTeam_Ath Bilbao": "False",
         "HomeTeam_Charlton": "False",
         "HomeTeam_East Fife": "False",
         "HomeTeam_Club Brugge": "False",
         "HomeTeam_NAC Breda": "False",
         "HomeTeam_Las Palmas": "False",
         "HomeTeam_Lazio": "False",
         "HomeTeam_Seraing": "False",
         "HomeTeam_Reus Deportiu": "False",
         "HomeTeam_Ajax": "False",
         "HomeTeam_Lincoln": "False",
         "HomeTeam_Nancy": "False",
         "HomeTeam_Frosinone": "False",
         "HomeTeam_Hull": "False",
         "HomeTeam_Chaves": "False",
         "HomeTeam_Rio Ave": "False",
         "HomeTeam_Cesena": "False",
         "HomeTeam_Amorebieta": "False",
         "HomeTeam_Rizespor": "False",
         "HomeTeam_Milton Keynes Dons": "False",
         "HomeTeam_Volos NFC": "False",
         "HomeTeam_Nacional": "False",
         "HomeTeam_Kaiserslautern": "False",
         "HomeTeam_Castellon": "False",
         "HomeTeam_Berwick": "False",
         "HomeTeam_Osmanlispor": "False",
         "HomeTeam_Bologna": "False",
         "HomeTeam_Barnsley": "False",
         "HomeTeam_Brentford": "False",
         "HomeTeam_Brescia": "False",
         "HomeTeam_Leeds": "False",
         "HomeTeam_Lorca": "False",
         "HomeTeam_Exeter": "False",
         "HomeTeam_Heerenveen": "False",
         "HomeTeam_Pro Vercelli": "False",
         "HomeTeam_Carpi": "False",
         "HomeTeam_Derby": "False",
         "HomeTeam_Burgos": "False",
         "HomeTeam_Forest Green": "False",
         "HomeTeam_QPR": "False",
         "HomeTeam_Santa Clara": "False",
         "HomeTeam_Bursaspor": "False",
         "HomeTeam_Sp Braga": "False",
         "HomeTeam_Blackburn": "False",
         "HomeTeam_Nijmegen": "False",
         "HomeTeam_Rochdale": "False",
         "HomeTeam_Grimsby": "False",
         "HomeTeam_Newcastle": "False",
         "HomeTeam_Freiburg": "False",
         "HomeTeam_Red Star": "False",
         "HomeTeam_Juventus": "False",
         "HomeTeam_Guingamp": "False",
         "HomeTeam_Salernitana": "False",
         "HomeTeam_St Mirren": "False",
         "HomeTeam_Hertha": "False",
         "HomeTeam_Aston Villa": "False",
         "HomeTeam_Salford": "False",
         "HomeTeam_St Truiden": "False",
         "HomeTeam_Yeni Malatyaspor": "False",
         "HomeTeam_Dresden": "False",
         "HomeTeam_Stenhousemuir": "False",
         "HomeTeam_Spezia": "False",
         "HomeTeam_Ajaccio": "False",
         "HomeTeam_AZ Alkmaar": "False",
         "HomeTeam_Augsburg": "False",
         "HomeTeam_Cove Rangers": "False",
         "HomeTeam_Darmstadt": "False",
         "HomeTeam_Aris": "False",
         "HomeTeam_Cordoba": "False",
         "HomeTeam_Werder Bremen": "False",
         "HomeTeam_Hoffenheim": "False",
         "HomeTeam_Harrogate": "False",
         "HomeTeam_Crewe": "False",
         "HomeTeam_Edinburgh City": "False",
         "HomeTeam_Auxerre": "False",
         "HomeTeam_Crotone": "False",
         "HomeTeam_Genclerbirligi": "False",
         "HomeTeam_Ponferradina": "False",
         "HomeTeam_Akhisar Belediyespor": "False",
         "HomeTeam_Farense": "False",
         "HomeTeam_Galatasaray": "False",
         "HomeTeam_Wurzburger Kickers": "False",
         "HomeTeam_Bari": "False",
         "HomeTeam_Stranraer": "False",
         "HomeTeam_Man United": "False",
         "HomeTeam_Perugia": "False",
         "HomeTeam_Karabukspor": "False",
         "HomeTeam_Caen": "False",
         "HomeTeam_Nott'm Forest": "False",
         "HomeTeam_Bordeaux": "False",
         "HomeTeam_Livorno": "False",
         "HomeTeam_Monza": "False",
         "HomeTeam_Bristol Rvs": "False",
         "HomeTeam_Holstein Kiel": "False",
         "HomeTeam_Fiorentina": "False",
         "HomeTeam_Sivasspor": "False",
         "HomeTeam_Trabzonspor": "False",
         "HomeTeam_Cowdenbeath": "False",
         "HomeTeam_Elche": "False",
         "HomeTeam_Paris FC": "False",
         "HomeTeam_Pau FC": "False",
         "HomeTeam_Portimonense": "False",
         "HomeTeam_Lamia": "False",
         "HomeTeam_Newport County": "False",
         "HomeTeam_Northampton": "False",
         "HomeTeam_Celta": "False",
         "HomeTeam_Hatayspor": "False",
         "HomeTeam_FC Koln": "False",
         "HomeTeam_Sassuolo": "False",
         "HomeTeam_Feirense": "False",
         "HomeTeam_Erzurum BB": "False",
         "HomeTeam_Wolfsburg": "False",
         "HomeTeam_Albion Rvs": "False",
         "HomeTeam_Waalwijk": "False",
         "HomeTeam_Duisburg": "False",
         "HomeTeam_Girona": "False",
         "HomeTeam_Kortrijk": "False",
         "HomeTeam_Beerschot VA": "False",
         "HomeTeam_Hamilton": "False",
         "HomeTeam_Waregem": "False",
         "HomeTeam_Crystal Palace": "False",
         "HomeTeam_Belenenses": "False",
         "HomeTeam_Dortmund": "False",
         "HomeTeam_Logrones": "False",
         "HomeTeam_Plymouth": "False",
         "HomeTeam_Peterboro": "False",
         "HomeTeam_Raith Rvs": "False",
         "HomeTeam_Sparta Rotterdam": "False",
         "HomeTeam_Orleans": "False",
         "HomeTeam_Magdeburg": "False",
         "HomeTeam_Gimnastic": "False",
         "HomeTeam_Paderborn": "False",
         "HomeTeam_Valenciennes": "False",
         "HomeTeam_Dumbarton": "False",
         "HomeTeam_Ayr": "False",
         "HomeTeam_Gillingham": "False",
         "HomeTeam_Avellino": "False",
         "HomeTeam_Ross County": "False",
         "HomeTeam_Inter": "False",
         "HomeTeam_Millwall": "False",
         "HomeTeam_Notts County": "False",
         "HomeTeam_Venezia": "False",
         "HomeTeam_Albacete": "False",
         "HomeTeam_Fulham": "False",
         "HomeTeam_Spal": "False",
         "HomeTeam_Twente": "False",
         "HomeTeam_Numancia": "False",
         "HomeTeam_Pescara": "False",
         "HomeTeam_Montpellier": "False",
         "HomeTeam_Sandhausen": "False",
         "HomeTeam_Vicenza": "False",
         "HomeTeam_Groningen": "False",
         "HomeTeam_Wycombe": "False",
         "HomeTeam_Marseille": "False",
         "HomeTeam_Atromitos": "False",
         "HomeTeam_Reggiana": "False",
         "HomeTeam_Go Ahead Eagles": "False",
         "HomeTeam_Anderlecht": "False",
         "HomeTeam_Carlisle": "False",
         "HomeTeam_Apollon": "False",
         "HomeTeam_Alcorcon": "False",
         "HomeTeam_Oud-Heverlee Leuven": "False",
         "HomeTeam_Hartlepool": "False",
         "HomeTeam_Birmingham": "False",
         "HomeTeam_Antwerp": "False",
         "HomeTeam_St Etienne": "False",
         "HomeTeam_Queens Park": "False",
         "HomeTeam_Ath Madrid": "False",
         "HomeTeam_Metz": "False",
         "HomeTeam_Ipswich": "False",
         "HomeTeam_Reims": "False",
         "HomeTeam_Vizela": "False",
         "HomeTeam_Arbroath": "False",
         "HomeTeam_Sheffield United": "False",
         "HomeTeam_Swindon": "False",
         "HomeTeam_Rennes": "False",
         "HomeTeam_Mechelen": "False",
         "HomeTeam_Elgin": "False",
         "HomeTeam_Napoli": "False",
         "HomeTeam_Bolton": "False",
         "HomeTeam_Man City": "False",
         "HomeTeam_Genk": "False",
         "HomeTeam_Blackpool": "False",
         "HomeTeam_Lecce": "False",
         "HomeTeam_Buyuksehyr": "False",
         "HomeTeam_Eibar": "False",
         "HomeTeam_Torino": "False",
         "HomeTeam_Bournemouth": "False",
         "HomeTeam_Chievo": "False",
         "HomeTeam_Strasbourg": "False",
         "HomeTeam_Pisa": "False",
         "HomeTeam_Olympiakos": "False",
         "HomeTeam_Dunfermline": "False",
         "HomeTeam_Chateauroux": "False",
         "HomeTeam_Arouca": "False",
         "HomeTeam_Excelsior": "False",
         "HomeTeam_Ascoli": "False",
         "HomeTeam_St. Gilloise": "False",
         "HomeTeam_Feyenoord": "False",
         "HomeTeam_Partick": "False",
         "HomeTeam_Scunthorpe": "False",
         "HomeTeam_Stuttgart": "False",
         "HomeTeam_Bastia": "False",
         "HomeTeam_Chambly": "False",
         "HomeTeam_RB Leipzig": "False",
         "HomeTeam_Doncaster": "False",
         "HomeTeam_Lille": "False",
         "HomeTeam_Setubal": "False",
         "HomeTeam_Cheltenham": "False",
         "HomeTeam_Brechin": "False",
         "HomeTeam_Parma": "False",
         "HomeTeam_Swansea": "False",
         "HomeTeam_Famalicao": "False",
         "HomeTeam_Dundee United": "False",
         "HomeTeam_Alessandria": "False",
         "HomeTeam_Atalanta": "False",
         "HomeTeam_Clyde": "False",
         "HomeTeam_Huesca": "False",
         "HomeTeam_Empoli": "False",
         "HomeTeam_Stirling": "False",
         "HomeTeam_Burton": "False",
         "HomeTeam_Sevilla": "False",
         "HomeTeam_Celtic": "False",
         "HomeTeam_Macclesfield": "False",
         "HomeTeam_Virtus Entella": "False",
         "HomeTeam_Sutton": "False",
         "HomeTeam_Preston": "False",
         "HomeTeam_Como": "False",
         "HomeTeam_Greuther Furth": "False",
         "HomeTeam_Chelsea": "True",
         "HomeTeam_Lyon": "False",
         "HomeTeam_Fenerbahce": "False",
         "HomeTeam_Getafe": "False",
         "HomeTeam_Santander": "False",
         "HomeTeam_Walsall": "False",
         "HomeTeam_Udinese": "False",
         "HomeTeam_Tondela": "False",
         "HomeTeam_Nice": "False",
         "HomeTeam_Extremadura UD": "False",
         "HomeTeam_Besiktas": "False",
         "HomeTeam_Reggina": "False",
         "HomeTeam_Monaco": "False",
         "HomeTeam_Lugo": "False",
         "HomeTeam_Valladolid": "False",
         "HomeTeam_West Ham": "False",
         "HomeTeam_Padova": "False",
         "HomeTeam_Oxford": "False",
         "HomeTeam_La Coruna": "False",
         "HomeTeam_Port Vale": "False",
         "HomeTeam_Ein Frankfurt": "False",
         "HomeTeam_Crawley Town": "False",
         "HomeTeam_Antalyaspor": "False",
         "HomeTeam_Clermont": "False",
         "HomeTeam_Willem II": "False",
         "HomeTeam_Leyton Orient": "False",
         "HomeTeam_Alloa": "False",
         "HomeTeam_Betis": "False",
         "HomeTeam_Shrewsbury": "False",
         "HomeTeam_Sp Gijon": "False",
         "HomeTeam_Quevilly Rouen": "False",
         "HomeTeam_Roma": "False",
         "HomeTeam_Hansa Rostock": "False",
         "HomeTeam_Mirandes": "False",
         "HomeTeam_Huddersfield": "False",
         "HomeTeam_VVV Venlo": "False",
         "HomeTeam_Mouscron": "False",
         "HomeTeam_Tottenham": "False",
         "HomeTeam_Real Madrid": "False",
         "HomeTeam_AEK": "False",
         "HomeTeam_Watford": "False",
         "HomeTeam_Southampton": "False",
         "HomeTeam_Waasland-Beveren": "False",
         "HomeTeam_M'gladbach": "False",
         "HomeTeam_Nurnberg": "False",
         "HomeTeam_Tenerife": "False",
         "HomeTeam_Ternana": "False",
         "HomeTeam_Panathinaikos": "False",
         "HomeTeam_Stoke": "False",
         "HomeTeam_Peterhead": "False",
         "HomeTeam_Bury": "False",
         "HomeTeam_Palermo": "False",
         "HomeTeam_For Sittard": "False",
         "HomeTeam_Villarreal": "False",
         "HomeTeam_Cosenza": "False",
         "HomeTeam_Motherwell": "False",
         "HomeTeam_Lens": "False",
         "HomeTeam_Boavista": "False",
         "HomeTeam_Beziers": "False",
         "HomeTeam_Leicester": "False",
         "HomeTeam_Apollon Apollon": "False",
         "HomeTeam_Nimes": "False",
         "HomeTeam_Gaziantep": "False",
         "HomeTeam_Pordenone": "False",
         "HomeTeam_St Johnstone": "False",
         "HomeTeam_Panetolikos": "False",
         "HomeTeam_Roda": "False",
         "HomeTeam_FC Emmen": "False",
         "HomeTeam_Bristol City": "False",
         "HomeTeam_Everton": "False",
         "HomeTeam_Union Berlin": "False",
         "HomeTeam_Wigan": "False",
         "HomeTeam_Karlsruhe": "False",
         "HomeTeam_Brest": "False",
         "HomeTeam_Xanthi": "False",
         "HomeTeam_Fortuna Dusseldorf": "False",
         "HomeTeam_Kayserispor": "False",
         "HomeTeam_Le Havre": "False",
         "HomeTeam_Stevenage": "False",
         "HomeTeam_Schalke 04": "False",
         "HomeTeam_Altay": "False",
         "HomeTeam_Lorient": "False",
         "HomeTeam_Karagumruk": "False",
         "HomeTeam_Portsmouth": "False",
         "HomeTeam_Barcelona": "False",
         "HomeTeam_Vallecano": "False",
         "HomeTeam_Asteras Tripolis": "False",
         "HomeTeam_Hannover": "False",
         "HomeTeam_Konyaspor": "False",
         "HomeTeam_Toulouse": "False",
         "HomeTeam_Kilmarnock": "False",
         "HomeTeam_Osasuna": "False",
         "HomeTeam_Cagliari": "False",
         "HomeTeam_Giresunspor": "False",
         "HomeTeam_Mansfield": "False",
         "HomeTeam_Panionios": "False",
         "HomeTeam_Bochum": "False",
         "HomeTeam_Leonesa": "False",
         "HomeTeam_Ad. Demirspor": "False",
         "HomeTeam_Cercle Brugge": "False",
         "HomeTeam_Kasimpasa": "False",
         "HomeTeam_Le Mans": "False",
         "HomeTeam_Coventry": "False",
         "HomeTeam_Rayo Majadahonda": "False",
         "HomeTeam_Luton": "False",
         "HomeTeam_Yeovil": "False",
         "HomeTeam_Cambuur": "False",
         "HomeTeam_Annan Athletic": "False",
         "HomeTeam_Gent": "False",
         "HomeTeam_Cartagena": "False",
         "HomeTeam_Fleetwood Town": "False",
         "HomeTeam_Wolves": "False",
         "HomeTeam_Cadiz": "False",
         "HomeTeam_Juve Stabia": "False",
         "HomeTeam_Accrington": "False",
         "HomeTeam_Barrow": "False",
         "HomeTeam_Foggia": "False",
         "HomeTeam_Leverkusen": "False",
         "HomeTeam_Benevento": "False",
         "HomeTeam_Benfica": "False",
         "HomeTeam_Eupen": "False",
         "HomeTeam_Porto": "False",
         "HomeTeam_Rangers": "False",
         "HomeTeam_Hamburg": "False",
         "HomeTeam_Moreirense": "False",
         "HomeTeam_Standard": "False",
         "_deepnote_index_column": 3
        },
        {
         "Country": "england",
         "League": 0,
         "Season": 1718,
         "Match_Date": "2017-08-12",
         "Home_Team": "Everton",
         "Away_Team": "Stoke",
         "Full_Time_Home_Team_Goals": 1,
         "Full_Time_Away_Team_Goals": 0,
         "Full_Time_Result": "H",
         "Home_Team_Shots": 9,
         "Away_Team_Shots": 9,
         "Home_Team_Shots_on_Target": 4,
         "Away_Team_Shots_on_Target": 1,
         "Home_Team_Corners": 6,
         "Away_Team_Corners": 7,
         "Home_Team_Yellow_Cards": 1,
         "Away_Team_Yellow_Cards": 1,
         "Home_Team_Red_Cards": 0,
         "Away_Team_Red_Cards": 0,
         "DayOfWeek": 5,
         "is_Weekend": 1,
         "Home_Team_Fouls_Committed": 13,
         "Away_Team_Fouls_Committed": 10,
         "over_2.5": 0,
         "Average_home_win_odds": 1.6949999999999998,
         "Average_away_win_odds": 5.5075,
         "Average_draw_odds": 3.69,
         "Average_over_2.5_goals_odds": 2.08,
         "Average_under_2.5_goals_odds": 1.76,
         "Average_Asian_Handicap_Home_odds": 0.575,
         "Average_Asian_Handicap_Away_odds": 1.98,
         "Close_home_win_odds": 1.82,
         "Close_draw_odds": 3.49,
         "Close_away_win_odds": 5.42,
         "has_favorite": 1,
         "Time_kick_off_bin": "Afternoon",
         "HomeTeam_Rotherham": "False",
         "HomeTeam_OFI Crete": "False",
         "HomeTeam_Barcelona B": "False",
         "HomeTeam_Queen of Sth": "False",
         "HomeTeam_Charleroi": "False",
         "HomeTeam_Mallorca": "False",
         "HomeTeam_Amiens": "False",
         "HomeTeam_PAOK": "False",
         "HomeTeam_Morecambe": "False",
         "HomeTeam_Arsenal": "False",
         "HomeTeam_Rodez": "False",
         "HomeTeam_Sociedad B": "False",
         "HomeTeam_Fuenlabrada": "False",
         "HomeTeam_Forfar": "False",
         "HomeTeam_Burnley": "False",
         "HomeTeam_Livingston": "False",
         "HomeTeam_Colchester": "False",
         "HomeTeam_Cittadella": "False",
         "HomeTeam_Sociedad": "False",
         "HomeTeam_Hibernian": "False",
         "HomeTeam_Sunderland": "False",
         "HomeTeam_Trapani": "False",
         "HomeTeam_Regensburg": "False",
         "HomeTeam_Reading": "False",
         "HomeTeam_Zaragoza": "False",
         "HomeTeam_Alanyaspor": "False",
         "HomeTeam_Cardiff": "False",
         "HomeTeam_Erzgebirge Aue": "False",
         "HomeTeam_Ankaragucu": "False",
         "HomeTeam_Mainz": "False",
         "HomeTeam_Bayern Munich": "False",
         "HomeTeam_Utrecht": "False",
         "HomeTeam_Estoril": "False",
         "HomeTeam_Paris SG": "False",
         "HomeTeam_St Pauli": "False",
         "HomeTeam_Heracles": "False",
         "HomeTeam_Valencia": "False",
         "HomeTeam_Ibiza": "False",
         "HomeTeam_Hearts": "False",
         "HomeTeam_Grenoble": "False",
         "HomeTeam_Sevilla B": "False",
         "HomeTeam_Denizlispor": "False",
         "HomeTeam_Morton": "False",
         "HomeTeam_Leganes": "False",
         "HomeTeam_Middlesbrough": "False",
         "HomeTeam_Sp Lisbon": "False",
         "HomeTeam_Ionikos": "False",
         "HomeTeam_Kelty Hearts": "False",
         "HomeTeam_Sheffield Weds": "False",
         "HomeTeam_Alaves": "False",
         "HomeTeam_Cremonese": "False",
         "HomeTeam_Liverpool": "False",
         "HomeTeam_Granada": "False",
         "HomeTeam_Aves": "False",
         "HomeTeam_Oviedo": "False",
         "HomeTeam_Bielefeld": "False",
         "HomeTeam_Milan": "False",
         "HomeTeam_Bradford": "False",
         "HomeTeam_Zwolle": "False",
         "HomeTeam_Falkirk": "False",
         "HomeTeam_Airdrie Utd": "False",
         "HomeTeam_Aberdeen": "False",
         "HomeTeam_Sabadell": "False",
         "HomeTeam_Sochaux": "False",
         "HomeTeam_Den Haag": "False",
         "HomeTeam_West Brom": "False",
         "HomeTeam_Tranmere": "False",
         "HomeTeam_Dunkerque": "False",
         "HomeTeam_Sampdoria": "False",
         "HomeTeam_PSV Eindhoven": "False",
         "HomeTeam_Oldham": "False",
         "HomeTeam_Heidenheim": "False",
         "HomeTeam_Brighton": "False",
         "HomeTeam_AFC Wimbledon": "False",
         "HomeTeam_Malaga": "False",
         "HomeTeam_Almeria": "False",
         "HomeTeam_Nantes": "False",
         "HomeTeam_Wehen": "False",
         "HomeTeam_Vitesse": "False",
         "HomeTeam_Levante": "False",
         "HomeTeam_Novara": "False",
         "HomeTeam_Guimaraes": "False",
         "HomeTeam_Norwich": "False",
         "HomeTeam_Pacos Ferreira": "False",
         "HomeTeam_Chesterfield": "False",
         "HomeTeam_Inverness C": "False",
         "HomeTeam_Giannina": "False",
         "HomeTeam_Espanol": "False",
         "HomeTeam_Braunschweig": "False",
         "HomeTeam_Oostende": "False",
         "HomeTeam_Gil Vicente": "False",
         "HomeTeam_Maritimo": "False",
         "HomeTeam_Niort": "False",
         "HomeTeam_Ingolstadt": "False",
         "HomeTeam_Montrose": "False",
         "HomeTeam_Barnet": "False",
         "HomeTeam_Osnabruck": "False",
         "HomeTeam_Troyes": "False",
         "HomeTeam_Dijon": "False",
         "HomeTeam_Ajaccio GFCO": "False",
         "HomeTeam_Dundee": "False",
         "HomeTeam_Larisa": "False",
         "HomeTeam_Southend": "False",
         "HomeTeam_Verona": "False",
         "HomeTeam_Goztep": "False",
         "HomeTeam_Genoa": "False",
         "HomeTeam_Cambridge": "False",
         "HomeTeam_Graafschap": "False",
         "HomeTeam_Angers": "False",
         "HomeTeam_Ath Bilbao": "False",
         "HomeTeam_Charlton": "False",
         "HomeTeam_East Fife": "False",
         "HomeTeam_Club Brugge": "False",
         "HomeTeam_NAC Breda": "False",
         "HomeTeam_Las Palmas": "False",
         "HomeTeam_Lazio": "False",
         "HomeTeam_Seraing": "False",
         "HomeTeam_Reus Deportiu": "False",
         "HomeTeam_Ajax": "False",
         "HomeTeam_Lincoln": "False",
         "HomeTeam_Nancy": "False",
         "HomeTeam_Frosinone": "False",
         "HomeTeam_Hull": "False",
         "HomeTeam_Chaves": "False",
         "HomeTeam_Rio Ave": "False",
         "HomeTeam_Cesena": "False",
         "HomeTeam_Amorebieta": "False",
         "HomeTeam_Rizespor": "False",
         "HomeTeam_Milton Keynes Dons": "False",
         "HomeTeam_Volos NFC": "False",
         "HomeTeam_Nacional": "False",
         "HomeTeam_Kaiserslautern": "False",
         "HomeTeam_Castellon": "False",
         "HomeTeam_Berwick": "False",
         "HomeTeam_Osmanlispor": "False",
         "HomeTeam_Bologna": "False",
         "HomeTeam_Barnsley": "False",
         "HomeTeam_Brentford": "False",
         "HomeTeam_Brescia": "False",
         "HomeTeam_Leeds": "False",
         "HomeTeam_Lorca": "False",
         "HomeTeam_Exeter": "False",
         "HomeTeam_Heerenveen": "False",
         "HomeTeam_Pro Vercelli": "False",
         "HomeTeam_Carpi": "False",
         "HomeTeam_Derby": "False",
         "HomeTeam_Burgos": "False",
         "HomeTeam_Forest Green": "False",
         "HomeTeam_QPR": "False",
         "HomeTeam_Santa Clara": "False",
         "HomeTeam_Bursaspor": "False",
         "HomeTeam_Sp Braga": "False",
         "HomeTeam_Blackburn": "False",
         "HomeTeam_Nijmegen": "False",
         "HomeTeam_Rochdale": "False",
         "HomeTeam_Grimsby": "False",
         "HomeTeam_Newcastle": "False",
         "HomeTeam_Freiburg": "False",
         "HomeTeam_Red Star": "False",
         "HomeTeam_Juventus": "False",
         "HomeTeam_Guingamp": "False",
         "HomeTeam_Salernitana": "False",
         "HomeTeam_St Mirren": "False",
         "HomeTeam_Hertha": "False",
         "HomeTeam_Aston Villa": "False",
         "HomeTeam_Salford": "False",
         "HomeTeam_St Truiden": "False",
         "HomeTeam_Yeni Malatyaspor": "False",
         "HomeTeam_Dresden": "False",
         "HomeTeam_Stenhousemuir": "False",
         "HomeTeam_Spezia": "False",
         "HomeTeam_Ajaccio": "False",
         "HomeTeam_AZ Alkmaar": "False",
         "HomeTeam_Augsburg": "False",
         "HomeTeam_Cove Rangers": "False",
         "HomeTeam_Darmstadt": "False",
         "HomeTeam_Aris": "False",
         "HomeTeam_Cordoba": "False",
         "HomeTeam_Werder Bremen": "False",
         "HomeTeam_Hoffenheim": "False",
         "HomeTeam_Harrogate": "False",
         "HomeTeam_Crewe": "False",
         "HomeTeam_Edinburgh City": "False",
         "HomeTeam_Auxerre": "False",
         "HomeTeam_Crotone": "False",
         "HomeTeam_Genclerbirligi": "False",
         "HomeTeam_Ponferradina": "False",
         "HomeTeam_Akhisar Belediyespor": "False",
         "HomeTeam_Farense": "False",
         "HomeTeam_Galatasaray": "False",
         "HomeTeam_Wurzburger Kickers": "False",
         "HomeTeam_Bari": "False",
         "HomeTeam_Stranraer": "False",
         "HomeTeam_Man United": "False",
         "HomeTeam_Perugia": "False",
         "HomeTeam_Karabukspor": "False",
         "HomeTeam_Caen": "False",
         "HomeTeam_Nott'm Forest": "False",
         "HomeTeam_Bordeaux": "False",
         "HomeTeam_Livorno": "False",
         "HomeTeam_Monza": "False",
         "HomeTeam_Bristol Rvs": "False",
         "HomeTeam_Holstein Kiel": "False",
         "HomeTeam_Fiorentina": "False",
         "HomeTeam_Sivasspor": "False",
         "HomeTeam_Trabzonspor": "False",
         "HomeTeam_Cowdenbeath": "False",
         "HomeTeam_Elche": "False",
         "HomeTeam_Paris FC": "False",
         "HomeTeam_Pau FC": "False",
         "HomeTeam_Portimonense": "False",
         "HomeTeam_Lamia": "False",
         "HomeTeam_Newport County": "False",
         "HomeTeam_Northampton": "False",
         "HomeTeam_Celta": "False",
         "HomeTeam_Hatayspor": "False",
         "HomeTeam_FC Koln": "False",
         "HomeTeam_Sassuolo": "False",
         "HomeTeam_Feirense": "False",
         "HomeTeam_Erzurum BB": "False",
         "HomeTeam_Wolfsburg": "False",
         "HomeTeam_Albion Rvs": "False",
         "HomeTeam_Waalwijk": "False",
         "HomeTeam_Duisburg": "False",
         "HomeTeam_Girona": "False",
         "HomeTeam_Kortrijk": "False",
         "HomeTeam_Beerschot VA": "False",
         "HomeTeam_Hamilton": "False",
         "HomeTeam_Waregem": "False",
         "HomeTeam_Crystal Palace": "False",
         "HomeTeam_Belenenses": "False",
         "HomeTeam_Dortmund": "False",
         "HomeTeam_Logrones": "False",
         "HomeTeam_Plymouth": "False",
         "HomeTeam_Peterboro": "False",
         "HomeTeam_Raith Rvs": "False",
         "HomeTeam_Sparta Rotterdam": "False",
         "HomeTeam_Orleans": "False",
         "HomeTeam_Magdeburg": "False",
         "HomeTeam_Gimnastic": "False",
         "HomeTeam_Paderborn": "False",
         "HomeTeam_Valenciennes": "False",
         "HomeTeam_Dumbarton": "False",
         "HomeTeam_Ayr": "False",
         "HomeTeam_Gillingham": "False",
         "HomeTeam_Avellino": "False",
         "HomeTeam_Ross County": "False",
         "HomeTeam_Inter": "False",
         "HomeTeam_Millwall": "False",
         "HomeTeam_Notts County": "False",
         "HomeTeam_Venezia": "False",
         "HomeTeam_Albacete": "False",
         "HomeTeam_Fulham": "False",
         "HomeTeam_Spal": "False",
         "HomeTeam_Twente": "False",
         "HomeTeam_Numancia": "False",
         "HomeTeam_Pescara": "False",
         "HomeTeam_Montpellier": "False",
         "HomeTeam_Sandhausen": "False",
         "HomeTeam_Vicenza": "False",
         "HomeTeam_Groningen": "False",
         "HomeTeam_Wycombe": "False",
         "HomeTeam_Marseille": "False",
         "HomeTeam_Atromitos": "False",
         "HomeTeam_Reggiana": "False",
         "HomeTeam_Go Ahead Eagles": "False",
         "HomeTeam_Anderlecht": "False",
         "HomeTeam_Carlisle": "False",
         "HomeTeam_Apollon": "False",
         "HomeTeam_Alcorcon": "False",
         "HomeTeam_Oud-Heverlee Leuven": "False",
         "HomeTeam_Hartlepool": "False",
         "HomeTeam_Birmingham": "False",
         "HomeTeam_Antwerp": "False",
         "HomeTeam_St Etienne": "False",
         "HomeTeam_Queens Park": "False",
         "HomeTeam_Ath Madrid": "False",
         "HomeTeam_Metz": "False",
         "HomeTeam_Ipswich": "False",
         "HomeTeam_Reims": "False",
         "HomeTeam_Vizela": "False",
         "HomeTeam_Arbroath": "False",
         "HomeTeam_Sheffield United": "False",
         "HomeTeam_Swindon": "False",
         "HomeTeam_Rennes": "False",
         "HomeTeam_Mechelen": "False",
         "HomeTeam_Elgin": "False",
         "HomeTeam_Napoli": "False",
         "HomeTeam_Bolton": "False",
         "HomeTeam_Man City": "False",
         "HomeTeam_Genk": "False",
         "HomeTeam_Blackpool": "False",
         "HomeTeam_Lecce": "False",
         "HomeTeam_Buyuksehyr": "False",
         "HomeTeam_Eibar": "False",
         "HomeTeam_Torino": "False",
         "HomeTeam_Bournemouth": "False",
         "HomeTeam_Chievo": "False",
         "HomeTeam_Strasbourg": "False",
         "HomeTeam_Pisa": "False",
         "HomeTeam_Olympiakos": "False",
         "HomeTeam_Dunfermline": "False",
         "HomeTeam_Chateauroux": "False",
         "HomeTeam_Arouca": "False",
         "HomeTeam_Excelsior": "False",
         "HomeTeam_Ascoli": "False",
         "HomeTeam_St. Gilloise": "False",
         "HomeTeam_Feyenoord": "False",
         "HomeTeam_Partick": "False",
         "HomeTeam_Scunthorpe": "False",
         "HomeTeam_Stuttgart": "False",
         "HomeTeam_Bastia": "False",
         "HomeTeam_Chambly": "False",
         "HomeTeam_RB Leipzig": "False",
         "HomeTeam_Doncaster": "False",
         "HomeTeam_Lille": "False",
         "HomeTeam_Setubal": "False",
         "HomeTeam_Cheltenham": "False",
         "HomeTeam_Brechin": "False",
         "HomeTeam_Parma": "False",
         "HomeTeam_Swansea": "False",
         "HomeTeam_Famalicao": "False",
         "HomeTeam_Dundee United": "False",
         "HomeTeam_Alessandria": "False",
         "HomeTeam_Atalanta": "False",
         "HomeTeam_Clyde": "False",
         "HomeTeam_Huesca": "False",
         "HomeTeam_Empoli": "False",
         "HomeTeam_Stirling": "False",
         "HomeTeam_Burton": "False",
         "HomeTeam_Sevilla": "False",
         "HomeTeam_Celtic": "False",
         "HomeTeam_Macclesfield": "False",
         "HomeTeam_Virtus Entella": "False",
         "HomeTeam_Sutton": "False",
         "HomeTeam_Preston": "False",
         "HomeTeam_Como": "False",
         "HomeTeam_Greuther Furth": "False",
         "HomeTeam_Chelsea": "False",
         "HomeTeam_Lyon": "False",
         "HomeTeam_Fenerbahce": "False",
         "HomeTeam_Getafe": "False",
         "HomeTeam_Santander": "False",
         "HomeTeam_Walsall": "False",
         "HomeTeam_Udinese": "False",
         "HomeTeam_Tondela": "False",
         "HomeTeam_Nice": "False",
         "HomeTeam_Extremadura UD": "False",
         "HomeTeam_Besiktas": "False",
         "HomeTeam_Reggina": "False",
         "HomeTeam_Monaco": "False",
         "HomeTeam_Lugo": "False",
         "HomeTeam_Valladolid": "False",
         "HomeTeam_West Ham": "False",
         "HomeTeam_Padova": "False",
         "HomeTeam_Oxford": "False",
         "HomeTeam_La Coruna": "False",
         "HomeTeam_Port Vale": "False",
         "HomeTeam_Ein Frankfurt": "False",
         "HomeTeam_Crawley Town": "False",
         "HomeTeam_Antalyaspor": "False",
         "HomeTeam_Clermont": "False",
         "HomeTeam_Willem II": "False",
         "HomeTeam_Leyton Orient": "False",
         "HomeTeam_Alloa": "False",
         "HomeTeam_Betis": "False",
         "HomeTeam_Shrewsbury": "False",
         "HomeTeam_Sp Gijon": "False",
         "HomeTeam_Quevilly Rouen": "False",
         "HomeTeam_Roma": "False",
         "HomeTeam_Hansa Rostock": "False",
         "HomeTeam_Mirandes": "False",
         "HomeTeam_Huddersfield": "False",
         "HomeTeam_VVV Venlo": "False",
         "HomeTeam_Mouscron": "False",
         "HomeTeam_Tottenham": "False",
         "HomeTeam_Real Madrid": "False",
         "HomeTeam_AEK": "False",
         "HomeTeam_Watford": "False",
         "HomeTeam_Southampton": "False",
         "HomeTeam_Waasland-Beveren": "False",
         "HomeTeam_M'gladbach": "False",
         "HomeTeam_Nurnberg": "False",
         "HomeTeam_Tenerife": "False",
         "HomeTeam_Ternana": "False",
         "HomeTeam_Panathinaikos": "False",
         "HomeTeam_Stoke": "False",
         "HomeTeam_Peterhead": "False",
         "HomeTeam_Bury": "False",
         "HomeTeam_Palermo": "False",
         "HomeTeam_For Sittard": "False",
         "HomeTeam_Villarreal": "False",
         "HomeTeam_Cosenza": "False",
         "HomeTeam_Motherwell": "False",
         "HomeTeam_Lens": "False",
         "HomeTeam_Boavista": "False",
         "HomeTeam_Beziers": "False",
         "HomeTeam_Leicester": "False",
         "HomeTeam_Apollon Apollon": "False",
         "HomeTeam_Nimes": "False",
         "HomeTeam_Gaziantep": "False",
         "HomeTeam_Pordenone": "False",
         "HomeTeam_St Johnstone": "False",
         "HomeTeam_Panetolikos": "False",
         "HomeTeam_Roda": "False",
         "HomeTeam_FC Emmen": "False",
         "HomeTeam_Bristol City": "False",
         "HomeTeam_Everton": "True",
         "HomeTeam_Union Berlin": "False",
         "HomeTeam_Wigan": "False",
         "HomeTeam_Karlsruhe": "False",
         "HomeTeam_Brest": "False",
         "HomeTeam_Xanthi": "False",
         "HomeTeam_Fortuna Dusseldorf": "False",
         "HomeTeam_Kayserispor": "False",
         "HomeTeam_Le Havre": "False",
         "HomeTeam_Stevenage": "False",
         "HomeTeam_Schalke 04": "False",
         "HomeTeam_Altay": "False",
         "HomeTeam_Lorient": "False",
         "HomeTeam_Karagumruk": "False",
         "HomeTeam_Portsmouth": "False",
         "HomeTeam_Barcelona": "False",
         "HomeTeam_Vallecano": "False",
         "HomeTeam_Asteras Tripolis": "False",
         "HomeTeam_Hannover": "False",
         "HomeTeam_Konyaspor": "False",
         "HomeTeam_Toulouse": "False",
         "HomeTeam_Kilmarnock": "False",
         "HomeTeam_Osasuna": "False",
         "HomeTeam_Cagliari": "False",
         "HomeTeam_Giresunspor": "False",
         "HomeTeam_Mansfield": "False",
         "HomeTeam_Panionios": "False",
         "HomeTeam_Bochum": "False",
         "HomeTeam_Leonesa": "False",
         "HomeTeam_Ad. Demirspor": "False",
         "HomeTeam_Cercle Brugge": "False",
         "HomeTeam_Kasimpasa": "False",
         "HomeTeam_Le Mans": "False",
         "HomeTeam_Coventry": "False",
         "HomeTeam_Rayo Majadahonda": "False",
         "HomeTeam_Luton": "False",
         "HomeTeam_Yeovil": "False",
         "HomeTeam_Cambuur": "False",
         "HomeTeam_Annan Athletic": "False",
         "HomeTeam_Gent": "False",
         "HomeTeam_Cartagena": "False",
         "HomeTeam_Fleetwood Town": "False",
         "HomeTeam_Wolves": "False",
         "HomeTeam_Cadiz": "False",
         "HomeTeam_Juve Stabia": "False",
         "HomeTeam_Accrington": "False",
         "HomeTeam_Barrow": "False",
         "HomeTeam_Foggia": "False",
         "HomeTeam_Leverkusen": "False",
         "HomeTeam_Benevento": "False",
         "HomeTeam_Benfica": "False",
         "HomeTeam_Eupen": "False",
         "HomeTeam_Porto": "False",
         "HomeTeam_Rangers": "False",
         "HomeTeam_Hamburg": "False",
         "HomeTeam_Moreirense": "False",
         "HomeTeam_Standard": "False",
         "_deepnote_index_column": 4
        }
       ]
      },
      "text/plain": "   Country  League  Season  Match_Date       Home_Team     Away_Team  \\\n0  england       0    1718  2017-08-11         Arsenal     Leicester   \n1  england       0    1718  2017-08-12        Brighton      Man City   \n2  england       0    1718  2017-08-12  Crystal Palace  Huddersfield   \n3  england       0    1718  2017-08-12         Chelsea       Burnley   \n4  england       0    1718  2017-08-12         Everton         Stoke   \n\n   Full_Time_Home_Team_Goals  Full_Time_Away_Team_Goals Full_Time_Result  \\\n0                        4.0                        3.0                H   \n1                        0.0                        2.0                A   \n2                        0.0                        3.0                A   \n3                        2.0                        3.0                A   \n4                        1.0                        0.0                H   \n\n   Home_Team_Shots  ...  AwayTeam_Foggia  AwayTeam_Leverkusen  \\\n0             27.0  ...            False                False   \n1              6.0  ...            False                False   \n2             14.0  ...            False                False   \n3             19.0  ...            False                False   \n4              9.0  ...            False                False   \n\n   AwayTeam_Benevento  AwayTeam_Benfica  AwayTeam_Eupen  AwayTeam_Porto  \\\n0               False             False           False           False   \n1               False             False           False           False   \n2               False             False           False           False   \n3               False             False           False           False   \n4               False             False           False           False   \n\n   AwayTeam_Rangers  AwayTeam_Hamburg  AwayTeam_Moreirense  AwayTeam_Standard  \n0             False             False                False              False  \n1             False             False                False              False  \n2             False             False                False              False  \n3             False             False                False              False  \n4             False             False                False              False  \n\n[5 rows x 964 columns]",
      "text/html": "<div>\n<style scoped>\n    .dataframe tbody tr th:only-of-type {\n        vertical-align: middle;\n    }\n\n    .dataframe tbody tr th {\n        vertical-align: top;\n    }\n\n    .dataframe thead th {\n        text-align: right;\n    }\n</style>\n<table border=\"1\" class=\"dataframe\">\n  <thead>\n    <tr style=\"text-align: right;\">\n      <th></th>\n      <th>Country</th>\n      <th>League</th>\n      <th>Season</th>\n      <th>Match_Date</th>\n      <th>Home_Team</th>\n      <th>Away_Team</th>\n      <th>Full_Time_Home_Team_Goals</th>\n      <th>Full_Time_Away_Team_Goals</th>\n      <th>Full_Time_Result</th>\n      <th>Home_Team_Shots</th>\n      <th>...</th>\n      <th>AwayTeam_Foggia</th>\n      <th>AwayTeam_Leverkusen</th>\n      <th>AwayTeam_Benevento</th>\n      <th>AwayTeam_Benfica</th>\n      <th>AwayTeam_Eupen</th>\n      <th>AwayTeam_Porto</th>\n      <th>AwayTeam_Rangers</th>\n      <th>AwayTeam_Hamburg</th>\n      <th>AwayTeam_Moreirense</th>\n      <th>AwayTeam_Standard</th>\n    </tr>\n  </thead>\n  <tbody>\n    <tr>\n      <th>0</th>\n      <td>england</td>\n      <td>0</td>\n      <td>1718</td>\n      <td>2017-08-11</td>\n      <td>Arsenal</td>\n      <td>Leicester</td>\n      <td>4.0</td>\n      <td>3.0</td>\n      <td>H</td>\n      <td>27.0</td>\n      <td>...</td>\n      <td>False</td>\n      <td>False</td>\n      <td>False</td>\n      <td>False</td>\n      <td>False</td>\n      <td>False</td>\n      <td>False</td>\n      <td>False</td>\n      <td>False</td>\n      <td>False</td>\n    </tr>\n    <tr>\n      <th>1</th>\n      <td>england</td>\n      <td>0</td>\n      <td>1718</td>\n      <td>2017-08-12</td>\n      <td>Brighton</td>\n      <td>Man City</td>\n      <td>0.0</td>\n      <td>2.0</td>\n      <td>A</td>\n      <td>6.0</td>\n      <td>...</td>\n      <td>False</td>\n      <td>False</td>\n      <td>False</td>\n      <td>False</td>\n      <td>False</td>\n      <td>False</td>\n      <td>False</td>\n      <td>False</td>\n      <td>False</td>\n      <td>False</td>\n    </tr>\n    <tr>\n      <th>2</th>\n      <td>england</td>\n      <td>0</td>\n      <td>1718</td>\n      <td>2017-08-12</td>\n      <td>Crystal Palace</td>\n      <td>Huddersfield</td>\n      <td>0.0</td>\n      <td>3.0</td>\n      <td>A</td>\n      <td>14.0</td>\n      <td>...</td>\n      <td>False</td>\n      <td>False</td>\n      <td>False</td>\n      <td>False</td>\n      <td>False</td>\n      <td>False</td>\n      <td>False</td>\n      <td>False</td>\n      <td>False</td>\n      <td>False</td>\n    </tr>\n    <tr>\n      <th>3</th>\n      <td>england</td>\n      <td>0</td>\n      <td>1718</td>\n      <td>2017-08-12</td>\n      <td>Chelsea</td>\n      <td>Burnley</td>\n      <td>2.0</td>\n      <td>3.0</td>\n      <td>A</td>\n      <td>19.0</td>\n      <td>...</td>\n      <td>False</td>\n      <td>False</td>\n      <td>False</td>\n      <td>False</td>\n      <td>False</td>\n      <td>False</td>\n      <td>False</td>\n      <td>False</td>\n      <td>False</td>\n      <td>False</td>\n    </tr>\n    <tr>\n      <th>4</th>\n      <td>england</td>\n      <td>0</td>\n      <td>1718</td>\n      <td>2017-08-12</td>\n      <td>Everton</td>\n      <td>Stoke</td>\n      <td>1.0</td>\n      <td>0.0</td>\n      <td>H</td>\n      <td>9.0</td>\n      <td>...</td>\n      <td>False</td>\n      <td>False</td>\n      <td>False</td>\n      <td>False</td>\n      <td>False</td>\n      <td>False</td>\n      <td>False</td>\n      <td>False</td>\n      <td>False</td>\n      <td>False</td>\n    </tr>\n  </tbody>\n</table>\n<p>5 rows × 964 columns</p>\n</div>"
     },
     "metadata": {}
    }
   ]
  },
  {
   "cell_type": "code",
   "metadata": {
    "cell_id": "9417d65f739049a4839538000dddadfc",
    "deepnote_cell_type": "code"
   },
   "source": [],
   "block_group": "473f0e9802e6445798c3a0c3f2a4910b",
   "execution_count": null,
   "outputs": []
  },
  {
   "cell_type": "code",
   "metadata": {
    "cell_id": "9c15cc68276c42bc8f83779d7865c61d",
    "deepnote_cell_type": "code"
   },
   "source": [],
   "block_group": "146ffb2177c441c08ce5784afceac4e6",
   "execution_count": null,
   "outputs": []
  },
  {
   "cell_type": "code",
   "metadata": {
    "cell_id": "11c822865e2746ecaf18ab9c24a1b887",
    "deepnote_cell_type": "code"
   },
   "source": [],
   "block_group": "b34f59897bc344b88f43ad32d2e9db8c",
   "execution_count": null,
   "outputs": []
  },
  {
   "cell_type": "code",
   "metadata": {
    "cell_id": "e7f0cc646555404c867c347784cd9d11",
    "deepnote_cell_type": "code"
   },
   "source": [],
   "block_group": "e890d69750ad4444af7289c5cbc28944",
   "execution_count": null,
   "outputs": []
  },
  {
   "cell_type": "code",
   "metadata": {
    "cell_id": "53f52aa3e7cc408fa8aaa850e1224c29",
    "deepnote_cell_type": "code"
   },
   "source": [],
   "block_group": "21acb3d105cc48ce881bfdc9b26e3bc6",
   "execution_count": null,
   "outputs": []
  },
  {
   "cell_type": "code",
   "metadata": {
    "cell_id": "c48f7be1478a49ca9b2f87a7e4168a8d",
    "deepnote_cell_type": "code"
   },
   "source": [],
   "block_group": "b14560e6e932430f92f8e3166ce76d4e",
   "execution_count": null,
   "outputs": []
  },
  {
   "cell_type": "code",
   "metadata": {
    "source_hash": null,
    "deepnote_to_be_reexecuted": true,
    "cell_id": "e9fdc916018b4c87a666b2b2e01b59d5",
    "deepnote_cell_type": "code"
   },
   "source": [
    "feature_importance = model1.feature_importances_"
   ],
   "block_group": "4c06fc7f08f149009748db6659f09d46",
   "execution_count": null,
   "outputs": []
  },
  {
   "cell_type": "markdown",
   "source": [
    "<a style='text-decoration:none;line-height:16px;display:flex;color:#5B5B62;padding:10px;justify-content:end;' href='https://deepnote.com?utm_source=created-in-deepnote-cell&projectId=3182c57a-4879-462a-8002-e0676ac18eff' target=\"_blank\">\n",
    "<img alt='Created in deepnote.com' style='display:inline;max-height:16px;margin:0px;margin-right:7.5px;' src='data:image/svg+xml;base64,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' > </img>\n",
    "Created in <span style='font-weight:600;margin-left:4px;'>Deepnote</span></a>"
   ],
   "metadata": {
    "created_in_deepnote_cell": true,
    "deepnote_cell_type": "markdown"
   }
  }
 ],
 "nbformat": 4,
 "nbformat_minor": 0,
 "metadata": {
  "deepnote": {},
  "orig_nbformat": 2,
  "deepnote_notebook_id": "20ffc81a17a24ef49f70f9a5248d041c",
  "deepnote_execution_queue": []
 }
}
