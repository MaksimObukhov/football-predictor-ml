{
 "cells": [
  {
   "cell_type": "code",
   "execution_count": 46,
   "outputs": [],
   "source": [
    "%reset"
   ],
   "metadata": {
    "collapsed": false,
    "ExecuteTime": {
     "end_time": "2024-01-05T09:57:06.094820Z",
     "start_time": "2024-01-05T09:57:04.261711Z"
    }
   },
   "id": "eeb7ef81a4066810"
  },
  {
   "cell_type": "code",
   "execution_count": 47,
   "outputs": [],
   "source": [
    "from sklearn.model_selection import train_test_split, RandomizedSearchCV, TimeSeriesSplit\n",
    "from sklearn.metrics import accuracy_score, precision_score, recall_score, f1_score, confusion_matrix\n",
    "from sklearn.preprocessing import LabelEncoder\n",
    "\n",
    "from sklearn.ensemble import RandomForestClassifier\n",
    "from xgboost import XGBClassifier\n",
    "from sklearn.linear_model import LogisticRegression\n",
    "from sklearn.neural_network import MLPClassifier\n",
    "\n",
    "import pandas as pd\n",
    "from tqdm import tqdm\n",
    "import pickle\n"
   ],
   "metadata": {
    "collapsed": false,
    "ExecuteTime": {
     "end_time": "2024-01-05T09:57:06.100572Z",
     "start_time": "2024-01-05T09:57:06.097145Z"
    }
   },
   "id": "initial_id"
  },
  {
   "cell_type": "code",
   "execution_count": 48,
   "outputs": [],
   "source": [
    "df_all = pd.read_csv('../data/for_train/train_df.csv')\n",
    "df_league_0 = pd.read_csv('../data/for_train/df_league_0.csv')\n",
    "df_league_1 = pd.read_csv('../data/for_train/df_league_1.csv')\n",
    "df_league_2 = pd.read_csv('../data/for_train/df_league_2.csv')\n",
    "df_league_3 = pd.read_csv('../data/for_train/df_league_3.csv')\n"
   ],
   "metadata": {
    "collapsed": false,
    "ExecuteTime": {
     "end_time": "2024-01-05T09:57:07.608931Z",
     "start_time": "2024-01-05T09:57:06.098678Z"
    }
   },
   "id": "c6e7f44367f29caf"
  },
  {
   "cell_type": "code",
   "execution_count": 49,
   "outputs": [],
   "source": [
    "result_columns = ['Full_Time_Result_A', 'Full_Time_Result_D', 'Full_Time_Result_H']\n",
    "df_all['Match_Result'] = df_all[result_columns].idxmax(axis=1)\n"
   ],
   "metadata": {
    "collapsed": false,
    "ExecuteTime": {
     "end_time": "2024-01-05T09:57:07.622720Z",
     "start_time": "2024-01-05T09:57:07.610359Z"
    }
   },
   "id": "569c33dfd9bcb90c"
  },
  {
   "cell_type": "code",
   "execution_count": 50,
   "outputs": [],
   "source": [
    "df_all.drop(columns=result_columns, axis=1, inplace=True)"
   ],
   "metadata": {
    "collapsed": false,
    "ExecuteTime": {
     "end_time": "2024-01-05T09:57:07.688533Z",
     "start_time": "2024-01-05T09:57:07.623211Z"
    }
   },
   "id": "bd2e8559d873ced5"
  },
  {
   "cell_type": "code",
   "execution_count": 51,
   "outputs": [],
   "source": [
    "label_encoder = LabelEncoder()\n",
    "df_all['Match_Result'] = label_encoder.fit_transform(df_all['Match_Result'])"
   ],
   "metadata": {
    "collapsed": false,
    "ExecuteTime": {
     "end_time": "2024-01-05T09:57:07.688792Z",
     "start_time": "2024-01-05T09:57:07.686340Z"
    }
   },
   "id": "3e8e2e99e5b83c9e"
  },
  {
   "cell_type": "code",
   "execution_count": 52,
   "outputs": [],
   "source": [
    "# df_encoded = pd.get_dummies(df_all, columns=['Match_Result'], prefix='Match_Result')"
   ],
   "metadata": {
    "collapsed": false,
    "ExecuteTime": {
     "end_time": "2024-01-05T09:57:07.689411Z",
     "start_time": "2024-01-05T09:57:07.688005Z"
    }
   },
   "id": "57be68373a15162d"
  },
  {
   "cell_type": "code",
   "execution_count": 53,
   "outputs": [],
   "source": [
    "# def encode_result_column(df):\n",
    "#     result_columns = ['Full_Time_Result_A', 'Full_Time_Result_D', 'Full_Time_Result_H']\n",
    "#     encoding_scheme = {'Full_Time_Result_A': 1, 'Full_Time_Result_D': 2, 'Full_Time_Result_H': 0}\n",
    "#     df['Encoded_Result'] = df[result_columns].idxmax(axis=1)\n",
    "#     df['Encoded_Result'] = df['Encoded_Result'].map(encoding_scheme)\n",
    "#     return df\n",
    "# \n",
    "# # Dataframes to apply the function\n",
    "# dfs_to_encode = [\n",
    "#     (df_all, 'df_all'),\n",
    "#     (df_league_0, 'df_league_0'),\n",
    "#     (df_league_1, 'df_league_1'),\n",
    "#     (df_league_2, 'df_league_2'),\n",
    "#     (df_league_3, 'df_league_3')\n",
    "# ]\n",
    "# \n",
    "# # Apply the function to each dataframe\n",
    "# df_all = encode_result_column(df_all)\n",
    "# df_league_0 = encode_result_column(df_league_0)\n",
    "# df_league_1 = encode_result_column(df_league_1)\n",
    "# df_league_2 = encode_result_column(df_league_2)\n",
    "# df_league_3 = encode_result_column(df_league_3)\n",
    "\n"
   ],
   "metadata": {
    "collapsed": false,
    "ExecuteTime": {
     "end_time": "2024-01-05T09:57:07.693420Z",
     "start_time": "2024-01-05T09:57:07.689894Z"
    }
   },
   "id": "5c5de572c3d5e743"
  },
  {
   "cell_type": "code",
   "execution_count": 54,
   "outputs": [],
   "source": [
    "def run_classification_pipeline(df, df_name, target, model_name, model, param_dist, test_size=0.3, random_state=42):\n",
    "    # Split data into train and test\n",
    "    # columns_to_drop = ['Full_Time_Home_Team_Goals', 'Full_Time_Away_Team_Goals',\n",
    "    #                    'Full_Time_Result_A', 'Full_Time_Result_D', 'Full_Time_Result_H']\n",
    "\n",
    "    columns_to_drop = ['Full_Time_Home_Team_Goals', 'Full_Time_Away_Team_Goals']\n",
    "\n",
    "    X = df.drop(columns=[target] + columns_to_drop, axis=1)\n",
    "    y = df[target]\n",
    "    X_train, X_test, y_train, y_test = train_test_split(X, y, stratify=y, test_size=test_size, random_state=random_state)\n",
    "\n",
    "    # Define TimeSeriesSplit\n",
    "    tscv = TimeSeriesSplit(n_splits=5)\n",
    "\n",
    "    # Perform random search\n",
    "    random_search = RandomizedSearchCV(model, param_dist, n_iter=10, cv=tscv, scoring='accuracy', random_state=random_state)\n",
    "    random_search.fit(X_train, y_train)\n",
    "\n",
    "    # Evaluate model\n",
    "    best_model = random_search.best_estimator_\n",
    "    y_pred = best_model.predict(X_test)\n",
    "\n",
    "    # Save the model to a file\n",
    "    with open(f'../models/classification/{df_name}_{model_name}.pkl', 'wb') as file:\n",
    "        pickle.dump(best_model, file)\n",
    "\n",
    "    # Calculate metrics\n",
    "    accuracy = accuracy_score(y_test, y_pred)\n",
    "    precision = precision_score(y_test, y_pred, average='weighted')\n",
    "    recall = recall_score(y_test, y_pred, average='weighted')\n",
    "    f1 = f1_score(y_test, y_pred, average='weighted')\n",
    "    confusion = confusion_matrix(y_test, y_pred)\n",
    "\n",
    "    # Save results\n",
    "    result = {\n",
    "        'Model': model_name,\n",
    "        'Best Parameters': random_search.best_params_ if param_dist else \"No hyperparameter tuning\",\n",
    "        'Accuracy': accuracy,\n",
    "        'Precision': precision,\n",
    "        'Recall': recall,\n",
    "        'F1 Score': f1,\n",
    "        # 'Confusion Matrix': confusion\n",
    "    }\n",
    "\n",
    "    return pd.DataFrame([result])\n"
   ],
   "metadata": {
    "collapsed": false,
    "ExecuteTime": {
     "end_time": "2024-01-05T09:58:00.237616Z",
     "start_time": "2024-01-05T09:58:00.228720Z"
    }
   },
   "id": "bc2080d38a136b0d"
  },
  {
   "cell_type": "code",
   "execution_count": 55,
   "outputs": [
    {
     "name": "stderr",
     "output_type": "stream",
     "text": [
      "Processing dataframe df_all:   0%|          | 0/4 [00:00<?, ?it/s]/Users/maksim/anaconda3/lib/python3.11/site-packages/sklearn/model_selection/_search.py:307: UserWarning: The total space of parameters 6 is smaller than n_iter=10. Running 6 iterations. For exhaustive searches, use GridSearchCV.\n",
      "  warnings.warn(\n",
      "/Users/maksim/anaconda3/lib/python3.11/site-packages/sklearn/metrics/_classification.py:1469: UndefinedMetricWarning: Precision is ill-defined and being set to 0.0 in labels with no predicted samples. Use `zero_division` parameter to control this behavior.\n",
      "  _warn_prf(average, modifier, msg_start, len(result))\n",
      "Processing dataframe df_all:  75%|███████▌  | 3/4 [10:45<04:31, 271.14s/it]/Users/maksim/anaconda3/lib/python3.11/site-packages/sklearn/neural_network/_multilayer_perceptron.py:691: ConvergenceWarning: Stochastic Optimizer: Maximum iterations (200) reached and the optimization hasn't converged yet.\n",
      "  warnings.warn(\n",
      "/Users/maksim/anaconda3/lib/python3.11/site-packages/sklearn/metrics/_classification.py:1469: UndefinedMetricWarning: Precision is ill-defined and being set to 0.0 in labels with no predicted samples. Use `zero_division` parameter to control this behavior.\n",
      "  _warn_prf(average, modifier, msg_start, len(result))\n",
      "Processing dataframe df_all: 100%|██████████| 4/4 [20:50<00:00, 312.52s/it]"
     ]
    },
    {
     "name": "stdout",
     "output_type": "stream",
     "text": [
      "\n",
      "Dataframe:  df_all\n"
     ]
    },
    {
     "name": "stderr",
     "output_type": "stream",
     "text": [
      "\n"
     ]
    },
    {
     "data": {
      "text/plain": "                           Model  \\\n2                        XGBoost   \n1                  Random Forest   \n0            Logistic Regression   \n3  Neural Network Classification   \n\n                                     Best Parameters  Accuracy  Precision  \\\n2  {'n_estimators': 100, 'min_child_weight': 1, '...  0.559185   0.525743   \n1  {'n_estimators': 50, 'min_samples_split': 5, '...  0.550360   0.515892   \n0                                       {'C': 0.001}  0.430774   0.185566   \n3  {'max_iter': 200, 'hidden_layer_sizes': (50, 5...  0.430774   0.185566   \n\n     Recall  F1 Score  \n2  0.559185  0.506055  \n1  0.550360  0.518075  \n0  0.430774  0.259393  \n3  0.430774  0.259393  ",
      "text/html": "<div>\n<style scoped>\n    .dataframe tbody tr th:only-of-type {\n        vertical-align: middle;\n    }\n\n    .dataframe tbody tr th {\n        vertical-align: top;\n    }\n\n    .dataframe thead th {\n        text-align: right;\n    }\n</style>\n<table border=\"1\" class=\"dataframe\">\n  <thead>\n    <tr style=\"text-align: right;\">\n      <th></th>\n      <th>Model</th>\n      <th>Best Parameters</th>\n      <th>Accuracy</th>\n      <th>Precision</th>\n      <th>Recall</th>\n      <th>F1 Score</th>\n    </tr>\n  </thead>\n  <tbody>\n    <tr>\n      <th>2</th>\n      <td>XGBoost</td>\n      <td>{'n_estimators': 100, 'min_child_weight': 1, '...</td>\n      <td>0.559185</td>\n      <td>0.525743</td>\n      <td>0.559185</td>\n      <td>0.506055</td>\n    </tr>\n    <tr>\n      <th>1</th>\n      <td>Random Forest</td>\n      <td>{'n_estimators': 50, 'min_samples_split': 5, '...</td>\n      <td>0.550360</td>\n      <td>0.515892</td>\n      <td>0.550360</td>\n      <td>0.518075</td>\n    </tr>\n    <tr>\n      <th>0</th>\n      <td>Logistic Regression</td>\n      <td>{'C': 0.001}</td>\n      <td>0.430774</td>\n      <td>0.185566</td>\n      <td>0.430774</td>\n      <td>0.259393</td>\n    </tr>\n    <tr>\n      <th>3</th>\n      <td>Neural Network Classification</td>\n      <td>{'max_iter': 200, 'hidden_layer_sizes': (50, 5...</td>\n      <td>0.430774</td>\n      <td>0.185566</td>\n      <td>0.430774</td>\n      <td>0.259393</td>\n    </tr>\n  </tbody>\n</table>\n</div>"
     },
     "metadata": {},
     "output_type": "display_data"
    }
   ],
   "source": [
    "# Define models and hyperparameter distributions for classification\n",
    "classification_models = [\n",
    "    ('Logistic Regression', LogisticRegression()),\n",
    "    ('Random Forest', RandomForestClassifier()),\n",
    "    ('XGBoost', XGBClassifier()),\n",
    "    ('Neural Network Classification', MLPClassifier())\n",
    "]\n",
    "\n",
    "classification_param_dist = {\n",
    "    'Logistic Regression': {'C': [0.001, 0.01, 0.1, 1, 10, 100]},\n",
    "\n",
    "    'Random Forest': {\n",
    "        'n_estimators': [10, 50, 100],\n",
    "        'max_depth': [None, 10, 20],\n",
    "        'min_samples_split': [2, 5, 10],\n",
    "        'max_features': ['sqrt', 'log2', None]},\n",
    "\n",
    "    'XGBoost': {'n_estimators': [50, 100, 200],\n",
    "                'learning_rate': [0.01, 0.1, 0.2],\n",
    "                'max_depth': [3, 5, 7],\n",
    "                'min_child_weight': [1, 3, 5]},\n",
    "\n",
    "    'Neural Network Classification': {\n",
    "        'hidden_layer_sizes': [(50, 50), (100, 50, 25)],\n",
    "        'activation': ['relu', 'tanh'],\n",
    "        'alpha': [0.0001, 0.001, 0.01, 0.1, 1],\n",
    "        'max_iter': [200]}\n",
    "\n",
    "}\n",
    "\n",
    "\n",
    "dfs = [\n",
    "    # (df_encoded, 'df_encoded')\n",
    "    (df_all, 'df_all'),\n",
    "    # (df_league_0, 'df_league_0'),\n",
    "    # (df_league_1, 'df_league_1'),\n",
    "    # (df_league_2, 'df_league_2'),\n",
    "    # (df_league_3, 'df_league_3')\n",
    "]\n",
    "\n",
    "target = 'Match_Result'\n",
    "\n",
    "\n",
    "# Run the pipeline for each classification model\n",
    "for df, df_name in dfs:\n",
    "    result_df = pd.DataFrame()\n",
    "    for model_name, model in tqdm(classification_models, desc=f'Processing dataframe {df_name}'):\n",
    "        result = run_classification_pipeline(df, df_name, target, model_name, model, classification_param_dist[model_name], test_size=0.3, random_state=42)\n",
    "        result_df = pd.concat([result_df, result], ignore_index=True)\n",
    "    print('\\nDataframe: ', df_name)\n",
    "    display(result_df.sort_values(by='Accuracy', ascending=False))\n"
   ],
   "metadata": {
    "collapsed": false,
    "ExecuteTime": {
     "end_time": "2024-01-05T10:18:51.155968Z",
     "start_time": "2024-01-05T09:58:01.037331Z"
    }
   },
   "id": "e21c59206a9b73cd"
  },
  {
   "cell_type": "code",
   "execution_count": null,
   "outputs": [],
   "source": [],
   "metadata": {
    "collapsed": false
   },
   "id": "9f57a43bfffe0d9d"
  }
 ],
 "metadata": {
  "kernelspec": {
   "display_name": "Python 3",
   "language": "python",
   "name": "python3"
  },
  "language_info": {
   "codemirror_mode": {
    "name": "ipython",
    "version": 2
   },
   "file_extension": ".py",
   "mimetype": "text/x-python",
   "name": "python",
   "nbconvert_exporter": "python",
   "pygments_lexer": "ipython2",
   "version": "2.7.6"
  }
 },
 "nbformat": 4,
 "nbformat_minor": 5
}
