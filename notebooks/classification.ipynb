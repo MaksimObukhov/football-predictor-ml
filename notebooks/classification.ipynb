{
 "cells": [
  {
   "cell_type": "code",
   "execution_count": 182,
   "outputs": [],
   "source": [
    "%reset"
   ],
   "metadata": {
    "collapsed": false,
    "ExecuteTime": {
     "end_time": "2024-01-05T20:51:24.031837Z",
     "start_time": "2024-01-05T20:51:22.800826Z"
    }
   },
   "id": "eeb7ef81a4066810"
  },
  {
   "cell_type": "code",
   "execution_count": 183,
   "outputs": [],
   "source": [
    "from sklearn.model_selection import train_test_split, RandomizedSearchCV, TimeSeriesSplit\n",
    "from sklearn.metrics import accuracy_score, precision_score, recall_score, f1_score, confusion_matrix\n",
    "from sklearn.preprocessing import LabelEncoder\n",
    "\n",
    "from sklearn.ensemble import GradientBoostingClassifier, RandomForestClassifier\n",
    "from sklearn.gaussian_process import GaussianProcessClassifier\n",
    "from sklearn.svm import LinearSVC\n",
    "from sklearn.linear_model import LogisticRegression, LogisticRegressionCV, SGDClassifier, Perceptron, PassiveAggressiveClassifier\n",
    "from xgboost import XGBClassifier\n",
    "from sklearn.neural_network import MLPClassifier\n",
    "from sklearn.neighbors import NearestCentroid, KNeighborsClassifier\n",
    "\n",
    "import pandas as pd\n",
    "from tqdm import tqdm\n",
    "import pickle\n",
    "import category_encoders as ce"
   ],
   "metadata": {
    "collapsed": false,
    "ExecuteTime": {
     "end_time": "2024-01-05T20:51:24.037208Z",
     "start_time": "2024-01-05T20:51:24.032987Z"
    }
   },
   "id": "initial_id"
  },
  {
   "cell_type": "code",
   "execution_count": 184,
   "outputs": [],
   "source": [
    "df_all = pd.read_csv('../data/for_train/train_df.csv')\n",
    "df_league_0 = pd.read_csv('../data/for_train/df_league_0.csv')\n",
    "df_league_1 = pd.read_csv('../data/for_train/df_league_1.csv')\n",
    "df_league_2 = pd.read_csv('../data/for_train/df_league_2.csv')\n",
    "df_league_3 = pd.read_csv('../data/for_train/df_league_3.csv')\n"
   ],
   "metadata": {
    "collapsed": false,
    "ExecuteTime": {
     "end_time": "2024-01-05T20:51:25.525461Z",
     "start_time": "2024-01-05T20:51:24.035284Z"
    }
   },
   "id": "c6e7f44367f29caf"
  },
  {
   "cell_type": "code",
   "execution_count": 185,
   "outputs": [],
   "source": [
    "# class_names = ['Full_Time_Result_A', 'Full_Time_Result_D', 'Full_Time_Result_H']\n",
    "# \n",
    "# df = df_league_0.copy()\n",
    "# \n",
    "# df['Match_Result'] = df[class_names].idxmax(axis=1)\n",
    "# \n",
    "# enc = ce.OneHotEncoder().fit(df['Match_Result'].astype(str))\n",
    "# y_onehot = enc.transform(df['Match_Result'].astype(str))\n",
    "# print(\"One-hot encoded labels:\")\n",
    "# print(y_onehot)\n",
    "# \n",
    "# names = y_onehot.columns\n",
    "# \n",
    "# for class_ in names:\n",
    "#     enc_target = ce.TargetEncoder(smoothing=0)\n",
    "#     transformed_color = enc_target.fit_transform(df['Match_Result'], y_onehot[class_])\n",
    "#     print(f\"\\nTarget encoding for {class_}:\")\n",
    "#     print(transformed_color)"
   ],
   "metadata": {
    "collapsed": false,
    "ExecuteTime": {
     "end_time": "2024-01-05T20:51:25.531159Z",
     "start_time": "2024-01-05T20:51:25.526386Z"
    }
   },
   "id": "18d2c9204d5d5f18"
  },
  {
   "cell_type": "code",
   "execution_count": 174,
   "outputs": [],
   "source": [
    "def target_encode_multiclass(X,y): #X,y are pandas df and series\n",
    "    y=y.astype(str)   #convert to string to onehot encode\n",
    "    enc=ce.OneHotEncoder().fit(y)\n",
    "    y_onehot=enc.transform(y)\n",
    "    class_names=y_onehot.columns  #names of onehot encoded columns\n",
    "    X_obj=X.select_dtypes('object') #separate categorical columns\n",
    "    X=X.select_dtypes(exclude='object')\n",
    "    for class_ in class_names:\n",
    "\n",
    "        enc=ce.TargetEncoder()\n",
    "        enc.fit(X_obj,y_onehot[class_]) #convert all categorical \n",
    "        temp=enc.transform(X_obj)       #columns for class_\n",
    "        temp.columns=[str(x)+'_'+str(class_) for x in temp.columns]\n",
    "        X=pd.concat([X,temp],axis=1)    #add to original dataset\n",
    "\n",
    "    return X"
   ],
   "metadata": {
    "collapsed": false,
    "ExecuteTime": {
     "end_time": "2024-01-05T20:51:19.286043Z",
     "start_time": "2024-01-05T20:51:19.278789Z"
    }
   },
   "id": "35611d989cd37578"
  },
  {
   "cell_type": "code",
   "execution_count": 175,
   "outputs": [
    {
     "name": "stdout",
     "output_type": "stream",
     "text": [
      "Warning: No categorical columns found. Calling 'transform' will only return input data.\n",
      "Warning: No categorical columns found. Calling 'transform' will only return input data.\n",
      "Warning: No categorical columns found. Calling 'transform' will only return input data.\n"
     ]
    }
   ],
   "source": [
    "df = df_league_0.copy()\n",
    "class_names = ['Full_Time_Result_A', 'Full_Time_Result_D', 'Full_Time_Result_H']\n",
    "df['Match_Result'] = df[class_names].idxmax(axis=1).astype(object)\n",
    "X = df.drop(columns=['Match_Result'] + class_names, axis=1)\n",
    "y = df['Match_Result']\n",
    "X_encoded = target_encode_multiclass(X, y)"
   ],
   "metadata": {
    "collapsed": false,
    "ExecuteTime": {
     "end_time": "2024-01-05T20:51:19.322452Z",
     "start_time": "2024-01-05T20:51:19.289762Z"
    }
   },
   "id": "f20b312f7a17875a"
  },
  {
   "cell_type": "code",
   "execution_count": 176,
   "outputs": [
    {
     "data": {
      "text/plain": "League                         int64\nMatch_Date                   float64\nFull_Time_Home_Team_Goals    float64\nFull_Time_Away_Team_Goals    float64\nDayOfWeek                    float64\n                              ...   \nAwayTeam_Waregem               int64\nAwayTeam_Groningen             int64\nAwayTeam_Ajax                  int64\nAwayTeam_Monza                 int64\nMatch_Result                  object\nLength: 975, dtype: object"
     },
     "execution_count": 176,
     "metadata": {},
     "output_type": "execute_result"
    }
   ],
   "source": [
    "# result_columns = ['Full_Time_Result_A', 'Full_Time_Result_D', 'Full_Time_Result_H']\n",
    "# df_league_0['Match_Result'] = df_league_0[result_columns].idxmax(axis=1)\n",
    "df.dtypes"
   ],
   "metadata": {
    "collapsed": false,
    "ExecuteTime": {
     "end_time": "2024-01-05T20:51:19.322747Z",
     "start_time": "2024-01-05T20:51:19.318660Z"
    }
   },
   "id": "569c33dfd9bcb90c"
  },
  {
   "cell_type": "code",
   "execution_count": 177,
   "outputs": [],
   "source": [
    "columns_to_drop = ['Full_Time_Home_Team_Goals', 'Full_Time_Away_Team_Goals']\n",
    "df_league_0.drop(columns=columns_to_drop, axis=1, inplace=True)"
   ],
   "metadata": {
    "collapsed": false,
    "ExecuteTime": {
     "end_time": "2024-01-05T20:51:19.332519Z",
     "start_time": "2024-01-05T20:51:19.324375Z"
    }
   },
   "id": "bd2e8559d873ced5"
  },
  {
   "cell_type": "code",
   "execution_count": 178,
   "outputs": [],
   "source": [
    "# label_encoder = LabelEncoder()\n",
    "# df_league_0['Match_Result'] = label_encoder.fit_transform(df_league_0['Match_Result'])"
   ],
   "metadata": {
    "collapsed": false,
    "ExecuteTime": {
     "end_time": "2024-01-05T20:51:19.332700Z",
     "start_time": "2024-01-05T20:51:19.326514Z"
    }
   },
   "id": "3e8e2e99e5b83c9e"
  },
  {
   "cell_type": "code",
   "execution_count": 179,
   "outputs": [],
   "source": [
    "def run_classification_pipeline(df, df_name, target, model_name, model, param_dist, test_size=0.3, random_state=42):\n",
    "    # Split data into train and test\n",
    "    \n",
    "\n",
    "    train_split = df[df['Season_2122'] != 1]\n",
    "    test_split = df[df['Season_2122'] == 1]\n",
    "    \n",
    "    # X = train_split.drop(columns=[target] + columns_to_drop, axis=1)\n",
    "    # y = test_split[target]\n",
    "    # X_train, X_test, y_train, y_test = train_test_split(X, y, stratify=y, test_size=test_size, random_state=random_state)\n",
    "\n",
    "    X_train = train_split.drop(columns=target, axis=1)\n",
    "    y_train = train_split[target]\n",
    "    \n",
    "    X_test = test_split.drop(columns=target, axis=1)\n",
    "    y_test = test_split[target]\n",
    "\n",
    "    # Define TimeSeriesSplit\n",
    "    tscv = TimeSeriesSplit(n_splits=5)\n",
    "\n",
    "    # Perform random search\n",
    "    random_search = RandomizedSearchCV(model, param_dist, n_iter=5, cv=tscv, scoring='accuracy', random_state=random_state)\n",
    "    random_search.fit(X_train, y_train)\n",
    "\n",
    "    # Evaluate model\n",
    "    best_model = random_search.best_estimator_\n",
    "    y_pred = best_model.predict(X_test)\n",
    "\n",
    "    # Save the model to a file\n",
    "    with open(f'../models/classification/{df_name}_{model_name}.pkl', 'wb') as file:\n",
    "        pickle.dump(best_model, file)\n",
    "\n",
    "    # Calculate metrics\n",
    "    accuracy = accuracy_score(y_test, y_pred)\n",
    "    precision = precision_score(y_test, y_pred, average='weighted', zero_division='warn')\n",
    "    recall = recall_score(y_test, y_pred, average='weighted')\n",
    "    f1 = f1_score(y_test, y_pred, average='weighted')\n",
    "    confusion = confusion_matrix(y_test, y_pred)\n",
    "\n",
    "    # Save results\n",
    "    result = {\n",
    "        'Model': model_name,\n",
    "        'Best Parameters': random_search.best_params_ if param_dist else \"No hyperparameter tuning\",\n",
    "        'Accuracy': accuracy,\n",
    "        'Precision': precision,\n",
    "        'Recall': recall,\n",
    "        'F1 Score': f1,\n",
    "        # 'Confusion Matrix': confusion\n",
    "    }\n",
    "\n",
    "    return pd.DataFrame([result])\n"
   ],
   "metadata": {
    "collapsed": false,
    "ExecuteTime": {
     "end_time": "2024-01-05T20:51:19.333448Z",
     "start_time": "2024-01-05T20:51:19.332126Z"
    }
   },
   "id": "bc2080d38a136b0d"
  },
  {
   "cell_type": "code",
   "execution_count": 180,
   "outputs": [],
   "source": [
    "# Define models and hyperparameter distributions for classification\n",
    "classification_models = [\n",
    "    ('Gaussian Process', GaussianProcessClassifier(multi_class='one_vs_rest')),\n",
    "    ('Linear SVM', LinearSVC(multi_class='ovr')),\n",
    "    ('Logistic Regression', LogisticRegression(multi_class='ovr')),\n",
    "    ('Logistic Regression CV', LogisticRegressionCV(multi_class='ovr')),\n",
    "    ('SGD Classifier', SGDClassifier()),\n",
    "    ('Passive Aggressive Classifier', PassiveAggressiveClassifier()),\n",
    "    ('Random Forest', RandomForestClassifier()),\n",
    "    ('XGBoost', XGBClassifier()),\n",
    "    ('K Neighbors Classifier', KNeighborsClassifier()),\n",
    "    ('Neural Network Classification', MLPClassifier())\n",
    "]\n",
    "\n",
    "classification_param_dist = {\n",
    "    'Gaussian Process': {},  # No hyperparameters specified\n",
    "\n",
    "    'Logistic Regression': {\n",
    "        'C': [0.001, 0.01, 0.1, 1, 10, 100],\n",
    "        'penalty': ['l1', 'l2', 'elasticnet', 'none'],\n",
    "        'solver': ['newton-cg', 'lbfgs', 'liblinear', 'sag', 'saga'],\n",
    "        'max_iter': [50, 100, 200],\n",
    "    },\n",
    "\n",
    "    'Linear SVM': {\n",
    "        'C': [0.001, 0.01, 0.1, 1, 10, 100],\n",
    "        'penalty': ['l1', 'l2'],\n",
    "        'loss': ['hinge', 'squared_hinge'],\n",
    "        'dual': [True, False],\n",
    "        'max_iter': [1000, 2000, 3000],\n",
    "    },\n",
    "\n",
    "    'Logistic Regression CV': {'Cs': [1, 3, 5],\n",
    "                               'max_iter': [100, 500, 1000],\n",
    "                               'cv': [3, 5, 10]},\n",
    "\n",
    "    'SGD Classifier': {'alpha': [0.0001, 0.001, 0.01, 0.1, 1],\n",
    "                       'max_iter': [100, 500, 1000],\n",
    "                       'loss': ['hinge', 'log', 'modified_huber', 'squared_hinge', 'perceptron']},\n",
    "\n",
    "\n",
    "    'Passive Aggressive Classifier': {'C': [0.001, 0.01, 0.1, 1, 10, 100],\n",
    "                                      'max_iter': [100, 500, 1000],\n",
    "                                      'loss': ['hinge', 'squared_hinge']},\n",
    "\n",
    "    'Random Forest': {'n_estimators': [10, 50, 100],\n",
    "                      'max_depth': [None, 10, 20],\n",
    "                      'min_samples_split': [2, 5, 10],\n",
    "                      'max_features': ['sqrt', 'log2', None]},\n",
    "\n",
    "    'XGBoost': {'n_estimators': [50, 100, 200],\n",
    "                'learning_rate': [0.01, 0.1, 0.2],\n",
    "                'max_depth': [3, 5, 7],\n",
    "                'min_child_weight': [1, 3, 5]},\n",
    "\n",
    "    'K Neighbors Classifier': {'n_neighbors': [3, 5, 10, 20],\n",
    "                               'weights': ['uniform', 'distance'],\n",
    "                               'algorithm': ['auto', 'ball_tree', 'kd_tree', 'brute'],\n",
    "                               'leaf_size': [30, 50, 100],\n",
    "                               'p': [1, 2]},\n",
    "    \n",
    "    'Neural Network Classification': {'hidden_layer_sizes': [(50, 50), (100, 50, 25)],\n",
    "                                      'activation': ['relu', 'tanh'],\n",
    "                                      'alpha': [0.0001, 0.001, 0.01, 0.1, 1],\n",
    "                                      'max_iter': [200]}\n",
    "}\n"
   ],
   "metadata": {
    "collapsed": false,
    "ExecuteTime": {
     "end_time": "2024-01-05T20:51:19.350020Z",
     "start_time": "2024-01-05T20:51:19.337540Z"
    }
   },
   "id": "c4781ff1b67a456e"
  },
  {
   "cell_type": "code",
   "execution_count": 181,
   "outputs": [
    {
     "name": "stderr",
     "output_type": "stream",
     "text": [
      "Processing dataframe df_league_0:   0%|          | 0/10 [00:00<?, ?it/s]/Users/maksim/anaconda3/lib/python3.11/site-packages/sklearn/model_selection/_search.py:307: UserWarning: The total space of parameters 1 is smaller than n_iter=5. Running 1 iterations. For exhaustive searches, use GridSearchCV.\n",
      "  warnings.warn(\n",
      "Processing dataframe df_league_0:   0%|          | 0/10 [00:00<?, ?it/s]\n"
     ]
    },
    {
     "ename": "ValueError",
     "evalue": "\nAll the 5 fits failed.\nIt is very likely that your model is misconfigured.\nYou can try to debug the error by setting error_score='raise'.\n\nBelow are more details about the failures:\n--------------------------------------------------------------------------------\n1 fits failed with the following error:\nTraceback (most recent call last):\n  File \"/Users/maksim/anaconda3/lib/python3.11/site-packages/sklearn/model_selection/_validation.py\", line 732, in _fit_and_score\n    estimator.fit(X_train, y_train, **fit_params)\n  File \"/Users/maksim/anaconda3/lib/python3.11/site-packages/sklearn/base.py\", line 1151, in wrapper\n    return fit_method(estimator, *args, **kwargs)\n           ^^^^^^^^^^^^^^^^^^^^^^^^^^^^^^^^^^^^^^\n  File \"/Users/maksim/anaconda3/lib/python3.11/site-packages/sklearn/gaussian_process/_gpc.py\", line 703, in fit\n    X, y = self._validate_data(\n           ^^^^^^^^^^^^^^^^^^^^\n  File \"/Users/maksim/anaconda3/lib/python3.11/site-packages/sklearn/base.py\", line 621, in _validate_data\n    X, y = check_X_y(X, y, **check_params)\n           ^^^^^^^^^^^^^^^^^^^^^^^^^^^^^^^\n  File \"/Users/maksim/anaconda3/lib/python3.11/site-packages/sklearn/utils/validation.py\", line 1163, in check_X_y\n    y = _check_y(y, multi_output=multi_output, y_numeric=y_numeric, estimator=estimator)\n        ^^^^^^^^^^^^^^^^^^^^^^^^^^^^^^^^^^^^^^^^^^^^^^^^^^^^^^^^^^^^^^^^^^^^^^^^^^^^^^^^\n  File \"/Users/maksim/anaconda3/lib/python3.11/site-packages/sklearn/utils/validation.py\", line 1184, in _check_y\n    y = column_or_1d(y, warn=True)\n        ^^^^^^^^^^^^^^^^^^^^^^^^^^\n  File \"/Users/maksim/anaconda3/lib/python3.11/site-packages/sklearn/utils/validation.py\", line 1245, in column_or_1d\n    raise ValueError(\nValueError: y should be a 1d array, got an array of shape (386, 3) instead.\n\n--------------------------------------------------------------------------------\n1 fits failed with the following error:\nTraceback (most recent call last):\n  File \"/Users/maksim/anaconda3/lib/python3.11/site-packages/sklearn/model_selection/_validation.py\", line 732, in _fit_and_score\n    estimator.fit(X_train, y_train, **fit_params)\n  File \"/Users/maksim/anaconda3/lib/python3.11/site-packages/sklearn/base.py\", line 1151, in wrapper\n    return fit_method(estimator, *args, **kwargs)\n           ^^^^^^^^^^^^^^^^^^^^^^^^^^^^^^^^^^^^^^\n  File \"/Users/maksim/anaconda3/lib/python3.11/site-packages/sklearn/gaussian_process/_gpc.py\", line 703, in fit\n    X, y = self._validate_data(\n           ^^^^^^^^^^^^^^^^^^^^\n  File \"/Users/maksim/anaconda3/lib/python3.11/site-packages/sklearn/base.py\", line 621, in _validate_data\n    X, y = check_X_y(X, y, **check_params)\n           ^^^^^^^^^^^^^^^^^^^^^^^^^^^^^^^\n  File \"/Users/maksim/anaconda3/lib/python3.11/site-packages/sklearn/utils/validation.py\", line 1163, in check_X_y\n    y = _check_y(y, multi_output=multi_output, y_numeric=y_numeric, estimator=estimator)\n        ^^^^^^^^^^^^^^^^^^^^^^^^^^^^^^^^^^^^^^^^^^^^^^^^^^^^^^^^^^^^^^^^^^^^^^^^^^^^^^^^\n  File \"/Users/maksim/anaconda3/lib/python3.11/site-packages/sklearn/utils/validation.py\", line 1184, in _check_y\n    y = column_or_1d(y, warn=True)\n        ^^^^^^^^^^^^^^^^^^^^^^^^^^\n  File \"/Users/maksim/anaconda3/lib/python3.11/site-packages/sklearn/utils/validation.py\", line 1245, in column_or_1d\n    raise ValueError(\nValueError: y should be a 1d array, got an array of shape (769, 3) instead.\n\n--------------------------------------------------------------------------------\n1 fits failed with the following error:\nTraceback (most recent call last):\n  File \"/Users/maksim/anaconda3/lib/python3.11/site-packages/sklearn/model_selection/_validation.py\", line 732, in _fit_and_score\n    estimator.fit(X_train, y_train, **fit_params)\n  File \"/Users/maksim/anaconda3/lib/python3.11/site-packages/sklearn/base.py\", line 1151, in wrapper\n    return fit_method(estimator, *args, **kwargs)\n           ^^^^^^^^^^^^^^^^^^^^^^^^^^^^^^^^^^^^^^\n  File \"/Users/maksim/anaconda3/lib/python3.11/site-packages/sklearn/gaussian_process/_gpc.py\", line 703, in fit\n    X, y = self._validate_data(\n           ^^^^^^^^^^^^^^^^^^^^\n  File \"/Users/maksim/anaconda3/lib/python3.11/site-packages/sklearn/base.py\", line 621, in _validate_data\n    X, y = check_X_y(X, y, **check_params)\n           ^^^^^^^^^^^^^^^^^^^^^^^^^^^^^^^\n  File \"/Users/maksim/anaconda3/lib/python3.11/site-packages/sklearn/utils/validation.py\", line 1163, in check_X_y\n    y = _check_y(y, multi_output=multi_output, y_numeric=y_numeric, estimator=estimator)\n        ^^^^^^^^^^^^^^^^^^^^^^^^^^^^^^^^^^^^^^^^^^^^^^^^^^^^^^^^^^^^^^^^^^^^^^^^^^^^^^^^\n  File \"/Users/maksim/anaconda3/lib/python3.11/site-packages/sklearn/utils/validation.py\", line 1184, in _check_y\n    y = column_or_1d(y, warn=True)\n        ^^^^^^^^^^^^^^^^^^^^^^^^^^\n  File \"/Users/maksim/anaconda3/lib/python3.11/site-packages/sklearn/utils/validation.py\", line 1245, in column_or_1d\n    raise ValueError(\nValueError: y should be a 1d array, got an array of shape (1152, 3) instead.\n\n--------------------------------------------------------------------------------\n1 fits failed with the following error:\nTraceback (most recent call last):\n  File \"/Users/maksim/anaconda3/lib/python3.11/site-packages/sklearn/model_selection/_validation.py\", line 732, in _fit_and_score\n    estimator.fit(X_train, y_train, **fit_params)\n  File \"/Users/maksim/anaconda3/lib/python3.11/site-packages/sklearn/base.py\", line 1151, in wrapper\n    return fit_method(estimator, *args, **kwargs)\n           ^^^^^^^^^^^^^^^^^^^^^^^^^^^^^^^^^^^^^^\n  File \"/Users/maksim/anaconda3/lib/python3.11/site-packages/sklearn/gaussian_process/_gpc.py\", line 703, in fit\n    X, y = self._validate_data(\n           ^^^^^^^^^^^^^^^^^^^^\n  File \"/Users/maksim/anaconda3/lib/python3.11/site-packages/sklearn/base.py\", line 621, in _validate_data\n    X, y = check_X_y(X, y, **check_params)\n           ^^^^^^^^^^^^^^^^^^^^^^^^^^^^^^^\n  File \"/Users/maksim/anaconda3/lib/python3.11/site-packages/sklearn/utils/validation.py\", line 1163, in check_X_y\n    y = _check_y(y, multi_output=multi_output, y_numeric=y_numeric, estimator=estimator)\n        ^^^^^^^^^^^^^^^^^^^^^^^^^^^^^^^^^^^^^^^^^^^^^^^^^^^^^^^^^^^^^^^^^^^^^^^^^^^^^^^^\n  File \"/Users/maksim/anaconda3/lib/python3.11/site-packages/sklearn/utils/validation.py\", line 1184, in _check_y\n    y = column_or_1d(y, warn=True)\n        ^^^^^^^^^^^^^^^^^^^^^^^^^^\n  File \"/Users/maksim/anaconda3/lib/python3.11/site-packages/sklearn/utils/validation.py\", line 1245, in column_or_1d\n    raise ValueError(\nValueError: y should be a 1d array, got an array of shape (1535, 3) instead.\n\n--------------------------------------------------------------------------------\n1 fits failed with the following error:\nTraceback (most recent call last):\n  File \"/Users/maksim/anaconda3/lib/python3.11/site-packages/sklearn/model_selection/_validation.py\", line 732, in _fit_and_score\n    estimator.fit(X_train, y_train, **fit_params)\n  File \"/Users/maksim/anaconda3/lib/python3.11/site-packages/sklearn/base.py\", line 1151, in wrapper\n    return fit_method(estimator, *args, **kwargs)\n           ^^^^^^^^^^^^^^^^^^^^^^^^^^^^^^^^^^^^^^\n  File \"/Users/maksim/anaconda3/lib/python3.11/site-packages/sklearn/gaussian_process/_gpc.py\", line 703, in fit\n    X, y = self._validate_data(\n           ^^^^^^^^^^^^^^^^^^^^\n  File \"/Users/maksim/anaconda3/lib/python3.11/site-packages/sklearn/base.py\", line 621, in _validate_data\n    X, y = check_X_y(X, y, **check_params)\n           ^^^^^^^^^^^^^^^^^^^^^^^^^^^^^^^\n  File \"/Users/maksim/anaconda3/lib/python3.11/site-packages/sklearn/utils/validation.py\", line 1163, in check_X_y\n    y = _check_y(y, multi_output=multi_output, y_numeric=y_numeric, estimator=estimator)\n        ^^^^^^^^^^^^^^^^^^^^^^^^^^^^^^^^^^^^^^^^^^^^^^^^^^^^^^^^^^^^^^^^^^^^^^^^^^^^^^^^\n  File \"/Users/maksim/anaconda3/lib/python3.11/site-packages/sklearn/utils/validation.py\", line 1184, in _check_y\n    y = column_or_1d(y, warn=True)\n        ^^^^^^^^^^^^^^^^^^^^^^^^^^\n  File \"/Users/maksim/anaconda3/lib/python3.11/site-packages/sklearn/utils/validation.py\", line 1245, in column_or_1d\n    raise ValueError(\nValueError: y should be a 1d array, got an array of shape (1918, 3) instead.\n",
     "output_type": "error",
     "traceback": [
      "\u001B[0;31m---------------------------------------------------------------------------\u001B[0m",
      "\u001B[0;31mValueError\u001B[0m                                Traceback (most recent call last)",
      "Cell \u001B[0;32mIn[181], line 17\u001B[0m\n\u001B[1;32m     15\u001B[0m result_df \u001B[38;5;241m=\u001B[39m pd\u001B[38;5;241m.\u001B[39mDataFrame()\n\u001B[1;32m     16\u001B[0m \u001B[38;5;28;01mfor\u001B[39;00m model_name, model \u001B[38;5;129;01min\u001B[39;00m tqdm(classification_models, desc\u001B[38;5;241m=\u001B[39m\u001B[38;5;124mf\u001B[39m\u001B[38;5;124m'\u001B[39m\u001B[38;5;124mProcessing dataframe \u001B[39m\u001B[38;5;132;01m{\u001B[39;00mdf_name\u001B[38;5;132;01m}\u001B[39;00m\u001B[38;5;124m'\u001B[39m):\n\u001B[0;32m---> 17\u001B[0m     result \u001B[38;5;241m=\u001B[39m run_classification_pipeline(df, df_name, target, model_name, model, classification_param_dist[model_name], test_size\u001B[38;5;241m=\u001B[39m\u001B[38;5;241m0.3\u001B[39m, random_state\u001B[38;5;241m=\u001B[39m\u001B[38;5;241m42\u001B[39m)\n\u001B[1;32m     18\u001B[0m     result_df \u001B[38;5;241m=\u001B[39m pd\u001B[38;5;241m.\u001B[39mconcat([result_df, result], ignore_index\u001B[38;5;241m=\u001B[39m\u001B[38;5;28;01mTrue\u001B[39;00m)\n\u001B[1;32m     19\u001B[0m     display(result_df)\n",
      "Cell \u001B[0;32mIn[179], line 23\u001B[0m, in \u001B[0;36mrun_classification_pipeline\u001B[0;34m(df, df_name, target, model_name, model, param_dist, test_size, random_state)\u001B[0m\n\u001B[1;32m     21\u001B[0m \u001B[38;5;66;03m# Perform random search\u001B[39;00m\n\u001B[1;32m     22\u001B[0m random_search \u001B[38;5;241m=\u001B[39m RandomizedSearchCV(model, param_dist, n_iter\u001B[38;5;241m=\u001B[39m\u001B[38;5;241m5\u001B[39m, cv\u001B[38;5;241m=\u001B[39mtscv, scoring\u001B[38;5;241m=\u001B[39m\u001B[38;5;124m'\u001B[39m\u001B[38;5;124maccuracy\u001B[39m\u001B[38;5;124m'\u001B[39m, random_state\u001B[38;5;241m=\u001B[39mrandom_state)\n\u001B[0;32m---> 23\u001B[0m random_search\u001B[38;5;241m.\u001B[39mfit(X_train, y_train)\n\u001B[1;32m     25\u001B[0m \u001B[38;5;66;03m# Evaluate model\u001B[39;00m\n\u001B[1;32m     26\u001B[0m best_model \u001B[38;5;241m=\u001B[39m random_search\u001B[38;5;241m.\u001B[39mbest_estimator_\n",
      "File \u001B[0;32m~/anaconda3/lib/python3.11/site-packages/sklearn/base.py:1151\u001B[0m, in \u001B[0;36m_fit_context.<locals>.decorator.<locals>.wrapper\u001B[0;34m(estimator, *args, **kwargs)\u001B[0m\n\u001B[1;32m   1144\u001B[0m     estimator\u001B[38;5;241m.\u001B[39m_validate_params()\n\u001B[1;32m   1146\u001B[0m \u001B[38;5;28;01mwith\u001B[39;00m config_context(\n\u001B[1;32m   1147\u001B[0m     skip_parameter_validation\u001B[38;5;241m=\u001B[39m(\n\u001B[1;32m   1148\u001B[0m         prefer_skip_nested_validation \u001B[38;5;129;01mor\u001B[39;00m global_skip_validation\n\u001B[1;32m   1149\u001B[0m     )\n\u001B[1;32m   1150\u001B[0m ):\n\u001B[0;32m-> 1151\u001B[0m     \u001B[38;5;28;01mreturn\u001B[39;00m fit_method(estimator, \u001B[38;5;241m*\u001B[39margs, \u001B[38;5;241m*\u001B[39m\u001B[38;5;241m*\u001B[39mkwargs)\n",
      "File \u001B[0;32m~/anaconda3/lib/python3.11/site-packages/sklearn/model_selection/_search.py:898\u001B[0m, in \u001B[0;36mBaseSearchCV.fit\u001B[0;34m(self, X, y, groups, **fit_params)\u001B[0m\n\u001B[1;32m    892\u001B[0m     results \u001B[38;5;241m=\u001B[39m \u001B[38;5;28mself\u001B[39m\u001B[38;5;241m.\u001B[39m_format_results(\n\u001B[1;32m    893\u001B[0m         all_candidate_params, n_splits, all_out, all_more_results\n\u001B[1;32m    894\u001B[0m     )\n\u001B[1;32m    896\u001B[0m     \u001B[38;5;28;01mreturn\u001B[39;00m results\n\u001B[0;32m--> 898\u001B[0m \u001B[38;5;28mself\u001B[39m\u001B[38;5;241m.\u001B[39m_run_search(evaluate_candidates)\n\u001B[1;32m    900\u001B[0m \u001B[38;5;66;03m# multimetric is determined here because in the case of a callable\u001B[39;00m\n\u001B[1;32m    901\u001B[0m \u001B[38;5;66;03m# self.scoring the return type is only known after calling\u001B[39;00m\n\u001B[1;32m    902\u001B[0m first_test_score \u001B[38;5;241m=\u001B[39m all_out[\u001B[38;5;241m0\u001B[39m][\u001B[38;5;124m\"\u001B[39m\u001B[38;5;124mtest_scores\u001B[39m\u001B[38;5;124m\"\u001B[39m]\n",
      "File \u001B[0;32m~/anaconda3/lib/python3.11/site-packages/sklearn/model_selection/_search.py:1806\u001B[0m, in \u001B[0;36mRandomizedSearchCV._run_search\u001B[0;34m(self, evaluate_candidates)\u001B[0m\n\u001B[1;32m   1804\u001B[0m \u001B[38;5;28;01mdef\u001B[39;00m \u001B[38;5;21m_run_search\u001B[39m(\u001B[38;5;28mself\u001B[39m, evaluate_candidates):\n\u001B[1;32m   1805\u001B[0m \u001B[38;5;250m    \u001B[39m\u001B[38;5;124;03m\"\"\"Search n_iter candidates from param_distributions\"\"\"\u001B[39;00m\n\u001B[0;32m-> 1806\u001B[0m     evaluate_candidates(\n\u001B[1;32m   1807\u001B[0m         ParameterSampler(\n\u001B[1;32m   1808\u001B[0m             \u001B[38;5;28mself\u001B[39m\u001B[38;5;241m.\u001B[39mparam_distributions, \u001B[38;5;28mself\u001B[39m\u001B[38;5;241m.\u001B[39mn_iter, random_state\u001B[38;5;241m=\u001B[39m\u001B[38;5;28mself\u001B[39m\u001B[38;5;241m.\u001B[39mrandom_state\n\u001B[1;32m   1809\u001B[0m         )\n\u001B[1;32m   1810\u001B[0m     )\n",
      "File \u001B[0;32m~/anaconda3/lib/python3.11/site-packages/sklearn/model_selection/_search.py:875\u001B[0m, in \u001B[0;36mBaseSearchCV.fit.<locals>.evaluate_candidates\u001B[0;34m(candidate_params, cv, more_results)\u001B[0m\n\u001B[1;32m    868\u001B[0m \u001B[38;5;28;01melif\u001B[39;00m \u001B[38;5;28mlen\u001B[39m(out) \u001B[38;5;241m!=\u001B[39m n_candidates \u001B[38;5;241m*\u001B[39m n_splits:\n\u001B[1;32m    869\u001B[0m     \u001B[38;5;28;01mraise\u001B[39;00m \u001B[38;5;167;01mValueError\u001B[39;00m(\n\u001B[1;32m    870\u001B[0m         \u001B[38;5;124m\"\u001B[39m\u001B[38;5;124mcv.split and cv.get_n_splits returned \u001B[39m\u001B[38;5;124m\"\u001B[39m\n\u001B[1;32m    871\u001B[0m         \u001B[38;5;124m\"\u001B[39m\u001B[38;5;124minconsistent results. Expected \u001B[39m\u001B[38;5;132;01m{}\u001B[39;00m\u001B[38;5;124m \u001B[39m\u001B[38;5;124m\"\u001B[39m\n\u001B[1;32m    872\u001B[0m         \u001B[38;5;124m\"\u001B[39m\u001B[38;5;124msplits, got \u001B[39m\u001B[38;5;132;01m{}\u001B[39;00m\u001B[38;5;124m\"\u001B[39m\u001B[38;5;241m.\u001B[39mformat(n_splits, \u001B[38;5;28mlen\u001B[39m(out) \u001B[38;5;241m/\u001B[39m\u001B[38;5;241m/\u001B[39m n_candidates)\n\u001B[1;32m    873\u001B[0m     )\n\u001B[0;32m--> 875\u001B[0m _warn_or_raise_about_fit_failures(out, \u001B[38;5;28mself\u001B[39m\u001B[38;5;241m.\u001B[39merror_score)\n\u001B[1;32m    877\u001B[0m \u001B[38;5;66;03m# For callable self.scoring, the return type is only know after\u001B[39;00m\n\u001B[1;32m    878\u001B[0m \u001B[38;5;66;03m# calling. If the return type is a dictionary, the error scores\u001B[39;00m\n\u001B[1;32m    879\u001B[0m \u001B[38;5;66;03m# can now be inserted with the correct key. The type checking\u001B[39;00m\n\u001B[1;32m    880\u001B[0m \u001B[38;5;66;03m# of out will be done in `_insert_error_scores`.\u001B[39;00m\n\u001B[1;32m    881\u001B[0m \u001B[38;5;28;01mif\u001B[39;00m \u001B[38;5;28mcallable\u001B[39m(\u001B[38;5;28mself\u001B[39m\u001B[38;5;241m.\u001B[39mscoring):\n",
      "File \u001B[0;32m~/anaconda3/lib/python3.11/site-packages/sklearn/model_selection/_validation.py:414\u001B[0m, in \u001B[0;36m_warn_or_raise_about_fit_failures\u001B[0;34m(results, error_score)\u001B[0m\n\u001B[1;32m    407\u001B[0m \u001B[38;5;28;01mif\u001B[39;00m num_failed_fits \u001B[38;5;241m==\u001B[39m num_fits:\n\u001B[1;32m    408\u001B[0m     all_fits_failed_message \u001B[38;5;241m=\u001B[39m (\n\u001B[1;32m    409\u001B[0m         \u001B[38;5;124mf\u001B[39m\u001B[38;5;124m\"\u001B[39m\u001B[38;5;130;01m\\n\u001B[39;00m\u001B[38;5;124mAll the \u001B[39m\u001B[38;5;132;01m{\u001B[39;00mnum_fits\u001B[38;5;132;01m}\u001B[39;00m\u001B[38;5;124m fits failed.\u001B[39m\u001B[38;5;130;01m\\n\u001B[39;00m\u001B[38;5;124m\"\u001B[39m\n\u001B[1;32m    410\u001B[0m         \u001B[38;5;124m\"\u001B[39m\u001B[38;5;124mIt is very likely that your model is misconfigured.\u001B[39m\u001B[38;5;130;01m\\n\u001B[39;00m\u001B[38;5;124m\"\u001B[39m\n\u001B[1;32m    411\u001B[0m         \u001B[38;5;124m\"\u001B[39m\u001B[38;5;124mYou can try to debug the error by setting error_score=\u001B[39m\u001B[38;5;124m'\u001B[39m\u001B[38;5;124mraise\u001B[39m\u001B[38;5;124m'\u001B[39m\u001B[38;5;124m.\u001B[39m\u001B[38;5;130;01m\\n\u001B[39;00m\u001B[38;5;130;01m\\n\u001B[39;00m\u001B[38;5;124m\"\u001B[39m\n\u001B[1;32m    412\u001B[0m         \u001B[38;5;124mf\u001B[39m\u001B[38;5;124m\"\u001B[39m\u001B[38;5;124mBelow are more details about the failures:\u001B[39m\u001B[38;5;130;01m\\n\u001B[39;00m\u001B[38;5;132;01m{\u001B[39;00mfit_errors_summary\u001B[38;5;132;01m}\u001B[39;00m\u001B[38;5;124m\"\u001B[39m\n\u001B[1;32m    413\u001B[0m     )\n\u001B[0;32m--> 414\u001B[0m     \u001B[38;5;28;01mraise\u001B[39;00m \u001B[38;5;167;01mValueError\u001B[39;00m(all_fits_failed_message)\n\u001B[1;32m    416\u001B[0m \u001B[38;5;28;01melse\u001B[39;00m:\n\u001B[1;32m    417\u001B[0m     some_fits_failed_message \u001B[38;5;241m=\u001B[39m (\n\u001B[1;32m    418\u001B[0m         \u001B[38;5;124mf\u001B[39m\u001B[38;5;124m\"\u001B[39m\u001B[38;5;130;01m\\n\u001B[39;00m\u001B[38;5;132;01m{\u001B[39;00mnum_failed_fits\u001B[38;5;132;01m}\u001B[39;00m\u001B[38;5;124m fits failed out of a total of \u001B[39m\u001B[38;5;132;01m{\u001B[39;00mnum_fits\u001B[38;5;132;01m}\u001B[39;00m\u001B[38;5;124m.\u001B[39m\u001B[38;5;130;01m\\n\u001B[39;00m\u001B[38;5;124m\"\u001B[39m\n\u001B[1;32m    419\u001B[0m         \u001B[38;5;124m\"\u001B[39m\u001B[38;5;124mThe score on these train-test partitions for these parameters\u001B[39m\u001B[38;5;124m\"\u001B[39m\n\u001B[0;32m   (...)\u001B[0m\n\u001B[1;32m    423\u001B[0m         \u001B[38;5;124mf\u001B[39m\u001B[38;5;124m\"\u001B[39m\u001B[38;5;124mBelow are more details about the failures:\u001B[39m\u001B[38;5;130;01m\\n\u001B[39;00m\u001B[38;5;132;01m{\u001B[39;00mfit_errors_summary\u001B[38;5;132;01m}\u001B[39;00m\u001B[38;5;124m\"\u001B[39m\n\u001B[1;32m    424\u001B[0m     )\n",
      "\u001B[0;31mValueError\u001B[0m: \nAll the 5 fits failed.\nIt is very likely that your model is misconfigured.\nYou can try to debug the error by setting error_score='raise'.\n\nBelow are more details about the failures:\n--------------------------------------------------------------------------------\n1 fits failed with the following error:\nTraceback (most recent call last):\n  File \"/Users/maksim/anaconda3/lib/python3.11/site-packages/sklearn/model_selection/_validation.py\", line 732, in _fit_and_score\n    estimator.fit(X_train, y_train, **fit_params)\n  File \"/Users/maksim/anaconda3/lib/python3.11/site-packages/sklearn/base.py\", line 1151, in wrapper\n    return fit_method(estimator, *args, **kwargs)\n           ^^^^^^^^^^^^^^^^^^^^^^^^^^^^^^^^^^^^^^\n  File \"/Users/maksim/anaconda3/lib/python3.11/site-packages/sklearn/gaussian_process/_gpc.py\", line 703, in fit\n    X, y = self._validate_data(\n           ^^^^^^^^^^^^^^^^^^^^\n  File \"/Users/maksim/anaconda3/lib/python3.11/site-packages/sklearn/base.py\", line 621, in _validate_data\n    X, y = check_X_y(X, y, **check_params)\n           ^^^^^^^^^^^^^^^^^^^^^^^^^^^^^^^\n  File \"/Users/maksim/anaconda3/lib/python3.11/site-packages/sklearn/utils/validation.py\", line 1163, in check_X_y\n    y = _check_y(y, multi_output=multi_output, y_numeric=y_numeric, estimator=estimator)\n        ^^^^^^^^^^^^^^^^^^^^^^^^^^^^^^^^^^^^^^^^^^^^^^^^^^^^^^^^^^^^^^^^^^^^^^^^^^^^^^^^\n  File \"/Users/maksim/anaconda3/lib/python3.11/site-packages/sklearn/utils/validation.py\", line 1184, in _check_y\n    y = column_or_1d(y, warn=True)\n        ^^^^^^^^^^^^^^^^^^^^^^^^^^\n  File \"/Users/maksim/anaconda3/lib/python3.11/site-packages/sklearn/utils/validation.py\", line 1245, in column_or_1d\n    raise ValueError(\nValueError: y should be a 1d array, got an array of shape (386, 3) instead.\n\n--------------------------------------------------------------------------------\n1 fits failed with the following error:\nTraceback (most recent call last):\n  File \"/Users/maksim/anaconda3/lib/python3.11/site-packages/sklearn/model_selection/_validation.py\", line 732, in _fit_and_score\n    estimator.fit(X_train, y_train, **fit_params)\n  File \"/Users/maksim/anaconda3/lib/python3.11/site-packages/sklearn/base.py\", line 1151, in wrapper\n    return fit_method(estimator, *args, **kwargs)\n           ^^^^^^^^^^^^^^^^^^^^^^^^^^^^^^^^^^^^^^\n  File \"/Users/maksim/anaconda3/lib/python3.11/site-packages/sklearn/gaussian_process/_gpc.py\", line 703, in fit\n    X, y = self._validate_data(\n           ^^^^^^^^^^^^^^^^^^^^\n  File \"/Users/maksim/anaconda3/lib/python3.11/site-packages/sklearn/base.py\", line 621, in _validate_data\n    X, y = check_X_y(X, y, **check_params)\n           ^^^^^^^^^^^^^^^^^^^^^^^^^^^^^^^\n  File \"/Users/maksim/anaconda3/lib/python3.11/site-packages/sklearn/utils/validation.py\", line 1163, in check_X_y\n    y = _check_y(y, multi_output=multi_output, y_numeric=y_numeric, estimator=estimator)\n        ^^^^^^^^^^^^^^^^^^^^^^^^^^^^^^^^^^^^^^^^^^^^^^^^^^^^^^^^^^^^^^^^^^^^^^^^^^^^^^^^\n  File \"/Users/maksim/anaconda3/lib/python3.11/site-packages/sklearn/utils/validation.py\", line 1184, in _check_y\n    y = column_or_1d(y, warn=True)\n        ^^^^^^^^^^^^^^^^^^^^^^^^^^\n  File \"/Users/maksim/anaconda3/lib/python3.11/site-packages/sklearn/utils/validation.py\", line 1245, in column_or_1d\n    raise ValueError(\nValueError: y should be a 1d array, got an array of shape (769, 3) instead.\n\n--------------------------------------------------------------------------------\n1 fits failed with the following error:\nTraceback (most recent call last):\n  File \"/Users/maksim/anaconda3/lib/python3.11/site-packages/sklearn/model_selection/_validation.py\", line 732, in _fit_and_score\n    estimator.fit(X_train, y_train, **fit_params)\n  File \"/Users/maksim/anaconda3/lib/python3.11/site-packages/sklearn/base.py\", line 1151, in wrapper\n    return fit_method(estimator, *args, **kwargs)\n           ^^^^^^^^^^^^^^^^^^^^^^^^^^^^^^^^^^^^^^\n  File \"/Users/maksim/anaconda3/lib/python3.11/site-packages/sklearn/gaussian_process/_gpc.py\", line 703, in fit\n    X, y = self._validate_data(\n           ^^^^^^^^^^^^^^^^^^^^\n  File \"/Users/maksim/anaconda3/lib/python3.11/site-packages/sklearn/base.py\", line 621, in _validate_data\n    X, y = check_X_y(X, y, **check_params)\n           ^^^^^^^^^^^^^^^^^^^^^^^^^^^^^^^\n  File \"/Users/maksim/anaconda3/lib/python3.11/site-packages/sklearn/utils/validation.py\", line 1163, in check_X_y\n    y = _check_y(y, multi_output=multi_output, y_numeric=y_numeric, estimator=estimator)\n        ^^^^^^^^^^^^^^^^^^^^^^^^^^^^^^^^^^^^^^^^^^^^^^^^^^^^^^^^^^^^^^^^^^^^^^^^^^^^^^^^\n  File \"/Users/maksim/anaconda3/lib/python3.11/site-packages/sklearn/utils/validation.py\", line 1184, in _check_y\n    y = column_or_1d(y, warn=True)\n        ^^^^^^^^^^^^^^^^^^^^^^^^^^\n  File \"/Users/maksim/anaconda3/lib/python3.11/site-packages/sklearn/utils/validation.py\", line 1245, in column_or_1d\n    raise ValueError(\nValueError: y should be a 1d array, got an array of shape (1152, 3) instead.\n\n--------------------------------------------------------------------------------\n1 fits failed with the following error:\nTraceback (most recent call last):\n  File \"/Users/maksim/anaconda3/lib/python3.11/site-packages/sklearn/model_selection/_validation.py\", line 732, in _fit_and_score\n    estimator.fit(X_train, y_train, **fit_params)\n  File \"/Users/maksim/anaconda3/lib/python3.11/site-packages/sklearn/base.py\", line 1151, in wrapper\n    return fit_method(estimator, *args, **kwargs)\n           ^^^^^^^^^^^^^^^^^^^^^^^^^^^^^^^^^^^^^^\n  File \"/Users/maksim/anaconda3/lib/python3.11/site-packages/sklearn/gaussian_process/_gpc.py\", line 703, in fit\n    X, y = self._validate_data(\n           ^^^^^^^^^^^^^^^^^^^^\n  File \"/Users/maksim/anaconda3/lib/python3.11/site-packages/sklearn/base.py\", line 621, in _validate_data\n    X, y = check_X_y(X, y, **check_params)\n           ^^^^^^^^^^^^^^^^^^^^^^^^^^^^^^^\n  File \"/Users/maksim/anaconda3/lib/python3.11/site-packages/sklearn/utils/validation.py\", line 1163, in check_X_y\n    y = _check_y(y, multi_output=multi_output, y_numeric=y_numeric, estimator=estimator)\n        ^^^^^^^^^^^^^^^^^^^^^^^^^^^^^^^^^^^^^^^^^^^^^^^^^^^^^^^^^^^^^^^^^^^^^^^^^^^^^^^^\n  File \"/Users/maksim/anaconda3/lib/python3.11/site-packages/sklearn/utils/validation.py\", line 1184, in _check_y\n    y = column_or_1d(y, warn=True)\n        ^^^^^^^^^^^^^^^^^^^^^^^^^^\n  File \"/Users/maksim/anaconda3/lib/python3.11/site-packages/sklearn/utils/validation.py\", line 1245, in column_or_1d\n    raise ValueError(\nValueError: y should be a 1d array, got an array of shape (1535, 3) instead.\n\n--------------------------------------------------------------------------------\n1 fits failed with the following error:\nTraceback (most recent call last):\n  File \"/Users/maksim/anaconda3/lib/python3.11/site-packages/sklearn/model_selection/_validation.py\", line 732, in _fit_and_score\n    estimator.fit(X_train, y_train, **fit_params)\n  File \"/Users/maksim/anaconda3/lib/python3.11/site-packages/sklearn/base.py\", line 1151, in wrapper\n    return fit_method(estimator, *args, **kwargs)\n           ^^^^^^^^^^^^^^^^^^^^^^^^^^^^^^^^^^^^^^\n  File \"/Users/maksim/anaconda3/lib/python3.11/site-packages/sklearn/gaussian_process/_gpc.py\", line 703, in fit\n    X, y = self._validate_data(\n           ^^^^^^^^^^^^^^^^^^^^\n  File \"/Users/maksim/anaconda3/lib/python3.11/site-packages/sklearn/base.py\", line 621, in _validate_data\n    X, y = check_X_y(X, y, **check_params)\n           ^^^^^^^^^^^^^^^^^^^^^^^^^^^^^^^\n  File \"/Users/maksim/anaconda3/lib/python3.11/site-packages/sklearn/utils/validation.py\", line 1163, in check_X_y\n    y = _check_y(y, multi_output=multi_output, y_numeric=y_numeric, estimator=estimator)\n        ^^^^^^^^^^^^^^^^^^^^^^^^^^^^^^^^^^^^^^^^^^^^^^^^^^^^^^^^^^^^^^^^^^^^^^^^^^^^^^^^\n  File \"/Users/maksim/anaconda3/lib/python3.11/site-packages/sklearn/utils/validation.py\", line 1184, in _check_y\n    y = column_or_1d(y, warn=True)\n        ^^^^^^^^^^^^^^^^^^^^^^^^^^\n  File \"/Users/maksim/anaconda3/lib/python3.11/site-packages/sklearn/utils/validation.py\", line 1245, in column_or_1d\n    raise ValueError(\nValueError: y should be a 1d array, got an array of shape (1918, 3) instead.\n"
     ]
    }
   ],
   "source": [
    "dfs = [\n",
    "    # (df_encoded, 'df_encoded')\n",
    "    # (df_all, 'df_all'),\n",
    "    (df_league_0, 'df_league_0'),\n",
    "    # (df_league_1, 'df_league_1'),\n",
    "    # (df_league_2, 'df_league_2'),\n",
    "    # (df_league_3, 'df_league_3')\n",
    "]\n",
    "\n",
    "target = ['Full_Time_Result_A', 'Full_Time_Result_D', 'Full_Time_Result_H']\n",
    "\n",
    "\n",
    "# Run the pipeline for each classification model\n",
    "for df, df_name in dfs:\n",
    "    result_df = pd.DataFrame()\n",
    "    for model_name, model in tqdm(classification_models, desc=f'Processing dataframe {df_name}'):\n",
    "        result = run_classification_pipeline(df, df_name, target, model_name, model, classification_param_dist[model_name], test_size=0.3, random_state=42)\n",
    "        result_df = pd.concat([result_df, result], ignore_index=True)\n",
    "        display(result_df)\n",
    "    print('\\nDataframe: ', df_name)\n",
    "    display(result_df.sort_values(by='F1 Score', ascending=False))\n"
   ],
   "metadata": {
    "collapsed": false,
    "ExecuteTime": {
     "end_time": "2024-01-05T20:51:19.413929Z",
     "start_time": "2024-01-05T20:51:19.341010Z"
    }
   },
   "id": "e21c59206a9b73cd"
  },
  {
   "cell_type": "code",
   "execution_count": null,
   "outputs": [],
   "source": [],
   "metadata": {
    "collapsed": false,
    "ExecuteTime": {
     "end_time": "2024-01-05T20:51:19.414839Z",
     "start_time": "2024-01-05T20:51:19.414192Z"
    }
   },
   "id": "9f57a43bfffe0d9d"
  }
 ],
 "metadata": {
  "kernelspec": {
   "display_name": "Python 3",
   "language": "python",
   "name": "python3"
  },
  "language_info": {
   "codemirror_mode": {
    "name": "ipython",
    "version": 2
   },
   "file_extension": ".py",
   "mimetype": "text/x-python",
   "name": "python",
   "nbconvert_exporter": "python",
   "pygments_lexer": "ipython2",
   "version": "2.7.6"
  }
 },
 "nbformat": 4,
 "nbformat_minor": 5
}
