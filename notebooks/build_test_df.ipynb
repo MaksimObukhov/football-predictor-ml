{
 "cells": [
  {
   "cell_type": "code",
   "execution_count": 1,
   "id": "initial_id",
   "metadata": {
    "collapsed": true,
    "ExecuteTime": {
     "end_time": "2024-01-04T15:15:05.766615Z",
     "start_time": "2024-01-04T15:15:05.764675Z"
    }
   },
   "outputs": [],
   "source": [
    "import pandas as pd\n",
    "import matplotlib.pyplot as plt\n",
    "from glob import glob\n",
    "import seaborn as sns\n",
    "from datetime import datetime\n",
    "import numpy as np"
   ]
  },
  {
   "cell_type": "code",
   "execution_count": 2,
   "outputs": [],
   "source": [
    "def read_data(folder_path, mac=False):\n",
    "    df = pd.DataFrame()\n",
    "    separator = '/' if mac else '\\\\'\n",
    "\n",
    "    for file_path in sorted(glob(f'{folder_path}{separator}**{separator}*.csv', recursive=True)):\n",
    "        csv_file_df = pd.read_csv(file_path)\n",
    "\n",
    "        # Extract country, league, and season from file path\n",
    "        parts = file_path.split(separator)\n",
    "        country = parts[-3]\n",
    "        league = int(parts[-2])\n",
    "        season = int(parts[-1].split('.')[0])\n",
    "\n",
    "        # Skip matches before 1718 season\n",
    "        if season < 1718:\n",
    "            continue\n",
    "\n",
    "        # Rename HT and AT columns to HomeTeam and AwayTeam\n",
    "        if 'HT' in csv_file_df.columns or 'AT' in csv_file_df.columns:\n",
    "            csv_file_df.rename(columns={'HT': 'HomeTeam', 'AT': 'AwayTeam'}, inplace=True)\n",
    "\n",
    "        # Add country, league, and season as features to the front\n",
    "        csv_file_df.insert(0, 'Country', country)\n",
    "        csv_file_df.insert(1, 'League', league)\n",
    "        csv_file_df.insert(2, 'Season', season)\n",
    "\n",
    "        # Convert date to datetime format and sort by date\n",
    "        csv_file_df['Date'] = pd.to_datetime(csv_file_df['Date'], format='%d/%m/%y', errors='ignore')\n",
    "        csv_file_df['Date'] = pd.to_datetime(csv_file_df['Date'], format='%d/%m/%Y', errors='coerce')\n",
    "        csv_file_df = csv_file_df.sort_values(by='Date')\n",
    "\n",
    "        # Determine if the game is on a weekend or weekday\n",
    "        # Weekends are typically Saturday (5) and Sunday (6)\n",
    "        csv_file_df['DayOfWeek'] = csv_file_df['Date'].dt.dayofweek\n",
    "\n",
    "        df = pd.concat([df, csv_file_df], ignore_index=True, axis=0, join='outer', sort=False)\n",
    "\n",
    "    return df"
   ],
   "metadata": {
    "collapsed": false,
    "ExecuteTime": {
     "end_time": "2024-01-04T15:15:39.688225Z",
     "start_time": "2024-01-04T15:15:39.667450Z"
    }
   },
   "id": "81dbc1970eb70739"
  },
  {
   "cell_type": "code",
   "execution_count": 3,
   "outputs": [],
   "source": [
    "test_df = read_data('../data/test', mac=True)"
   ],
   "metadata": {
    "collapsed": false,
    "ExecuteTime": {
     "end_time": "2024-01-04T15:16:04.623373Z",
     "start_time": "2024-01-04T15:16:04.510257Z"
    }
   },
   "id": "4fd4702be3635550"
  },
  {
   "cell_type": "code",
   "execution_count": null,
   "outputs": [],
   "source": [],
   "metadata": {
    "collapsed": false
   },
   "id": "130b151f27b5f711"
  }
 ],
 "metadata": {
  "kernelspec": {
   "display_name": "Python 3",
   "language": "python",
   "name": "python3"
  },
  "language_info": {
   "codemirror_mode": {
    "name": "ipython",
    "version": 2
   },
   "file_extension": ".py",
   "mimetype": "text/x-python",
   "name": "python",
   "nbconvert_exporter": "python",
   "pygments_lexer": "ipython2",
   "version": "2.7.6"
  }
 },
 "nbformat": 4,
 "nbformat_minor": 5
}
