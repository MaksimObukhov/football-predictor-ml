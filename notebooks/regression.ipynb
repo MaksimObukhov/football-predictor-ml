{
 "cells": [
  {
   "cell_type": "markdown",
   "source": [
    "# Regression task\n",
    "## Before start"
   ],
   "metadata": {
    "collapsed": false
   },
   "id": "e58a2b97d8c5429d"
  },
  {
   "cell_type": "markdown",
   "source": [
    "### TODO steps:\n",
    "\n",
    "1. read csv  \n",
    "\n",
    "2. write pipeline: split data, train model, predict, evaluate  \n",
    "\n",
    "3. models: \n",
    "    LinearRegression(), \n",
    "    RandomForestRegressor(), \n",
    "    GradientBoostingRegressor() (xgboost), \n",
    "    SVR(), \n",
    "    neural network\n",
    "\n",
    "4. hyperparameter tuning: \n",
    "    GridSearchCV, \n",
    "    RandomizedSearchCV\n",
    "\n",
    "5. dont forget about time series cross validation"
   ],
   "metadata": {
    "collapsed": false
   },
   "id": "7f401bd17f24220e"
  },
  {
   "cell_type": "markdown",
   "source": [
    "## Import libraries"
   ],
   "metadata": {
    "collapsed": false
   },
   "id": "4f3f4c67c3b37e1a"
  },
  {
   "cell_type": "code",
   "execution_count": 9,
   "outputs": [],
   "source": [
    "%reset"
   ],
   "metadata": {
    "collapsed": false,
    "ExecuteTime": {
     "end_time": "2024-01-07T13:12:14.910268Z",
     "start_time": "2024-01-07T13:12:12.115780Z"
    }
   },
   "id": "27a1d01850cfae54"
  },
  {
   "cell_type": "code",
   "execution_count": 10,
   "outputs": [],
   "source": [
    "import pandas as pd \n",
    "import numpy as np\n",
    "import matplotlib.pyplot as plt\n",
    "import seaborn as sns\n",
    "from tqdm import tqdm\n",
    "import pickle\n",
    "\n",
    "from sklearn.linear_model import LinearRegression, Ridge, Lasso, ElasticNet, HuberRegressor\n",
    "from sklearn.tree import DecisionTreeRegressor\n",
    "from sklearn.ensemble import RandomForestRegressor, GradientBoostingRegressor\n",
    "from sklearn.svm import SVR\n",
    "from sklearn.neighbors import KNeighborsRegressor\n",
    "from sklearn.neural_network import MLPRegressor\n",
    "from sklearn.gaussian_process import GaussianProcessRegressor\n",
    "from sklearn.gaussian_process.kernels import DotProduct, WhiteKernel\n",
    "from sklearn.isotonic import IsotonicRegression\n",
    "from sklearn.ensemble import AdaBoostRegressor, BaggingRegressor\n",
    "from sklearn.ensemble import ExtraTreesRegressor, VotingRegressor\n",
    "from xgboost import XGBRegressor\n",
    "from lightgbm import LGBMRegressor\n",
    "from sklearn.linear_model import PoissonRegressor, TweedieRegressor\n",
    "from sklearn.ensemble import HistGradientBoostingRegressor\n",
    "from sklearn.linear_model import OrthogonalMatchingPursuit, ARDRegression\n",
    "\n",
    "\n",
    "\n",
    "from sklearn.model_selection import train_test_split, RandomizedSearchCV, TimeSeriesSplit\n",
    "from sklearn.metrics import mean_squared_error, mean_absolute_error, r2_score\n",
    "from sklearn.preprocessing import StandardScaler\n",
    "\n",
    "import warnings\n",
    "\n",
    "# Disable all warnings (use with caution)\n",
    "warnings.filterwarnings(\"ignore\")\n",
    "\n",
    "pd.set_option('display.float_format', lambda x: '%.3f' % x)\n"
   ],
   "metadata": {
    "collapsed": false,
    "ExecuteTime": {
     "end_time": "2024-01-07T13:12:14.914092Z",
     "start_time": "2024-01-07T13:12:14.912016Z"
    }
   },
   "id": "fd22faa62d0d9169"
  },
  {
   "cell_type": "markdown",
   "source": [
    "## Read data"
   ],
   "metadata": {
    "collapsed": false
   },
   "id": "59abab76b94d31dc"
  },
  {
   "cell_type": "code",
   "execution_count": 20,
   "outputs": [],
   "source": [
    "df_all = pd.read_csv('../data/for_train/train_df.csv')\n",
    "df_league_0 = pd.read_csv('../data/for_train/df_league_0.csv')\n",
    "df_league_1 = pd.read_csv('../data/for_train/df_league_1.csv')\n",
    "df_league_2 = pd.read_csv('../data/for_train/df_league_2.csv')\n",
    "df_league_3 = pd.read_csv('../data/for_train/df_league_3.csv')\n"
   ],
   "metadata": {
    "collapsed": false,
    "ExecuteTime": {
     "end_time": "2024-01-07T13:31:40.809487Z",
     "start_time": "2024-01-07T13:31:39.412569Z"
    }
   },
   "id": "f5e66ee2e108a441"
  },
  {
   "cell_type": "code",
   "execution_count": 21,
   "outputs": [],
   "source": [
    "# Create target\n",
    "df_all['Full_Time_Total_Goals'] = (df_all['Full_Time_Home_Team_Goals'] + df_all['Full_Time_Away_Team_Goals']).astype(int)\n",
    "df_league_0['Full_Time_Total_Goals'] = (df_league_0['Full_Time_Home_Team_Goals'] + df_league_0['Full_Time_Away_Team_Goals']).astype(int)\n",
    "df_league_1['Full_Time_Total_Goals'] = (df_league_1['Full_Time_Home_Team_Goals'] + df_league_1['Full_Time_Away_Team_Goals']).astype(int)\n",
    "df_league_2['Full_Time_Total_Goals'] = (df_league_2['Full_Time_Home_Team_Goals'] + df_league_2['Full_Time_Away_Team_Goals']).astype(int)\n",
    "df_league_3['Full_Time_Total_Goals'] = (df_league_3['Full_Time_Home_Team_Goals'] + df_league_3['Full_Time_Away_Team_Goals']).astype(int)"
   ],
   "metadata": {
    "collapsed": false,
    "ExecuteTime": {
     "end_time": "2024-01-07T13:31:41.238412Z",
     "start_time": "2024-01-07T13:31:41.229289Z"
    }
   },
   "id": "bbc2915a7ed21664"
  },
  {
   "cell_type": "code",
   "execution_count": 13,
   "outputs": [],
   "source": [
    "# df_league_0['League'].value_counts()"
   ],
   "metadata": {
    "collapsed": false,
    "ExecuteTime": {
     "end_time": "2024-01-07T13:12:16.429649Z",
     "start_time": "2024-01-07T13:12:16.427054Z"
    }
   },
   "id": "2fc1a4368826a510"
  },
  {
   "cell_type": "markdown",
   "source": [
    "## Pipeline"
   ],
   "metadata": {
    "collapsed": false
   },
   "id": "f6ad3ef5a8d2bc6d"
  },
  {
   "cell_type": "code",
   "execution_count": 14,
   "outputs": [],
   "source": [
    "def run_pipeline(df, df_name, target, model_name, model, param_dist, test_size=0.3, random_state=42):\n",
    "    # Split data into train and test\n",
    "    columns_to_drop = ['Full_Time_Home_Team_Goals', 'Full_Time_Away_Team_Goals',\n",
    "                       'Full_Time_Result_A', 'Full_Time_Result_D', 'Full_Time_Result_H',\n",
    "                       'has_favorite_None', 'Time_kick_off_bin_Morning' ]\n",
    "\n",
    "    df = df.sort_values(by='Match_Date', ascending=True)\n",
    "\n",
    "    teams_to_drop = df.columns[df.columns.str.startswith('HomeTeam_') | df.columns.str.startswith('AwayTeam_')]\n",
    "    df = df.drop(columns=teams_to_drop)\n",
    "    \n",
    "    # X = df.drop(columns=[target] + columns_to_drop, axis=1)\n",
    "    # y = df[target]\n",
    "    # X_train, X_test, y_train, y_test = train_test_split(X, y, test_size=test_size, random_state=random_state)\n",
    "\n",
    "    \n",
    "\n",
    "    X = df[df['Season_2122'] != 1]\n",
    "    y = df[df['Season_2122'] == 1]\n",
    "\n",
    "    X_train = X.drop(columns=[target] + columns_to_drop, axis=1)\n",
    "    y_train = X[target]\n",
    "\n",
    "    X_test = y.drop(columns=[target] + columns_to_drop, axis=1)\n",
    "    y_test = y[target]\n",
    "\n",
    "    # Define TimeSeriesSplit\n",
    "    tscv = TimeSeriesSplit(n_splits=5)\n",
    "\n",
    "    # Perform random search\n",
    "    random_search = RandomizedSearchCV(model, param_dist, n_iter=50, cv=tscv, scoring='neg_mean_absolute_error', random_state=random_state, verbose=0)\n",
    "    random_search.fit(X_train, y_train)\n",
    "\n",
    "    # Evaluate model\n",
    "    best_model = random_search.best_estimator_\n",
    "    y_pred = best_model.predict(X_test)\n",
    "\n",
    "    # Round the predicted values to integers\n",
    "    y_pred_rounded = y_pred.round(decimals=0).astype(int)\n",
    "\n",
    "    # Save the model to a file\n",
    "    with open(f'../models/regression/{df_name}_{model_name}.pkl', 'wb') as file:\n",
    "        pickle.dump(best_model, file)\n",
    "\n",
    "    # Calculate metrics on rounded predictions\n",
    "    mse = mean_squared_error(y_test, y_pred_rounded)\n",
    "    mae = mean_absolute_error(y_test, y_pred_rounded)\n",
    "    r2 = r2_score(y_test, y_pred_rounded)\n",
    "\n",
    "    # Save results\n",
    "    result = {\n",
    "        'Model': model_name,\n",
    "        'Best Parameters': random_search.best_params_ if param_dist else \"No hyperparameter tuning\",\n",
    "        'MSE': mse,\n",
    "        'MAE': mae,\n",
    "        'R2': r2\n",
    "    }\n",
    "\n",
    "    return pd.DataFrame([result])\n"
   ],
   "metadata": {
    "collapsed": false,
    "ExecuteTime": {
     "end_time": "2024-01-07T13:12:16.432833Z",
     "start_time": "2024-01-07T13:12:16.430976Z"
    }
   },
   "id": "bc32c9165f0206c9"
  },
  {
   "cell_type": "code",
   "execution_count": 15,
   "outputs": [],
   "source": [
    "# Define models and hyperparameter distributions\n",
    "models = [\n",
    "    ('Linear Regression', LinearRegression()),\n",
    "    ('Ridge Regression', Ridge()),\n",
    "    ('Lasso Regression', Lasso()),\n",
    "    ('Random Forest Regression', RandomForestRegressor()),\n",
    "    ('XGBoost Regression', XGBRegressor()),\n",
    "    ('ARD Regression', ARDRegression()),\n",
    "    ('Voting Regression', VotingRegressor(estimators=[\n",
    "        ('ridge', Ridge(solver='cholesky', fit_intercept=False, alpha=10)),\n",
    "        ('lasso', Lasso(tol=0.0001, max_iter=500, fit_intercept=True, alpha=0.001)),\n",
    "        ('xgb', XGBRegressor(n_estimators=100, min_child_weight=3, max_depth=3, learning_rate=0.1)),\n",
    "        ('ard', ARDRegression(tol=0.1, max_iter=200, lambda_2=1e-10, lambda_1=1e-08, alpha_2=1e-09, alpha_1=1e-08)),\n",
    "    ])),\n",
    "]\n",
    "\n",
    "param_dist = {\n",
    "    'Linear Regression': {'fit_intercept': [True, False]},\n",
    "\n",
    "    'Ridge Regression': {'alpha': [0.001, 0.01, 0.1, 1, 10, 100],\n",
    "                         'fit_intercept': [True, False],\n",
    "                         'solver': ['auto', 'svd', 'cholesky', 'lsqr', 'sparse_cg', 'sag', 'saga'],\n",
    "                         'max_iter': [10, 50, 100, 500, 1000]},\n",
    "\n",
    "    'Lasso Regression': {'alpha': [0.001, 0.01, 0.1, 1, 10, 100],\n",
    "                         'fit_intercept': [True, False],\n",
    "                         'max_iter': [10, 50, 100, 500, 1000],\n",
    "                         'tol': [1e-4, 1e-3, 1e-2, 1e-1, 1]},\n",
    "\n",
    "    'Random Forest Regression': {'n_estimators': [10, 50, 100],\n",
    "                                 'max_depth': [None, 10, 20],\n",
    "                                 'min_samples_split': [2, 5, 10]},\n",
    "\n",
    "    'XGBoost Regression': {\n",
    "        'n_estimators': [50, 100, 300],\n",
    "        'max_depth': [2, 3, 5, 10, 15],\n",
    "        'learning_rate': [0.05, 0.1, 0.15, 0.20],\n",
    "        'min_child_weight': [1, 2, 3, 4]\n",
    "    },\n",
    "\n",
    "    'Orthogonal Matching Pursuit': {'n_nonzero_coefs': [None, 5, 10, 20],\n",
    "                                    'tol': [1e-4, 1e-3, 1e-2, 1e-1, 1]},\n",
    "\n",
    "    'ARD Regression': {'max_iter': [100, 200, 300],\n",
    "                       'tol': [1e-4, 1e-3, 1e-2, 1e-1, 1],\n",
    "                       'alpha_1': [1e-10, 1e-9, 1e-8, 1e-7, 1e-6],\n",
    "                       'alpha_2': [1e-10, 1e-9, 1e-8, 1e-7, 1e-6],\n",
    "                       'lambda_1': [1e-10, 1e-9, 1e-8, 1e-7, 1e-6],\n",
    "                       'lambda_2': [1e-10, 1e-9, 1e-8, 1e-7, 1e-6]},\n",
    "    \n",
    "    'Voting Regression': {}\n",
    "}\n"
   ],
   "metadata": {
    "collapsed": false,
    "ExecuteTime": {
     "end_time": "2024-01-07T13:12:16.443847Z",
     "start_time": "2024-01-07T13:12:16.435429Z"
    }
   },
   "id": "11493b0050ee7f0b"
  },
  {
   "cell_type": "code",
   "execution_count": 16,
   "outputs": [
    {
     "name": "stderr",
     "output_type": "stream",
     "text": [
      "Processing dataframe df_league_0: 100%|██████████| 7/7 [01:05<00:00,  9.31s/it]"
     ]
    },
    {
     "name": "stdout",
     "output_type": "stream",
     "text": [
      "\n",
      "Dataframe:  df_league_0\n"
     ]
    },
    {
     "name": "stderr",
     "output_type": "stream",
     "text": [
      "\n"
     ]
    },
    {
     "data": {
      "text/plain": "                      Model  \\\n4        XGBoost Regression   \n5            ARD Regression   \n2          Lasso Regression   \n6         Voting Regression   \n1          Ridge Regression   \n0         Linear Regression   \n3  Random Forest Regression   \n\n                                     Best Parameters   MSE   MAE    R2  \n4  {'n_estimators': 100, 'min_child_weight': 1, '... 2.177 1.170 0.168  \n5  {'tol': 0.1, 'max_iter': 300, 'lambda_2': 1e-0... 2.230 1.175 0.148  \n2  {'tol': 0.01, 'max_iter': 500, 'fit_intercept'... 2.253 1.179 0.139  \n6                           No hyperparameter tuning 2.228 1.180 0.148  \n1  {'solver': 'cholesky', 'max_iter': 10, 'fit_in... 2.255 1.187 0.138  \n0                            {'fit_intercept': True} 2.250 1.192 0.140  \n3  {'n_estimators': 100, 'min_samples_split': 10,... 2.405 1.211 0.081  ",
      "text/html": "<div>\n<style scoped>\n    .dataframe tbody tr th:only-of-type {\n        vertical-align: middle;\n    }\n\n    .dataframe tbody tr th {\n        vertical-align: top;\n    }\n\n    .dataframe thead th {\n        text-align: right;\n    }\n</style>\n<table border=\"1\" class=\"dataframe\">\n  <thead>\n    <tr style=\"text-align: right;\">\n      <th></th>\n      <th>Model</th>\n      <th>Best Parameters</th>\n      <th>MSE</th>\n      <th>MAE</th>\n      <th>R2</th>\n    </tr>\n  </thead>\n  <tbody>\n    <tr>\n      <th>4</th>\n      <td>XGBoost Regression</td>\n      <td>{'n_estimators': 100, 'min_child_weight': 1, '...</td>\n      <td>2.177</td>\n      <td>1.170</td>\n      <td>0.168</td>\n    </tr>\n    <tr>\n      <th>5</th>\n      <td>ARD Regression</td>\n      <td>{'tol': 0.1, 'max_iter': 300, 'lambda_2': 1e-0...</td>\n      <td>2.230</td>\n      <td>1.175</td>\n      <td>0.148</td>\n    </tr>\n    <tr>\n      <th>2</th>\n      <td>Lasso Regression</td>\n      <td>{'tol': 0.01, 'max_iter': 500, 'fit_intercept'...</td>\n      <td>2.253</td>\n      <td>1.179</td>\n      <td>0.139</td>\n    </tr>\n    <tr>\n      <th>6</th>\n      <td>Voting Regression</td>\n      <td>No hyperparameter tuning</td>\n      <td>2.228</td>\n      <td>1.180</td>\n      <td>0.148</td>\n    </tr>\n    <tr>\n      <th>1</th>\n      <td>Ridge Regression</td>\n      <td>{'solver': 'cholesky', 'max_iter': 10, 'fit_in...</td>\n      <td>2.255</td>\n      <td>1.187</td>\n      <td>0.138</td>\n    </tr>\n    <tr>\n      <th>0</th>\n      <td>Linear Regression</td>\n      <td>{'fit_intercept': True}</td>\n      <td>2.250</td>\n      <td>1.192</td>\n      <td>0.140</td>\n    </tr>\n    <tr>\n      <th>3</th>\n      <td>Random Forest Regression</td>\n      <td>{'n_estimators': 100, 'min_samples_split': 10,...</td>\n      <td>2.405</td>\n      <td>1.211</td>\n      <td>0.081</td>\n    </tr>\n  </tbody>\n</table>\n</div>"
     },
     "metadata": {},
     "output_type": "display_data"
    },
    {
     "name": "stderr",
     "output_type": "stream",
     "text": [
      "Processing dataframe df_league_1: 100%|██████████| 7/7 [05:53<00:00, 50.50s/it]"
     ]
    },
    {
     "name": "stdout",
     "output_type": "stream",
     "text": [
      "\n",
      "Dataframe:  df_league_1\n"
     ]
    },
    {
     "name": "stderr",
     "output_type": "stream",
     "text": [
      "\n"
     ]
    },
    {
     "data": {
      "text/plain": "                      Model  \\\n5            ARD Regression   \n2          Lasso Regression   \n1          Ridge Regression   \n4        XGBoost Regression   \n6         Voting Regression   \n3  Random Forest Regression   \n0         Linear Regression   \n\n                                     Best Parameters   MSE   MAE    R2  \n5  {'tol': 1, 'max_iter': 100, 'lambda_2': 1e-06,... 2.252 1.141 0.182  \n2  {'tol': 1, 'max_iter': 1000, 'fit_intercept': ... 2.254 1.141 0.182  \n1  {'solver': 'svd', 'max_iter': 1000, 'fit_inter... 2.247 1.145 0.184  \n4  {'n_estimators': 50, 'min_child_weight': 2, 'm... 2.270 1.147 0.176  \n6                           No hyperparameter tuning 2.255 1.148 0.181  \n3  {'n_estimators': 50, 'min_samples_split': 5, '... 2.424 1.193 0.120  \n0                            {'fit_intercept': True} 2.716 1.299 0.014  ",
      "text/html": "<div>\n<style scoped>\n    .dataframe tbody tr th:only-of-type {\n        vertical-align: middle;\n    }\n\n    .dataframe tbody tr th {\n        vertical-align: top;\n    }\n\n    .dataframe thead th {\n        text-align: right;\n    }\n</style>\n<table border=\"1\" class=\"dataframe\">\n  <thead>\n    <tr style=\"text-align: right;\">\n      <th></th>\n      <th>Model</th>\n      <th>Best Parameters</th>\n      <th>MSE</th>\n      <th>MAE</th>\n      <th>R2</th>\n    </tr>\n  </thead>\n  <tbody>\n    <tr>\n      <th>5</th>\n      <td>ARD Regression</td>\n      <td>{'tol': 1, 'max_iter': 100, 'lambda_2': 1e-06,...</td>\n      <td>2.252</td>\n      <td>1.141</td>\n      <td>0.182</td>\n    </tr>\n    <tr>\n      <th>2</th>\n      <td>Lasso Regression</td>\n      <td>{'tol': 1, 'max_iter': 1000, 'fit_intercept': ...</td>\n      <td>2.254</td>\n      <td>1.141</td>\n      <td>0.182</td>\n    </tr>\n    <tr>\n      <th>1</th>\n      <td>Ridge Regression</td>\n      <td>{'solver': 'svd', 'max_iter': 1000, 'fit_inter...</td>\n      <td>2.247</td>\n      <td>1.145</td>\n      <td>0.184</td>\n    </tr>\n    <tr>\n      <th>4</th>\n      <td>XGBoost Regression</td>\n      <td>{'n_estimators': 50, 'min_child_weight': 2, 'm...</td>\n      <td>2.270</td>\n      <td>1.147</td>\n      <td>0.176</td>\n    </tr>\n    <tr>\n      <th>6</th>\n      <td>Voting Regression</td>\n      <td>No hyperparameter tuning</td>\n      <td>2.255</td>\n      <td>1.148</td>\n      <td>0.181</td>\n    </tr>\n    <tr>\n      <th>3</th>\n      <td>Random Forest Regression</td>\n      <td>{'n_estimators': 50, 'min_samples_split': 5, '...</td>\n      <td>2.424</td>\n      <td>1.193</td>\n      <td>0.120</td>\n    </tr>\n    <tr>\n      <th>0</th>\n      <td>Linear Regression</td>\n      <td>{'fit_intercept': True}</td>\n      <td>2.716</td>\n      <td>1.299</td>\n      <td>0.014</td>\n    </tr>\n  </tbody>\n</table>\n</div>"
     },
     "metadata": {},
     "output_type": "display_data"
    },
    {
     "name": "stderr",
     "output_type": "stream",
     "text": [
      "Processing dataframe df_league_2: 100%|██████████| 7/7 [03:25<00:00, 29.41s/it]"
     ]
    },
    {
     "name": "stdout",
     "output_type": "stream",
     "text": [
      "\n",
      "Dataframe:  df_league_2\n"
     ]
    },
    {
     "name": "stderr",
     "output_type": "stream",
     "text": [
      "\n"
     ]
    },
    {
     "data": {
      "text/plain": "                      Model  \\\n5            ARD Regression   \n2          Lasso Regression   \n1          Ridge Regression   \n6         Voting Regression   \n0         Linear Regression   \n4        XGBoost Regression   \n3  Random Forest Regression   \n\n                                     Best Parameters   MSE   MAE    R2  \n5  {'tol': 0.0001, 'max_iter': 300, 'lambda_2': 1... 2.040 1.084 0.161  \n2  {'tol': 0.01, 'max_iter': 500, 'fit_intercept'... 2.041 1.089 0.160  \n1  {'solver': 'svd', 'max_iter': 100, 'fit_interc... 2.032 1.090 0.164  \n6                           No hyperparameter tuning 2.028 1.090 0.166  \n0                            {'fit_intercept': True} 2.072 1.100 0.148  \n4  {'n_estimators': 100, 'min_child_weight': 1, '... 2.081 1.110 0.144  \n3  {'n_estimators': 100, 'min_samples_split': 10,... 2.293 1.169 0.057  ",
      "text/html": "<div>\n<style scoped>\n    .dataframe tbody tr th:only-of-type {\n        vertical-align: middle;\n    }\n\n    .dataframe tbody tr th {\n        vertical-align: top;\n    }\n\n    .dataframe thead th {\n        text-align: right;\n    }\n</style>\n<table border=\"1\" class=\"dataframe\">\n  <thead>\n    <tr style=\"text-align: right;\">\n      <th></th>\n      <th>Model</th>\n      <th>Best Parameters</th>\n      <th>MSE</th>\n      <th>MAE</th>\n      <th>R2</th>\n    </tr>\n  </thead>\n  <tbody>\n    <tr>\n      <th>5</th>\n      <td>ARD Regression</td>\n      <td>{'tol': 0.0001, 'max_iter': 300, 'lambda_2': 1...</td>\n      <td>2.040</td>\n      <td>1.084</td>\n      <td>0.161</td>\n    </tr>\n    <tr>\n      <th>2</th>\n      <td>Lasso Regression</td>\n      <td>{'tol': 0.01, 'max_iter': 500, 'fit_intercept'...</td>\n      <td>2.041</td>\n      <td>1.089</td>\n      <td>0.160</td>\n    </tr>\n    <tr>\n      <th>1</th>\n      <td>Ridge Regression</td>\n      <td>{'solver': 'svd', 'max_iter': 100, 'fit_interc...</td>\n      <td>2.032</td>\n      <td>1.090</td>\n      <td>0.164</td>\n    </tr>\n    <tr>\n      <th>6</th>\n      <td>Voting Regression</td>\n      <td>No hyperparameter tuning</td>\n      <td>2.028</td>\n      <td>1.090</td>\n      <td>0.166</td>\n    </tr>\n    <tr>\n      <th>0</th>\n      <td>Linear Regression</td>\n      <td>{'fit_intercept': True}</td>\n      <td>2.072</td>\n      <td>1.100</td>\n      <td>0.148</td>\n    </tr>\n    <tr>\n      <th>4</th>\n      <td>XGBoost Regression</td>\n      <td>{'n_estimators': 100, 'min_child_weight': 1, '...</td>\n      <td>2.081</td>\n      <td>1.110</td>\n      <td>0.144</td>\n    </tr>\n    <tr>\n      <th>3</th>\n      <td>Random Forest Regression</td>\n      <td>{'n_estimators': 100, 'min_samples_split': 10,...</td>\n      <td>2.293</td>\n      <td>1.169</td>\n      <td>0.057</td>\n    </tr>\n  </tbody>\n</table>\n</div>"
     },
     "metadata": {},
     "output_type": "display_data"
    },
    {
     "name": "stderr",
     "output_type": "stream",
     "text": [
      "Processing dataframe df_league_3: 100%|██████████| 7/7 [01:07<00:00,  9.60s/it]"
     ]
    },
    {
     "name": "stdout",
     "output_type": "stream",
     "text": [
      "\n",
      "Dataframe:  df_league_3\n"
     ]
    },
    {
     "name": "stderr",
     "output_type": "stream",
     "text": [
      "\n"
     ]
    },
    {
     "data": {
      "text/plain": "                      Model  \\\n1          Ridge Regression   \n2          Lasso Regression   \n6         Voting Regression   \n5            ARD Regression   \n4        XGBoost Regression   \n0         Linear Regression   \n3  Random Forest Regression   \n\n                                     Best Parameters   MSE   MAE    R2  \n1  {'solver': 'cholesky', 'max_iter': 10, 'fit_in... 1.962 1.068 0.198  \n2  {'tol': 0.01, 'max_iter': 500, 'fit_intercept'... 1.954 1.068 0.202  \n6                           No hyperparameter tuning 1.947 1.075 0.204  \n5  {'tol': 0.01, 'max_iter': 300, 'lambda_2': 1e-... 1.982 1.079 0.190  \n4  {'n_estimators': 50, 'min_child_weight': 3, 'm... 2.023 1.083 0.173  \n0                            {'fit_intercept': True} 2.082 1.097 0.149  \n3  {'n_estimators': 50, 'min_samples_split': 10, ... 2.055 1.107 0.160  ",
      "text/html": "<div>\n<style scoped>\n    .dataframe tbody tr th:only-of-type {\n        vertical-align: middle;\n    }\n\n    .dataframe tbody tr th {\n        vertical-align: top;\n    }\n\n    .dataframe thead th {\n        text-align: right;\n    }\n</style>\n<table border=\"1\" class=\"dataframe\">\n  <thead>\n    <tr style=\"text-align: right;\">\n      <th></th>\n      <th>Model</th>\n      <th>Best Parameters</th>\n      <th>MSE</th>\n      <th>MAE</th>\n      <th>R2</th>\n    </tr>\n  </thead>\n  <tbody>\n    <tr>\n      <th>1</th>\n      <td>Ridge Regression</td>\n      <td>{'solver': 'cholesky', 'max_iter': 10, 'fit_in...</td>\n      <td>1.962</td>\n      <td>1.068</td>\n      <td>0.198</td>\n    </tr>\n    <tr>\n      <th>2</th>\n      <td>Lasso Regression</td>\n      <td>{'tol': 0.01, 'max_iter': 500, 'fit_intercept'...</td>\n      <td>1.954</td>\n      <td>1.068</td>\n      <td>0.202</td>\n    </tr>\n    <tr>\n      <th>6</th>\n      <td>Voting Regression</td>\n      <td>No hyperparameter tuning</td>\n      <td>1.947</td>\n      <td>1.075</td>\n      <td>0.204</td>\n    </tr>\n    <tr>\n      <th>5</th>\n      <td>ARD Regression</td>\n      <td>{'tol': 0.01, 'max_iter': 300, 'lambda_2': 1e-...</td>\n      <td>1.982</td>\n      <td>1.079</td>\n      <td>0.190</td>\n    </tr>\n    <tr>\n      <th>4</th>\n      <td>XGBoost Regression</td>\n      <td>{'n_estimators': 50, 'min_child_weight': 3, 'm...</td>\n      <td>2.023</td>\n      <td>1.083</td>\n      <td>0.173</td>\n    </tr>\n    <tr>\n      <th>0</th>\n      <td>Linear Regression</td>\n      <td>{'fit_intercept': True}</td>\n      <td>2.082</td>\n      <td>1.097</td>\n      <td>0.149</td>\n    </tr>\n    <tr>\n      <th>3</th>\n      <td>Random Forest Regression</td>\n      <td>{'n_estimators': 50, 'min_samples_split': 10, ...</td>\n      <td>2.055</td>\n      <td>1.107</td>\n      <td>0.160</td>\n    </tr>\n  </tbody>\n</table>\n</div>"
     },
     "metadata": {},
     "output_type": "display_data"
    }
   ],
   "source": [
    "\n",
    "dfs = [\n",
    "    (df_all, 'df_all'),\n",
    "    (df_league_0, 'df_league_0'),\n",
    "    (df_league_1, 'df_league_1'),\n",
    "    (df_league_2, 'df_league_2'),\n",
    "    (df_league_3, 'df_league_3')\n",
    "]\n",
    "\n",
    "target = 'Full_Time_Total_Goals'\n",
    "\n",
    "final_results = []\n",
    "\n",
    "# Run the pipeline for each model\n",
    "for df, df_name in dfs:\n",
    "    result_df = pd.DataFrame()\n",
    "    for model_name, model in tqdm(models, desc=f'Processing dataframe {df_name}'):\n",
    "        result = run_pipeline(df, df_name, target, model_name, model, param_dist[model_name], test_size=0.3, random_state=4)\n",
    "        result_df = pd.concat([result_df, result], ignore_index=True)\n",
    "        # display(result_df)\n",
    "    final_results.append((df_name, result_df))\n",
    "    print('\\nDataframe: ', df_name)\n",
    "    display(result_df.sort_values(by='MAE', ascending=True))\n",
    "\n"
   ],
   "metadata": {
    "collapsed": false,
    "ExecuteTime": {
     "end_time": "2024-01-07T13:23:48.221758Z",
     "start_time": "2024-01-07T13:12:16.438160Z"
    }
   },
   "id": "ffb0978924e3de1b"
  },
  {
   "cell_type": "code",
   "execution_count": 17,
   "outputs": [
    {
     "data": {
      "text/plain": "count   2889.000\nmean       2.666\nstd        1.620\nmin        0.000\n25%        2.000\n50%        3.000\n75%        4.000\nmax       10.000\nName: Full_Time_Total_Goals, dtype: float64"
     },
     "execution_count": 17,
     "metadata": {},
     "output_type": "execute_result"
    }
   ],
   "source": [
    "df_league_0[target].describe()"
   ],
   "metadata": {
    "collapsed": false,
    "ExecuteTime": {
     "end_time": "2024-01-07T13:23:48.235809Z",
     "start_time": "2024-01-07T13:23:48.218045Z"
    }
   },
   "id": "3561db21a7e711a0"
  },
  {
   "cell_type": "code",
   "execution_count": 22,
   "outputs": [],
   "source": [
    "def drop_columns_and_teams(df):\n",
    "    columns_to_drop = ['Full_Time_Home_Team_Goals', 'Full_Time_Away_Team_Goals',\n",
    "                       'has_favorite_None', 'Time_kick_off_bin_Morning' ]\n",
    "\n",
    "    teams_to_drop = df.columns[df.columns.str.startswith('HomeTeam_') | df.columns.str.startswith('AwayTeam_')]\n",
    "\n",
    "    # Drop specified columns and teams\n",
    "    df_cleaned = df.drop(columns=columns_to_drop)\n",
    "    df_cleaned = df_cleaned.drop(columns=teams_to_drop)\n",
    "\n",
    "    return df_cleaned\n",
    "\n",
    "dfs = [\n",
    "    (df_all, 'df_all'),\n",
    "    (df_league_0, 'df_league_0'),\n",
    "    (df_league_1, 'df_league_1'),\n",
    "    (df_league_2, 'df_league_2'),\n",
    "    (df_league_3, 'df_league_3')\n",
    "]\n",
    "\n",
    "# Apply the function to each dataframe in the list\n",
    "dfs_cleaned = [(drop_columns_and_teams(df), name) for df, name in dfs]\n"
   ],
   "metadata": {
    "collapsed": false,
    "ExecuteTime": {
     "end_time": "2024-01-07T13:31:57.647755Z",
     "start_time": "2024-01-07T13:31:57.541788Z"
    }
   },
   "id": "94088518e8221330"
  },
  {
   "cell_type": "code",
   "execution_count": 25,
   "outputs": [],
   "source": [
    "# for df_cleaned, name in dfs_cleaned:\n",
    "#     df_cleaned.to_csv(f'../data/for_train/cleaned/{name}_cleaned.csv', index=False)"
   ],
   "metadata": {
    "collapsed": false,
    "ExecuteTime": {
     "end_time": "2024-01-07T13:33:34.062071Z",
     "start_time": "2024-01-07T13:33:33.687045Z"
    }
   },
   "id": "d5d8a07d694be6e6"
  },
  {
   "cell_type": "code",
   "execution_count": null,
   "outputs": [],
   "source": [],
   "metadata": {
    "collapsed": false
   },
   "id": "bc9ef25ce18c2b4"
  }
 ],
 "metadata": {
  "kernelspec": {
   "display_name": "Python 3",
   "language": "python",
   "name": "python3"
  },
  "language_info": {
   "codemirror_mode": {
    "name": "ipython",
    "version": 2
   },
   "file_extension": ".py",
   "mimetype": "text/x-python",
   "name": "python",
   "nbconvert_exporter": "python",
   "pygments_lexer": "ipython2",
   "version": "2.7.6"
  }
 },
 "nbformat": 4,
 "nbformat_minor": 5
}
