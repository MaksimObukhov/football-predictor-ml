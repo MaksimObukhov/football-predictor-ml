{
 "cells": [
  {
   "cell_type": "markdown",
   "source": [
    "# Regression task\n",
    "## Before start"
   ],
   "metadata": {
    "collapsed": false
   },
   "id": "e58a2b97d8c5429d"
  },
  {
   "cell_type": "markdown",
   "source": [
    "### TODO steps:\n",
    "\n",
    "1. read csv  \n",
    "\n",
    "2. write pipeline: split data, train model, predict, evaluate  \n",
    "\n",
    "3. models: \n",
    "    LinearRegression(), \n",
    "    RandomForestRegressor(), \n",
    "    GradientBoostingRegressor() (xgboost), \n",
    "    SVR(), \n",
    "    neural network\n",
    "\n",
    "4. hyperparameter tuning: \n",
    "    GridSearchCV, \n",
    "    RandomizedSearchCV\n",
    "\n",
    "5. dont forget about time series cross validation"
   ],
   "metadata": {
    "collapsed": false
   },
   "id": "7f401bd17f24220e"
  },
  {
   "cell_type": "markdown",
   "source": [
    "## Import libraries"
   ],
   "metadata": {
    "collapsed": false
   },
   "id": "4f3f4c67c3b37e1a"
  },
  {
   "cell_type": "code",
   "execution_count": 11,
   "outputs": [],
   "source": [
    "%reset"
   ],
   "metadata": {
    "collapsed": false,
    "ExecuteTime": {
     "end_time": "2024-01-04T14:40:26.195076Z",
     "start_time": "2024-01-04T14:40:24.627030Z"
    }
   },
   "id": "27a1d01850cfae54"
  },
  {
   "cell_type": "code",
   "execution_count": 12,
   "outputs": [],
   "source": [
    "import pandas as pd \n",
    "import numpy as np\n",
    "import matplotlib.pyplot as plt\n",
    "import seaborn as sns\n",
    "from tqdm import tqdm\n",
    "import pickle\n",
    "\n",
    "from sklearn.linear_model import LinearRegression\n",
    "from sklearn.ensemble import RandomForestRegressor, GradientBoostingRegressor\n",
    "from sklearn.svm import SVR\n",
    "from tensorflow.keras.models import Sequential\n",
    "from tensorflow.keras.layers import Dense\n",
    "from xgboost import XGBRegressor\n",
    "from sklearn.neural_network import MLPRegressor\n",
    "\n",
    "\n",
    "from sklearn.model_selection import train_test_split, GridSearchCV, RandomizedSearchCV, TimeSeriesSplit\n",
    "from sklearn.metrics import mean_squared_error, mean_absolute_error, r2_score\n",
    "\n"
   ],
   "metadata": {
    "collapsed": false,
    "ExecuteTime": {
     "end_time": "2024-01-04T14:40:26.203393Z",
     "start_time": "2024-01-04T14:40:26.197341Z"
    }
   },
   "id": "fd22faa62d0d9169"
  },
  {
   "cell_type": "markdown",
   "source": [
    "## Read data"
   ],
   "metadata": {
    "collapsed": false
   },
   "id": "59abab76b94d31dc"
  },
  {
   "cell_type": "code",
   "execution_count": 13,
   "outputs": [],
   "source": [
    "df_all = pd.read_csv('../data/for_train/train_df.csv')\n",
    "df_league_0 = pd.read_csv('../data/for_train/df_league_0.csv')\n",
    "df_league_1 = pd.read_csv('../data/for_train/df_league_1.csv')\n",
    "df_league_2 = pd.read_csv('../data/for_train/df_league_2.csv')\n",
    "df_league_3 = pd.read_csv('../data/for_train/df_league_3.csv')\n"
   ],
   "metadata": {
    "collapsed": false,
    "ExecuteTime": {
     "end_time": "2024-01-04T14:40:27.655710Z",
     "start_time": "2024-01-04T14:40:26.200028Z"
    }
   },
   "id": "f5e66ee2e108a441"
  },
  {
   "cell_type": "code",
   "execution_count": 14,
   "outputs": [],
   "source": [
    "# Create target\n",
    "df_all['Full_Time_Total_Goals'] = df_all['Full_Time_Home_Team_Goals'] + df_all['Full_Time_Away_Team_Goals']\n",
    "df_league_0['Full_Time_Total_Goals'] = df_league_0['Full_Time_Home_Team_Goals'] + df_league_0['Full_Time_Away_Team_Goals']\n",
    "df_league_1['Full_Time_Total_Goals'] = df_league_1['Full_Time_Home_Team_Goals'] + df_league_1['Full_Time_Away_Team_Goals']\n",
    "df_league_2['Full_Time_Total_Goals'] = df_league_2['Full_Time_Home_Team_Goals'] + df_league_2['Full_Time_Away_Team_Goals']\n",
    "df_league_3['Full_Time_Total_Goals'] = df_league_3['Full_Time_Home_Team_Goals'] + df_league_3['Full_Time_Away_Team_Goals']"
   ],
   "metadata": {
    "collapsed": false,
    "ExecuteTime": {
     "end_time": "2024-01-04T14:40:27.660715Z",
     "start_time": "2024-01-04T14:40:27.657210Z"
    }
   },
   "id": "bbc2915a7ed21664"
  },
  {
   "cell_type": "markdown",
   "source": [
    "## Pipeline"
   ],
   "metadata": {
    "collapsed": false
   },
   "id": "f6ad3ef5a8d2bc6d"
  },
  {
   "cell_type": "code",
   "execution_count": 15,
   "outputs": [],
   "source": [
    "def run_pipeline(df, df_name, target, model_name, model, param_dist, test_size=0.3, random_state=42):\n",
    "    # Split data into train and test\n",
    "    columns_to_drop = ['Full_Time_Home_Team_Goals', 'Full_Time_Away_Team_Goals',\n",
    "                       'Full_Time_Result_A', 'Full_Time_Result_D', 'Full_Time_Result_H',]\n",
    "\n",
    "    X = df.drop(columns=[target] + columns_to_drop, axis=1)\n",
    "    y = df[target]\n",
    "    X_train, X_test, y_train, y_test = train_test_split(X, y, test_size=test_size, random_state=random_state)\n",
    "\n",
    "    # Define TimeSeriesSplit\n",
    "    tscv = TimeSeriesSplit(n_splits=5)\n",
    "\n",
    "    # Perform random search\n",
    "    random_search = RandomizedSearchCV(model, param_dist, n_iter=10, cv=tscv, scoring='neg_mean_squared_error', random_state=random_state)\n",
    "    random_search.fit(X_train, y_train)\n",
    "\n",
    "    # Evaluate model\n",
    "    best_model = random_search.best_estimator_\n",
    "    y_pred = best_model.predict(X_test)\n",
    "\n",
    "    # Save the model to a file\n",
    "    with open(f'../models/{df_name}_{model_name}.pkl', 'wb') as file:\n",
    "        pickle.dump(best_model, file)\n",
    "\n",
    "    # Calculate metrics\n",
    "    mse = mean_squared_error(y_test, y_pred)\n",
    "    mae = mean_absolute_error(y_test, y_pred)\n",
    "    r2 = r2_score(y_test, y_pred)\n",
    "\n",
    "    # Save results\n",
    "    result = {\n",
    "        'Model': model_name,\n",
    "        'Best Parameters': random_search.best_params_ if param_dist else \"No hyperparameter tuning\",\n",
    "        'MSE': mse,\n",
    "        'MAE': mae,\n",
    "        'R2': r2\n",
    "    }\n",
    "\n",
    "    return pd.DataFrame([result])\n"
   ],
   "metadata": {
    "collapsed": false,
    "ExecuteTime": {
     "end_time": "2024-01-04T14:40:27.665049Z",
     "start_time": "2024-01-04T14:40:27.662366Z"
    }
   },
   "id": "bc32c9165f0206c9"
  },
  {
   "cell_type": "code",
   "execution_count": 16,
   "outputs": [
    {
     "name": "stderr",
     "output_type": "stream",
     "text": [
      "Processing dataframe df_all: 100%|██████████| 1/1 [04:48<00:00, 288.37s/it]"
     ]
    },
    {
     "name": "stdout",
     "output_type": "stream",
     "text": [
      "\n",
      "Dataframe:  df_all\n"
     ]
    },
    {
     "name": "stderr",
     "output_type": "stream",
     "text": [
      "\n"
     ]
    },
    {
     "data": {
      "text/plain": "                       Model  \\\n0  Neural Network Regression   \n\n                                     Best Parameters       MSE       MAE  \\\n0  {'max_iter': 200, 'learning_rate_init': 0.1, '...  8.059147  2.363497   \n\n        R2  \n0 -1.96934  ",
      "text/html": "<div>\n<style scoped>\n    .dataframe tbody tr th:only-of-type {\n        vertical-align: middle;\n    }\n\n    .dataframe tbody tr th {\n        vertical-align: top;\n    }\n\n    .dataframe thead th {\n        text-align: right;\n    }\n</style>\n<table border=\"1\" class=\"dataframe\">\n  <thead>\n    <tr style=\"text-align: right;\">\n      <th></th>\n      <th>Model</th>\n      <th>Best Parameters</th>\n      <th>MSE</th>\n      <th>MAE</th>\n      <th>R2</th>\n    </tr>\n  </thead>\n  <tbody>\n    <tr>\n      <th>0</th>\n      <td>Neural Network Regression</td>\n      <td>{'max_iter': 200, 'learning_rate_init': 0.1, '...</td>\n      <td>8.059147</td>\n      <td>2.363497</td>\n      <td>-1.96934</td>\n    </tr>\n  </tbody>\n</table>\n</div>"
     },
     "metadata": {},
     "output_type": "display_data"
    },
    {
     "name": "stderr",
     "output_type": "stream",
     "text": [
      "Processing dataframe df_league_0:   0%|          | 0/1 [00:00<?, ?it/s]/Users/maksim/anaconda3/lib/python3.11/site-packages/sklearn/neural_network/_multilayer_perceptron.py:691: ConvergenceWarning: Stochastic Optimizer: Maximum iterations (100) reached and the optimization hasn't converged yet.\n",
      "  warnings.warn(\n",
      "/Users/maksim/anaconda3/lib/python3.11/site-packages/sklearn/neural_network/_multilayer_perceptron.py:691: ConvergenceWarning: Stochastic Optimizer: Maximum iterations (100) reached and the optimization hasn't converged yet.\n",
      "  warnings.warn(\n",
      "/Users/maksim/anaconda3/lib/python3.11/site-packages/sklearn/neural_network/_multilayer_perceptron.py:691: ConvergenceWarning: Stochastic Optimizer: Maximum iterations (100) reached and the optimization hasn't converged yet.\n",
      "  warnings.warn(\n",
      "Processing dataframe df_league_0: 100%|██████████| 1/1 [00:56<00:00, 56.64s/it]"
     ]
    },
    {
     "name": "stdout",
     "output_type": "stream",
     "text": [
      "\n",
      "Dataframe:  df_league_0\n"
     ]
    },
    {
     "name": "stderr",
     "output_type": "stream",
     "text": [
      "\n"
     ]
    },
    {
     "data": {
      "text/plain": "                       Model  \\\n0  Neural Network Regression   \n\n                                     Best Parameters       MSE       MAE  \\\n0  {'max_iter': 200, 'learning_rate_init': 0.1, '...  2.521295  1.270696   \n\n         R2  \n0 -0.002012  ",
      "text/html": "<div>\n<style scoped>\n    .dataframe tbody tr th:only-of-type {\n        vertical-align: middle;\n    }\n\n    .dataframe tbody tr th {\n        vertical-align: top;\n    }\n\n    .dataframe thead th {\n        text-align: right;\n    }\n</style>\n<table border=\"1\" class=\"dataframe\">\n  <thead>\n    <tr style=\"text-align: right;\">\n      <th></th>\n      <th>Model</th>\n      <th>Best Parameters</th>\n      <th>MSE</th>\n      <th>MAE</th>\n      <th>R2</th>\n    </tr>\n  </thead>\n  <tbody>\n    <tr>\n      <th>0</th>\n      <td>Neural Network Regression</td>\n      <td>{'max_iter': 200, 'learning_rate_init': 0.1, '...</td>\n      <td>2.521295</td>\n      <td>1.270696</td>\n      <td>-0.002012</td>\n    </tr>\n  </tbody>\n</table>\n</div>"
     },
     "metadata": {},
     "output_type": "display_data"
    },
    {
     "name": "stderr",
     "output_type": "stream",
     "text": [
      "Processing dataframe df_league_1:   0%|          | 0/1 [00:00<?, ?it/s]/Users/maksim/anaconda3/lib/python3.11/site-packages/sklearn/neural_network/_multilayer_perceptron.py:691: ConvergenceWarning: Stochastic Optimizer: Maximum iterations (200) reached and the optimization hasn't converged yet.\n",
      "  warnings.warn(\n",
      "Processing dataframe df_league_1: 100%|██████████| 1/1 [02:59<00:00, 179.20s/it]"
     ]
    },
    {
     "name": "stdout",
     "output_type": "stream",
     "text": [
      "\n",
      "Dataframe:  df_league_1\n"
     ]
    },
    {
     "name": "stderr",
     "output_type": "stream",
     "text": [
      "\n"
     ]
    },
    {
     "data": {
      "text/plain": "                       Model  \\\n0  Neural Network Regression   \n\n                                     Best Parameters         MSE        MAE  \\\n0  {'max_iter': 100, 'learning_rate_init': 0.01, ...  134.835373  11.483359   \n\n          R2  \n0 -48.668488  ",
      "text/html": "<div>\n<style scoped>\n    .dataframe tbody tr th:only-of-type {\n        vertical-align: middle;\n    }\n\n    .dataframe tbody tr th {\n        vertical-align: top;\n    }\n\n    .dataframe thead th {\n        text-align: right;\n    }\n</style>\n<table border=\"1\" class=\"dataframe\">\n  <thead>\n    <tr style=\"text-align: right;\">\n      <th></th>\n      <th>Model</th>\n      <th>Best Parameters</th>\n      <th>MSE</th>\n      <th>MAE</th>\n      <th>R2</th>\n    </tr>\n  </thead>\n  <tbody>\n    <tr>\n      <th>0</th>\n      <td>Neural Network Regression</td>\n      <td>{'max_iter': 100, 'learning_rate_init': 0.01, ...</td>\n      <td>134.835373</td>\n      <td>11.483359</td>\n      <td>-48.668488</td>\n    </tr>\n  </tbody>\n</table>\n</div>"
     },
     "metadata": {},
     "output_type": "display_data"
    },
    {
     "name": "stderr",
     "output_type": "stream",
     "text": [
      "Processing dataframe df_league_2:   0%|          | 0/1 [00:00<?, ?it/s]/Users/maksim/anaconda3/lib/python3.11/site-packages/sklearn/neural_network/_multilayer_perceptron.py:691: ConvergenceWarning: Stochastic Optimizer: Maximum iterations (200) reached and the optimization hasn't converged yet.\n",
      "  warnings.warn(\n",
      "Processing dataframe df_league_2: 100%|██████████| 1/1 [02:00<00:00, 120.81s/it]"
     ]
    },
    {
     "name": "stdout",
     "output_type": "stream",
     "text": [
      "\n",
      "Dataframe:  df_league_2\n"
     ]
    },
    {
     "name": "stderr",
     "output_type": "stream",
     "text": [
      "\n"
     ]
    },
    {
     "data": {
      "text/plain": "                       Model  \\\n0  Neural Network Regression   \n\n                                     Best Parameters       MSE      MAE  \\\n0  {'max_iter': 200, 'learning_rate_init': 0.1, '...  2.621736  1.29412   \n\n         R2  \n0 -0.020702  ",
      "text/html": "<div>\n<style scoped>\n    .dataframe tbody tr th:only-of-type {\n        vertical-align: middle;\n    }\n\n    .dataframe tbody tr th {\n        vertical-align: top;\n    }\n\n    .dataframe thead th {\n        text-align: right;\n    }\n</style>\n<table border=\"1\" class=\"dataframe\">\n  <thead>\n    <tr style=\"text-align: right;\">\n      <th></th>\n      <th>Model</th>\n      <th>Best Parameters</th>\n      <th>MSE</th>\n      <th>MAE</th>\n      <th>R2</th>\n    </tr>\n  </thead>\n  <tbody>\n    <tr>\n      <th>0</th>\n      <td>Neural Network Regression</td>\n      <td>{'max_iter': 200, 'learning_rate_init': 0.1, '...</td>\n      <td>2.621736</td>\n      <td>1.29412</td>\n      <td>-0.020702</td>\n    </tr>\n  </tbody>\n</table>\n</div>"
     },
     "metadata": {},
     "output_type": "display_data"
    },
    {
     "name": "stderr",
     "output_type": "stream",
     "text": [
      "Processing dataframe df_league_3:   0%|          | 0/1 [00:00<?, ?it/s]/Users/maksim/anaconda3/lib/python3.11/site-packages/sklearn/neural_network/_multilayer_perceptron.py:691: ConvergenceWarning: Stochastic Optimizer: Maximum iterations (100) reached and the optimization hasn't converged yet.\n",
      "  warnings.warn(\n",
      "/Users/maksim/anaconda3/lib/python3.11/site-packages/sklearn/neural_network/_multilayer_perceptron.py:691: ConvergenceWarning: Stochastic Optimizer: Maximum iterations (100) reached and the optimization hasn't converged yet.\n",
      "  warnings.warn(\n",
      "/Users/maksim/anaconda3/lib/python3.11/site-packages/sklearn/neural_network/_multilayer_perceptron.py:691: ConvergenceWarning: Stochastic Optimizer: Maximum iterations (100) reached and the optimization hasn't converged yet.\n",
      "  warnings.warn(\n",
      "Processing dataframe df_league_3: 100%|██████████| 1/1 [01:04<00:00, 64.83s/it]"
     ]
    },
    {
     "name": "stdout",
     "output_type": "stream",
     "text": [
      "\n",
      "Dataframe:  df_league_3\n"
     ]
    },
    {
     "name": "stderr",
     "output_type": "stream",
     "text": [
      "\n"
     ]
    },
    {
     "data": {
      "text/plain": "                       Model  \\\n0  Neural Network Regression   \n\n                                     Best Parameters           MSE  \\\n0  {'max_iter': 100, 'learning_rate_init': 0.01, ...  3.091527e+08   \n\n            MAE            R2  \n0  17574.915207 -1.140421e+08  ",
      "text/html": "<div>\n<style scoped>\n    .dataframe tbody tr th:only-of-type {\n        vertical-align: middle;\n    }\n\n    .dataframe tbody tr th {\n        vertical-align: top;\n    }\n\n    .dataframe thead th {\n        text-align: right;\n    }\n</style>\n<table border=\"1\" class=\"dataframe\">\n  <thead>\n    <tr style=\"text-align: right;\">\n      <th></th>\n      <th>Model</th>\n      <th>Best Parameters</th>\n      <th>MSE</th>\n      <th>MAE</th>\n      <th>R2</th>\n    </tr>\n  </thead>\n  <tbody>\n    <tr>\n      <th>0</th>\n      <td>Neural Network Regression</td>\n      <td>{'max_iter': 100, 'learning_rate_init': 0.01, ...</td>\n      <td>3.091527e+08</td>\n      <td>17574.915207</td>\n      <td>-1.140421e+08</td>\n    </tr>\n  </tbody>\n</table>\n</div>"
     },
     "metadata": {},
     "output_type": "display_data"
    }
   ],
   "source": [
    "# Define models and hyperparameter distributions\n",
    "models = [\n",
    "    ('Linear Regression', LinearRegression()),\n",
    "    ('Random Forest', RandomForestRegressor()),\n",
    "    ('XGBoost', XGBRegressor())\n",
    "]\n",
    "\n",
    "param_dist = {\n",
    "    'Linear Regression': {'fit_intercept': [True, False]},\n",
    "\n",
    "    'Random Forest': {'n_estimators': [10, 50, 100],\n",
    "                      'max_depth': [None, 10, 20],\n",
    "                      'min_samples_split': [2, 5, 10]},\n",
    "\n",
    "\n",
    "    'XGBoost': {'n_estimators': [50, 100, 200],\n",
    "                'learning_rate': [0.01, 0.1, 0.2],\n",
    "                'max_depth': [3, 5, 7],\n",
    "                'min_child_weight': [1, 3, 5]},\n",
    "\n",
    "}\n",
    "\n",
    "\n",
    "dfs = [\n",
    "    (df_all, 'df_all'),\n",
    "    (df_league_0, 'df_league_0'),\n",
    "    (df_league_1, 'df_league_1'),\n",
    "    (df_league_2, 'df_league_2'),\n",
    "    (df_league_3, 'df_league_3')\n",
    "]\n",
    "\n",
    "target = 'Full_Time_Total_Goals'\n",
    "\n",
    "# Run the pipeline for each model\n",
    "for df, df_name in dfs:\n",
    "    result_df = pd.DataFrame()\n",
    "    for model_name, model in tqdm(models, desc=f'Processing dataframe {df_name}'):\n",
    "        result = run_pipeline(df, df_name, target, model_name, model, param_dist[model_name], test_size=0.3, random_state=42)\n",
    "        result_df = pd.concat([result_df, result], ignore_index=True)\n",
    "    print('\\nDataframe: ', df_name)\n",
    "    display(result_df.sort_values(by='MSE', ascending=True))\n",
    "\n",
    "# Sort results by MSE\n",
    "# result_df.sort_values(by='MSE', ascending=True)\n"
   ],
   "metadata": {
    "collapsed": false,
    "ExecuteTime": {
     "end_time": "2024-01-04T14:52:17.598015Z",
     "start_time": "2024-01-04T14:40:27.667020Z"
    }
   },
   "id": "ffb0978924e3de1b"
  },
  {
   "cell_type": "code",
   "execution_count": 17,
   "outputs": [
    {
     "data": {
      "text/plain": "count    32862.000000\nmean         2.645944\nstd          1.637276\nmin          0.000000\n25%          1.000000\n50%          2.000000\n75%          4.000000\nmax         13.000000\nName: Full_Time_Total_Goals, dtype: float64"
     },
     "execution_count": 17,
     "metadata": {},
     "output_type": "execute_result"
    }
   ],
   "source": [
    "df_all[target].describe()"
   ],
   "metadata": {
    "collapsed": false,
    "ExecuteTime": {
     "end_time": "2024-01-04T14:52:17.601227Z",
     "start_time": "2024-01-04T14:52:17.579374Z"
    }
   },
   "id": "3561db21a7e711a0"
  },
  {
   "cell_type": "code",
   "execution_count": 17,
   "outputs": [],
   "source": [],
   "metadata": {
    "collapsed": false,
    "ExecuteTime": {
     "end_time": "2024-01-04T14:52:17.601410Z",
     "start_time": "2024-01-04T14:52:17.590221Z"
    }
   },
   "id": "3f9325dc782ecdef"
  }
 ],
 "metadata": {
  "kernelspec": {
   "display_name": "Python 3",
   "language": "python",
   "name": "python3"
  },
  "language_info": {
   "codemirror_mode": {
    "name": "ipython",
    "version": 2
   },
   "file_extension": ".py",
   "mimetype": "text/x-python",
   "name": "python",
   "nbconvert_exporter": "python",
   "pygments_lexer": "ipython2",
   "version": "2.7.6"
  }
 },
 "nbformat": 4,
 "nbformat_minor": 5
}
