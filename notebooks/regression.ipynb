{
 "cells": [
  {
   "cell_type": "markdown",
   "source": [
    "# Regression task\n",
    "## Before start"
   ],
   "metadata": {
    "collapsed": false
   },
   "id": "e58a2b97d8c5429d"
  },
  {
   "cell_type": "markdown",
   "source": [
    "### TODO steps:\n",
    "\n",
    "1. read csv  \n",
    "\n",
    "2. write pipeline: split data, train model, predict, evaluate  \n",
    "\n",
    "3. models: \n",
    "    LinearRegression(), \n",
    "    RandomForestRegressor(), \n",
    "    GradientBoostingRegressor() (xgboost), \n",
    "    SVR(), \n",
    "    neural network\n",
    "\n",
    "4. hyperparameter tuning: \n",
    "    GridSearchCV, \n",
    "    RandomizedSearchCV\n",
    "\n",
    "5. dont forget about time series cross validation"
   ],
   "metadata": {
    "collapsed": false
   },
   "id": "7f401bd17f24220e"
  },
  {
   "cell_type": "markdown",
   "source": [
    "## Import libraries"
   ],
   "metadata": {
    "collapsed": false
   },
   "id": "4f3f4c67c3b37e1a"
  },
  {
   "cell_type": "code",
   "execution_count": 1,
   "outputs": [],
   "source": [
    "%reset"
   ],
   "metadata": {
    "collapsed": false,
    "ExecuteTime": {
     "end_time": "2024-01-03T20:34:00.803185Z",
     "start_time": "2024-01-03T20:33:59.737639Z"
    }
   },
   "id": "27a1d01850cfae54"
  },
  {
   "cell_type": "code",
   "execution_count": 2,
   "outputs": [],
   "source": [
    "import pandas as pd \n",
    "import numpy as np\n",
    "import matplotlib.pyplot as plt\n",
    "import seaborn as sns\n",
    "from tqdm import tqdm\n",
    "\n",
    "from sklearn.linear_model import LinearRegression\n",
    "from sklearn.ensemble import RandomForestRegressor, GradientBoostingRegressor\n",
    "from sklearn.svm import SVR\n",
    "from tensorflow.keras.models import Sequential\n",
    "from tensorflow.keras.layers import Dense\n",
    "from xgboost import XGBRegressor\n",
    "\n",
    "from sklearn.model_selection import train_test_split, GridSearchCV, RandomizedSearchCV, TimeSeriesSplit\n",
    "from sklearn.metrics import mean_squared_error, mean_absolute_error, r2_score\n"
   ],
   "metadata": {
    "collapsed": false,
    "ExecuteTime": {
     "end_time": "2024-01-03T20:34:02.581571Z",
     "start_time": "2024-01-03T20:34:00.805113Z"
    }
   },
   "id": "fd22faa62d0d9169"
  },
  {
   "cell_type": "markdown",
   "source": [
    "## Read data"
   ],
   "metadata": {
    "collapsed": false
   },
   "id": "59abab76b94d31dc"
  },
  {
   "cell_type": "code",
   "execution_count": 3,
   "outputs": [],
   "source": [
    "df_all = pd.read_csv('../data/for_train/train_df.csv')\n",
    "df_league_0 = pd.read_csv('../data/for_train/df_league_0.csv')\n",
    "df_league_1 = pd.read_csv('../data/for_train/df_league_1.csv')\n",
    "df_league_2 = pd.read_csv('../data/for_train/df_league_2.csv')\n",
    "df_league_3 = pd.read_csv('../data/for_train/df_league_3.csv')\n"
   ],
   "metadata": {
    "collapsed": false,
    "ExecuteTime": {
     "end_time": "2024-01-03T20:34:03.920540Z",
     "start_time": "2024-01-03T20:34:02.582321Z"
    }
   },
   "id": "f5e66ee2e108a441"
  },
  {
   "cell_type": "code",
   "execution_count": 4,
   "outputs": [],
   "source": [
    "# Create target\n",
    "df_all['Full_Time_Total_Goals'] = df_all['Full_Time_Home_Team_Goals'] + df_all['Full_Time_Away_Team_Goals']\n",
    "df_league_0['Full_Time_Total_Goals'] = df_league_0['Full_Time_Home_Team_Goals'] + df_league_0['Full_Time_Away_Team_Goals']\n",
    "df_league_1['Full_Time_Total_Goals'] = df_league_1['Full_Time_Home_Team_Goals'] + df_league_1['Full_Time_Away_Team_Goals']\n",
    "df_league_2['Full_Time_Total_Goals'] = df_league_2['Full_Time_Home_Team_Goals'] + df_league_2['Full_Time_Away_Team_Goals']\n",
    "df_league_3['Full_Time_Total_Goals'] = df_league_3['Full_Time_Home_Team_Goals'] + df_league_3['Full_Time_Away_Team_Goals']"
   ],
   "metadata": {
    "collapsed": false,
    "ExecuteTime": {
     "end_time": "2024-01-03T20:34:03.932506Z",
     "start_time": "2024-01-03T20:34:03.922135Z"
    }
   },
   "id": "bbc2915a7ed21664"
  },
  {
   "cell_type": "code",
   "execution_count": 5,
   "outputs": [],
   "source": [
    "def run_pipeline_2(df, target, model_name, model, param_dist, test_size=0.2, random_state=42):\n",
    "    # Split data into train and test\n",
    "    columns_to_drop = ['Full_Time_Home_Team_Goals', 'Full_Time_Away_Team_Goals',\n",
    "                       'Full_Time_Result_A', 'Full_Time_Result_D', 'Full_Time_Result_H',]\n",
    "\n",
    "    X = df.drop(columns=[target] + columns_to_drop, axis=1)\n",
    "    y = df[target]\n",
    "    X_train, X_test, y_train, y_test = train_test_split(X, y, test_size=test_size, random_state=random_state)\n",
    "\n",
    "    # Define TimeSeriesSplit\n",
    "    tscv = TimeSeriesSplit(n_splits=5)\n",
    "\n",
    "    # Perform random search\n",
    "    random_search = RandomizedSearchCV(model, param_dist, n_iter=5, cv=tscv, scoring='neg_mean_squared_error', random_state=random_state)\n",
    "    random_search.fit(X_train, y_train)\n",
    "\n",
    "    # Evaluate model\n",
    "    model = random_search.best_estimator_\n",
    "    y_pred = model.predict(X_test)\n",
    "\n",
    "    # Calculate metrics\n",
    "    mse = mean_squared_error(y_test, y_pred)\n",
    "    mae = mean_absolute_error(y_test, y_pred)\n",
    "    r2 = r2_score(y_test, y_pred)\n",
    "\n",
    "    # Save results\n",
    "    result = {\n",
    "        'Model': model_name,\n",
    "        'Best Parameters': random_search.best_params_ if param_dist else \"No hyperparameter tuning\",\n",
    "        'MSE': mse,\n",
    "        'MAE': mae,\n",
    "        'R2': r2\n",
    "    }\n",
    "\n",
    "    return pd.DataFrame([result])\n"
   ],
   "metadata": {
    "collapsed": false,
    "ExecuteTime": {
     "end_time": "2024-01-03T20:34:03.932661Z",
     "start_time": "2024-01-03T20:34:03.926278Z"
    }
   },
   "id": "bc32c9165f0206c9"
  },
  {
   "cell_type": "code",
   "execution_count": 6,
   "outputs": [
    {
     "name": "stderr",
     "output_type": "stream",
     "text": [
      "Processing dataframe df_all:   0%|          | 0/4 [00:00<?, ?it/s]/Users/maksim/anaconda3/lib/python3.11/site-packages/sklearn/model_selection/_search.py:307: UserWarning: The total space of parameters 2 is smaller than n_iter=5. Running 2 iterations. For exhaustive searches, use GridSearchCV.\n",
      "  warnings.warn(\n"
     ]
    },
    {
     "data": {
      "text/plain": "               Model           Best Parameters       MSE       MAE        R2\n0  Linear Regression  {'fit_intercept': False}  2.142047  1.153477  0.211434",
      "text/html": "<div>\n<style scoped>\n    .dataframe tbody tr th:only-of-type {\n        vertical-align: middle;\n    }\n\n    .dataframe tbody tr th {\n        vertical-align: top;\n    }\n\n    .dataframe thead th {\n        text-align: right;\n    }\n</style>\n<table border=\"1\" class=\"dataframe\">\n  <thead>\n    <tr style=\"text-align: right;\">\n      <th></th>\n      <th>Model</th>\n      <th>Best Parameters</th>\n      <th>MSE</th>\n      <th>MAE</th>\n      <th>R2</th>\n    </tr>\n  </thead>\n  <tbody>\n    <tr>\n      <th>0</th>\n      <td>Linear Regression</td>\n      <td>{'fit_intercept': False}</td>\n      <td>2.142047</td>\n      <td>1.153477</td>\n      <td>0.211434</td>\n    </tr>\n  </tbody>\n</table>\n</div>"
     },
     "metadata": {},
     "output_type": "display_data"
    },
    {
     "name": "stderr",
     "output_type": "stream",
     "text": [
      "Processing dataframe df_all:  25%|██▌       | 1/4 [00:10<00:32, 10.97s/it]"
     ]
    },
    {
     "data": {
      "text/plain": "           Model                                    Best Parameters       MSE  \\\n0  Random Forest  {'n_estimators': 50, 'min_samples_split': 5, '...  2.088445   \n\n        MAE        R2  \n0  1.137311  0.231167  ",
      "text/html": "<div>\n<style scoped>\n    .dataframe tbody tr th:only-of-type {\n        vertical-align: middle;\n    }\n\n    .dataframe tbody tr th {\n        vertical-align: top;\n    }\n\n    .dataframe thead th {\n        text-align: right;\n    }\n</style>\n<table border=\"1\" class=\"dataframe\">\n  <thead>\n    <tr style=\"text-align: right;\">\n      <th></th>\n      <th>Model</th>\n      <th>Best Parameters</th>\n      <th>MSE</th>\n      <th>MAE</th>\n      <th>R2</th>\n    </tr>\n  </thead>\n  <tbody>\n    <tr>\n      <th>0</th>\n      <td>Random Forest</td>\n      <td>{'n_estimators': 50, 'min_samples_split': 5, '...</td>\n      <td>2.088445</td>\n      <td>1.137311</td>\n      <td>0.231167</td>\n    </tr>\n  </tbody>\n</table>\n</div>"
     },
     "metadata": {},
     "output_type": "display_data"
    },
    {
     "name": "stderr",
     "output_type": "stream",
     "text": [
      "Processing dataframe df_all:  50%|█████     | 2/4 [05:42<06:39, 199.59s/it]"
     ]
    },
    {
     "data": {
      "text/plain": "               Model                                    Best Parameters  \\\n0  Gradient Boosting  {'n_estimators': 100, 'min_samples_split': 5, ...   \n\n        MSE       MAE        R2  \n0  2.078279  1.137565  0.234909  ",
      "text/html": "<div>\n<style scoped>\n    .dataframe tbody tr th:only-of-type {\n        vertical-align: middle;\n    }\n\n    .dataframe tbody tr th {\n        vertical-align: top;\n    }\n\n    .dataframe thead th {\n        text-align: right;\n    }\n</style>\n<table border=\"1\" class=\"dataframe\">\n  <thead>\n    <tr style=\"text-align: right;\">\n      <th></th>\n      <th>Model</th>\n      <th>Best Parameters</th>\n      <th>MSE</th>\n      <th>MAE</th>\n      <th>R2</th>\n    </tr>\n  </thead>\n  <tbody>\n    <tr>\n      <th>0</th>\n      <td>Gradient Boosting</td>\n      <td>{'n_estimators': 100, 'min_samples_split': 5, ...</td>\n      <td>2.078279</td>\n      <td>1.137565</td>\n      <td>0.234909</td>\n    </tr>\n  </tbody>\n</table>\n</div>"
     },
     "metadata": {},
     "output_type": "display_data"
    },
    {
     "name": "stderr",
     "output_type": "stream",
     "text": [
      "Processing dataframe df_all:  75%|███████▌  | 3/4 [09:57<03:44, 224.63s/it]"
     ]
    },
    {
     "data": {
      "text/plain": "     Model                                    Best Parameters      MSE  \\\n0  XGBoost  {'n_estimators': 100, 'min_child_weight': 3, '...  2.07988   \n\n        MAE       R2  \n0  1.137563  0.23432  ",
      "text/html": "<div>\n<style scoped>\n    .dataframe tbody tr th:only-of-type {\n        vertical-align: middle;\n    }\n\n    .dataframe tbody tr th {\n        vertical-align: top;\n    }\n\n    .dataframe thead th {\n        text-align: right;\n    }\n</style>\n<table border=\"1\" class=\"dataframe\">\n  <thead>\n    <tr style=\"text-align: right;\">\n      <th></th>\n      <th>Model</th>\n      <th>Best Parameters</th>\n      <th>MSE</th>\n      <th>MAE</th>\n      <th>R2</th>\n    </tr>\n  </thead>\n  <tbody>\n    <tr>\n      <th>0</th>\n      <td>XGBoost</td>\n      <td>{'n_estimators': 100, 'min_child_weight': 3, '...</td>\n      <td>2.07988</td>\n      <td>1.137563</td>\n      <td>0.23432</td>\n    </tr>\n  </tbody>\n</table>\n</div>"
     },
     "metadata": {},
     "output_type": "display_data"
    },
    {
     "name": "stderr",
     "output_type": "stream",
     "text": [
      "Processing dataframe df_all: 100%|██████████| 4/4 [11:32<00:00, 173.07s/it]"
     ]
    },
    {
     "name": "stdout",
     "output_type": "stream",
     "text": [
      "\n",
      "Dataframe: df_all\n"
     ]
    },
    {
     "name": "stderr",
     "output_type": "stream",
     "text": [
      "\n"
     ]
    },
    {
     "data": {
      "text/plain": "               Model                                    Best Parameters  \\\n2  Gradient Boosting  {'n_estimators': 100, 'min_samples_split': 5, ...   \n3            XGBoost  {'n_estimators': 100, 'min_child_weight': 3, '...   \n1      Random Forest  {'n_estimators': 50, 'min_samples_split': 5, '...   \n0  Linear Regression                           {'fit_intercept': False}   \n\n        MSE       MAE        R2  \n2  2.078279  1.137565  0.234909  \n3  2.079880  1.137563  0.234320  \n1  2.088445  1.137311  0.231167  \n0  2.142047  1.153477  0.211434  ",
      "text/html": "<div>\n<style scoped>\n    .dataframe tbody tr th:only-of-type {\n        vertical-align: middle;\n    }\n\n    .dataframe tbody tr th {\n        vertical-align: top;\n    }\n\n    .dataframe thead th {\n        text-align: right;\n    }\n</style>\n<table border=\"1\" class=\"dataframe\">\n  <thead>\n    <tr style=\"text-align: right;\">\n      <th></th>\n      <th>Model</th>\n      <th>Best Parameters</th>\n      <th>MSE</th>\n      <th>MAE</th>\n      <th>R2</th>\n    </tr>\n  </thead>\n  <tbody>\n    <tr>\n      <th>2</th>\n      <td>Gradient Boosting</td>\n      <td>{'n_estimators': 100, 'min_samples_split': 5, ...</td>\n      <td>2.078279</td>\n      <td>1.137565</td>\n      <td>0.234909</td>\n    </tr>\n    <tr>\n      <th>3</th>\n      <td>XGBoost</td>\n      <td>{'n_estimators': 100, 'min_child_weight': 3, '...</td>\n      <td>2.079880</td>\n      <td>1.137563</td>\n      <td>0.234320</td>\n    </tr>\n    <tr>\n      <th>1</th>\n      <td>Random Forest</td>\n      <td>{'n_estimators': 50, 'min_samples_split': 5, '...</td>\n      <td>2.088445</td>\n      <td>1.137311</td>\n      <td>0.231167</td>\n    </tr>\n    <tr>\n      <th>0</th>\n      <td>Linear Regression</td>\n      <td>{'fit_intercept': False}</td>\n      <td>2.142047</td>\n      <td>1.153477</td>\n      <td>0.211434</td>\n    </tr>\n  </tbody>\n</table>\n</div>"
     },
     "metadata": {},
     "output_type": "display_data"
    },
    {
     "name": "stderr",
     "output_type": "stream",
     "text": [
      "Processing dataframe df_league_0:   0%|          | 0/4 [00:00<?, ?it/s]/Users/maksim/anaconda3/lib/python3.11/site-packages/sklearn/model_selection/_search.py:307: UserWarning: The total space of parameters 2 is smaller than n_iter=5. Running 2 iterations. For exhaustive searches, use GridSearchCV.\n",
      "  warnings.warn(\n"
     ]
    },
    {
     "data": {
      "text/plain": "               Model           Best Parameters       MSE       MAE        R2\n0  Linear Regression  {'fit_intercept': False}  2.074526  1.143488  0.199864",
      "text/html": "<div>\n<style scoped>\n    .dataframe tbody tr th:only-of-type {\n        vertical-align: middle;\n    }\n\n    .dataframe tbody tr th {\n        vertical-align: top;\n    }\n\n    .dataframe thead th {\n        text-align: right;\n    }\n</style>\n<table border=\"1\" class=\"dataframe\">\n  <thead>\n    <tr style=\"text-align: right;\">\n      <th></th>\n      <th>Model</th>\n      <th>Best Parameters</th>\n      <th>MSE</th>\n      <th>MAE</th>\n      <th>R2</th>\n    </tr>\n  </thead>\n  <tbody>\n    <tr>\n      <th>0</th>\n      <td>Linear Regression</td>\n      <td>{'fit_intercept': False}</td>\n      <td>2.074526</td>\n      <td>1.143488</td>\n      <td>0.199864</td>\n    </tr>\n  </tbody>\n</table>\n</div>"
     },
     "metadata": {},
     "output_type": "display_data"
    },
    {
     "name": "stderr",
     "output_type": "stream",
     "text": [
      "Processing dataframe df_league_0:  25%|██▌       | 1/4 [00:03<00:09,  3.27s/it]"
     ]
    },
    {
     "data": {
      "text/plain": "           Model                                    Best Parameters       MSE  \\\n0  Random Forest  {'n_estimators': 50, 'min_samples_split': 5, '...  2.110251   \n\n        MAE        R2  \n0  1.159142  0.186085  ",
      "text/html": "<div>\n<style scoped>\n    .dataframe tbody tr th:only-of-type {\n        vertical-align: middle;\n    }\n\n    .dataframe tbody tr th {\n        vertical-align: top;\n    }\n\n    .dataframe thead th {\n        text-align: right;\n    }\n</style>\n<table border=\"1\" class=\"dataframe\">\n  <thead>\n    <tr style=\"text-align: right;\">\n      <th></th>\n      <th>Model</th>\n      <th>Best Parameters</th>\n      <th>MSE</th>\n      <th>MAE</th>\n      <th>R2</th>\n    </tr>\n  </thead>\n  <tbody>\n    <tr>\n      <th>0</th>\n      <td>Random Forest</td>\n      <td>{'n_estimators': 50, 'min_samples_split': 5, '...</td>\n      <td>2.110251</td>\n      <td>1.159142</td>\n      <td>0.186085</td>\n    </tr>\n  </tbody>\n</table>\n</div>"
     },
     "metadata": {},
     "output_type": "display_data"
    },
    {
     "name": "stderr",
     "output_type": "stream",
     "text": [
      "Processing dataframe df_league_0:  50%|█████     | 2/4 [00:11<00:12,  6.44s/it]"
     ]
    },
    {
     "data": {
      "text/plain": "               Model                                    Best Parameters  \\\n0  Gradient Boosting  {'n_estimators': 50, 'min_samples_split': 5, '...   \n\n        MSE       MAE        R2  \n0  2.091349  1.150484  0.193375  ",
      "text/html": "<div>\n<style scoped>\n    .dataframe tbody tr th:only-of-type {\n        vertical-align: middle;\n    }\n\n    .dataframe tbody tr th {\n        vertical-align: top;\n    }\n\n    .dataframe thead th {\n        text-align: right;\n    }\n</style>\n<table border=\"1\" class=\"dataframe\">\n  <thead>\n    <tr style=\"text-align: right;\">\n      <th></th>\n      <th>Model</th>\n      <th>Best Parameters</th>\n      <th>MSE</th>\n      <th>MAE</th>\n      <th>R2</th>\n    </tr>\n  </thead>\n  <tbody>\n    <tr>\n      <th>0</th>\n      <td>Gradient Boosting</td>\n      <td>{'n_estimators': 50, 'min_samples_split': 5, '...</td>\n      <td>2.091349</td>\n      <td>1.150484</td>\n      <td>0.193375</td>\n    </tr>\n  </tbody>\n</table>\n</div>"
     },
     "metadata": {},
     "output_type": "display_data"
    },
    {
     "name": "stderr",
     "output_type": "stream",
     "text": [
      "Processing dataframe df_league_0:  75%|███████▌  | 3/4 [00:21<00:08,  8.06s/it]"
     ]
    },
    {
     "data": {
      "text/plain": "     Model                                    Best Parameters       MSE  \\\n0  XGBoost  {'n_estimators': 50, 'min_child_weight': 3, 'm...  2.097303   \n\n        MAE        R2  \n0  1.152187  0.191079  ",
      "text/html": "<div>\n<style scoped>\n    .dataframe tbody tr th:only-of-type {\n        vertical-align: middle;\n    }\n\n    .dataframe tbody tr th {\n        vertical-align: top;\n    }\n\n    .dataframe thead th {\n        text-align: right;\n    }\n</style>\n<table border=\"1\" class=\"dataframe\">\n  <thead>\n    <tr style=\"text-align: right;\">\n      <th></th>\n      <th>Model</th>\n      <th>Best Parameters</th>\n      <th>MSE</th>\n      <th>MAE</th>\n      <th>R2</th>\n    </tr>\n  </thead>\n  <tbody>\n    <tr>\n      <th>0</th>\n      <td>XGBoost</td>\n      <td>{'n_estimators': 50, 'min_child_weight': 3, 'm...</td>\n      <td>2.097303</td>\n      <td>1.152187</td>\n      <td>0.191079</td>\n    </tr>\n  </tbody>\n</table>\n</div>"
     },
     "metadata": {},
     "output_type": "display_data"
    },
    {
     "name": "stderr",
     "output_type": "stream",
     "text": [
      "Processing dataframe df_league_0: 100%|██████████| 4/4 [00:32<00:00,  8.13s/it]"
     ]
    },
    {
     "name": "stdout",
     "output_type": "stream",
     "text": [
      "\n",
      "Dataframe: df_league_0\n"
     ]
    },
    {
     "name": "stderr",
     "output_type": "stream",
     "text": [
      "\n"
     ]
    },
    {
     "data": {
      "text/plain": "               Model                                    Best Parameters  \\\n0  Linear Regression                           {'fit_intercept': False}   \n2  Gradient Boosting  {'n_estimators': 50, 'min_samples_split': 5, '...   \n3            XGBoost  {'n_estimators': 50, 'min_child_weight': 3, 'm...   \n1      Random Forest  {'n_estimators': 50, 'min_samples_split': 5, '...   \n\n        MSE       MAE        R2  \n0  2.074526  1.143488  0.199864  \n2  2.091349  1.150484  0.193375  \n3  2.097303  1.152187  0.191079  \n1  2.110251  1.159142  0.186085  ",
      "text/html": "<div>\n<style scoped>\n    .dataframe tbody tr th:only-of-type {\n        vertical-align: middle;\n    }\n\n    .dataframe tbody tr th {\n        vertical-align: top;\n    }\n\n    .dataframe thead th {\n        text-align: right;\n    }\n</style>\n<table border=\"1\" class=\"dataframe\">\n  <thead>\n    <tr style=\"text-align: right;\">\n      <th></th>\n      <th>Model</th>\n      <th>Best Parameters</th>\n      <th>MSE</th>\n      <th>MAE</th>\n      <th>R2</th>\n    </tr>\n  </thead>\n  <tbody>\n    <tr>\n      <th>0</th>\n      <td>Linear Regression</td>\n      <td>{'fit_intercept': False}</td>\n      <td>2.074526</td>\n      <td>1.143488</td>\n      <td>0.199864</td>\n    </tr>\n    <tr>\n      <th>2</th>\n      <td>Gradient Boosting</td>\n      <td>{'n_estimators': 50, 'min_samples_split': 5, '...</td>\n      <td>2.091349</td>\n      <td>1.150484</td>\n      <td>0.193375</td>\n    </tr>\n    <tr>\n      <th>3</th>\n      <td>XGBoost</td>\n      <td>{'n_estimators': 50, 'min_child_weight': 3, 'm...</td>\n      <td>2.097303</td>\n      <td>1.152187</td>\n      <td>0.191079</td>\n    </tr>\n    <tr>\n      <th>1</th>\n      <td>Random Forest</td>\n      <td>{'n_estimators': 50, 'min_samples_split': 5, '...</td>\n      <td>2.110251</td>\n      <td>1.159142</td>\n      <td>0.186085</td>\n    </tr>\n  </tbody>\n</table>\n</div>"
     },
     "metadata": {},
     "output_type": "display_data"
    },
    {
     "name": "stderr",
     "output_type": "stream",
     "text": [
      "Processing dataframe df_league_1:   0%|          | 0/4 [00:00<?, ?it/s]/Users/maksim/anaconda3/lib/python3.11/site-packages/sklearn/model_selection/_search.py:307: UserWarning: The total space of parameters 2 is smaller than n_iter=5. Running 2 iterations. For exhaustive searches, use GridSearchCV.\n",
      "  warnings.warn(\n"
     ]
    },
    {
     "data": {
      "text/plain": "               Model           Best Parameters       MSE       MAE        R2\n0  Linear Regression  {'fit_intercept': False}  2.217429  1.174136  0.200144",
      "text/html": "<div>\n<style scoped>\n    .dataframe tbody tr th:only-of-type {\n        vertical-align: middle;\n    }\n\n    .dataframe tbody tr th {\n        vertical-align: top;\n    }\n\n    .dataframe thead th {\n        text-align: right;\n    }\n</style>\n<table border=\"1\" class=\"dataframe\">\n  <thead>\n    <tr style=\"text-align: right;\">\n      <th></th>\n      <th>Model</th>\n      <th>Best Parameters</th>\n      <th>MSE</th>\n      <th>MAE</th>\n      <th>R2</th>\n    </tr>\n  </thead>\n  <tbody>\n    <tr>\n      <th>0</th>\n      <td>Linear Regression</td>\n      <td>{'fit_intercept': False}</td>\n      <td>2.217429</td>\n      <td>1.174136</td>\n      <td>0.200144</td>\n    </tr>\n  </tbody>\n</table>\n</div>"
     },
     "metadata": {},
     "output_type": "display_data"
    },
    {
     "name": "stderr",
     "output_type": "stream",
     "text": [
      "Processing dataframe df_league_1:  25%|██▌       | 1/4 [00:05<00:17,  5.95s/it]"
     ]
    },
    {
     "data": {
      "text/plain": "           Model                                    Best Parameters       MSE  \\\n0  Random Forest  {'n_estimators': 50, 'min_samples_split': 5, '...  2.192114   \n\n        MAE        R2  \n0  1.168349  0.209275  ",
      "text/html": "<div>\n<style scoped>\n    .dataframe tbody tr th:only-of-type {\n        vertical-align: middle;\n    }\n\n    .dataframe tbody tr th {\n        vertical-align: top;\n    }\n\n    .dataframe thead th {\n        text-align: right;\n    }\n</style>\n<table border=\"1\" class=\"dataframe\">\n  <thead>\n    <tr style=\"text-align: right;\">\n      <th></th>\n      <th>Model</th>\n      <th>Best Parameters</th>\n      <th>MSE</th>\n      <th>MAE</th>\n      <th>R2</th>\n    </tr>\n  </thead>\n  <tbody>\n    <tr>\n      <th>0</th>\n      <td>Random Forest</td>\n      <td>{'n_estimators': 50, 'min_samples_split': 5, '...</td>\n      <td>2.192114</td>\n      <td>1.168349</td>\n      <td>0.209275</td>\n    </tr>\n  </tbody>\n</table>\n</div>"
     },
     "metadata": {},
     "output_type": "display_data"
    },
    {
     "name": "stderr",
     "output_type": "stream",
     "text": [
      "Processing dataframe df_league_1:  50%|█████     | 2/4 [01:38<01:54, 57.02s/it]"
     ]
    },
    {
     "data": {
      "text/plain": "               Model                                    Best Parameters  \\\n0  Gradient Boosting  {'n_estimators': 50, 'min_samples_split': 5, '...   \n\n        MSE       MAE        R2  \n0  2.167994  1.161574  0.217976  ",
      "text/html": "<div>\n<style scoped>\n    .dataframe tbody tr th:only-of-type {\n        vertical-align: middle;\n    }\n\n    .dataframe tbody tr th {\n        vertical-align: top;\n    }\n\n    .dataframe thead th {\n        text-align: right;\n    }\n</style>\n<table border=\"1\" class=\"dataframe\">\n  <thead>\n    <tr style=\"text-align: right;\">\n      <th></th>\n      <th>Model</th>\n      <th>Best Parameters</th>\n      <th>MSE</th>\n      <th>MAE</th>\n      <th>R2</th>\n    </tr>\n  </thead>\n  <tbody>\n    <tr>\n      <th>0</th>\n      <td>Gradient Boosting</td>\n      <td>{'n_estimators': 50, 'min_samples_split': 5, '...</td>\n      <td>2.167994</td>\n      <td>1.161574</td>\n      <td>0.217976</td>\n    </tr>\n  </tbody>\n</table>\n</div>"
     },
     "metadata": {},
     "output_type": "display_data"
    },
    {
     "name": "stderr",
     "output_type": "stream",
     "text": [
      "Processing dataframe df_league_1:  75%|███████▌  | 3/4 [03:00<01:08, 68.56s/it]"
     ]
    },
    {
     "data": {
      "text/plain": "     Model                                    Best Parameters       MSE  \\\n0  XGBoost  {'n_estimators': 50, 'min_child_weight': 3, 'm...  2.163154   \n\n       MAE        R2  \n0  1.16006  0.219722  ",
      "text/html": "<div>\n<style scoped>\n    .dataframe tbody tr th:only-of-type {\n        vertical-align: middle;\n    }\n\n    .dataframe tbody tr th {\n        vertical-align: top;\n    }\n\n    .dataframe thead th {\n        text-align: right;\n    }\n</style>\n<table border=\"1\" class=\"dataframe\">\n  <thead>\n    <tr style=\"text-align: right;\">\n      <th></th>\n      <th>Model</th>\n      <th>Best Parameters</th>\n      <th>MSE</th>\n      <th>MAE</th>\n      <th>R2</th>\n    </tr>\n  </thead>\n  <tbody>\n    <tr>\n      <th>0</th>\n      <td>XGBoost</td>\n      <td>{'n_estimators': 50, 'min_child_weight': 3, 'm...</td>\n      <td>2.163154</td>\n      <td>1.16006</td>\n      <td>0.219722</td>\n    </tr>\n  </tbody>\n</table>\n</div>"
     },
     "metadata": {},
     "output_type": "display_data"
    },
    {
     "name": "stderr",
     "output_type": "stream",
     "text": [
      "Processing dataframe df_league_1: 100%|██████████| 4/4 [03:50<00:00, 57.60s/it]"
     ]
    },
    {
     "name": "stdout",
     "output_type": "stream",
     "text": [
      "\n",
      "Dataframe: df_league_1\n"
     ]
    },
    {
     "name": "stderr",
     "output_type": "stream",
     "text": [
      "\n"
     ]
    },
    {
     "data": {
      "text/plain": "               Model                                    Best Parameters  \\\n3            XGBoost  {'n_estimators': 50, 'min_child_weight': 3, 'm...   \n2  Gradient Boosting  {'n_estimators': 50, 'min_samples_split': 5, '...   \n1      Random Forest  {'n_estimators': 50, 'min_samples_split': 5, '...   \n0  Linear Regression                           {'fit_intercept': False}   \n\n        MSE       MAE        R2  \n3  2.163154  1.160060  0.219722  \n2  2.167994  1.161574  0.217976  \n1  2.192114  1.168349  0.209275  \n0  2.217429  1.174136  0.200144  ",
      "text/html": "<div>\n<style scoped>\n    .dataframe tbody tr th:only-of-type {\n        vertical-align: middle;\n    }\n\n    .dataframe tbody tr th {\n        vertical-align: top;\n    }\n\n    .dataframe thead th {\n        text-align: right;\n    }\n</style>\n<table border=\"1\" class=\"dataframe\">\n  <thead>\n    <tr style=\"text-align: right;\">\n      <th></th>\n      <th>Model</th>\n      <th>Best Parameters</th>\n      <th>MSE</th>\n      <th>MAE</th>\n      <th>R2</th>\n    </tr>\n  </thead>\n  <tbody>\n    <tr>\n      <th>3</th>\n      <td>XGBoost</td>\n      <td>{'n_estimators': 50, 'min_child_weight': 3, 'm...</td>\n      <td>2.163154</td>\n      <td>1.160060</td>\n      <td>0.219722</td>\n    </tr>\n    <tr>\n      <th>2</th>\n      <td>Gradient Boosting</td>\n      <td>{'n_estimators': 50, 'min_samples_split': 5, '...</td>\n      <td>2.167994</td>\n      <td>1.161574</td>\n      <td>0.217976</td>\n    </tr>\n    <tr>\n      <th>1</th>\n      <td>Random Forest</td>\n      <td>{'n_estimators': 50, 'min_samples_split': 5, '...</td>\n      <td>2.192114</td>\n      <td>1.168349</td>\n      <td>0.209275</td>\n    </tr>\n    <tr>\n      <th>0</th>\n      <td>Linear Regression</td>\n      <td>{'fit_intercept': False}</td>\n      <td>2.217429</td>\n      <td>1.174136</td>\n      <td>0.200144</td>\n    </tr>\n  </tbody>\n</table>\n</div>"
     },
     "metadata": {},
     "output_type": "display_data"
    },
    {
     "name": "stderr",
     "output_type": "stream",
     "text": [
      "Processing dataframe df_league_2:   0%|          | 0/4 [00:00<?, ?it/s]/Users/maksim/anaconda3/lib/python3.11/site-packages/sklearn/model_selection/_search.py:307: UserWarning: The total space of parameters 2 is smaller than n_iter=5. Running 2 iterations. For exhaustive searches, use GridSearchCV.\n",
      "  warnings.warn(\n"
     ]
    },
    {
     "data": {
      "text/plain": "               Model           Best Parameters       MSE       MAE        R2\n0  Linear Regression  {'fit_intercept': False}  2.077191  1.136021  0.182639",
      "text/html": "<div>\n<style scoped>\n    .dataframe tbody tr th:only-of-type {\n        vertical-align: middle;\n    }\n\n    .dataframe tbody tr th {\n        vertical-align: top;\n    }\n\n    .dataframe thead th {\n        text-align: right;\n    }\n</style>\n<table border=\"1\" class=\"dataframe\">\n  <thead>\n    <tr style=\"text-align: right;\">\n      <th></th>\n      <th>Model</th>\n      <th>Best Parameters</th>\n      <th>MSE</th>\n      <th>MAE</th>\n      <th>R2</th>\n    </tr>\n  </thead>\n  <tbody>\n    <tr>\n      <th>0</th>\n      <td>Linear Regression</td>\n      <td>{'fit_intercept': False}</td>\n      <td>2.077191</td>\n      <td>1.136021</td>\n      <td>0.182639</td>\n    </tr>\n  </tbody>\n</table>\n</div>"
     },
     "metadata": {},
     "output_type": "display_data"
    },
    {
     "name": "stderr",
     "output_type": "stream",
     "text": [
      "Processing dataframe df_league_2:  25%|██▌       | 1/4 [00:05<00:15,  5.11s/it]"
     ]
    },
    {
     "data": {
      "text/plain": "           Model                                    Best Parameters      MSE  \\\n0  Random Forest  {'n_estimators': 50, 'min_samples_split': 5, '...  2.02309   \n\n        MAE        R2  \n0  1.116434  0.203927  ",
      "text/html": "<div>\n<style scoped>\n    .dataframe tbody tr th:only-of-type {\n        vertical-align: middle;\n    }\n\n    .dataframe tbody tr th {\n        vertical-align: top;\n    }\n\n    .dataframe thead th {\n        text-align: right;\n    }\n</style>\n<table border=\"1\" class=\"dataframe\">\n  <thead>\n    <tr style=\"text-align: right;\">\n      <th></th>\n      <th>Model</th>\n      <th>Best Parameters</th>\n      <th>MSE</th>\n      <th>MAE</th>\n      <th>R2</th>\n    </tr>\n  </thead>\n  <tbody>\n    <tr>\n      <th>0</th>\n      <td>Random Forest</td>\n      <td>{'n_estimators': 50, 'min_samples_split': 5, '...</td>\n      <td>2.02309</td>\n      <td>1.116434</td>\n      <td>0.203927</td>\n    </tr>\n  </tbody>\n</table>\n</div>"
     },
     "metadata": {},
     "output_type": "display_data"
    },
    {
     "name": "stderr",
     "output_type": "stream",
     "text": [
      "Processing dataframe df_league_2:  50%|█████     | 2/4 [00:51<00:58, 29.39s/it]"
     ]
    },
    {
     "data": {
      "text/plain": "               Model                                    Best Parameters  \\\n0  Gradient Boosting  {'n_estimators': 50, 'min_samples_split': 5, '...   \n\n        MSE       MAE        R2  \n0  1.997701  1.111882  0.213918  ",
      "text/html": "<div>\n<style scoped>\n    .dataframe tbody tr th:only-of-type {\n        vertical-align: middle;\n    }\n\n    .dataframe tbody tr th {\n        vertical-align: top;\n    }\n\n    .dataframe thead th {\n        text-align: right;\n    }\n</style>\n<table border=\"1\" class=\"dataframe\">\n  <thead>\n    <tr style=\"text-align: right;\">\n      <th></th>\n      <th>Model</th>\n      <th>Best Parameters</th>\n      <th>MSE</th>\n      <th>MAE</th>\n      <th>R2</th>\n    </tr>\n  </thead>\n  <tbody>\n    <tr>\n      <th>0</th>\n      <td>Gradient Boosting</td>\n      <td>{'n_estimators': 50, 'min_samples_split': 5, '...</td>\n      <td>1.997701</td>\n      <td>1.111882</td>\n      <td>0.213918</td>\n    </tr>\n  </tbody>\n</table>\n</div>"
     },
     "metadata": {},
     "output_type": "display_data"
    },
    {
     "name": "stderr",
     "output_type": "stream",
     "text": [
      "Processing dataframe df_league_2:  75%|███████▌  | 3/4 [01:35<00:36, 36.06s/it]"
     ]
    },
    {
     "data": {
      "text/plain": "     Model                                    Best Parameters       MSE  \\\n0  XGBoost  {'n_estimators': 50, 'min_child_weight': 3, 'm...  1.994353   \n\n        MAE        R2  \n0  1.110276  0.215235  ",
      "text/html": "<div>\n<style scoped>\n    .dataframe tbody tr th:only-of-type {\n        vertical-align: middle;\n    }\n\n    .dataframe tbody tr th {\n        vertical-align: top;\n    }\n\n    .dataframe thead th {\n        text-align: right;\n    }\n</style>\n<table border=\"1\" class=\"dataframe\">\n  <thead>\n    <tr style=\"text-align: right;\">\n      <th></th>\n      <th>Model</th>\n      <th>Best Parameters</th>\n      <th>MSE</th>\n      <th>MAE</th>\n      <th>R2</th>\n    </tr>\n  </thead>\n  <tbody>\n    <tr>\n      <th>0</th>\n      <td>XGBoost</td>\n      <td>{'n_estimators': 50, 'min_child_weight': 3, 'm...</td>\n      <td>1.994353</td>\n      <td>1.110276</td>\n      <td>0.215235</td>\n    </tr>\n  </tbody>\n</table>\n</div>"
     },
     "metadata": {},
     "output_type": "display_data"
    },
    {
     "name": "stderr",
     "output_type": "stream",
     "text": [
      "Processing dataframe df_league_2: 100%|██████████| 4/4 [02:06<00:00, 31.71s/it]"
     ]
    },
    {
     "name": "stdout",
     "output_type": "stream",
     "text": [
      "\n",
      "Dataframe: df_league_2\n"
     ]
    },
    {
     "name": "stderr",
     "output_type": "stream",
     "text": [
      "\n"
     ]
    },
    {
     "data": {
      "text/plain": "               Model                                    Best Parameters  \\\n3            XGBoost  {'n_estimators': 50, 'min_child_weight': 3, 'm...   \n2  Gradient Boosting  {'n_estimators': 50, 'min_samples_split': 5, '...   \n1      Random Forest  {'n_estimators': 50, 'min_samples_split': 5, '...   \n0  Linear Regression                           {'fit_intercept': False}   \n\n        MSE       MAE        R2  \n3  1.994353  1.110276  0.215235  \n2  1.997701  1.111882  0.213918  \n1  2.023090  1.116434  0.203927  \n0  2.077191  1.136021  0.182639  ",
      "text/html": "<div>\n<style scoped>\n    .dataframe tbody tr th:only-of-type {\n        vertical-align: middle;\n    }\n\n    .dataframe tbody tr th {\n        vertical-align: top;\n    }\n\n    .dataframe thead th {\n        text-align: right;\n    }\n</style>\n<table border=\"1\" class=\"dataframe\">\n  <thead>\n    <tr style=\"text-align: right;\">\n      <th></th>\n      <th>Model</th>\n      <th>Best Parameters</th>\n      <th>MSE</th>\n      <th>MAE</th>\n      <th>R2</th>\n    </tr>\n  </thead>\n  <tbody>\n    <tr>\n      <th>3</th>\n      <td>XGBoost</td>\n      <td>{'n_estimators': 50, 'min_child_weight': 3, 'm...</td>\n      <td>1.994353</td>\n      <td>1.110276</td>\n      <td>0.215235</td>\n    </tr>\n    <tr>\n      <th>2</th>\n      <td>Gradient Boosting</td>\n      <td>{'n_estimators': 50, 'min_samples_split': 5, '...</td>\n      <td>1.997701</td>\n      <td>1.111882</td>\n      <td>0.213918</td>\n    </tr>\n    <tr>\n      <th>1</th>\n      <td>Random Forest</td>\n      <td>{'n_estimators': 50, 'min_samples_split': 5, '...</td>\n      <td>2.023090</td>\n      <td>1.116434</td>\n      <td>0.203927</td>\n    </tr>\n    <tr>\n      <th>0</th>\n      <td>Linear Regression</td>\n      <td>{'fit_intercept': False}</td>\n      <td>2.077191</td>\n      <td>1.136021</td>\n      <td>0.182639</td>\n    </tr>\n  </tbody>\n</table>\n</div>"
     },
     "metadata": {},
     "output_type": "display_data"
    },
    {
     "name": "stderr",
     "output_type": "stream",
     "text": [
      "Processing dataframe df_league_3:   0%|          | 0/4 [00:00<?, ?it/s]/Users/maksim/anaconda3/lib/python3.11/site-packages/sklearn/model_selection/_search.py:307: UserWarning: The total space of parameters 2 is smaller than n_iter=5. Running 2 iterations. For exhaustive searches, use GridSearchCV.\n",
      "  warnings.warn(\n"
     ]
    },
    {
     "data": {
      "text/plain": "               Model           Best Parameters       MSE       MAE       R2\n0  Linear Regression  {'fit_intercept': False}  2.307245  1.204637  0.10943",
      "text/html": "<div>\n<style scoped>\n    .dataframe tbody tr th:only-of-type {\n        vertical-align: middle;\n    }\n\n    .dataframe tbody tr th {\n        vertical-align: top;\n    }\n\n    .dataframe thead th {\n        text-align: right;\n    }\n</style>\n<table border=\"1\" class=\"dataframe\">\n  <thead>\n    <tr style=\"text-align: right;\">\n      <th></th>\n      <th>Model</th>\n      <th>Best Parameters</th>\n      <th>MSE</th>\n      <th>MAE</th>\n      <th>R2</th>\n    </tr>\n  </thead>\n  <tbody>\n    <tr>\n      <th>0</th>\n      <td>Linear Regression</td>\n      <td>{'fit_intercept': False}</td>\n      <td>2.307245</td>\n      <td>1.204637</td>\n      <td>0.10943</td>\n    </tr>\n  </tbody>\n</table>\n</div>"
     },
     "metadata": {},
     "output_type": "display_data"
    },
    {
     "name": "stderr",
     "output_type": "stream",
     "text": [
      "Processing dataframe df_league_3:  25%|██▌       | 1/4 [00:03<00:09,  3.08s/it]"
     ]
    },
    {
     "data": {
      "text/plain": "           Model                                    Best Parameters      MSE  \\\n0  Random Forest  {'n_estimators': 100, 'min_samples_split': 10,...  2.23134   \n\n        MAE        R2  \n0  1.174775  0.138729  ",
      "text/html": "<div>\n<style scoped>\n    .dataframe tbody tr th:only-of-type {\n        vertical-align: middle;\n    }\n\n    .dataframe tbody tr th {\n        vertical-align: top;\n    }\n\n    .dataframe thead th {\n        text-align: right;\n    }\n</style>\n<table border=\"1\" class=\"dataframe\">\n  <thead>\n    <tr style=\"text-align: right;\">\n      <th></th>\n      <th>Model</th>\n      <th>Best Parameters</th>\n      <th>MSE</th>\n      <th>MAE</th>\n      <th>R2</th>\n    </tr>\n  </thead>\n  <tbody>\n    <tr>\n      <th>0</th>\n      <td>Random Forest</td>\n      <td>{'n_estimators': 100, 'min_samples_split': 10,...</td>\n      <td>2.23134</td>\n      <td>1.174775</td>\n      <td>0.138729</td>\n    </tr>\n  </tbody>\n</table>\n</div>"
     },
     "metadata": {},
     "output_type": "display_data"
    },
    {
     "name": "stderr",
     "output_type": "stream",
     "text": [
      "Processing dataframe df_league_3:  50%|█████     | 2/4 [00:14<00:15,  7.79s/it]"
     ]
    },
    {
     "data": {
      "text/plain": "               Model                                    Best Parameters  \\\n0  Gradient Boosting  {'n_estimators': 50, 'min_samples_split': 5, '...   \n\n        MSE       MAE        R2  \n0  2.157566  1.165352  0.167205  ",
      "text/html": "<div>\n<style scoped>\n    .dataframe tbody tr th:only-of-type {\n        vertical-align: middle;\n    }\n\n    .dataframe tbody tr th {\n        vertical-align: top;\n    }\n\n    .dataframe thead th {\n        text-align: right;\n    }\n</style>\n<table border=\"1\" class=\"dataframe\">\n  <thead>\n    <tr style=\"text-align: right;\">\n      <th></th>\n      <th>Model</th>\n      <th>Best Parameters</th>\n      <th>MSE</th>\n      <th>MAE</th>\n      <th>R2</th>\n    </tr>\n  </thead>\n  <tbody>\n    <tr>\n      <th>0</th>\n      <td>Gradient Boosting</td>\n      <td>{'n_estimators': 50, 'min_samples_split': 5, '...</td>\n      <td>2.157566</td>\n      <td>1.165352</td>\n      <td>0.167205</td>\n    </tr>\n  </tbody>\n</table>\n</div>"
     },
     "metadata": {},
     "output_type": "display_data"
    },
    {
     "name": "stderr",
     "output_type": "stream",
     "text": [
      "Processing dataframe df_league_3:  75%|███████▌  | 3/4 [00:24<00:09,  9.16s/it]"
     ]
    },
    {
     "data": {
      "text/plain": "     Model                                    Best Parameters       MSE  \\\n0  XGBoost  {'n_estimators': 50, 'min_child_weight': 3, 'm...  2.167566   \n\n        MAE        R2  \n0  1.167314  0.163345  ",
      "text/html": "<div>\n<style scoped>\n    .dataframe tbody tr th:only-of-type {\n        vertical-align: middle;\n    }\n\n    .dataframe tbody tr th {\n        vertical-align: top;\n    }\n\n    .dataframe thead th {\n        text-align: right;\n    }\n</style>\n<table border=\"1\" class=\"dataframe\">\n  <thead>\n    <tr style=\"text-align: right;\">\n      <th></th>\n      <th>Model</th>\n      <th>Best Parameters</th>\n      <th>MSE</th>\n      <th>MAE</th>\n      <th>R2</th>\n    </tr>\n  </thead>\n  <tbody>\n    <tr>\n      <th>0</th>\n      <td>XGBoost</td>\n      <td>{'n_estimators': 50, 'min_child_weight': 3, 'm...</td>\n      <td>2.167566</td>\n      <td>1.167314</td>\n      <td>0.163345</td>\n    </tr>\n  </tbody>\n</table>\n</div>"
     },
     "metadata": {},
     "output_type": "display_data"
    },
    {
     "name": "stderr",
     "output_type": "stream",
     "text": [
      "Processing dataframe df_league_3: 100%|██████████| 4/4 [00:36<00:00,  9.23s/it]"
     ]
    },
    {
     "name": "stdout",
     "output_type": "stream",
     "text": [
      "\n",
      "Dataframe: df_league_3\n"
     ]
    },
    {
     "name": "stderr",
     "output_type": "stream",
     "text": [
      "\n"
     ]
    },
    {
     "data": {
      "text/plain": "               Model                                    Best Parameters  \\\n2  Gradient Boosting  {'n_estimators': 50, 'min_samples_split': 5, '...   \n3            XGBoost  {'n_estimators': 50, 'min_child_weight': 3, 'm...   \n1      Random Forest  {'n_estimators': 100, 'min_samples_split': 10,...   \n0  Linear Regression                           {'fit_intercept': False}   \n\n        MSE       MAE        R2  \n2  2.157566  1.165352  0.167205  \n3  2.167566  1.167314  0.163345  \n1  2.231340  1.174775  0.138729  \n0  2.307245  1.204637  0.109430  ",
      "text/html": "<div>\n<style scoped>\n    .dataframe tbody tr th:only-of-type {\n        vertical-align: middle;\n    }\n\n    .dataframe tbody tr th {\n        vertical-align: top;\n    }\n\n    .dataframe thead th {\n        text-align: right;\n    }\n</style>\n<table border=\"1\" class=\"dataframe\">\n  <thead>\n    <tr style=\"text-align: right;\">\n      <th></th>\n      <th>Model</th>\n      <th>Best Parameters</th>\n      <th>MSE</th>\n      <th>MAE</th>\n      <th>R2</th>\n    </tr>\n  </thead>\n  <tbody>\n    <tr>\n      <th>2</th>\n      <td>Gradient Boosting</td>\n      <td>{'n_estimators': 50, 'min_samples_split': 5, '...</td>\n      <td>2.157566</td>\n      <td>1.165352</td>\n      <td>0.167205</td>\n    </tr>\n    <tr>\n      <th>3</th>\n      <td>XGBoost</td>\n      <td>{'n_estimators': 50, 'min_child_weight': 3, 'm...</td>\n      <td>2.167566</td>\n      <td>1.167314</td>\n      <td>0.163345</td>\n    </tr>\n    <tr>\n      <th>1</th>\n      <td>Random Forest</td>\n      <td>{'n_estimators': 100, 'min_samples_split': 10,...</td>\n      <td>2.231340</td>\n      <td>1.174775</td>\n      <td>0.138729</td>\n    </tr>\n    <tr>\n      <th>0</th>\n      <td>Linear Regression</td>\n      <td>{'fit_intercept': False}</td>\n      <td>2.307245</td>\n      <td>1.204637</td>\n      <td>0.109430</td>\n    </tr>\n  </tbody>\n</table>\n</div>"
     },
     "metadata": {},
     "output_type": "display_data"
    }
   ],
   "source": [
    "\n",
    "\n",
    "# Define models and hyperparameter distributions\n",
    "models = [\n",
    "    ('Linear Regression', LinearRegression()),\n",
    "    ('Random Forest', RandomForestRegressor()),\n",
    "    ('Gradient Boosting', GradientBoostingRegressor()),\n",
    "    ('XGBoost', XGBRegressor())\n",
    "    # ('Support Vector Regression', SVR())\n",
    "]\n",
    "\n",
    "param_dist = {\n",
    "    'Linear Regression': {'fit_intercept': [True, False]},\n",
    "\n",
    "    'Random Forest': {'n_estimators': [10, 50, 100],\n",
    "                      'max_depth': [None, 10, 20],\n",
    "                      'min_samples_split': [2, 5, 10]},\n",
    "\n",
    "    'Gradient Boosting': {'n_estimators': [50, 100, 200],\n",
    "                          'learning_rate': [0.01, 0.1, 0.2],\n",
    "                          'max_depth': [3, 5, 7],\n",
    "                          'min_samples_split': [2, 5, 10]},\n",
    "\n",
    "    'XGBoost': {'n_estimators': [50, 100, 200],\n",
    "                'learning_rate': [0.01, 0.1, 0.2],\n",
    "                'max_depth': [3, 5, 7],\n",
    "                'min_child_weight': [1, 3, 5]}\n",
    "\n",
    "    # 'Support Vector Regression': {'C': [0.1, 1, 10],\n",
    "    #                               'kernel': ['linear', 'rbf']}\n",
    "    # # 'gamma': ['scale', 'auto']}\n",
    "}\n",
    "\n",
    "\n",
    "dfs = [\n",
    "    (df_all, 'df_all'),\n",
    "    (df_league_0, 'df_league_0'),\n",
    "    (df_league_1, 'df_league_1'),\n",
    "    (df_league_2, 'df_league_2'),\n",
    "    (df_league_3, 'df_league_3')\n",
    "]\n",
    "\n",
    "target = 'Full_Time_Total_Goals'\n",
    "\n",
    "# Run the pipeline for each model\n",
    "\n",
    "for df, df_name in dfs:\n",
    "    result_df = pd.DataFrame()\n",
    "    for model_name, model in tqdm(models, desc=f'Processing dataframe {df_name}'):\n",
    "        result = run_pipeline_2(df, target, model_name, model, param_dist[model_name], test_size=0.2, random_state=42)\n",
    "        # display(result)\n",
    "        result_df = pd.concat([result_df, result], ignore_index=True)\n",
    "    print('\\nDataframe: ', df_name, '\\n', sep='')\n",
    "    display(result_df.sort_values(by='MSE', ascending=True))\n",
    "\n",
    "# Sort results by MSE\n",
    "# result_df.sort_values(by='MSE', ascending=True)\n"
   ],
   "metadata": {
    "collapsed": false,
    "ExecuteTime": {
     "end_time": "2024-01-03T20:52:45.007573Z",
     "start_time": "2024-01-03T20:34:03.929456Z"
    }
   },
   "id": "ffb0978924e3de1b"
  },
  {
   "cell_type": "code",
   "execution_count": 7,
   "outputs": [
    {
     "data": {
      "text/plain": "count    32862.000000\nmean         2.645944\nstd          1.637276\nmin          0.000000\n25%          1.000000\n50%          2.000000\n75%          4.000000\nmax         13.000000\nName: Full_Time_Total_Goals, dtype: float64"
     },
     "execution_count": 7,
     "metadata": {},
     "output_type": "execute_result"
    }
   ],
   "source": [
    "df_all[target].describe()"
   ],
   "metadata": {
    "collapsed": false,
    "ExecuteTime": {
     "end_time": "2024-01-03T21:19:22.431320Z",
     "start_time": "2024-01-03T21:19:22.401735Z"
    }
   },
   "id": "3561db21a7e711a0"
  },
  {
   "cell_type": "code",
   "execution_count": null,
   "outputs": [],
   "source": [],
   "metadata": {
    "collapsed": false
   },
   "id": "3f9325dc782ecdef"
  }
 ],
 "metadata": {
  "kernelspec": {
   "display_name": "Python 3",
   "language": "python",
   "name": "python3"
  },
  "language_info": {
   "codemirror_mode": {
    "name": "ipython",
    "version": 2
   },
   "file_extension": ".py",
   "mimetype": "text/x-python",
   "name": "python",
   "nbconvert_exporter": "python",
   "pygments_lexer": "ipython2",
   "version": "2.7.6"
  }
 },
 "nbformat": 4,
 "nbformat_minor": 5
}
