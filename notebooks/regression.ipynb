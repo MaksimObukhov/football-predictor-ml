{
 "cells": [
  {
   "cell_type": "markdown",
   "source": [
    "# Regression task\n",
    "## Before start"
   ],
   "metadata": {
    "collapsed": false
   },
   "id": "e58a2b97d8c5429d"
  },
  {
   "cell_type": "markdown",
   "source": [
    "### TODO steps:\n",
    "\n",
    "1. read csv  \n",
    "\n",
    "2. write pipeline: split data, train model, predict, evaluate  \n",
    "\n",
    "3. models: \n",
    "    MultiOutputRegressor(LinearRegression()), \n",
    "    RandomForestRegressor(), \n",
    "    GradientBoostingRegressor() (xgboost), \n",
    "    MultiOutputRegressor(SVR()), \n",
    "    neural network\n",
    "\n",
    "4. hyperparameter tuning: \n",
    "    GridSearchCV, \n",
    "    RandomizedSearchCV\n",
    "\n",
    "5. dont forget about time series cross validation"
   ],
   "metadata": {
    "collapsed": false
   },
   "id": "7f401bd17f24220e"
  },
  {
   "cell_type": "markdown",
   "source": [
    "## Import libraries"
   ],
   "metadata": {
    "collapsed": false
   },
   "id": "4f3f4c67c3b37e1a"
  },
  {
   "cell_type": "code",
   "execution_count": 1,
   "outputs": [],
   "source": [
    "import pandas as pd \n",
    "import numpy as np\n",
    "import matplotlib.pyplot as plt\n",
    "import seaborn as sns\n",
    "\n",
    "from sklearn.multioutput import MultiOutputRegressor\n",
    "from sklearn.linear_model import LinearRegression\n",
    "from sklearn.ensemble import RandomForestRegressor, GradientBoostingRegressor\n",
    "from sklearn.svm import SVR\n",
    "from tensorflow.keras.models import Sequential\n",
    "from tensorflow.keras.layers import Dense\n",
    "\n",
    "from sklearn.model_selection import train_test_split, GridSearchCV, RandomizedSearchCV, TimeSeriesSplit\n",
    "from sklearn.metrics import mean_squared_error, mean_absolute_error, r2_score\n"
   ],
   "metadata": {
    "collapsed": false,
    "ExecuteTime": {
     "end_time": "2024-01-03T10:35:20.638004Z",
     "start_time": "2024-01-03T10:35:11.947319Z"
    }
   },
   "id": "fd22faa62d0d9169"
  },
  {
   "cell_type": "markdown",
   "source": [
    "## Read data"
   ],
   "metadata": {
    "collapsed": false
   },
   "id": "59abab76b94d31dc"
  },
  {
   "cell_type": "code",
   "execution_count": 4,
   "outputs": [],
   "source": [
    "df_all = pd.read_csv('../data/for_train/train_df.csv')\n",
    "df_league_0 = pd.read_csv('../data/for_train/df_league_0.csv')\n",
    "df_league_1 = pd.read_csv('../data/for_train/df_league_1.csv')\n",
    "df_league_2 = pd.read_csv('../data/for_train/df_league_2.csv')\n",
    "df_league_3 = pd.read_csv('../data/for_train/df_league_3.csv')\n"
   ],
   "metadata": {
    "collapsed": false,
    "ExecuteTime": {
     "end_time": "2024-01-03T10:43:27.171380Z",
     "start_time": "2024-01-03T10:43:25.588971Z"
    }
   },
   "id": "f5e66ee2e108a441"
  },
  {
   "cell_type": "code",
   "execution_count": null,
   "outputs": [],
   "source": [],
   "metadata": {
    "collapsed": false
   },
   "id": "df7ab318bf75487a"
  }
 ],
 "metadata": {
  "kernelspec": {
   "display_name": "Python 3",
   "language": "python",
   "name": "python3"
  },
  "language_info": {
   "codemirror_mode": {
    "name": "ipython",
    "version": 2
   },
   "file_extension": ".py",
   "mimetype": "text/x-python",
   "name": "python",
   "nbconvert_exporter": "python",
   "pygments_lexer": "ipython2",
   "version": "2.7.6"
  }
 },
 "nbformat": 4,
 "nbformat_minor": 5
}
