{
 "cells": [
  {
   "cell_type": "code",
   "execution_count": 2,
   "id": "initial_id",
   "metadata": {
    "collapsed": true,
    "ExecuteTime": {
     "end_time": "2023-11-10T16:16:47.328280Z",
     "start_time": "2023-11-10T16:16:45.641382Z"
    }
   },
   "outputs": [],
   "source": [
    "%reset"
   ]
  },
  {
   "cell_type": "markdown",
   "source": [
    "# Questions before start:\n",
    "We have a bunch of csv files, where each one is divided into categories:\n",
    "1. Country (belgium, england, france, germany, greece, italy, netherlands, portugal, scotland, spain, turkey)\n",
    "2. League (0, 1, 2, 3)\n",
    "3. Season (2000-2001, 2001-2002, ..., 2021-2022)\n",
    "\n",
    "Should we merge all the csv files into one big dataframe? Or should we keep them separate? \n",
    "If we merge them, how do we keep track of the different leagues and seasons?  \n",
    "\n",
    "## Max's thoughts:\n",
    "We could merge them into one big dataframe, and provide analysis on the whole dataset. \n",
    "In case we need analyse a specific league or season, we can filter the dataframe accordingly.\n",
    "\n",
    "**Before merging**, we should add a column for the league and season.\n"
   ],
   "metadata": {
    "collapsed": false
   },
   "id": "49f75d7b90073ba2"
  },
  {
   "cell_type": "code",
   "execution_count": 3,
   "outputs": [],
   "source": [
    "import pandas as pd\n",
    "import matplotlib.pyplot as plt\n",
    "import glob"
   ],
   "metadata": {
    "collapsed": false,
    "ExecuteTime": {
     "end_time": "2023-11-10T20:52:31.411296Z",
     "start_time": "2023-11-10T20:52:30.889833Z"
    }
   },
   "id": "a269965b0105148b"
  },
  {
   "cell_type": "code",
   "execution_count": 12,
   "outputs": [],
   "source": [
    "# Specify the directory where your CSV files are located\n",
    "csv_files = sorted(glob.glob('data/train/england/0/*.csv'))"
   ],
   "metadata": {
    "collapsed": false,
    "ExecuteTime": {
     "end_time": "2023-11-10T21:05:41.401748Z",
     "start_time": "2023-11-10T21:05:41.391153Z"
    }
   },
   "id": "f6e0288780a53608"
  },
  {
   "cell_type": "code",
   "execution_count": 16,
   "outputs": [],
   "source": [
    "# Create an empty dataframe to store the merged data\n",
    "merged_df = pd.DataFrame()\n",
    "\n",
    "# Iterate through each CSV file\n",
    "for file in csv_files:\n",
    "    # Read each CSV file into a temporary dataframe\n",
    "    temp_df = pd.read_csv(file)\n",
    "\n",
    "    # Merge the dataframes based on unique columns\n",
    "    merged_df = pd.concat([merged_df, temp_df], axis=0, join='outer', sort=False)\n",
    "\n"
   ],
   "metadata": {
    "collapsed": false,
    "ExecuteTime": {
     "end_time": "2023-11-10T21:19:22.371787Z",
     "start_time": "2023-11-10T21:19:22.264056Z"
    }
   },
   "id": "3ac551e10c8f2cc8"
  },
  {
   "cell_type": "code",
   "execution_count": 22,
   "outputs": [
    {
     "name": "stdout",
     "output_type": "stream",
     "text": [
      "Unique Column Names:\n",
      "Index(['Div', 'Date', 'HomeTeam', 'AwayTeam', 'FTHG', 'FTAG', 'FTR', 'HTHG',\n",
      "       'HTAG', 'HTR',\n",
      "       ...\n",
      "       'AvgC<2.5', 'AHCh', 'B365CAHH', 'B365CAHA', 'PCAHH', 'PCAHA', 'MaxCAHH',\n",
      "       'MaxCAHA', 'AvgCAHH', 'AvgCAHA'],\n",
      "      dtype='object', length=166)\n",
      "\n",
      "Number of Unique Columns: 166\n"
     ]
    }
   ],
   "source": [
    "# Display unique column names and their count\n",
    "unique_columns = merged_df.columns\n",
    "column_count = len(unique_columns)\n",
    "\n",
    "print(\"Unique Column Names:\")\n",
    "print(unique_columns)\n",
    "\n",
    "print(\"\\nNumber of Unique Columns:\", column_count)"
   ],
   "metadata": {
    "collapsed": false,
    "ExecuteTime": {
     "end_time": "2023-11-10T21:23:00.280468Z",
     "start_time": "2023-11-10T21:23:00.265299Z"
    }
   },
   "id": "f6e3e41839bae2a"
  },
  {
   "cell_type": "code",
   "execution_count": 6,
   "outputs": [],
   "source": [],
   "metadata": {
    "collapsed": false,
    "ExecuteTime": {
     "end_time": "2023-11-10T16:16:47.746179Z",
     "start_time": "2023-11-10T16:16:47.742977Z"
    }
   },
   "id": "26c50362fb19e42d"
  }
 ],
 "metadata": {
  "kernelspec": {
   "display_name": "Python 3",
   "language": "python",
   "name": "python3"
  },
  "language_info": {
   "codemirror_mode": {
    "name": "ipython",
    "version": 2
   },
   "file_extension": ".py",
   "mimetype": "text/x-python",
   "name": "python",
   "nbconvert_exporter": "python",
   "pygments_lexer": "ipython2",
   "version": "2.7.6"
  }
 },
 "nbformat": 4,
 "nbformat_minor": 5
}
