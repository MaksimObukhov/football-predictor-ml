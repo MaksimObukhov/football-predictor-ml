{
 "cells": [
  {
   "cell_type": "code",
   "execution_count": 27,
   "id": "initial_id",
   "metadata": {
    "collapsed": true,
    "ExecuteTime": {
     "end_time": "2023-11-11T16:25:46.890304Z",
     "start_time": "2023-11-11T16:25:45.406146Z"
    }
   },
   "outputs": [],
   "source": [
    "%reset"
   ]
  },
  {
   "cell_type": "markdown",
   "source": [
    "# Questions before start:\n",
    "We have a bunch of csv files, where each one is divided into categories:\n",
    "1. Country (belgium, england, france, germany, greece, italy, netherlands, portugal, scotland, spain, turkey)\n",
    "2. League (0, 1, 2, 3)\n",
    "3. Season (2000-2001, 2001-2002, ..., 2021-2022)\n",
    "\n",
    "Should we merge all the csv files into one big dataframe? Or should we keep them separate? \n",
    "If we merge them, how do we keep track of the different leagues and seasons?  \n",
    "\n",
    "## Max's thoughts:\n",
    "We could merge them into one big dataframe, and provide analysis on the whole dataset. \n",
    "In case we need analyse a specific league or season, we can filter the dataframe accordingly.\n",
    "\n",
    "**Before merging**, we should add a column for the league and season.\n"
   ],
   "metadata": {
    "collapsed": false
   },
   "id": "49f75d7b90073ba2"
  },
  {
   "cell_type": "code",
   "execution_count": 28,
   "outputs": [],
   "source": [
    "import pandas as pd\n",
    "import matplotlib.pyplot as plt\n",
    "from glob import glob\n"
   ],
   "metadata": {
    "collapsed": false,
    "ExecuteTime": {
     "end_time": "2023-11-11T16:25:46.904065Z",
     "start_time": "2023-11-11T16:25:46.890984Z"
    }
   },
   "id": "a269965b0105148b"
  },
  {
   "cell_type": "code",
   "execution_count": 49,
   "outputs": [],
   "source": [
    "# csv_files = sorted(glob(f'data/train/**/*.csv', recursive=True))\n",
    "\n",
    "def read_data(folder_path):\n",
    "    df = pd.DataFrame()\n",
    "    for file_path in sorted(glob(f'{folder_path}/**/*.csv', recursive=True)):\n",
    "        csv_file_df = pd.read_csv(file_path)\n",
    "        \n",
    "        # Extract country, league, and season from file path\n",
    "        parts = file_path.split('/')\n",
    "        country = parts[-3]\n",
    "        league = parts[-2]\n",
    "        season = parts[-1].split('.')[0]\n",
    "\n",
    "        # Add country, league, and season as features to the front\n",
    "        csv_file_df.insert(0, 'Country', country)\n",
    "        csv_file_df.insert(1, 'League', league)\n",
    "        csv_file_df.insert(2, 'Season', season)\n",
    "\n",
    "        # Convert date to datetime format and sort by date\n",
    "        csv_file_df['Date'] = pd.to_datetime(csv_file_df['Date'], format='%d/%m/%y', errors='coerce')\n",
    "        csv_file_df = csv_file_df.sort_values(by='Date')\n",
    "        \n",
    "        df = pd.concat([df, csv_file_df], ignore_index=True, axis=0, join='outer', sort=False)\n",
    "        \n",
    "    return df"
   ],
   "metadata": {
    "collapsed": false,
    "ExecuteTime": {
     "end_time": "2023-11-11T18:08:41.027240Z",
     "start_time": "2023-11-11T18:08:41.019725Z"
    }
   },
   "id": "62fdfd4e3f168526"
  },
  {
   "cell_type": "code",
   "execution_count": 50,
   "outputs": [],
   "source": [
    "# Read all training data\n",
    "train_df = read_data('data/train')"
   ],
   "metadata": {
    "collapsed": false,
    "ExecuteTime": {
     "end_time": "2023-11-11T18:09:15.897008Z",
     "start_time": "2023-11-11T18:09:02.952588Z"
    }
   },
   "id": "92eeb7cbe9be4d4c"
  },
  {
   "cell_type": "code",
   "execution_count": 51,
   "outputs": [
    {
     "name": "stdout",
     "output_type": "stream",
     "text": [
      "Unique Column Names:\n",
      "Index(['Country', 'League', 'Season', 'Div', 'Date', 'HomeTeam', 'AwayTeam',\n",
      "       'FTHG', 'FTAG', 'FTR',\n",
      "       ...\n",
      "       'LB.1', 'LB.2', 'HT', 'AT', 'Unnamed: 24', 'Unnamed: 27', 'Unnamed: 28',\n",
      "       'Unnamed: 29', 'Unnamed: 53', 'Unnamed: 106'],\n",
      "      dtype='object', length=215)\n",
      "\n",
      "Number of Unique Columns: 215\n"
     ]
    }
   ],
   "source": [
    "# Display unique column names and their count\n",
    "unique_columns = train_df.columns.unique()\n",
    "column_count = len(unique_columns)\n",
    "\n",
    "print(\"Unique Column Names:\")\n",
    "print(unique_columns)\n",
    "\n",
    "print(\"\\nNumber of Unique Columns:\", column_count)"
   ],
   "metadata": {
    "collapsed": false,
    "ExecuteTime": {
     "end_time": "2023-11-11T18:09:47.570730Z",
     "start_time": "2023-11-11T18:09:47.559966Z"
    }
   },
   "id": "f6e3e41839bae2a"
  },
  {
   "cell_type": "code",
   "execution_count": 52,
   "outputs": [],
   "source": [
    "# Drop empty columns starting with \"Unnamed\"\n",
    "train_df = train_df.filter(regex='^(?!Unnamed).*$')\n"
   ],
   "metadata": {
    "collapsed": false,
    "ExecuteTime": {
     "end_time": "2023-11-11T18:09:52.588188Z",
     "start_time": "2023-11-11T18:09:52.425435Z"
    }
   },
   "id": "26c50362fb19e42d"
  },
  {
   "cell_type": "code",
   "execution_count": 53,
   "outputs": [],
   "source": [
    "# Split columns into categories about match (results data), Match Statistics, and betting odds (as in notes.txt)\n",
    "match_data = {\n",
    "    \"League\": \"League\",\n",
    "    \"Season\": \"Season\",\n",
    "    \"Country\": \"Country\",\n",
    "    \"Div\": \"League_Division\",\n",
    "    \"Date\": \"Match_Date\",\n",
    "    \"Time\": \"Time_of_match_kick_off\",\n",
    "    \"HomeTeam\": \"Home_Team\",\n",
    "    \"HT\": \"Home_Team\",\n",
    "    \"AwayTeam\": \"Away_Team\",\n",
    "    \"AT\": \"Away_Team\",\n",
    "    \"FTHG\": \"Full_Time_Home_Team_Goals\",\n",
    "    \"FTAG\": \"Full_Time_Away_Team_Goals\",\n",
    "    \"FTR\": \"Full_Time_Result\",\n",
    "    \"HTHG\": \"Half_Time_Home_Team_Goals\",\n",
    "    \"HTAG\": \"Half_Time_Away_Team_Goals\",\n",
    "    \"HTR\": \"Half_Time_Result\"\n",
    "}\n",
    "\n",
    "match_statistics = {\n",
    "    \"Attendance\": \"Crowd_Attendance\",\n",
    "    \"Referee\": \"Match_Referee\",\n",
    "    \"HS\": \"Home_Team_Shots\",\n",
    "    \"AS\": \"Away_Team_Shots\",\n",
    "    \"HST\": \"Home_Team_Shots_on_Target\",\n",
    "    \"AST\": \"Away_Team_Shots_on_Target\",\n",
    "    \"HHW\": \"Home_Team_Hit_Woodwork\",\n",
    "    \"AHW\": \"Away_Team_Hit_Woodwork\",\n",
    "    \"HC\": \"Home_Team_Corners\",\n",
    "    \"AC\": \"Away_Team_Corners\",\n",
    "    \"HF\": \"Home_Team_Fouls_Committed\",\n",
    "    \"AF\": \"Away_Team_Fouls_Committed\",\n",
    "    \"HFKC\": \"Home_Team_Free_Kicks_Conceded\",\n",
    "    \"AFKC\": \"Away_Team_Free_Kicks_Conceded\",\n",
    "    \"HO\": \"Home_Team_Offsides\",\n",
    "    \"AO\": \"Away_Team_Offsides\",\n",
    "    \"HY\": \"Home_Team_Yellow_Cards\",\n",
    "    \"AY\": \"Away_Team_Yellow_Cards\",\n",
    "    \"HR\": \"Home_Team_Red_Cards\",\n",
    "    \"AR\": \"Away_Team_Red_Cards\",\n",
    "    \"HBP\": \"Home_Team_Bookings_Points\",\n",
    "    \"ABP\": \"Away_Team_Bookings_Points\"\n",
    "}\n",
    "\n",
    "betting_odds_1x2_match = {\n",
    "    \"B365H\": \"Bet365_home_win_odds\",\n",
    "    \"B365D\": \"Bet365_draw_odds\",\n",
    "    \"B365A\": \"Bet365_away_win_odds\",\n",
    "    \"BSH\": \"Blue_Square_home_win_odds\",\n",
    "    \"BSD\": \"Blue_Square_draw_odds\",\n",
    "    \"BSA\": \"Blue_Square_away_win_odds\",\n",
    "    \"BWH\": \"Bet&Win_home_win_odds\",\n",
    "    \"BWD\": \"Bet&Win_draw_odds\",\n",
    "    \"BWA\": \"Bet&Win_away_win_odds\",\n",
    "    \"GBH\": \"Gamebookers_home_win_odds\",\n",
    "    \"GBD\": \"Gamebookers_draw_odds\",\n",
    "    \"GBA\": \"Gamebookers_away_win_odds\",\n",
    "    \"IWH\": \"Interwetten_home_win_odds\",\n",
    "    \"IWD\": \"Interwetten_draw_odds\",\n",
    "    \"IWA\": \"Interwetten_away_win_odds\",\n",
    "    \"LBH\": \"Ladbrokes_home_win_odds\",\n",
    "    \"LBD\": \"Ladbrokes_draw_odds\",\n",
    "    \"LBA\": \"Ladbrokes_away_win_odds\",\n",
    "    \"PSH\": \"Pinnacle_home_win_odds\",\n",
    "    \"PSD\": \"Pinnacle_draw_odds\",\n",
    "    \"PSA\": \"Pinnacle_away_win_odds\",\n",
    "    \"SOH\": \"Sporting_Odds_home_win_odds\",\n",
    "    \"SOD\": \"Sporting_Odds_draw_odds\",\n",
    "    \"SOA\": \"Sporting_Odds_away_win_odds\",\n",
    "    \"SBH\": \"Sportingbet_home_win_odds\",\n",
    "    \"SBD\": \"Sportingbet_draw_odds\",\n",
    "    \"SBA\": \"Sportingbet_away_win_odds\",\n",
    "    \"SJH\": \"Stan_James_home_win_odds\",\n",
    "    \"SJD\": \"Stan_James_draw_odds\",\n",
    "    \"SJA\": \"Stan_James_away_win_odds\",\n",
    "    \"SYH\": \"Stanleybet_home_win_odds\",\n",
    "    \"SYD\": \"Stanleybet_draw_odds\",\n",
    "    \"SYA\": \"Stanleybet_away_win_odds\",\n",
    "    \"VCH\": \"VC_Bet_home_win_odds\",\n",
    "    \"VCD\": \"VC_Bet_draw_odds\",\n",
    "    \"VCA\": \"VC_Bet_away_win_odds\",\n",
    "    \"WHH\": \"William_Hill_home_win_odds\",\n",
    "    \"WHD\": \"William_Hill_draw_odds\",\n",
    "    \"WHA\": \"William_Hill_away_win_odds\",\n",
    "    \"Bb1X2\": \"Number_of_BetBrain_bookmakers_used\",\n",
    "    \"BbMxH\": \"Betbrain_maximum_home_win_odds\",\n",
    "    \"BbAvH\": \"Betbrain_average_home_win_odds\",\n",
    "    \"BbMxD\": \"Betbrain_maximum_draw_odds\",\n",
    "    \"BbAvD\": \"Betbrain_average_draw_win_odds\",\n",
    "    \"BbMxA\": \"Betbrain_maximum_away_win_odds\",\n",
    "    \"BbAvA\": \"Betbrain_average_away_win_odds\",\n",
    "    \"MaxH\": \"Market_maximum_home_win_odds\",\n",
    "    \"MaxD\": \"Market_maximum_draw_win_odds\",\n",
    "    \"MaxA\": \"Market_maximum_away_win_odds\",\n",
    "    \"AvgH\": \"Market_average_home_win_odds\",\n",
    "    \"AvgD\": \"Market_average_draw_win_odds\",\n",
    "    \"AvgA\": \"Market_average_away_win_odds\",\n",
    "}\n",
    "\n",
    "betting_odds_total_goals = {\n",
    "    \"BbOU\": \"Number_BetBrain_over_under_2.5_goals_averages_and_maximums\",\n",
    "    \"BbMx>2.5\": \"Betbrain_maximum_over_2.5_goals\",\n",
    "    \"BbAv>2.5\": \"Betbrain_average_over_2.5_goals\",\n",
    "    \"BbMx<2.5\": \"Betbrain_maximum_under_2.5_goals\",\n",
    "    \"BbAv<2.5\": \"Betbrain_average_under_2.5_goals\",\n",
    "    \"GB>2.5\": \"Gamebookers_over_2.5_goals\",\n",
    "    \"GB<2.5\": \"Gamebookers_under_2.5_goals\",\n",
    "    \"B365>2.5\": \"Bet365_over_2.5_goals\",\n",
    "    \"B365<2.5\": \"Bet365_under_2.5_goals\",\n",
    "    \"P>2.5\": \"Pinnacle_over_2.5_goals\",\n",
    "    \"P<2.5\": \"Pinnacle_under_2.5_goals\",\n",
    "    \"Max>2.5\": \"Market_maximum_over_2.5_goals\",\n",
    "    \"Max<2.5\": \"Market_maximum_under_2.5_goals\",\n",
    "    \"Avg>2.5\": \"Market_average_over_2.5_goals\",\n",
    "    \"Avg<2.5\": \"Market_average_under_2.5_goals\",\n",
    "}\n",
    "\n",
    "betting_odds_asian_handicap = {\n",
    "    \"BbAH\": \"Number_BetBrain_handicap_averages_and_maximums\",\n",
    "    \"BbAHh\": \"Betbrain_size_of_handicap_home_team\",\n",
    "    \"AHh\": \"Market_size_handicap_home_team_since_2019/2020\",\n",
    "    \"BbMxAHH\": \"Betbrain_maximum_Asian_handicap_home_team_odds\",\n",
    "    \"BbAvAHH\": \"Betbrain_average_Asian_handicap_home_team_odds\",\n",
    "    \"BbMxAHA\": \"Betbrain_maximum_Asian_handicap_away_team_odds\",\n",
    "    \"BbAvAHA\": \"Betbrain_average_Asian_handicap_away_team_odds\",\n",
    "    \"GBAHH\": \"Gamebookers_Asian_handicap_home_team_odds\",\n",
    "    \"GBAHA\": \"Gamebookers_Asian_handicap_away_team_odds\",\n",
    "    \"GBAH\": \"Gamebookers_size_of_handicap_home_team\",\n",
    "    \"LBAHH\": \"Ladbrokes_Asian_handicap_home_team_odds\",\n",
    "    \"LBAHA\": \"Ladbrokes_Asian_handicap_away_team_odds\",\n",
    "    \"LBAH\": \"Ladbrokes_size_of_handicap_home_team\",\n",
    "    \"B365AHH\": \"Bet365_Asian_handicap_home_team_odds\",\n",
    "    \"B365AHA\": \"Bet365_Asian_handicap_away_team_odds\",\n",
    "    \"B365AH\": \"Bet365_size_of_handicap_home_team\",\n",
    "    \"PAHH\": \"Pinnacle_Asian_handicap_home_team_odds\",\n",
    "    \"PAHA\": \"Pinnacle_Asian_handicap_away_team_odds\",\n",
    "    \"MaxAHH\": \"Market_maximum_Asian_handicap_home_team_odds\",\n",
    "    \"MaxAHA\": \"Market_maximum_Asian_handicap_away_team_odds\",\n",
    "    \"AvgAHH\": \"Market_average_Asian_handicap_home_team_odds\",\n",
    "    \"AvgAHA\": \"Market_average_Asian_handicap_away_team_odds\",\n",
    "}\n",
    "\n",
    "closing_odds = {\n",
    "    'AHCh': 'Market_size_handicap_home_team_since_2019/2020_close',\n",
    "    'AvgC<2.5': 'Average_under_2.5_goals_close',\n",
    "    'AvgC>2.5': 'Average_over_2.5_goals_close',\n",
    "    'AvgCA': 'Away_win_odds_average_close',\n",
    "    'AvgCAHA': 'Asian_handicap_away_team_odds_average_close',\n",
    "    'AvgCAHH': 'Asian_handicap_home_team_odds_average_close',\n",
    "    'AvgCD': 'Draw_odds_average_close',\n",
    "    'AvgCH': 'Home_win_odds_average_close',\n",
    "    'B365C<2.5': 'Bet365_under_2.5_goals_close',\n",
    "    'B365C>2.5': 'Bet365_over_2.5_goals_close',\n",
    "    'B365CA': 'Bet365_away_win_odds_close',\n",
    "    'B365CAHA': 'Bet365_Asian_handicap_away_team_odds_close',\n",
    "    'B365CAHH': 'Bet365_Asian_handicap_home_team_odds_close',\n",
    "    'B365CD': 'Bet365_draw_odds_close',\n",
    "    'B365CH': 'Bet365_home_win_odds_close',\n",
    "    'BWCA': 'Bet&Win_away_win_odds_close',\n",
    "    'BWCD': 'Bet&Win_draw_odds_close',\n",
    "    'BWCH': 'Bet&Win_home_win_odds_close',\n",
    "    'IWCA': 'Interwetten_away_win_odds_close',\n",
    "    'IWCD': 'Interwetten_draw_odds_close',\n",
    "    'IWCH': 'Interwetten_home_win_odds_close',\n",
    "    'MaxC<2.5': 'Market_maximum_under_2.5_goals_close',\n",
    "    'MaxC>2.5': 'Market_maximum_over_2.5_goals_close',\n",
    "    'MaxCA': 'Market_maximum_away_win_odds_close',\n",
    "    'MaxCAHA': 'Market_maximum_Asian_handicap_away_team_odds_close',\n",
    "    'MaxCAHH': 'Market_maximum_Asian_handicap_home_team_odds_close',\n",
    "    'MaxCD': 'Market_maximum_draw_odds_close',\n",
    "    'MaxCH': 'Market_maximum_home_win_odds_close',\n",
    "    'PC<2.5': 'Pinnacle_under_2.5_goals_close',\n",
    "    'PC>2.5': 'Pinnacle_over_2.5_goals_close',\n",
    "    'PCAHA': 'Pinnacle_Asian_handicap_away_team_odds_close',\n",
    "    'PCAHH': 'Pinnacle_Asian_handicap_home_team_odds_close',\n",
    "    'PSCA': 'Pinnacle_away_win_odds_close',\n",
    "    'PSCD': 'Pinnacle_draw_odds_close',\n",
    "    'PSCH': 'Pinnacle_home_win_odds_close',\n",
    "    'VCCA': 'VC_Bet_away_win_odds_close',\n",
    "    'VCCD': 'VC_Bet_draw_odds_close',\n",
    "    'VCCH': 'VC_Bet_home_win_odds_close',\n",
    "    'WHCA': 'William_Hill_away_win_odds_close',\n",
    "    'WHCD': 'William_Hill_draw_odds_close',\n",
    "    'WHCH': 'William_Hill_home_win_odds_close',\n",
    "}\n"
   ],
   "metadata": {
    "collapsed": false,
    "ExecuteTime": {
     "end_time": "2023-11-11T18:09:54.582122Z",
     "start_time": "2023-11-11T18:09:54.566322Z"
    }
   },
   "id": "8b3a6742ea8b297a"
  },
  {
   "cell_type": "code",
   "execution_count": 54,
   "outputs": [
    {
     "name": "stdout",
     "output_type": "stream",
     "text": [
      "168\n"
     ]
    }
   ],
   "source": [
    "# Number of columns in each category\n",
    "num_col = sum([len(betting_odds_asian_handicap), len(betting_odds_total_goals), len(betting_odds_1x2_match), len(match_statistics), len(match_data), len(closing_odds)])\n",
    "print(num_col)"
   ],
   "metadata": {
    "collapsed": false,
    "ExecuteTime": {
     "end_time": "2023-11-11T18:09:55.627468Z",
     "start_time": "2023-11-11T18:09:55.621102Z"
    }
   },
   "id": "2d4055ebd83d04ee"
  },
  {
   "cell_type": "code",
   "execution_count": 55,
   "outputs": [
    {
     "name": "stdout",
     "output_type": "stream",
     "text": [
      "Columns not present in dictionaries:\n",
      "LB.2\n",
      "LB.1\n",
      "LB\n"
     ]
    }
   ],
   "source": [
    "# Combine all dictionary keys into a single set\n",
    "all_keys = set().union(\n",
    "    betting_odds_asian_handicap.keys(),\n",
    "    betting_odds_total_goals.keys(),\n",
    "    betting_odds_1x2_match.keys(),\n",
    "    match_statistics.keys(),\n",
    "    match_data.keys(),\n",
    "    closing_odds.keys()\n",
    ")\n",
    "\n",
    "# Get the columns in train_df that are not in the combined set of keys\n",
    "extra_columns = set(train_df.columns) - all_keys\n",
    "\n",
    "# Display the extra columns\n",
    "print(\"Columns not present in dictionaries:\")\n",
    "for column in extra_columns:\n",
    "    print(column)\n"
   ],
   "metadata": {
    "collapsed": false,
    "ExecuteTime": {
     "end_time": "2023-11-11T18:09:56.538916Z",
     "start_time": "2023-11-11T18:09:56.532615Z"
    }
   },
   "id": "78bbeb40ce1d9dfa"
  },
  {
   "cell_type": "markdown",
   "source": [
    "Maybe we should drop them, as we don't know what they are."
   ],
   "metadata": {
    "collapsed": false
   },
   "id": "b162665e7cfa0134"
  },
  {
   "cell_type": "markdown",
   "source": [
    "### Thought: each bookmaker might be assigned to one country, so we can add a column for the country of the bookmaker"
   ],
   "metadata": {
    "collapsed": false
   },
   "id": "1b36d807482c5299"
  },
  {
   "cell_type": "code",
   "execution_count": 41,
   "outputs": [],
   "source": [],
   "metadata": {
    "collapsed": false,
    "ExecuteTime": {
     "end_time": "2023-11-11T17:10:48.055993Z",
     "start_time": "2023-11-11T17:10:48.038976Z"
    }
   },
   "id": "444890369e035e10"
  },
  {
   "cell_type": "code",
   "execution_count": null,
   "outputs": [],
   "source": [],
   "metadata": {
    "collapsed": false
   },
   "id": "571fe730d68fb000"
  }
 ],
 "metadata": {
  "kernelspec": {
   "display_name": "Python 3",
   "language": "python",
   "name": "python3"
  },
  "language_info": {
   "codemirror_mode": {
    "name": "ipython",
    "version": 2
   },
   "file_extension": ".py",
   "mimetype": "text/x-python",
   "name": "python",
   "nbconvert_exporter": "python",
   "pygments_lexer": "ipython2",
   "version": "2.7.6"
  }
 },
 "nbformat": 4,
 "nbformat_minor": 5
}
