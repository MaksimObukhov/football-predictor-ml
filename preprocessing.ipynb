{
 "cells": [
  {
   "cell_type": "code",
   "execution_count": 2,
   "id": "initial_id",
   "metadata": {
    "collapsed": true,
    "ExecuteTime": {
     "end_time": "2023-11-10T16:16:47.328280Z",
     "start_time": "2023-11-10T16:16:45.641382Z"
    }
   },
   "outputs": [],
   "source": [
    "%reset"
   ]
  },
  {
   "cell_type": "markdown",
   "source": [
    "# Questions before start:\n",
    "We have a bunch of csv files, where each one is divided into categories:\n",
    "1. Country (belgium, england, france, germany, greece, italy, netherlands, portugal, scotland, spain, turkey)\n",
    "2. League (0, 1, 2, 3)\n",
    "3. Season (2000-2001, 2001-2002, ..., 2021-2022)\n",
    "\n",
    "Should we merge all the csv files into one big dataframe? Or should we keep them separate? \n",
    "If we merge them, how do we keep track of the different leagues and seasons?  \n",
    "\n",
    "## Max's thoughts:\n",
    "We could merge them into one big dataframe, and provide analysis on the whole dataset. \n",
    "In case we need analyse a specific league or season, we can filter the dataframe accordingly.\n",
    "\n",
    "**Before merging**, we should add a column for the league and season.\n"
   ],
   "metadata": {
    "collapsed": false
   },
   "id": "49f75d7b90073ba2"
  },
  {
   "cell_type": "code",
   "execution_count": 7,
   "outputs": [],
   "source": [
    "import pandas as pd\n",
    "import matplotlib.pyplot as plt"
   ],
   "metadata": {
    "collapsed": false,
    "ExecuteTime": {
     "end_time": "2023-11-10T16:38:35.054192Z",
     "start_time": "2023-11-10T16:38:35.051899Z"
    }
   },
   "id": "a269965b0105148b"
  },
  {
   "cell_type": "code",
   "execution_count": 4,
   "outputs": [],
   "source": [
    "raw_data = pd.read_csv(\"data_description/example.csv\")"
   ],
   "metadata": {
    "collapsed": false,
    "ExecuteTime": {
     "end_time": "2023-11-10T16:16:47.733380Z",
     "start_time": "2023-11-10T16:16:47.726085Z"
    }
   },
   "id": "67e218f1ace2d4b3"
  },
  {
   "cell_type": "code",
   "execution_count": 5,
   "outputs": [
    {
     "data": {
      "text/plain": "  Div      Date     HomeTeam    AwayTeam  Full time home goals  \\\n0  E0  13/08/05  Aston Villa      Bolton                     2   \n1  E0  13/08/05      Everton  Man United                     0   \n2  E0  13/08/05       Fulham  Birmingham                     0   \n3  E0  13/08/05     Man City   West Brom                     0   \n4  E0  13/08/05  Middlesboro   Liverpool                     0   \n\n   Full time away goals Full time result  Half time home goals  \\\n0                     2                D                     2   \n1                     2                A                     0   \n2                     0                D                     0   \n3                     0                D                     0   \n4                     0                D                     0   \n\n   Half time away goals Half time result  ... Betbrain max >2.5  \\\n0                     2                D  ...              2.20   \n1                     1                A  ...              2.10   \n2                     0                D  ...              2.24   \n3                     0                D  ...              2.10   \n4                     0                D  ...              2.23   \n\n   Betbrain average >2.5  Betbrain max <2.5  Betbrain average <2.5  \\\n0                   2.01               1.87                   1.70   \n1                   1.93               1.87                   1.79   \n2                   2.04               1.77                   1.69   \n3                   1.94               1.90                   1.77   \n4                   2.02               1.80                   1.71   \n\n   Betbrain Asian bookies  Betbrain Asian home handicap  \\\n0                      22                         -0.25   \n1                      23                          0.75   \n2                      21                          0.00   \n3                      23                         -0.75   \n4                      21                          0.25   \n\n   Betbrain max Asian home odds  Betbrain average Asian home odds  \\\n0                          2.10                              2.01   \n1                          2.05                              2.00   \n2                          1.85                              1.81   \n3                          2.19                              2.10   \n4                          1.89                              1.86   \n\n   Betbrain max Asian away odds  Betbrain average Asian away odds  \n0                          1.92                              1.84  \n1                          1.93                              1.86  \n2                          2.11                              2.05  \n3                          1.83                              1.76  \n4                          2.04                              2.00  \n\n[5 rows x 68 columns]",
      "text/html": "<div>\n<style scoped>\n    .dataframe tbody tr th:only-of-type {\n        vertical-align: middle;\n    }\n\n    .dataframe tbody tr th {\n        vertical-align: top;\n    }\n\n    .dataframe thead th {\n        text-align: right;\n    }\n</style>\n<table border=\"1\" class=\"dataframe\">\n  <thead>\n    <tr style=\"text-align: right;\">\n      <th></th>\n      <th>Div</th>\n      <th>Date</th>\n      <th>HomeTeam</th>\n      <th>AwayTeam</th>\n      <th>Full time home goals</th>\n      <th>Full time away goals</th>\n      <th>Full time result</th>\n      <th>Half time home goals</th>\n      <th>Half time away goals</th>\n      <th>Half time result</th>\n      <th>...</th>\n      <th>Betbrain max &gt;2.5</th>\n      <th>Betbrain average &gt;2.5</th>\n      <th>Betbrain max &lt;2.5</th>\n      <th>Betbrain average &lt;2.5</th>\n      <th>Betbrain Asian bookies</th>\n      <th>Betbrain Asian home handicap</th>\n      <th>Betbrain max Asian home odds</th>\n      <th>Betbrain average Asian home odds</th>\n      <th>Betbrain max Asian away odds</th>\n      <th>Betbrain average Asian away odds</th>\n    </tr>\n  </thead>\n  <tbody>\n    <tr>\n      <th>0</th>\n      <td>E0</td>\n      <td>13/08/05</td>\n      <td>Aston Villa</td>\n      <td>Bolton</td>\n      <td>2</td>\n      <td>2</td>\n      <td>D</td>\n      <td>2</td>\n      <td>2</td>\n      <td>D</td>\n      <td>...</td>\n      <td>2.20</td>\n      <td>2.01</td>\n      <td>1.87</td>\n      <td>1.70</td>\n      <td>22</td>\n      <td>-0.25</td>\n      <td>2.10</td>\n      <td>2.01</td>\n      <td>1.92</td>\n      <td>1.84</td>\n    </tr>\n    <tr>\n      <th>1</th>\n      <td>E0</td>\n      <td>13/08/05</td>\n      <td>Everton</td>\n      <td>Man United</td>\n      <td>0</td>\n      <td>2</td>\n      <td>A</td>\n      <td>0</td>\n      <td>1</td>\n      <td>A</td>\n      <td>...</td>\n      <td>2.10</td>\n      <td>1.93</td>\n      <td>1.87</td>\n      <td>1.79</td>\n      <td>23</td>\n      <td>0.75</td>\n      <td>2.05</td>\n      <td>2.00</td>\n      <td>1.93</td>\n      <td>1.86</td>\n    </tr>\n    <tr>\n      <th>2</th>\n      <td>E0</td>\n      <td>13/08/05</td>\n      <td>Fulham</td>\n      <td>Birmingham</td>\n      <td>0</td>\n      <td>0</td>\n      <td>D</td>\n      <td>0</td>\n      <td>0</td>\n      <td>D</td>\n      <td>...</td>\n      <td>2.24</td>\n      <td>2.04</td>\n      <td>1.77</td>\n      <td>1.69</td>\n      <td>21</td>\n      <td>0.00</td>\n      <td>1.85</td>\n      <td>1.81</td>\n      <td>2.11</td>\n      <td>2.05</td>\n    </tr>\n    <tr>\n      <th>3</th>\n      <td>E0</td>\n      <td>13/08/05</td>\n      <td>Man City</td>\n      <td>West Brom</td>\n      <td>0</td>\n      <td>0</td>\n      <td>D</td>\n      <td>0</td>\n      <td>0</td>\n      <td>D</td>\n      <td>...</td>\n      <td>2.10</td>\n      <td>1.94</td>\n      <td>1.90</td>\n      <td>1.77</td>\n      <td>23</td>\n      <td>-0.75</td>\n      <td>2.19</td>\n      <td>2.10</td>\n      <td>1.83</td>\n      <td>1.76</td>\n    </tr>\n    <tr>\n      <th>4</th>\n      <td>E0</td>\n      <td>13/08/05</td>\n      <td>Middlesboro</td>\n      <td>Liverpool</td>\n      <td>0</td>\n      <td>0</td>\n      <td>D</td>\n      <td>0</td>\n      <td>0</td>\n      <td>D</td>\n      <td>...</td>\n      <td>2.23</td>\n      <td>2.02</td>\n      <td>1.80</td>\n      <td>1.71</td>\n      <td>21</td>\n      <td>0.25</td>\n      <td>1.89</td>\n      <td>1.86</td>\n      <td>2.04</td>\n      <td>2.00</td>\n    </tr>\n  </tbody>\n</table>\n<p>5 rows × 68 columns</p>\n</div>"
     },
     "execution_count": 5,
     "metadata": {},
     "output_type": "execute_result"
    }
   ],
   "source": [
    "raw_data.head()"
   ],
   "metadata": {
    "collapsed": false,
    "ExecuteTime": {
     "end_time": "2023-11-10T16:16:47.746028Z",
     "start_time": "2023-11-10T16:16:47.734712Z"
    }
   },
   "id": "f6e3e41839bae2a"
  },
  {
   "cell_type": "code",
   "execution_count": 6,
   "outputs": [],
   "source": [],
   "metadata": {
    "collapsed": false,
    "ExecuteTime": {
     "end_time": "2023-11-10T16:16:47.746179Z",
     "start_time": "2023-11-10T16:16:47.742977Z"
    }
   },
   "id": "26c50362fb19e42d"
  }
 ],
 "metadata": {
  "kernelspec": {
   "display_name": "Python 3",
   "language": "python",
   "name": "python3"
  },
  "language_info": {
   "codemirror_mode": {
    "name": "ipython",
    "version": 2
   },
   "file_extension": ".py",
   "mimetype": "text/x-python",
   "name": "python",
   "nbconvert_exporter": "python",
   "pygments_lexer": "ipython2",
   "version": "2.7.6"
  }
 },
 "nbformat": 4,
 "nbformat_minor": 5
}
